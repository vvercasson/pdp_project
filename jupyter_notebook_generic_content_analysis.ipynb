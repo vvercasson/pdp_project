{
 "cells": [
  {
   "cell_type": "markdown",
   "metadata": {
    "tags": []
   },
   "source": [
    "# Generic Content Analysis"
   ]
  },
  {
   "cell_type": "markdown",
   "metadata": {
    "tags": []
   },
   "source": [
    "\n",
    "## ⚠️ PLEASE READ BEFORE DOING ANYTHING ⚠️\n",
    "\n",
    "Welcome to this online coding environment ! \n",
    "You are currently running a *Jupyter notebook* that we hope to be usefull for content analysis of questionnaires. \n",
    "\n",
    ">Each cell can be ran individually (pressing the \"Play\" ▶ button or pressing CTRL+ENTER in the each cell). In order to make everything run smoothly, it is **strongly** recommended to run them in order. \n",
    "\n",
    ">***RECOMMANDED:*** You can also run all the cells at the same time : \"Run\" → \"Run All Cells\".<br>\n",
    "> ⚠️ If you choose this option and want to analyse your own data, we suggest that you configure correctly the `experiment`, `import_file` and `references` variables before running all the cells once, then adjust the `max_radius` variable of Figure 4. \n",
    "\n",
    "At the end of the execution, you will have the opportunity to save all yours results in an HTML file, executing `\"File\" → \"Save and Export Notebook as\" → \"HTML\"` \n",
    "\n",
    "If you have chosen to run every cell individually, please begin by running the following cell that imports all the required package for our code to work correctly ↓"
   ]
  },
  {
   "cell_type": "code",
   "execution_count": null,
   "metadata": {
    "id": "VzoMEEmaImQO",
    "init_cell": true,
    "tags": []
   },
   "outputs": [],
   "source": [
    "%%capture\n",
    "######### IMPORTS #########\n",
    "import pandas as pd\n",
    "import numpy as np \n",
    "from sklearn.metrics import jaccard_score\n",
    "from sklearn.preprocessing import normalize\n",
    "from scipy.stats import spearmanr\n",
    "\n",
    "import plotly.express as px\n",
    "import plotly.graph_objects as go\n",
    "from ipywidgets import Layout, FileUpload, Button, Box, VBox, HBox, Dropdown, Output, interactive_output, Checkbox, GridBox\n",
    "\n",
    "from IPython.display import display\n",
    "import asyncio\n",
    "import io\n",
    "from threading import Thread\n",
    "\n",
    "from analysis_gui.forms import *\n",
    "\n",
    "import warnings\n",
    "warnings.filterwarnings('ignore')\n",
    "\n",
    "############################\n",
    "\n",
    "############## GLOBALS ##############\n",
    "# TYPE_XSL = \"application/vnd.ms-excel\"\n",
    "# TYPE_XLSX = \"application/vnd.openxmlformats-officedocument.spreadsheetml.sheet\"\n",
    "\n",
    "# df = None\n",
    "# experiment = \"\"\n",
    "#####################################\n",
    "\n",
    "#Required package to download the image\n",
    "# !wget https://github.com/plotly/orca/releases/download/v1.2.1/orca-1.2.1-x86_64.AppImage -O /usr/local/bin/orca\n",
    "# !chmod +x /usr/local/bin/orca\n",
    "# !apt-get install xvfb libgtk2.0-0 libgconf-2-4"
   ]
  },
  {
   "cell_type": "markdown",
   "metadata": {
    "id": "MSKzbWLbPOtR",
    "tags": []
   },
   "source": [
    "---\n",
    "# Data import"
   ]
  },
  {
   "cell_type": "markdown",
   "metadata": {
    "id": "repZgtSNU7WC",
    "tags": []
   },
   "source": [
    "By default, this repository is configured to make you compute your own results (`experiment = \"Custom\"`), but we also configured it to reproduce some previous analyses:\n",
    "\n",
    "* option `experiment = \"Gauld2023_OSAS_content_analysis\"` : Gauld C, Baillieul S, Martin VP, Richaud A, Pelou M, Abi-Saab P,Coelho J, Philip P, Pépin JL, Micoulaud-Franchi JA. \n",
    "What evaluate obstructive sleep apnea patient-based screening questionnaires? A systematic and quantified item content analysis. *Under review* \n",
    "\n",
    "* option `experiment = \"Gauld2023_sleep_content_analysis\"`: \n",
    " Gauld C, Martin VP, Richaud A, Bailleul S, Lucie V, Perromat JL, Zreik I, Taillard J, Geoffroy PA, Lopez R, Micoulaud-Franchi JA. Systematic Item Content and Overlap Analysis of Self-reported Multiple Sleep Disorders Screening Questionnaires in Adults. *Journal of Clinical Medicine*. [https://doi.org/10.3390/jcm12030852](https://doi.org/10.3390/jcm12030852) \n",
    "\n",
    "* option `experiment = \"Fried2017\"` : Fried EI. The 52 symptoms of major depression: Lack of content overlap among seven common depression scales. *Journal of Affective Disorders*. 2017 Jan;208:191–7. \n"
   ]
  },
  {
   "cell_type": "markdown",
   "metadata": {
    "tags": []
   },
   "source": [
    "## Correct symptom file formatting\n",
    "\n",
    "For this notebook to work correcly, your symptom file should be formatted the following way : \n",
    "* the four first columns must be the category (named \"Category\" in our example), subcategory (named \"Subcategory\" in our example), the abbreviation for the symptom (as shown in the Figure, named \"Ab\" in our example) and the name of the symptom (\"Symptom\" in our example);\n",
    "* the other columns are the different questionnaires, while the line are the different symptoms.\n",
    "* For each questionnaire, the symptoms are coded the following way: \n",
    "    * 0: The symptom is absent from this questionnaire\n",
    "    * 1: The symptom is specific in this questionnaire (i.e. the symptom has bene identified in an item mentionning only one symptom)\n",
    "    * 2: The symptom is componed in this questionnaire (i.e. the symptom has bene identified in an item mentionning at least two symptom)\n",
    "\n",
    "⚠️ If you do not have categories or subcategories, just put empty columns as first or second columns ⚠️"
   ]
  },
  {
   "cell_type": "markdown",
   "metadata": {
    "tags": []
   },
   "source": [
    "## Importing data by uploading an excel file \n",
    "\n",
    "To import your own excel spreadsheet: \n",
    ">* Select \"Custom\" from the dropdown menu below \n",
    ">* Click on the \"Upload\" button ⭱\n",
    ">* Click the \"Confirm\" button ✓\n",
    "\n",
    "This program only accepts `.xsl` and `.xlsx` file formats (excel documents)"
   ]
  },
  {
   "cell_type": "code",
   "execution_count": null,
   "metadata": {
    "init_cell": true,
    "tags": []
   },
   "outputs": [],
   "source": [
    "file_selection = FileSelectionForm()\n",
    "display(file_selection)"
   ]
  },
  {
   "cell_type": "markdown",
   "metadata": {
    "id": "iK8hO_homX6E",
    "tags": []
   },
   "source": [
    "## Reference classifications\n",
    "In the `Gauld2023_sleep_content_analysis` paper, we compare the symptoms of the questionnaires with two references classification (ICSD and DSM). If you have reference columns that you want to compare with but you do not want to compute metrics on, please put them in this table. Otherwise, just let this list empty [ ].\n",
    "\n",
    "⚠️ the name of the references should match PERFECTLY the name of the columns they are in (including uppercases and lowercases, or spaces) ⚠️"
   ]
  },
  {
   "cell_type": "markdown",
   "metadata": {
    "id": "jLT3DLDxlaHg"
   },
   "source": [
    "# Ordering questionnaires and symptoms"
   ]
  },
  {
   "cell_type": "markdown",
   "metadata": {
    "id": "H_04et79Wp_4"
   },
   "source": [
    "First, the questionnaires are classified from having the higher number of symptoms to the lowest."
   ]
  },
  {
   "cell_type": "code",
   "execution_count": null,
   "metadata": {
    "init_cell": true,
    "tags": []
   },
   "outputs": [],
   "source": [
    "ref_selection = ReferenceSelectionForm()\n",
    "file_selection.chain(ref_selection)\n",
    "display(ref_selection)"
   ]
  },
  {
   "cell_type": "markdown",
   "metadata": {
    "id": "dgGMcg8IvzX6"
   },
   "source": [
    "---\n",
    "# 1. Analysis of the number and frequency of symptoms"
   ]
  },
  {
   "cell_type": "markdown",
   "metadata": {},
   "source": [
    "In a first step, we analyse the frequency of the symptoms."
   ]
  },
  {
   "cell_type": "markdown",
   "metadata": {
    "id": "mfyJzGAMqhTZ"
   },
   "source": [
    "## Histogram of number of symptoms"
   ]
  },
  {
   "cell_type": "markdown",
   "metadata": {},
   "source": [
    "### Sorted by number of occurences or category"
   ]
  },
  {
   "cell_type": "code",
   "execution_count": null,
   "metadata": {
    "init_cell": true,
    "tags": []
   },
   "outputs": [],
   "source": [
    "histo = HistogramUI()\n",
    "ref_selection.chain(histo)\n",
    "display(histo)"
   ]
  },
  {
   "cell_type": "markdown",
   "metadata": {
    "id": "3OISRmoSwTGX"
   },
   "source": [
    "## Number of symptoms by questionnaire"
   ]
  },
  {
   "cell_type": "code",
   "execution_count": null,
   "metadata": {
    "init_cell": true,
    "tags": []
   },
   "outputs": [],
   "source": [
    "num_symptoms = NumSymptomsUI()\n",
    "ref_selection.chain(num_symptoms)\n",
    "display(num_symptoms)"
   ]
  },
  {
   "cell_type": "markdown",
   "metadata": {
    "id": "dgGMcg8IvzX6"
   },
   "source": [
    "The table has been save in the online folder (📁 symbol on the left) under the name [table1_symptoms_per_questionnaire.xlsx](./table1_symptoms_per_questionnaire.xlsx). <br>You can change the name and the format of the file changing the name in the `sympt_per_questionnaire.to_excel()` function. \n",
    "<br>⚠️ If you need it, save the excel file on your local computer : these online file will be deleted as soon as you quit this page!"
   ]
  },
  {
   "cell_type": "markdown",
   "metadata": {
    "id": "OC5h01srm0Lo"
   },
   "source": [
    "## Symptoms that are in classifications but not in questionnaires"
   ]
  },
  {
   "cell_type": "code",
   "execution_count": null,
   "metadata": {
    "init_cell": true,
    "tags": []
   },
   "outputs": [],
   "source": [
    "ref_dis = RefDisplayUI()\n",
    "ref_selection.chain(ref_dis)\n",
    "display(ref_dis)"
   ]
  },
  {
   "cell_type": "markdown",
   "metadata": {
    "id": "qw9SetrFK_Sg"
   },
   "source": [
    "## Number of symptoms in each category for each questionnaire"
   ]
  },
  {
   "cell_type": "code",
   "execution_count": null,
   "metadata": {
    "init_cell": true,
    "tags": []
   },
   "outputs": [],
   "source": [
    "numSymCatForm = NumSymCat()\n",
    "ref_selection.chain(numSymCatForm)\n",
    "display(numSymCatForm)"
   ]
  },
  {
   "cell_type": "markdown",
   "metadata": {
    "id": "dgGMcg8IvzX6"
   },
   "source": [
    "The table has been save in the online folder (📁 symbol on the left) under the name [table2_categorie_per_questionnaire.xlsx](./table2_categorie_per_questionnaire.xlsx). <br>You can change the name and the format of the file changing the name in the `cat_per_questionnaire.T.to_excel()` function. \n",
    "<br>⚠️ If you need it, save the excel file on your local computer : these online file will be deleted as soon as you quit this page!"
   ]
  },
  {
   "cell_type": "markdown",
   "metadata": {
    "id": "qXcSGINHJ9Mt"
   },
   "source": [
    "## Distribution across the categories of the symptoms measured by each questionnaire\n",
    "(i.e. same thing as before, but normalized by questionnaire (sum across lines equals 1))."
   ]
  },
  {
   "cell_type": "code",
   "execution_count": null,
   "metadata": {
    "init_cell": true,
    "tags": []
   },
   "outputs": [],
   "source": [
    "distribution_form = DistributionUI()\n",
    "ref_selection.chain(distribution_form)\n",
    "display(distribution_form)"
   ]
  },
  {
   "cell_type": "markdown",
   "metadata": {
    "id": "M9ddyXYaTthc"
   },
   "source": [
    "---\n",
    "# 2. Analysis and data vizualisation of content analysis Figure"
   ]
  },
  {
   "cell_type": "markdown",
   "metadata": {
    "id": "lLJwmyUyYQa0"
   },
   "source": [
    "## Changing shape of data"
   ]
  },
  {
   "cell_type": "code",
   "execution_count": null,
   "metadata": {
    "colab": {
     "base_uri": "https://localhost:8080/",
     "height": 206
    },
    "id": "KqkwIGepYQKw",
    "init_cell": true,
    "outputId": "bb6ff268-639e-4a5f-9e19-f4395e925490",
    "tags": []
   },
   "outputs": [],
   "source": [
    "# changing the shape of data\n",
    "display(common.melt_output)"
   ]
  },
  {
   "cell_type": "markdown",
   "metadata": {
    "id": "yePX1cREmJzO"
   },
   "source": [
    "## Content Analysis Figure"
   ]
  },
  {
   "cell_type": "markdown",
   "metadata": {},
   "source": [
    "If you want to analyse custom data, you will have to set the variable `max_radius` so that the figure have the desired look !"
   ]
  },
  {
   "cell_type": "code",
   "execution_count": null,
   "metadata": {
    "init_cell": true,
    "tags": []
   },
   "outputs": [],
   "source": [
    "circle = CircleForm()\n",
    "ref_selection.chain(circle)\n",
    "display(circle)"
   ]
  },
  {
   "cell_type": "markdown",
   "metadata": {
    "id": "diFlIHLzPFRp"
   },
   "source": [
    "## Overlap between questionnaires - Jaccard Index"
   ]
  },
  {
   "cell_type": "markdown",
   "metadata": {
    "id": "YZ-EHm68I3aO"
   },
   "source": [
    "In order to estimate the overlap between the symptoms measured by the questionnes, calculate the Jaccard index, which is defined as the number of symmtoms that are measured by both questionnaires, divided by the number of unique symptoms measured both questionnaires."
   ]
  },
  {
   "cell_type": "markdown",
   "metadata": {
    "id": "zN-BHyPUw2dF"
   },
   "source": [
    "### Jaccard index of symptom for each pair of questionnaire\n",
    "First, we compute the Jaccard index for each pair of questionnaires and plot it using a heatmap."
   ]
  },
  {
   "cell_type": "code",
   "execution_count": null,
   "metadata": {
    "init_cell": true,
    "tags": []
   },
   "outputs": [],
   "source": [
    "jaccard_table = JaccardTable()\n",
    "ref_selection.chain(jaccard_table)\n",
    "display(jaccard_table)"
   ]
  },
  {
   "cell_type": "markdown",
   "metadata": {
    "id": "dgGMcg8IvzX6"
   },
   "source": [
    "Table 3 has been save in the online folder (📁 symbol on the left) under the name [table3_jaccard_pairs.xlsx](./table3_jaccard_pairs.xlsx). <br>You can change the name and the format of the file changing the name in the `jaccard_table.to_excel()` function. \n",
    "<br>⚠️ If you need it, save the excel file on your local computer : these online file will be deleted as soon as you quit this page!"
   ]
  },
  {
   "cell_type": "code",
   "execution_count": null,
   "metadata": {
    "init_cell": true,
    "tags": []
   },
   "outputs": [],
   "source": [
    "jaccard_heatmap = JaccardHeatmap()\n",
    "ref_selection.chain(jaccard_heatmap)\n",
    "display(jaccard_heatmap)"
   ]
  },
  {
   "cell_type": "markdown",
   "metadata": {
    "id": "dgGMcg8IvzX6"
   },
   "source": [
    "The figure has been save in the online folder (📁 symbol on the left) under the name [figure5_heatmap_jaccard.pdf](figure5_heatmap_jaccard.pdf). <br>You can change the name and the format of the file changing the name in the `#fig.write_image()` function. \n",
    "<br>⚠️ If you want it, save the figure on your local computer : these online file will be deleted as soon as you quit this page!"
   ]
  },
  {
   "cell_type": "markdown",
   "metadata": {
    "id": "F1UPcuVEIxr6"
   },
   "source": [
    "### Avg. Jaccard index\n",
    "Then, we compute the average of Jaccard index for each questionnaire with other questionnaires (excluding the references). "
   ]
  },
  {
   "cell_type": "code",
   "execution_count": null,
   "metadata": {
    "colab": {
     "base_uri": "https://localhost:8080/",
     "height": 443
    },
    "id": "kZWl2KxpIAu1",
    "init_cell": true,
    "outputId": "60844259-0542-47a3-8834-de586fd09b50",
    "tags": []
   },
   "outputs": [],
   "source": [
    "jaccard_idx = AverageJaccardIndex()\n",
    "ref_selection.chain(jaccard_idx)\n",
    "display(jaccard_idx)"
   ]
  },
  {
   "cell_type": "markdown",
   "metadata": {
    "id": "dgGMcg8IvzX6"
   },
   "source": [
    "Table 4 has been save in the online folder (📁 symbol on the left) under the name [table4_jaccard_average_questionnaires.xlsx](./table4_jaccard_average_questionnaires.xlsx). <br>You can change the name and the format of the file changing the name in the `jaccard.to_excel()` function. \n",
    "<br>⚠️ If you need it, save the excel file on your local computer : these online file will be deleted as soon as you quit this page!"
   ]
  },
  {
   "cell_type": "markdown",
   "metadata": {
    "id": "ZEl9cvZ1Gs6Y"
   },
   "source": [
    "### Correlation between the number of symptoms and the average Jacquart index for each questionnaire "
   ]
  },
  {
   "cell_type": "code",
   "execution_count": null,
   "metadata": {
    "init_cell": true,
    "tags": []
   },
   "outputs": [],
   "source": [
    "correlation = Correlation()\n",
    "ref_selection.chain(correlation)\n",
    "display(correlation)"
   ]
  },
  {
   "cell_type": "markdown",
   "metadata": {
    "id": "HU7E-SuOw7zi"
   },
   "source": [
    "### Jaccard index of symptoms for each pair of questionnaire for each category\n",
    "\n",
    "Computing the same metric (average of average) for each category of questionnaires."
   ]
  },
  {
   "cell_type": "code",
   "execution_count": null,
   "metadata": {
    "init_cell": true,
    "tags": []
   },
   "outputs": [],
   "source": [
    "jaccardPairIndex = JaccardPairIndex('Category')\n",
    "ref_selection.chain(jaccardPairIndex)\n",
    "display(jaccardPairIndex)"
   ]
  },
  {
   "cell_type": "markdown",
   "metadata": {
    "id": "dgGMcg8IvzX6"
   },
   "source": [
    "Table 5 has been save in the online folder (📁 symbol on the left) under the name [table5_jaccard_categories.xlsx](./table5_jaccard_categories.xlsx). <br>You can change the name and the format of the file changing the name in the `res.to_excel()` function. \n",
    "<br>⚠️ If you need it, save the excel file on your local computer : these online file will be deleted as soon as you quit this page!"
   ]
  },
  {
   "cell_type": "markdown",
   "metadata": {},
   "source": [
    "Computing the same metric (average of average) for each subcategory."
   ]
  },
  {
   "cell_type": "code",
   "execution_count": null,
   "metadata": {
    "init_cell": true,
    "tags": []
   },
   "outputs": [],
   "source": [
    "jaccardPairIndexSub = JaccardPairIndex('Subcategory')\n",
    "ref_selection.chain(jaccardPairIndexSub)\n",
    "display(jaccardPairIndexSub)"
   ]
  },
  {
   "cell_type": "markdown",
   "metadata": {},
   "source": [
    "# Sunburst Plot"
   ]
  },
  {
   "cell_type": "code",
   "execution_count": null,
   "metadata": {
    "init_cell": true,
    "tags": []
   },
   "outputs": [],
   "source": [
    "sunburst = SunburstForm()\n",
    "ref_selection.chain(sunburst)\n",
    "display(sunburst)"
   ]
  },
  {
   "cell_type": "markdown",
   "metadata": {},
   "source": [
    "---\n",
    "# Export to html\n",
    "You have reached the end of this notebook. \n",
    "If you want to save the whole page, you can download it to html with dynamic figures:\n",
    ">* \"File\" → \"Save and Export Notebook as\" → \"HTML\" "
   ]
  }
 ],
 "metadata": {
  "colab": {
   "collapsed_sections": [],
   "provenance": []
  },
  "kernelspec": {
   "display_name": "Python 3 (ipykernel)",
   "language": "python",
   "name": "python3"
  },
  "language_info": {
   "codemirror_mode": {
    "name": "ipython",
    "version": 3
   },
   "file_extension": ".py",
   "mimetype": "text/x-python",
   "name": "python",
   "nbconvert_exporter": "python",
   "pygments_lexer": "ipython3",
   "version": "3.7.12"
  },
  "vscode": {
   "interpreter": {
    "hash": "68522a6d5c06a8311fc2294da1fa0b58af198971039928249c933578fb2cb27d"
   }
  },
  "widgets": {
   "application/vnd.jupyter.widget-state+json": {
    "state": {
     "013666770f7c4808853272e65e984cd1": {
      "model_module": "@jupyter-widgets/base",
      "model_module_version": "2.0.0",
      "model_name": "LayoutModel",
      "state": {}
     },
     "067d83dae24040858617428cbca15bc9": {
      "model_module": "@jupyter-widgets/base",
      "model_module_version": "2.0.0",
      "model_name": "LayoutModel",
      "state": {
       "justify_content": "flex-start",
       "width": "100%"
      }
     },
     "06aa681d2f1e4ccea44a9d683f040c7d": {
      "model_module": "@jupyter-widgets/base",
      "model_module_version": "2.0.0",
      "model_name": "LayoutModel",
      "state": {
       "grid_gap": "5px",
       "justify_content": "flex-start",
       "width": "100%"
      }
     },
     "09972c7477e744f4b65412f9f3e3ea6a": {
      "buffers": [
       {
        "data": "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",
        "encoding": "base64",
        "path": [
         "value"
        ]
       }
      ],
      "model_module": "@jupyter-widgets/controls",
      "model_module_version": "2.0.0",
      "model_name": "ImageModel",
      "state": {
       "layout": "IPY_MODEL_d30f842c34ce420cb04f5249733959e5"
      }
     },
     "0a0e448c82f14a46a6e89f2a2e5e7663": {
      "model_module": "@jupyter-widgets/base",
      "model_module_version": "2.0.0",
      "model_name": "LayoutModel",
      "state": {}
     },
     "0a6693d1361a4746b5b96342b4ba0d3e": {
      "model_module": "@jupyter-widgets/controls",
      "model_module_version": "2.0.0",
      "model_name": "SliderStyleModel",
      "state": {
       "description_width": ""
      }
     },
     "0aa9742009a8443b8088fe9e6c08290b": {
      "model_module": "@jupyter-widgets/base",
      "model_module_version": "2.0.0",
      "model_name": "LayoutModel",
      "state": {}
     },
     "0d0fc687a7494730a0ea669c43bcff6d": {
      "model_module": "@jupyter-widgets/base",
      "model_module_version": "2.0.0",
      "model_name": "LayoutModel",
      "state": {}
     },
     "0d3f020951a7481283ceb4956c4ea44e": {
      "model_module": "@jupyter-widgets/base",
      "model_module_version": "2.0.0",
      "model_name": "LayoutModel",
      "state": {}
     },
     "0dbcb364d0a44fe8b4b832297de5eb3c": {
      "model_module": "@jupyter-widgets/base",
      "model_module_version": "2.0.0",
      "model_name": "LayoutModel",
      "state": {
       "display": "none"
      }
     },
     "0f2026eae7e14bc08eb8b8f5e770a0fb": {
      "model_module": "@jupyter-widgets/controls",
      "model_module_version": "2.0.0",
      "model_name": "ButtonStyleModel",
      "state": {
       "font_family": null,
       "font_size": null,
       "font_style": null,
       "font_variant": null,
       "font_weight": null,
       "text_color": null,
       "text_decoration": null
      }
     },
     "0f250446e7764ab2bfd63ef8c57987d1": {
      "model_module": "@jupyter-widgets/base",
      "model_module_version": "2.0.0",
      "model_name": "LayoutModel",
      "state": {
       "grid_gap": "10px",
       "justify_content": "flex-start",
       "width": "100%"
      }
     },
     "0f4d51c39109468c91e8409c5babed64": {
      "model_module": "@jupyter-widgets/controls",
      "model_module_version": "2.0.0",
      "model_name": "ButtonModel",
      "state": {
       "description": "Generate",
       "icon": "play-circle",
       "layout": "IPY_MODEL_3306cd2b42914dd3af179a756dc3b4e8",
       "style": "IPY_MODEL_4aae4c511e334da68ab04d9777ca9c6a",
       "tooltip": "Generate with the above references"
      }
     },
     "0f7e0b62716049249268978189795def": {
      "model_module": "@jupyter-widgets/base",
      "model_module_version": "2.0.0",
      "model_name": "LayoutModel",
      "state": {}
     },
     "1056f752200b4bffabee45ecc5d0200f": {
      "model_module": "@jupyter-widgets/base",
      "model_module_version": "2.0.0",
      "model_name": "LayoutModel",
      "state": {}
     },
     "118e3ea9e9ed47a5967a5b8cedfd2420": {
      "model_module": "@jupyter-widgets/controls",
      "model_module_version": "2.0.0",
      "model_name": "HBoxModel",
      "state": {
       "children": [
        "IPY_MODEL_f0bbda336da5402d8f6de8bfe5ab00ab",
        "IPY_MODEL_3ad5045f014e4e269eb1c0b93a7a3a88"
       ],
       "layout": "IPY_MODEL_0f250446e7764ab2bfd63ef8c57987d1"
      }
     },
     "11ad19fe115f4420a525461455860fe1": {
      "model_module": "@jupyter-widgets/base",
      "model_module_version": "2.0.0",
      "model_name": "LayoutModel",
      "state": {}
     },
     "122ba4128e7a46028e9c029f677dd2b8": {
      "model_module": "@jupyter-widgets/controls",
      "model_module_version": "2.0.0",
      "model_name": "CheckboxStyleModel",
      "state": {
       "description_width": ""
      }
     },
     "13795684a1014c34bd1ff9f38d23ab28": {
      "model_module": "@jupyter-widgets/controls",
      "model_module_version": "2.0.0",
      "model_name": "ButtonStyleModel",
      "state": {
       "font_family": null,
       "font_size": null,
       "font_style": null,
       "font_variant": null,
       "font_weight": null,
       "text_color": null,
       "text_decoration": null
      }
     },
     "13da7a537a10462f92458846800bd235": {
      "model_module": "@jupyter-widgets/base",
      "model_module_version": "2.0.0",
      "model_name": "LayoutModel",
      "state": {
       "width": "100%"
      }
     },
     "153df4c9f8fb444080a1443356e96257": {
      "model_module": "@jupyter-widgets/base",
      "model_module_version": "2.0.0",
      "model_name": "LayoutModel",
      "state": {
       "grid_template_columns": "repeat(3, 33%)"
      }
     },
     "16b6b33fbfc342798b3ed00bd2fd2c02": {
      "model_module": "@jupyter-widgets/controls",
      "model_module_version": "2.0.0",
      "model_name": "VBoxModel",
      "state": {
       "children": [
        "IPY_MODEL_853cfd8834c144e1a1c78a7355040405",
        "IPY_MODEL_45a7fb6761e045b8ac7ccdde75ba8015",
        "IPY_MODEL_845ea37f962d4046ab669892b8fd0fa3"
       ],
       "layout": "IPY_MODEL_6d06c64c897f4b2eab05dbd4e6855f78"
      }
     },
     "183e2c26a8c64342bd15cb983f3d79f4": {
      "model_module": "@jupyter-widgets/base",
      "model_module_version": "2.0.0",
      "model_name": "LayoutModel",
      "state": {}
     },
     "18a462c812634753b9bc4d51216042a3": {
      "model_module": "@jupyter-widgets/base",
      "model_module_version": "2.0.0",
      "model_name": "LayoutModel",
      "state": {}
     },
     "19d2276202b344529e7cb5affd3a0668": {
      "model_module": "@jupyter-widgets/output",
      "model_module_version": "1.0.0",
      "model_name": "OutputModel",
      "state": {
       "layout": "IPY_MODEL_f8bc7769f8914583a7d3881267dca053"
      }
     },
     "1c4c55415d8641e79f34cedb4c02ac94": {
      "model_module": "@jupyter-widgets/base",
      "model_module_version": "2.0.0",
      "model_name": "LayoutModel",
      "state": {}
     },
     "1c73e53baed0408a81286010868cf259": {
      "model_module": "@jupyter-widgets/controls",
      "model_module_version": "2.0.0",
      "model_name": "CheckboxModel",
      "state": {
       "description": "AS",
       "disabled": false,
       "layout": "IPY_MODEL_6ea168ada8894097a4703e5b6548855e",
       "style": "IPY_MODEL_a682e8ebfe8a422eb11ad0589b86b154",
       "value": false
      }
     },
     "1db90f0fd5c74f34a70aeae92fe5298e": {
      "model_module": "@jupyter-widgets/base",
      "model_module_version": "2.0.0",
      "model_name": "LayoutModel",
      "state": {}
     },
     "201d52e361e448aa9ca387dd5c0a06a2": {
      "model_module": "@jupyter-widgets/base",
      "model_module_version": "2.0.0",
      "model_name": "LayoutModel",
      "state": {
       "grid_gap": "10px",
       "justify_content": "flex-start",
       "width": "100%"
      }
     },
     "209c3cad51d4485699e9d09d10adee67": {
      "model_module": "@jupyter-widgets/base",
      "model_module_version": "2.0.0",
      "model_name": "LayoutModel",
      "state": {
       "align_items": "flex-start",
       "grid_gap": "10px",
       "overflow": "visible",
       "width": "max-content"
      }
     },
     "21c08930241f4fe1a139b2351b335ff7": {
      "model_module": "@jupyter-widgets/base",
      "model_module_version": "2.0.0",
      "model_name": "LayoutModel",
      "state": {}
     },
     "21ea33d34b3b48c399104ca3b586c61c": {
      "model_module": "@jupyter-widgets/output",
      "model_module_version": "1.0.0",
      "model_name": "OutputModel",
      "state": {
       "layout": "IPY_MODEL_ad93bd7a4cf5455d9ef307ffe58b8608",
       "outputs": [
        {
         "data": {
          "text/html": "<div>\n<style scoped>\n    .dataframe tbody tr th:only-of-type {\n        vertical-align: middle;\n    }\n\n    .dataframe tbody tr th {\n        vertical-align: top;\n    }\n\n    .dataframe thead th {\n        text-align: right;\n    }\n</style>\n<table border=\"1\" class=\"dataframe\">\n  <thead>\n    <tr style=\"text-align: right;\">\n      <th></th>\n      <th>Category</th>\n      <th>Subcategory</th>\n      <th>Ab</th>\n      <th>Symptom</th>\n      <th>ASA</th>\n      <th>SA-SDQ</th>\n      <th>STOP-Bang</th>\n      <th>Berlin</th>\n      <th>Haraldsson</th>\n      <th>NoSAS</th>\n      <th>STOP</th>\n      <th>GOAL</th>\n      <th>OSA 50</th>\n      <th>AS</th>\n      <th>Wisconsin Q</th>\n    </tr>\n  </thead>\n  <tbody>\n    <tr>\n      <th>0</th>\n      <td>OSA symptoms</td>\n      <td>Snoring</td>\n      <td>S001</td>\n      <td>Snoring</td>\n      <td>1</td>\n      <td>0</td>\n      <td>0</td>\n      <td>1</td>\n      <td>1</td>\n      <td>1</td>\n      <td>0</td>\n      <td>0</td>\n      <td>0</td>\n      <td>2</td>\n      <td>1</td>\n    </tr>\n    <tr>\n      <th>1</th>\n      <td>OSA symptoms</td>\n      <td>Snoring</td>\n      <td>S002</td>\n      <td>Loud Snoring</td>\n      <td>1</td>\n      <td>1</td>\n      <td>1</td>\n      <td>1</td>\n      <td>0</td>\n      <td>0</td>\n      <td>1</td>\n      <td>1</td>\n      <td>0</td>\n      <td>2</td>\n      <td>1</td>\n    </tr>\n    <tr>\n      <th>2</th>\n      <td>OSA symptoms</td>\n      <td>Breath abnormalities-related complaints</td>\n      <td>S003</td>\n      <td>Self-complaints of breath abnormalities</td>\n      <td>2</td>\n      <td>1</td>\n      <td>0</td>\n      <td>0</td>\n      <td>0</td>\n      <td>0</td>\n      <td>0</td>\n      <td>0</td>\n      <td>0</td>\n      <td>0</td>\n      <td>0</td>\n    </tr>\n    <tr>\n      <th>3</th>\n      <td>OSA symptoms</td>\n      <td>Breath abnormalities-related complaints</td>\n      <td>S004</td>\n      <td>Breath abnormalities complaints reported by other</td>\n      <td>0</td>\n      <td>0</td>\n      <td>0</td>\n      <td>1</td>\n      <td>0</td>\n      <td>0</td>\n      <td>0</td>\n      <td>0</td>\n      <td>1</td>\n      <td>0</td>\n      <td>0</td>\n    </tr>\n    <tr>\n      <th>4</th>\n      <td>OSA symptoms</td>\n      <td>Breath abnormalities-related complaints</td>\n      <td>S005</td>\n      <td>Sweating</td>\n      <td>0</td>\n      <td>1</td>\n      <td>0</td>\n      <td>0</td>\n      <td>0</td>\n      <td>0</td>\n      <td>0</td>\n      <td>0</td>\n      <td>0</td>\n      <td>0</td>\n      <td>0</td>\n    </tr>\n  </tbody>\n</table>\n</div>",
          "text/plain": "       Category                              Subcategory    Ab  \\\n0  OSA symptoms                                  Snoring  S001   \n1  OSA symptoms                                  Snoring  S002   \n2  OSA symptoms  Breath abnormalities-related complaints  S003   \n3  OSA symptoms  Breath abnormalities-related complaints  S004   \n4  OSA symptoms  Breath abnormalities-related complaints  S005   \n\n                                             Symptom  ASA  SA-SDQ  STOP-Bang  \\\n0                                            Snoring    1       0          0   \n1                                       Loud Snoring    1       1          1   \n2           Self-complaints of breath abnormalities     2       1          0   \n3  Breath abnormalities complaints reported by other    0       0          0   \n4                                           Sweating    0       1          0   \n\n   Berlin  Haraldsson  NoSAS  STOP  GOAL  OSA 50  AS  Wisconsin Q  \n0       1           1      1     0     0       0   2            1  \n1       1           0      0     1     1       0   2            1  \n2       0           0      0     0     0       0   0            0  \n3       1           0      0     0     0       1   0            0  \n4       0           0      0     0     0       0   0            0  "
         },
         "metadata": {},
         "output_type": "display_data"
        },
        {
         "data": {
          "text/html": "<div>\n<style scoped>\n    .dataframe tbody tr th:only-of-type {\n        vertical-align: middle;\n    }\n\n    .dataframe tbody tr th {\n        vertical-align: top;\n    }\n\n    .dataframe thead th {\n        text-align: right;\n    }\n</style>\n<table border=\"1\" class=\"dataframe\">\n  <thead>\n    <tr style=\"text-align: right;\">\n      <th></th>\n      <th>Category</th>\n      <th>Subcategory</th>\n      <th>Ab</th>\n      <th>Symptom</th>\n      <th>ASA</th>\n      <th>SA-SDQ</th>\n      <th>STOP-Bang</th>\n      <th>Berlin</th>\n      <th>Haraldsson</th>\n      <th>NoSAS</th>\n      <th>STOP</th>\n      <th>GOAL</th>\n      <th>OSA 50</th>\n      <th>AS</th>\n      <th>Wisconsin Q</th>\n      <th>sum_symptoms</th>\n    </tr>\n  </thead>\n  <tbody>\n    <tr>\n      <th>5</th>\n      <td>OSA symptoms</td>\n      <td>Breath abnormalities observations</td>\n      <td>S006</td>\n      <td>Stop breathing observations</td>\n      <td>1</td>\n      <td>1</td>\n      <td>1</td>\n      <td>1</td>\n      <td>1</td>\n      <td>0</td>\n      <td>1</td>\n      <td>0</td>\n      <td>1</td>\n      <td>1</td>\n      <td>1</td>\n      <td>9</td>\n    </tr>\n    <tr>\n      <th>1</th>\n      <td>OSA symptoms</td>\n      <td>Snoring</td>\n      <td>S002</td>\n      <td>Loud Snoring</td>\n      <td>1</td>\n      <td>1</td>\n      <td>1</td>\n      <td>1</td>\n      <td>0</td>\n      <td>0</td>\n      <td>1</td>\n      <td>1</td>\n      <td>0</td>\n      <td>2</td>\n      <td>1</td>\n      <td>8</td>\n    </tr>\n    <tr>\n      <th>0</th>\n      <td>OSA symptoms</td>\n      <td>Snoring</td>\n      <td>S001</td>\n      <td>Snoring</td>\n      <td>1</td>\n      <td>0</td>\n      <td>0</td>\n      <td>1</td>\n      <td>1</td>\n      <td>1</td>\n      <td>0</td>\n      <td>0</td>\n      <td>0</td>\n      <td>2</td>\n      <td>1</td>\n      <td>6</td>\n    </tr>\n    <tr>\n      <th>19</th>\n      <td>Clinical characteristics</td>\n      <td>Anthropometric</td>\n      <td>S020</td>\n      <td>BMI</td>\n      <td>1</td>\n      <td>1</td>\n      <td>1</td>\n      <td>1</td>\n      <td>0</td>\n      <td>1</td>\n      <td>0</td>\n      <td>1</td>\n      <td>0</td>\n      <td>0</td>\n      <td>0</td>\n      <td>6</td>\n    </tr>\n    <tr>\n      <th>9</th>\n      <td>Sleep-related symptoms</td>\n      <td>Sleepiness</td>\n      <td>S010</td>\n      <td>Fatigue</td>\n      <td>2</td>\n      <td>0</td>\n      <td>2</td>\n      <td>1</td>\n      <td>2</td>\n      <td>0</td>\n      <td>2</td>\n      <td>0</td>\n      <td>0</td>\n      <td>0</td>\n      <td>0</td>\n      <td>5</td>\n    </tr>\n  </tbody>\n</table>\n</div>",
          "text/plain": "                    Category                        Subcategory    Ab  \\\n5               OSA symptoms  Breath abnormalities observations  S006   \n1               OSA symptoms                            Snoring  S002   \n0               OSA symptoms                            Snoring  S001   \n19  Clinical characteristics                     Anthropometric  S020   \n9     Sleep-related symptoms                         Sleepiness  S010   \n\n                        Symptom  ASA  SA-SDQ  STOP-Bang  Berlin  Haraldsson  \\\n5   Stop breathing observations    1       1          1       1           1   \n1                  Loud Snoring    1       1          1       1           0   \n0                       Snoring    1       0          0       1           1   \n19                          BMI    1       1          1       1           0   \n9                       Fatigue    2       0          2       1           2   \n\n    NoSAS  STOP  GOAL  OSA 50  AS  Wisconsin Q  sum_symptoms  \n5       0     1     0       1   1            1             9  \n1       0     1     1       0   2            1             8  \n0       1     0     0       0   2            1             6  \n19      1     0     1       0   0            0             6  \n9       0     2     0       0   0            0             5  "
         },
         "metadata": {},
         "output_type": "display_data"
        }
       ]
      }
     },
     "24f0f198daaa41e28c90349905bf17c3": {
      "model_module": "@jupyter-widgets/base",
      "model_module_version": "2.0.0",
      "model_name": "LayoutModel",
      "state": {
       "grid_gap": "10px",
       "justify_content": "flex-start",
       "width": "100%"
      }
     },
     "2503556fa60a48ceaa0fe3c156363d81": {
      "model_module": "@jupyter-widgets/controls",
      "model_module_version": "2.0.0",
      "model_name": "TextModel",
      "state": {
       "layout": "IPY_MODEL_c7cf52ac8b5d405a8516706ce1cc4fb9",
       "placeholder": "File name (figure_example.pdf)",
       "style": "IPY_MODEL_c2f016baa2ea485f9094db57f104a7d0",
       "tooltip": "Supported formats: ['png', 'jpg', 'jpeg', 'webp', 'svg', 'pdf', 'eps', 'json']"
      }
     },
     "26c81a069cac405a8d8b08572b91d09d": {
      "model_module": "@jupyter-widgets/controls",
      "model_module_version": "2.0.0",
      "model_name": "CheckboxModel",
      "state": {
       "description": "Haraldsson",
       "disabled": false,
       "layout": "IPY_MODEL_0f7e0b62716049249268978189795def",
       "style": "IPY_MODEL_f42d945de2ad472e986c475cd05508ab",
       "value": false
      }
     },
     "27b7d4fc2aa14f6fa4fc3385dc8baced": {
      "model_module": "@jupyter-widgets/controls",
      "model_module_version": "2.0.0",
      "model_name": "HBoxModel",
      "state": {
       "children": [
        "IPY_MODEL_0f4d51c39109468c91e8409c5babed64"
       ],
       "layout": "IPY_MODEL_b6350f3c44a94bf392b60adc5245bf04"
      }
     },
     "290acaf9fec24ba38e4483896d90fcfc": {
      "model_module": "@jupyter-widgets/base",
      "model_module_version": "2.0.0",
      "model_name": "LayoutModel",
      "state": {}
     },
     "29ac01bbd9f9468888adac29f1442af3": {
      "model_module": "@jupyter-widgets/base",
      "model_module_version": "2.0.0",
      "model_name": "LayoutModel",
      "state": {}
     },
     "29ec4610279942679388f3c7f162a2e3": {
      "model_module": "@jupyter-widgets/controls",
      "model_module_version": "2.0.0",
      "model_name": "VBoxModel",
      "state": {
       "children": [
        "IPY_MODEL_3aa9af817bbc4ec2a9e7d1943cd6ee08"
       ],
       "layout": "IPY_MODEL_faec59b3e09b4151b6f13f7240025892"
      }
     },
     "2aa29d22c513444f96f426f57e0be282": {
      "model_module": "@jupyter-widgets/base",
      "model_module_version": "2.0.0",
      "model_name": "LayoutModel",
      "state": {}
     },
     "2b2bfa46f32b4ddea6ab3846f83531c7": {
      "model_module": "@jupyter-widgets/controls",
      "model_module_version": "2.0.0",
      "model_name": "IntSliderModel",
      "state": {
       "behavior": "drag-tap",
       "description": "Height :",
       "layout": "IPY_MODEL_bc5e5df74c9a481a93c4205a3f9da179",
       "max": 1280,
       "min": 300,
       "style": "IPY_MODEL_aed653e0f0cd4890805732d78c00bacf",
       "value": 500
      }
     },
     "2bff2b445b374386b6027097600ab5db": {
      "model_module": "@jupyter-widgets/controls",
      "model_module_version": "2.0.0",
      "model_name": "VBoxModel",
      "state": {
       "children": [
        "IPY_MODEL_81033372538f4c409341624d163b60df",
        "IPY_MODEL_9cf854dba31a43b2a169fb22bdf56848",
        "IPY_MODEL_950f72ccda52429d81002788fb639a7a"
       ],
       "layout": "IPY_MODEL_6fa0434919704ca29ea0e8e4f89a7b85"
      }
     },
     "2c859f1a7a094074a56319649a696cd5": {
      "model_module": "@jupyter-widgets/controls",
      "model_module_version": "2.0.0",
      "model_name": "SliderStyleModel",
      "state": {
       "description_width": ""
      }
     },
     "2de93beea53045689fd2baca91b6fa1b": {
      "model_module": "@jupyter-widgets/base",
      "model_module_version": "2.0.0",
      "model_name": "LayoutModel",
      "state": {}
     },
     "2df79a3425e64658b1e098f8a575cd8d": {
      "model_module": "@jupyter-widgets/controls",
      "model_module_version": "2.0.0",
      "model_name": "CheckboxModel",
      "state": {
       "description": "SA-SDQ",
       "disabled": false,
       "layout": "IPY_MODEL_764e1711bd224084874ef9926ee44a5b",
       "style": "IPY_MODEL_b813ac58cc9845609b505558603c69e5",
       "value": false
      }
     },
     "3050b2597c314d43a7a511097884d726": {
      "model_module": "@jupyter-widgets/base",
      "model_module_version": "2.0.0",
      "model_name": "LayoutModel",
      "state": {
       "height": "15px",
       "visibility": "hidden",
       "width": "15px"
      }
     },
     "30a75028bd3a4747a95dcbf751eec23c": {
      "model_module": "@jupyter-widgets/controls",
      "model_module_version": "2.0.0",
      "model_name": "DropdownModel",
      "state": {
       "_options_labels": [
        "Fried2017",
        "Gauld2023_OSAS_content_analysis",
        "Gauld2023_sleep_content_analysis",
        "Custom"
       ],
       "description": "Expérience",
       "index": 1,
       "layout": "IPY_MODEL_c00a8dc33a474631b6fb4b18129dc6e4",
       "style": "IPY_MODEL_a1d7154ce86041e69678c8f9e32daad0"
      }
     },
     "30b100050da14372a9e861a02e3200a7": {
      "model_module": "@jupyter-widgets/controls",
      "model_module_version": "2.0.0",
      "model_name": "ButtonStyleModel",
      "state": {
       "font_family": null,
       "font_size": null,
       "font_style": null,
       "font_variant": null,
       "font_weight": null,
       "text_color": null,
       "text_decoration": null
      }
     },
     "315b65e88bfa4bcca28fd21cc6cadc04": {
      "model_module": "@jupyter-widgets/base",
      "model_module_version": "2.0.0",
      "model_name": "LayoutModel",
      "state": {
       "height": "15px",
       "visibility": "hidden",
       "width": "15px"
      }
     },
     "327b875af4414664be8a802c241c0942": {
      "model_module": "@jupyter-widgets/controls",
      "model_module_version": "2.0.0",
      "model_name": "CheckboxModel",
      "state": {
       "description": "Wisconsin Q",
       "disabled": false,
       "layout": "IPY_MODEL_2de93beea53045689fd2baca91b6fa1b",
       "style": "IPY_MODEL_761672da94cf4e9cafca26b084aa6483",
       "value": false
      }
     },
     "3306cd2b42914dd3af179a756dc3b4e8": {
      "model_module": "@jupyter-widgets/base",
      "model_module_version": "2.0.0",
      "model_name": "LayoutModel",
      "state": {}
     },
     "33366a7b92ce4d89a3966d27f0d2f9fa": {
      "model_module": "@jupyter-widgets/base",
      "model_module_version": "2.0.0",
      "model_name": "LayoutModel",
      "state": {
       "height": "15px",
       "visibility": "hidden",
       "width": "15px"
      }
     },
     "336bee1c7ffb48d8b292fe9784d5dd83": {
      "model_module": "@jupyter-widgets/controls",
      "model_module_version": "2.0.0",
      "model_name": "VBoxModel",
      "state": {
       "children": [
        "IPY_MODEL_c1a0408755f74522ad1246c5f9472e58",
        "IPY_MODEL_fcfb976a283849d7aa39df9715ea9de7",
        "IPY_MODEL_9cecaf36f62844a0967b1438549f3fdd"
       ],
       "layout": "IPY_MODEL_d9a3e0c65c9c4091bbf76f52212054ff"
      }
     },
     "34e4898189ac430d83ab17ed2255b7e8": {
      "model_module": "@jupyter-widgets/base",
      "model_module_version": "2.0.0",
      "model_name": "LayoutModel",
      "state": {
       "grid_gap": "5px",
       "justify_content": "flex-start",
       "width": "100%"
      }
     },
     "3524493de6654464b587c231bb885a27": {
      "model_module": "@jupyter-widgets/base",
      "model_module_version": "2.0.0",
      "model_name": "LayoutModel",
      "state": {}
     },
     "353c285fd6a14acd801d3464fb9194fc": {
      "model_module": "@jupyter-widgets/controls",
      "model_module_version": "2.0.0",
      "model_name": "TextStyleModel",
      "state": {
       "description_width": "",
       "font_size": null,
       "text_color": null
      }
     },
     "36858de3b24f433d9028469085ee23ab": {
      "model_module": "@jupyter-widgets/controls",
      "model_module_version": "2.0.0",
      "model_name": "VBoxModel",
      "state": {
       "children": [
        "IPY_MODEL_abcb01b34af4457b8fde3ee1df93fbec",
        "IPY_MODEL_27b7d4fc2aa14f6fa4fc3385dc8baced",
        "IPY_MODEL_21ea33d34b3b48c399104ca3b586c61c"
       ],
       "layout": "IPY_MODEL_4d9f867619c9496981235da79c0f11be"
      }
     },
     "36e95feae7d7438a8ef4d72229c73892": {
      "buffers": [
       {
        "data": "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",
        "encoding": "base64",
        "path": [
         "value"
        ]
       }
      ],
      "model_module": "@jupyter-widgets/controls",
      "model_module_version": "2.0.0",
      "model_name": "ImageModel",
      "state": {
       "layout": "IPY_MODEL_3050b2597c314d43a7a511097884d726"
      }
     },
     "37099b6310434a038c8a30d243936353": {
      "model_module": "@jupyter-widgets/base",
      "model_module_version": "2.0.0",
      "model_name": "LayoutModel",
      "state": {
       "width": "100%"
      }
     },
     "3793a316694745ec988f34c34b165226": {
      "model_module": "@jupyter-widgets/controls",
      "model_module_version": "2.0.0",
      "model_name": "HBoxModel",
      "state": {
       "children": [
        "IPY_MODEL_72acdc00657c407597f081e70415a5a5",
        "IPY_MODEL_51cc139c3e3943b4aaf1f975b76e7e8c",
        "IPY_MODEL_3995b8eaccde4687b5b6672bf4a4ef5e",
        "IPY_MODEL_a98439f3c5d94eb1897840309ef56176"
       ],
       "layout": "IPY_MODEL_b67c515817e543ea8a8a30eaa9283844"
      }
     },
     "37dd6f515d464305949fdb23b8a13582": {
      "model_module": "@jupyter-widgets/controls",
      "model_module_version": "2.0.0",
      "model_name": "TextModel",
      "state": {
       "layout": "IPY_MODEL_a92716d897654bea8115bd9c2a68e783",
       "placeholder": "File name (figure_example.pdf)",
       "style": "IPY_MODEL_45fcbcd892c84cc2a909ab3632db71c4",
       "tooltip": "Supported formats: ['png', 'jpg', 'jpeg', 'webp', 'svg', 'pdf', 'eps', 'json']"
      }
     },
     "3980723e6bf44662972f16c9b79fdab9": {
      "model_module": "@jupyter-widgets/base",
      "model_module_version": "2.0.0",
      "model_name": "LayoutModel",
      "state": {}
     },
     "3995b8eaccde4687b5b6672bf4a4ef5e": {
      "buffers": [
       {
        "data": "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",
        "encoding": "base64",
        "path": [
         "value"
        ]
       }
      ],
      "model_module": "@jupyter-widgets/controls",
      "model_module_version": "2.0.0",
      "model_name": "ImageModel",
      "state": {
       "layout": "IPY_MODEL_c4a5f62ee3d64ce8965130a91194313f"
      }
     },
     "3aa9af817bbc4ec2a9e7d1943cd6ee08": {
      "model_module": "@jupyter-widgets/output",
      "model_module_version": "1.0.0",
      "model_name": "OutputModel",
      "state": {
       "layout": "IPY_MODEL_b832d902373041069497868dbc7d5329",
       "outputs": [
        {
         "data": {
          "text/html": "<div>\n<style scoped>\n    .dataframe tbody tr th:only-of-type {\n        vertical-align: middle;\n    }\n\n    .dataframe tbody tr th {\n        vertical-align: top;\n    }\n\n    .dataframe thead th {\n        text-align: right;\n    }\n</style>\n<table border=\"1\" class=\"dataframe\">\n  <thead>\n    <tr style=\"text-align: right;\">\n      <th></th>\n      <th>ASA</th>\n      <th>SA-SDQ</th>\n      <th>STOP-Bang</th>\n      <th>Berlin</th>\n      <th>Haraldsson</th>\n      <th>NoSAS</th>\n      <th>STOP</th>\n      <th>GOAL</th>\n      <th>OSA 50</th>\n      <th>AS</th>\n      <th>Wisconsin Q</th>\n    </tr>\n  </thead>\n  <tbody>\n    <tr>\n      <th>ASA</th>\n      <td>1.000000</td>\n      <td>0.263158</td>\n      <td>0.375000</td>\n      <td>0.375000</td>\n      <td>0.333333</td>\n      <td>0.200000</td>\n      <td>0.285714</td>\n      <td>0.133333</td>\n      <td>0.062500</td>\n      <td>0.307692</td>\n      <td>0.230769</td>\n    </tr>\n    <tr>\n      <th>SA-SDQ</th>\n      <td>0.263158</td>\n      <td>1.000000</td>\n      <td>0.333333</td>\n      <td>0.250000</td>\n      <td>0.125000</td>\n      <td>0.142857</td>\n      <td>0.230769</td>\n      <td>0.250000</td>\n      <td>0.153846</td>\n      <td>0.153846</td>\n      <td>0.166667</td>\n    </tr>\n    <tr>\n      <th>STOP-Bang</th>\n      <td>0.375000</td>\n      <td>0.333333</td>\n      <td>1.000000</td>\n      <td>0.384615</td>\n      <td>0.230769</td>\n      <td>0.400000</td>\n      <td>0.555556</td>\n      <td>0.444444</td>\n      <td>0.181818</td>\n      <td>0.181818</td>\n      <td>0.200000</td>\n    </tr>\n    <tr>\n      <th>Berlin</th>\n      <td>0.375000</td>\n      <td>0.250000</td>\n      <td>0.384615</td>\n      <td>1.000000</td>\n      <td>0.230769</td>\n      <td>0.166667</td>\n      <td>0.400000</td>\n      <td>0.181818</td>\n      <td>0.181818</td>\n      <td>0.300000</td>\n      <td>0.333333</td>\n    </tr>\n    <tr>\n      <th>Haraldsson</th>\n      <td>0.333333</td>\n      <td>0.125000</td>\n      <td>0.230769</td>\n      <td>0.230769</td>\n      <td>1.000000</td>\n      <td>0.090909</td>\n      <td>0.333333</td>\n      <td>0.000000</td>\n      <td>0.100000</td>\n      <td>0.222222</td>\n      <td>0.250000</td>\n    </tr>\n    <tr>\n      <th>NoSAS</th>\n      <td>0.200000</td>\n      <td>0.142857</td>\n      <td>0.400000</td>\n      <td>0.166667</td>\n      <td>0.090909</td>\n      <td>1.000000</td>\n      <td>0.000000</td>\n      <td>0.500000</td>\n      <td>0.125000</td>\n      <td>0.125000</td>\n      <td>0.142857</td>\n    </tr>\n    <tr>\n      <th>STOP</th>\n      <td>0.285714</td>\n      <td>0.230769</td>\n      <td>0.555556</td>\n      <td>0.400000</td>\n      <td>0.333333</td>\n      <td>0.000000</td>\n      <td>1.000000</td>\n      <td>0.125000</td>\n      <td>0.125000</td>\n      <td>0.285714</td>\n      <td>0.333333</td>\n    </tr>\n    <tr>\n      <th>GOAL</th>\n      <td>0.133333</td>\n      <td>0.250000</td>\n      <td>0.444444</td>\n      <td>0.181818</td>\n      <td>0.000000</td>\n      <td>0.500000</td>\n      <td>0.125000</td>\n      <td>1.000000</td>\n      <td>0.142857</td>\n      <td>0.142857</td>\n      <td>0.166667</td>\n    </tr>\n    <tr>\n      <th>OSA 50</th>\n      <td>0.062500</td>\n      <td>0.153846</td>\n      <td>0.181818</td>\n      <td>0.181818</td>\n      <td>0.100000</td>\n      <td>0.125000</td>\n      <td>0.125000</td>\n      <td>0.142857</td>\n      <td>1.000000</td>\n      <td>0.142857</td>\n      <td>0.166667</td>\n    </tr>\n    <tr>\n      <th>AS</th>\n      <td>0.307692</td>\n      <td>0.153846</td>\n      <td>0.181818</td>\n      <td>0.300000</td>\n      <td>0.222222</td>\n      <td>0.125000</td>\n      <td>0.285714</td>\n      <td>0.142857</td>\n      <td>0.142857</td>\n      <td>1.000000</td>\n      <td>0.750000</td>\n    </tr>\n    <tr>\n      <th>Wisconsin Q</th>\n      <td>0.230769</td>\n      <td>0.166667</td>\n      <td>0.200000</td>\n      <td>0.333333</td>\n      <td>0.250000</td>\n      <td>0.142857</td>\n      <td>0.333333</td>\n      <td>0.166667</td>\n      <td>0.166667</td>\n      <td>0.750000</td>\n      <td>1.000000</td>\n    </tr>\n  </tbody>\n</table>\n</div>",
          "text/plain": "                  ASA    SA-SDQ  STOP-Bang    Berlin  Haraldsson     NoSAS  \\\nASA          1.000000  0.263158   0.375000  0.375000    0.333333  0.200000   \nSA-SDQ       0.263158  1.000000   0.333333  0.250000    0.125000  0.142857   \nSTOP-Bang    0.375000  0.333333   1.000000  0.384615    0.230769  0.400000   \nBerlin       0.375000  0.250000   0.384615  1.000000    0.230769  0.166667   \nHaraldsson   0.333333  0.125000   0.230769  0.230769    1.000000  0.090909   \nNoSAS        0.200000  0.142857   0.400000  0.166667    0.090909  1.000000   \nSTOP         0.285714  0.230769   0.555556  0.400000    0.333333  0.000000   \nGOAL         0.133333  0.250000   0.444444  0.181818    0.000000  0.500000   \nOSA 50       0.062500  0.153846   0.181818  0.181818    0.100000  0.125000   \nAS           0.307692  0.153846   0.181818  0.300000    0.222222  0.125000   \nWisconsin Q  0.230769  0.166667   0.200000  0.333333    0.250000  0.142857   \n\n                 STOP      GOAL    OSA 50        AS  Wisconsin Q  \nASA          0.285714  0.133333  0.062500  0.307692     0.230769  \nSA-SDQ       0.230769  0.250000  0.153846  0.153846     0.166667  \nSTOP-Bang    0.555556  0.444444  0.181818  0.181818     0.200000  \nBerlin       0.400000  0.181818  0.181818  0.300000     0.333333  \nHaraldsson   0.333333  0.000000  0.100000  0.222222     0.250000  \nNoSAS        0.000000  0.500000  0.125000  0.125000     0.142857  \nSTOP         1.000000  0.125000  0.125000  0.285714     0.333333  \nGOAL         0.125000  1.000000  0.142857  0.142857     0.166667  \nOSA 50       0.125000  0.142857  1.000000  0.142857     0.166667  \nAS           0.285714  0.142857  0.142857  1.000000     0.750000  \nWisconsin Q  0.333333  0.166667  0.166667  0.750000     1.000000  "
         },
         "metadata": {},
         "output_type": "display_data"
        }
       ]
      }
     },
     "3ad5045f014e4e269eb1c0b93a7a3a88": {
      "model_module": "@jupyter-widgets/controls",
      "model_module_version": "2.0.0",
      "model_name": "IntSliderModel",
      "state": {
       "behavior": "drag-tap",
       "description": "Width :",
       "layout": "IPY_MODEL_013666770f7c4808853272e65e984cd1",
       "max": 1280,
       "min": 300,
       "style": "IPY_MODEL_0a6693d1361a4746b5b96342b4ba0d3e",
       "value": 600
      }
     },
     "3c6366c31ed64f0c830e273c4a9e73e2": {
      "model_module": "@jupyter-widgets/controls",
      "model_module_version": "2.0.0",
      "model_name": "TextModel",
      "state": {
       "layout": "IPY_MODEL_5dbe64c822c44677851a8edcfa700fb1",
       "placeholder": "File name (figure_example.pdf)",
       "style": "IPY_MODEL_353c285fd6a14acd801d3464fb9194fc",
       "tooltip": "Supported formats: ['png', 'jpg', 'jpeg', 'webp', 'svg', 'pdf', 'eps', 'json']"
      }
     },
     "3c6c2e1b43e64de7825c69cb2c5a2ed3": {
      "model_module": "@jupyter-widgets/base",
      "model_module_version": "2.0.0",
      "model_name": "LayoutModel",
      "state": {}
     },
     "3e1ab128500d4a729f0284ee1bd9aa2f": {
      "model_module": "@jupyter-widgets/controls",
      "model_module_version": "2.0.0",
      "model_name": "CheckboxModel",
      "state": {
       "description": "STOP",
       "disabled": false,
       "layout": "IPY_MODEL_8dfcb43e215a4e659a0bea19851c2889",
       "style": "IPY_MODEL_f8767df4796847b2965f277f6ecc04a2",
       "value": false
      }
     },
     "3ec87b0391354fb29fd8a10db7408d0c": {
      "model_module": "@jupyter-widgets/controls",
      "model_module_version": "2.0.0",
      "model_name": "SliderStyleModel",
      "state": {
       "description_width": ""
      }
     },
     "3f355f0d661547d58782b8b13cd7c810": {
      "model_module": "@jupyter-widgets/base",
      "model_module_version": "2.0.0",
      "model_name": "LayoutModel",
      "state": {
       "align_items": "flex-start",
       "grid_gap": "20px",
       "overflow": "visible",
       "width": "max-content"
      }
     },
     "405270e2c8a941658ee4577c443530ba": {
      "model_module": "@jupyter-widgets/base",
      "model_module_version": "2.0.0",
      "model_name": "LayoutModel",
      "state": {
       "grid_gap": "10px",
       "justify_content": "flex-start",
       "width": "100%"
      }
     },
     "408e10ecbcc240758699d34bce3bbd33": {
      "model_module": "@jupyter-widgets/controls",
      "model_module_version": "2.0.0",
      "model_name": "TextStyleModel",
      "state": {
       "description_width": "",
       "font_size": null,
       "text_color": null
      }
     },
     "41be032ca7bb45ab88693b106358ecf5": {
      "model_module": "@jupyter-widgets/controls",
      "model_module_version": "2.0.0",
      "model_name": "FileUploadModel",
      "state": {
       "accept": ".xsl, .xlsx",
       "description_allow_html": false,
       "layout": "IPY_MODEL_0dbcb364d0a44fe8b4b832297de5eb3c",
       "style": "IPY_MODEL_a229c568951f49d58c180d464538a271",
       "tooltip": "Upload your excel file"
      }
     },
     "42dfbfab070840348db33f4050bb7df3": {
      "model_module": "@jupyter-widgets/controls",
      "model_module_version": "2.0.0",
      "model_name": "ButtonStyleModel",
      "state": {
       "font_family": null,
       "font_size": null,
       "font_style": null,
       "font_variant": null,
       "font_weight": null,
       "text_color": null,
       "text_decoration": null
      }
     },
     "43a2a58650254cd39faf8d91a9d13c2d": {
      "model_module": "@jupyter-widgets/base",
      "model_module_version": "2.0.0",
      "model_name": "LayoutModel",
      "state": {
       "align_items": "center",
       "grid_gap": "10px",
       "justify_content": "flex-start",
       "width": "100%"
      }
     },
     "44bb711612c241809b54db949f71ec19": {
      "buffers": [
       {
        "data": "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",
        "encoding": "base64",
        "path": [
         "value"
        ]
       }
      ],
      "model_module": "@jupyter-widgets/controls",
      "model_module_version": "2.0.0",
      "model_name": "ImageModel",
      "state": {
       "layout": "IPY_MODEL_9c72d748fe574726b02ffd17f17325a4"
      }
     },
     "4535d62dbfc44856ae20241ef00d5c90": {
      "model_module": "@jupyter-widgets/base",
      "model_module_version": "2.0.0",
      "model_name": "LayoutModel",
      "state": {
       "align_items": "center",
       "grid_gap": "10px",
       "justify_content": "flex-start",
       "width": "100%"
      }
     },
     "45a7fb6761e045b8ac7ccdde75ba8015": {
      "model_module": "jupyterlab-plotly",
      "model_module_version": "^5.13.0",
      "model_name": "FigureModel",
      "state": {
       "_config": {
        "editSelection": false,
        "plotlyServerURL": "https://plot.ly"
       },
       "_data": [
        {
         "coloraxis": "coloraxis",
         "hovertemplate": "x: %{x}<br>y: %{y}<br>color: %{z}<extra></extra>",
         "name": "0",
         "texttemplate": "%{z}",
         "type": "heatmap",
         "uid": "cd22e916-2143-4bc8-aab5-4938612a3bad",
         "x": [
          "ASA",
          "SA-SDQ",
          "STOP-Bang",
          "Berlin",
          "Haraldsson",
          "NoSAS",
          "STOP",
          "GOAL",
          "OSA 50",
          "AS",
          "Wisconsin Q"
         ],
         "xaxis": "x",
         "y": [
          "OSA symptoms",
          "Sleep-related symptoms",
          "Clinical characteristics"
         ],
         "yaxis": "y",
         "z": [
          [
           30.8,
           54.5,
           22.2,
           44.4,
           28.6,
           20,
           40,
           25,
           50,
           75,
           100
          ],
          [
           30.8,
           9.1,
           22.2,
           33.3,
           71.4,
           0,
           40,
           0,
           0,
           0,
           0
          ],
          [
           38.5,
           36.4,
           55.6,
           22.2,
           0,
           80,
           20,
           75,
           50,
           25,
           0
          ]
         ]
        }
       ],
       "_js2py_pointsCallback": {},
       "_js2py_relayout": {},
       "_js2py_restyle": {},
       "_js2py_update": {},
       "_last_layout_edit_id": 2,
       "_last_trace_edit_id": 2,
       "_layout": {
        "autosize": false,
        "coloraxis": {
         "colorscale": [
          [
           0,
           "rgb(12,51,131)"
          ],
          [
           0.25,
           "rgb(10,136,186)"
          ],
          [
           0.5,
           "rgb(242,211,56)"
          ],
          [
           0.75,
           "rgb(242,143,56)"
          ],
          [
           1,
           "rgb(217,30,30)"
          ]
         ]
        },
        "height": 400,
        "margin": {
         "t": 60
        },
        "template": {
         "data": {
          "bar": [
           {
            "error_x": {
             "color": "#2a3f5f"
            },
            "error_y": {
             "color": "#2a3f5f"
            },
            "marker": {
             "line": {
              "color": "#E5ECF6",
              "width": 0.5
             },
             "pattern": {
              "fillmode": "overlay",
              "size": 10,
              "solidity": 0.2
             }
            },
            "type": "bar"
           }
          ],
          "barpolar": [
           {
            "marker": {
             "line": {
              "color": "#E5ECF6",
              "width": 0.5
             },
             "pattern": {
              "fillmode": "overlay",
              "size": 10,
              "solidity": 0.2
             }
            },
            "type": "barpolar"
           }
          ],
          "carpet": [
           {
            "aaxis": {
             "endlinecolor": "#2a3f5f",
             "gridcolor": "white",
             "linecolor": "white",
             "minorgridcolor": "white",
             "startlinecolor": "#2a3f5f"
            },
            "baxis": {
             "endlinecolor": "#2a3f5f",
             "gridcolor": "white",
             "linecolor": "white",
             "minorgridcolor": "white",
             "startlinecolor": "#2a3f5f"
            },
            "type": "carpet"
           }
          ],
          "choropleth": [
           {
            "colorbar": {
             "outlinewidth": 0,
             "ticks": ""
            },
            "type": "choropleth"
           }
          ],
          "contour": [
           {
            "colorbar": {
             "outlinewidth": 0,
             "ticks": ""
            },
            "colorscale": [
             [
              0,
              "#0d0887"
             ],
             [
              0.1111111111111111,
              "#46039f"
             ],
             [
              0.2222222222222222,
              "#7201a8"
             ],
             [
              0.3333333333333333,
              "#9c179e"
             ],
             [
              0.4444444444444444,
              "#bd3786"
             ],
             [
              0.5555555555555556,
              "#d8576b"
             ],
             [
              0.6666666666666666,
              "#ed7953"
             ],
             [
              0.7777777777777778,
              "#fb9f3a"
             ],
             [
              0.8888888888888888,
              "#fdca26"
             ],
             [
              1,
              "#f0f921"
             ]
            ],
            "type": "contour"
           }
          ],
          "contourcarpet": [
           {
            "colorbar": {
             "outlinewidth": 0,
             "ticks": ""
            },
            "type": "contourcarpet"
           }
          ],
          "heatmap": [
           {
            "colorbar": {
             "outlinewidth": 0,
             "ticks": ""
            },
            "colorscale": [
             [
              0,
              "#0d0887"
             ],
             [
              0.1111111111111111,
              "#46039f"
             ],
             [
              0.2222222222222222,
              "#7201a8"
             ],
             [
              0.3333333333333333,
              "#9c179e"
             ],
             [
              0.4444444444444444,
              "#bd3786"
             ],
             [
              0.5555555555555556,
              "#d8576b"
             ],
             [
              0.6666666666666666,
              "#ed7953"
             ],
             [
              0.7777777777777778,
              "#fb9f3a"
             ],
             [
              0.8888888888888888,
              "#fdca26"
             ],
             [
              1,
              "#f0f921"
             ]
            ],
            "type": "heatmap"
           }
          ],
          "heatmapgl": [
           {
            "colorbar": {
             "outlinewidth": 0,
             "ticks": ""
            },
            "colorscale": [
             [
              0,
              "#0d0887"
             ],
             [
              0.1111111111111111,
              "#46039f"
             ],
             [
              0.2222222222222222,
              "#7201a8"
             ],
             [
              0.3333333333333333,
              "#9c179e"
             ],
             [
              0.4444444444444444,
              "#bd3786"
             ],
             [
              0.5555555555555556,
              "#d8576b"
             ],
             [
              0.6666666666666666,
              "#ed7953"
             ],
             [
              0.7777777777777778,
              "#fb9f3a"
             ],
             [
              0.8888888888888888,
              "#fdca26"
             ],
             [
              1,
              "#f0f921"
             ]
            ],
            "type": "heatmapgl"
           }
          ],
          "histogram": [
           {
            "marker": {
             "pattern": {
              "fillmode": "overlay",
              "size": 10,
              "solidity": 0.2
             }
            },
            "type": "histogram"
           }
          ],
          "histogram2d": [
           {
            "colorbar": {
             "outlinewidth": 0,
             "ticks": ""
            },
            "colorscale": [
             [
              0,
              "#0d0887"
             ],
             [
              0.1111111111111111,
              "#46039f"
             ],
             [
              0.2222222222222222,
              "#7201a8"
             ],
             [
              0.3333333333333333,
              "#9c179e"
             ],
             [
              0.4444444444444444,
              "#bd3786"
             ],
             [
              0.5555555555555556,
              "#d8576b"
             ],
             [
              0.6666666666666666,
              "#ed7953"
             ],
             [
              0.7777777777777778,
              "#fb9f3a"
             ],
             [
              0.8888888888888888,
              "#fdca26"
             ],
             [
              1,
              "#f0f921"
             ]
            ],
            "type": "histogram2d"
           }
          ],
          "histogram2dcontour": [
           {
            "colorbar": {
             "outlinewidth": 0,
             "ticks": ""
            },
            "colorscale": [
             [
              0,
              "#0d0887"
             ],
             [
              0.1111111111111111,
              "#46039f"
             ],
             [
              0.2222222222222222,
              "#7201a8"
             ],
             [
              0.3333333333333333,
              "#9c179e"
             ],
             [
              0.4444444444444444,
              "#bd3786"
             ],
             [
              0.5555555555555556,
              "#d8576b"
             ],
             [
              0.6666666666666666,
              "#ed7953"
             ],
             [
              0.7777777777777778,
              "#fb9f3a"
             ],
             [
              0.8888888888888888,
              "#fdca26"
             ],
             [
              1,
              "#f0f921"
             ]
            ],
            "type": "histogram2dcontour"
           }
          ],
          "mesh3d": [
           {
            "colorbar": {
             "outlinewidth": 0,
             "ticks": ""
            },
            "type": "mesh3d"
           }
          ],
          "parcoords": [
           {
            "line": {
             "colorbar": {
              "outlinewidth": 0,
              "ticks": ""
             }
            },
            "type": "parcoords"
           }
          ],
          "pie": [
           {
            "automargin": true,
            "type": "pie"
           }
          ],
          "scatter": [
           {
            "fillpattern": {
             "fillmode": "overlay",
             "size": 10,
             "solidity": 0.2
            },
            "type": "scatter"
           }
          ],
          "scatter3d": [
           {
            "line": {
             "colorbar": {
              "outlinewidth": 0,
              "ticks": ""
             }
            },
            "marker": {
             "colorbar": {
              "outlinewidth": 0,
              "ticks": ""
             }
            },
            "type": "scatter3d"
           }
          ],
          "scattercarpet": [
           {
            "marker": {
             "colorbar": {
              "outlinewidth": 0,
              "ticks": ""
             }
            },
            "type": "scattercarpet"
           }
          ],
          "scattergeo": [
           {
            "marker": {
             "colorbar": {
              "outlinewidth": 0,
              "ticks": ""
             }
            },
            "type": "scattergeo"
           }
          ],
          "scattergl": [
           {
            "marker": {
             "colorbar": {
              "outlinewidth": 0,
              "ticks": ""
             }
            },
            "type": "scattergl"
           }
          ],
          "scattermapbox": [
           {
            "marker": {
             "colorbar": {
              "outlinewidth": 0,
              "ticks": ""
             }
            },
            "type": "scattermapbox"
           }
          ],
          "scatterpolar": [
           {
            "marker": {
             "colorbar": {
              "outlinewidth": 0,
              "ticks": ""
             }
            },
            "type": "scatterpolar"
           }
          ],
          "scatterpolargl": [
           {
            "marker": {
             "colorbar": {
              "outlinewidth": 0,
              "ticks": ""
             }
            },
            "type": "scatterpolargl"
           }
          ],
          "scatterternary": [
           {
            "marker": {
             "colorbar": {
              "outlinewidth": 0,
              "ticks": ""
             }
            },
            "type": "scatterternary"
           }
          ],
          "surface": [
           {
            "colorbar": {
             "outlinewidth": 0,
             "ticks": ""
            },
            "colorscale": [
             [
              0,
              "#0d0887"
             ],
             [
              0.1111111111111111,
              "#46039f"
             ],
             [
              0.2222222222222222,
              "#7201a8"
             ],
             [
              0.3333333333333333,
              "#9c179e"
             ],
             [
              0.4444444444444444,
              "#bd3786"
             ],
             [
              0.5555555555555556,
              "#d8576b"
             ],
             [
              0.6666666666666666,
              "#ed7953"
             ],
             [
              0.7777777777777778,
              "#fb9f3a"
             ],
             [
              0.8888888888888888,
              "#fdca26"
             ],
             [
              1,
              "#f0f921"
             ]
            ],
            "type": "surface"
           }
          ],
          "table": [
           {
            "cells": {
             "fill": {
              "color": "#EBF0F8"
             },
             "line": {
              "color": "white"
             }
            },
            "header": {
             "fill": {
              "color": "#C8D4E3"
             },
             "line": {
              "color": "white"
             }
            },
            "type": "table"
           }
          ]
         },
         "layout": {
          "annotationdefaults": {
           "arrowcolor": "#2a3f5f",
           "arrowhead": 0,
           "arrowwidth": 1
          },
          "autotypenumbers": "strict",
          "coloraxis": {
           "colorbar": {
            "outlinewidth": 0,
            "ticks": ""
           }
          },
          "colorscale": {
           "diverging": [
            [
             0,
             "#8e0152"
            ],
            [
             0.1,
             "#c51b7d"
            ],
            [
             0.2,
             "#de77ae"
            ],
            [
             0.3,
             "#f1b6da"
            ],
            [
             0.4,
             "#fde0ef"
            ],
            [
             0.5,
             "#f7f7f7"
            ],
            [
             0.6,
             "#e6f5d0"
            ],
            [
             0.7,
             "#b8e186"
            ],
            [
             0.8,
             "#7fbc41"
            ],
            [
             0.9,
             "#4d9221"
            ],
            [
             1,
             "#276419"
            ]
           ],
           "sequential": [
            [
             0,
             "#0d0887"
            ],
            [
             0.1111111111111111,
             "#46039f"
            ],
            [
             0.2222222222222222,
             "#7201a8"
            ],
            [
             0.3333333333333333,
             "#9c179e"
            ],
            [
             0.4444444444444444,
             "#bd3786"
            ],
            [
             0.5555555555555556,
             "#d8576b"
            ],
            [
             0.6666666666666666,
             "#ed7953"
            ],
            [
             0.7777777777777778,
             "#fb9f3a"
            ],
            [
             0.8888888888888888,
             "#fdca26"
            ],
            [
             1,
             "#f0f921"
            ]
           ],
           "sequentialminus": [
            [
             0,
             "#0d0887"
            ],
            [
             0.1111111111111111,
             "#46039f"
            ],
            [
             0.2222222222222222,
             "#7201a8"
            ],
            [
             0.3333333333333333,
             "#9c179e"
            ],
            [
             0.4444444444444444,
             "#bd3786"
            ],
            [
             0.5555555555555556,
             "#d8576b"
            ],
            [
             0.6666666666666666,
             "#ed7953"
            ],
            [
             0.7777777777777778,
             "#fb9f3a"
            ],
            [
             0.8888888888888888,
             "#fdca26"
            ],
            [
             1,
             "#f0f921"
            ]
           ]
          },
          "colorway": [
           "#636efa",
           "#EF553B",
           "#00cc96",
           "#ab63fa",
           "#FFA15A",
           "#19d3f3",
           "#FF6692",
           "#B6E880",
           "#FF97FF",
           "#FECB52"
          ],
          "font": {
           "color": "#2a3f5f"
          },
          "geo": {
           "bgcolor": "white",
           "lakecolor": "white",
           "landcolor": "#E5ECF6",
           "showlakes": true,
           "showland": true,
           "subunitcolor": "white"
          },
          "hoverlabel": {
           "align": "left"
          },
          "hovermode": "closest",
          "mapbox": {
           "style": "light"
          },
          "paper_bgcolor": "white",
          "plot_bgcolor": "#E5ECF6",
          "polar": {
           "angularaxis": {
            "gridcolor": "white",
            "linecolor": "white",
            "ticks": ""
           },
           "bgcolor": "#E5ECF6",
           "radialaxis": {
            "gridcolor": "white",
            "linecolor": "white",
            "ticks": ""
           }
          },
          "scene": {
           "xaxis": {
            "backgroundcolor": "#E5ECF6",
            "gridcolor": "white",
            "gridwidth": 2,
            "linecolor": "white",
            "showbackground": true,
            "ticks": "",
            "zerolinecolor": "white"
           },
           "yaxis": {
            "backgroundcolor": "#E5ECF6",
            "gridcolor": "white",
            "gridwidth": 2,
            "linecolor": "white",
            "showbackground": true,
            "ticks": "",
            "zerolinecolor": "white"
           },
           "zaxis": {
            "backgroundcolor": "#E5ECF6",
            "gridcolor": "white",
            "gridwidth": 2,
            "linecolor": "white",
            "showbackground": true,
            "ticks": "",
            "zerolinecolor": "white"
           }
          },
          "shapedefaults": {
           "line": {
            "color": "#2a3f5f"
           }
          },
          "ternary": {
           "aaxis": {
            "gridcolor": "white",
            "linecolor": "white",
            "ticks": ""
           },
           "baxis": {
            "gridcolor": "white",
            "linecolor": "white",
            "ticks": ""
           },
           "bgcolor": "#E5ECF6",
           "caxis": {
            "gridcolor": "white",
            "linecolor": "white",
            "ticks": ""
           }
          },
          "title": {
           "x": 0.05
          },
          "xaxis": {
           "automargin": true,
           "gridcolor": "white",
           "linecolor": "white",
           "ticks": "",
           "title": {
            "standoff": 15
           },
           "zerolinecolor": "white",
           "zerolinewidth": 2
          },
          "yaxis": {
           "automargin": true,
           "gridcolor": "white",
           "linecolor": "white",
           "ticks": "",
           "title": {
            "standoff": 15
           },
           "zerolinecolor": "white",
           "zerolinewidth": 2
          }
         }
        },
        "width": 800,
        "xaxis": {
         "anchor": "y",
         "constrain": "domain",
         "domain": [
          0,
          1
         ],
         "scaleanchor": "y",
         "side": "top"
        },
        "yaxis": {
         "anchor": "x",
         "constrain": "domain"
        }
       },
       "_py2js_addTraces": {},
       "_py2js_animate": {},
       "_py2js_deleteTraces": {},
       "_py2js_moveTraces": {},
       "_py2js_relayout": {},
       "_py2js_removeTraceProps": {},
       "_py2js_restyle": {},
       "_view_count": 0
      }
     },
     "45fcbcd892c84cc2a909ab3632db71c4": {
      "model_module": "@jupyter-widgets/controls",
      "model_module_version": "2.0.0",
      "model_name": "TextStyleModel",
      "state": {
       "description_width": "",
       "font_size": null,
       "text_color": null
      }
     },
     "4aae4c511e334da68ab04d9777ca9c6a": {
      "model_module": "@jupyter-widgets/controls",
      "model_module_version": "2.0.0",
      "model_name": "ButtonStyleModel",
      "state": {
       "font_family": null,
       "font_size": null,
       "font_style": null,
       "font_variant": null,
       "font_weight": null,
       "text_color": null,
       "text_decoration": null
      }
     },
     "4ba00221b47f49bcb619cee27b21fc06": {
      "model_module": "@jupyter-widgets/controls",
      "model_module_version": "2.0.0",
      "model_name": "VBoxModel",
      "state": {
       "children": [
        "IPY_MODEL_c6c593a14f034f7fb4c4b2651428a397",
        "IPY_MODEL_f8e0d54eb9104cf7bab42048334e38b6",
        "IPY_MODEL_d85bf26f7d834cf68953b26f315ed646",
        "IPY_MODEL_603a25b5f883481eb78110234810d483"
       ],
       "layout": "IPY_MODEL_3f355f0d661547d58782b8b13cd7c810"
      }
     },
     "4d9f867619c9496981235da79c0f11be": {
      "model_module": "@jupyter-widgets/base",
      "model_module_version": "2.0.0",
      "model_name": "LayoutModel",
      "state": {
       "align_items": "flex-start",
       "grid_gap": "10px",
       "overflow": "visible",
       "width": "max-content"
      }
     },
     "51cc139c3e3943b4aaf1f975b76e7e8c": {
      "model_module": "@jupyter-widgets/controls",
      "model_module_version": "2.0.0",
      "model_name": "ButtonModel",
      "state": {
       "description": "Save",
       "disabled": true,
       "icon": "save",
       "layout": "IPY_MODEL_e406dc4990a04768b161f270faac7546",
       "style": "IPY_MODEL_adf1149b2ec34db1a30ede26e8a417cd",
       "tooltip": "Click here to save the figure"
      }
     },
     "54b9417d8dd342d2b205ff2a86ddc66f": {
      "model_module": "@jupyter-widgets/controls",
      "model_module_version": "2.0.0",
      "model_name": "TextStyleModel",
      "state": {
       "description_width": "",
       "font_size": null,
       "text_color": null
      }
     },
     "54f23ca863844a49b66ad820a78c475c": {
      "model_module": "@jupyter-widgets/controls",
      "model_module_version": "2.0.0",
      "model_name": "IntSliderModel",
      "state": {
       "behavior": "drag-tap",
       "description": "Max Radius :",
       "layout": "IPY_MODEL_636026ef7a044fe48951871dc02316d6",
       "max": 50,
       "min": 6,
       "style": "IPY_MODEL_2c859f1a7a094074a56319649a696cd5",
       "value": 20
      }
     },
     "5503a9ba82314d40adecf77ee71aa8ba": {
      "model_module": "@jupyter-widgets/controls",
      "model_module_version": "2.0.0",
      "model_name": "SliderStyleModel",
      "state": {
       "description_width": ""
      }
     },
     "55056db5c87a4343879d26626ccce66f": {
      "model_module": "@jupyter-widgets/base",
      "model_module_version": "2.0.0",
      "model_name": "LayoutModel",
      "state": {}
     },
     "5576b8f066c64fbfafc660af0aec9687": {
      "model_module": "@jupyter-widgets/base",
      "model_module_version": "2.0.0",
      "model_name": "LayoutModel",
      "state": {
       "align_items": "center",
       "grid_gap": "10px",
       "justify_content": "flex-start",
       "width": "100%"
      }
     },
     "558b572f8e3940549004ab41c26739cc": {
      "model_module": "@jupyter-widgets/controls",
      "model_module_version": "2.0.0",
      "model_name": "CheckboxModel",
      "state": {
       "description": "Berlin",
       "disabled": false,
       "layout": "IPY_MODEL_2aa29d22c513444f96f426f57e0be282",
       "style": "IPY_MODEL_8bbbc8ce8f15474b9d8c909a245be80b",
       "value": false
      }
     },
     "58657f9aae0445eab9986b1dc2b488ad": {
      "model_module": "@jupyter-widgets/base",
      "model_module_version": "2.0.0",
      "model_name": "LayoutModel",
      "state": {}
     },
     "59e15dc9ae47423b9070a07c03a0447e": {
      "model_module": "@jupyter-widgets/output",
      "model_module_version": "1.0.0",
      "model_name": "OutputModel",
      "state": {
       "layout": "IPY_MODEL_55056db5c87a4343879d26626ccce66f",
       "outputs": [
        {
         "data": {
          "text/html": "<div>\n<style scoped>\n    .dataframe tbody tr th:only-of-type {\n        vertical-align: middle;\n    }\n\n    .dataframe tbody tr th {\n        vertical-align: top;\n    }\n\n    .dataframe thead th {\n        text-align: right;\n    }\n</style>\n<table border=\"1\" class=\"dataframe\">\n  <thead>\n    <tr style=\"text-align: right;\">\n      <th></th>\n      <th>Avg. Jaccard Index</th>\n    </tr>\n  </thead>\n  <tbody>\n    <tr>\n      <th>OSA symptoms</th>\n      <td>0.393983</td>\n    </tr>\n    <tr>\n      <th>Sleep-related symptoms</th>\n      <td>0.319524</td>\n    </tr>\n    <tr>\n      <th>Clinical characteristics</th>\n      <td>0.213062</td>\n    </tr>\n  </tbody>\n</table>\n</div>",
          "text/plain": "                          Avg. Jaccard Index\nOSA symptoms                        0.393983\nSleep-related symptoms              0.319524\nClinical characteristics            0.213062"
         },
         "metadata": {},
         "output_type": "display_data"
        }
       ]
      }
     },
     "5a51814c0efc4df89fb8adfa525978b1": {
      "model_module": "@jupyter-widgets/controls",
      "model_module_version": "2.0.0",
      "model_name": "IntSliderModel",
      "state": {
       "behavior": "drag-tap",
       "description": "Height :",
       "layout": "IPY_MODEL_82c68636b19c41a9b154faf751932fd8",
       "max": 1280,
       "min": 300,
       "style": "IPY_MODEL_940fa6f7095c4a6da011799f7efcb2f0",
       "value": 500
      }
     },
     "5b96035cfd3e41ff9d9adc39eede8391": {
      "model_module": "@jupyter-widgets/output",
      "model_module_version": "1.0.0",
      "model_name": "OutputModel",
      "state": {
       "layout": "IPY_MODEL_e676cdcfe9a544a58e60adef102079c3"
      }
     },
     "5dbe64c822c44677851a8edcfa700fb1": {
      "model_module": "@jupyter-widgets/base",
      "model_module_version": "2.0.0",
      "model_name": "LayoutModel",
      "state": {}
     },
     "5dfec44178cd4246b97afa3858090c60": {
      "model_module": "@jupyter-widgets/base",
      "model_module_version": "2.0.0",
      "model_name": "LayoutModel",
      "state": {
       "grid_gap": "10px",
       "justify_content": "flex-start",
       "width": "100%"
      }
     },
     "5e96510564374931b9c405196f54b04b": {
      "model_module": "@jupyter-widgets/base",
      "model_module_version": "2.0.0",
      "model_name": "LayoutModel",
      "state": {}
     },
     "5f580db94443460a974cd9100fb0d3db": {
      "model_module": "@jupyter-widgets/controls",
      "model_module_version": "2.0.0",
      "model_name": "CheckboxModel",
      "state": {
       "description": "GOAL",
       "disabled": false,
       "layout": "IPY_MODEL_29ac01bbd9f9468888adac29f1442af3",
       "style": "IPY_MODEL_122ba4128e7a46028e9c029f677dd2b8",
       "value": false
      }
     },
     "5fbece207e3c45cf9329ee12756e9f9f": {
      "model_module": "@jupyter-widgets/base",
      "model_module_version": "2.0.0",
      "model_name": "LayoutModel",
      "state": {}
     },
     "5fc667506fec448291be4c358b236546": {
      "model_module": "@jupyter-widgets/base",
      "model_module_version": "2.0.0",
      "model_name": "LayoutModel",
      "state": {
       "grid_gap": "20px"
      }
     },
     "603a25b5f883481eb78110234810d483": {
      "model_module": "@jupyter-widgets/controls",
      "model_module_version": "2.0.0",
      "model_name": "HBoxModel",
      "state": {
       "children": [
        "IPY_MODEL_2503556fa60a48ceaa0fe3c156363d81",
        "IPY_MODEL_775c1871b20344daa229fe7b9d8bb07a",
        "IPY_MODEL_09972c7477e744f4b65412f9f3e3ea6a",
        "IPY_MODEL_665cbb5bf99049f182d2bcca2a2a7794"
       ],
       "layout": "IPY_MODEL_4535d62dbfc44856ae20241ef00d5c90"
      }
     },
     "611fe7ff01b04a349cd45dbca1c8f567": {
      "model_module": "@jupyter-widgets/base",
      "model_module_version": "2.0.0",
      "model_name": "LayoutModel",
      "state": {
       "align_items": "flex-start",
       "grid_gap": "10px",
       "overflow": "visible",
       "width": "max-content"
      }
     },
     "636026ef7a044fe48951871dc02316d6": {
      "model_module": "@jupyter-widgets/base",
      "model_module_version": "2.0.0",
      "model_name": "LayoutModel",
      "state": {}
     },
     "64868aaa82f94fb4bef162d7a5e59da2": {
      "model_module": "@jupyter-widgets/controls",
      "model_module_version": "2.0.0",
      "model_name": "CheckboxStyleModel",
      "state": {
       "description_width": ""
      }
     },
     "665cbb5bf99049f182d2bcca2a2a7794": {
      "model_module": "@jupyter-widgets/output",
      "model_module_version": "1.0.0",
      "model_name": "OutputModel",
      "state": {
       "layout": "IPY_MODEL_37099b6310434a038c8a30d243936353"
      }
     },
     "6713f4b48cd842aeb1b6c5c9fbfbc72b": {
      "model_module": "@jupyter-widgets/controls",
      "model_module_version": "2.0.0",
      "model_name": "HBoxModel",
      "state": {
       "children": [
        "IPY_MODEL_54f23ca863844a49b66ad820a78c475c"
       ],
       "layout": "IPY_MODEL_06aa681d2f1e4ccea44a9d683f040c7d"
      }
     },
     "67b3fd68f0724f1bac969514808d85fe": {
      "model_module": "@jupyter-widgets/controls",
      "model_module_version": "2.0.0",
      "model_name": "IntSliderModel",
      "state": {
       "behavior": "drag-tap",
       "description": "Height :",
       "layout": "IPY_MODEL_c8049b041e424a038543b3d1c742e979",
       "max": 1280,
       "min": 300,
       "style": "IPY_MODEL_df1579acbf744f258603e226c78c11a4",
       "value": 600
      }
     },
     "690b7e13818d4489aa92ccea030a5dfc": {
      "model_module": "@jupyter-widgets/output",
      "model_module_version": "1.0.0",
      "model_name": "OutputModel",
      "state": {
       "layout": "IPY_MODEL_81cd7768dfdd4861aa2bb7902ed34c4d",
       "outputs": [
        {
         "data": {
          "text/html": "<div>\n<style scoped>\n    .dataframe tbody tr th:only-of-type {\n        vertical-align: middle;\n    }\n\n    .dataframe tbody tr th {\n        vertical-align: top;\n    }\n\n    .dataframe thead th {\n        text-align: right;\n    }\n</style>\n<table border=\"1\" class=\"dataframe\">\n  <thead>\n    <tr style=\"text-align: right;\">\n      <th></th>\n      <th>Avg. Jaccard Index</th>\n    </tr>\n  </thead>\n  <tbody>\n    <tr>\n      <th>ASA</th>\n      <td>0.256650</td>\n    </tr>\n    <tr>\n      <th>SA-SDQ</th>\n      <td>0.206948</td>\n    </tr>\n    <tr>\n      <th>STOP-Bang</th>\n      <td>0.328735</td>\n    </tr>\n    <tr>\n      <th>Berlin</th>\n      <td>0.280402</td>\n    </tr>\n    <tr>\n      <th>Haraldsson</th>\n      <td>0.191634</td>\n    </tr>\n    <tr>\n      <th>NoSAS</th>\n      <td>0.189329</td>\n    </tr>\n    <tr>\n      <th>STOP</th>\n      <td>0.267442</td>\n    </tr>\n    <tr>\n      <th>GOAL</th>\n      <td>0.208698</td>\n    </tr>\n    <tr>\n      <th>OSA 50</th>\n      <td>0.138236</td>\n    </tr>\n    <tr>\n      <th>AS</th>\n      <td>0.261201</td>\n    </tr>\n    <tr>\n      <th>Wisconsin Q</th>\n      <td>0.274029</td>\n    </tr>\n  </tbody>\n</table>\n</div>",
          "text/plain": "             Avg. Jaccard Index\nASA                    0.256650\nSA-SDQ                 0.206948\nSTOP-Bang              0.328735\nBerlin                 0.280402\nHaraldsson             0.191634\nNoSAS                  0.189329\nSTOP                   0.267442\nGOAL                   0.208698\nOSA 50                 0.138236\nAS                     0.261201\nWisconsin Q            0.274029"
         },
         "metadata": {},
         "output_type": "display_data"
        }
       ]
      }
     },
     "6d06c64c897f4b2eab05dbd4e6855f78": {
      "model_module": "@jupyter-widgets/base",
      "model_module_version": "2.0.0",
      "model_name": "LayoutModel",
      "state": {
       "grid_gap": "20px"
      }
     },
     "6d892c97a103466cb9496cae88abd644": {
      "model_module": "@jupyter-widgets/controls",
      "model_module_version": "2.0.0",
      "model_name": "VBoxModel",
      "state": {
       "children": [
        "IPY_MODEL_690b7e13818d4489aa92ccea030a5dfc"
       ],
       "layout": "IPY_MODEL_eeb3b63ef6df4a288f422bb41bfd0b82"
      }
     },
     "6ddc9b2644f147ec97c6a0792fe2e523": {
      "model_module": "@jupyter-widgets/base",
      "model_module_version": "2.0.0",
      "model_name": "LayoutModel",
      "state": {
       "width": "100%"
      }
     },
     "6ea168ada8894097a4703e5b6548855e": {
      "model_module": "@jupyter-widgets/base",
      "model_module_version": "2.0.0",
      "model_name": "LayoutModel",
      "state": {}
     },
     "6fa0434919704ca29ea0e8e4f89a7b85": {
      "model_module": "@jupyter-widgets/base",
      "model_module_version": "2.0.0",
      "model_name": "LayoutModel",
      "state": {
       "align_items": "flex-start",
       "grid_gap": "20px",
       "overflow": "visible",
       "width": "max-content"
      }
     },
     "70d589f9fb044e3d8fb80fb12530123b": {
      "model_module": "@jupyter-widgets/base",
      "model_module_version": "2.0.0",
      "model_name": "LayoutModel",
      "state": {
       "width": "100%"
      }
     },
     "72acdc00657c407597f081e70415a5a5": {
      "model_module": "@jupyter-widgets/controls",
      "model_module_version": "2.0.0",
      "model_name": "TextModel",
      "state": {
       "layout": "IPY_MODEL_c27f2fd77d96463890dff0aff3d72c24",
       "placeholder": "File name (figure_example.pdf)",
       "style": "IPY_MODEL_fba7c6c6cd13429a84ec14f4bb0d52dc",
       "tooltip": "Supported formats: ['png', 'jpg', 'jpeg', 'webp', 'svg', 'pdf', 'eps', 'json']"
      }
     },
     "75437ae22848419fb865266327665779": {
      "model_module": "@jupyter-widgets/output",
      "model_module_version": "1.0.0",
      "model_name": "OutputModel",
      "state": {
       "layout": "IPY_MODEL_8eba1e4292c0405a9f499589a2a7bc90",
       "outputs": [
        {
         "name": "stdout",
         "output_type": "stream",
         "text": "References list is empty\n"
        }
       ]
      }
     },
     "761672da94cf4e9cafca26b084aa6483": {
      "model_module": "@jupyter-widgets/controls",
      "model_module_version": "2.0.0",
      "model_name": "CheckboxStyleModel",
      "state": {
       "description_width": ""
      }
     },
     "764e1711bd224084874ef9926ee44a5b": {
      "model_module": "@jupyter-widgets/base",
      "model_module_version": "2.0.0",
      "model_name": "LayoutModel",
      "state": {}
     },
     "775c1871b20344daa229fe7b9d8bb07a": {
      "model_module": "@jupyter-widgets/controls",
      "model_module_version": "2.0.0",
      "model_name": "ButtonModel",
      "state": {
       "description": "Save",
       "disabled": true,
       "icon": "save",
       "layout": "IPY_MODEL_f611a013a84c4261bc315817722bd3b3",
       "style": "IPY_MODEL_88e541a437254bce930975d3392bf77f",
       "tooltip": "Click here to save the figure"
      }
     },
     "779ea0a5a58f4d3a97f3a0d1f0cc1feb": {
      "model_module": "@jupyter-widgets/output",
      "model_module_version": "1.0.0",
      "model_name": "OutputModel",
      "state": {
       "layout": "IPY_MODEL_18a462c812634753b9bc4d51216042a3",
       "outputs": [
        {
         "data": {
          "text/html": "<div>\n<style scoped>\n    .dataframe tbody tr th:only-of-type {\n        vertical-align: middle;\n    }\n\n    .dataframe tbody tr th {\n        vertical-align: top;\n    }\n\n    .dataframe thead th {\n        text-align: right;\n    }\n</style>\n<table border=\"1\" class=\"dataframe\">\n  <thead>\n    <tr style=\"text-align: right;\">\n      <th></th>\n      <th>Category</th>\n      <th>Subcategory</th>\n      <th>Ab</th>\n      <th>Symptom</th>\n      <th>variable</th>\n      <th>value</th>\n    </tr>\n  </thead>\n  <tbody>\n    <tr>\n      <th>0</th>\n      <td>OSA symptoms</td>\n      <td>Breath abnormalities observations</td>\n      <td>S006</td>\n      <td>Stop breathing observations</td>\n      <td>ASA</td>\n      <td>1</td>\n    </tr>\n    <tr>\n      <th>1</th>\n      <td>OSA symptoms</td>\n      <td>Snoring</td>\n      <td>S002</td>\n      <td>Loud Snoring</td>\n      <td>ASA</td>\n      <td>1</td>\n    </tr>\n    <tr>\n      <th>2</th>\n      <td>OSA symptoms</td>\n      <td>Snoring</td>\n      <td>S001</td>\n      <td>Snoring</td>\n      <td>ASA</td>\n      <td>1</td>\n    </tr>\n    <tr>\n      <th>3</th>\n      <td>Clinical characteristics</td>\n      <td>Anthropometric</td>\n      <td>S020</td>\n      <td>BMI</td>\n      <td>ASA</td>\n      <td>1</td>\n    </tr>\n    <tr>\n      <th>4</th>\n      <td>Sleep-related symptoms</td>\n      <td>Sleepiness</td>\n      <td>S010</td>\n      <td>Fatigue</td>\n      <td>ASA</td>\n      <td>2</td>\n    </tr>\n  </tbody>\n</table>\n</div>",
          "text/plain": "                   Category                        Subcategory    Ab  \\\n0              OSA symptoms  Breath abnormalities observations  S006   \n1              OSA symptoms                            Snoring  S002   \n2              OSA symptoms                            Snoring  S001   \n3  Clinical characteristics                     Anthropometric  S020   \n4    Sleep-related symptoms                         Sleepiness  S010   \n\n                       Symptom variable  value  \n0  Stop breathing observations      ASA      1  \n1                 Loud Snoring      ASA      1  \n2                      Snoring      ASA      1  \n3                          BMI      ASA      1  \n4                      Fatigue      ASA      2  "
         },
         "metadata": {},
         "output_type": "display_data"
        }
       ]
      }
     },
     "7da76719a07344f38d60d9422bc73eec": {
      "buffers": [
       {
        "data": "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",
        "encoding": "base64",
        "path": [
         "value"
        ]
       }
      ],
      "model_module": "@jupyter-widgets/controls",
      "model_module_version": "2.0.0",
      "model_name": "ImageModel",
      "state": {
       "layout": "IPY_MODEL_315b65e88bfa4bcca28fd21cc6cadc04"
      }
     },
     "7e0d3e2e489b4c2283a8a9c0557ea61b": {
      "model_module": "@jupyter-widgets/controls",
      "model_module_version": "2.0.0",
      "model_name": "TextModel",
      "state": {
       "layout": "IPY_MODEL_3c6c2e1b43e64de7825c69cb2c5a2ed3",
       "placeholder": "File name (figure_example.pdf)",
       "style": "IPY_MODEL_408e10ecbcc240758699d34bce3bbd33",
       "tooltip": "Supported formats: ['png', 'jpg', 'jpeg', 'webp', 'svg', 'pdf', 'eps', 'json']"
      }
     },
     "7f4af6751c7d4960adc5e2a700353f7e": {
      "model_module": "@jupyter-widgets/controls",
      "model_module_version": "2.0.0",
      "model_name": "VBoxModel",
      "state": {
       "children": [
        "IPY_MODEL_59e15dc9ae47423b9070a07c03a0447e"
       ],
       "layout": "IPY_MODEL_e780be344a8f4676852c2df37782766e"
      }
     },
     "81033372538f4c409341624d163b60df": {
      "model_module": "@jupyter-widgets/controls",
      "model_module_version": "2.0.0",
      "model_name": "HBoxModel",
      "state": {
       "children": [
        "IPY_MODEL_2b2bfa46f32b4ddea6ab3846f83531c7",
        "IPY_MODEL_ca3c2e0ab892437bbd38fbf56a26835c"
       ],
       "layout": "IPY_MODEL_24f0f198daaa41e28c90349905bf17c3"
      }
     },
     "81cd7768dfdd4861aa2bb7902ed34c4d": {
      "model_module": "@jupyter-widgets/base",
      "model_module_version": "2.0.0",
      "model_name": "LayoutModel",
      "state": {}
     },
     "82c68636b19c41a9b154faf751932fd8": {
      "model_module": "@jupyter-widgets/base",
      "model_module_version": "2.0.0",
      "model_name": "LayoutModel",
      "state": {}
     },
     "82dc2073c7df4aa98dfc3d3de38de30e": {
      "model_module": "@jupyter-widgets/base",
      "model_module_version": "2.0.0",
      "model_name": "LayoutModel",
      "state": {}
     },
     "845ea37f962d4046ab669892b8fd0fa3": {
      "model_module": "@jupyter-widgets/controls",
      "model_module_version": "2.0.0",
      "model_name": "HBoxModel",
      "state": {
       "children": [
        "IPY_MODEL_3c6366c31ed64f0c830e273c4a9e73e2",
        "IPY_MODEL_daa7d0ab78264451a6a8790b0f0211ec",
        "IPY_MODEL_36e95feae7d7438a8ef4d72229c73892",
        "IPY_MODEL_9d46f6025f7d4a69a65d227d0454f172"
       ],
       "layout": "IPY_MODEL_5576b8f066c64fbfafc660af0aec9687"
      }
     },
     "853cfd8834c144e1a1c78a7355040405": {
      "model_module": "@jupyter-widgets/controls",
      "model_module_version": "2.0.0",
      "model_name": "HBoxModel",
      "state": {
       "children": [
        "IPY_MODEL_8c037b3c5fd948de91055540b48f04b6",
        "IPY_MODEL_f6c190ff87b843d0912d36bcc87f21a5"
       ],
       "layout": "IPY_MODEL_405270e2c8a941658ee4577c443530ba"
      }
     },
     "88e541a437254bce930975d3392bf77f": {
      "model_module": "@jupyter-widgets/controls",
      "model_module_version": "2.0.0",
      "model_name": "ButtonStyleModel",
      "state": {
       "font_family": null,
       "font_size": null,
       "font_style": null,
       "font_variant": null,
       "font_weight": null,
       "text_color": null,
       "text_decoration": null
      }
     },
     "8aa8aab820d140ee9bd1f9229f087389": {
      "model_module": "@jupyter-widgets/output",
      "model_module_version": "1.0.0",
      "model_name": "OutputModel",
      "state": {
       "layout": "IPY_MODEL_3980723e6bf44662972f16c9b79fdab9"
      }
     },
     "8bbbc8ce8f15474b9d8c909a245be80b": {
      "model_module": "@jupyter-widgets/controls",
      "model_module_version": "2.0.0",
      "model_name": "CheckboxStyleModel",
      "state": {
       "description_width": ""
      }
     },
     "8be16425f1d14333a158315014163d11": {
      "model_module": "@jupyter-widgets/output",
      "model_module_version": "1.0.0",
      "model_name": "OutputModel",
      "state": {
       "layout": "IPY_MODEL_fc56b762c6564d31af8bb61da6f8f532",
       "outputs": [
        {
         "data": {
          "text/html": "<div>\n<style scoped>\n    .dataframe tbody tr th:only-of-type {\n        vertical-align: middle;\n    }\n\n    .dataframe tbody tr th {\n        vertical-align: top;\n    }\n\n    .dataframe thead th {\n        text-align: right;\n    }\n</style>\n<table border=\"1\" class=\"dataframe\">\n  <thead>\n    <tr style=\"text-align: right;\">\n      <th></th>\n      <th>Specific symptoms</th>\n      <th>Compound symptoms</th>\n      <th>Total</th>\n    </tr>\n  </thead>\n  <tbody>\n    <tr>\n      <th>ASA</th>\n      <td>9</td>\n      <td>4</td>\n      <td>13</td>\n    </tr>\n    <tr>\n      <th>SA-SDQ</th>\n      <td>10</td>\n      <td>1</td>\n      <td>11</td>\n    </tr>\n    <tr>\n      <th>STOP-Bang</th>\n      <td>7</td>\n      <td>2</td>\n      <td>9</td>\n    </tr>\n    <tr>\n      <th>Berlin</th>\n      <td>8</td>\n      <td>1</td>\n      <td>9</td>\n    </tr>\n    <tr>\n      <th>Haraldsson</th>\n      <td>3</td>\n      <td>4</td>\n      <td>7</td>\n    </tr>\n    <tr>\n      <th>NoSAS</th>\n      <td>5</td>\n      <td>0</td>\n      <td>5</td>\n    </tr>\n    <tr>\n      <th>STOP</th>\n      <td>3</td>\n      <td>2</td>\n      <td>5</td>\n    </tr>\n    <tr>\n      <th>GOAL</th>\n      <td>4</td>\n      <td>0</td>\n      <td>4</td>\n    </tr>\n    <tr>\n      <th>OSA 50</th>\n      <td>4</td>\n      <td>0</td>\n      <td>4</td>\n    </tr>\n    <tr>\n      <th>AS</th>\n      <td>2</td>\n      <td>2</td>\n      <td>4</td>\n    </tr>\n    <tr>\n      <th>Wisconsin Q</th>\n      <td>3</td>\n      <td>0</td>\n      <td>3</td>\n    </tr>\n  </tbody>\n</table>\n</div>",
          "text/plain": "             Specific symptoms  Compound symptoms  Total\nASA                          9                  4     13\nSA-SDQ                      10                  1     11\nSTOP-Bang                    7                  2      9\nBerlin                       8                  1      9\nHaraldsson                   3                  4      7\nNoSAS                        5                  0      5\nSTOP                         3                  2      5\nGOAL                         4                  0      4\nOSA 50                       4                  0      4\nAS                           2                  2      4\nWisconsin Q                  3                  0      3"
         },
         "metadata": {},
         "output_type": "display_data"
        }
       ]
      }
     },
     "8c037b3c5fd948de91055540b48f04b6": {
      "model_module": "@jupyter-widgets/controls",
      "model_module_version": "2.0.0",
      "model_name": "IntSliderModel",
      "state": {
       "behavior": "drag-tap",
       "description": "Height :",
       "layout": "IPY_MODEL_82dc2073c7df4aa98dfc3d3de38de30e",
       "max": 1280,
       "min": 300,
       "style": "IPY_MODEL_d9942e000c274a4fbd1e5eb3f0d72557",
       "value": 500
      }
     },
     "8c08697d49a84d72a45d27b6c2524412": {
      "model_module": "@jupyter-widgets/controls",
      "model_module_version": "2.0.0",
      "model_name": "HBoxModel",
      "state": {
       "children": [
        "IPY_MODEL_7e0d3e2e489b4c2283a8a9c0557ea61b",
        "IPY_MODEL_cbcc1f369b1046ca8bcca1b23387bfed",
        "IPY_MODEL_9deafd43feb64cd0b5cce574911460d1",
        "IPY_MODEL_ef210f774af341cfbc1cc12b0793b9f2"
       ],
       "layout": "IPY_MODEL_43a2a58650254cd39faf8d91a9d13c2d"
      }
     },
     "8d3e39aa528f443a90d8cf741661db2a": {
      "model_module": "@jupyter-widgets/base",
      "model_module_version": "2.0.0",
      "model_name": "LayoutModel",
      "state": {
       "align_items": "flex-start",
       "grid_gap": "10px",
       "overflow": "visible",
       "width": "max-content"
      }
     },
     "8d7d32092057439cb50593bcfb1949de": {
      "model_module": "@jupyter-widgets/base",
      "model_module_version": "2.0.0",
      "model_name": "LayoutModel",
      "state": {
       "display": "flex",
       "flex_flow": "row",
       "grid_gap": "5px"
      }
     },
     "8dfcb43e215a4e659a0bea19851c2889": {
      "model_module": "@jupyter-widgets/base",
      "model_module_version": "2.0.0",
      "model_name": "LayoutModel",
      "state": {}
     },
     "8eba1e4292c0405a9f499589a2a7bc90": {
      "model_module": "@jupyter-widgets/base",
      "model_module_version": "2.0.0",
      "model_name": "LayoutModel",
      "state": {}
     },
     "9166d466c503443c8180544735b8686b": {
      "model_module": "@jupyter-widgets/controls",
      "model_module_version": "2.0.0",
      "model_name": "ButtonModel",
      "state": {
       "description": "Save",
       "disabled": true,
       "icon": "save",
       "layout": "IPY_MODEL_1c4c55415d8641e79f34cedb4c02ac94",
       "style": "IPY_MODEL_0f2026eae7e14bc08eb8b8f5e770a0fb",
       "tooltip": "Click here to save the figure"
      }
     },
     "91ad3e9486054785a4c3fed1005d696a": {
      "model_module": "@jupyter-widgets/base",
      "model_module_version": "2.0.0",
      "model_name": "LayoutModel",
      "state": {}
     },
     "92fd68f505464d779dba82111562e2cd": {
      "model_module": "@jupyter-widgets/base",
      "model_module_version": "2.0.0",
      "model_name": "LayoutModel",
      "state": {
       "grid_gap": "10px",
       "justify_content": "flex-start",
       "width": "100%"
      }
     },
     "940fa6f7095c4a6da011799f7efcb2f0": {
      "model_module": "@jupyter-widgets/controls",
      "model_module_version": "2.0.0",
      "model_name": "SliderStyleModel",
      "state": {
       "description_width": ""
      }
     },
     "950f72ccda52429d81002788fb639a7a": {
      "model_module": "@jupyter-widgets/controls",
      "model_module_version": "2.0.0",
      "model_name": "HBoxModel",
      "state": {
       "children": [
        "IPY_MODEL_d993023a9f184a2fb964309f23623c04",
        "IPY_MODEL_9166d466c503443c8180544735b8686b",
        "IPY_MODEL_7da76719a07344f38d60d9422bc73eec",
        "IPY_MODEL_b3f8d413671a4b789ca077f66fceac44"
       ],
       "layout": "IPY_MODEL_bc8eea9fc6e246a7a2721ff012dc4d82"
      }
     },
     "96199a4718b345b8927e7cd33c2f7b4e": {
      "model_module": "@jupyter-widgets/controls",
      "model_module_version": "2.0.0",
      "model_name": "ButtonStyleModel",
      "state": {
       "font_family": null,
       "font_size": null,
       "font_style": null,
       "font_variant": null,
       "font_weight": null,
       "text_color": null,
       "text_decoration": null
      }
     },
     "98c76d028f2743bebd1892874a245c96": {
      "model_module": "@jupyter-widgets/output",
      "model_module_version": "1.0.0",
      "model_name": "OutputModel",
      "state": {
       "layout": "IPY_MODEL_d82b4c12a0f141c58d962d7339a48c96"
      }
     },
     "99498b77ccc9407699bf9c7c2fd0c765": {
      "model_module": "@jupyter-widgets/controls",
      "model_module_version": "2.0.0",
      "model_name": "CheckboxModel",
      "state": {
       "description": "NoSAS",
       "disabled": false,
       "layout": "IPY_MODEL_1db90f0fd5c74f34a70aeae92fe5298e",
       "style": "IPY_MODEL_d3f00c7dbae447ed8d07aec4ae84808b",
       "value": false
      }
     },
     "9a80fc993bee454d85af224da4232d8e": {
      "model_module": "@jupyter-widgets/controls",
      "model_module_version": "2.0.0",
      "model_name": "HBoxModel",
      "state": {
       "children": [
        "IPY_MODEL_37dd6f515d464305949fdb23b8a13582",
        "IPY_MODEL_e38f99550e2540858fe488230927ee77",
        "IPY_MODEL_44bb711612c241809b54db949f71ec19",
        "IPY_MODEL_5b96035cfd3e41ff9d9adc39eede8391"
       ],
       "layout": "IPY_MODEL_e3a9d5a7989043978fa5843efe00a019"
      }
     },
     "9c0e67419f0b42138cef3e1f3903b18f": {
      "model_module": "@jupyter-widgets/base",
      "model_module_version": "2.0.0",
      "model_name": "LayoutModel",
      "state": {
       "width": "100%"
      }
     },
     "9c72d748fe574726b02ffd17f17325a4": {
      "model_module": "@jupyter-widgets/base",
      "model_module_version": "2.0.0",
      "model_name": "LayoutModel",
      "state": {
       "height": "15px",
       "visibility": "hidden",
       "width": "15px"
      }
     },
     "9cecaf36f62844a0967b1438549f3fdd": {
      "model_module": "@jupyter-widgets/output",
      "model_module_version": "1.0.0",
      "model_name": "OutputModel",
      "state": {
       "layout": "IPY_MODEL_0d0fc687a7494730a0ea669c43bcff6d",
       "outputs": [
        {
         "data": {
          "text/html": "<div>\n<style scoped>\n    .dataframe tbody tr th:only-of-type {\n        vertical-align: middle;\n    }\n\n    .dataframe tbody tr th {\n        vertical-align: top;\n    }\n\n    .dataframe thead th {\n        text-align: right;\n    }\n</style>\n<table border=\"1\" class=\"dataframe\">\n  <thead>\n    <tr style=\"text-align: right;\">\n      <th></th>\n      <th>Category</th>\n      <th>Subcategory</th>\n      <th>Ab</th>\n      <th>Symptom</th>\n      <th>GOAL</th>\n      <th>NoSAS</th>\n      <th>STOP</th>\n      <th>STOP-Bang</th>\n      <th>Berlin</th>\n      <th>OSA 50</th>\n      <th>ASA</th>\n      <th>Wisconsin Q</th>\n      <th>SA-SDQ</th>\n      <th>Haraldsson</th>\n      <th>AS</th>\n    </tr>\n  </thead>\n  <tbody>\n    <tr>\n      <th>0</th>\n      <td>OSA symptoms</td>\n      <td>Snoring</td>\n      <td>S001</td>\n      <td>Snoring</td>\n      <td>0</td>\n      <td>1</td>\n      <td>0</td>\n      <td>0</td>\n      <td>1</td>\n      <td>0</td>\n      <td>1</td>\n      <td>1</td>\n      <td>0</td>\n      <td>1</td>\n      <td>2</td>\n    </tr>\n    <tr>\n      <th>1</th>\n      <td>OSA symptoms</td>\n      <td>Snoring</td>\n      <td>S002</td>\n      <td>Loud Snoring</td>\n      <td>1</td>\n      <td>0</td>\n      <td>1</td>\n      <td>1</td>\n      <td>1</td>\n      <td>0</td>\n      <td>1</td>\n      <td>1</td>\n      <td>1</td>\n      <td>0</td>\n      <td>2</td>\n    </tr>\n    <tr>\n      <th>2</th>\n      <td>OSA symptoms</td>\n      <td>Breath abnormalities-related complaints</td>\n      <td>S003</td>\n      <td>Self-complaints of breath abnormalities</td>\n      <td>0</td>\n      <td>0</td>\n      <td>0</td>\n      <td>0</td>\n      <td>0</td>\n      <td>0</td>\n      <td>2</td>\n      <td>0</td>\n      <td>1</td>\n      <td>0</td>\n      <td>0</td>\n    </tr>\n    <tr>\n      <th>3</th>\n      <td>OSA symptoms</td>\n      <td>Breath abnormalities-related complaints</td>\n      <td>S004</td>\n      <td>Breath abnormalities complaints reported by other</td>\n      <td>0</td>\n      <td>0</td>\n      <td>0</td>\n      <td>0</td>\n      <td>1</td>\n      <td>1</td>\n      <td>0</td>\n      <td>0</td>\n      <td>0</td>\n      <td>0</td>\n      <td>0</td>\n    </tr>\n    <tr>\n      <th>4</th>\n      <td>OSA symptoms</td>\n      <td>Breath abnormalities-related complaints</td>\n      <td>S005</td>\n      <td>Sweating</td>\n      <td>0</td>\n      <td>0</td>\n      <td>0</td>\n      <td>0</td>\n      <td>0</td>\n      <td>0</td>\n      <td>0</td>\n      <td>0</td>\n      <td>1</td>\n      <td>0</td>\n      <td>0</td>\n    </tr>\n  </tbody>\n</table>\n</div>",
          "text/plain": "       Category                              Subcategory    Ab  \\\n0  OSA symptoms                                  Snoring  S001   \n1  OSA symptoms                                  Snoring  S002   \n2  OSA symptoms  Breath abnormalities-related complaints  S003   \n3  OSA symptoms  Breath abnormalities-related complaints  S004   \n4  OSA symptoms  Breath abnormalities-related complaints  S005   \n\n                                             Symptom  GOAL  NoSAS  STOP  \\\n0                                            Snoring     0      1     0   \n1                                       Loud Snoring     1      0     1   \n2           Self-complaints of breath abnormalities      0      0     0   \n3  Breath abnormalities complaints reported by other     0      0     0   \n4                                           Sweating     0      0     0   \n\n   STOP-Bang  Berlin  OSA 50  ASA  Wisconsin Q  SA-SDQ  Haraldsson  AS  \n0          0       1       0    1            1       0           1   2  \n1          1       1       0    1            1       1           0   2  \n2          0       0       0    2            0       1           0   0  \n3          0       1       1    0            0       0           0   0  \n4          0       0       0    0            0       1           0   0  "
         },
         "metadata": {},
         "output_type": "display_data"
        }
       ]
      }
     },
     "9cf854dba31a43b2a169fb22bdf56848": {
      "model_module": "jupyterlab-plotly",
      "model_module_version": "^5.13.0",
      "model_name": "FigureModel",
      "state": {
       "_config": {
        "editSelection": false,
        "plotlyServerURL": "https://plot.ly"
       },
       "_data": [
        {
         "coloraxis": "coloraxis",
         "hovertemplate": "x: %{x}<br>y: %{y}<br>color: %{z}<extra></extra>",
         "name": "0",
         "texttemplate": "%{z}",
         "type": "heatmap",
         "uid": "7d4abe5a-5fb6-44bd-bfc2-60cd5ab12117",
         "x": [
          "ASA",
          "SA-SDQ",
          "STOP-Bang",
          "Berlin",
          "Haraldsson",
          "NoSAS",
          "STOP",
          "GOAL",
          "OSA 50",
          "AS",
          "Wisconsin Q"
         ],
         "xaxis": "x",
         "y": [
          "ASA",
          "SA-SDQ",
          "STOP-Bang",
          "Berlin",
          "Haraldsson",
          "NoSAS",
          "STOP",
          "GOAL",
          "OSA 50",
          "AS",
          "Wisconsin Q"
         ],
         "yaxis": "y",
         "z": [
          [
           1,
           0.263,
           0.375,
           0.375,
           0.333,
           0.2,
           0.286,
           0.133,
           0.062,
           0.308,
           0.231
          ],
          [
           0.263,
           1,
           0.333,
           0.25,
           0.125,
           0.143,
           0.231,
           0.25,
           0.154,
           0.154,
           0.167
          ],
          [
           0.375,
           0.333,
           1,
           0.385,
           0.231,
           0.4,
           0.556,
           0.444,
           0.182,
           0.182,
           0.2
          ],
          [
           0.375,
           0.25,
           0.385,
           1,
           0.231,
           0.167,
           0.4,
           0.182,
           0.182,
           0.3,
           0.333
          ],
          [
           0.333,
           0.125,
           0.231,
           0.231,
           1,
           0.091,
           0.333,
           0,
           0.1,
           0.222,
           0.25
          ],
          [
           0.2,
           0.143,
           0.4,
           0.167,
           0.091,
           1,
           0,
           0.5,
           0.125,
           0.125,
           0.143
          ],
          [
           0.286,
           0.231,
           0.556,
           0.4,
           0.333,
           0,
           1,
           0.125,
           0.125,
           0.286,
           0.333
          ],
          [
           0.133,
           0.25,
           0.444,
           0.182,
           0,
           0.5,
           0.125,
           1,
           0.143,
           0.143,
           0.167
          ],
          [
           0.062,
           0.154,
           0.182,
           0.182,
           0.1,
           0.125,
           0.125,
           0.143,
           1,
           0.143,
           0.167
          ],
          [
           0.308,
           0.154,
           0.182,
           0.3,
           0.222,
           0.125,
           0.286,
           0.143,
           0.143,
           1,
           0.75
          ],
          [
           0.231,
           0.167,
           0.2,
           0.333,
           0.25,
           0.143,
           0.333,
           0.167,
           0.167,
           0.75,
           1
          ]
         ]
        }
       ],
       "_js2py_pointsCallback": {},
       "_js2py_relayout": {},
       "_js2py_restyle": {},
       "_js2py_update": {},
       "_last_layout_edit_id": 2,
       "_last_trace_edit_id": 2,
       "_layout": {
        "autosize": false,
        "coloraxis": {
         "colorscale": [
          [
           0,
           "rgb(12,51,131)"
          ],
          [
           0.25,
           "rgb(10,136,186)"
          ],
          [
           0.5,
           "rgb(242,211,56)"
          ],
          [
           0.75,
           "rgb(242,143,56)"
          ],
          [
           1,
           "rgb(217,30,30)"
          ]
         ]
        },
        "height": 600,
        "margin": {
         "t": 60
        },
        "template": {
         "data": {
          "bar": [
           {
            "error_x": {
             "color": "#2a3f5f"
            },
            "error_y": {
             "color": "#2a3f5f"
            },
            "marker": {
             "line": {
              "color": "#E5ECF6",
              "width": 0.5
             },
             "pattern": {
              "fillmode": "overlay",
              "size": 10,
              "solidity": 0.2
             }
            },
            "type": "bar"
           }
          ],
          "barpolar": [
           {
            "marker": {
             "line": {
              "color": "#E5ECF6",
              "width": 0.5
             },
             "pattern": {
              "fillmode": "overlay",
              "size": 10,
              "solidity": 0.2
             }
            },
            "type": "barpolar"
           }
          ],
          "carpet": [
           {
            "aaxis": {
             "endlinecolor": "#2a3f5f",
             "gridcolor": "white",
             "linecolor": "white",
             "minorgridcolor": "white",
             "startlinecolor": "#2a3f5f"
            },
            "baxis": {
             "endlinecolor": "#2a3f5f",
             "gridcolor": "white",
             "linecolor": "white",
             "minorgridcolor": "white",
             "startlinecolor": "#2a3f5f"
            },
            "type": "carpet"
           }
          ],
          "choropleth": [
           {
            "colorbar": {
             "outlinewidth": 0,
             "ticks": ""
            },
            "type": "choropleth"
           }
          ],
          "contour": [
           {
            "colorbar": {
             "outlinewidth": 0,
             "ticks": ""
            },
            "colorscale": [
             [
              0,
              "#0d0887"
             ],
             [
              0.1111111111111111,
              "#46039f"
             ],
             [
              0.2222222222222222,
              "#7201a8"
             ],
             [
              0.3333333333333333,
              "#9c179e"
             ],
             [
              0.4444444444444444,
              "#bd3786"
             ],
             [
              0.5555555555555556,
              "#d8576b"
             ],
             [
              0.6666666666666666,
              "#ed7953"
             ],
             [
              0.7777777777777778,
              "#fb9f3a"
             ],
             [
              0.8888888888888888,
              "#fdca26"
             ],
             [
              1,
              "#f0f921"
             ]
            ],
            "type": "contour"
           }
          ],
          "contourcarpet": [
           {
            "colorbar": {
             "outlinewidth": 0,
             "ticks": ""
            },
            "type": "contourcarpet"
           }
          ],
          "heatmap": [
           {
            "colorbar": {
             "outlinewidth": 0,
             "ticks": ""
            },
            "colorscale": [
             [
              0,
              "#0d0887"
             ],
             [
              0.1111111111111111,
              "#46039f"
             ],
             [
              0.2222222222222222,
              "#7201a8"
             ],
             [
              0.3333333333333333,
              "#9c179e"
             ],
             [
              0.4444444444444444,
              "#bd3786"
             ],
             [
              0.5555555555555556,
              "#d8576b"
             ],
             [
              0.6666666666666666,
              "#ed7953"
             ],
             [
              0.7777777777777778,
              "#fb9f3a"
             ],
             [
              0.8888888888888888,
              "#fdca26"
             ],
             [
              1,
              "#f0f921"
             ]
            ],
            "type": "heatmap"
           }
          ],
          "heatmapgl": [
           {
            "colorbar": {
             "outlinewidth": 0,
             "ticks": ""
            },
            "colorscale": [
             [
              0,
              "#0d0887"
             ],
             [
              0.1111111111111111,
              "#46039f"
             ],
             [
              0.2222222222222222,
              "#7201a8"
             ],
             [
              0.3333333333333333,
              "#9c179e"
             ],
             [
              0.4444444444444444,
              "#bd3786"
             ],
             [
              0.5555555555555556,
              "#d8576b"
             ],
             [
              0.6666666666666666,
              "#ed7953"
             ],
             [
              0.7777777777777778,
              "#fb9f3a"
             ],
             [
              0.8888888888888888,
              "#fdca26"
             ],
             [
              1,
              "#f0f921"
             ]
            ],
            "type": "heatmapgl"
           }
          ],
          "histogram": [
           {
            "marker": {
             "pattern": {
              "fillmode": "overlay",
              "size": 10,
              "solidity": 0.2
             }
            },
            "type": "histogram"
           }
          ],
          "histogram2d": [
           {
            "colorbar": {
             "outlinewidth": 0,
             "ticks": ""
            },
            "colorscale": [
             [
              0,
              "#0d0887"
             ],
             [
              0.1111111111111111,
              "#46039f"
             ],
             [
              0.2222222222222222,
              "#7201a8"
             ],
             [
              0.3333333333333333,
              "#9c179e"
             ],
             [
              0.4444444444444444,
              "#bd3786"
             ],
             [
              0.5555555555555556,
              "#d8576b"
             ],
             [
              0.6666666666666666,
              "#ed7953"
             ],
             [
              0.7777777777777778,
              "#fb9f3a"
             ],
             [
              0.8888888888888888,
              "#fdca26"
             ],
             [
              1,
              "#f0f921"
             ]
            ],
            "type": "histogram2d"
           }
          ],
          "histogram2dcontour": [
           {
            "colorbar": {
             "outlinewidth": 0,
             "ticks": ""
            },
            "colorscale": [
             [
              0,
              "#0d0887"
             ],
             [
              0.1111111111111111,
              "#46039f"
             ],
             [
              0.2222222222222222,
              "#7201a8"
             ],
             [
              0.3333333333333333,
              "#9c179e"
             ],
             [
              0.4444444444444444,
              "#bd3786"
             ],
             [
              0.5555555555555556,
              "#d8576b"
             ],
             [
              0.6666666666666666,
              "#ed7953"
             ],
             [
              0.7777777777777778,
              "#fb9f3a"
             ],
             [
              0.8888888888888888,
              "#fdca26"
             ],
             [
              1,
              "#f0f921"
             ]
            ],
            "type": "histogram2dcontour"
           }
          ],
          "mesh3d": [
           {
            "colorbar": {
             "outlinewidth": 0,
             "ticks": ""
            },
            "type": "mesh3d"
           }
          ],
          "parcoords": [
           {
            "line": {
             "colorbar": {
              "outlinewidth": 0,
              "ticks": ""
             }
            },
            "type": "parcoords"
           }
          ],
          "pie": [
           {
            "automargin": true,
            "type": "pie"
           }
          ],
          "scatter": [
           {
            "fillpattern": {
             "fillmode": "overlay",
             "size": 10,
             "solidity": 0.2
            },
            "type": "scatter"
           }
          ],
          "scatter3d": [
           {
            "line": {
             "colorbar": {
              "outlinewidth": 0,
              "ticks": ""
             }
            },
            "marker": {
             "colorbar": {
              "outlinewidth": 0,
              "ticks": ""
             }
            },
            "type": "scatter3d"
           }
          ],
          "scattercarpet": [
           {
            "marker": {
             "colorbar": {
              "outlinewidth": 0,
              "ticks": ""
             }
            },
            "type": "scattercarpet"
           }
          ],
          "scattergeo": [
           {
            "marker": {
             "colorbar": {
              "outlinewidth": 0,
              "ticks": ""
             }
            },
            "type": "scattergeo"
           }
          ],
          "scattergl": [
           {
            "marker": {
             "colorbar": {
              "outlinewidth": 0,
              "ticks": ""
             }
            },
            "type": "scattergl"
           }
          ],
          "scattermapbox": [
           {
            "marker": {
             "colorbar": {
              "outlinewidth": 0,
              "ticks": ""
             }
            },
            "type": "scattermapbox"
           }
          ],
          "scatterpolar": [
           {
            "marker": {
             "colorbar": {
              "outlinewidth": 0,
              "ticks": ""
             }
            },
            "type": "scatterpolar"
           }
          ],
          "scatterpolargl": [
           {
            "marker": {
             "colorbar": {
              "outlinewidth": 0,
              "ticks": ""
             }
            },
            "type": "scatterpolargl"
           }
          ],
          "scatterternary": [
           {
            "marker": {
             "colorbar": {
              "outlinewidth": 0,
              "ticks": ""
             }
            },
            "type": "scatterternary"
           }
          ],
          "surface": [
           {
            "colorbar": {
             "outlinewidth": 0,
             "ticks": ""
            },
            "colorscale": [
             [
              0,
              "#0d0887"
             ],
             [
              0.1111111111111111,
              "#46039f"
             ],
             [
              0.2222222222222222,
              "#7201a8"
             ],
             [
              0.3333333333333333,
              "#9c179e"
             ],
             [
              0.4444444444444444,
              "#bd3786"
             ],
             [
              0.5555555555555556,
              "#d8576b"
             ],
             [
              0.6666666666666666,
              "#ed7953"
             ],
             [
              0.7777777777777778,
              "#fb9f3a"
             ],
             [
              0.8888888888888888,
              "#fdca26"
             ],
             [
              1,
              "#f0f921"
             ]
            ],
            "type": "surface"
           }
          ],
          "table": [
           {
            "cells": {
             "fill": {
              "color": "#EBF0F8"
             },
             "line": {
              "color": "white"
             }
            },
            "header": {
             "fill": {
              "color": "#C8D4E3"
             },
             "line": {
              "color": "white"
             }
            },
            "type": "table"
           }
          ]
         },
         "layout": {
          "annotationdefaults": {
           "arrowcolor": "#2a3f5f",
           "arrowhead": 0,
           "arrowwidth": 1
          },
          "autotypenumbers": "strict",
          "coloraxis": {
           "colorbar": {
            "outlinewidth": 0,
            "ticks": ""
           }
          },
          "colorscale": {
           "diverging": [
            [
             0,
             "#8e0152"
            ],
            [
             0.1,
             "#c51b7d"
            ],
            [
             0.2,
             "#de77ae"
            ],
            [
             0.3,
             "#f1b6da"
            ],
            [
             0.4,
             "#fde0ef"
            ],
            [
             0.5,
             "#f7f7f7"
            ],
            [
             0.6,
             "#e6f5d0"
            ],
            [
             0.7,
             "#b8e186"
            ],
            [
             0.8,
             "#7fbc41"
            ],
            [
             0.9,
             "#4d9221"
            ],
            [
             1,
             "#276419"
            ]
           ],
           "sequential": [
            [
             0,
             "#0d0887"
            ],
            [
             0.1111111111111111,
             "#46039f"
            ],
            [
             0.2222222222222222,
             "#7201a8"
            ],
            [
             0.3333333333333333,
             "#9c179e"
            ],
            [
             0.4444444444444444,
             "#bd3786"
            ],
            [
             0.5555555555555556,
             "#d8576b"
            ],
            [
             0.6666666666666666,
             "#ed7953"
            ],
            [
             0.7777777777777778,
             "#fb9f3a"
            ],
            [
             0.8888888888888888,
             "#fdca26"
            ],
            [
             1,
             "#f0f921"
            ]
           ],
           "sequentialminus": [
            [
             0,
             "#0d0887"
            ],
            [
             0.1111111111111111,
             "#46039f"
            ],
            [
             0.2222222222222222,
             "#7201a8"
            ],
            [
             0.3333333333333333,
             "#9c179e"
            ],
            [
             0.4444444444444444,
             "#bd3786"
            ],
            [
             0.5555555555555556,
             "#d8576b"
            ],
            [
             0.6666666666666666,
             "#ed7953"
            ],
            [
             0.7777777777777778,
             "#fb9f3a"
            ],
            [
             0.8888888888888888,
             "#fdca26"
            ],
            [
             1,
             "#f0f921"
            ]
           ]
          },
          "colorway": [
           "#636efa",
           "#EF553B",
           "#00cc96",
           "#ab63fa",
           "#FFA15A",
           "#19d3f3",
           "#FF6692",
           "#B6E880",
           "#FF97FF",
           "#FECB52"
          ],
          "font": {
           "color": "#2a3f5f"
          },
          "geo": {
           "bgcolor": "white",
           "lakecolor": "white",
           "landcolor": "#E5ECF6",
           "showlakes": true,
           "showland": true,
           "subunitcolor": "white"
          },
          "hoverlabel": {
           "align": "left"
          },
          "hovermode": "closest",
          "mapbox": {
           "style": "light"
          },
          "paper_bgcolor": "white",
          "plot_bgcolor": "#E5ECF6",
          "polar": {
           "angularaxis": {
            "gridcolor": "white",
            "linecolor": "white",
            "ticks": ""
           },
           "bgcolor": "#E5ECF6",
           "radialaxis": {
            "gridcolor": "white",
            "linecolor": "white",
            "ticks": ""
           }
          },
          "scene": {
           "xaxis": {
            "backgroundcolor": "#E5ECF6",
            "gridcolor": "white",
            "gridwidth": 2,
            "linecolor": "white",
            "showbackground": true,
            "ticks": "",
            "zerolinecolor": "white"
           },
           "yaxis": {
            "backgroundcolor": "#E5ECF6",
            "gridcolor": "white",
            "gridwidth": 2,
            "linecolor": "white",
            "showbackground": true,
            "ticks": "",
            "zerolinecolor": "white"
           },
           "zaxis": {
            "backgroundcolor": "#E5ECF6",
            "gridcolor": "white",
            "gridwidth": 2,
            "linecolor": "white",
            "showbackground": true,
            "ticks": "",
            "zerolinecolor": "white"
           }
          },
          "shapedefaults": {
           "line": {
            "color": "#2a3f5f"
           }
          },
          "ternary": {
           "aaxis": {
            "gridcolor": "white",
            "linecolor": "white",
            "ticks": ""
           },
           "baxis": {
            "gridcolor": "white",
            "linecolor": "white",
            "ticks": ""
           },
           "bgcolor": "#E5ECF6",
           "caxis": {
            "gridcolor": "white",
            "linecolor": "white",
            "ticks": ""
           }
          },
          "title": {
           "x": 0.05
          },
          "xaxis": {
           "automargin": true,
           "gridcolor": "white",
           "linecolor": "white",
           "ticks": "",
           "title": {
            "standoff": 15
           },
           "zerolinecolor": "white",
           "zerolinewidth": 2
          },
          "yaxis": {
           "automargin": true,
           "gridcolor": "white",
           "linecolor": "white",
           "ticks": "",
           "title": {
            "standoff": 15
           },
           "zerolinecolor": "white",
           "zerolinewidth": 2
          }
         }
        },
        "width": 600,
        "xaxis": {
         "anchor": "y",
         "constrain": "domain",
         "domain": [
          0,
          1
         ],
         "scaleanchor": "y",
         "side": "top"
        },
        "yaxis": {
         "anchor": "x",
         "constrain": "domain"
        }
       },
       "_py2js_addTraces": {},
       "_py2js_animate": {},
       "_py2js_deleteTraces": {},
       "_py2js_moveTraces": {},
       "_py2js_relayout": {},
       "_py2js_removeTraceProps": {},
       "_py2js_restyle": {},
       "_view_count": 0
      }
     },
     "9d46f6025f7d4a69a65d227d0454f172": {
      "model_module": "@jupyter-widgets/output",
      "model_module_version": "1.0.0",
      "model_name": "OutputModel",
      "state": {
       "layout": "IPY_MODEL_6ddc9b2644f147ec97c6a0792fe2e523"
      }
     },
     "9deafd43feb64cd0b5cce574911460d1": {
      "buffers": [
       {
        "data": "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",
        "encoding": "base64",
        "path": [
         "value"
        ]
       }
      ],
      "model_module": "@jupyter-widgets/controls",
      "model_module_version": "2.0.0",
      "model_name": "ImageModel",
      "state": {
       "layout": "IPY_MODEL_33366a7b92ce4d89a3966d27f0d2f9fa"
      }
     },
     "9f5737b3a3624895b55296792b5226bb": {
      "model_module": "@jupyter-widgets/controls",
      "model_module_version": "2.0.0",
      "model_name": "DescriptionStyleModel",
      "state": {
       "description_width": ""
      }
     },
     "a1d7154ce86041e69678c8f9e32daad0": {
      "model_module": "@jupyter-widgets/controls",
      "model_module_version": "2.0.0",
      "model_name": "DescriptionStyleModel",
      "state": {
       "description_width": ""
      }
     },
     "a229c568951f49d58c180d464538a271": {
      "model_module": "@jupyter-widgets/controls",
      "model_module_version": "2.0.0",
      "model_name": "ButtonStyleModel",
      "state": {
       "font_family": null,
       "font_size": null,
       "font_style": null,
       "font_variant": null,
       "font_weight": null,
       "text_color": null,
       "text_decoration": null
      }
     },
     "a2f3f36f54584bbbb18a24222ccc1d78": {
      "model_module": "@jupyter-widgets/controls",
      "model_module_version": "2.0.0",
      "model_name": "SliderStyleModel",
      "state": {
       "description_width": ""
      }
     },
     "a61b244064624403b62ee6b7d43aca60": {
      "model_module": "@jupyter-widgets/controls",
      "model_module_version": "2.0.0",
      "model_name": "HBoxModel",
      "state": {
       "children": [
        "IPY_MODEL_eca3272335524bbfbf59a4d550a335ee",
        "IPY_MODEL_b3cab7f4e362440db79aec35667d9538"
       ],
       "layout": "IPY_MODEL_201d52e361e448aa9ca387dd5c0a06a2"
      }
     },
     "a682e8ebfe8a422eb11ad0589b86b154": {
      "model_module": "@jupyter-widgets/controls",
      "model_module_version": "2.0.0",
      "model_name": "CheckboxStyleModel",
      "state": {
       "description_width": ""
      }
     },
     "a92716d897654bea8115bd9c2a68e783": {
      "model_module": "@jupyter-widgets/base",
      "model_module_version": "2.0.0",
      "model_name": "LayoutModel",
      "state": {}
     },
     "a98439f3c5d94eb1897840309ef56176": {
      "model_module": "@jupyter-widgets/output",
      "model_module_version": "1.0.0",
      "model_name": "OutputModel",
      "state": {
       "layout": "IPY_MODEL_70d589f9fb044e3d8fb80fb12530123b"
      }
     },
     "a98d0d3340bf452eb250c42a6b82b6e6": {
      "model_module": "@jupyter-widgets/controls",
      "model_module_version": "2.0.0",
      "model_name": "IntSliderModel",
      "state": {
       "behavior": "drag-tap",
       "description": "Width :",
       "layout": "IPY_MODEL_21c08930241f4fe1a139b2351b335ff7",
       "max": 1280,
       "min": 300,
       "style": "IPY_MODEL_5503a9ba82314d40adecf77ee71aa8ba",
       "value": 1067
      }
     },
     "aac5b269daec4caf8343ffe57f01174b": {
      "model_module": "@jupyter-widgets/base",
      "model_module_version": "2.0.0",
      "model_name": "LayoutModel",
      "state": {
       "grid_gap": "10px",
       "width": "100%"
      }
     },
     "abcb01b34af4457b8fde3ee1df93fbec": {
      "model_module": "@jupyter-widgets/controls",
      "model_module_version": "2.0.0",
      "model_name": "GridBoxModel",
      "state": {
       "children": [
        "IPY_MODEL_5f580db94443460a974cd9100fb0d3db",
        "IPY_MODEL_99498b77ccc9407699bf9c7c2fd0c765",
        "IPY_MODEL_3e1ab128500d4a729f0284ee1bd9aa2f",
        "IPY_MODEL_eadc0c2672bb43b385ca1584ce1e4669",
        "IPY_MODEL_558b572f8e3940549004ab41c26739cc",
        "IPY_MODEL_ca6f048eeeff40bead3e29b466b2ef72",
        "IPY_MODEL_d02da176b3ed4d0ea2ff7cfa2eabb036",
        "IPY_MODEL_327b875af4414664be8a802c241c0942",
        "IPY_MODEL_2df79a3425e64658b1e098f8a575cd8d",
        "IPY_MODEL_26c81a069cac405a8d8b08572b91d09d",
        "IPY_MODEL_1c73e53baed0408a81286010868cf259"
       ],
       "layout": "IPY_MODEL_153df4c9f8fb444080a1443356e96257"
      }
     },
     "ac3f62cf6ee24625a9463a24b1a68b2a": {
      "model_module": "@jupyter-widgets/controls",
      "model_module_version": "2.0.0",
      "model_name": "VBoxModel",
      "state": {
       "children": [
        "IPY_MODEL_6713f4b48cd842aeb1b6c5c9fbfbc72b",
        "IPY_MODEL_118e3ea9e9ed47a5967a5b8cedfd2420",
        "IPY_MODEL_bc76f1aeb7134306a3b36a02397f56a7",
        "IPY_MODEL_9a80fc993bee454d85af224da4232d8e"
       ],
       "layout": "IPY_MODEL_c8f530a8cffb4f0c9b63d6b257f9bf29"
      }
     },
     "ad93bd7a4cf5455d9ef307ffe58b8608": {
      "model_module": "@jupyter-widgets/base",
      "model_module_version": "2.0.0",
      "model_name": "LayoutModel",
      "state": {}
     },
     "adf1149b2ec34db1a30ede26e8a417cd": {
      "model_module": "@jupyter-widgets/controls",
      "model_module_version": "2.0.0",
      "model_name": "ButtonStyleModel",
      "state": {
       "font_family": null,
       "font_size": null,
       "font_style": null,
       "font_variant": null,
       "font_weight": null,
       "text_color": null,
       "text_decoration": null
      }
     },
     "ae11db81e85d4e918d50417faef3458a": {
      "model_module": "@jupyter-widgets/base",
      "model_module_version": "2.0.0",
      "model_name": "LayoutModel",
      "state": {}
     },
     "ae2091fad7d543989e34910fc53238ca": {
      "model_module": "@jupyter-widgets/output",
      "model_module_version": "1.0.0",
      "model_name": "OutputModel",
      "state": {
       "layout": "IPY_MODEL_5e96510564374931b9c405196f54b04b",
       "outputs": [
        {
         "data": {
          "text/html": "<div>\n<style scoped>\n    .dataframe tbody tr th:only-of-type {\n        vertical-align: middle;\n    }\n\n    .dataframe tbody tr th {\n        vertical-align: top;\n    }\n\n    .dataframe thead th {\n        text-align: right;\n    }\n</style>\n<table border=\"1\" class=\"dataframe\">\n  <thead>\n    <tr style=\"text-align: right;\">\n      <th></th>\n      <th>Avg. Jaccard Index</th>\n    </tr>\n  </thead>\n  <tbody>\n    <tr>\n      <th>Snoring</th>\n      <td>0.555556</td>\n    </tr>\n    <tr>\n      <th>Breath abnormalities-related complaints</th>\n      <td>0.250000</td>\n    </tr>\n    <tr>\n      <th>Breath abnormalities observations</th>\n      <td>1.000000</td>\n    </tr>\n    <tr>\n      <th>Context</th>\n      <td>NaN</td>\n    </tr>\n    <tr>\n      <th>Sleepiness</th>\n      <td>0.625000</td>\n    </tr>\n    <tr>\n      <th>Awakening</th>\n      <td>1.000000</td>\n    </tr>\n    <tr>\n      <th>Insomnia</th>\n      <td>NaN</td>\n    </tr>\n    <tr>\n      <th>Sociodemographic</th>\n      <td>0.700000</td>\n    </tr>\n    <tr>\n      <th>Anthropometric</th>\n      <td>0.500000</td>\n    </tr>\n    <tr>\n      <th>Comorbidity</th>\n      <td>0.750000</td>\n    </tr>\n    <tr>\n      <th>Anatomical airway</th>\n      <td>0.333333</td>\n    </tr>\n  </tbody>\n</table>\n</div>",
          "text/plain": "                                         Avg. Jaccard Index\nSnoring                                            0.555556\nBreath abnormalities-related complaints            0.250000\nBreath abnormalities observations                  1.000000\nContext                                                 NaN\nSleepiness                                         0.625000\nAwakening                                          1.000000\nInsomnia                                                NaN\nSociodemographic                                   0.700000\nAnthropometric                                     0.500000\nComorbidity                                        0.750000\nAnatomical airway                                  0.333333"
         },
         "metadata": {},
         "output_type": "display_data"
        }
       ]
      }
     },
     "ae61f294993148aa81a160b181334b68": {
      "model_module": "@jupyter-widgets/base",
      "model_module_version": "2.0.0",
      "model_name": "LayoutModel",
      "state": {}
     },
     "ae6ff8b7b0b544689984fe63f9a5296c": {
      "model_module": "@jupyter-widgets/controls",
      "model_module_version": "2.0.0",
      "model_name": "HBoxModel",
      "state": {
       "children": [
        "IPY_MODEL_5a51814c0efc4df89fb8adfa525978b1",
        "IPY_MODEL_e952d5cf4a714321bf4745dd0ce890a3"
       ],
       "layout": "IPY_MODEL_5dfec44178cd4246b97afa3858090c60"
      }
     },
     "aed653e0f0cd4890805732d78c00bacf": {
      "model_module": "@jupyter-widgets/controls",
      "model_module_version": "2.0.0",
      "model_name": "SliderStyleModel",
      "state": {
       "description_width": ""
      }
     },
     "b00005eb50314326942603b5706ebde3": {
      "model_module": "@jupyter-widgets/base",
      "model_module_version": "2.0.0",
      "model_name": "LayoutModel",
      "state": {}
     },
     "b075ae7d6f1c464385a1e852a88b2662": {
      "model_module": "jupyterlab-plotly",
      "model_module_version": "^5.13.0",
      "model_name": "FigureModel",
      "state": {
       "_config": {
        "editSelection": false,
        "plotlyServerURL": "https://plot.ly"
       },
       "_data": [
        {
         "branchvalues": "total",
         "domain": {
          "x": [
           0,
           1
          ],
          "y": [
           0,
           1
          ]
         },
         "hovertemplate": "sum_symptom: %{value}",
         "ids": [
          "Clinical<br>characteristics<br>/Sociodemographic<br>/Age",
          "OSA symptoms/Context/Alcohol promoting<br>factor",
          "Clinical<br>characteristics<br>/Anatomical airway<br>/Amygdala/Toncil<br>anatomical<br>factor",
          "Sleep-related<br>symptoms/Awakening/Awakening during<br>sleep",
          "Clinical<br>characteristics<br>/Anthropometric/BMI",
          "OSA symptoms/Breath<br>abnormalities-related<br>complaints<br>/Breath abnormalities<br>complaints<br>reported<br>by other",
          "Clinical<br>characteristics<br>/Anatomical airway<br>/Craniofacial<br>anatomical factor<br>",
          "Sleep-related<br>symptoms/Sleepiness/Daytime sleepiness<br>",
          "Sleep-related<br>symptoms/Sleepiness/Fatigue",
          "Sleep-related<br>symptoms/Sleepiness/Functionning<br>complaints",
          "Clinical<br>characteristics<br>/Comorbidity/HBP",
          "Sleep-related<br>symptoms/Insomnia/Insomnia initiating<br>",
          "Sleep-related<br>symptoms/Insomnia/Insomnia maintaining<br>",
          "OSA symptoms/Snoring/Loud Snoring",
          "Clinical<br>characteristics<br>/Anthropometric/Neck circumference<br>",
          "Clinical<br>characteristics<br>/Anatomical airway<br>/Nose anatomical<br>factor",
          "OSA symptoms/Context/Positional<br>promoting factor<br>",
          "OSA symptoms/Breath<br>abnormalities-related<br>complaints<br>/Self-complaints<br>of breath<br>abnormalities",
          "Clinical<br>characteristics<br>/Sociodemographic<br>/Sex",
          "Sleep-related<br>symptoms/Sleepiness/Sleepiness at<br>the wheel",
          "OSA symptoms/Snoring/Snoring",
          "OSA symptoms/Breath abnormalities<br>observations<br>/Stop breathing<br>observations",
          "OSA symptoms/Breath<br>abnormalities-related<br>complaints<br>/Sweating",
          "Clinical<br>characteristics<br>/Comorbidity/Tobacco",
          "Clinical<br>characteristics<br>/Anthropometric/Waist circumference<br>",
          "Clinical<br>characteristics<br>/Anatomical airway<br>",
          "Clinical<br>characteristics<br>/Anthropometric",
          "Sleep-related<br>symptoms/Awakening",
          "OSA symptoms/Breath abnormalities<br>observations<br>",
          "OSA symptoms/Breath<br>abnormalities-related<br>complaints<br>",
          "Clinical<br>characteristics<br>/Comorbidity",
          "OSA symptoms/Context",
          "Sleep-related<br>symptoms/Insomnia",
          "Sleep-related<br>symptoms/Sleepiness",
          "OSA symptoms/Snoring",
          "Clinical<br>characteristics<br>/Sociodemographic<br>",
          "Clinical<br>characteristics<br>",
          "OSA symptoms",
          "Sleep-related<br>symptoms"
         ],
         "insidetextorientation": "radial",
         "labels": [
          "Age",
          "Alcohol promoting<br>factor",
          "Amygdala/Toncil<br>anatomical<br>factor",
          "Awakening during<br>sleep",
          "BMI",
          "Breath abnormalities<br>complaints<br>reported<br>by other",
          "Craniofacial<br>anatomical factor<br>",
          "Daytime sleepiness<br>",
          "Fatigue",
          "Functionning<br>complaints",
          "HBP",
          "Insomnia initiating<br>",
          "Insomnia maintaining<br>",
          "Loud Snoring",
          "Neck circumference<br>",
          "Nose anatomical<br>factor",
          "Positional<br>promoting factor<br>",
          "Self-complaints<br>of breath<br>abnormalities",
          "Sex",
          "Sleepiness at<br>the wheel",
          "Snoring",
          "Stop breathing<br>observations",
          "Sweating",
          "Tobacco",
          "Waist circumference<br>",
          "Anatomical airway<br>",
          "Anthropometric",
          "Awakening",
          "Breath abnormalities<br>observations<br>",
          "Breath<br>abnormalities-related<br>complaints<br>",
          "Comorbidity",
          "Context",
          "Insomnia",
          "Sleepiness",
          "Snoring",
          "Sociodemographic<br>",
          "Clinical<br>characteristics<br>",
          "OSA symptoms",
          "Sleep-related<br>symptoms"
         ],
         "name": "",
         "parents": [
          "Clinical<br>characteristics<br>/Sociodemographic<br>",
          "OSA symptoms/Context",
          "Clinical<br>characteristics<br>/Anatomical airway<br>",
          "Sleep-related<br>symptoms/Awakening",
          "Clinical<br>characteristics<br>/Anthropometric",
          "OSA symptoms/Breath<br>abnormalities-related<br>complaints<br>",
          "Clinical<br>characteristics<br>/Anatomical airway<br>",
          "Sleep-related<br>symptoms/Sleepiness",
          "Sleep-related<br>symptoms/Sleepiness",
          "Sleep-related<br>symptoms/Sleepiness",
          "Clinical<br>characteristics<br>/Comorbidity",
          "Sleep-related<br>symptoms/Insomnia",
          "Sleep-related<br>symptoms/Insomnia",
          "OSA symptoms/Snoring",
          "Clinical<br>characteristics<br>/Anthropometric",
          "Clinical<br>characteristics<br>/Anatomical airway<br>",
          "OSA symptoms/Context",
          "OSA symptoms/Breath<br>abnormalities-related<br>complaints<br>",
          "Clinical<br>characteristics<br>/Sociodemographic<br>",
          "Sleep-related<br>symptoms/Sleepiness",
          "OSA symptoms/Snoring",
          "OSA symptoms/Breath abnormalities<br>observations<br>",
          "OSA symptoms/Breath<br>abnormalities-related<br>complaints<br>",
          "Clinical<br>characteristics<br>/Comorbidity",
          "Clinical<br>characteristics<br>/Anthropometric",
          "Clinical<br>characteristics<br>",
          "Clinical<br>characteristics<br>",
          "Sleep-related<br>symptoms",
          "OSA symptoms",
          "OSA symptoms",
          "Clinical<br>characteristics<br>",
          "OSA symptoms",
          "Sleep-related<br>symptoms",
          "Sleep-related<br>symptoms",
          "OSA symptoms",
          "Clinical<br>characteristics<br>",
          "",
          "",
          ""
         ],
         "type": "sunburst",
         "uid": "d3ed0c0b-0e93-4e3a-88d9-968548c9af66",
         "values": [
          5,
          1,
          2,
          3,
          6,
          2,
          1,
          4,
          5,
          1,
          4,
          1,
          1,
          8,
          3,
          1,
          1,
          2,
          3,
          2,
          6,
          9,
          1,
          1,
          1,
          4,
          10,
          3,
          9,
          5,
          5,
          2,
          2,
          12,
          14,
          8,
          27,
          30,
          17
         ]
        }
       ],
       "_js2py_relayout": {},
       "_js2py_restyle": {},
       "_js2py_update": {},
       "_layout": {
        "font": {
         "size": 11
        },
        "height": 600,
        "legend": {
         "tracegroupgap": 0
        },
        "margin": {
         "b": 0,
         "l": 0,
         "r": 0,
         "t": 0
        },
        "sunburstcolorway": [
         "rgb(102, 197, 204)",
         "rgb(246, 207, 113)",
         "rgb(248, 156, 116)",
         "rgb(220, 176, 242)",
         "rgb(135, 197, 95)",
         "rgb(158, 185, 243)",
         "rgb(254, 136, 177)",
         "rgb(201, 219, 116)",
         "rgb(139, 224, 164)",
         "rgb(180, 151, 231)",
         "rgb(179, 179, 179)"
        ],
        "template": {
         "data": {
          "bar": [
           {
            "error_x": {
             "color": "#2a3f5f"
            },
            "error_y": {
             "color": "#2a3f5f"
            },
            "marker": {
             "line": {
              "color": "#E5ECF6",
              "width": 0.5
             },
             "pattern": {
              "fillmode": "overlay",
              "size": 10,
              "solidity": 0.2
             }
            },
            "type": "bar"
           }
          ],
          "barpolar": [
           {
            "marker": {
             "line": {
              "color": "#E5ECF6",
              "width": 0.5
             },
             "pattern": {
              "fillmode": "overlay",
              "size": 10,
              "solidity": 0.2
             }
            },
            "type": "barpolar"
           }
          ],
          "carpet": [
           {
            "aaxis": {
             "endlinecolor": "#2a3f5f",
             "gridcolor": "white",
             "linecolor": "white",
             "minorgridcolor": "white",
             "startlinecolor": "#2a3f5f"
            },
            "baxis": {
             "endlinecolor": "#2a3f5f",
             "gridcolor": "white",
             "linecolor": "white",
             "minorgridcolor": "white",
             "startlinecolor": "#2a3f5f"
            },
            "type": "carpet"
           }
          ],
          "choropleth": [
           {
            "colorbar": {
             "outlinewidth": 0,
             "ticks": ""
            },
            "type": "choropleth"
           }
          ],
          "contour": [
           {
            "colorbar": {
             "outlinewidth": 0,
             "ticks": ""
            },
            "colorscale": [
             [
              0,
              "#0d0887"
             ],
             [
              0.1111111111111111,
              "#46039f"
             ],
             [
              0.2222222222222222,
              "#7201a8"
             ],
             [
              0.3333333333333333,
              "#9c179e"
             ],
             [
              0.4444444444444444,
              "#bd3786"
             ],
             [
              0.5555555555555556,
              "#d8576b"
             ],
             [
              0.6666666666666666,
              "#ed7953"
             ],
             [
              0.7777777777777778,
              "#fb9f3a"
             ],
             [
              0.8888888888888888,
              "#fdca26"
             ],
             [
              1,
              "#f0f921"
             ]
            ],
            "type": "contour"
           }
          ],
          "contourcarpet": [
           {
            "colorbar": {
             "outlinewidth": 0,
             "ticks": ""
            },
            "type": "contourcarpet"
           }
          ],
          "heatmap": [
           {
            "colorbar": {
             "outlinewidth": 0,
             "ticks": ""
            },
            "colorscale": [
             [
              0,
              "#0d0887"
             ],
             [
              0.1111111111111111,
              "#46039f"
             ],
             [
              0.2222222222222222,
              "#7201a8"
             ],
             [
              0.3333333333333333,
              "#9c179e"
             ],
             [
              0.4444444444444444,
              "#bd3786"
             ],
             [
              0.5555555555555556,
              "#d8576b"
             ],
             [
              0.6666666666666666,
              "#ed7953"
             ],
             [
              0.7777777777777778,
              "#fb9f3a"
             ],
             [
              0.8888888888888888,
              "#fdca26"
             ],
             [
              1,
              "#f0f921"
             ]
            ],
            "type": "heatmap"
           }
          ],
          "heatmapgl": [
           {
            "colorbar": {
             "outlinewidth": 0,
             "ticks": ""
            },
            "colorscale": [
             [
              0,
              "#0d0887"
             ],
             [
              0.1111111111111111,
              "#46039f"
             ],
             [
              0.2222222222222222,
              "#7201a8"
             ],
             [
              0.3333333333333333,
              "#9c179e"
             ],
             [
              0.4444444444444444,
              "#bd3786"
             ],
             [
              0.5555555555555556,
              "#d8576b"
             ],
             [
              0.6666666666666666,
              "#ed7953"
             ],
             [
              0.7777777777777778,
              "#fb9f3a"
             ],
             [
              0.8888888888888888,
              "#fdca26"
             ],
             [
              1,
              "#f0f921"
             ]
            ],
            "type": "heatmapgl"
           }
          ],
          "histogram": [
           {
            "marker": {
             "pattern": {
              "fillmode": "overlay",
              "size": 10,
              "solidity": 0.2
             }
            },
            "type": "histogram"
           }
          ],
          "histogram2d": [
           {
            "colorbar": {
             "outlinewidth": 0,
             "ticks": ""
            },
            "colorscale": [
             [
              0,
              "#0d0887"
             ],
             [
              0.1111111111111111,
              "#46039f"
             ],
             [
              0.2222222222222222,
              "#7201a8"
             ],
             [
              0.3333333333333333,
              "#9c179e"
             ],
             [
              0.4444444444444444,
              "#bd3786"
             ],
             [
              0.5555555555555556,
              "#d8576b"
             ],
             [
              0.6666666666666666,
              "#ed7953"
             ],
             [
              0.7777777777777778,
              "#fb9f3a"
             ],
             [
              0.8888888888888888,
              "#fdca26"
             ],
             [
              1,
              "#f0f921"
             ]
            ],
            "type": "histogram2d"
           }
          ],
          "histogram2dcontour": [
           {
            "colorbar": {
             "outlinewidth": 0,
             "ticks": ""
            },
            "colorscale": [
             [
              0,
              "#0d0887"
             ],
             [
              0.1111111111111111,
              "#46039f"
             ],
             [
              0.2222222222222222,
              "#7201a8"
             ],
             [
              0.3333333333333333,
              "#9c179e"
             ],
             [
              0.4444444444444444,
              "#bd3786"
             ],
             [
              0.5555555555555556,
              "#d8576b"
             ],
             [
              0.6666666666666666,
              "#ed7953"
             ],
             [
              0.7777777777777778,
              "#fb9f3a"
             ],
             [
              0.8888888888888888,
              "#fdca26"
             ],
             [
              1,
              "#f0f921"
             ]
            ],
            "type": "histogram2dcontour"
           }
          ],
          "mesh3d": [
           {
            "colorbar": {
             "outlinewidth": 0,
             "ticks": ""
            },
            "type": "mesh3d"
           }
          ],
          "parcoords": [
           {
            "line": {
             "colorbar": {
              "outlinewidth": 0,
              "ticks": ""
             }
            },
            "type": "parcoords"
           }
          ],
          "pie": [
           {
            "automargin": true,
            "type": "pie"
           }
          ],
          "scatter": [
           {
            "fillpattern": {
             "fillmode": "overlay",
             "size": 10,
             "solidity": 0.2
            },
            "type": "scatter"
           }
          ],
          "scatter3d": [
           {
            "line": {
             "colorbar": {
              "outlinewidth": 0,
              "ticks": ""
             }
            },
            "marker": {
             "colorbar": {
              "outlinewidth": 0,
              "ticks": ""
             }
            },
            "type": "scatter3d"
           }
          ],
          "scattercarpet": [
           {
            "marker": {
             "colorbar": {
              "outlinewidth": 0,
              "ticks": ""
             }
            },
            "type": "scattercarpet"
           }
          ],
          "scattergeo": [
           {
            "marker": {
             "colorbar": {
              "outlinewidth": 0,
              "ticks": ""
             }
            },
            "type": "scattergeo"
           }
          ],
          "scattergl": [
           {
            "marker": {
             "colorbar": {
              "outlinewidth": 0,
              "ticks": ""
             }
            },
            "type": "scattergl"
           }
          ],
          "scattermapbox": [
           {
            "marker": {
             "colorbar": {
              "outlinewidth": 0,
              "ticks": ""
             }
            },
            "type": "scattermapbox"
           }
          ],
          "scatterpolar": [
           {
            "marker": {
             "colorbar": {
              "outlinewidth": 0,
              "ticks": ""
             }
            },
            "type": "scatterpolar"
           }
          ],
          "scatterpolargl": [
           {
            "marker": {
             "colorbar": {
              "outlinewidth": 0,
              "ticks": ""
             }
            },
            "type": "scatterpolargl"
           }
          ],
          "scatterternary": [
           {
            "marker": {
             "colorbar": {
              "outlinewidth": 0,
              "ticks": ""
             }
            },
            "type": "scatterternary"
           }
          ],
          "surface": [
           {
            "colorbar": {
             "outlinewidth": 0,
             "ticks": ""
            },
            "colorscale": [
             [
              0,
              "#0d0887"
             ],
             [
              0.1111111111111111,
              "#46039f"
             ],
             [
              0.2222222222222222,
              "#7201a8"
             ],
             [
              0.3333333333333333,
              "#9c179e"
             ],
             [
              0.4444444444444444,
              "#bd3786"
             ],
             [
              0.5555555555555556,
              "#d8576b"
             ],
             [
              0.6666666666666666,
              "#ed7953"
             ],
             [
              0.7777777777777778,
              "#fb9f3a"
             ],
             [
              0.8888888888888888,
              "#fdca26"
             ],
             [
              1,
              "#f0f921"
             ]
            ],
            "type": "surface"
           }
          ],
          "table": [
           {
            "cells": {
             "fill": {
              "color": "#EBF0F8"
             },
             "line": {
              "color": "white"
             }
            },
            "header": {
             "fill": {
              "color": "#C8D4E3"
             },
             "line": {
              "color": "white"
             }
            },
            "type": "table"
           }
          ]
         },
         "layout": {
          "annotationdefaults": {
           "arrowcolor": "#2a3f5f",
           "arrowhead": 0,
           "arrowwidth": 1
          },
          "autotypenumbers": "strict",
          "coloraxis": {
           "colorbar": {
            "outlinewidth": 0,
            "ticks": ""
           }
          },
          "colorscale": {
           "diverging": [
            [
             0,
             "#8e0152"
            ],
            [
             0.1,
             "#c51b7d"
            ],
            [
             0.2,
             "#de77ae"
            ],
            [
             0.3,
             "#f1b6da"
            ],
            [
             0.4,
             "#fde0ef"
            ],
            [
             0.5,
             "#f7f7f7"
            ],
            [
             0.6,
             "#e6f5d0"
            ],
            [
             0.7,
             "#b8e186"
            ],
            [
             0.8,
             "#7fbc41"
            ],
            [
             0.9,
             "#4d9221"
            ],
            [
             1,
             "#276419"
            ]
           ],
           "sequential": [
            [
             0,
             "#0d0887"
            ],
            [
             0.1111111111111111,
             "#46039f"
            ],
            [
             0.2222222222222222,
             "#7201a8"
            ],
            [
             0.3333333333333333,
             "#9c179e"
            ],
            [
             0.4444444444444444,
             "#bd3786"
            ],
            [
             0.5555555555555556,
             "#d8576b"
            ],
            [
             0.6666666666666666,
             "#ed7953"
            ],
            [
             0.7777777777777778,
             "#fb9f3a"
            ],
            [
             0.8888888888888888,
             "#fdca26"
            ],
            [
             1,
             "#f0f921"
            ]
           ],
           "sequentialminus": [
            [
             0,
             "#0d0887"
            ],
            [
             0.1111111111111111,
             "#46039f"
            ],
            [
             0.2222222222222222,
             "#7201a8"
            ],
            [
             0.3333333333333333,
             "#9c179e"
            ],
            [
             0.4444444444444444,
             "#bd3786"
            ],
            [
             0.5555555555555556,
             "#d8576b"
            ],
            [
             0.6666666666666666,
             "#ed7953"
            ],
            [
             0.7777777777777778,
             "#fb9f3a"
            ],
            [
             0.8888888888888888,
             "#fdca26"
            ],
            [
             1,
             "#f0f921"
            ]
           ]
          },
          "colorway": [
           "#636efa",
           "#EF553B",
           "#00cc96",
           "#ab63fa",
           "#FFA15A",
           "#19d3f3",
           "#FF6692",
           "#B6E880",
           "#FF97FF",
           "#FECB52"
          ],
          "font": {
           "color": "#2a3f5f"
          },
          "geo": {
           "bgcolor": "white",
           "lakecolor": "white",
           "landcolor": "#E5ECF6",
           "showlakes": true,
           "showland": true,
           "subunitcolor": "white"
          },
          "hoverlabel": {
           "align": "left"
          },
          "hovermode": "closest",
          "mapbox": {
           "style": "light"
          },
          "paper_bgcolor": "white",
          "plot_bgcolor": "#E5ECF6",
          "polar": {
           "angularaxis": {
            "gridcolor": "white",
            "linecolor": "white",
            "ticks": ""
           },
           "bgcolor": "#E5ECF6",
           "radialaxis": {
            "gridcolor": "white",
            "linecolor": "white",
            "ticks": ""
           }
          },
          "scene": {
           "xaxis": {
            "backgroundcolor": "#E5ECF6",
            "gridcolor": "white",
            "gridwidth": 2,
            "linecolor": "white",
            "showbackground": true,
            "ticks": "",
            "zerolinecolor": "white"
           },
           "yaxis": {
            "backgroundcolor": "#E5ECF6",
            "gridcolor": "white",
            "gridwidth": 2,
            "linecolor": "white",
            "showbackground": true,
            "ticks": "",
            "zerolinecolor": "white"
           },
           "zaxis": {
            "backgroundcolor": "#E5ECF6",
            "gridcolor": "white",
            "gridwidth": 2,
            "linecolor": "white",
            "showbackground": true,
            "ticks": "",
            "zerolinecolor": "white"
           }
          },
          "shapedefaults": {
           "line": {
            "color": "#2a3f5f"
           }
          },
          "ternary": {
           "aaxis": {
            "gridcolor": "white",
            "linecolor": "white",
            "ticks": ""
           },
           "baxis": {
            "gridcolor": "white",
            "linecolor": "white",
            "ticks": ""
           },
           "bgcolor": "#E5ECF6",
           "caxis": {
            "gridcolor": "white",
            "linecolor": "white",
            "ticks": ""
           }
          },
          "title": {
           "x": 0.05
          },
          "xaxis": {
           "automargin": true,
           "gridcolor": "white",
           "linecolor": "white",
           "ticks": "",
           "title": {
            "standoff": 15
           },
           "zerolinecolor": "white",
           "zerolinewidth": 2
          },
          "yaxis": {
           "automargin": true,
           "gridcolor": "white",
           "linecolor": "white",
           "ticks": "",
           "title": {
            "standoff": 15
           },
           "zerolinecolor": "white",
           "zerolinewidth": 2
          }
         }
        },
        "width": 600
       },
       "_py2js_addTraces": {},
       "_py2js_animate": {},
       "_py2js_deleteTraces": {},
       "_py2js_moveTraces": {},
       "_py2js_relayout": {},
       "_py2js_removeLayoutProps": {},
       "_py2js_removeTraceProps": {},
       "_py2js_restyle": {},
       "_py2js_update": {},
       "_view_count": 0
      }
     },
     "b3cab7f4e362440db79aec35667d9538": {
      "model_module": "@jupyter-widgets/controls",
      "model_module_version": "2.0.0",
      "model_name": "IntSliderModel",
      "state": {
       "behavior": "drag-tap",
       "description": "Width :",
       "layout": "IPY_MODEL_183e2c26a8c64342bd15cb983f3d79f4",
       "max": 1280,
       "min": 300,
       "style": "IPY_MODEL_d17e851e69614a62af5d913b5dad8315",
       "value": 500
      }
     },
     "b3f8d413671a4b789ca077f66fceac44": {
      "model_module": "@jupyter-widgets/output",
      "model_module_version": "1.0.0",
      "model_name": "OutputModel",
      "state": {
       "layout": "IPY_MODEL_9c0e67419f0b42138cef3e1f3903b18f"
      }
     },
     "b5982fcadffe420ea95bcba4179fa30c": {
      "model_module": "@jupyter-widgets/output",
      "model_module_version": "1.0.0",
      "model_name": "OutputModel",
      "state": {
       "layout": "IPY_MODEL_e3e262232f1a4955b8571d2c6a48f75b",
       "outputs": [
        {
         "data": {
          "text/html": "<div>\n<style scoped>\n    .dataframe tbody tr th:only-of-type {\n        vertical-align: middle;\n    }\n\n    .dataframe tbody tr th {\n        vertical-align: top;\n    }\n\n    .dataframe thead th {\n        text-align: right;\n    }\n</style>\n<table border=\"1\" class=\"dataframe\">\n  <thead>\n    <tr style=\"text-align: right;\">\n      <th></th>\n      <th>Avg. Jaccard Index</th>\n      <th>Specific symptoms</th>\n      <th>Compound symptoms</th>\n      <th>Total</th>\n    </tr>\n  </thead>\n  <tbody>\n    <tr>\n      <th>ASA</th>\n      <td>0.256650</td>\n      <td>9</td>\n      <td>4</td>\n      <td>13</td>\n    </tr>\n    <tr>\n      <th>SA-SDQ</th>\n      <td>0.206948</td>\n      <td>10</td>\n      <td>1</td>\n      <td>11</td>\n    </tr>\n    <tr>\n      <th>STOP-Bang</th>\n      <td>0.328735</td>\n      <td>7</td>\n      <td>2</td>\n      <td>9</td>\n    </tr>\n    <tr>\n      <th>Berlin</th>\n      <td>0.280402</td>\n      <td>8</td>\n      <td>1</td>\n      <td>9</td>\n    </tr>\n    <tr>\n      <th>Haraldsson</th>\n      <td>0.191634</td>\n      <td>3</td>\n      <td>4</td>\n      <td>7</td>\n    </tr>\n    <tr>\n      <th>NoSAS</th>\n      <td>0.189329</td>\n      <td>5</td>\n      <td>0</td>\n      <td>5</td>\n    </tr>\n    <tr>\n      <th>STOP</th>\n      <td>0.267442</td>\n      <td>3</td>\n      <td>2</td>\n      <td>5</td>\n    </tr>\n    <tr>\n      <th>GOAL</th>\n      <td>0.208698</td>\n      <td>4</td>\n      <td>0</td>\n      <td>4</td>\n    </tr>\n    <tr>\n      <th>OSA 50</th>\n      <td>0.138236</td>\n      <td>4</td>\n      <td>0</td>\n      <td>4</td>\n    </tr>\n    <tr>\n      <th>AS</th>\n      <td>0.261201</td>\n      <td>2</td>\n      <td>2</td>\n      <td>4</td>\n    </tr>\n    <tr>\n      <th>Wisconsin Q</th>\n      <td>0.274029</td>\n      <td>3</td>\n      <td>0</td>\n      <td>3</td>\n    </tr>\n  </tbody>\n</table>\n</div>",
          "text/plain": "             Avg. Jaccard Index  Specific symptoms  Compound symptoms  Total\nASA                    0.256650                  9                  4     13\nSA-SDQ                 0.206948                 10                  1     11\nSTOP-Bang              0.328735                  7                  2      9\nBerlin                 0.280402                  8                  1      9\nHaraldsson             0.191634                  3                  4      7\nNoSAS                  0.189329                  5                  0      5\nSTOP                   0.267442                  3                  2      5\nGOAL                   0.208698                  4                  0      4\nOSA 50                 0.138236                  4                  0      4\nAS                     0.261201                  2                  2      4\nWisconsin Q            0.274029                  3                  0      3"
         },
         "metadata": {},
         "output_type": "display_data"
        },
        {
         "name": "stdout",
         "output_type": "stream",
         "text": "Correlation between Jaccard Index and number of specific symptoms:  SpearmanrResult(correlation=0.0, pvalue=1.0)\nCorrelation between Jaccard Index and number of compound symptoms:  SpearmanrResult(correlation=0.24545784641604232, pvalue=0.46691618386154077)\nCorrelation between Jaccard Index and total number of symptoms:  SpearmanrResult(correlation=0.11521838449545894, pvalue=0.7358609458354772)\n"
        }
       ]
      }
     },
     "b6350f3c44a94bf392b60adc5245bf04": {
      "model_module": "@jupyter-widgets/base",
      "model_module_version": "2.0.0",
      "model_name": "LayoutModel",
      "state": {
       "grid_gap": "5px",
       "justify_content": "flex-start",
       "width": "100%"
      }
     },
     "b64781dbd28640909f60357c456a156a": {
      "model_module": "@jupyter-widgets/base",
      "model_module_version": "2.0.0",
      "model_name": "LayoutModel",
      "state": {}
     },
     "b67c515817e543ea8a8a30eaa9283844": {
      "model_module": "@jupyter-widgets/base",
      "model_module_version": "2.0.0",
      "model_name": "LayoutModel",
      "state": {
       "align_items": "center",
       "grid_gap": "10px",
       "justify_content": "flex-start",
       "width": "100%"
      }
     },
     "b813ac58cc9845609b505558603c69e5": {
      "model_module": "@jupyter-widgets/controls",
      "model_module_version": "2.0.0",
      "model_name": "CheckboxStyleModel",
      "state": {
       "description_width": ""
      }
     },
     "b832d902373041069497868dbc7d5329": {
      "model_module": "@jupyter-widgets/base",
      "model_module_version": "2.0.0",
      "model_name": "LayoutModel",
      "state": {}
     },
     "b9b1d323cb6f4fecbcc33ff47d903f98": {
      "model_module": "@jupyter-widgets/controls",
      "model_module_version": "2.0.0",
      "model_name": "VBoxModel",
      "state": {
       "children": [
        "IPY_MODEL_dbb4b5eb89a2419aadf73abfba491cea"
       ],
       "layout": "IPY_MODEL_209c3cad51d4485699e9d09d10adee67"
      }
     },
     "bac7efdc84ef4b7d9ea5f346bc2f9a76": {
      "model_module": "@jupyter-widgets/controls",
      "model_module_version": "2.0.0",
      "model_name": "VBoxModel",
      "state": {
       "children": [
        "IPY_MODEL_75437ae22848419fb865266327665779"
       ],
       "layout": "IPY_MODEL_dd3823e1728c4ddfab6ae7e8611faf4d"
      }
     },
     "bc5e5df74c9a481a93c4205a3f9da179": {
      "model_module": "@jupyter-widgets/base",
      "model_module_version": "2.0.0",
      "model_name": "LayoutModel",
      "state": {}
     },
     "bc76f1aeb7134306a3b36a02397f56a7": {
      "model_module": "jupyterlab-plotly",
      "model_module_version": "^5.13.0",
      "model_name": "FigureModel",
      "state": {
       "_config": {
        "editSelection": false,
        "plotlyServerURL": "https://plot.ly"
       },
       "_data": [
        {
         "mode": "markers",
         "opacity": 0,
         "r": [
          0,
          0,
          0,
          0,
          0,
          0,
          0,
          0,
          0,
          0,
          0,
          0,
          0,
          0,
          0,
          0,
          0,
          0,
          0,
          0,
          0,
          0,
          0,
          0,
          0
         ],
         "showlegend": false,
         "theta": [
          "S006",
          "S002",
          "S001",
          "S020",
          "S010",
          "S016",
          "S009",
          "S021",
          "S013",
          "S017",
          "S018",
          "S003",
          "S004",
          "S011",
          "S024",
          "S005",
          "S007",
          "S008",
          "S012",
          "S014",
          "S015",
          "S019",
          "S022",
          "S023",
          "S025"
         ],
         "type": "scatterpolar",
         "uid": "1ac56a05-2b2c-497f-81bd-64a7c083b40f"
        },
        {
         "hoverinfo": "text",
         "hovertext": [
          "Scale: ASA<br>Sympt.:Stop breathing observations<br>Specific<br>Category: OSA symptoms",
          "Scale: ASA<br>Sympt.:Loud Snoring<br>Specific<br>Category: OSA symptoms",
          "Scale: ASA<br>Sympt.:Snoring<br>Specific<br>Category: OSA symptoms",
          "Scale: ASA<br>Sympt.:BMI<br>Specific<br>Category: Clinical characteristics",
          "Scale: ASA<br>Sympt.:Awakening during sleep<br>Specific<br>Category: Sleep-related symptoms",
          "Scale: ASA<br>Sympt.:Neck circumference<br>Specific<br>Category: Clinical characteristics",
          "Scale: ASA<br>Sympt.:Amygdala/Toncil anatomical factor<br>Specific<br>Category: Clinical characteristics",
          "Scale: ASA<br>Sympt.:Nose anatomical factor<br>Specific<br>Category: Clinical characteristics",
          "Scale: ASA<br>Sympt.:Craniofacial anatomical factor<br>Specific<br>Category: Clinical characteristics"
         ],
         "marker": {
          "color": "rgb(102, 197, 204)",
          "line": {
           "width": 0
          },
          "symbol": "circle"
         },
         "mode": "markers",
         "name": "ASA",
         "opacity": 1,
         "r": [
          20,
          20,
          20,
          20,
          20,
          20,
          20,
          20,
          20
         ],
         "theta": [
          "S006",
          "S002",
          "S001",
          "S020",
          "S013",
          "S018",
          "S024",
          "S023",
          "S025"
         ],
         "type": "scatterpolar",
         "uid": "7cbeb829-d536-40da-8969-edb0edf87a0c"
        },
        {
         "hoverinfo": "text",
         "hovertext": [
          "Scale: SA-SDQ<br>Sympt.:Stop breathing observations<br>Specific<br>Category: OSA symptoms",
          "Scale: SA-SDQ<br>Sympt.:Loud Snoring<br>Specific<br>Category: OSA symptoms",
          "Scale: SA-SDQ<br>Sympt.:BMI<br>Specific<br>Category: Clinical characteristics",
          "Scale: SA-SDQ<br>Sympt.:Age<br>Specific<br>Category: Clinical characteristics",
          "Scale: SA-SDQ<br>Sympt.:HBP<br>Specific<br>Category: Clinical characteristics",
          "Scale: SA-SDQ<br>Sympt.:Self-complaints of breath abnormalities <br>Specific<br>Category: OSA symptoms",
          "Scale: SA-SDQ<br>Sympt.:Sweating<br>Specific<br>Category: OSA symptoms",
          "Scale: SA-SDQ<br>Sympt.:Positional promoting factor<br>Specific<br>Category: OSA symptoms",
          "Scale: SA-SDQ<br>Sympt.:Alcohol promoting factor<br>Specific<br>Category: OSA symptoms",
          "Scale: SA-SDQ<br>Sympt.:Tobacco<br>Specific<br>Category: Clinical characteristics"
         ],
         "marker": {
          "color": "rgb(246, 207, 113)",
          "line": {
           "width": 0
          },
          "symbol": "circle"
         },
         "mode": "markers",
         "name": "SA-SDQ",
         "opacity": 1,
         "r": [
          19,
          19,
          19,
          19,
          19,
          19,
          19,
          19,
          19,
          19
         ],
         "theta": [
          "S006",
          "S002",
          "S020",
          "S016",
          "S021",
          "S003",
          "S005",
          "S007",
          "S008",
          "S022"
         ],
         "type": "scatterpolar",
         "uid": "96448696-7d39-414b-8424-02822728300b"
        },
        {
         "hoverinfo": "text",
         "hovertext": [
          "Scale: STOP-Bang<br>Sympt.:Stop breathing observations<br>Specific<br>Category: OSA symptoms",
          "Scale: STOP-Bang<br>Sympt.:Loud Snoring<br>Specific<br>Category: OSA symptoms",
          "Scale: STOP-Bang<br>Sympt.:BMI<br>Specific<br>Category: Clinical characteristics",
          "Scale: STOP-Bang<br>Sympt.:Age<br>Specific<br>Category: Clinical characteristics",
          "Scale: STOP-Bang<br>Sympt.:HBP<br>Specific<br>Category: Clinical characteristics",
          "Scale: STOP-Bang<br>Sympt.:Sex<br>Specific<br>Category: Clinical characteristics",
          "Scale: STOP-Bang<br>Sympt.:Neck circumference<br>Specific<br>Category: Clinical characteristics"
         ],
         "marker": {
          "color": "rgb(248, 156, 116)",
          "line": {
           "width": 0
          },
          "symbol": "circle"
         },
         "mode": "markers",
         "name": "STOP-Bang",
         "opacity": 1,
         "r": [
          18,
          18,
          18,
          18,
          18,
          18,
          18
         ],
         "theta": [
          "S006",
          "S002",
          "S020",
          "S016",
          "S021",
          "S017",
          "S018"
         ],
         "type": "scatterpolar",
         "uid": "1fd6b90d-0ead-4b49-9c9c-e67945408994"
        },
        {
         "hoverinfo": "text",
         "hovertext": [
          "Scale: Berlin<br>Sympt.:Stop breathing observations<br>Specific<br>Category: OSA symptoms",
          "Scale: Berlin<br>Sympt.:Loud Snoring<br>Specific<br>Category: OSA symptoms",
          "Scale: Berlin<br>Sympt.:Snoring<br>Specific<br>Category: OSA symptoms",
          "Scale: Berlin<br>Sympt.:BMI<br>Specific<br>Category: Clinical characteristics",
          "Scale: Berlin<br>Sympt.:Fatigue<br>Specific<br>Category: Sleep-related symptoms",
          "Scale: Berlin<br>Sympt.:HBP<br>Specific<br>Category: Clinical characteristics",
          "Scale: Berlin<br>Sympt.:Breath abnormalities complaints reported by other<br>Specific<br>Category: OSA symptoms",
          "Scale: Berlin<br>Sympt.:Sleepiness at the wheel<br>Specific<br>Category: Sleep-related symptoms"
         ],
         "marker": {
          "color": "rgb(220, 176, 242)",
          "line": {
           "width": 0
          },
          "symbol": "circle"
         },
         "mode": "markers",
         "name": "Berlin",
         "opacity": 1,
         "r": [
          17,
          17,
          17,
          17,
          17,
          17,
          17,
          17
         ],
         "theta": [
          "S006",
          "S002",
          "S001",
          "S020",
          "S010",
          "S021",
          "S004",
          "S011"
         ],
         "type": "scatterpolar",
         "uid": "f8657b42-0b21-44d1-a365-abcab262f133"
        },
        {
         "hoverinfo": "text",
         "hovertext": [
          "Scale: Haraldsson<br>Sympt.:Stop breathing observations<br>Specific<br>Category: OSA symptoms",
          "Scale: Haraldsson<br>Sympt.:Snoring<br>Specific<br>Category: OSA symptoms",
          "Scale: Haraldsson<br>Sympt.:Awakening during sleep<br>Specific<br>Category: Sleep-related symptoms"
         ],
         "marker": {
          "color": "rgb(135, 197, 95)",
          "line": {
           "width": 0
          },
          "symbol": "circle"
         },
         "mode": "markers",
         "name": "Haraldsson",
         "opacity": 1,
         "r": [
          16,
          16,
          16
         ],
         "theta": [
          "S006",
          "S001",
          "S013"
         ],
         "type": "scatterpolar",
         "uid": "a226b945-df23-4f81-a1f3-231c5cc9243d"
        },
        {
         "hoverinfo": "text",
         "hovertext": [
          "Scale: NoSAS<br>Sympt.:Snoring<br>Specific<br>Category: OSA symptoms",
          "Scale: NoSAS<br>Sympt.:BMI<br>Specific<br>Category: Clinical characteristics",
          "Scale: NoSAS<br>Sympt.:Age<br>Specific<br>Category: Clinical characteristics",
          "Scale: NoSAS<br>Sympt.:Sex<br>Specific<br>Category: Clinical characteristics",
          "Scale: NoSAS<br>Sympt.:Neck circumference<br>Specific<br>Category: Clinical characteristics"
         ],
         "marker": {
          "color": "rgb(158, 185, 243)",
          "line": {
           "width": 0
          },
          "symbol": "circle"
         },
         "mode": "markers",
         "name": "NoSAS",
         "opacity": 1,
         "r": [
          15,
          15,
          15,
          15,
          15
         ],
         "theta": [
          "S001",
          "S020",
          "S016",
          "S017",
          "S018"
         ],
         "type": "scatterpolar",
         "uid": "d5d61d33-efea-43b7-aa07-8038ba1f1e91"
        },
        {
         "hoverinfo": "text",
         "hovertext": [
          "Scale: STOP<br>Sympt.:Stop breathing observations<br>Specific<br>Category: OSA symptoms",
          "Scale: STOP<br>Sympt.:Loud Snoring<br>Specific<br>Category: OSA symptoms",
          "Scale: STOP<br>Sympt.:HBP<br>Specific<br>Category: Clinical characteristics"
         ],
         "marker": {
          "color": "rgb(254, 136, 177)",
          "line": {
           "width": 0
          },
          "symbol": "circle"
         },
         "mode": "markers",
         "name": "STOP",
         "opacity": 1,
         "r": [
          14,
          14,
          14
         ],
         "theta": [
          "S006",
          "S002",
          "S021"
         ],
         "type": "scatterpolar",
         "uid": "dbcfcf13-5c73-4b01-bef0-5d6c9647c7c1"
        },
        {
         "hoverinfo": "text",
         "hovertext": [
          "Scale: GOAL<br>Sympt.:Loud Snoring<br>Specific<br>Category: OSA symptoms",
          "Scale: GOAL<br>Sympt.:BMI<br>Specific<br>Category: Clinical characteristics",
          "Scale: GOAL<br>Sympt.:Age<br>Specific<br>Category: Clinical characteristics",
          "Scale: GOAL<br>Sympt.:Sex<br>Specific<br>Category: Clinical characteristics"
         ],
         "marker": {
          "color": "rgb(201, 219, 116)",
          "line": {
           "width": 0
          },
          "symbol": "circle"
         },
         "mode": "markers",
         "name": "GOAL",
         "opacity": 1,
         "r": [
          13,
          13,
          13,
          13
         ],
         "theta": [
          "S002",
          "S020",
          "S016",
          "S017"
         ],
         "type": "scatterpolar",
         "uid": "c16c5fb1-a755-48e9-a7df-776f302c93df"
        },
        {
         "hoverinfo": "text",
         "hovertext": [
          "Scale: OSA 50<br>Sympt.:Stop breathing observations<br>Specific<br>Category: OSA symptoms",
          "Scale: OSA 50<br>Sympt.:Age<br>Specific<br>Category: Clinical characteristics",
          "Scale: OSA 50<br>Sympt.:Breath abnormalities complaints reported by other<br>Specific<br>Category: OSA symptoms",
          "Scale: OSA 50<br>Sympt.:Waist circumference <br>Specific<br>Category: Clinical characteristics"
         ],
         "marker": {
          "color": "rgb(139, 224, 164)",
          "line": {
           "width": 0
          },
          "symbol": "circle"
         },
         "mode": "markers",
         "name": "OSA 50",
         "opacity": 1,
         "r": [
          12,
          12,
          12,
          12
         ],
         "theta": [
          "S006",
          "S016",
          "S004",
          "S019"
         ],
         "type": "scatterpolar",
         "uid": "94c3367d-2e97-4668-b362-f7380608742f"
        },
        {
         "hoverinfo": "text",
         "hovertext": [
          "Scale: AS<br>Sympt.:Stop breathing observations<br>Specific<br>Category: OSA symptoms",
          "Scale: AS<br>Sympt.:Amygdala/Toncil anatomical factor<br>Specific<br>Category: Clinical characteristics"
         ],
         "marker": {
          "color": "rgb(180, 151, 231)",
          "line": {
           "width": 0
          },
          "symbol": "circle"
         },
         "mode": "markers",
         "name": "AS",
         "opacity": 1,
         "r": [
          11,
          11
         ],
         "theta": [
          "S006",
          "S024"
         ],
         "type": "scatterpolar",
         "uid": "5ba1dcfc-9b09-41fe-94d2-6a088deab75f"
        },
        {
         "hoverinfo": "text",
         "hovertext": [
          "Scale: Wisconsin Q<br>Sympt.:Stop breathing observations<br>Specific<br>Category: OSA symptoms",
          "Scale: Wisconsin Q<br>Sympt.:Loud Snoring<br>Specific<br>Category: OSA symptoms",
          "Scale: Wisconsin Q<br>Sympt.:Snoring<br>Specific<br>Category: OSA symptoms"
         ],
         "marker": {
          "color": "rgb(179, 179, 179)",
          "line": {
           "width": 0
          },
          "symbol": "circle"
         },
         "mode": "markers",
         "name": "Wisconsin Q",
         "opacity": 1,
         "r": [
          10,
          10,
          10
         ],
         "theta": [
          "S006",
          "S002",
          "S001"
         ],
         "type": "scatterpolar",
         "uid": "d7ca5be4-4081-4544-b2a7-6fc37483b0a8"
        },
        {
         "hoverinfo": "text",
         "hovertext": [
          "Scale: ASA<br>Sympt.:Fatigue<br>Compound<br>Category: Sleep-related symptoms",
          "Scale: ASA<br>Sympt.:Daytime sleepiness<br>Compound<br>Category: Sleep-related symptoms",
          "Scale: ASA<br>Sympt.:Self-complaints of breath abnormalities <br>Compound<br>Category: OSA symptoms",
          "Scale: ASA<br>Sympt.:Sleepiness at the wheel<br>Compound<br>Category: Sleep-related symptoms"
         ],
         "marker": {
          "color": "white",
          "line": {
           "color": "rgb(102, 197, 204)",
           "width": 1
          },
          "symbol": "circle"
         },
         "mode": "markers",
         "r": [
          20,
          20,
          20,
          20
         ],
         "showlegend": false,
         "theta": [
          "S010",
          "S009",
          "S003",
          "S011"
         ],
         "type": "scatterpolar",
         "uid": "bf5bfa17-7e1f-4d8c-8c9c-45871a28ad5b"
        },
        {
         "hoverinfo": "text",
         "hovertext": [
          "Scale: SA-SDQ<br>Sympt.:Awakening during sleep<br>Compound<br>Category: Sleep-related symptoms"
         ],
         "marker": {
          "color": "white",
          "line": {
           "color": "rgb(246, 207, 113)",
           "width": 1
          },
          "symbol": "circle"
         },
         "mode": "markers",
         "r": [
          19
         ],
         "showlegend": false,
         "theta": [
          "S013"
         ],
         "type": "scatterpolar",
         "uid": "cfc1ee10-ad79-46c6-a6b0-3fdd5b2676c0"
        },
        {
         "hoverinfo": "text",
         "hovertext": [
          "Scale: STOP-Bang<br>Sympt.:Fatigue<br>Compound<br>Category: Sleep-related symptoms",
          "Scale: STOP-Bang<br>Sympt.:Daytime sleepiness<br>Compound<br>Category: Sleep-related symptoms"
         ],
         "marker": {
          "color": "white",
          "line": {
           "color": "rgb(248, 156, 116)",
           "width": 1
          },
          "symbol": "circle"
         },
         "mode": "markers",
         "r": [
          18,
          18
         ],
         "showlegend": false,
         "theta": [
          "S010",
          "S009"
         ],
         "type": "scatterpolar",
         "uid": "a8117209-31ee-4cbd-ac35-ff37c7908463"
        },
        {
         "hoverinfo": "text",
         "hovertext": [
          "Scale: Berlin<br>Sympt.:Functionning complaints<br>Compound<br>Category: Sleep-related symptoms"
         ],
         "marker": {
          "color": "white",
          "line": {
           "color": "rgb(220, 176, 242)",
           "width": 1
          },
          "symbol": "circle"
         },
         "mode": "markers",
         "r": [
          17
         ],
         "showlegend": false,
         "theta": [
          "S012"
         ],
         "type": "scatterpolar",
         "uid": "6c7376e7-e9b9-4b2d-9fa2-a59553510e92"
        },
        {
         "hoverinfo": "text",
         "hovertext": [
          "Scale: Haraldsson<br>Sympt.:Fatigue<br>Compound<br>Category: Sleep-related symptoms",
          "Scale: Haraldsson<br>Sympt.:Daytime sleepiness<br>Compound<br>Category: Sleep-related symptoms",
          "Scale: Haraldsson<br>Sympt.:Insomnia maintaining<br>Compound<br>Category: Sleep-related symptoms",
          "Scale: Haraldsson<br>Sympt.:Insomnia initiating<br>Compound<br>Category: Sleep-related symptoms"
         ],
         "marker": {
          "color": "white",
          "line": {
           "color": "rgb(135, 197, 95)",
           "width": 1
          },
          "symbol": "circle"
         },
         "mode": "markers",
         "r": [
          16,
          16,
          16,
          16
         ],
         "showlegend": false,
         "theta": [
          "S010",
          "S009",
          "S014",
          "S015"
         ],
         "type": "scatterpolar",
         "uid": "f08f12c5-de94-41de-9763-b7d964cb0137"
        },
        {
         "hoverinfo": "text",
         "hovertext": [
          "Scale: STOP<br>Sympt.:Fatigue<br>Compound<br>Category: Sleep-related symptoms",
          "Scale: STOP<br>Sympt.:Daytime sleepiness<br>Compound<br>Category: Sleep-related symptoms"
         ],
         "marker": {
          "color": "white",
          "line": {
           "color": "rgb(254, 136, 177)",
           "width": 1
          },
          "symbol": "circle"
         },
         "mode": "markers",
         "r": [
          14,
          14
         ],
         "showlegend": false,
         "theta": [
          "S010",
          "S009"
         ],
         "type": "scatterpolar",
         "uid": "0ba5683f-4b06-470c-8291-81ea00404f32"
        },
        {
         "hoverinfo": "text",
         "hovertext": [
          "Scale: AS<br>Sympt.:Loud Snoring<br>Compound<br>Category: OSA symptoms",
          "Scale: AS<br>Sympt.:Snoring<br>Compound<br>Category: OSA symptoms"
         ],
         "marker": {
          "color": "white",
          "line": {
           "color": "rgb(180, 151, 231)",
           "width": 1
          },
          "symbol": "circle"
         },
         "mode": "markers",
         "r": [
          11,
          11
         ],
         "showlegend": false,
         "theta": [
          "S002",
          "S001"
         ],
         "type": "scatterpolar",
         "uid": "f08b5efd-3490-4ba7-bcc0-308dd23a814a"
        },
        {
         "fill": "toself",
         "fillcolor": "white",
         "line": {
          "color": "white",
          "width": 0
         },
         "r": [
          6,
          6,
          6,
          6,
          6,
          6,
          6,
          6,
          6,
          6,
          6,
          6,
          6,
          6,
          6,
          6,
          6,
          6,
          6,
          6,
          6,
          6,
          6,
          6,
          6
         ],
         "showlegend": false,
         "theta": [
          "S006",
          "S002",
          "S001",
          "S020",
          "S010",
          "S016",
          "S009",
          "S021",
          "S013",
          "S017",
          "S018",
          "S003",
          "S004",
          "S011",
          "S024",
          "S005",
          "S007",
          "S008",
          "S012",
          "S014",
          "S015",
          "S019",
          "S022",
          "S023",
          "S025"
         ],
         "type": "scatterpolar",
         "uid": "c0924ea9-88d2-46f0-9570-ba1d3ce42ccd"
        }
       ],
       "_js2py_pointsCallback": {},
       "_js2py_relayout": {},
       "_js2py_restyle": {},
       "_js2py_update": {},
       "_last_layout_edit_id": 23,
       "_last_trace_edit_id": 23,
       "_layout": {
        "autosize": true,
        "height": 500,
        "legend": {
         "font": {
          "color": "black",
          "size": 10
         }
        },
        "polar": {
         "angularaxis": {
          "direction": "counterclockwise",
          "gridcolor": "lightgrey",
          "rotation": 90,
          "tickfont": {
           "size": 7
          }
         },
         "bgcolor": "white",
         "radialaxis": {
          "color": "lightgrey",
          "dtick": 1,
          "gridcolor": "lightgrey",
          "gridwidth": 1,
          "layer": "below traces",
          "linecolor": "lightgrey",
          "range": [
           0,
           21
          ],
          "showgrid": true,
          "visible": true
         }
        },
        "template": {
         "data": {
          "bar": [
           {
            "error_x": {
             "color": "#2a3f5f"
            },
            "error_y": {
             "color": "#2a3f5f"
            },
            "marker": {
             "line": {
              "color": "#E5ECF6",
              "width": 0.5
             },
             "pattern": {
              "fillmode": "overlay",
              "size": 10,
              "solidity": 0.2
             }
            },
            "type": "bar"
           }
          ],
          "barpolar": [
           {
            "marker": {
             "line": {
              "color": "#E5ECF6",
              "width": 0.5
             },
             "pattern": {
              "fillmode": "overlay",
              "size": 10,
              "solidity": 0.2
             }
            },
            "type": "barpolar"
           }
          ],
          "carpet": [
           {
            "aaxis": {
             "endlinecolor": "#2a3f5f",
             "gridcolor": "white",
             "linecolor": "white",
             "minorgridcolor": "white",
             "startlinecolor": "#2a3f5f"
            },
            "baxis": {
             "endlinecolor": "#2a3f5f",
             "gridcolor": "white",
             "linecolor": "white",
             "minorgridcolor": "white",
             "startlinecolor": "#2a3f5f"
            },
            "type": "carpet"
           }
          ],
          "choropleth": [
           {
            "colorbar": {
             "outlinewidth": 0,
             "ticks": ""
            },
            "type": "choropleth"
           }
          ],
          "contour": [
           {
            "colorbar": {
             "outlinewidth": 0,
             "ticks": ""
            },
            "colorscale": [
             [
              0,
              "#0d0887"
             ],
             [
              0.1111111111111111,
              "#46039f"
             ],
             [
              0.2222222222222222,
              "#7201a8"
             ],
             [
              0.3333333333333333,
              "#9c179e"
             ],
             [
              0.4444444444444444,
              "#bd3786"
             ],
             [
              0.5555555555555556,
              "#d8576b"
             ],
             [
              0.6666666666666666,
              "#ed7953"
             ],
             [
              0.7777777777777778,
              "#fb9f3a"
             ],
             [
              0.8888888888888888,
              "#fdca26"
             ],
             [
              1,
              "#f0f921"
             ]
            ],
            "type": "contour"
           }
          ],
          "contourcarpet": [
           {
            "colorbar": {
             "outlinewidth": 0,
             "ticks": ""
            },
            "type": "contourcarpet"
           }
          ],
          "heatmap": [
           {
            "colorbar": {
             "outlinewidth": 0,
             "ticks": ""
            },
            "colorscale": [
             [
              0,
              "#0d0887"
             ],
             [
              0.1111111111111111,
              "#46039f"
             ],
             [
              0.2222222222222222,
              "#7201a8"
             ],
             [
              0.3333333333333333,
              "#9c179e"
             ],
             [
              0.4444444444444444,
              "#bd3786"
             ],
             [
              0.5555555555555556,
              "#d8576b"
             ],
             [
              0.6666666666666666,
              "#ed7953"
             ],
             [
              0.7777777777777778,
              "#fb9f3a"
             ],
             [
              0.8888888888888888,
              "#fdca26"
             ],
             [
              1,
              "#f0f921"
             ]
            ],
            "type": "heatmap"
           }
          ],
          "heatmapgl": [
           {
            "colorbar": {
             "outlinewidth": 0,
             "ticks": ""
            },
            "colorscale": [
             [
              0,
              "#0d0887"
             ],
             [
              0.1111111111111111,
              "#46039f"
             ],
             [
              0.2222222222222222,
              "#7201a8"
             ],
             [
              0.3333333333333333,
              "#9c179e"
             ],
             [
              0.4444444444444444,
              "#bd3786"
             ],
             [
              0.5555555555555556,
              "#d8576b"
             ],
             [
              0.6666666666666666,
              "#ed7953"
             ],
             [
              0.7777777777777778,
              "#fb9f3a"
             ],
             [
              0.8888888888888888,
              "#fdca26"
             ],
             [
              1,
              "#f0f921"
             ]
            ],
            "type": "heatmapgl"
           }
          ],
          "histogram": [
           {
            "marker": {
             "pattern": {
              "fillmode": "overlay",
              "size": 10,
              "solidity": 0.2
             }
            },
            "type": "histogram"
           }
          ],
          "histogram2d": [
           {
            "colorbar": {
             "outlinewidth": 0,
             "ticks": ""
            },
            "colorscale": [
             [
              0,
              "#0d0887"
             ],
             [
              0.1111111111111111,
              "#46039f"
             ],
             [
              0.2222222222222222,
              "#7201a8"
             ],
             [
              0.3333333333333333,
              "#9c179e"
             ],
             [
              0.4444444444444444,
              "#bd3786"
             ],
             [
              0.5555555555555556,
              "#d8576b"
             ],
             [
              0.6666666666666666,
              "#ed7953"
             ],
             [
              0.7777777777777778,
              "#fb9f3a"
             ],
             [
              0.8888888888888888,
              "#fdca26"
             ],
             [
              1,
              "#f0f921"
             ]
            ],
            "type": "histogram2d"
           }
          ],
          "histogram2dcontour": [
           {
            "colorbar": {
             "outlinewidth": 0,
             "ticks": ""
            },
            "colorscale": [
             [
              0,
              "#0d0887"
             ],
             [
              0.1111111111111111,
              "#46039f"
             ],
             [
              0.2222222222222222,
              "#7201a8"
             ],
             [
              0.3333333333333333,
              "#9c179e"
             ],
             [
              0.4444444444444444,
              "#bd3786"
             ],
             [
              0.5555555555555556,
              "#d8576b"
             ],
             [
              0.6666666666666666,
              "#ed7953"
             ],
             [
              0.7777777777777778,
              "#fb9f3a"
             ],
             [
              0.8888888888888888,
              "#fdca26"
             ],
             [
              1,
              "#f0f921"
             ]
            ],
            "type": "histogram2dcontour"
           }
          ],
          "mesh3d": [
           {
            "colorbar": {
             "outlinewidth": 0,
             "ticks": ""
            },
            "type": "mesh3d"
           }
          ],
          "parcoords": [
           {
            "line": {
             "colorbar": {
              "outlinewidth": 0,
              "ticks": ""
             }
            },
            "type": "parcoords"
           }
          ],
          "pie": [
           {
            "automargin": true,
            "type": "pie"
           }
          ],
          "scatter": [
           {
            "fillpattern": {
             "fillmode": "overlay",
             "size": 10,
             "solidity": 0.2
            },
            "type": "scatter"
           }
          ],
          "scatter3d": [
           {
            "line": {
             "colorbar": {
              "outlinewidth": 0,
              "ticks": ""
             }
            },
            "marker": {
             "colorbar": {
              "outlinewidth": 0,
              "ticks": ""
             }
            },
            "type": "scatter3d"
           }
          ],
          "scattercarpet": [
           {
            "marker": {
             "colorbar": {
              "outlinewidth": 0,
              "ticks": ""
             }
            },
            "type": "scattercarpet"
           }
          ],
          "scattergeo": [
           {
            "marker": {
             "colorbar": {
              "outlinewidth": 0,
              "ticks": ""
             }
            },
            "type": "scattergeo"
           }
          ],
          "scattergl": [
           {
            "marker": {
             "colorbar": {
              "outlinewidth": 0,
              "ticks": ""
             }
            },
            "type": "scattergl"
           }
          ],
          "scattermapbox": [
           {
            "marker": {
             "colorbar": {
              "outlinewidth": 0,
              "ticks": ""
             }
            },
            "type": "scattermapbox"
           }
          ],
          "scatterpolar": [
           {
            "marker": {
             "colorbar": {
              "outlinewidth": 0,
              "ticks": ""
             }
            },
            "type": "scatterpolar"
           }
          ],
          "scatterpolargl": [
           {
            "marker": {
             "colorbar": {
              "outlinewidth": 0,
              "ticks": ""
             }
            },
            "type": "scatterpolargl"
           }
          ],
          "scatterternary": [
           {
            "marker": {
             "colorbar": {
              "outlinewidth": 0,
              "ticks": ""
             }
            },
            "type": "scatterternary"
           }
          ],
          "surface": [
           {
            "colorbar": {
             "outlinewidth": 0,
             "ticks": ""
            },
            "colorscale": [
             [
              0,
              "#0d0887"
             ],
             [
              0.1111111111111111,
              "#46039f"
             ],
             [
              0.2222222222222222,
              "#7201a8"
             ],
             [
              0.3333333333333333,
              "#9c179e"
             ],
             [
              0.4444444444444444,
              "#bd3786"
             ],
             [
              0.5555555555555556,
              "#d8576b"
             ],
             [
              0.6666666666666666,
              "#ed7953"
             ],
             [
              0.7777777777777778,
              "#fb9f3a"
             ],
             [
              0.8888888888888888,
              "#fdca26"
             ],
             [
              1,
              "#f0f921"
             ]
            ],
            "type": "surface"
           }
          ],
          "table": [
           {
            "cells": {
             "fill": {
              "color": "#EBF0F8"
             },
             "line": {
              "color": "white"
             }
            },
            "header": {
             "fill": {
              "color": "#C8D4E3"
             },
             "line": {
              "color": "white"
             }
            },
            "type": "table"
           }
          ]
         },
         "layout": {
          "annotationdefaults": {
           "arrowcolor": "#2a3f5f",
           "arrowhead": 0,
           "arrowwidth": 1
          },
          "autotypenumbers": "strict",
          "coloraxis": {
           "colorbar": {
            "outlinewidth": 0,
            "ticks": ""
           }
          },
          "colorscale": {
           "diverging": [
            [
             0,
             "#8e0152"
            ],
            [
             0.1,
             "#c51b7d"
            ],
            [
             0.2,
             "#de77ae"
            ],
            [
             0.3,
             "#f1b6da"
            ],
            [
             0.4,
             "#fde0ef"
            ],
            [
             0.5,
             "#f7f7f7"
            ],
            [
             0.6,
             "#e6f5d0"
            ],
            [
             0.7,
             "#b8e186"
            ],
            [
             0.8,
             "#7fbc41"
            ],
            [
             0.9,
             "#4d9221"
            ],
            [
             1,
             "#276419"
            ]
           ],
           "sequential": [
            [
             0,
             "#0d0887"
            ],
            [
             0.1111111111111111,
             "#46039f"
            ],
            [
             0.2222222222222222,
             "#7201a8"
            ],
            [
             0.3333333333333333,
             "#9c179e"
            ],
            [
             0.4444444444444444,
             "#bd3786"
            ],
            [
             0.5555555555555556,
             "#d8576b"
            ],
            [
             0.6666666666666666,
             "#ed7953"
            ],
            [
             0.7777777777777778,
             "#fb9f3a"
            ],
            [
             0.8888888888888888,
             "#fdca26"
            ],
            [
             1,
             "#f0f921"
            ]
           ],
           "sequentialminus": [
            [
             0,
             "#0d0887"
            ],
            [
             0.1111111111111111,
             "#46039f"
            ],
            [
             0.2222222222222222,
             "#7201a8"
            ],
            [
             0.3333333333333333,
             "#9c179e"
            ],
            [
             0.4444444444444444,
             "#bd3786"
            ],
            [
             0.5555555555555556,
             "#d8576b"
            ],
            [
             0.6666666666666666,
             "#ed7953"
            ],
            [
             0.7777777777777778,
             "#fb9f3a"
            ],
            [
             0.8888888888888888,
             "#fdca26"
            ],
            [
             1,
             "#f0f921"
            ]
           ]
          },
          "colorway": [
           "#636efa",
           "#EF553B",
           "#00cc96",
           "#ab63fa",
           "#FFA15A",
           "#19d3f3",
           "#FF6692",
           "#B6E880",
           "#FF97FF",
           "#FECB52"
          ],
          "font": {
           "color": "#2a3f5f"
          },
          "geo": {
           "bgcolor": "white",
           "lakecolor": "white",
           "landcolor": "#E5ECF6",
           "showlakes": true,
           "showland": true,
           "subunitcolor": "white"
          },
          "hoverlabel": {
           "align": "left"
          },
          "hovermode": "closest",
          "mapbox": {
           "style": "light"
          },
          "paper_bgcolor": "white",
          "plot_bgcolor": "#E5ECF6",
          "polar": {
           "angularaxis": {
            "gridcolor": "white",
            "linecolor": "white",
            "ticks": ""
           },
           "bgcolor": "#E5ECF6",
           "radialaxis": {
            "gridcolor": "white",
            "linecolor": "white",
            "ticks": ""
           }
          },
          "scene": {
           "xaxis": {
            "backgroundcolor": "#E5ECF6",
            "gridcolor": "white",
            "gridwidth": 2,
            "linecolor": "white",
            "showbackground": true,
            "ticks": "",
            "zerolinecolor": "white"
           },
           "yaxis": {
            "backgroundcolor": "#E5ECF6",
            "gridcolor": "white",
            "gridwidth": 2,
            "linecolor": "white",
            "showbackground": true,
            "ticks": "",
            "zerolinecolor": "white"
           },
           "zaxis": {
            "backgroundcolor": "#E5ECF6",
            "gridcolor": "white",
            "gridwidth": 2,
            "linecolor": "white",
            "showbackground": true,
            "ticks": "",
            "zerolinecolor": "white"
           }
          },
          "shapedefaults": {
           "line": {
            "color": "#2a3f5f"
           }
          },
          "ternary": {
           "aaxis": {
            "gridcolor": "white",
            "linecolor": "white",
            "ticks": ""
           },
           "baxis": {
            "gridcolor": "white",
            "linecolor": "white",
            "ticks": ""
           },
           "bgcolor": "#E5ECF6",
           "caxis": {
            "gridcolor": "white",
            "linecolor": "white",
            "ticks": ""
           }
          },
          "title": {
           "x": 0.05
          },
          "xaxis": {
           "automargin": true,
           "gridcolor": "white",
           "linecolor": "white",
           "ticks": "",
           "title": {
            "standoff": 15
           },
           "zerolinecolor": "white",
           "zerolinewidth": 2
          },
          "yaxis": {
           "automargin": true,
           "gridcolor": "white",
           "linecolor": "white",
           "ticks": "",
           "title": {
            "standoff": 15
           },
           "zerolinecolor": "white",
           "zerolinewidth": 2
          }
         }
        },
        "width": 600
       },
       "_py2js_animate": {},
       "_py2js_deleteTraces": {},
       "_py2js_moveTraces": {},
       "_py2js_removeTraceProps": {},
       "_py2js_restyle": {},
       "_view_count": 0
      }
     },
     "bc8eea9fc6e246a7a2721ff012dc4d82": {
      "model_module": "@jupyter-widgets/base",
      "model_module_version": "2.0.0",
      "model_name": "LayoutModel",
      "state": {
       "align_items": "center",
       "grid_gap": "10px",
       "justify_content": "flex-start",
       "width": "100%"
      }
     },
     "bfbb504866b6495a863f9d2232d2cdc1": {
      "model_module": "@jupyter-widgets/controls",
      "model_module_version": "2.0.0",
      "model_name": "SliderStyleModel",
      "state": {
       "description_width": ""
      }
     },
     "c00a8dc33a474631b6fb4b18129dc6e4": {
      "model_module": "@jupyter-widgets/base",
      "model_module_version": "2.0.0",
      "model_name": "LayoutModel",
      "state": {}
     },
     "c1a0408755f74522ad1246c5f9472e58": {
      "model_module": "@jupyter-widgets/controls",
      "model_module_version": "2.0.0",
      "model_name": "HBoxModel",
      "state": {
       "children": [
        "IPY_MODEL_30a75028bd3a4747a95dcbf751eec23c",
        "IPY_MODEL_41be032ca7bb45ab88693b106358ecf5"
       ],
       "layout": "IPY_MODEL_34e4898189ac430d83ab17ed2255b7e8"
      }
     },
     "c27f2fd77d96463890dff0aff3d72c24": {
      "model_module": "@jupyter-widgets/base",
      "model_module_version": "2.0.0",
      "model_name": "LayoutModel",
      "state": {}
     },
     "c2f016baa2ea485f9094db57f104a7d0": {
      "model_module": "@jupyter-widgets/controls",
      "model_module_version": "2.0.0",
      "model_name": "TextStyleModel",
      "state": {
       "description_width": "",
       "font_size": null,
       "text_color": null
      }
     },
     "c320d15f52eb4dfaa693dc68a8b04cc2": {
      "model_module": "@jupyter-widgets/base",
      "model_module_version": "2.0.0",
      "model_name": "LayoutModel",
      "state": {}
     },
     "c4a5f62ee3d64ce8965130a91194313f": {
      "model_module": "@jupyter-widgets/base",
      "model_module_version": "2.0.0",
      "model_name": "LayoutModel",
      "state": {
       "height": "15px",
       "visibility": "hidden",
       "width": "15px"
      }
     },
     "c6c593a14f034f7fb4c4b2651428a397": {
      "model_module": "@jupyter-widgets/controls",
      "model_module_version": "2.0.0",
      "model_name": "HBoxModel",
      "state": {
       "children": [
        "IPY_MODEL_dae0f034896d44368e0f5ce79a9bf910",
        "IPY_MODEL_e8eacb4099e440a0b2cfe627fa17c5ba"
       ],
       "layout": "IPY_MODEL_aac5b269daec4caf8343ffe57f01174b"
      }
     },
     "c773bf1ca1b747558014d82cefe75527": {
      "model_module": "@jupyter-widgets/controls",
      "model_module_version": "2.0.0",
      "model_name": "SliderStyleModel",
      "state": {
       "description_width": ""
      }
     },
     "c7c8f611a4034e11bb141ed436db7104": {
      "model_module": "@jupyter-widgets/output",
      "model_module_version": "1.0.0",
      "model_name": "OutputModel",
      "state": {
       "layout": "IPY_MODEL_91ad3e9486054785a4c3fed1005d696a"
      }
     },
     "c7cf52ac8b5d405a8516706ce1cc4fb9": {
      "model_module": "@jupyter-widgets/base",
      "model_module_version": "2.0.0",
      "model_name": "LayoutModel",
      "state": {}
     },
     "c8049b041e424a038543b3d1c742e979": {
      "model_module": "@jupyter-widgets/base",
      "model_module_version": "2.0.0",
      "model_name": "LayoutModel",
      "state": {}
     },
     "c8f530a8cffb4f0c9b63d6b257f9bf29": {
      "model_module": "@jupyter-widgets/base",
      "model_module_version": "2.0.0",
      "model_name": "LayoutModel",
      "state": {
       "align_items": "flex-start",
       "grid_gap": "10px",
       "overflow": "visible",
       "width": "max-content"
      }
     },
     "ca3c2e0ab892437bbd38fbf56a26835c": {
      "model_module": "@jupyter-widgets/controls",
      "model_module_version": "2.0.0",
      "model_name": "IntSliderModel",
      "state": {
       "behavior": "drag-tap",
       "description": "Width :",
       "layout": "IPY_MODEL_5fbece207e3c45cf9329ee12756e9f9f",
       "max": 1280,
       "min": 300,
       "style": "IPY_MODEL_3ec87b0391354fb29fd8a10db7408d0c",
       "value": 500
      }
     },
     "ca6f048eeeff40bead3e29b466b2ef72": {
      "model_module": "@jupyter-widgets/controls",
      "model_module_version": "2.0.0",
      "model_name": "CheckboxModel",
      "state": {
       "description": "OSA 50",
       "disabled": false,
       "layout": "IPY_MODEL_cb6875b11eba448db3e188f8db7dc4be",
       "style": "IPY_MODEL_d2ca7069dbb24fad9202520834aeef13",
       "value": false
      }
     },
     "cb6875b11eba448db3e188f8db7dc4be": {
      "model_module": "@jupyter-widgets/base",
      "model_module_version": "2.0.0",
      "model_name": "LayoutModel",
      "state": {}
     },
     "cbcc1f369b1046ca8bcca1b23387bfed": {
      "model_module": "@jupyter-widgets/controls",
      "model_module_version": "2.0.0",
      "model_name": "ButtonModel",
      "state": {
       "description": "Save",
       "disabled": true,
       "icon": "save",
       "layout": "IPY_MODEL_290acaf9fec24ba38e4483896d90fcfc",
       "style": "IPY_MODEL_96199a4718b345b8927e7cd33c2f7b4e",
       "tooltip": "Click here to save the figure"
      }
     },
     "cf46b6801b83429daee51cf03a62e918": {
      "model_module": "@jupyter-widgets/controls",
      "model_module_version": "2.0.0",
      "model_name": "VBoxModel",
      "state": {
       "children": [
        "IPY_MODEL_ae2091fad7d543989e34910fc53238ca"
       ],
       "layout": "IPY_MODEL_8d3e39aa528f443a90d8cf741661db2a"
      }
     },
     "d02da176b3ed4d0ea2ff7cfa2eabb036": {
      "model_module": "@jupyter-widgets/controls",
      "model_module_version": "2.0.0",
      "model_name": "CheckboxModel",
      "state": {
       "description": "ASA",
       "disabled": false,
       "layout": "IPY_MODEL_e5b0eac56d754b1384e5f3b9085c0f92",
       "style": "IPY_MODEL_d1001f5e8f754465a617d859cc9fdba2",
       "value": false
      }
     },
     "d1001f5e8f754465a617d859cc9fdba2": {
      "model_module": "@jupyter-widgets/controls",
      "model_module_version": "2.0.0",
      "model_name": "CheckboxStyleModel",
      "state": {
       "description_width": ""
      }
     },
     "d17e851e69614a62af5d913b5dad8315": {
      "model_module": "@jupyter-widgets/controls",
      "model_module_version": "2.0.0",
      "model_name": "SliderStyleModel",
      "state": {
       "description_width": ""
      }
     },
     "d2ca7069dbb24fad9202520834aeef13": {
      "model_module": "@jupyter-widgets/controls",
      "model_module_version": "2.0.0",
      "model_name": "CheckboxStyleModel",
      "state": {
       "description_width": ""
      }
     },
     "d30f842c34ce420cb04f5249733959e5": {
      "model_module": "@jupyter-widgets/base",
      "model_module_version": "2.0.0",
      "model_name": "LayoutModel",
      "state": {
       "height": "15px",
       "visibility": "hidden",
       "width": "15px"
      }
     },
     "d3f00c7dbae447ed8d07aec4ae84808b": {
      "model_module": "@jupyter-widgets/controls",
      "model_module_version": "2.0.0",
      "model_name": "CheckboxStyleModel",
      "state": {
       "description_width": ""
      }
     },
     "d82b4c12a0f141c58d962d7339a48c96": {
      "model_module": "@jupyter-widgets/base",
      "model_module_version": "2.0.0",
      "model_name": "LayoutModel",
      "state": {}
     },
     "d82c5f7203804993af33184cb41f1705": {
      "model_module": "@jupyter-widgets/controls",
      "model_module_version": "2.0.0",
      "model_name": "VBoxModel",
      "state": {
       "children": [
        "IPY_MODEL_b5982fcadffe420ea95bcba4179fa30c"
       ],
       "layout": "IPY_MODEL_fc3e15e753cc471b910e343933680c4b"
      }
     },
     "d85bf26f7d834cf68953b26f315ed646": {
      "model_module": "jupyterlab-plotly",
      "model_module_version": "^5.13.0",
      "model_name": "FigureModel",
      "state": {
       "_config": {
        "editSelection": false,
        "plotlyServerURL": "https://plot.ly"
       },
       "_data": [
        {
         "alignmentgroup": "True",
         "hovertemplate": "Category=OSA symptoms<br>Symptom=%{x}<br>Number of questionnaires=%{y}<extra></extra>",
         "legendgroup": "OSA symptoms",
         "marker": {
          "color": "rgb(102, 197, 204)",
          "pattern": {
           "shape": ""
          }
         },
         "name": "OSA symptoms",
         "offsetgroup": "OSA symptoms",
         "orientation": "v",
         "showlegend": true,
         "textposition": "auto",
         "type": "bar",
         "uid": "18fdafce-681c-4385-8efb-51c0bfe9ea44",
         "x": [
          "Stop breathing observations",
          "Loud Snoring",
          "Snoring",
          "Self-complaints of breath abnormalities ",
          "Breath abnormalities complaints reported by other",
          "Sweating",
          "Positional promoting factor",
          "Alcohol promoting factor"
         ],
         "xaxis": "x",
         "y": [
          9,
          8,
          6,
          2,
          2,
          1,
          1,
          1
         ],
         "yaxis": "y"
        },
        {
         "alignmentgroup": "True",
         "hovertemplate": "Category=Sleep-related symptoms<br>Symptom=%{x}<br>Number of questionnaires=%{y}<extra></extra>",
         "legendgroup": "Sleep-related symptoms",
         "marker": {
          "color": "rgb(246, 207, 113)",
          "pattern": {
           "shape": ""
          }
         },
         "name": "Sleep-related symptoms",
         "offsetgroup": "Sleep-related symptoms",
         "orientation": "v",
         "showlegend": true,
         "textposition": "auto",
         "type": "bar",
         "uid": "4db5405a-b99a-4da5-960e-3329be130faa",
         "x": [
          "Fatigue",
          "Daytime sleepiness",
          "Awakening during sleep",
          "Sleepiness at the wheel",
          "Functionning complaints",
          "Insomnia maintaining",
          "Insomnia initiating"
         ],
         "xaxis": "x",
         "y": [
          5,
          4,
          3,
          2,
          1,
          1,
          1
         ],
         "yaxis": "y"
        },
        {
         "alignmentgroup": "True",
         "hovertemplate": "Category=Clinical characteristics<br>Symptom=%{x}<br>Number of questionnaires=%{y}<extra></extra>",
         "legendgroup": "Clinical characteristics",
         "marker": {
          "color": "rgb(248, 156, 116)",
          "pattern": {
           "shape": ""
          }
         },
         "name": "Clinical characteristics",
         "offsetgroup": "Clinical characteristics",
         "orientation": "v",
         "showlegend": true,
         "textposition": "auto",
         "type": "bar",
         "uid": "6ed733dc-4ef7-4ee7-9881-f2ac67fc555b",
         "x": [
          "BMI",
          "Age",
          "HBP",
          "Sex",
          "Neck circumference",
          "Amygdala/Toncil anatomical factor",
          "Waist circumference ",
          "Tobacco",
          "Nose anatomical factor",
          "Craniofacial anatomical factor"
         ],
         "xaxis": "x",
         "y": [
          6,
          5,
          4,
          3,
          3,
          2,
          1,
          1,
          1,
          1
         ],
         "yaxis": "y"
        }
       ],
       "_js2py_pointsCallback": {},
       "_js2py_relayout": {},
       "_js2py_restyle": {},
       "_js2py_update": {},
       "_last_layout_edit_id": 2,
       "_last_trace_edit_id": 2,
       "_layout": {
        "autosize": true,
        "barmode": "relative",
        "height": 600,
        "legend": {
         "title": {
          "text": "Category"
         },
         "tracegroupgap": 0
        },
        "margin": {
         "t": 60
        },
        "template": {
         "data": {
          "bar": [
           {
            "error_x": {
             "color": "#2a3f5f"
            },
            "error_y": {
             "color": "#2a3f5f"
            },
            "marker": {
             "line": {
              "color": "#E5ECF6",
              "width": 0.5
             },
             "pattern": {
              "fillmode": "overlay",
              "size": 10,
              "solidity": 0.2
             }
            },
            "type": "bar"
           }
          ],
          "barpolar": [
           {
            "marker": {
             "line": {
              "color": "#E5ECF6",
              "width": 0.5
             },
             "pattern": {
              "fillmode": "overlay",
              "size": 10,
              "solidity": 0.2
             }
            },
            "type": "barpolar"
           }
          ],
          "carpet": [
           {
            "aaxis": {
             "endlinecolor": "#2a3f5f",
             "gridcolor": "white",
             "linecolor": "white",
             "minorgridcolor": "white",
             "startlinecolor": "#2a3f5f"
            },
            "baxis": {
             "endlinecolor": "#2a3f5f",
             "gridcolor": "white",
             "linecolor": "white",
             "minorgridcolor": "white",
             "startlinecolor": "#2a3f5f"
            },
            "type": "carpet"
           }
          ],
          "choropleth": [
           {
            "colorbar": {
             "outlinewidth": 0,
             "ticks": ""
            },
            "type": "choropleth"
           }
          ],
          "contour": [
           {
            "colorbar": {
             "outlinewidth": 0,
             "ticks": ""
            },
            "colorscale": [
             [
              0,
              "#0d0887"
             ],
             [
              0.1111111111111111,
              "#46039f"
             ],
             [
              0.2222222222222222,
              "#7201a8"
             ],
             [
              0.3333333333333333,
              "#9c179e"
             ],
             [
              0.4444444444444444,
              "#bd3786"
             ],
             [
              0.5555555555555556,
              "#d8576b"
             ],
             [
              0.6666666666666666,
              "#ed7953"
             ],
             [
              0.7777777777777778,
              "#fb9f3a"
             ],
             [
              0.8888888888888888,
              "#fdca26"
             ],
             [
              1,
              "#f0f921"
             ]
            ],
            "type": "contour"
           }
          ],
          "contourcarpet": [
           {
            "colorbar": {
             "outlinewidth": 0,
             "ticks": ""
            },
            "type": "contourcarpet"
           }
          ],
          "heatmap": [
           {
            "colorbar": {
             "outlinewidth": 0,
             "ticks": ""
            },
            "colorscale": [
             [
              0,
              "#0d0887"
             ],
             [
              0.1111111111111111,
              "#46039f"
             ],
             [
              0.2222222222222222,
              "#7201a8"
             ],
             [
              0.3333333333333333,
              "#9c179e"
             ],
             [
              0.4444444444444444,
              "#bd3786"
             ],
             [
              0.5555555555555556,
              "#d8576b"
             ],
             [
              0.6666666666666666,
              "#ed7953"
             ],
             [
              0.7777777777777778,
              "#fb9f3a"
             ],
             [
              0.8888888888888888,
              "#fdca26"
             ],
             [
              1,
              "#f0f921"
             ]
            ],
            "type": "heatmap"
           }
          ],
          "heatmapgl": [
           {
            "colorbar": {
             "outlinewidth": 0,
             "ticks": ""
            },
            "colorscale": [
             [
              0,
              "#0d0887"
             ],
             [
              0.1111111111111111,
              "#46039f"
             ],
             [
              0.2222222222222222,
              "#7201a8"
             ],
             [
              0.3333333333333333,
              "#9c179e"
             ],
             [
              0.4444444444444444,
              "#bd3786"
             ],
             [
              0.5555555555555556,
              "#d8576b"
             ],
             [
              0.6666666666666666,
              "#ed7953"
             ],
             [
              0.7777777777777778,
              "#fb9f3a"
             ],
             [
              0.8888888888888888,
              "#fdca26"
             ],
             [
              1,
              "#f0f921"
             ]
            ],
            "type": "heatmapgl"
           }
          ],
          "histogram": [
           {
            "marker": {
             "pattern": {
              "fillmode": "overlay",
              "size": 10,
              "solidity": 0.2
             }
            },
            "type": "histogram"
           }
          ],
          "histogram2d": [
           {
            "colorbar": {
             "outlinewidth": 0,
             "ticks": ""
            },
            "colorscale": [
             [
              0,
              "#0d0887"
             ],
             [
              0.1111111111111111,
              "#46039f"
             ],
             [
              0.2222222222222222,
              "#7201a8"
             ],
             [
              0.3333333333333333,
              "#9c179e"
             ],
             [
              0.4444444444444444,
              "#bd3786"
             ],
             [
              0.5555555555555556,
              "#d8576b"
             ],
             [
              0.6666666666666666,
              "#ed7953"
             ],
             [
              0.7777777777777778,
              "#fb9f3a"
             ],
             [
              0.8888888888888888,
              "#fdca26"
             ],
             [
              1,
              "#f0f921"
             ]
            ],
            "type": "histogram2d"
           }
          ],
          "histogram2dcontour": [
           {
            "colorbar": {
             "outlinewidth": 0,
             "ticks": ""
            },
            "colorscale": [
             [
              0,
              "#0d0887"
             ],
             [
              0.1111111111111111,
              "#46039f"
             ],
             [
              0.2222222222222222,
              "#7201a8"
             ],
             [
              0.3333333333333333,
              "#9c179e"
             ],
             [
              0.4444444444444444,
              "#bd3786"
             ],
             [
              0.5555555555555556,
              "#d8576b"
             ],
             [
              0.6666666666666666,
              "#ed7953"
             ],
             [
              0.7777777777777778,
              "#fb9f3a"
             ],
             [
              0.8888888888888888,
              "#fdca26"
             ],
             [
              1,
              "#f0f921"
             ]
            ],
            "type": "histogram2dcontour"
           }
          ],
          "mesh3d": [
           {
            "colorbar": {
             "outlinewidth": 0,
             "ticks": ""
            },
            "type": "mesh3d"
           }
          ],
          "parcoords": [
           {
            "line": {
             "colorbar": {
              "outlinewidth": 0,
              "ticks": ""
             }
            },
            "type": "parcoords"
           }
          ],
          "pie": [
           {
            "automargin": true,
            "type": "pie"
           }
          ],
          "scatter": [
           {
            "fillpattern": {
             "fillmode": "overlay",
             "size": 10,
             "solidity": 0.2
            },
            "type": "scatter"
           }
          ],
          "scatter3d": [
           {
            "line": {
             "colorbar": {
              "outlinewidth": 0,
              "ticks": ""
             }
            },
            "marker": {
             "colorbar": {
              "outlinewidth": 0,
              "ticks": ""
             }
            },
            "type": "scatter3d"
           }
          ],
          "scattercarpet": [
           {
            "marker": {
             "colorbar": {
              "outlinewidth": 0,
              "ticks": ""
             }
            },
            "type": "scattercarpet"
           }
          ],
          "scattergeo": [
           {
            "marker": {
             "colorbar": {
              "outlinewidth": 0,
              "ticks": ""
             }
            },
            "type": "scattergeo"
           }
          ],
          "scattergl": [
           {
            "marker": {
             "colorbar": {
              "outlinewidth": 0,
              "ticks": ""
             }
            },
            "type": "scattergl"
           }
          ],
          "scattermapbox": [
           {
            "marker": {
             "colorbar": {
              "outlinewidth": 0,
              "ticks": ""
             }
            },
            "type": "scattermapbox"
           }
          ],
          "scatterpolar": [
           {
            "marker": {
             "colorbar": {
              "outlinewidth": 0,
              "ticks": ""
             }
            },
            "type": "scatterpolar"
           }
          ],
          "scatterpolargl": [
           {
            "marker": {
             "colorbar": {
              "outlinewidth": 0,
              "ticks": ""
             }
            },
            "type": "scatterpolargl"
           }
          ],
          "scatterternary": [
           {
            "marker": {
             "colorbar": {
              "outlinewidth": 0,
              "ticks": ""
             }
            },
            "type": "scatterternary"
           }
          ],
          "surface": [
           {
            "colorbar": {
             "outlinewidth": 0,
             "ticks": ""
            },
            "colorscale": [
             [
              0,
              "#0d0887"
             ],
             [
              0.1111111111111111,
              "#46039f"
             ],
             [
              0.2222222222222222,
              "#7201a8"
             ],
             [
              0.3333333333333333,
              "#9c179e"
             ],
             [
              0.4444444444444444,
              "#bd3786"
             ],
             [
              0.5555555555555556,
              "#d8576b"
             ],
             [
              0.6666666666666666,
              "#ed7953"
             ],
             [
              0.7777777777777778,
              "#fb9f3a"
             ],
             [
              0.8888888888888888,
              "#fdca26"
             ],
             [
              1,
              "#f0f921"
             ]
            ],
            "type": "surface"
           }
          ],
          "table": [
           {
            "cells": {
             "fill": {
              "color": "#EBF0F8"
             },
             "line": {
              "color": "white"
             }
            },
            "header": {
             "fill": {
              "color": "#C8D4E3"
             },
             "line": {
              "color": "white"
             }
            },
            "type": "table"
           }
          ]
         },
         "layout": {
          "annotationdefaults": {
           "arrowcolor": "#2a3f5f",
           "arrowhead": 0,
           "arrowwidth": 1
          },
          "autotypenumbers": "strict",
          "coloraxis": {
           "colorbar": {
            "outlinewidth": 0,
            "ticks": ""
           }
          },
          "colorscale": {
           "diverging": [
            [
             0,
             "#8e0152"
            ],
            [
             0.1,
             "#c51b7d"
            ],
            [
             0.2,
             "#de77ae"
            ],
            [
             0.3,
             "#f1b6da"
            ],
            [
             0.4,
             "#fde0ef"
            ],
            [
             0.5,
             "#f7f7f7"
            ],
            [
             0.6,
             "#e6f5d0"
            ],
            [
             0.7,
             "#b8e186"
            ],
            [
             0.8,
             "#7fbc41"
            ],
            [
             0.9,
             "#4d9221"
            ],
            [
             1,
             "#276419"
            ]
           ],
           "sequential": [
            [
             0,
             "#0d0887"
            ],
            [
             0.1111111111111111,
             "#46039f"
            ],
            [
             0.2222222222222222,
             "#7201a8"
            ],
            [
             0.3333333333333333,
             "#9c179e"
            ],
            [
             0.4444444444444444,
             "#bd3786"
            ],
            [
             0.5555555555555556,
             "#d8576b"
            ],
            [
             0.6666666666666666,
             "#ed7953"
            ],
            [
             0.7777777777777778,
             "#fb9f3a"
            ],
            [
             0.8888888888888888,
             "#fdca26"
            ],
            [
             1,
             "#f0f921"
            ]
           ],
           "sequentialminus": [
            [
             0,
             "#0d0887"
            ],
            [
             0.1111111111111111,
             "#46039f"
            ],
            [
             0.2222222222222222,
             "#7201a8"
            ],
            [
             0.3333333333333333,
             "#9c179e"
            ],
            [
             0.4444444444444444,
             "#bd3786"
            ],
            [
             0.5555555555555556,
             "#d8576b"
            ],
            [
             0.6666666666666666,
             "#ed7953"
            ],
            [
             0.7777777777777778,
             "#fb9f3a"
            ],
            [
             0.8888888888888888,
             "#fdca26"
            ],
            [
             1,
             "#f0f921"
            ]
           ]
          },
          "colorway": [
           "#636efa",
           "#EF553B",
           "#00cc96",
           "#ab63fa",
           "#FFA15A",
           "#19d3f3",
           "#FF6692",
           "#B6E880",
           "#FF97FF",
           "#FECB52"
          ],
          "font": {
           "color": "#2a3f5f"
          },
          "geo": {
           "bgcolor": "white",
           "lakecolor": "white",
           "landcolor": "#E5ECF6",
           "showlakes": true,
           "showland": true,
           "subunitcolor": "white"
          },
          "hoverlabel": {
           "align": "left"
          },
          "hovermode": "closest",
          "mapbox": {
           "style": "light"
          },
          "paper_bgcolor": "white",
          "plot_bgcolor": "#E5ECF6",
          "polar": {
           "angularaxis": {
            "gridcolor": "white",
            "linecolor": "white",
            "ticks": ""
           },
           "bgcolor": "#E5ECF6",
           "radialaxis": {
            "gridcolor": "white",
            "linecolor": "white",
            "ticks": ""
           }
          },
          "scene": {
           "xaxis": {
            "backgroundcolor": "#E5ECF6",
            "gridcolor": "white",
            "gridwidth": 2,
            "linecolor": "white",
            "showbackground": true,
            "ticks": "",
            "zerolinecolor": "white"
           },
           "yaxis": {
            "backgroundcolor": "#E5ECF6",
            "gridcolor": "white",
            "gridwidth": 2,
            "linecolor": "white",
            "showbackground": true,
            "ticks": "",
            "zerolinecolor": "white"
           },
           "zaxis": {
            "backgroundcolor": "#E5ECF6",
            "gridcolor": "white",
            "gridwidth": 2,
            "linecolor": "white",
            "showbackground": true,
            "ticks": "",
            "zerolinecolor": "white"
           }
          },
          "shapedefaults": {
           "line": {
            "color": "#2a3f5f"
           }
          },
          "ternary": {
           "aaxis": {
            "gridcolor": "white",
            "linecolor": "white",
            "ticks": ""
           },
           "baxis": {
            "gridcolor": "white",
            "linecolor": "white",
            "ticks": ""
           },
           "bgcolor": "#E5ECF6",
           "caxis": {
            "gridcolor": "white",
            "linecolor": "white",
            "ticks": ""
           }
          },
          "title": {
           "x": 0.05
          },
          "xaxis": {
           "automargin": true,
           "gridcolor": "white",
           "linecolor": "white",
           "ticks": "",
           "title": {
            "standoff": 15
           },
           "zerolinecolor": "white",
           "zerolinewidth": 2
          },
          "yaxis": {
           "automargin": true,
           "gridcolor": "white",
           "linecolor": "white",
           "ticks": "",
           "title": {
            "standoff": 15
           },
           "zerolinecolor": "white",
           "zerolinewidth": 2
          }
         }
        },
        "width": 1067,
        "xaxis": {
         "anchor": "y",
         "categoryarray": [
          "Stop breathing observations",
          "Loud Snoring",
          "Snoring",
          "BMI",
          "Fatigue",
          "Age",
          "Daytime sleepiness",
          "HBP",
          "Awakening during sleep",
          "Sex",
          "Neck circumference",
          "Self-complaints of breath abnormalities ",
          "Breath abnormalities complaints reported by other",
          "Sleepiness at the wheel",
          "Amygdala/Toncil anatomical factor",
          "Sweating",
          "Positional promoting factor",
          "Alcohol promoting factor",
          "Functionning complaints",
          "Insomnia maintaining",
          "Insomnia initiating",
          "Waist circumference ",
          "Tobacco",
          "Nose anatomical factor",
          "Craniofacial anatomical factor"
         ],
         "categoryorder": "array",
         "domain": [
          0,
          1
         ],
         "tickangle": -60,
         "title": {
          "text": "Symptom"
         }
        },
        "yaxis": {
         "anchor": "x",
         "domain": [
          0,
          1
         ],
         "title": {
          "text": "Number of questionnaires"
         }
        }
       },
       "_py2js_addTraces": {},
       "_py2js_animate": {},
       "_py2js_deleteTraces": {},
       "_py2js_moveTraces": {},
       "_py2js_relayout": {},
       "_py2js_removeLayoutProps": {},
       "_py2js_removeTraceProps": {},
       "_py2js_restyle": {},
       "_view_count": 0
      }
     },
     "d993023a9f184a2fb964309f23623c04": {
      "model_module": "@jupyter-widgets/controls",
      "model_module_version": "2.0.0",
      "model_name": "TextModel",
      "state": {
       "layout": "IPY_MODEL_ae11db81e85d4e918d50417faef3458a",
       "placeholder": "File name (figure_example.pdf)",
       "style": "IPY_MODEL_54b9417d8dd342d2b205ff2a86ddc66f",
       "tooltip": "Supported formats: ['png', 'jpg', 'jpeg', 'webp', 'svg', 'pdf', 'eps', 'json']"
      }
     },
     "d9942e000c274a4fbd1e5eb3f0d72557": {
      "model_module": "@jupyter-widgets/controls",
      "model_module_version": "2.0.0",
      "model_name": "SliderStyleModel",
      "state": {
       "description_width": ""
      }
     },
     "d9a3e0c65c9c4091bbf76f52212054ff": {
      "model_module": "@jupyter-widgets/base",
      "model_module_version": "2.0.0",
      "model_name": "LayoutModel",
      "state": {
       "grid_gap": "10px",
       "width": "100%"
      }
     },
     "daa7d0ab78264451a6a8790b0f0211ec": {
      "model_module": "@jupyter-widgets/controls",
      "model_module_version": "2.0.0",
      "model_name": "ButtonModel",
      "state": {
       "description": "Save",
       "disabled": true,
       "icon": "save",
       "layout": "IPY_MODEL_e1824f4215f74ca7802dc17346037b83",
       "style": "IPY_MODEL_30b100050da14372a9e861a02e3200a7",
       "tooltip": "Click here to save the figure"
      }
     },
     "dae0f034896d44368e0f5ce79a9bf910": {
      "model_module": "@jupyter-widgets/controls",
      "model_module_version": "2.0.0",
      "model_name": "ToggleButtonsModel",
      "state": {
       "_options_labels": [
        "Occurences",
        "Category"
       ],
       "button_style": "",
       "description": "Sort by ",
       "icons": [],
       "index": 0,
       "layout": "IPY_MODEL_8d7d32092057439cb50593bcfb1949de",
       "style": "IPY_MODEL_e015726c20c0418ca79a2ae73fe001a9",
       "tooltips": [
        "Sort by number of occurences",
        "Sort by category and by occurences"
       ]
      }
     },
     "dbb4b5eb89a2419aadf73abfba491cea": {
      "model_module": "@jupyter-widgets/output",
      "model_module_version": "1.0.0",
      "model_name": "OutputModel",
      "state": {
       "layout": "IPY_MODEL_b64781dbd28640909f60357c456a156a",
       "outputs": [
        {
         "data": {
          "text/html": "<div>\n<style scoped>\n    .dataframe tbody tr th:only-of-type {\n        vertical-align: middle;\n    }\n\n    .dataframe tbody tr th {\n        vertical-align: top;\n    }\n\n    .dataframe thead th {\n        text-align: right;\n    }\n</style>\n<table border=\"1\" class=\"dataframe\">\n  <thead>\n    <tr style=\"text-align: right;\">\n      <th></th>\n      <th>ASA</th>\n      <th>SA-SDQ</th>\n      <th>STOP-Bang</th>\n      <th>Berlin</th>\n      <th>Haraldsson</th>\n      <th>NoSAS</th>\n      <th>STOP</th>\n      <th>GOAL</th>\n      <th>OSA 50</th>\n      <th>AS</th>\n      <th>Wisconsin Q</th>\n    </tr>\n  </thead>\n  <tbody>\n    <tr>\n      <th>OSA symptoms</th>\n      <td>4</td>\n      <td>6</td>\n      <td>2</td>\n      <td>4</td>\n      <td>2</td>\n      <td>1</td>\n      <td>2</td>\n      <td>1</td>\n      <td>2</td>\n      <td>3</td>\n      <td>3</td>\n    </tr>\n    <tr>\n      <th>Sleep-related symptoms</th>\n      <td>4</td>\n      <td>1</td>\n      <td>2</td>\n      <td>3</td>\n      <td>5</td>\n      <td>0</td>\n      <td>2</td>\n      <td>0</td>\n      <td>0</td>\n      <td>0</td>\n      <td>0</td>\n    </tr>\n    <tr>\n      <th>Clinical characteristics</th>\n      <td>5</td>\n      <td>4</td>\n      <td>5</td>\n      <td>2</td>\n      <td>0</td>\n      <td>4</td>\n      <td>1</td>\n      <td>3</td>\n      <td>2</td>\n      <td>1</td>\n      <td>0</td>\n    </tr>\n  </tbody>\n</table>\n</div>",
          "text/plain": "                          ASA  SA-SDQ  STOP-Bang  Berlin  Haraldsson  NoSAS  \\\nOSA symptoms                4       6          2       4           2      1   \nSleep-related symptoms      4       1          2       3           5      0   \nClinical characteristics    5       4          5       2           0      4   \n\n                          STOP  GOAL  OSA 50  AS  Wisconsin Q  \nOSA symptoms                 2     1       2   3            3  \nSleep-related symptoms       2     0       0   0            0  \nClinical characteristics     1     3       2   1            0  "
         },
         "metadata": {},
         "output_type": "display_data"
        }
       ]
      }
     },
     "dcb6c9982b954c56a173a28661487da3": {
      "model_module": "@jupyter-widgets/output",
      "model_module_version": "1.0.0",
      "model_name": "OutputModel",
      "state": {
       "layout": "IPY_MODEL_ae61f294993148aa81a160b181334b68"
      }
     },
     "dd12915e23364dc499563d7224658e3a": {
      "model_module": "@jupyter-widgets/output",
      "model_module_version": "1.0.0",
      "model_name": "OutputModel",
      "state": {
       "layout": "IPY_MODEL_0aa9742009a8443b8088fe9e6c08290b"
      }
     },
     "dd3823e1728c4ddfab6ae7e8611faf4d": {
      "model_module": "@jupyter-widgets/base",
      "model_module_version": "2.0.0",
      "model_name": "LayoutModel",
      "state": {
       "align_items": "flex-start",
       "grid_gap": "10px",
       "overflow": "visible",
       "width": "max-content"
      }
     },
     "df1579acbf744f258603e226c78c11a4": {
      "model_module": "@jupyter-widgets/controls",
      "model_module_version": "2.0.0",
      "model_name": "SliderStyleModel",
      "state": {
       "description_width": ""
      }
     },
     "e015726c20c0418ca79a2ae73fe001a9": {
      "model_module": "@jupyter-widgets/controls",
      "model_module_version": "2.0.0",
      "model_name": "ToggleButtonsStyleModel",
      "state": {
       "button_width": "",
       "description_width": ""
      }
     },
     "e1824f4215f74ca7802dc17346037b83": {
      "model_module": "@jupyter-widgets/base",
      "model_module_version": "2.0.0",
      "model_name": "LayoutModel",
      "state": {}
     },
     "e38f99550e2540858fe488230927ee77": {
      "model_module": "@jupyter-widgets/controls",
      "model_module_version": "2.0.0",
      "model_name": "ButtonModel",
      "state": {
       "description": "Save",
       "disabled": true,
       "icon": "save",
       "layout": "IPY_MODEL_0d3f020951a7481283ceb4956c4ea44e",
       "style": "IPY_MODEL_13795684a1014c34bd1ff9f38d23ab28",
       "tooltip": "Click here to save the figure"
      }
     },
     "e3a9d5a7989043978fa5843efe00a019": {
      "model_module": "@jupyter-widgets/base",
      "model_module_version": "2.0.0",
      "model_name": "LayoutModel",
      "state": {
       "align_items": "center",
       "grid_gap": "10px",
       "justify_content": "flex-start",
       "width": "100%"
      }
     },
     "e3e262232f1a4955b8571d2c6a48f75b": {
      "model_module": "@jupyter-widgets/base",
      "model_module_version": "2.0.0",
      "model_name": "LayoutModel",
      "state": {}
     },
     "e406dc4990a04768b161f270faac7546": {
      "model_module": "@jupyter-widgets/base",
      "model_module_version": "2.0.0",
      "model_name": "LayoutModel",
      "state": {}
     },
     "e49543707b3448ac9e93370860116b95": {
      "model_module": "@jupyter-widgets/controls",
      "model_module_version": "2.0.0",
      "model_name": "VBoxModel",
      "state": {
       "children": [
        "IPY_MODEL_a61b244064624403b62ee6b7d43aca60",
        "IPY_MODEL_b075ae7d6f1c464385a1e852a88b2662",
        "IPY_MODEL_8c08697d49a84d72a45d27b6c2524412"
       ],
       "layout": "IPY_MODEL_5fc667506fec448291be4c358b236546"
      }
     },
     "e5b0eac56d754b1384e5f3b9085c0f92": {
      "model_module": "@jupyter-widgets/base",
      "model_module_version": "2.0.0",
      "model_name": "LayoutModel",
      "state": {}
     },
     "e676cdcfe9a544a58e60adef102079c3": {
      "model_module": "@jupyter-widgets/base",
      "model_module_version": "2.0.0",
      "model_name": "LayoutModel",
      "state": {
       "width": "100%"
      }
     },
     "e780be344a8f4676852c2df37782766e": {
      "model_module": "@jupyter-widgets/base",
      "model_module_version": "2.0.0",
      "model_name": "LayoutModel",
      "state": {
       "align_items": "flex-start",
       "grid_gap": "10px",
       "overflow": "visible",
       "width": "max-content"
      }
     },
     "e7bda0ac558f4ed6bc090845164aec5b": {
      "model_module": "@jupyter-widgets/controls",
      "model_module_version": "2.0.0",
      "model_name": "ButtonModel",
      "state": {
       "description": "Confirm",
       "icon": "check",
       "layout": "IPY_MODEL_fca816588c4c4fd18c702d958212e7d3",
       "style": "IPY_MODEL_42dfbfab070840348db33f4050bb7df3",
       "tooltip": "Click here to confirm your selection"
      }
     },
     "e8eacb4099e440a0b2cfe627fa17c5ba": {
      "model_module": "@jupyter-widgets/controls",
      "model_module_version": "2.0.0",
      "model_name": "DropdownModel",
      "state": {
       "_options_labels": [
        "Alphabet",
        "Antique",
        "Bold",
        "D3",
        "Dark2",
        "Dark24",
        "G10",
        "Light24",
        "Pastel",
        "Pastel1",
        "Pastel2",
        "Plotly",
        "Prism",
        "Safe",
        "Set1",
        "Set2",
        "Set3",
        "T10",
        "Vivid"
       ],
       "description": "Color Palette",
       "index": 8,
       "layout": "IPY_MODEL_b00005eb50314326942603b5706ebde3",
       "style": "IPY_MODEL_9f5737b3a3624895b55296792b5226bb"
      }
     },
     "e952d5cf4a714321bf4745dd0ce890a3": {
      "model_module": "@jupyter-widgets/controls",
      "model_module_version": "2.0.0",
      "model_name": "IntSliderModel",
      "state": {
       "behavior": "drag-tap",
       "description": "Width :",
       "layout": "IPY_MODEL_3524493de6654464b587c231bb885a27",
       "max": 1280,
       "min": 300,
       "style": "IPY_MODEL_bfbb504866b6495a863f9d2232d2cdc1",
       "value": 500
      }
     },
     "eadc0c2672bb43b385ca1584ce1e4669": {
      "model_module": "@jupyter-widgets/controls",
      "model_module_version": "2.0.0",
      "model_name": "CheckboxModel",
      "state": {
       "description": "STOP-Bang",
       "disabled": false,
       "layout": "IPY_MODEL_c320d15f52eb4dfaa693dc68a8b04cc2",
       "style": "IPY_MODEL_64868aaa82f94fb4bef162d7a5e59da2",
       "value": false
      }
     },
     "eca3272335524bbfbf59a4d550a335ee": {
      "model_module": "@jupyter-widgets/controls",
      "model_module_version": "2.0.0",
      "model_name": "IntSliderModel",
      "state": {
       "behavior": "drag-tap",
       "description": "Height :",
       "layout": "IPY_MODEL_11ad19fe115f4420a525461455860fe1",
       "max": 1280,
       "min": 300,
       "style": "IPY_MODEL_c773bf1ca1b747558014d82cefe75527",
       "value": 500
      }
     },
     "eeb3b63ef6df4a288f422bb41bfd0b82": {
      "model_module": "@jupyter-widgets/base",
      "model_module_version": "2.0.0",
      "model_name": "LayoutModel",
      "state": {
       "align_items": "flex-start",
       "grid_gap": "10px",
       "overflow": "visible",
       "width": "max-content"
      }
     },
     "ef210f774af341cfbc1cc12b0793b9f2": {
      "model_module": "@jupyter-widgets/output",
      "model_module_version": "1.0.0",
      "model_name": "OutputModel",
      "state": {
       "layout": "IPY_MODEL_13da7a537a10462f92458846800bd235"
      }
     },
     "f0bbda336da5402d8f6de8bfe5ab00ab": {
      "model_module": "@jupyter-widgets/controls",
      "model_module_version": "2.0.0",
      "model_name": "IntSliderModel",
      "state": {
       "behavior": "drag-tap",
       "description": "Height :",
       "layout": "IPY_MODEL_58657f9aae0445eab9986b1dc2b488ad",
       "max": 1280,
       "min": 300,
       "style": "IPY_MODEL_fbf6d06df0a443789975d7f6570af5e4",
       "value": 500
      }
     },
     "f42d945de2ad472e986c475cd05508ab": {
      "model_module": "@jupyter-widgets/controls",
      "model_module_version": "2.0.0",
      "model_name": "CheckboxStyleModel",
      "state": {
       "description_width": ""
      }
     },
     "f611a013a84c4261bc315817722bd3b3": {
      "model_module": "@jupyter-widgets/base",
      "model_module_version": "2.0.0",
      "model_name": "LayoutModel",
      "state": {}
     },
     "f6c190ff87b843d0912d36bcc87f21a5": {
      "model_module": "@jupyter-widgets/controls",
      "model_module_version": "2.0.0",
      "model_name": "IntSliderModel",
      "state": {
       "behavior": "drag-tap",
       "description": "Width :",
       "layout": "IPY_MODEL_1056f752200b4bffabee45ecc5d0200f",
       "max": 1280,
       "min": 300,
       "style": "IPY_MODEL_a2f3f36f54584bbbb18a24222ccc1d78",
       "value": 500
      }
     },
     "f8767df4796847b2965f277f6ecc04a2": {
      "model_module": "@jupyter-widgets/controls",
      "model_module_version": "2.0.0",
      "model_name": "CheckboxStyleModel",
      "state": {
       "description_width": ""
      }
     },
     "f8bc7769f8914583a7d3881267dca053": {
      "model_module": "@jupyter-widgets/base",
      "model_module_version": "2.0.0",
      "model_name": "LayoutModel",
      "state": {}
     },
     "f8e0d54eb9104cf7bab42048334e38b6": {
      "model_module": "@jupyter-widgets/controls",
      "model_module_version": "2.0.0",
      "model_name": "HBoxModel",
      "state": {
       "children": [
        "IPY_MODEL_67b3fd68f0724f1bac969514808d85fe",
        "IPY_MODEL_a98d0d3340bf452eb250c42a6b82b6e6"
       ],
       "layout": "IPY_MODEL_92fd68f505464d779dba82111562e2cd"
      }
     },
     "f8e6e11f2f624ba7a2196199bd354269": {
      "model_module": "@jupyter-widgets/controls",
      "model_module_version": "2.0.0",
      "model_name": "VBoxModel",
      "state": {
       "children": [
        "IPY_MODEL_8be16425f1d14333a158315014163d11"
       ],
       "layout": "IPY_MODEL_611fe7ff01b04a349cd45dbca1c8f567"
      }
     },
     "faec59b3e09b4151b6f13f7240025892": {
      "model_module": "@jupyter-widgets/base",
      "model_module_version": "2.0.0",
      "model_name": "LayoutModel",
      "state": {
       "align_items": "flex-start",
       "grid_gap": "20px",
       "overflow": "visible",
       "width": "max-content"
      }
     },
     "fba7c6c6cd13429a84ec14f4bb0d52dc": {
      "model_module": "@jupyter-widgets/controls",
      "model_module_version": "2.0.0",
      "model_name": "TextStyleModel",
      "state": {
       "description_width": "",
       "font_size": null,
       "text_color": null
      }
     },
     "fbf6d06df0a443789975d7f6570af5e4": {
      "model_module": "@jupyter-widgets/controls",
      "model_module_version": "2.0.0",
      "model_name": "SliderStyleModel",
      "state": {
       "description_width": ""
      }
     },
     "fc3e15e753cc471b910e343933680c4b": {
      "model_module": "@jupyter-widgets/base",
      "model_module_version": "2.0.0",
      "model_name": "LayoutModel",
      "state": {
       "align_items": "flex-start",
       "grid_gap": "10px",
       "overflow": "visible",
       "width": "max-content"
      }
     },
     "fc56b762c6564d31af8bb61da6f8f532": {
      "model_module": "@jupyter-widgets/base",
      "model_module_version": "2.0.0",
      "model_name": "LayoutModel",
      "state": {}
     },
     "fca816588c4c4fd18c702d958212e7d3": {
      "model_module": "@jupyter-widgets/base",
      "model_module_version": "2.0.0",
      "model_name": "LayoutModel",
      "state": {}
     },
     "fcfb976a283849d7aa39df9715ea9de7": {
      "model_module": "@jupyter-widgets/controls",
      "model_module_version": "2.0.0",
      "model_name": "HBoxModel",
      "state": {
       "children": [
        "IPY_MODEL_e7bda0ac558f4ed6bc090845164aec5b"
       ],
       "layout": "IPY_MODEL_067d83dae24040858617428cbca15bc9"
      }
     }
    },
    "version_major": 2,
    "version_minor": 0
   }
  }
 },
 "nbformat": 4,
 "nbformat_minor": 4
}
