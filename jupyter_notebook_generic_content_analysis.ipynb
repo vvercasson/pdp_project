{
 "cells": [
  {
   "cell_type": "markdown",
   "metadata": {
    "tags": []
   },
   "source": [
    "# Generic Content Analysis"
   ]
  },
  {
   "cell_type": "markdown",
   "metadata": {
    "tags": []
   },
   "source": [
    "\n",
    "## ⚠️ PLEASE READ BEFORE DOING ANYTHING ⚠️\n",
    "\n",
    "Welcome to this online coding environment ! \n",
    "You are currently running a *Jupyter notebook* that we hope to be usefull for content analysis of questionnaires. \n",
    "\n",
    ">Each cell can be ran individually (pressing the \"Play\" ▶ button or pressing CTRL+ENTER in the each cell). In order to make everything run smoothly, it is **strongly** recommended to run them in order. \n",
    "\n",
    ">***RECOMMANDED:*** You can also run all the cells at the same time : \"Run\" → \"Run All Cells\".<br>\n",
    "> ⚠️ If you choose this option and want to analyse your own data, we suggest that you configure correctly the `experiment`, `import_file` and `references` variables before running all the cells once, then adjust the `max_radius` variable of Figure 4. \n",
    "\n",
    "At the end of the execution, you will have the opportunity to save all yours results in an HTML file, executing `\"File\" → \"Save and Export Notebook as\" → \"HTML\"` \n",
    "\n",
    "If you have chosen to run every cell individually, please begin by running the following cell that imports all the required package for our code to work correctly ↓"
   ]
  },
  {
   "cell_type": "code",
   "execution_count": 1,
   "metadata": {
    "id": "VzoMEEmaImQO",
    "init_cell": true,
    "tags": []
   },
   "outputs": [],
   "source": [
    "%%capture\n",
    "######### IMPORTS #########\n",
    "import pandas as pd\n",
    "import numpy as np \n",
    "from sklearn.metrics import jaccard_score\n",
    "from sklearn.preprocessing import normalize\n",
    "from scipy.stats import spearmanr\n",
    "\n",
    "import plotly.express as px\n",
    "import plotly.graph_objects as go\n",
    "\n",
    "from ipywidgets import Layout, FileUpload, Button, Box, VBox, HBox, Dropdown, Output, interactive_output, Checkbox, GridBox\n",
    "\n",
    "from IPython.display import display\n",
    "import asyncio\n",
    "import io\n",
    "from threading import Thread\n",
    "\n",
    "from analysis_gui.forms import *\n",
    "############################\n",
    "\n",
    "############## GLOBALS ##############\n",
    "# TYPE_XSL = \"application/vnd.ms-excel\"\n",
    "# TYPE_XLSX = \"application/vnd.openxmlformats-officedocument.spreadsheetml.sheet\"\n",
    "\n",
    "# df = None\n",
    "# experiment = \"\"\n",
    "#####################################\n",
    "\n",
    "#Required package to download the image\n",
    "# !wget https://github.com/plotly/orca/releases/download/v1.2.1/orca-1.2.1-x86_64.AppImage -O /usr/local/bin/orca\n",
    "# !chmod +x /usr/local/bin/orca\n",
    "# !apt-get install xvfb libgtk2.0-0 libgconf-2-4"
   ]
  },
  {
   "cell_type": "markdown",
   "metadata": {
    "id": "MSKzbWLbPOtR",
    "tags": []
   },
   "source": [
    "---\n",
    "# Data import"
   ]
  },
  {
   "cell_type": "markdown",
   "metadata": {
    "id": "repZgtSNU7WC",
    "tags": []
   },
   "source": [
    "By default, this repository is configured to make you compute your own results (`experiment = \"Custom\"`), but we also configured it to reproduce some previous analyses:\n",
    "\n",
    "* option `experiment = \"Gauld2023_OSAS_content_analysis\"` : Gauld C, Baillieul S, Martin VP, Richaud A, Pelou M, Abi-Saab P,Coelho J, Philip P, Pépin JL, Micoulaud-Franchi JA. \n",
    "What evaluate obstructive sleep apnea patient-based screening questionnaires? A systematic and quantified item content analysis. *Under review* \n",
    "\n",
    "* option `experiment = \"Gauld2023_sleep_content_analysis\"`: \n",
    " Gauld C, Martin VP, Richaud A, Bailleul S, Lucie V, Perromat JL, Zreik I, Taillard J, Geoffroy PA, Lopez R, Micoulaud-Franchi JA. Systematic Item Content and Overlap Analysis of Self-reported Multiple Sleep Disorders Screening Questionnaires in Adults. *Journal of Clinical Medicine*. [https://doi.org/10.3390/jcm12030852](https://doi.org/10.3390/jcm12030852) \n",
    "\n",
    "* option `experiment = \"Fried2017\"` : Fried EI. The 52 symptoms of major depression: Lack of content overlap among seven common depression scales. *Journal of Affective Disorders*. 2017 Jan;208:191–7. \n"
   ]
  },
  {
   "cell_type": "markdown",
   "metadata": {
    "tags": []
   },
   "source": [
    "## Correct symptom file formatting\n",
    "\n",
    "For this notebook to work correcly, your symptom file should be formatted the following way : \n",
    "* the four first columns must be the category (named \"Category\" in our example), subcategory (named \"Subcategory\" in our example), the abbreviation for the symptom (as shown in the Figure, named \"Ab\" in our example) and the name of the symptom (\"Symptom\" in our example);\n",
    "* the other columns are the different questionnaires, while the line are the different symptoms.\n",
    "* For each questionnaire, the symptoms are coded the following way: \n",
    "    * 0: The symptom is absent from this questionnaire\n",
    "    * 1: The symptom is specific in this questionnaire (i.e. the symptom has bene identified in an item mentionning only one symptom)\n",
    "    * 2: The symptom is componed in this questionnaire (i.e. the symptom has bene identified in an item mentionning at least two symptom)\n",
    "\n",
    "⚠️ If you do not have categories or subcategories, just put empty columns as first or second columns ⚠️"
   ]
  },
  {
   "cell_type": "markdown",
   "metadata": {
    "tags": []
   },
   "source": [
    "## Importing data by uploading an excel file \n",
    "\n",
    "To import your own excel spreadsheet: \n",
    ">* Select \"Custom\" from the dropdown menu below \n",
    ">* Click on the \"Upload\" button ⭱\n",
    ">* Click the \"Confirm\" button ✓\n",
    "\n",
    "This program only accepts `.xsl` and `.xlsx` file formats (excel documents)"
   ]
  },
  {
   "cell_type": "code",
   "execution_count": 2,
   "metadata": {
    "init_cell": true,
    "tags": []
   },
   "outputs": [
    {
     "data": {
      "application/vnd.jupyter.widget-view+json": {
       "model_id": "11cc43b023284a7c98c43b9b8cb1a94b",
       "version_major": 2,
       "version_minor": 0
      },
      "text/plain": [
       "FileSelectionForm(children=(HBox(children=(Dropdown(description='Expérience', index=1, options=('Fried2017', '…"
      ]
     },
     "metadata": {},
     "output_type": "display_data"
    }
   ],
   "source": [
    "file_selection = FileSelectionForm()\n",
    "display(file_selection)"
   ]
  },
  {
   "cell_type": "markdown",
   "metadata": {
    "id": "iK8hO_homX6E",
    "tags": []
   },
   "source": [
    "## Reference classifications\n",
    "In the `Gauld2023_sleep_content_analysis` paper, we compare the symptoms of the questionnaires with two references classification (ICSD and DSM). If you have reference columns that you want to compare with but you do not want to compute metrics on, please put them in this table. Otherwise, just let this list empty [ ].\n",
    "\n",
    "⚠️ the name of the references should match PERFECTLY the name of the columns they are in (including uppercases and lowercases, or spaces) ⚠️"
   ]
  },
  {
   "cell_type": "markdown",
   "metadata": {
    "id": "jLT3DLDxlaHg"
   },
   "source": [
    "# Ordering questionnaires and symptoms"
   ]
  },
  {
   "cell_type": "markdown",
   "metadata": {
    "id": "H_04et79Wp_4"
   },
   "source": [
    "First, the questionnaires are classified from having the higher number of symptoms to the lowest."
   ]
  },
  {
   "cell_type": "code",
   "execution_count": 3,
   "metadata": {
    "init_cell": true,
    "tags": []
   },
   "outputs": [
    {
     "data": {
      "application/vnd.jupyter.widget-view+json": {
       "model_id": "eeb7a73b5541467e817cc440e862d44b",
       "version_major": 2,
       "version_minor": 0
      },
      "text/plain": [
       "ReferenceSelectionForm(layout=Layout(align_items='flex-start', grid_gap='10px', overflow='visible', width='max…"
      ]
     },
     "metadata": {},
     "output_type": "display_data"
    }
   ],
   "source": [
    "ref_selection = ReferenceSelectionForm()\n",
    "file_selection.chain(ref_selection)\n",
    "display(ref_selection)"
   ]
  },
  {
   "cell_type": "markdown",
   "metadata": {
    "id": "dgGMcg8IvzX6"
   },
   "source": [
    "---\n",
    "# 1. Analysis of the number and frequency of symptoms"
   ]
  },
  {
   "cell_type": "markdown",
   "metadata": {},
   "source": [
    "In a first step, we analyse the frequency of the symptoms."
   ]
  },
  {
   "cell_type": "markdown",
   "metadata": {
    "id": "mfyJzGAMqhTZ"
   },
   "source": [
    "## Histogram of number of symptoms"
   ]
  },
  {
   "cell_type": "markdown",
   "metadata": {},
   "source": [
    "### Sorted by number of occurences or category"
   ]
  },
  {
   "cell_type": "code",
   "execution_count": 4,
   "metadata": {
    "init_cell": true,
    "tags": []
   },
   "outputs": [
    {
     "data": {
      "application/vnd.jupyter.widget-view+json": {
       "model_id": "f603fdfb591c4c0c87fd814b9b205848",
       "version_major": 2,
       "version_minor": 0
      },
      "text/plain": [
       "HistogramUI(layout=Layout(grid_gap='20px'))"
      ]
     },
     "metadata": {},
     "output_type": "display_data"
    }
   ],
   "source": [
    "histo = HistogramUI()\n",
    "ref_selection.chain(histo)\n",
    "display(histo)"
   ]
  },
  {
   "cell_type": "markdown",
   "metadata": {
    "id": "3OISRmoSwTGX"
   },
   "source": [
    "## Number of symptoms by questionnaire"
   ]
  },
  {
   "cell_type": "code",
   "execution_count": null,
   "metadata": {
    "colab": {
     "base_uri": "https://localhost:8080/",
     "height": 488
    },
    "id": "bTYZAecywQhN",
    "outputId": "3fe68fca-8c09-4394-9c40-689fec57deb7",
    "tags": []
   },
   "outputs": [],
   "source": [
    "sympt_per_questionnaire = pd.DataFrame(np.zeros((common.df.shape[1]-5,3)), index = common.df.iloc[:,4:-1].columns, columns = ['Specific symptoms', 'Compound symptoms', 'Total'])\n",
    "sympt_per_questionnaire['Specific symptoms'] = (common.df.iloc[:,4:-1]==1).sum(axis = 0)\n",
    "sympt_per_questionnaire['Compound symptoms'] = (common.df.iloc[:,4:-1]==2).sum(axis = 0)\n",
    "sympt_per_questionnaire['Total'] = (common.df.iloc[:,4:-1]>=1).sum(axis = 0)\n",
    "sympt_per_questionnaire.to_excel(\"table1_symptomes_per_questionnaire.xlsx\")\n",
    "\n",
    "display(sympt_per_questionnaire)"
   ]
  },
  {
   "cell_type": "markdown",
   "metadata": {
    "id": "dgGMcg8IvzX6"
   },
   "source": [
    "The table has been save in the online folder (📁 symbol on the left) under the name [table1_symptoms_per_questionnaire.xlsx](./table1_symptoms_per_questionnaire.xlsx). <br>You can change the name and the format of the file changing the name in the `sympt_per_questionnaire.to_excel()` function. \n",
    "<br>⚠️ If you need it, save the excel file on your local computer : these online file will be deleted as soon as you quit this page!"
   ]
  },
  {
   "cell_type": "markdown",
   "metadata": {
    "id": "OC5h01srm0Lo"
   },
   "source": [
    "## Symptoms that are in classifications but not in questionnaires"
   ]
  },
  {
   "cell_type": "code",
   "execution_count": null,
   "metadata": {
    "colab": {
     "base_uri": "https://localhost:8080/"
    },
    "id": "YlNkFjvBm6Ez",
    "outputId": "9202890b-a602-4afe-e112-a42e2a145912",
    "tags": []
   },
   "outputs": [],
   "source": [
    "if len(common.references) > 0 :\n",
    "  for ref in common.references: \n",
    "    print(\"---\", ref, \"---\")\n",
    "    for symptom in common.df.Symptom.unique() : \n",
    "      if (int(common.df.loc[common.df.Symptom == symptom,ref]) == 1 and int(common.df.loc[common.df.Symptom == symptom, 'sum_symptoms'])==0) : \n",
    "        print(symptom)\n",
    "else : \n",
    "    print(\"References list is empty\")"
   ]
  },
  {
   "cell_type": "markdown",
   "metadata": {
    "id": "qw9SetrFK_Sg"
   },
   "source": [
    "## Number of symptoms in each category for each questionnaire"
   ]
  },
  {
   "cell_type": "code",
   "execution_count": null,
   "metadata": {
    "colab": {
     "base_uri": "https://localhost:8080/",
     "height": 332
    },
    "id": "gFr5e2C5B_KN",
    "outputId": "59c485cf-60f3-4987-f24d-ff56de10fb16",
    "tags": []
   },
   "outputs": [],
   "source": [
    "# number of categories/questionnaire\n",
    "if common.df.shape[0] != common.df['Category'].isnull().sum() : \n",
    "  cat_per_questionnaire = pd.DataFrame(np.zeros((common.df.shape[1]-5,len(common.df.Category.unique()))), index = common.df.iloc[:,4:-1].columns, columns = common.df.sort_values(by=\"Ab\").Category.unique())\n",
    "  for category in common.df.Category.unique():\n",
    "    cat_per_questionnaire.loc[:,category] = (common.df[common.df.Category==category].iloc[:,4:-1]>=1).sum(axis = 0)\n",
    "  display(cat_per_questionnaire.T)\n",
    "  cat_per_questionnaire.T.to_excel(\"table2_categorie_per_questionnaire.xlsx\")\n",
    "else : \n",
    "  print('No category in this dataframe !')"
   ]
  },
  {
   "cell_type": "markdown",
   "metadata": {
    "id": "dgGMcg8IvzX6"
   },
   "source": [
    "The table has been save in the online folder (📁 symbol on the left) under the name [table2_categorie_per_questionnaire.xlsx](./table2_categorie_per_questionnaire.xlsx). <br>You can change the name and the format of the file changing the name in the `cat_per_questionnaire.T.to_excel()` function. \n",
    "<br>⚠️ If you need it, save the excel file on your local computer : these online file will be deleted as soon as you quit this page!"
   ]
  },
  {
   "cell_type": "markdown",
   "metadata": {
    "id": "qXcSGINHJ9Mt"
   },
   "source": [
    "## Distribution across the categories of the symptoms measured by each questionnaire\n",
    "(i.e. same thing as before, but normalized by questionnaire (sum across lines equals 1))."
   ]
  },
  {
   "cell_type": "code",
   "execution_count": null,
   "metadata": {
    "colab": {
     "base_uri": "https://localhost:8080/",
     "height": 542
    },
    "id": "3nwer2_9FXTg",
    "outputId": "58e9ab91-2767-4fc3-be02-a26160d832cc",
    "tags": []
   },
   "outputs": [],
   "source": [
    "if common.df.shape[0] != common.df['Category'].isnull().sum() : \n",
    "  fig = px.imshow(pd.DataFrame(np.round(normalize(cat_per_questionnaire,norm='l1').T*100,1), # for printing text, we round the percentages to 1 decimal\n",
    "                              columns = cat_per_questionnaire.index,\n",
    "                              index= cat_per_questionnaire.columns),\n",
    "                  text_auto=True, # add the text\n",
    "                  color_continuous_scale= 'Portland'# more color palettes available here : https://plotly.com/python/builtin-colorscales/\n",
    "  )\n",
    "  fig.update_xaxes(side=\"top\") # xaxis on top of the figure\n",
    "  fig.update_layout(\n",
    "    autosize=False,\n",
    "    width=800,\n",
    "    height=400\n",
    "    )\n",
    "  #fig.write_image(\"figure3_heatmap.pdf\") # writing the figure in a file\n",
    "  fig.show() # showing the figure\n",
    "else : \n",
    "  print('No category in this dataframe !')"
   ]
  },
  {
   "cell_type": "markdown",
   "metadata": {
    "id": "dgGMcg8IvzX6"
   },
   "source": [
    "Figure 3 has been save in the online folder (📁 symbol on the left) under the name [figure3_heatmap.pdf](figure3_heatmap.pdf). You can change the name and the format of the file changing the name in the `#fig.write_image()` function. \n",
    "<br>⚠️ If you need it, save the figure on your local computer : these online file will be deleted as soon as you quit this page!"
   ]
  },
  {
   "cell_type": "markdown",
   "metadata": {
    "id": "M9ddyXYaTthc"
   },
   "source": [
    "---\n",
    "# 2. Analysis and data vizualisation of content analysis Figure"
   ]
  },
  {
   "cell_type": "markdown",
   "metadata": {
    "id": "lLJwmyUyYQa0"
   },
   "source": [
    "## Changing shape of data"
   ]
  },
  {
   "cell_type": "code",
   "execution_count": null,
   "metadata": {
    "colab": {
     "base_uri": "https://localhost:8080/",
     "height": 206
    },
    "id": "KqkwIGepYQKw",
    "outputId": "bb6ff268-639e-4a5f-9e19-f4395e925490",
    "tags": []
   },
   "outputs": [],
   "source": [
    "# changing the shape of data\n",
    "df_col = common.df.melt(id_vars=['Category','Subcategory','Ab', 'Symptom'], value_vars=common.col).copy()\n",
    "df_col.head()"
   ]
  },
  {
   "cell_type": "markdown",
   "metadata": {
    "id": "yePX1cREmJzO"
   },
   "source": [
    "## Content Analysis Figure"
   ]
  },
  {
   "cell_type": "markdown",
   "metadata": {},
   "source": [
    "If you want to analyse custom data, you will have to set the variable `max_radius` so that the figure have the desired look !"
   ]
  },
  {
   "cell_type": "code",
   "execution_count": 5,
   "metadata": {
    "init_cell": true,
    "tags": []
   },
   "outputs": [
    {
     "data": {
      "application/vnd.jupyter.widget-view+json": {
       "model_id": "9dc2b71bb0ce4a6d8e9e4d9ea6a56bc1",
       "version_major": 2,
       "version_minor": 0
      },
      "text/plain": [
       "CircleForm(layout=Layout(align_items='flex-start', grid_gap='10px', overflow='visible', width='max-content'))"
      ]
     },
     "metadata": {},
     "output_type": "display_data"
    }
   ],
   "source": [
    "circle = CircleForm()\n",
    "ref_selection.chain(circle)\n",
    "display(circle)"
   ]
  },
  {
   "cell_type": "markdown",
   "metadata": {
    "id": "dgGMcg8IvzX6"
   },
   "source": [
    "The figure has been save in the online folder (📁 symbol on the left) under the name [figure4_radial.pdf](figure4_radial.pdf). You can change the name and the format of the file changing the name in the `#fig.write_image()` function. \n",
    "<br>⚠️ If you need it, save the figure on your local computer : these online file will be deleted as soon as you quit this page!"
   ]
  },
  {
   "cell_type": "markdown",
   "metadata": {
    "id": "diFlIHLzPFRp"
   },
   "source": [
    "## Overlap between questionnaires - Jaccard Index"
   ]
  },
  {
   "cell_type": "markdown",
   "metadata": {
    "id": "YZ-EHm68I3aO"
   },
   "source": [
    "In order to estimate the overlap between the symptoms measured by the questionnes, calculate the Jaccard index, which is defined as the number of symmtoms that are measured by both questionnaires, divided by the number of unique symptoms measured both questionnaires."
   ]
  },
  {
   "cell_type": "markdown",
   "metadata": {
    "id": "zN-BHyPUw2dF"
   },
   "source": [
    "### Jaccard index of symptom for each pair of questionnaire\n",
    "First, we compute the Jaccard index for each pair of questionnaires and plot it using a heatmap."
   ]
  },
  {
   "cell_type": "code",
   "execution_count": null,
   "metadata": {
    "colab": {
     "base_uri": "https://localhost:8080/",
     "height": 817
    },
    "id": "FwVQmC77NrTO",
    "outputId": "d1e4920c-d090-4b55-f3d9-a7615a208287"
   },
   "outputs": [],
   "source": [
    "###\n",
    "# Computing the table\n",
    "###\n",
    "jaccard_table = pd.DataFrame(np.zeros((common.df.shape[1]-5,common.df.shape[1]-5)), index = common.df.columns[4:-1], columns = common.df.columns[4:-1]) # df.columns[3:-1] : questionnaires without header\n",
    "for questionnaire1 in common.df.columns[4:-1] : \n",
    "  for questionnaire2 in common.df.columns[4:-1] : \n",
    "    jaccard_table.loc[questionnaire1, questionnaire2] = jaccard_score(common.df[questionnaire1]>=1, common.df[questionnaire2]>=1)\n",
    "    \n",
    "display(jaccard_table)\n",
    "jaccard_table.to_excel(\"table3_jaccard_pairs.xlsx\")"
   ]
  },
  {
   "cell_type": "markdown",
   "metadata": {
    "id": "dgGMcg8IvzX6"
   },
   "source": [
    "Table 3 has been save in the online folder (📁 symbol on the left) under the name [table3_jaccard_pairs.xlsx](./table3_jaccard_pairs.xlsx). <br>You can change the name and the format of the file changing the name in the `jaccard_table.to_excel()` function. \n",
    "<br>⚠️ If you need it, save the excel file on your local computer : these online file will be deleted as soon as you quit this page!"
   ]
  },
  {
   "cell_type": "code",
   "execution_count": null,
   "metadata": {},
   "outputs": [],
   "source": [
    "###\n",
    "# Plotting it as a heatmap\n",
    "###\n",
    "fig = px.imshow(pd.DataFrame(np.round(jaccard_table,3), # rounding values for the plot\n",
    "                             index = jaccard_table.index,\n",
    "                             columns= jaccard_table.columns),\n",
    "                text_auto=True, # annotating values in the plot\n",
    "                color_continuous_scale= 'Portland'# more color palettes available here : https://plotly.com/python/builtin-colorscales/\n",
    ")\n",
    "fig.update_xaxes(side=\"top\")\n",
    "fig.update_layout(\n",
    "    autosize=False,\n",
    "    width=600,\n",
    "    height=600\n",
    "    )\n",
    "#fig.write_image(\"figure5_heatmap_jaccard.pdf\") # writting the figure into a file\n",
    "fig.show() # showing figure"
   ]
  },
  {
   "cell_type": "markdown",
   "metadata": {
    "id": "dgGMcg8IvzX6"
   },
   "source": [
    "The figure has been save in the online folder (📁 symbol on the left) under the name [figure5_heatmap_jaccard.pdf](figure5_heatmap_jaccard.pdf). <br>You can change the name and the format of the file changing the name in the `#fig.write_image()` function. \n",
    "<br>⚠️ If you want it, save the figure on your local computer : these online file will be deleted as soon as you quit this page!"
   ]
  },
  {
   "cell_type": "markdown",
   "metadata": {
    "id": "F1UPcuVEIxr6"
   },
   "source": [
    "### Avg. Jaccard index\n",
    "Then, we compute the average of Jaccard index for each questionnaire with other questionnaires (excluding the references). "
   ]
  },
  {
   "cell_type": "code",
   "execution_count": null,
   "metadata": {
    "colab": {
     "base_uri": "https://localhost:8080/",
     "height": 443
    },
    "id": "kZWl2KxpIAu1",
    "outputId": "60844259-0542-47a3-8834-de586fd09b50"
   },
   "outputs": [],
   "source": [
    "jaccard = pd.DataFrame(np.zeros((len(common.df.drop(common.header+['sum_symptoms'],axis = 1).columns),1)), index = common.df.drop(common.header+['sum_symptoms'],axis = 1).columns, columns=['Avg. Jaccard Index'])\n",
    "for questionnaire in common.df.drop(common.header+['sum_symptoms'], axis=1).columns : \n",
    "  jaccard.loc[questionnaire, 'Avg. Jaccard Index'] = jaccard_table.drop(common.references+[questionnaire], axis = 1).loc[questionnaire, :].mean()\n",
    "display(jaccard)\n",
    "jaccard.to_excel(\"table4_jaccard_average_questionnaires.xlsx\")\n",
    "print(\"Average Jaccard index (wo references): \"+str(np.round(float(jaccard.mean()),5)) +\" (sd: \"+str(np.round(float(jaccard.std()),4))+ \")\" )\n"
   ]
  },
  {
   "cell_type": "markdown",
   "metadata": {
    "id": "dgGMcg8IvzX6"
   },
   "source": [
    "Table 4 has been save in the online folder (📁 symbol on the left) under the name [table4_jaccard_average_questionnaires.xlsx](./table4_jaccard_average_questionnaires.xlsx). <br>You can change the name and the format of the file changing the name in the `jaccard.to_excel()` function. \n",
    "<br>⚠️ If you need it, save the excel file on your local computer : these online file will be deleted as soon as you quit this page!"
   ]
  },
  {
   "cell_type": "markdown",
   "metadata": {
    "id": "ZEl9cvZ1Gs6Y"
   },
   "source": [
    "### Correlation between the number of symptoms and the average Jacquart index for each questionnaire "
   ]
  },
  {
   "cell_type": "code",
   "execution_count": null,
   "metadata": {
    "colab": {
     "base_uri": "https://localhost:8080/",
     "height": 478
    },
    "id": "vJuZ7q7oG0g3",
    "outputId": "af8e0f2b-413c-402b-c8cb-ff2de72e6c63"
   },
   "outputs": [],
   "source": [
    "correlations = jaccard.join(sympt_per_questionnaire)\n",
    "display(correlations)\n",
    "print(\"Correlation between Jaccard Index and number of specific symptoms: \",spearmanr(correlations['Avg. Jaccard Index'], correlations['Specific symptoms']))\n",
    "print(\"Correlation between Jaccard Index and number of compound symptoms: \",spearmanr(correlations['Avg. Jaccard Index'], correlations['Compound symptoms']))\n",
    "print(\"Correlation between Jaccard Index and total number of symptoms: \",spearmanr(correlations['Avg. Jaccard Index'], correlations['Total']))"
   ]
  },
  {
   "cell_type": "markdown",
   "metadata": {
    "id": "HU7E-SuOw7zi"
   },
   "source": [
    "### Jaccard index of symptoms for each pair of questionnaire for each category\n",
    "\n",
    "Computing the same metric (average of average) for each category of questionnaires."
   ]
  },
  {
   "cell_type": "code",
   "execution_count": null,
   "metadata": {
    "colab": {
     "base_uri": "https://localhost:8080/",
     "height": 332
    },
    "id": "G85VauUfOZWR",
    "outputId": "4d7af344-8d1b-4f82-a098-bedb60d8a23f"
   },
   "outputs": [],
   "source": [
    "if common.df.shape[0] != common.df['Category'].isnull().sum() : \n",
    "  res = pd.DataFrame(np.zeros((len(common.df.Category.unique()),1)), index = common.df.sort_values(by=\"Ab\").Category.unique(), columns=['Avg. Jaccard Index'])\n",
    "  for category in common.df.Category.unique() : \n",
    "      df_category = common.df.drop(common.header+['sum_symptoms'],axis = 1)[common.df.Category==category]\n",
    "      df_category = df_category.iloc[:,(df_category.sum(axis = 0)!=0.0).to_numpy()] # we keep only the questionnaire with at least 1 symptom\n",
    "      liste_avg = []\n",
    "      for questionnaire1 in df_category.columns : \n",
    "        liste = []\n",
    "        for questionnaire2 in df_category.columns : \n",
    "          if questionnaire1!= questionnaire2 :\n",
    "            liste.append(jaccard_score(df_category[questionnaire1]>=1, df_category[questionnaire2]>=1))\n",
    "        liste_avg.append(np.mean(liste))\n",
    "      res.loc[category, 'Avg. Jaccard Index'] = np.mean(liste_avg)\n",
    "  display(res)\n",
    "  res.to_excel(\"table5_jaccard_categories.xlsx\")\n",
    "\n",
    "else : \n",
    "  print(\"Category is empty\")"
   ]
  },
  {
   "cell_type": "markdown",
   "metadata": {
    "id": "dgGMcg8IvzX6"
   },
   "source": [
    "Table 5 has been save in the online folder (📁 symbol on the left) under the name [table5_jaccard_categories.xlsx](./table5_jaccard_categories.xlsx). <br>You can change the name and the format of the file changing the name in the `res.to_excel()` function. \n",
    "<br>⚠️ If you need it, save the excel file on your local computer : these online file will be deleted as soon as you quit this page!"
   ]
  },
  {
   "cell_type": "markdown",
   "metadata": {},
   "source": [
    "Computing the same metric (average of average) for each subcategory."
   ]
  },
  {
   "cell_type": "code",
   "execution_count": null,
   "metadata": {},
   "outputs": [],
   "source": [
    "if common.df.shape[0] != common.df['Subcategory'].isnull().sum() : \n",
    "  res = pd.DataFrame(np.zeros((len(common.df.Subcategory.unique()),1)), index = common.df.sort_values(by=\"Ab\").Subcategory.unique(), columns=['Avg. Jaccard Index'])\n",
    "  for subcategory in common.df.Subcategory.unique() : \n",
    "      df_subcategory = common.df.drop(common.header+['sum_symptoms'],axis = 1)[common.df.Subcategory==subcategory]\n",
    "      df_subcategory = df_subcategory.iloc[:,(df_subcategory.sum(axis = 0)!=0.0).to_numpy()] # we keep only the questionnaire with at least 1 symptom\n",
    "      liste_avg = []\n",
    "      for questionnaire1 in df_subcategory.columns : \n",
    "        liste = []\n",
    "        for questionnaire2 in df_subcategory.columns : \n",
    "          if questionnaire1!= questionnaire2 :\n",
    "            liste.append(jaccard_score(df_subcategory[questionnaire1]>=1, df_subcategory[questionnaire2]>=1))\n",
    "        liste_avg.append(np.mean(liste))\n",
    "      res.loc[subcategory, 'Avg. Jaccard Index'] = np.mean(liste_avg)\n",
    "  display(res)\n",
    "  res.to_excel(\"table5b_jaccard_subcategories.xlsx\")\n",
    "\n",
    "else : \n",
    "  print(\"Subcategory is empty\")"
   ]
  },
  {
   "cell_type": "markdown",
   "metadata": {},
   "source": [
    "# Sunburst Plot"
   ]
  },
  {
   "cell_type": "code",
   "execution_count": null,
   "metadata": {},
   "outputs": [],
   "source": [
    "#replacing some wordings\n",
    "if common.experiment == \"Gauld2023_OSAS_content_analysis\" : \n",
    "    common.df.replace(\"Stop breathing observations\",\"Stop breathing <br> observations\", inplace = True)\n",
    "    common.df.replace(\"Self-complaints of breath abnormalities\",\"Self-complaints of <br> breath abnormalities\", inplace = True)\n",
    "    common.df.replace(\"Breath abnormalities complaints reported by other\",\"Breath abnormalities <br> complaints reported <br> by other\", inplace = True)\n",
    "    common.df.replace(\"Sociodemographic\",\"Sociodem.\", inplace = True)\n",
    "    common.df.replace(\"Anthropometry\",\"Antropo.\", inplace = True)\n",
    "    common.df.replace(\"Sleep-related symptoms\",\"Sleep-related <br> symptoms\", inplace = True)\n",
    "    common.df.replace(\"Breath abnormalities complaints\",\"Breath abn. compl.\", inplace = True)\n",
    "    common.df.replace(\"OSA symptoms\",\"OSA <br> symptoms\", inplace = True)\n",
    "    common.df.replace(\"Clinical characteristics\",\"Clinical <br> characteristics\", inplace = True)\n",
    "    common.df.replace(\"Breath abnormalities observations\",\"Breath <br> abnormalities <br> observations\", inplace = True)\n",
    "    common.df.replace(\"Breath abnormalities-related complaints\",\"Breath <br> abnormalities-related <br> complaints\", inplace = True)"
   ]
  },
  {
   "cell_type": "code",
   "execution_count": null,
   "metadata": {},
   "outputs": [],
   "source": [
    "if np.sum(common.df.Subcategory.isna()) != common.df.shape[0] : # with category and subcategory\n",
    "    fig = px.sunburst(common.df, path=['Category', 'Subcategory', 'Symptom'], values='sum_symptoms',color_discrete_sequence = px.colors.qualitative.Pastel)\n",
    "    fig.update_layout(margin = dict(t=0, l=0, r=0, b=0), font_size=11, width =600, height = 600)\n",
    "    fig.update_traces(insidetextorientation='radial')\n",
    "    fig.update_traces(hovertemplate='sum_symptom: %{value}')\n",
    "    #fig.write_image(\"figure6_sunburst_plot.pdf\") # writting the figure into a file\n",
    "    fig.show()\n",
    "elif np.sum(common.df.Category.isna()) != common.df.shape[0] : # with category only\n",
    "    fig = px.sunburst(common.df, path=['Category', 'Symptom'], values='sum_symptoms',color_discrete_sequence = px.colors.qualitative.Pastel)\n",
    "    fig.update_layout(margin = dict(t=0, l=0, r=0, b=0), font_size=11, width =600, height = 600)\n",
    "    fig.update_traces(insidetextorientation='radial')\n",
    "    fig.update_traces(hovertemplate='sum_symptom: %{value}')\n",
    "    #fig.write_image(\"figure6_sunburst_plot.pdf\") # writting the figure into a file\n",
    "    fig.show()\n",
    "else : \n",
    "    print(\"No category -> no sunburst plot\")\n"
   ]
  },
  {
   "cell_type": "markdown",
   "metadata": {},
   "source": [
    "The figure has been save in the online folder (📁 symbol on the left) under the name [figure6_sunburst_plot.pdf](figure6_sunburst_plot.pdf). <br>You can change the name and the format of the file changing the name in the `#fig.write_image()` function. \n",
    "<br>⚠️ If you want it, save the figure on your local computer : these online file will be deleted as soon as you quit this page!"
   ]
  },
  {
   "cell_type": "markdown",
   "metadata": {},
   "source": [
    "---\n",
    "# Export to html\n",
    "You have reached the end of this notebook. \n",
    "If you want to save the whole page, you can download it to html with dynamic figures:\n",
    ">* \"File\" → \"Save and Export Notebook as\" → \"HTML\" "
   ]
  }
 ],
 "metadata": {
  "colab": {
   "collapsed_sections": [],
   "provenance": []
  },
  "kernelspec": {
   "display_name": "Python 3 (ipykernel)",
   "language": "python",
   "name": "python3"
  },
  "language_info": {
   "codemirror_mode": {
    "name": "ipython",
    "version": 3
   },
   "file_extension": ".py",
   "mimetype": "text/x-python",
   "name": "python",
   "nbconvert_exporter": "python",
   "pygments_lexer": "ipython3",
   "version": "3.8.10"
  },
  "vscode": {
   "interpreter": {
    "hash": "68522a6d5c06a8311fc2294da1fa0b58af198971039928249c933578fb2cb27d"
   }
  },
  "widgets": {
   "application/vnd.jupyter.widget-state+json": {
    "state": {
     "00ddaa4407694bf7851653df6c928429": {
      "model_module": "@jupyter-widgets/output",
      "model_module_version": "1.0.0",
      "model_name": "OutputModel",
      "state": {
       "layout": "IPY_MODEL_cd67bd6c49394508bfbdc8261f7ce7bf"
      }
     },
     "014525f9ec0148a3bd40692e7e4f3a9c": {
      "model_module": "@jupyter-widgets/controls",
      "model_module_version": "2.0.0",
      "model_name": "CheckboxModel",
      "state": {
       "description": "IDS30",
       "disabled": false,
       "layout": "IPY_MODEL_dd82286354a2428d84d62889dcee249d",
       "style": "IPY_MODEL_2de9d70b3e0b4affad4aa417ee623a4e",
       "value": false
      }
     },
     "0678544ce1f840c6b2f1077b4d0098ec": {
      "model_module": "@jupyter-widgets/controls",
      "model_module_version": "2.0.0",
      "model_name": "CheckboxModel",
      "state": {
       "description": "GOAL",
       "disabled": false,
       "layout": "IPY_MODEL_48148f4887e34ea28c4e537be379f05b",
       "style": "IPY_MODEL_7ab0aba7a19541ce9f930599c9dbe1b2",
       "value": false
      }
     },
     "06c0c9491ce84f02bba8215e263b9b22": {
      "model_module": "@jupyter-widgets/controls",
      "model_module_version": "2.0.0",
      "model_name": "ButtonModel",
      "state": {
       "description": "Save",
       "disabled": true,
       "icon": "save",
       "layout": "IPY_MODEL_5deaef1f52c14c83b47f8d5f861ad99c",
       "style": "IPY_MODEL_8de6e20f32a64b4fa7fd942f3ee51dd6",
       "tooltip": "Click here to save the figure"
      }
     },
     "071ad9705add4c89a0ad7910050a6155": {
      "model_module": "@jupyter-widgets/base",
      "model_module_version": "2.0.0",
      "model_name": "LayoutModel",
      "state": {}
     },
     "079bd72d962940e0923f629cd0326741": {
      "model_module": "@jupyter-widgets/controls",
      "model_module_version": "2.0.0",
      "model_name": "CheckboxStyleModel",
      "state": {
       "description_width": ""
      }
     },
     "095a0a5fa6f346d7ab05399f1f8d5ff3": {
      "model_module": "@jupyter-widgets/controls",
      "model_module_version": "2.0.0",
      "model_name": "ButtonStyleModel",
      "state": {
       "font_family": null,
       "font_size": null,
       "font_style": null,
       "font_variant": null,
       "font_weight": null,
       "text_color": null,
       "text_decoration": null
      }
     },
     "0a237382622e46ee802f12affcad369b": {
      "model_module": "@jupyter-widgets/controls",
      "model_module_version": "2.0.0",
      "model_name": "DescriptionStyleModel",
      "state": {
       "description_width": ""
      }
     },
     "0d5a151df5d34c8aa619e8102e106e72": {
      "model_module": "@jupyter-widgets/base",
      "model_module_version": "2.0.0",
      "model_name": "LayoutModel",
      "state": {
       "grid_gap": "5px",
       "justify_content": "flex-start",
       "width": "100%"
      }
     },
     "0f8cb88ea3e84be5bcb660605e1d6471": {
      "model_module": "@jupyter-widgets/controls",
      "model_module_version": "2.0.0",
      "model_name": "HBoxModel",
      "state": {
       "children": [
        "IPY_MODEL_7e692e24ecc74a9faac796143291586e"
       ],
       "layout": "IPY_MODEL_b710a3713b8449cd8a715afe8998373f"
      }
     },
     "11844f73a183455e8cb50f227ca9bb6a": {
      "model_module": "@jupyter-widgets/controls",
      "model_module_version": "2.0.0",
      "model_name": "HBoxModel",
      "state": {
       "children": [
        "IPY_MODEL_e0c7e8ad77c24500937025358e45e8d1"
       ],
       "layout": "IPY_MODEL_b7fa997e2137456193e432f578f1f01a"
      }
     },
     "1315e3d4987549a88e6cb0d58434ab38": {
      "model_module": "@jupyter-widgets/controls",
      "model_module_version": "2.0.0",
      "model_name": "CheckboxStyleModel",
      "state": {
       "description_width": ""
      }
     },
     "13ac02984dfa44c181b2b3de0c64346f": {
      "model_module": "@jupyter-widgets/base",
      "model_module_version": "2.0.0",
      "model_name": "LayoutModel",
      "state": {
       "grid_template_columns": "repeat(3, 33%)"
      }
     },
     "18006e09ec414c139123cd9cc124b32f": {
      "model_module": "@jupyter-widgets/base",
      "model_module_version": "2.0.0",
      "model_name": "LayoutModel",
      "state": {}
     },
     "1d9a2df277a64c17b19e6a818e973f51": {
      "model_module": "@jupyter-widgets/controls",
      "model_module_version": "2.0.0",
      "model_name": "CheckboxStyleModel",
      "state": {
       "description_width": ""
      }
     },
     "2010b430ba8c4f3aaaa166fdb542c8c6": {
      "model_module": "jupyterlab-plotly",
      "model_module_version": "^5.13.0",
      "model_name": "FigureModel",
      "state": {
       "_config": {
        "editSelection": false,
        "plotlyServerURL": "https://plot.ly"
       },
       "_data": [
        {
         "mode": "markers",
         "opacity": 0,
         "r": [
          0,
          0,
          0,
          0,
          0,
          0,
          0,
          0,
          0,
          0,
          0,
          0,
          0,
          0,
          0,
          0,
          0,
          0,
          0,
          0,
          0,
          0,
          0,
          0,
          0,
          0,
          0,
          0,
          0,
          0,
          0,
          0,
          0,
          0,
          0,
          0,
          0,
          0,
          0,
          0,
          0,
          0,
          0,
          0,
          0,
          0,
          0,
          0,
          0,
          0,
          0,
          0
         ],
         "showlegend": false,
         "theta": [
          "S01",
          "S02",
          "S03",
          "S05",
          "S12",
          "S24",
          "S16",
          "S21",
          "S23",
          "S25",
          "S20",
          "S28",
          "S08",
          "S13",
          "S14",
          "S17",
          "S18",
          "S22",
          "S26",
          "S04",
          "S06",
          "S19",
          "S27",
          "S30",
          "S31",
          "S38",
          "S07",
          "S10",
          "S15",
          "S34",
          "S40",
          "S09",
          "S11",
          "S29",
          "S32",
          "S33",
          "S35",
          "S36",
          "S37",
          "S39",
          "S41",
          "S42",
          "S43",
          "S44",
          "S45",
          "S46",
          "S47",
          "S48",
          "S49",
          "S50",
          "S51",
          "S52"
         ],
         "type": "scatterpolar",
         "uid": "04abbdf4-780a-4021-bdbe-29d87344b905"
        },
        {
         "hoverinfo": "text",
         "hovertext": [
          "Scale: IDS30<br>Sympt.:Appetite decreas<br>Specific<br>Category: ",
          "Scale: IDS30<br>Sympt.:Tiredness, fatigue<br>Specific<br>Category: ",
          "Scale: IDS30<br>Sympt.:Concentration problems<br>Specific<br>Category: ",
          "Scale: IDS30<br>Sympt.:Loss of energy <br>Specific<br>Category: ",
          "Scale: IDS30<br>Sympt.:Appetite increase<br>Specific<br>Category: ",
          "Scale: IDS30<br>Sympt.:Weight decrease<br>Specific<br>Category: ",
          "Scale: IDS30<br>Sympt.:Indescisiveness<br>Specific<br>Category: ",
          "Scale: IDS30<br>Sympt.:Guilt<br>Specific<br>Category: ",
          "Scale: IDS30<br>Sympt.:Worthlessness<br>Specific<br>Category: ",
          "Scale: IDS30<br>Sympt.:Weight increase<br>Specific<br>Category: "
         ],
         "marker": {
          "color": "rgb(102, 197, 204)",
          "line": {
           "width": 0
          },
          "symbol": "circle"
         },
         "mode": "markers",
         "name": "IDS30",
         "opacity": 1,
         "r": [
          20,
          20,
          20,
          20,
          20,
          20,
          20,
          20,
          20,
          20
         ],
         "theta": [
          "S12",
          "S24",
          "S16",
          "S25",
          "S13",
          "S14",
          "S17",
          "S18",
          "S19",
          "S15"
         ],
         "type": "scatterpolar",
         "uid": "11c74cfc-502f-4616-a019-6bf2da8d011a"
        },
        {
         "hoverinfo": "text",
         "hovertext": [
          "Scale: BDI<br>Sympt.:Early insomnia<br>Specific<br>Category: ",
          "Scale: BDI<br>Sympt.:Middle insomnia<br>Specific<br>Category: ",
          "Scale: BDI<br>Sympt.:Late insomnia<br>Specific<br>Category: ",
          "Scale: BDI<br>Sympt.:Appetite decreas<br>Specific<br>Category: ",
          "Scale: BDI<br>Sympt.:Appetite increase<br>Specific<br>Category: ",
          "Scale: BDI<br>Sympt.:Hypersomnia<br>Specific<br>Category: "
         ],
         "marker": {
          "color": "rgb(246, 207, 113)",
          "line": {
           "width": 0
          },
          "symbol": "circle"
         },
         "mode": "markers",
         "name": "BDI",
         "opacity": 1,
         "r": [
          19,
          19,
          19,
          19,
          19,
          19
         ],
         "theta": [
          "S01",
          "S02",
          "S03",
          "S12",
          "S13",
          "S04"
         ],
         "type": "scatterpolar",
         "uid": "8abcb39e-83e6-4f48-8258-87c53d6322a8"
        },
        {
         "hoverinfo": "text",
         "hovertext": [
          "Scale: SDS<br>Sympt.:Early insomnia<br>Specific<br>Category: ",
          "Scale: SDS<br>Sympt.:Middle insomnia<br>Specific<br>Category: ",
          "Scale: SDS<br>Sympt.:Late insomnia<br>Specific<br>Category: ",
          "Scale: SDS<br>Sympt.:Appetite decreas<br>Specific<br>Category: ",
          "Scale: SDS<br>Sympt.:Appetite increase<br>Specific<br>Category: "
         ],
         "marker": {
          "color": "rgb(248, 156, 116)",
          "line": {
           "width": 0
          },
          "symbol": "circle"
         },
         "mode": "markers",
         "name": "SDS",
         "opacity": 1,
         "r": [
          18,
          18,
          18,
          18,
          18
         ],
         "theta": [
          "S01",
          "S02",
          "S03",
          "S12",
          "S13"
         ],
         "type": "scatterpolar",
         "uid": "65a7661a-2bf6-4f86-819f-ded7ada37c47"
        },
        {
         "hoverinfo": "text",
         "hovertext": [
          "Scale: HRSD<br>Sympt.:Tiredness, fatigue<br>Specific<br>Category: ",
          "Scale: HRSD<br>Sympt.:Loss of pleasure<br>Specific<br>Category: ",
          "Scale: HRSD<br>Sympt.:Loss of energy <br>Specific<br>Category: ",
          "Scale: HRSD<br>Sympt.:Irritable mood<br>Specific<br>Category: ",
          "Scale: HRSD<br>Sympt.:Guilt<br>Specific<br>Category: ",
          "Scale: HRSD<br>Sympt.:Loss of interest<br>Specific<br>Category: ",
          "Scale: HRSD<br>Sympt.:Anxious  / fearful mood<br>Specific<br>Category: ",
          "Scale: HRSD<br>Sympt.:Sympathetic arousal (palpitations ,tremors, tinnitus, chest pain)<br>Specific<br>Category: ",
          "Scale: HRSD<br>Sympt.:Gastrointestinal problems (constipation, diarrhea)<br>Specific<br>Category: ",
          "Scale: HRSD<br>Sympt.:Panic/phobic symptoms<br>Specific<br>Category: "
         ],
         "marker": {
          "color": "rgb(220, 176, 242)",
          "line": {
           "width": 0
          },
          "symbol": "circle"
         },
         "mode": "markers",
         "name": "HRSD",
         "opacity": 1,
         "r": [
          17,
          17,
          17,
          17,
          17,
          17,
          17,
          17,
          17,
          17
         ],
         "theta": [
          "S24",
          "S23",
          "S25",
          "S08",
          "S18",
          "S22",
          "S06",
          "S30",
          "S31",
          "S07"
         ],
         "type": "scatterpolar",
         "uid": "5e2ef85a-3f50-40f3-a768-d62d0b5165a5"
        },
        {
         "hoverinfo": "text",
         "hovertext": [
          "Scale: CESD<br>Sympt.:Early insomnia<br>Specific<br>Category: ",
          "Scale: CESD<br>Sympt.:Middle insomnia<br>Specific<br>Category: ",
          "Scale: CESD<br>Sympt.:Late insomnia<br>Specific<br>Category: ",
          "Scale: CESD<br>Sympt.:Tiredness, fatigue<br>Specific<br>Category: ",
          "Scale: CESD<br>Sympt.:Loss of energy <br>Specific<br>Category: "
         ],
         "marker": {
          "color": "rgb(135, 197, 95)",
          "line": {
           "width": 0
          },
          "symbol": "circle"
         },
         "mode": "markers",
         "name": "CESD",
         "opacity": 1,
         "r": [
          16,
          16,
          16,
          16,
          16
         ],
         "theta": [
          "S01",
          "S02",
          "S03",
          "S24",
          "S25"
         ],
         "type": "scatterpolar",
         "uid": "5c0ab5a8-672b-47c5-a263-1b856aee6f01"
        },
        {
         "hoverinfo": "text",
         "hovertext": [
          "Scale: QIDS16<br>Sympt.:Early insomnia<br>Specific<br>Category: ",
          "Scale: QIDS16<br>Sympt.:Middle insomnia<br>Specific<br>Category: ",
          "Scale: QIDS16<br>Sympt.:Late insomnia<br>Specific<br>Category: ",
          "Scale: QIDS16<br>Sympt.:Appetite decreas<br>Specific<br>Category: ",
          "Scale: QIDS16<br>Sympt.:Tiredness, fatigue<br>Specific<br>Category: ",
          "Scale: QIDS16<br>Sympt.:Concentration problems<br>Specific<br>Category: ",
          "Scale: QIDS16<br>Sympt.:Loss of pleasure<br>Specific<br>Category: ",
          "Scale: QIDS16<br>Sympt.:Loss of energy <br>Specific<br>Category: ",
          "Scale: QIDS16<br>Sympt.:Psychomotor agitation<br>Specific<br>Category: ",
          "Scale: QIDS16<br>Sympt.:Appetite increase<br>Specific<br>Category: ",
          "Scale: QIDS16<br>Sympt.:Weight decrease<br>Specific<br>Category: ",
          "Scale: QIDS16<br>Sympt.:Indescisiveness<br>Specific<br>Category: ",
          "Scale: QIDS16<br>Sympt.:Guilt<br>Specific<br>Category: ",
          "Scale: QIDS16<br>Sympt.:Loss of interest<br>Specific<br>Category: ",
          "Scale: QIDS16<br>Sympt.:Hypersomnia<br>Specific<br>Category: ",
          "Scale: QIDS16<br>Sympt.:Worthlessness<br>Specific<br>Category: ",
          "Scale: QIDS16<br>Sympt.:Psychomotor retardation<br>Specific<br>Category: ",
          "Scale: QIDS16<br>Sympt.:Weight increase<br>Specific<br>Category: "
         ],
         "marker": {
          "color": "rgb(158, 185, 243)",
          "line": {
           "width": 0
          },
          "symbol": "circle"
         },
         "mode": "markers",
         "name": "QIDS16",
         "opacity": 1,
         "r": [
          15,
          15,
          15,
          15,
          15,
          15,
          15,
          15,
          15,
          15,
          15,
          15,
          15,
          15,
          15,
          15,
          15,
          15
         ],
         "theta": [
          "S01",
          "S02",
          "S03",
          "S12",
          "S24",
          "S16",
          "S23",
          "S25",
          "S28",
          "S13",
          "S14",
          "S17",
          "S18",
          "S22",
          "S04",
          "S19",
          "S27",
          "S15"
         ],
         "type": "scatterpolar",
         "uid": "f1cc1e3c-5f7b-40b3-80df-ea13aa5f08e7"
        },
        {
         "hoverinfo": "text",
         "hovertext": [
          "Scale: MADRS<br>Sympt.:Early insomnia<br>Specific<br>Category: ",
          "Scale: MADRS<br>Sympt.:Middle insomnia<br>Specific<br>Category: ",
          "Scale: MADRS<br>Sympt.:Late insomnia<br>Specific<br>Category: ",
          "Scale: MADRS<br>Sympt.:Tiredness, fatigue<br>Specific<br>Category: ",
          "Scale: MADRS<br>Sympt.:Loss of energy <br>Specific<br>Category: "
         ],
         "marker": {
          "color": "rgb(254, 136, 177)",
          "line": {
           "width": 0
          },
          "symbol": "circle"
         },
         "mode": "markers",
         "name": "MADRS",
         "opacity": 1,
         "r": [
          14,
          14,
          14,
          14,
          14
         ],
         "theta": [
          "S01",
          "S02",
          "S03",
          "S24",
          "S25"
         ],
         "type": "scatterpolar",
         "uid": "e999801b-d8b8-474a-b288-37edb9feb74c"
        },
        {
         "hoverinfo": "text",
         "hovertext": [
          "Scale: IDS30<br>Sympt.:Early insomnia<br>Compound<br>Category: ",
          "Scale: IDS30<br>Sympt.:Middle insomnia<br>Compound<br>Category: ",
          "Scale: IDS30<br>Sympt.:Late insomnia<br>Compound<br>Category: ",
          "Scale: IDS30<br>Sympt.:Sad mood<br>Compound<br>Category: ",
          "Scale: IDS30<br>Sympt.:Suicidal ideation<br>Compound<br>Category: ",
          "Scale: IDS30<br>Sympt.:Loss of pleasure<br>Compound<br>Category: ",
          "Scale: IDS30<br>Sympt.:Pessimism / hopeful about future<br>Compound<br>Category: ",
          "Scale: IDS30<br>Sympt.:Psychomotor agitation<br>Compound<br>Category: ",
          "Scale: IDS30<br>Sympt.:Irritable mood<br>Compound<br>Category: ",
          "Scale: IDS30<br>Sympt.:Loss of interest<br>Compound<br>Category: ",
          "Scale: IDS30<br>Sympt.:Decreased libido<br>Compound<br>Category: ",
          "Scale: IDS30<br>Sympt.:Hypersomnia<br>Compound<br>Category: ",
          "Scale: IDS30<br>Sympt.:Anxious  / fearful mood<br>Compound<br>Category: ",
          "Scale: IDS30<br>Sympt.:Psychomotor retardation<br>Compound<br>Category: ",
          "Scale: IDS30<br>Sympt.:Sympathetic arousal (palpitations ,tremors, tinnitus, chest pain)<br>Compound<br>Category: ",
          "Scale: IDS30<br>Sympt.:Gastrointestinal problems (constipation, diarrhea)<br>Compound<br>Category: ",
          "Scale: IDS30<br>Sympt.:Panic/phobic symptoms<br>Compound<br>Category: ",
          "Scale: IDS30<br>Sympt.:Diurnal variation<br>Compound<br>Category: ",
          "Scale: IDS30<br>Sympt.:Mood reactivity <br>Compound<br>Category: ",
          "Scale: IDS30<br>Sympt.:Grief<br>Compound<br>Category: ",
          "Scale: IDS30<br>Sympt.:Somatic complaints (pain, headaches, heaviness of limbs)<br>Compound<br>Category: ",
          "Scale: IDS30<br>Sympt.:Interpersonal sensitivity<br>Compound<br>Category: ",
          "Scale: IDS30<br>Sympt.:Leaden paralysis<br>Compound<br>Category: "
         ],
         "marker": {
          "color": "white",
          "line": {
           "color": "rgb(102, 197, 204)",
           "width": 1
          },
          "symbol": "circle"
         },
         "mode": "markers",
         "r": [
          20,
          20,
          20,
          20,
          20,
          20,
          20,
          20,
          20,
          20,
          20,
          20,
          20,
          20,
          20,
          20,
          20,
          20,
          20,
          20,
          20,
          20,
          20
         ],
         "showlegend": false,
         "theta": [
          "S01",
          "S02",
          "S03",
          "S05",
          "S21",
          "S23",
          "S20",
          "S28",
          "S08",
          "S22",
          "S26",
          "S04",
          "S06",
          "S27",
          "S30",
          "S31",
          "S07",
          "S10",
          "S09",
          "S11",
          "S29",
          "S32",
          "S33"
         ],
         "type": "scatterpolar",
         "uid": "1d832b64-d2b1-4495-bfce-1871dd262837"
        },
        {
         "hoverinfo": "text",
         "hovertext": [
          "Scale: BDI<br>Sympt.:Sad mood<br>Compound<br>Category: ",
          "Scale: BDI<br>Sympt.:Tiredness, fatigue<br>Compound<br>Category: ",
          "Scale: BDI<br>Sympt.:Concentration problems<br>Compound<br>Category: ",
          "Scale: BDI<br>Sympt.:Suicidal ideation<br>Compound<br>Category: ",
          "Scale: BDI<br>Sympt.:Loss of pleasure<br>Compound<br>Category: ",
          "Scale: BDI<br>Sympt.:Loss of energy <br>Compound<br>Category: ",
          "Scale: BDI<br>Sympt.:Pessimism / hopeful about future<br>Compound<br>Category: ",
          "Scale: BDI<br>Sympt.:Psychomotor agitation<br>Compound<br>Category: ",
          "Scale: BDI<br>Sympt.:Irritable mood<br>Compound<br>Category: ",
          "Scale: BDI<br>Sympt.:Indescisiveness<br>Compound<br>Category: ",
          "Scale: BDI<br>Sympt.:Guilt<br>Compound<br>Category: ",
          "Scale: BDI<br>Sympt.:Loss of interest<br>Compound<br>Category: ",
          "Scale: BDI<br>Sympt.:Decreased libido<br>Compound<br>Category: ",
          "Scale: BDI<br>Sympt.:Worthlessness<br>Compound<br>Category: ",
          "Scale: BDI<br>Sympt.:Crying<br>Compound<br>Category: ",
          "Scale: BDI<br>Sympt.:Past failure (I am a total failure as a person)<br>Compound<br>Category: ",
          "Scale: BDI<br>Sympt.:Punishment feelings<br>Compound<br>Category: ",
          "Scale: BDI<br>Sympt.:Self-dislike<br>Compound<br>Category: ",
          "Scale: BDI<br>Sympt.:Self-criticalness (blaming oneself for bad things that happen)<br>Compound<br>Category: "
         ],
         "marker": {
          "color": "white",
          "line": {
           "color": "rgb(246, 207, 113)",
           "width": 1
          },
          "symbol": "circle"
         },
         "mode": "markers",
         "r": [
          19,
          19,
          19,
          19,
          19,
          19,
          19,
          19,
          19,
          19,
          19,
          19,
          19,
          19,
          19,
          19,
          19,
          19,
          19
         ],
         "showlegend": false,
         "theta": [
          "S05",
          "S24",
          "S16",
          "S21",
          "S23",
          "S25",
          "S20",
          "S28",
          "S08",
          "S17",
          "S18",
          "S22",
          "S26",
          "S19",
          "S38",
          "S34",
          "S35",
          "S36",
          "S37"
         ],
         "type": "scatterpolar",
         "uid": "fd1db00c-103b-4cd2-804c-bc5d5ea4c02c"
        },
        {
         "hoverinfo": "text",
         "hovertext": [
          "Scale: SDS<br>Sympt.:Sad mood<br>Compound<br>Category: ",
          "Scale: SDS<br>Sympt.:Tiredness, fatigue<br>Compound<br>Category: ",
          "Scale: SDS<br>Sympt.:Concentration problems<br>Compound<br>Category: ",
          "Scale: SDS<br>Sympt.:Suicidal ideation<br>Compound<br>Category: ",
          "Scale: SDS<br>Sympt.:Loss of pleasure<br>Compound<br>Category: ",
          "Scale: SDS<br>Sympt.:Pessimism / hopeful about future<br>Compound<br>Category: ",
          "Scale: SDS<br>Sympt.:Psychomotor agitation<br>Compound<br>Category: ",
          "Scale: SDS<br>Sympt.:Irritable mood<br>Compound<br>Category: ",
          "Scale: SDS<br>Sympt.:Weight decrease<br>Compound<br>Category: ",
          "Scale: SDS<br>Sympt.:Indescisiveness<br>Compound<br>Category: ",
          "Scale: SDS<br>Sympt.:Decreased libido<br>Compound<br>Category: ",
          "Scale: SDS<br>Sympt.:Sympathetic arousal (palpitations ,tremors, tinnitus, chest pain)<br>Compound<br>Category: ",
          "Scale: SDS<br>Sympt.:Gastrointestinal problems (constipation, diarrhea)<br>Compound<br>Category: ",
          "Scale: SDS<br>Sympt.:Crying<br>Compound<br>Category: ",
          "Scale: SDS<br>Sympt.:Diurnal variation<br>Compound<br>Category: ",
          "Scale: SDS<br>Sympt.:Everything I do is an effort<br>Compound<br>Category: ",
          "Scale: SDS<br>Sympt.:I am useful and needed<br>Compound<br>Category: ",
          "Scale: SDS<br>Sympt.:My life is pretty full<br>Compound<br>Category: "
         ],
         "marker": {
          "color": "white",
          "line": {
           "color": "rgb(248, 156, 116)",
           "width": 1
          },
          "symbol": "circle"
         },
         "mode": "markers",
         "r": [
          18,
          18,
          18,
          18,
          18,
          18,
          18,
          18,
          18,
          18,
          18,
          18,
          18,
          18,
          18,
          18,
          18,
          18
         ],
         "showlegend": false,
         "theta": [
          "S05",
          "S24",
          "S16",
          "S21",
          "S23",
          "S20",
          "S28",
          "S08",
          "S14",
          "S17",
          "S26",
          "S30",
          "S31",
          "S38",
          "S10",
          "S40",
          "S47",
          "S48"
         ],
         "type": "scatterpolar",
         "uid": "ffadf6f5-086d-47fc-83f9-aa974a2f5964"
        },
        {
         "hoverinfo": "text",
         "hovertext": [
          "Scale: HRSD<br>Sympt.:Early insomnia<br>Compound<br>Category: ",
          "Scale: HRSD<br>Sympt.:Middle insomnia<br>Compound<br>Category: ",
          "Scale: HRSD<br>Sympt.:Late insomnia<br>Compound<br>Category: ",
          "Scale: HRSD<br>Sympt.:Sad mood<br>Compound<br>Category: ",
          "Scale: HRSD<br>Sympt.:Appetite decreas<br>Compound<br>Category: ",
          "Scale: HRSD<br>Sympt.:Suicidal ideation<br>Compound<br>Category: ",
          "Scale: HRSD<br>Sympt.:Psychomotor agitation<br>Compound<br>Category: ",
          "Scale: HRSD<br>Sympt.:Weight decrease<br>Compound<br>Category: ",
          "Scale: HRSD<br>Sympt.:Decreased libido<br>Compound<br>Category: ",
          "Scale: HRSD<br>Sympt.:Psychomotor retardation<br>Compound<br>Category: ",
          "Scale: HRSD<br>Sympt.:Hypochondriasis<br>Compound<br>Category: ",
          "Scale: HRSD<br>Sympt.:Loss of insight<br>Compound<br>Category: "
         ],
         "marker": {
          "color": "white",
          "line": {
           "color": "rgb(220, 176, 242)",
           "width": 1
          },
          "symbol": "circle"
         },
         "mode": "markers",
         "r": [
          17,
          17,
          17,
          17,
          17,
          17,
          17,
          17,
          17,
          17,
          17,
          17
         ],
         "showlegend": false,
         "theta": [
          "S01",
          "S02",
          "S03",
          "S05",
          "S12",
          "S21",
          "S28",
          "S14",
          "S26",
          "S27",
          "S51",
          "S52"
         ],
         "type": "scatterpolar",
         "uid": "8bd41aed-425f-4e60-8a1f-c4b05e2e3a19"
        },
        {
         "hoverinfo": "text",
         "hovertext": [
          "Scale: CESD<br>Sympt.:Sad mood<br>Compound<br>Category: ",
          "Scale: CESD<br>Sympt.:Appetite decreas<br>Compound<br>Category: ",
          "Scale: CESD<br>Sympt.:Concentration problems<br>Compound<br>Category: ",
          "Scale: CESD<br>Sympt.:Loss of pleasure<br>Compound<br>Category: ",
          "Scale: CESD<br>Sympt.:Pessimism / hopeful about future<br>Compound<br>Category: ",
          "Scale: CESD<br>Sympt.:Anxious  / fearful mood<br>Compound<br>Category: ",
          "Scale: CESD<br>Sympt.:Crying<br>Compound<br>Category: ",
          "Scale: CESD<br>Sympt.:Past failure (I am a total failure as a person)<br>Compound<br>Category: ",
          "Scale: CESD<br>Sympt.:Everything I do is an effort<br>Compound<br>Category: ",
          "Scale: CESD<br>Sympt.:Lonely<br>Compound<br>Category: ",
          "Scale: CESD<br>Sympt.:Talked less than usual<br>Compound<br>Category: ",
          "Scale: CESD<br>Sympt.:People were unfriendly<br>Compound<br>Category: ",
          "Scale: CESD<br>Sympt.:People disliked me<br>Compound<br>Category: ",
          "Scale: CESD<br>Sympt.:Bothered by things that usually don't bother me<br>Compound<br>Category: ",
          "Scale: CESD<br>Sympt.:Feeling as good as other people+<br>Compound<br>Category: ",
          "Scale: CESD<br>Sympt.:Feeling Happy+<br>Compound<br>Category: "
         ],
         "marker": {
          "color": "white",
          "line": {
           "color": "rgb(135, 197, 95)",
           "width": 1
          },
          "symbol": "circle"
         },
         "mode": "markers",
         "r": [
          16,
          16,
          16,
          16,
          16,
          16,
          16,
          16,
          16,
          16,
          16,
          16,
          16,
          16,
          16,
          16
         ],
         "showlegend": false,
         "theta": [
          "S05",
          "S12",
          "S16",
          "S23",
          "S20",
          "S06",
          "S38",
          "S34",
          "S40",
          "S39",
          "S41",
          "S42",
          "S43",
          "S44",
          "S45",
          "S46"
         ],
         "type": "scatterpolar",
         "uid": "663a3d1c-3bdb-4fb6-b5ad-f41c23c2622f"
        },
        {
         "hoverinfo": "text",
         "hovertext": [
          "Scale: QIDS16<br>Sympt.:Sad mood<br>Compound<br>Category: ",
          "Scale: QIDS16<br>Sympt.:Suicidal ideation<br>Compound<br>Category: "
         ],
         "marker": {
          "color": "white",
          "line": {
           "color": "rgb(158, 185, 243)",
           "width": 1
          },
          "symbol": "circle"
         },
         "mode": "markers",
         "r": [
          15,
          15
         ],
         "showlegend": false,
         "theta": [
          "S05",
          "S21"
         ],
         "type": "scatterpolar",
         "uid": "98116bb7-8021-4c19-b82d-1b9d54b51e0c"
        },
        {
         "hoverinfo": "text",
         "hovertext": [
          "Scale: MADRS<br>Sympt.:Sad mood<br>Compound<br>Category: ",
          "Scale: MADRS<br>Sympt.:Appetite decreas<br>Compound<br>Category: ",
          "Scale: MADRS<br>Sympt.:Concentration problems<br>Compound<br>Category: ",
          "Scale: MADRS<br>Sympt.:Suicidal ideation<br>Compound<br>Category: ",
          "Scale: MADRS<br>Sympt.:Pessimism / hopeful about future<br>Compound<br>Category: ",
          "Scale: MADRS<br>Sympt.:Inner tension<br>Compound<br>Category: ",
          "Scale: MADRS<br>Sympt.:Inability to feel<br>Compound<br>Category: "
         ],
         "marker": {
          "color": "white",
          "line": {
           "color": "rgb(254, 136, 177)",
           "width": 1
          },
          "symbol": "circle"
         },
         "mode": "markers",
         "r": [
          14,
          14,
          14,
          14,
          14,
          14,
          14
         ],
         "showlegend": false,
         "theta": [
          "S05",
          "S12",
          "S16",
          "S21",
          "S20",
          "S49",
          "S50"
         ],
         "type": "scatterpolar",
         "uid": "c556a521-7058-46f6-a34b-874130bdf6d4"
        },
        {
         "fill": "toself",
         "fillcolor": "white",
         "line": {
          "color": "white",
          "width": 0
         },
         "r": [
          6,
          6,
          6,
          6,
          6,
          6,
          6,
          6,
          6,
          6,
          6,
          6,
          6,
          6,
          6,
          6,
          6,
          6,
          6,
          6,
          6,
          6,
          6,
          6,
          6,
          6,
          6,
          6,
          6,
          6,
          6,
          6,
          6,
          6,
          6,
          6,
          6,
          6,
          6,
          6,
          6,
          6,
          6,
          6,
          6,
          6,
          6,
          6,
          6,
          6,
          6,
          6
         ],
         "showlegend": false,
         "theta": [
          "S01",
          "S02",
          "S03",
          "S05",
          "S12",
          "S24",
          "S16",
          "S21",
          "S23",
          "S25",
          "S20",
          "S28",
          "S08",
          "S13",
          "S14",
          "S17",
          "S18",
          "S22",
          "S26",
          "S04",
          "S06",
          "S19",
          "S27",
          "S30",
          "S31",
          "S38",
          "S07",
          "S10",
          "S15",
          "S34",
          "S40",
          "S09",
          "S11",
          "S29",
          "S32",
          "S33",
          "S35",
          "S36",
          "S37",
          "S39",
          "S41",
          "S42",
          "S43",
          "S44",
          "S45",
          "S46",
          "S47",
          "S48",
          "S49",
          "S50",
          "S51",
          "S52"
         ],
         "type": "scatterpolar",
         "uid": "6bb5d0f0-08e3-4055-807b-f53742794dfc"
        }
       ],
       "_js2py_relayout": {},
       "_js2py_restyle": {},
       "_js2py_update": {},
       "_last_layout_edit_id": 66,
       "_last_trace_edit_id": 66,
       "_layout": {
        "autosize": true,
        "height": 500,
        "legend": {
         "font": {
          "color": "black",
          "size": 10
         }
        },
        "polar": {
         "angularaxis": {
          "direction": "counterclockwise",
          "gridcolor": "lightgrey",
          "rotation": 90,
          "tickfont": {
           "size": 7
          }
         },
         "bgcolor": "white",
         "radialaxis": {
          "color": "lightgrey",
          "dtick": 1,
          "gridcolor": "lightgrey",
          "gridwidth": 1,
          "layer": "below traces",
          "linecolor": "lightgrey",
          "range": [
           0,
           21
          ],
          "showgrid": true,
          "visible": true
         }
        },
        "template": {
         "data": {
          "bar": [
           {
            "error_x": {
             "color": "#2a3f5f"
            },
            "error_y": {
             "color": "#2a3f5f"
            },
            "marker": {
             "line": {
              "color": "#E5ECF6",
              "width": 0.5
             },
             "pattern": {
              "fillmode": "overlay",
              "size": 10,
              "solidity": 0.2
             }
            },
            "type": "bar"
           }
          ],
          "barpolar": [
           {
            "marker": {
             "line": {
              "color": "#E5ECF6",
              "width": 0.5
             },
             "pattern": {
              "fillmode": "overlay",
              "size": 10,
              "solidity": 0.2
             }
            },
            "type": "barpolar"
           }
          ],
          "carpet": [
           {
            "aaxis": {
             "endlinecolor": "#2a3f5f",
             "gridcolor": "white",
             "linecolor": "white",
             "minorgridcolor": "white",
             "startlinecolor": "#2a3f5f"
            },
            "baxis": {
             "endlinecolor": "#2a3f5f",
             "gridcolor": "white",
             "linecolor": "white",
             "minorgridcolor": "white",
             "startlinecolor": "#2a3f5f"
            },
            "type": "carpet"
           }
          ],
          "choropleth": [
           {
            "colorbar": {
             "outlinewidth": 0,
             "ticks": ""
            },
            "type": "choropleth"
           }
          ],
          "contour": [
           {
            "colorbar": {
             "outlinewidth": 0,
             "ticks": ""
            },
            "colorscale": [
             [
              0,
              "#0d0887"
             ],
             [
              0.1111111111111111,
              "#46039f"
             ],
             [
              0.2222222222222222,
              "#7201a8"
             ],
             [
              0.3333333333333333,
              "#9c179e"
             ],
             [
              0.4444444444444444,
              "#bd3786"
             ],
             [
              0.5555555555555556,
              "#d8576b"
             ],
             [
              0.6666666666666666,
              "#ed7953"
             ],
             [
              0.7777777777777778,
              "#fb9f3a"
             ],
             [
              0.8888888888888888,
              "#fdca26"
             ],
             [
              1,
              "#f0f921"
             ]
            ],
            "type": "contour"
           }
          ],
          "contourcarpet": [
           {
            "colorbar": {
             "outlinewidth": 0,
             "ticks": ""
            },
            "type": "contourcarpet"
           }
          ],
          "heatmap": [
           {
            "colorbar": {
             "outlinewidth": 0,
             "ticks": ""
            },
            "colorscale": [
             [
              0,
              "#0d0887"
             ],
             [
              0.1111111111111111,
              "#46039f"
             ],
             [
              0.2222222222222222,
              "#7201a8"
             ],
             [
              0.3333333333333333,
              "#9c179e"
             ],
             [
              0.4444444444444444,
              "#bd3786"
             ],
             [
              0.5555555555555556,
              "#d8576b"
             ],
             [
              0.6666666666666666,
              "#ed7953"
             ],
             [
              0.7777777777777778,
              "#fb9f3a"
             ],
             [
              0.8888888888888888,
              "#fdca26"
             ],
             [
              1,
              "#f0f921"
             ]
            ],
            "type": "heatmap"
           }
          ],
          "heatmapgl": [
           {
            "colorbar": {
             "outlinewidth": 0,
             "ticks": ""
            },
            "colorscale": [
             [
              0,
              "#0d0887"
             ],
             [
              0.1111111111111111,
              "#46039f"
             ],
             [
              0.2222222222222222,
              "#7201a8"
             ],
             [
              0.3333333333333333,
              "#9c179e"
             ],
             [
              0.4444444444444444,
              "#bd3786"
             ],
             [
              0.5555555555555556,
              "#d8576b"
             ],
             [
              0.6666666666666666,
              "#ed7953"
             ],
             [
              0.7777777777777778,
              "#fb9f3a"
             ],
             [
              0.8888888888888888,
              "#fdca26"
             ],
             [
              1,
              "#f0f921"
             ]
            ],
            "type": "heatmapgl"
           }
          ],
          "histogram": [
           {
            "marker": {
             "pattern": {
              "fillmode": "overlay",
              "size": 10,
              "solidity": 0.2
             }
            },
            "type": "histogram"
           }
          ],
          "histogram2d": [
           {
            "colorbar": {
             "outlinewidth": 0,
             "ticks": ""
            },
            "colorscale": [
             [
              0,
              "#0d0887"
             ],
             [
              0.1111111111111111,
              "#46039f"
             ],
             [
              0.2222222222222222,
              "#7201a8"
             ],
             [
              0.3333333333333333,
              "#9c179e"
             ],
             [
              0.4444444444444444,
              "#bd3786"
             ],
             [
              0.5555555555555556,
              "#d8576b"
             ],
             [
              0.6666666666666666,
              "#ed7953"
             ],
             [
              0.7777777777777778,
              "#fb9f3a"
             ],
             [
              0.8888888888888888,
              "#fdca26"
             ],
             [
              1,
              "#f0f921"
             ]
            ],
            "type": "histogram2d"
           }
          ],
          "histogram2dcontour": [
           {
            "colorbar": {
             "outlinewidth": 0,
             "ticks": ""
            },
            "colorscale": [
             [
              0,
              "#0d0887"
             ],
             [
              0.1111111111111111,
              "#46039f"
             ],
             [
              0.2222222222222222,
              "#7201a8"
             ],
             [
              0.3333333333333333,
              "#9c179e"
             ],
             [
              0.4444444444444444,
              "#bd3786"
             ],
             [
              0.5555555555555556,
              "#d8576b"
             ],
             [
              0.6666666666666666,
              "#ed7953"
             ],
             [
              0.7777777777777778,
              "#fb9f3a"
             ],
             [
              0.8888888888888888,
              "#fdca26"
             ],
             [
              1,
              "#f0f921"
             ]
            ],
            "type": "histogram2dcontour"
           }
          ],
          "mesh3d": [
           {
            "colorbar": {
             "outlinewidth": 0,
             "ticks": ""
            },
            "type": "mesh3d"
           }
          ],
          "parcoords": [
           {
            "line": {
             "colorbar": {
              "outlinewidth": 0,
              "ticks": ""
             }
            },
            "type": "parcoords"
           }
          ],
          "pie": [
           {
            "automargin": true,
            "type": "pie"
           }
          ],
          "scatter": [
           {
            "fillpattern": {
             "fillmode": "overlay",
             "size": 10,
             "solidity": 0.2
            },
            "type": "scatter"
           }
          ],
          "scatter3d": [
           {
            "line": {
             "colorbar": {
              "outlinewidth": 0,
              "ticks": ""
             }
            },
            "marker": {
             "colorbar": {
              "outlinewidth": 0,
              "ticks": ""
             }
            },
            "type": "scatter3d"
           }
          ],
          "scattercarpet": [
           {
            "marker": {
             "colorbar": {
              "outlinewidth": 0,
              "ticks": ""
             }
            },
            "type": "scattercarpet"
           }
          ],
          "scattergeo": [
           {
            "marker": {
             "colorbar": {
              "outlinewidth": 0,
              "ticks": ""
             }
            },
            "type": "scattergeo"
           }
          ],
          "scattergl": [
           {
            "marker": {
             "colorbar": {
              "outlinewidth": 0,
              "ticks": ""
             }
            },
            "type": "scattergl"
           }
          ],
          "scattermapbox": [
           {
            "marker": {
             "colorbar": {
              "outlinewidth": 0,
              "ticks": ""
             }
            },
            "type": "scattermapbox"
           }
          ],
          "scatterpolar": [
           {
            "marker": {
             "colorbar": {
              "outlinewidth": 0,
              "ticks": ""
             }
            },
            "type": "scatterpolar"
           }
          ],
          "scatterpolargl": [
           {
            "marker": {
             "colorbar": {
              "outlinewidth": 0,
              "ticks": ""
             }
            },
            "type": "scatterpolargl"
           }
          ],
          "scatterternary": [
           {
            "marker": {
             "colorbar": {
              "outlinewidth": 0,
              "ticks": ""
             }
            },
            "type": "scatterternary"
           }
          ],
          "surface": [
           {
            "colorbar": {
             "outlinewidth": 0,
             "ticks": ""
            },
            "colorscale": [
             [
              0,
              "#0d0887"
             ],
             [
              0.1111111111111111,
              "#46039f"
             ],
             [
              0.2222222222222222,
              "#7201a8"
             ],
             [
              0.3333333333333333,
              "#9c179e"
             ],
             [
              0.4444444444444444,
              "#bd3786"
             ],
             [
              0.5555555555555556,
              "#d8576b"
             ],
             [
              0.6666666666666666,
              "#ed7953"
             ],
             [
              0.7777777777777778,
              "#fb9f3a"
             ],
             [
              0.8888888888888888,
              "#fdca26"
             ],
             [
              1,
              "#f0f921"
             ]
            ],
            "type": "surface"
           }
          ],
          "table": [
           {
            "cells": {
             "fill": {
              "color": "#EBF0F8"
             },
             "line": {
              "color": "white"
             }
            },
            "header": {
             "fill": {
              "color": "#C8D4E3"
             },
             "line": {
              "color": "white"
             }
            },
            "type": "table"
           }
          ]
         },
         "layout": {
          "annotationdefaults": {
           "arrowcolor": "#2a3f5f",
           "arrowhead": 0,
           "arrowwidth": 1
          },
          "autotypenumbers": "strict",
          "coloraxis": {
           "colorbar": {
            "outlinewidth": 0,
            "ticks": ""
           }
          },
          "colorscale": {
           "diverging": [
            [
             0,
             "#8e0152"
            ],
            [
             0.1,
             "#c51b7d"
            ],
            [
             0.2,
             "#de77ae"
            ],
            [
             0.3,
             "#f1b6da"
            ],
            [
             0.4,
             "#fde0ef"
            ],
            [
             0.5,
             "#f7f7f7"
            ],
            [
             0.6,
             "#e6f5d0"
            ],
            [
             0.7,
             "#b8e186"
            ],
            [
             0.8,
             "#7fbc41"
            ],
            [
             0.9,
             "#4d9221"
            ],
            [
             1,
             "#276419"
            ]
           ],
           "sequential": [
            [
             0,
             "#0d0887"
            ],
            [
             0.1111111111111111,
             "#46039f"
            ],
            [
             0.2222222222222222,
             "#7201a8"
            ],
            [
             0.3333333333333333,
             "#9c179e"
            ],
            [
             0.4444444444444444,
             "#bd3786"
            ],
            [
             0.5555555555555556,
             "#d8576b"
            ],
            [
             0.6666666666666666,
             "#ed7953"
            ],
            [
             0.7777777777777778,
             "#fb9f3a"
            ],
            [
             0.8888888888888888,
             "#fdca26"
            ],
            [
             1,
             "#f0f921"
            ]
           ],
           "sequentialminus": [
            [
             0,
             "#0d0887"
            ],
            [
             0.1111111111111111,
             "#46039f"
            ],
            [
             0.2222222222222222,
             "#7201a8"
            ],
            [
             0.3333333333333333,
             "#9c179e"
            ],
            [
             0.4444444444444444,
             "#bd3786"
            ],
            [
             0.5555555555555556,
             "#d8576b"
            ],
            [
             0.6666666666666666,
             "#ed7953"
            ],
            [
             0.7777777777777778,
             "#fb9f3a"
            ],
            [
             0.8888888888888888,
             "#fdca26"
            ],
            [
             1,
             "#f0f921"
            ]
           ]
          },
          "colorway": [
           "#636efa",
           "#EF553B",
           "#00cc96",
           "#ab63fa",
           "#FFA15A",
           "#19d3f3",
           "#FF6692",
           "#B6E880",
           "#FF97FF",
           "#FECB52"
          ],
          "font": {
           "color": "#2a3f5f"
          },
          "geo": {
           "bgcolor": "white",
           "lakecolor": "white",
           "landcolor": "#E5ECF6",
           "showlakes": true,
           "showland": true,
           "subunitcolor": "white"
          },
          "hoverlabel": {
           "align": "left"
          },
          "hovermode": "closest",
          "mapbox": {
           "style": "light"
          },
          "paper_bgcolor": "white",
          "plot_bgcolor": "#E5ECF6",
          "polar": {
           "angularaxis": {
            "gridcolor": "white",
            "linecolor": "white",
            "ticks": ""
           },
           "bgcolor": "#E5ECF6",
           "radialaxis": {
            "gridcolor": "white",
            "linecolor": "white",
            "ticks": ""
           }
          },
          "scene": {
           "xaxis": {
            "backgroundcolor": "#E5ECF6",
            "gridcolor": "white",
            "gridwidth": 2,
            "linecolor": "white",
            "showbackground": true,
            "ticks": "",
            "zerolinecolor": "white"
           },
           "yaxis": {
            "backgroundcolor": "#E5ECF6",
            "gridcolor": "white",
            "gridwidth": 2,
            "linecolor": "white",
            "showbackground": true,
            "ticks": "",
            "zerolinecolor": "white"
           },
           "zaxis": {
            "backgroundcolor": "#E5ECF6",
            "gridcolor": "white",
            "gridwidth": 2,
            "linecolor": "white",
            "showbackground": true,
            "ticks": "",
            "zerolinecolor": "white"
           }
          },
          "shapedefaults": {
           "line": {
            "color": "#2a3f5f"
           }
          },
          "ternary": {
           "aaxis": {
            "gridcolor": "white",
            "linecolor": "white",
            "ticks": ""
           },
           "baxis": {
            "gridcolor": "white",
            "linecolor": "white",
            "ticks": ""
           },
           "bgcolor": "#E5ECF6",
           "caxis": {
            "gridcolor": "white",
            "linecolor": "white",
            "ticks": ""
           }
          },
          "title": {
           "x": 0.05
          },
          "xaxis": {
           "automargin": true,
           "gridcolor": "white",
           "linecolor": "white",
           "ticks": "",
           "title": {
            "standoff": 15
           },
           "zerolinecolor": "white",
           "zerolinewidth": 2
          },
          "yaxis": {
           "automargin": true,
           "gridcolor": "white",
           "linecolor": "white",
           "ticks": "",
           "title": {
            "standoff": 15
           },
           "zerolinecolor": "white",
           "zerolinewidth": 2
          }
         }
        },
        "width": 600
       },
       "_py2js_animate": {},
       "_py2js_deleteTraces": {},
       "_py2js_moveTraces": {},
       "_py2js_removeTraceProps": {},
       "_py2js_restyle": {},
       "_view_count": 0
      }
     },
     "22e3ec09cb4b4b4e8963cd4ccc721091": {
      "model_module": "@jupyter-widgets/controls",
      "model_module_version": "2.0.0",
      "model_name": "CheckboxStyleModel",
      "state": {
       "description_width": ""
      }
     },
     "233b827e9c8046b4a36ac3bb3234d4e8": {
      "model_module": "@jupyter-widgets/base",
      "model_module_version": "2.0.0",
      "model_name": "LayoutModel",
      "state": {
       "grid_gap": "5px",
       "justify_content": "flex-start",
       "width": "100%"
      }
     },
     "238433e6c69d4739a022c641048d38c5": {
      "model_module": "@jupyter-widgets/controls",
      "model_module_version": "2.0.0",
      "model_name": "TextModel",
      "state": {
       "layout": "IPY_MODEL_7b4247bff746457495a07f0e6db25dd6",
       "placeholder": "File name (figure_example.pdf)",
       "style": "IPY_MODEL_cafa31ae6b9b4a31bd08510bf9d5e371",
       "tooltip": "Supported formats: ['png', 'jpg', 'jpeg', 'webp', 'svg', 'pdf', 'eps', 'json']"
      }
     },
     "23cd4183203b46dfadb32c2602ca320d": {
      "model_module": "@jupyter-widgets/base",
      "model_module_version": "2.0.0",
      "model_name": "LayoutModel",
      "state": {}
     },
     "265c687e6e954d1ca431d1cc7b5f97fb": {
      "model_module": "@jupyter-widgets/controls",
      "model_module_version": "2.0.0",
      "model_name": "VBoxModel",
      "state": {
       "children": [
        "IPY_MODEL_984e942412dc480f9aad14a43a790726",
        "IPY_MODEL_9e0c34184acb4fdc86e90b141cf5bf6e",
        "IPY_MODEL_af6174f26459433dbc74bf1f08837916"
       ],
       "layout": "IPY_MODEL_615a8a217f5e48c58860ccfe977b4b5e"
      }
     },
     "29f8d2177b924c00b471b0c6b7491061": {
      "model_module": "@jupyter-widgets/base",
      "model_module_version": "2.0.0",
      "model_name": "LayoutModel",
      "state": {
       "grid_gap": "10px",
       "width": "100%"
      }
     },
     "2ce78b88a45647c391ba109e1d47e2b2": {
      "model_module": "@jupyter-widgets/controls",
      "model_module_version": "2.0.0",
      "model_name": "CheckboxStyleModel",
      "state": {
       "description_width": ""
      }
     },
     "2cf90519ce1544e08c685ec3cfdaf33f": {
      "model_module": "@jupyter-widgets/controls",
      "model_module_version": "2.0.0",
      "model_name": "ButtonStyleModel",
      "state": {
       "font_family": null,
       "font_size": null,
       "font_style": null,
       "font_variant": null,
       "font_weight": null,
       "text_color": null,
       "text_decoration": null
      }
     },
     "2de9d70b3e0b4affad4aa417ee623a4e": {
      "model_module": "@jupyter-widgets/controls",
      "model_module_version": "2.0.0",
      "model_name": "CheckboxStyleModel",
      "state": {
       "description_width": ""
      }
     },
     "33efafc47fab465b89db0ceac7a334cc": {
      "model_module": "@jupyter-widgets/controls",
      "model_module_version": "2.0.0",
      "model_name": "TextStyleModel",
      "state": {
       "description_width": "",
       "font_size": null,
       "text_color": null
      }
     },
     "3625978c90ca4a3490f9cae7fffcd89e": {
      "model_module": "@jupyter-widgets/controls",
      "model_module_version": "2.0.0",
      "model_name": "CheckboxStyleModel",
      "state": {
       "description_width": ""
      }
     },
     "3658b39506d54d1c8e372ab3fbae8397": {
      "model_module": "@jupyter-widgets/base",
      "model_module_version": "2.0.0",
      "model_name": "LayoutModel",
      "state": {}
     },
     "3d71ad3fb5c440f9bbd5f330113d219b": {
      "model_module": "@jupyter-widgets/controls",
      "model_module_version": "2.0.0",
      "model_name": "CheckboxStyleModel",
      "state": {
       "description_width": ""
      }
     },
     "42eb29b0410b4f03851d223cc3944912": {
      "buffers": [
       {
        "data": "R0lGODlhyADIAPdjANfX2tjY2PX29uDg4ezs7fHx8dfX2dbW2cLCw9XV1svKzdfW2O3t7b6+wMvLy769wMvKzPDw8N7e3+bm5+7u78/O0fX19bCwsuXl5rq6u+Tk5be3uvT09Ojn6dzc3dzb3fLy8uHh4rKytPf39729v+jo6NjY293d3rGxs5uanqamqODf4eLi48rKzbm5u5mZnsfHx7OztczLzq6usLGys+fn6OPj5ePj49LS09rZ3La2uNHR0vb29szMzcXFx8DAwtfX19PT1bW1ttnZ2crKy8jIyKWlp+vr7M/Pz+/v8Pr6+piYnLu7vdra26CgotbW2JmZnNzc28/P0b++wLe4udTU1qSkppaVmdna3JybnqOjpa+vserq6/Pz9J2dn8jIyqWkp9/f38vMzbKytpqanM7Oz5qZnvj4+J+eotPT0/Dw8Y2NkpiXmo6Mkunp6tTU1LGxttrY29bX2Y2MkZOSlo2NkJeWm+/v7r++wb6/wKuqrfv7+8rJzfn5+KWlqby8vsnJytbW1srJzJqZnKOipaemqrSztpCPk7+/waioqr6+wfPz8vn5+aKipNXV1aSkqKGho46OksjHysvKz46OkPf3+I2MktfW2ZeXmsDAwPz8/IuLjp+foMzKzpyboLu6vezs69DQz4uKj+Dg36WlpsjIy7CwtKWmp/39/fT085CQksrLzbe3t7+/v8zMy+zr7aSkpdbW2t7f3r28wf7+/r69wqioqNTU2NXV2KSlp4qKj9XW1sC/w8nJzNna2by8u7+/xNfY26WkprOzstbX2KSlpvn6+vP09MrLy6ampYmIjKWlpQAAAAAAAAAAAAAAAAAAAAAAAAAAAAAAAAAAAAAAAAAAAAAAAAAAAAAAAAAAAAAAAAAAAAAAAAAAAAAAAAAAAAAAAAAAAAAAAAAAAAAAAAAAAAAAAAAAAAAAAAAAAAAAAAAAAAAAAAAAAAAAAAAAAAAAAAAAAAAAAAAAAAAAAAAAAAAAAAAAAAAAAAAAAAAAAAAAAAAAAAAAAAAAACH/C05FVFNDQVBFMi4wAwEAAAAh+QQFAwBjACwAAAAAyADIAAAI/wDHCBxIsKDBgwgTKlzIsKFBDQuE6ClzQ4PDixgzatzIsaPHjwYBqaAjas4cUZE4IZgAsqXLlzBjwqwxw6TNm3PQlJHJs6fPny25WMFJdA6dBUCTKl2qdIKeojgtzVnShKnVq1g5+oAKdUvWr2DDDjwy6KZUrnPqvBHLtm1SA2ihNnBLt+5LH3XiEvVjt69fjUz0Es2S5K/hwwgNCcZ5pQbix49jLL55hSXkyxndBHiCY4iUwjIlTzZZmSePJDVq3MFstUoGNFCWyH7hx0eJmKJHl4aZhAUWAABMAPCgATRrnz7MvDDDvPkLKFaQvsw9eXdLHhOEA98O3MCEM8d5Cv95Qb65eeYpdkwfTdoyyBEsuMvfbkNJeJiIlpzfz9xTD5fULWbdR/HNZ6AN97n0gRf87bdcIVy0FKBgA3ZEgIEYBmNcgh0Z0mCDUPggIXtzVLhRFx9gaGAwEtjHIUcDoPFhg5wMANKEepmoEQYGqGigCRu+iJEUy8243xJM3EiijhgdoZ2P82Eg5EZfFGnkeVBU8RGOcTF5UYFQzofglBl9cWWDWxDgEZdoednQhWEayAKZGUEAxZn8KbDmku5pNMIJcRrYJ50MpXEnnuc1chtHbHLl5kJOBjrfoIQq5AYkiGL5Q0eNQvVoQl08KSlwJnRR6UUkPJdpc2gkwCifHGH/MKp8K5x6UQgMrsrcCzG8yt6nByUh6qgBRGArqvrpakZ6G3VaFLAFKTHArNzZeKxDNVihLHMzNAtrRhQMK2kOpl7rEBKH6vrCfxk5SxS0A/EgAbXbOWauQyVcoJyyYMyJkbuMUbqQG/QCd4IF914UQLq6bvrvtw6p8Ru9BhyRMEZUbLvsCQ//KnBCNhQMQK0XX3SCjMpCgULHun0crMgmFFAyRj5YmSkUKWjpEMCUuWwQoAX7O7NDBPihcSIU7AzxQgyIjIXMQ18kxSDbQgGB0h43xEMOIksZ9UUU6KHxIxI0xLNNwHYQHL0Hf41RExpDQUJDIiyNEAhcF+yG2xmJ/6BxFkMwpAOJmOy9UAgik8y3yZimbAhDiJDohc9jwEkvkItnVESyui6xlkJF5DWaHgvxMG3BFmWO0QBiq7sE0gqFIfpkkgzcI705QK261BoPQsRCiYxGh7UInTEvxYaTeQMOZfSABA43yGSBvtsKsVACh0zmcELhFowFwjId4QYGEzAA/k83IJLII48YYcQjhfzhS0xBoKyrExEq9ENJeoFB+QQiY0BMeMCAD4gqBzfQnUx6kIhcuO+BD1QBCbzmEhIwDFEpUBxCOEACvWjBAAwBIL002JIjAO1HGNiDTHwgDAi68IGJAIS9QDIB+2UqBYFjSBGgAJVDUCF1C5EVtf9MYCyXUGAUQLgdhuSAAUbA5A0vjKIRSAGLC3wOJMnRlSeAuBANwKARdIhEJA4BhU8E4CI1oNcMPzKC7CgRSmv8iAb0IEUpPsIKGwgBSAjQukw9QoAXYUQCMvEHB5QLjdT6AAhAcoYSNGFWmGtJGcBQxyj64ZKJ+EEcNVKGCxrpBYiwihrEpaIeJa8jR5DAGyU1po+AwBCVjKUR9AAIi3VkA578kCekcBUwxWkFTuwICE5XsBxwACQhSIQsK6kCMMRAPRxZgA1nBIUNYIUBpPwRIDcyghrkTWQACNJGeqCCZdbxkn6wwh9IeBEiJMtm+/GD0KziBgOs0kCnxIgSTAj/Tu6o6SM9sII5l5mIInDRIRyAQQr2xZ8XPEJnWanBPQFwOxPYIJgZIcAKskkvW3rkCeUcqCytMAMciJMhOyAE58zzgjyKhQDflE8O/pmRCNxgoiIzwDYtREeRmhMFVckoBGaAhhSkwBPqBGFbGHGEARjQBB4YAAbOdxEecIGj4NxpR0jg04GqoAF61EgYdiCFJkThL11YxDE3woAT9nM+JxhBS5rQwq6aUwU+2GTmkhACnL4VAHrliA7sKlIRQDRzHNAAVnPao7i+JAwzIAVhzQmLDHhgcX04wsT82s8c5O8lQJiBFfwwWYLCYJFR6wIx/zofezYhsHL8AyVLK0st//xuaAVwK2vhqoafSEEEAqVtJUmxk5ItQre73c4JkpaUEsAgEcEVbhT1kM9r1WCx4MTCBKiaFA1MIaTSfWERLmaB5MrHomvFygd00L7wQjAGJ60UwcxL0eWKJQI4uMBs3ZsI2NKpr+b1QAdU2JYS+ECZ4SVtGhJ2PNaaQAMKdAsLEBFB4ULTXA1+awji6xYcCEG6KrjsvXwpshwwFzEMUIAeomtX6iZMA52tAQ9Y44YDk9auf7hYAQ5QsAejNjxVcIFdtRCIiykhDNQywAp6+yIL4IAGIlXnzLonqRNwQRN04kIPehpLK+iBeBfrAGe3YwIZ22oCCHDfJaU4AzCXTP+ifjUAC358LANQQQWjhaAVbEGC6LmNC8gFjgS0eq0uBAABMyinCmbgAxEvbgRcYIEHcvABD0yAAhidGQE0sILi7K4gZ1ACeD5N6lKb+tSoTrWqV83qVrv61bCOtaxnnbA9aCANPYCAA3bN6177+te8hkAPeO28IFS31ZqIQAkwoIFmO/vZ0I62tJs9AS7QGSEDQIAIUIACEXj72+AOt7jHLe4flM3V3UzRmHMKgDAU0SAR2EEMuk3uetvb3jHowSFTzYHV0ve8NZArQUDwBXrf++AI/zYKRKRqEHjg31AKwYwH8tuEW9zihy21BTIM8R+5BwNCuLjID64DCpYaxh3/h5IJmFwGg4/85eFGwYJNDYJHphxKYRDIH2DOc3FnAMuldgOPb+6jJkSAAYboudK/7ehPC5HoPmKAG1y+9Jdf4GqlXgHUocSFElC96iK/QA5JzfGtc8cAHTgC2HuOggt/msRm384BGFADKqwd5kJI76fTGHcDHdMHd385IE5NgXWnXAJybcLXA3/vc5sacX3nzme1zXiELzzV2Iy8oEc9Bg24oPIHd4FHTz3fvpu4ICz4w+JBL4IM+FnV1437B2hKkBoUgfUxJ4LJVV0AVd7cnjbQu0FsIIUfUEEHyE++8pfP/OYnnwo/KIObW73pFZwAC9jPvva3z/3uY/8EIahB/4QTAoIkcOH86E+/+tfPfvQTmtbwj7/850//+tv//vjPv/73z//++z9BiRUACYADCyABi6I6AsAAGtABbtABETBxF7MIElAEDVCBDUACJNAAgHBQQyMAE9AEq/QBbsBdthICPYCBFpiCFQgEbpMEJ/BGSsQiJ3YqR7ADiKCCOFiBOBA1SRBTGGICA5AKlcIBQ4AAGZiDOEgCY5cwx0VRcTIEEyBwQuIBPoCEVtgAiPBu98J3o4IFoxceJdADVziGZ5QwFoBdGHICHGYYBBAIY/iG45UwJWB4KqIB+3YYEdAECPCGb/gDX2gr/oY7NbAIiCEBRMCHfDgFu2crZVcwEv/ABS5iF25QBohYia93LY0oMiFwh2IBAkHwA5WIiD/wWdcCd/00BDcghWHBAkYYiojIcPdiA/ZkXp4lfFYxAYfoioj4AG53LSBAh9QiATO4FCWAAxX4ALqIiPNkLpBnXrczZ0uRBIeWjIhIArw4ZTYHcTlQA7YYEwMAA0dIjW9IApJAOZVyVTf3AX/4Ek+ABxUYjuKIhCRQBKRYMh1gAsBIMZf4EkEAj/FohYiAA1o4NAQgAZdwc+z0ER/wj3wIAeZ4L4wAaB3XIxzYEW6whwyZgxjoA9O3OCAQe05IX/XYEW6YkUmIAEAwkJ82TB23jBwBAhRokilIAjjgXwhhATX/4AEfAARNMAC0xxZtZAMDMAAawACVsBEF+W8mcG0bcQQ3KJMXqHsakVgywAcKcJUK0AK9EAA/mRUWgAE+aABlxpQMcQZukI27NYwbMQBQ2QAcuRFqUAUQgJV0qQAO0AMdyRQFgJbyYQAeMH4NAQIYgIaSso4ZwZYmiQhVoJYNgV9X2QJ1iZUQIAhhhRUOFyY50AEcwVcAEAxvdQCGiRET8JTxiAhScGwOkQCRuZpZWZFAAQKBZiBN0I0NwQgEEJujcgBdqREgUIXiSAJEsI8ZcQOsyZoVwIlAMQF0aACu6RAC4AY+SC0quRHGmIwP4ANB1REUIAXFuZot4JI/wQEp/yIpS/kRahAChDkfK8B5HsECupiBVTCSGnEC3cmaZbgUXDArStYSGtVRL1EFD6AIlVgG8qkRk1ifqykF7LkQXUAAE2ADNlADHUCWCdEBQzcq77cREzCecXIAEpBpH0EBPiCgV4gI1ymcHfEECLqaYkChBWFVHrBKOYABLloQyplIqugRXeBNcfIBa9iUYmiFD4AAC1CjGaEBc7midQkBgFkQXaBKszgfH8CYBiFC1GKTGVEAgSgfJ7CbIAECgfADyGiB1vgDOOClHbEDShqZZQCBG/SCKvejY3AD3mOkGkEBZWcAObBdP0EBJyAFPoAAPiAFAVCgHhECgrCmdVlkCv8xAloXJzlgpFxILZX5EvuEASGwAitgAxNgpy/BATkKExxQBopal3k5FpJyAOBJEF0QnZKCpqrWBKVKl1JQo5qAm/MhByu3EFaqnwNwlLCmZbN6lRBwqgKhBvkIAItYEAXgqoGCmqlmAMOqABCwA9NJEKUnKatKEGpTME0Qqqk2AdN6lds6EE8nKQlZEBbgrGFiAMt6aosQBNMqCEHQECg3Ko6nEASQrNsxBNdaamEAmcPaA4ZKEOcaKDnHEIywpYHSSphHqtP6AQ5xsHGSsAyRBDATmrsjq9NaBp46BhQbJhbLEDziiKp2BDIwrS3QnAYRsjh3EV3wcBRTsIujmtP/igNNehAu6yMjyxD5WTAfkLN8gwGJOqwQcIANsbMq0rMLwQiZGCcPOTMWEArjqlQXobQYwrSQAjNCGzUrILCzKgMaq7PUorWHIzL18WkUUAHzKrEZgbUGYrYKAQLpeV4ZGjUfMK5SQKUKAbfzIbcK0auz4raZMwFiMK7vGkRluxEWMDH0grRfYwGBkKSzKgVuerWL25Qi0wQfe2bjqgBYihB+Kx+A26hIRi+xELrHUgXjigsdMbrcUboKUQAFEwzf4zYUkLLDKgOwqrizIrsK8aizEgsAAK3mcgNgW6rGSrKZyxFqwK5w5DYnULSlKgV3m7TNyxGTOirlei0eMKsO/7CBHwG72wG8CsEDHBooPNa9xzIBybuiDuAq45u9HNE0V+o2EdADpeoAiYu5vwsSjICr80G8muk2NrumS/i69LuZdXu7bqMBuruiMvAKLUG+wGG+DHGvcWK8CTMEDoCgura8/jsqGLwQFpC+PuIBJDg08QbC9wkSFtxuL8GjUJIDTJY5DCCXlIuVkAkBJgATMVzCDEEAKMylXTszZ/CndSkIEFCTMRHEMVEANhCWTRCFp0YAJfAB9mQAJ+AGtOkRUCwTHHAELLACEoABbkCIq0YLtPATYfx/baHBCAvHbiHHFUvHbdGtoyLCeJwUGDsrqtvHPrEHRewjByCnggwU2T4aJvmayFkxAgx7dgDAuY4sFjwQBXHWI2NbyUoBmz5iAtfLyUzhgU1wAG9kAhsmynRRABhgAyFAlEdww5kTEAAh+QQFAwAAACwGABYAaACZAAAG00CAcEgsGo/IpLI4Wzqf0Kh0Sq1ar9isdpt9cb9g6yNMLpvP6LR6zW673/C4fE6v2+/4vH7P7/v/gIFlMYKFhloNh4qLjI2Oj5CRkpOUlZaXmJmam5ydnlgKn6KjpKWmp6ipqqusra6vsLGys7S1treKMLi7vL2+v8DBwsNCDg7EyMnKy8zNzs/Q0dLT1GguhzSzGkLXZBvV4OHi4+Tl5ufQLLOJ6O3u7/Dx8vP09fb3Uyv4+/z9/v8AlckISLDglgIGEypcyLChw4cQI5JpMYtioSAAIfkEBQMAUQAsAAAAAJsAvAAACP8AowgcSLCgwYMIEypcyLChwQlN/hjCgWGCw4sYM2rcyLGjwR4z0CxZ8mJJikRF3HhcybKlS49udCwxQ7MmTSiJgrzcybOnSwIzbAqtiaaJz6NIkyLsEAPK0KeETiidSpUnEadPh77QUbWr140MtGTNuiTA17NoEzaZOfapj7Rw4xJ50fbplrh4zyKo+1SFmryAqTLhOxSSysCIj34iLNRJicRpj3hosuBEggI+FzOu6dhnjSAkGuyAXLAJAj0q/PgxouJCjyM8NW8203lnAhRXIs2ZE8kLlSqkZRRSrTo18RkfdsreXLvlhD+HdkuXfogEBcQNhhPfTrzQk5fLGTf/X8lFxJrp6OesEYI5Lww/hbRz355odMvwhMd7RDHHUvr0huQ1QCKFGGHggQgaqNoFBNw3G036cSSFbv+ld0ggeJEQX4IcGqHaIxA4+GCEGoWxRIUVqtAFXDagpkKHCRKnhwYs4ccXiRlRUQeK/x3yBlwJrAZjjMS9tZKNdeF4UQ/R8fifC3CVIeSQB3anglEeIdmWkg7N4OR/a3CVFhIvUtmhClRc15GWY3HJUA8UfjldJCjAtYOZVNrHEZtZuakQF43ImV4kf8BlAJ4wqjADbHs+SNtjHBERp6DSFZoWF3ogyqFqMKzpqJ8IhUEHpdOtQccAcfkAhqYIwqcHlhrx//kUqAcxQSp6ieCFgR7yaUocE42OCGlGCYx6626qDJGXD8ZNaWZ3C2wk61C0EtSFl8fupgdgXGxBnK/EbSDtp8NehMOkpF6BKmBvxFcmnts9oudF0zZWbkMTaJGtJWtMgdgRGQwHLnFb0IhRvTZVK5AP2fbXCAaJeaDCu6x6CEhGCHN270JD2HFsJJGs0QNpP1BccSIhHEwuRoZkC/K2pIWQacVVfqKysBclgK6gpsIKGQRW0KxgIco6lDGEGydkRMNz3EWaQBRsIbQR8YkQgdErNzRhw1ck97RAVTRLsx/zKnT0ow3VwEa252Xw9UAR6PBtxYXMkDJDZ4P6Q8NrQP9i8NtRSKDd2H4YuVDeSRd0whUN14EA4AT9IbDQKki1EAmONsKoQvw1DDPkAoUwg7MVk8CQD44mclhCTDZMRwKgE1TG1Kz5UTTrWBH2wgsBKuRGIo2LGbtAN4hAux+GJKEQC4NsVlIZCyHA9BW3Dx9FFawJrZoUC23hvBc2KESACnwb/hIGQKQRRAIB1NDTCC4USLjpCg3hCWNLdKpQEDsLSsbfzvmCDuAABxGIAA6G8IEEeBKARGjPD3pgwEJ8wJa2QGEGq0MIAnb0MSTsJA1CMKAIRygCGGSQJT6Aj8nwVAgAHkQAexnLCy7oNYU04Dy3WkOuXtIDFJDwhyIQQij/uOASN/BKfqwqxALfZIXc0WSGXmiA+xjCBBxSag2HAMJLmgBEINKABkzwmUd6MDGaJcIiaeuBHryQAjN4wgoIqCFD9nbFNdSBfi2pgQ662MUxoOAHEFsJBYSwQjNtQXkXUUITfICAHXAgI3QUFMiyYLmWOMKHfATiGMZgCEBsjiNvEJr5phIAY8kJZI9zSRcakMlWikAHO5BgR37AHSoVIhGw8wq2BJUINbUEA4ZwpStJEC2OfIBXczuTCn5wlh2Y0kl04N5LgiDMVm4SBT64gYTENqQLuLAqX+ifdCxBzlGyJAiYrGYrhSCFKWLEAj0gEOkMNLEtiNErCBgVukCG/0URIPIlHlBnNVFAhQC0ByOBmMGqOAQGRHzzKz1YG3oiUQdMQK8nFNijQKv5hzBohAI7oMIREzEDBHggMEkgwgy8QIdDZEEPGWABUmCwUXXGAAZozMgNnlAFCawrZmH4KVIkUFOBxqAHRLQeyYoqUCZUT6mAuYEL0snUVqIAAUKFKl48QAWqVjWThihDKrQKmBr44KsDLRtZ4RIIEngVrT9EQS7XipcjlCGEcOUjFRpE17yUAAYxyCsQUSDNvgroB2/NKwkOati4gCAATBDsCIWQ1Mbm5Qg9CKZkRfBUy8ZlAl/YrBY9i5gAICKvMbgbaVGKAx0kVp0b+ORqAcMAGf9otqjmnC1gTPPaTF5AjrpFDA8C8AeBYjO4b2NAEPBqVSo8FLmIcQMRRLDJMQzWBc+FbsR+YF0SoiAGPsipdgFngRMowAUGjEEGypDV8YIuCSW4QQlA4N762ve++M2vfvfL3/76978ADrCAB3wWNzShCghOsIIXzOAGK/gJTeArgR2iATE0oAGIyLCGN8zhDnf4wiDWMAS0OWGFgMAAiMCwh1fM4g2DOMQpRsQbLFDig1hgB6F5sY53zOMe+7gBJLhojQmygB8b+chGRsQ9J+yGH6QYyVCOcgMQcMIJJwDDUs6ykR+w5AHDAMtaDjOPfYCKIUfgyWJOs47bK2AG5Fj/zXAmAQ6GDIo3wznNJPBojRlw5z53VsBcQECG+yzmH/BgyFEow6AJreU5I3oAYGZ0lElAYkT3QNJZFjKiS+ADTEPZB7JEtEAm0OkLK6LFqP6wjtEcXlEX5Ag7UHGqZz1oEtg6NIPGQZVdHYUSPIEICAi2sIdN7GIb+wfI/gECIPCE7PI6ChwoAAOmTe1qW/va2Kb2X57N7W57+9vgDre4x03ucpv73F/jgRtWIIEmSEADEkY3RyygARwo4N74lkEaKitvjNTgCfgOeMD13O+GJGEIMhC4wu/d5YIPhAcDKIMCerBwgSeczQ6Pgg2kUPGOK0AGi8g4QQhQBY+bnOAO/0+CBEzOckcXvAss4DjLTS6Df6IbAwmY+cxlwO9yM8AECdc5y8WQuG9zwAMSF/rOfTnuGiBBEErXeWHFzYWSR13oDec1A5pw9agXXdQgiDgEuj7zFiggDuGegL3JLvQgyPbZJwg622ceBKZz+wNjnzvLZdCEkH+bBavQO8sT0HNuMyDpghc4BBwAgR2I99vmTbzCIYCEMNBX3BxYu+QD3oS3M2QEBNCADULAghpse79JkLvkIVCFwjOEB1zIAQBmP/sDAGAAV9PvBMSweQU4fiMcWAHthz97IAzh68idwOZlcILTY4QDEiA+8Q1A/Q7k9wiqJ7sMTBBqjQxA+uCf/f+uoXtjvVdh/A7hQvjDn4ND35frSje7AlogBdVyBASyXz/40R/cEmR/5x5gdxuBAfoXfvZXX+b1fx1nAAK4ERRgAgUIfk3ACPgFAppncjuAfBjxfREofUDwSPiVBE8gfxVXAWFAYy5xBJfQgR64IgyxAqsFfWVAgvn2Abn3Eh/AgtLXBGfQEACgWyBgA3GwAxWwAyYwAA24Em6gg9KHcfjFAxR4FDyQg0w4e9SngeVmA1U4fB+Agi/hfACWBAawhbN3Ce70Eo/3XyFAhrPnASAockcwhmzIf+ZmAdFHhgZQSSI3AbbHhjbncAUwBGwIAOEjcgKhhWw4BF6YcUlgAnLUuIWu12/Cx4YnsIgOdwSDeADd53AjQIVk6IToVgN9uIUmcIMZVwD5R4bOdm6ISIZYcHkiRwCPCImGGAWVEAazyIRYEIWxOIgAsIkOd4dkCIO1CAKDaAKMlXHqh4dnKHIYkIss+AHJmHEEWIVAEACRWHAEMIosGAgoV4tdAIFMCATxVotRMIk6KFPmSBCYqIM5YIrrGAUhAAQRaABAgIUFd3T1eIDxKBAFIAFPkIvUR33q2I8GwQga0ASjaI8BcALAaJAEUQAUoAEhEAIDgAF34H79FRAAIfkEBQMAAAAsBAAAAGgAlQAAB/+AAIKDhIWGh4iJiouMjYVCQRg1jpSVlpeUUltehGQAX5ihoqOkpaanqKmqq4UirK+whhAvsbWwYLa5uru8vb6/wMHCw8TFxsfIycrLzM3Oz9DRwBrS1daXSNfa29zd3t/g4eLj5OXm1xPnpaDq7e7v8PHy8/T19vf4+fI1JkH6iGPGFApjjtY/RCcOKlzI8N2UhhAjSpxIsaLFi81OuMDIsaPHjyBDihxJsqTJk/S4oFzJsqXLlzBjypxJkxQGCBAD1NzJs6fPn0CDCh1KtKjRo0iTKl3KtKnTp1CZ3oDIIEHDCADERN3KVVcJKTi7ih1L9tCHLhCPlF3Ltu3WFhIEWXwLBAAh+QQFAwACACwAAAAAvACcAAAI/wAFCBxIsKDBgwgTKlzIsKFBNycQ/HlSgovDixgzatzIsaPHjGmoJLJC0ooKEWWOfFzJsqXLlx4JNLBipKbNmlZQGIDJs6fPnxopCLlJ1GYiCUCTKl0Kk0uGolCNzAjBtKrVqwx30IxK1EoDrGDDWk0y46Yfrjg/iF3LlqeErWiJEmlLt27HMnGhUrHLty/DInmLbgHht7BhgQgCE9VD4LBjvokV29Sj8rHlhBQGhPEwoMminpElG6Hc040BBD4CXXZLRAeK1yhoZMDBAGZoyaRfDnFByIzvFIUe7Fy9ckcMEciTI0fhIszL24pzsyyBwJPv69c9IUhCvCMM5eCVR/9xCT2w9I9HXLzAzt5MCiaEu2csQyO8/RhAWpbPe97jhvYAmsGEfBjZIIR9CP5BAUv7xdUfR0GkEGB7ngxBoEM+IKjhDgyKVtODGrGgxYQAzsDBhQt1oIOGCOpQw0oNogViRg0MQiKFAaCoUBMsIohCDzB6OFplHUnhxY3tvfCDjgk50qOGSHkUI1czXiSEjUiyRwKTCFXxJII/FCClkFU2tIOEWbK3AZcHLfAlgvl1NGVUZS5EgB5ptocAmwZ58KZ9rNTG0ZxQ1amQFHmy98KefBLEABV/godCGXKSSWRGN6CRKHZosNBoQWVEqhwNQkSpEaFFGYoQAptiZ8qnBdX/cKCoyTF6qqUbDWFdq2Z44gGsoNKq3K+3eqhqQRYYwqtvIgBbEAEuCCsCDUsWK9qxBD2BZqtO2OBsQTxKK8IC1uJ2aUNuzLCsGT58WxADCIjrQgkZobrYuQwRscSyerzoLkED0FCfsFLUi+tFHvTG6wsc/ltQEQPTGgMGGNl7E7YC/LFusw4XpAEr4trakMWT4ZvQENtu6sUJHRuEAwrSxsCyQyR/aDJC6i6rQ8sGqcGEuH/Ex1DNQzr0RsqJQjIzzwSFKywKCdB88EJuNLIuIkwbVMAP8lI89NQKwbCuHhNkbVAIx0kLJEM/gI3QAJCs+4XZB2UYM1ULEa2HoAr9/7csx3QXhMEG4ra7EBFC0gDKQmcui4aFgRv0BszSmoqQVh4OqNARMSw7yJaRG4TBH+JOIfRBGHhoRcMJAQLFso0QGzq44orwxEJUSEZKImUnxEDOvEJAHERDNPGBBDd7VEm80hqe0AmJKAaLKwsFgnSeYPQO0xc+ZPDHDhqsxMUOvNTyQAMNPIBIGTfAdMKstLLCnUJiwMWVFTokL5DrvKaQBkxukAIaDjGHAq7hCoZoQkea8AP0KQJ9DXhgA6ZQhsa4xAGUo5W/EsIDxKHFCqViiA+WdQGYQKARBUyhCunwiS5opAokgKAMZ/gDIPDtI6BYkbDwthAczMB+OLGFD//cMDJeeUKBLdnBDFTIRBUyQQ0YCUMMZ0jFBsTQB85hSRAi9qcYEBFdOxBCIlRghETM4AtZbMgIW+W8j5SACXSoQx2aSMc8XOQICKiiHtFHAiLQ6yMFaAUXv5QBMWHkBGUggiMskBEYrCdRfhjASiiAgCsUUI50bOIhotaQJuzxkw34wQ5umKsMvmltTPmAphIFiJX0wAgqnGMmm2iIhljgC6AEJQIMEAGPfOFPNIgBEquig0RdoJcdgZ4sZ8lMOniKag3MJSglsTSNDECHT6JBEbDiiFUiCQ1V6MgRpnAFTDLznLdbSA6kyc4ybDAjTxgkgn7xx6v0IEsvaOVGCgD/CDTMQY7LPGcmUZkQT7JTmj8IhEUywoM3pE1DGbDcVYpwpAl5wgVQ1EgP9BCJNQj0o3OYy0JCcFB2kgABJ/hMRj7gAlMmBwVFqGdYdqAw9iyhETjYiAGEEAmQ+rRgCylAHkvKziJ4KyMRSAACdGCIGBjCBRBYQV0KIAUhFMILnlBBDH7gNYyUABCW9OlHLTEHoC4ECUQ9KCKk8MWMTOADTWBB+AqjARa0byNSgIRYfWoJNLRVITdIa0kREQRSzk4AVVjiXsX6FYcQQbAlxeJhBXIDHdBhsWJ1wl8XUgMfQPagJOjBXAPHgB5gIqCYPScd5oYRFgz1s9JERAIYabYT/+ghtWK9AtY0woUKwNakOcpaE/yJW5BCYjgc8YAPpvjbT46HZxKAhEeLe04nsM4jDEhANJurRwQsqGWIoC4z60AHEnSVJUeQAnf3qJqOYYCA4qXjIYTAQ5hoABDMXS/6YKDSf/kgvnTUwv+AwoETeFa/6PuBYYE1g54CuIBeQABtlUKBKmx3vWl0VyIePAc6CAFyVnHDDhBczW+B4cFbeMNaJIDL5iLivN8SQXy9EAS6gGAIr4WsdzumA+pi4gfvbEsSgnBholKqY0PALR10IFG7hAEC+TWpJDtWABVgNhHDNEwlTgADIzMNB5c9J0Dn4IQv8GA1SWhCjj+JAJl27P8HApUjHX7g5sswYAeI2CMJSOCDOncMEahNoSUsEQkUPBdFIXgsFUkwBSQslG6AQKEmtXBdHfEgBEEYKiJ8UIXRRu4IkoiBF64ABTQwoQrI/FQBjlCDI7hwsgShAAjmB+ta2/rWuM61rnfN6177+tfADrawh90oTRBgAB/wgLKXzexmO/vZyz7BAFJNbKC4oQoKyLa2t83tbnu72xBwgAPS4Odqs4QDYegBBL7N7nZ7GwLwhvcHzmxul/BgCIJwt773zW0IxKneLJGAA/hN8H2Hu74A5wgFejDwgju83WVYcMIvcgJxP/zi30b4xDGCA3hj/OPbrvTGHQICGYD85Nn/FoT2Ru6QCKwb5SDvhVpYfpEk5BvmHy+Fp2m+EJfj/OMtaDLPEUKBCvwc4z2oxNAdAoSjXzzLS1cIBl7udIIHOepNanjV3d0CTmKdIQQow9b1LQVqf31zO6D62LldAf2d/V2+UPvaFdAEC779IgQ4QRDKwPe++/3vgA+83ytQhRNs9u4XsQAHCsD4xjv+8ZCPfONfjfjKW/7ymM+85jfP+c57/vOgZ9oZKFCDCdhgAlwwe+hfUgkueAAAsI89ADzw3dW7hAEDkL3sDcD7ldu+IyAYgAF0T3zYP/P3GzlDB5ow/OIT3wAdQL5G3PAB51sfACaYsPQXooYTGMAE13f+/wJ8v32DdAEDw+d988Ove9mVvyA8oD772W+C/r5fIEcIw/rnb30D1P79IBACJrB//Fd8BhAAErd6PKAB4FeA7HeAp4N8BMB8AECADvh8UGd7SSABF1iABnB8tlcANwB7FtiBBpiAm2cBNZADcmCCBahxnncEJ+CCDngCtAZ6GGACB0CD82cAJxCBnmcDPMh/JmAD9BZ6bjCE8xcGNwh6BdCASqh7BwgEHmB3tod+UYiBE6B9qzcCM5iFuscCGYURZ1B5IACFSmgAl+CD/+cQI3B5RwCGFZgDbocQiyB0XwcKJWiCJqABJ6IRXVBidxcBaGiCwxcChrQRUoV5I1B9NGd4ABLQhhmRhMhleSPogDsIAAfwAdF3f5hRiPynAUDoiR7jgAYwAIlIignBAa83fx+AgqpIEIuwAtdnADkwAW8Yi26IAcy3fwYwBBpAebqYeG7AAh6ABR8QAjUwisN4EWegBM1IEAEBACH5BAUDAAEALAEAFgCsAJAAAAf/gAGCg4SFhoeIiYqKCIuOj5CRkpOUlZaXmJmam5ydnp+goaKjpKWmp5U9qKusra6vsLGys7S1tre4ubq7vL2+v8DBwsPExcbHyMnKy8zNzs/Q0dLT1NXW17Ai2Nvc3d7f4OHiuCvj5ufo6err7O3u7/Dx8vP0tT4alUA/9fz9/v8AAwocSLCgwYMIEypcyDCXjoYQI0qcSLGixYvFcGDcyLGjx48gQ4ocSbKkyZMoU6rE6GGly5cwY67aIbOmTVQQbipSoLOnz59AgwodSrSo0aNIkypdyrSp06dQo0qdKjSCBKoqBXQgKgHAUABesa4MK7as2bNo06pdy/aQjQiUPUaQBEt2Eg+TAD5Y4lCuLcG6lgYUNQDYImEABvyCBBAChGKiBx5L9peD6I3JmOsVzjyxxuaelTmLVshBXSAAIfkEBQMAAQAsHwA5ACUAXgAABE8wyEmrvTchzLv/YCiOZGmeaKqubOu+cCzPdG3feK7vfO//wKBwSCwaj8ikcslsOp/QqHRKrVqv2Kw2Bth6v+CweOw93AjkpTmwvhoGhVoEACH5BAUDAAIALAAAAADIAJkAAAj/AAUIHEiwoMGDCBMqXMiwoUECISD48MAFlMOLGDNq3Mixo8ePBgP8EIKiJAoRf6owAMmypcuXMF9SgHFShM2bNv94iMmzp8+fLCMgwkn0phAWQJMqXaqUgY+aRYm6wMC0qtWrHANBjYoTBQysYMOKHajGBdezA8aqXZuUxdazOHewnUvXZQK4XH/U3ctXIxK8UTN06Uu4MEIigIuyomC4cWNAiYmyWum4csYIGm4M0DCKA0/IkW9O5nkkCiAiTSxXZbHjB4nXr30YiAATdGgRo196+KHHiBErRi5MVA10SAMSDZIrP45Aw0vboXOz5PKlkB/f2H2rAKSGOE8ky8Mr/yeRtiX0yNI/Mvjhp3329wgseH9ZBbl48SR2sjyfOL1HRO259152CMzXUg0/3KegDwXsd5tN/nEUgAoDVmhEIfoZ6FEZCnYYgIMPRqgRBjNYaKEO8mnIERcIdKggAlyAxB9gImbkg4kWqvCBihytoIiL95EQhIwP4kZZRwkkch2OA37Fo0ZN/AjkfTd8NCNeNV5EghFLMkngk1A+MOV9RIDg0ZVwZdlQAhR6OSAiYGZ0gphjipfhRmiepeZCFBjiZoVfxIlRCHXeh0ASHeXJ1Z4KvdHmn9kBIuhFEbRYaHgJJFokowhh0Buk2PmRiHOTOvTGpeEhUCWemx6ZURGgZv/3CBWlXnREgqgqJwZHikbFqUEeJBIrdoWUV2tDp+aqXAishuiqQzwwAdywRmRw7EUUWKosEc3e9itBTTwaqx4TXHtRGMoqd4JGvSr2LENHCEEtl9ya61AEPaTbgA9HZNSuZO8uhMS0wxoSo70OaWBfriRkitG/OH0rQBglUmuFwwg7JIW+P5TwcKsYITBvtRlj5Ia2ufbwsbMXeTByIsyWfFEA+iKClEMQixYwQjrM+0gDMmMEgg/6wuBZQzlDuLNBQ4gLqh4xB+0QuvreqVDSIuiwNEEEVBzrdU5K7dAiX+jrg8cMYU3F1gP1MLIIboiN0QSIpCtkQ4g9uDZDN3z/OqwfZcidUb4LX4pIuQv1UCQViC6EyCPUguGC4BmVgDKqgS+0Q5F/MKYQm5APm8i6lGM0ROGXknBzQkC8BZgPCzGQAcGQQg576SbDoK8kgyVUwoMofKhQGbBQ64ceYeCeEdXKkrCjQgiERoMQByMUQc/zSiEoAzaEMUAIN3j+EiMQ6Jt5QiEYEhkKOCz0gdOQzhB3TGUQ8QMCgdSQFAVDyNCCAgDkQwsWgDaXhABXuUJAgxSCA9cVBQWIEB9CyjAvFQABJkcIQiI8YYYlQCEFaGAC6XgyABkA8IQoVMACGteSNKQLEdVDSCU2dxPXoaABq0sIEf42K5ggQQ8vMIMQ/4coRDTEJyYf+B8EUpjCHkiANiyhAAJTRxWGGMAsrjNED/rFEBhQqxAjBIkjhEDEMhIRAWZyiQb+x0QmQgACUiAVSJqgrEywbSAECAAihGCTGLhACqtqiCuoVS+Q3MoLUAiiGc14O5YwoAwtYGMbmSgIlYBkEUXIlQ9655A9sMARofjACAZHOzdtIZAdiUARnBDEQQxikWb0xBBaEgJJTnKSMjBBdzwiAdRN6Q1VCYOwQIUEkEhhBkR8JSzNyASWjAAHt4wmAFtQBgmkkSMbqxMJWmGspWzpT4/YwDU3MgARLPOcQ0RDFT1CABNK8504QGVGNDBFF/1Be1YZwjC9lP+IWXLEKU5wJTrRmZqPrMCW77wlBIDwCo54oE4+iCFTduAmMJwvIyAoAxDNINCBwnIJcjGoIBKa0BbI4AQSdEglhlC3Dj3ABzm0Shn2WaFC/GCcF9lBDFKQAo96FJ8emQBJSQoBIiBBAykaFAJ8eRwpcDEsT5gBGAZkBT0EYiNNYEIKXgAFnw70BVUASRfKMNSEvlEBOJif0DxABATUDRE+wIEN2AKCKvzhAolIxAX+AIMCXoQLZXCCV70KhbCCBAhlTawBCLARNwwgDBjQH18moAHEaaQKeujqYH2aiKd6pAaJTawMPLBL5QkEAEJQ5GZ92kiQQDO0Zd2BHEuHARL/oGG1g+2sS44gBdiWlQiBUKvYkrCDRqgWtwN1gspeMgGy+pakgjgpD8SWPuQO1gmtdQkDDPDcoRJBFlI7QSKs61U9PK8nrFlid6PpACJEDWED2Ch50ZkIjP0kAidw53pvWYYFIswH80WnExAg2aXwb78KDeO1SpCFAMPSE3+YbVXckAYiIJiJOEjqtSCgWQcP8QV6MMBYeHCD3l74hDKAorl04OEPFyJQbCmAB/R7YQnXCgUtfgEa8rMXBpgAod2VZ62QOd8XcFUHwuuLBoKAYBkI91guOC5uX+AHETeGA2GonwPUG9oK+PdafzCDlL8qxBc0AgZPNgwImtADLid2/wEZ80CHN7vjbqpGA44A8jsFsU5zdeECq4UCChTsnTPcYAdlHaDMnnBbn0JBD2UYJZhAMADnvrMMjJWZD8a8SDTAQKJgUkMTxDDJN8Ix00HzgTJhmQIXJM9cNQiC/1IIgR4EIKUy06iYifiCFMzAvuaqRA2aUIETSsEDaZYaAXrwiUI44RGJQIABvlwyDlDgCBTQsGkFwIHSbvvb4A63uMdN7nKb+9zoTre6183udrubOGqogQY0YIN62/ve+M63vuutgRpwUt0jCAACqGCIghv84AhPuMINIQQmAMJqB2GABABA8Ypb/OIYzzjGDRCIAHjgjqblwg+8MIeSm/zkKP9PucpVfohEXPAgPJiAAQ6g8ZrbPOMGyPkCDGCDM5ibBXpYudCHTvQ5HAKGBTkDC2h+86Y73eIGsDO4PeCFOhT96lifgyVmUGAByPzpYHe6AYDg129jQAt1sHrW175yS6yBBAMBgQnCTvem54DapqUC2/c+9EMUVANyqLvgNW6AsivPA1fgu+JVPgOBeGDwkMf4ebcNg8Vb/uRXAIIFIs95i6PatC64vOjnkAYOGKDznD+AjUtnhNFbXhSbPD3qIR8LUJfOCa63fCYWIfvZC/4AXVfeDHKveFGUAQRY8P3gDeDzb/+A+Hw/RJVWoHzBx1R5bzgE9NlOiBgdgenVB/v/57cd9O1nXVICCUPvw39zCYx7B3Qw/9UJcSRRs9/u/wa3D+RPdDoAkyBJ4AHrd38Wp0vm9gPxx38nZwlzkAIVcBAgwAI5N4DhdwAsgHfi9gFgoIAmdwgbIGQEoQYaIAE5YAImeIIomIIquIIniAUSoAEg9209YAiJgAZXcIM4mIM6uIM8eINOMAM/YGUMcQY80AVGeIRImIRKuIRHqG3v9oRQGIVSOIVUWIVWeIVYmIVauIVc2IVe+IVgGIZiOIZkWIZmeIZomIYN4YRq2IZu+IZwyCNCGId0WId2eId4mId6uId82Id++IeAWBlzGIg+gQWeRYg9kX+IuIiM2IiOC/iIkBiJx3IJaBgQACH5BAUDAAEALB8AFQCnAIYAAAf/gAGCg4SFhoeHNoiLjI2Oj5CRkpOUlYQQlpmam5ydnp+goaKjpKWmp6ipqqusk0GtsLGys7S1tre4ubq7vL2+v8DBwsPExcbHyIdUycyjy83Qns/R1JnT1djZ2tvc3d7f4NBG4eBW5Kse5+rr7O3uglM37/P09fb3+Pn6+/z9/v8AAwocSLCgwYMIEypcyLChw4cQI0qcSLGixYsYM2rcyLGjx48gQ4ocSbKkyZMoU6pcydIUhpYwY8qcSbOmzZs4c46coLOnz58/tQC9UuVnFilAkypdyrSp06dQo0qdSrWq1atYs2pNGYITlq1gw7IDAECs2bNo06pdy7at27dwF+PeKhsAwFe5F8uC+EkBr19vJpIWkBQIACH5BAUDAAAALCAAHQBOAHoAAAedgACCg4SFhoeIiYqLi1SMj5CRkoeOk5aXmIKVmZydiZueoaGgoqWmp6ipqqusra6vsLGys7S1tre4ubq7vL2+qXm/wsPExcbHyMnKy8zNzs/Q0dLT1NXW19jZ2tvc3d7f4OHi4+Tl5ufo6err7O3u7/Dx8vP09fb3+Pn6+/z9/v8AAwocSLCgwYMIEypcyLChw4cQI0qcSDFTiGyBAAAh+QQFAwBKACwMAAAAvACbAAAI/wCVCBxIsKDBgwgTKlzI8CCFCWnKhGCQpKHFixgzatzIsaNHghIA/SDRgMSfBjCaVPzIsqXLlzA7qpFCsoHNmzZhhIjJs6fPnxpBAHqAs6jNHxOAKl3KNKaaHjWNFkXgpqnVq1gZfpDKlQSSrGDDXl2EAKcirjdJaBDLti3PGkTRSg3gtq7djh/iyi0K4a7fvwyB7JXqwwLgw4gF7hhsFEGExJD9LmaM03HkywpBuHEzgQsGHj0nU7ZpmSeFATt2hMHMs8SQHg6ICCICYccoEDFFjy79MgQgKiKCx/jTYydrlhIgQFCgQPlyBUSklICpmzJvlgykGArOnXsMKbiPc/8MwLy8efMYXlZnfN1jkiLd43MnAlp8Rg9Ezutv7uCGy/WDtddRESjIZyAR9mF0hAz7NShFFy0BuJeAG3lg4IWGGJcgQwY02CAfq7EkoVwUZuSGCxde+EN9GybEAIMe7tcDBSKOdlOJGPWQIoYDtKiQBjF6+EGNNjaAo0VNGDLGjgaW4WNCYQTpYQ0fjYjWkQ3BIMKSTMbXw5MIhTCJlPtVYVhHVnKF5UIfxNClgV+AedANZDboH5pFGvkYRxE08KaBUshp0AR17ldGeBulKdWaCTXxp4E7CFpQF2UUel4LEuBZJKMHuSHEo92hIMR0khLkgaXnlUGqRoo2tqdGSID/Gh8CpRZEAYyoMlcFR61O9SpGIWwna3CGrFWrqbmW50B6rObJKUEj+DAsdz4cW1ABUiTb3BuJOvurRSu4OS0VVVlLEJDatsBCs5t+yxAFiEwbHA7mFrRIAtoqUMFKF/VambsLBVLgtA0wUG9BbjjwXK4nZOTvjQAndANw09LQxMEGBbAwqjIY3K+3GEEgrwi0YlwQAZVq+wRGD5MW8UEhjCwEsyYTNEAL+VJpUct6XhSvvEXUbBAHO+S7gwA7g9zQCeIOSwXNQg+kgQPaCrJuQzgovRAFFE/rZNQFWZBGvhUQgLXWCuEwMglHgG0QF81tXOiQDGXdLkMT6DByAm4f/wSEwsnKwAVDaTiLaEIwDDxsyX0XxEAZctcJARAMBZAnDC8L9IHMGjZuc37JQqBzQh5ENdgDD3ypUATSyqu6544Xre0OZyIEiumMNaxQAorLSoWxsBekAW3JqrsQBDYi4jFCIPww8sqsaTZBDR1wcfhLb1CdLF0/IkLZH9wntMLIGSwPU0QwADJEuR6BwIIJAMQfvwkDmN9SDT1oWwYHCw1B2ReZU8Ib5BUD3b2EAQEQQSGMYIRHqEAPCOgRRzoAP/lZMH4ruN5HoqAtB9BIIWcAAglGKJURAmJ0CdlBxRjnkioYwgoMjGEME1EEFl1EAxfMYfwCgAEItaQAuLIUEf8Gx5ATIAB3JEEEDu7QkFgNKwZXa0kT/iDDKsqwCD60yBF0qEMgAOEDbWvJzXLVA34t5A4e+MIPptAARPjgCShciNpkRYNItYQCMEiEFffIwL5YpAAV5CIXJaAGlnAAB7mSQu0sMoEoBGAAZ8hIEIbFhDhupABl0IMVrOAHP/CxioXwgEVKYIADCFKQJmBBFjliA5xZSpRWsYHeQMW3jyRgA5/MpRFYmJAznOCUwASACSawSI0MQXIO6EFSrtK6N8EBAfzryA0yoEtdJmJVCSlADoIZzBMQcSNuCKKHIOCAIWRFAp96kyEMqBEKEEEP1dQlGDK1kBoYgJvBNMAAApj/EBZETj8QCMUHsZLAN+1qIxxIgwgeEU9dWiEQDLEnPrlpAgxokCGMGECQWiAdsbwhnReKQSmimZFAZOAUKmhoNbm1EFBMlJsGAEIT3DACjUxACq48jyBMMNCweKBroaJCFDYiAQSkVKXVtII5F2KBJrwUnwf4gP0awoEbBKEMMsiqFJrQAbtwoAk++IMhDMEEHyAhjBgBRRrgidSGhk8hA3jqRE0QggJshAEY0AAX0PoXN5SAfRkJgCFI0daGimCqB2GAXJ+qAZIGbyClg2Fh4wkGBFnEA4t9qQe+Gbwa+ICtk40nDRCLkCQ4NbP4NEAYeuo2NVRBD4QNbTz1QC+M/xAgB6ZEbT4BoAFG9E0DVJStQxmoh9dhBARx1S03gbDMqMVMuA01RIg44gYP3FO5gnwCELCJMQ28ELqf9AMYRLDUj3RBA4HErg5N4NiDQcCT4N3jI/QACM6yBAQhSK96LQi1enFBBfCNbwxVUAgEWNIlFDhBbvcrvxPUFGNSYKiAjdBJPwiBbj85Axc+AIDr7tcEqzQXCSbMQD+YogwPXgoHMMDg+BmAr+ZyAYkT4QMJXqUALNivAQwAWHPpIL5gsAIJMAwWLpzAw6g1AGut9YP4buFibuFBDZoAhB1nFgvttZYPACzb4sK4LRa4wRCQPFEDrKBmA+AkUo9KY+D9hf8LK1jsAb5sLQ64IMAqzYCNEcMILkThqZ3DWBP02FBS1DGSmLEABfFpAn6WqgeStWYPzGYfDrCAzPIzwAIW0IRCug0C4XXgD6K4oSNIoIuPvGjN0iAEUsR2wEIo75MYQQAbbDN+H7jBkt1GARwgAAV6mIEIAOEBVftoBCBIAggQ/ViCFMACxm62tKdN7Wpb+9rYzra2t83tbnv72+AOt7jZJIkGZODc6E63utfN7gx84gdl2PO4fXIEHxTiBS8wg773ze9++/vf/IZCFlAA5XnzBAMxALjCF85wM3jBB5Q2uEtWoIJBNPziGNe3EOwrcY6UQA+DsHjGR75wXnZ8Iw3/yDfJVw5wT7Dz5BkZACRYTvN/6wDmHOlBzXfOb0gUHOcX+QHPh76EBQA9IzMY+s5fsAQ/Ht0ielB6zZfwgmo93SI6ULnUSb4EKKTh6haBgda3nvEXpKC5YFfIAjxB9pXPgLRpL4gh2k7yr8V9IQlAA90xrgcz3j0hENh7w9Fggr9bxAdeGLvg9+2HIBj+IhJI+gugIPh8Z6EB/X08Q3bwBxQkghCgD73oR0/60oM+EULwAZE1z/rWu/71sI+97GdP+9rb/va4NxcGdkAFBPgAAQE4cO5bggEmLCESopiD8g+BBgMPHyZBaITyp0/9ORjhoM//iAHsUP3uzyESKCB1//YzIgEneP/8dGACx8fPkAac//1zaDr7L4KBQ8D//ZEoBETnvxAE3P/+kaAD8sZ/BCEC//d/UPAD00WAA6ECB3iAkFAE0fZ8VrAGD/h/kXABA8h+W3CBD0gHhrB+zxcDHniBV/AF4vd8HlCCHvgIjjd/esCCF5iBL5d7UkAHMmiCU3Anz/cF9peDB1gHWeB0w/cDOAiEDygC41cGYFAHdYCE/+cH45cEX+AFUPh/Nzd+HvADP3iF3hcJccJ+HpAIlPCEXlh9F0CASCB9Z0h9h1CDz0cACHAFbTh9tUWAH+ACXeiFREiAT6AHFuiFYsCAzoYE5neFgUKIBIEBc4iEa1NgdIpYEAYwA5GQg4kAd4QIaTJoWT2xgXHHBClghgeYCH4XiQYxACRwhPeXAo5gig0xaPdHCArgiheRBipQidVHBxmQebSYGT3wCXpAYMPxcxYREAAh+QQFAwAAACwQAAcAlwCOAAAH/4AAgoOEhYaHiImKi4yNggaOkZKTlJWWl4pEmJucnZ6foKGio6SlpqeoqaqrrK2ur7CxsrO0tba3uLm6u7y9vr/AwcLDxMXGx5sJyMvMzc7P0NGLH9LV1tfY2drb3N3e3+Dh4uPk5ebn6Onq671B7LZD79kI8vX29/jHJEX5rx39AAMKHEiwoMGDCBM+q6BwkQcKDSNKnEixokVHBS52KqFxE4eOIEOKHEmypMmTKFOqXMmypcuXMGPKnEmzps2bOHPq3Mmzp8+fQIMKHUq0qNGjSJMqXcq0qdOnUKNKnUq1qtWrWLNiFaK1q9evYMOKHUu2rFl5Nc6qXat1gs0AgwICAQAh+QQFAwACACwtAAAAmwC8AAAI/wAFCBxIsKDBgwgTHizApUmAGmpAKJxIsaLFixgzatwoQEMQGYIUCOrVYkcIiRxTqlzJsqXBLgYUyJxJE8cElzhz6tzJAQfNnzNlcNlJtKhRiiAStADKFAmBo1CjFmWxlClQB0Ckat2qkkMFmpOsynRAxA3Xs2gpcgkplqmEtHDjDgxRte3PKnLzoj1hl6kUHnoDS23SF2gZlIITEyVcmOZhxXAtUGBAgMKRM4sbO0acU42GAEM0QC5IgMUQAwcOPAHyYYIFnYw1K3icE8MOBA1yN/DxBsPoCQYMAAAQXDiAJ00Y5IytmXbLJE/wKNJNHdECDokHHBjOvftwA0dwMv9v7HwliB0kqKvPjQOzXg1AjHvvbiCA2ZbjC5dXKeXB9PXq4aBXEibIN593H7zGUn597ccRCwBGiIhvcoVw4IXDUbgSg3Y5qBEBPkQIIAlEVBIXCCZgeKEJnHHEYVseZlSFiBKKBhcXKmJow4KyyRTjRQMgQmOECcSFQY4HovaUSi+K9aNFUgwZYRBxdYDkhRKMwGSPs7WY0QBTSAngDnG5ceWBB9znIpdPTgRCEWICuEBcBJx5oAkKbtSkVW0qFEaYceo2nQFxWTCEnd4doKFGezLVJ0IE4BaooAiEF5cGiHInnAnK6cmmlxYlMCl1ivSQF4qZdnfCmj0+ahAGQo7/mhsiNbyXKndALJlRo4aBOtEZZaQnawOm6mVBE7cS9xajn2qkwbC5IdCpXkckO5yaF/H6k6sDRUAEtCQQKpgFK1j7QRe7NovRB8LK+kUSilEQ360G2JituhaVIKmsJIQxWggL0GtABBhpuxlGOEBL7GgCRHDorQesUDC+FGGg8A/YKjaBtQDoSpHBM3H7BbhSMCwQDx9Y24SWFYHso68GQQgtAhlDxoWBiAZSgkUud1lRAfvKWqTJAo1wQrJANFFAyxQn1AS0D8BAAdEDJZHsAgvYq1DPfXIR9KhNUE1QuTjbOfVEHrCJ7kRStDvpA8WKLVABOSRrwCgUDcDlDotM/zTAxYvKXUPZZx7g8UE3QNDjnAqB0IPCachdUAEe2P2BiQklwVZjLdwwURNuT4rAzpITdERw9JKeUBWyyQBvQhwAorAHpRekRBhAJDvARFz00Jgg/ir0LLQ+vK7TEAmUIYUEoBAFSgDJDgGYQits3hYOMAs0ROhxIsKCTkmc8IchIpQ/hg4QBN7SDdulakD2AjAiAQQOKE7TUoIQkYalCgUwLAlxc8nTUFC+AhZQCEhgmUsskCL3GU8hNpCCA4DSAjEorSKBGFYrbuKSMPjAgCA0IBKwg5Ma3CoAa0PKDXAgAwVAQAZSOAH/KDKEYQXAJREogxBCyMPyCQgnI6hcpv8+oMCKaIILA5DABBixK1n5YCgr6cIbdEDAHvLQECHIiRsIpyKtRUVfo/rAghBgxTKKAAI6CQEXvWMAIARghlIpQ6AeIIM8baQGHzRjGYUARZdQoIE5amMWz3KDH8SJF9/jiBpwoAM96jGROHHDJZBkgCjArygnkJIiFCHGjfBge1V0pBVRELacKMGEGBJOcuLShEyI6AF42IEdL/KBPIrSjKQkyhFy0D7uPAE1J8nLAL6mGwTsTiM3EMMtRYmCVRGFByU4wWmG0wQbnM1YYSiDD37wAx+U4QnTusgdhtDIZTqymVApwBGOkIQHKoYy4cTICVoRSnOWcQx/IFjtIBP/Ah/QYBj2FCWZ9pkYLjignAF15B/cSVC4LKIJVBABCuqZ0B7qQFwNlQseK6rHKurghxk1Egk4KkpEeC6kcSnBSElaRhT0C6V52cEYWGpFHUghnjA9CwNiEAOahtAQEOhjTuGSABr4FISIOOZQ5WLLo/6hCu5ZqlzIeFQh9MCLUoXLD3xKgyIoNat5AQRNPxE8sAamByKYaUKpkIZrmvU9plCrOXXQg1q9NTE8oOoyUYAArN5VL2HYoShpQIIAMPGvo0nDOYWAA4YiNjE4oGgBxzCGGHyBg48l2hAQEUIUxOAHy8qs2AoQACL8QQcuIAESBkBC0dYOBDxorWtnS9va/9r2trjNrW53y9ve+va3wA0uSs+QTR8g4LjITa5yl8vc434hCDsSrkUogFYjWPe62M2udre7XRW4ILTSRUgJmAAG7pr3vOhNBATcGt6B3AAFpECvfOebXRIcLrxcEAIp4kvf/soXEO0liA/8S2D5FuKr0rWBHgrMYO6qgAQBFsAOHtHgCmPXD3ooq3R94AcLe9gPjyhleFnRYQ9XGMQDDW8MSmxiBoM4gMIlAYtbTOBHPCIr7e3BjGncXz+ooGbAjYIKeFxgP+iAvcJlApELDNL2NiERS+6vEJYWYQFIIcrz1QPtqiyQHkCZwljW7hZuyOW56IDCVgizEXzsA9WVef8ggUBABkSghzrb+c54zrOe6xwDAErszYAOtKAHTehCG/rQiE60ohfN6BKKCgaAgMEHhNrojOhLC2aAgqahkIVEfMHNla4IMfTwgheY4dRmMHWqZ0DmUH+sEaiOtaxTsAG/unouiZC1rmONBgTc99YC8MGuh41qQpQM2AMpgSeIzewUXEDEty4Cs6dthhT8AZKhdgG1qa0FH2Cb0TPYNrVfoIcepHDR4Rb3tF8AhQ2cdNFUULW6iV1qLzDh14T+xLzVDYkyqG/QKyj1vredghlg1NCGgMLAxU1rBAu6CmiQ98KnDQkf/PvNPVj2xLc9CBUcm9AwQMPG1Z0BQ+NgBkv/GPm6X7AFQ0fAyyqn9h8OPQAfaDzmu04BjAcdBhSkAOe6fgEVduuGPwhBD4kwxA4obZEgpBvoqPaEw12rASZcQRRzyHrW6YAIZ2KEAV9ohMRj/oIn3NYDkNC62i1hiTU4oZMZCQMiPDH2ibP747M9gRfWoPa+bx0BLooBzl+wBLyLVgJO8Lvi5+CFd2cEBEHItcqhgBfafmLxiq+DDlRSAkBAotR1H7cZ4C7aECwB84o/BLT1ZIgUhH7dF3DsX7/Ad9T7PREt2cEMFD7vFxg+swiwveIjkeKVIEAFP9/2Cy5A5dkyQfiKTwGQN3IDH4ic2n5otfOhr3hE5EQCImA2/7mL7/w6cL/vS/C6SxYwA9cL/NRo+AGoZ9sA859f7SjgyW1iMIMLMAEB4GVbA4AJ96d2kbBzofZ8Bah1egBHodYEV7CAWgd4yCYAwSeBc5AFdgVsGJAFGDgHJVeBZVB7C0gHgVCBDJAIHxgDFSgAVXAIGHgIaFSBCiiBRtCCEuAFGFgHMNCCPvCBWbB6oRYBYPCB3leBRBAJGEgHQ9CCM7CCfYNsHkAHMfh7ofYH9reATtCCGHB6GEiByEYEH7gEWwZsXKCCGAhhFdgESiiBS3BxjbYFGLgGPtCCTUAHliCBP9CCAvADGCgCfFgCOriAgMiHUrCAddAAfCgASVCE91K3BmDYggnQhtBnCW+4iAJBBfcXiXyoASmQhaiHBo63iD9wBaCoeFcghIsoBmSAepBAepg4EHEwBlSodqJgB58wfbHYET2AAirgBy7gAwEoFwEBACH5BAUDAAAALEAAAABxAJ4AAAf7gACCg4SFhoeFIIIGE4iOj5CRkpOUlYItlpmam5ydnp+goaKjpKWmp6ipqqusra6vsLGys7S1tre4ubq7vL2+v8DBwsPExcbHvUPItgY3y7QHBwzP1NXW19jZ2tvc3d7f4OHi4+Tl5ufo6err7O3u7/Dx8vBuMvPFePf67UH7kEchAGDwR7CgQUceDhL6cEehw4cQI0qcSLGixYvyYkBsgLGjx48gQ4ocSbKkyZMoU6pcybKly5cwY8qcSbOmzZs4c+rcybOnz59AgwodSrSo0aNIkyqFx2SpU3c6nkqdSrWq1aulSEScM6dOHaxgw4odS3abnbJoq9HpFQgAIfkEBQMAAgAsKQAAAJ8AyAAACP8ABQgcSLCgwYMIEyoUwCEJiwEEjnFYSLGixYsYM2rceJHLCRMHABwI6WHCRI4oU6pcyVKhhRAhAcicKfPEkZY4c+rcSZDHCQAGDNCcKdTEHZ5IkyqlaGHF0Kczm6hZSrVqUjdQswIZYLWrV5WVmmSFCgQIg69o01ZMMnbsBLVw4xLE2haqBLl41WIwUffphzN5A3e90fdpEx6CEy8lXJhmEwuKI/Nk3Fhmk5M6u7gZsMKN5ItRJleOirkllxwVFKhWsCMKl89pKVe+jBOEBBmrcyuQIQEx7MGjLZdOyWFIC93ImzD6rRAITtmNabMcoqAT8uTMq0IvLF3lhOvgZbz/zo7w7crtfbujTJIa/PUqy8kjRV9XPUcPgtyD9yy/IAAb5wUHgH0aYYCbfted0F9BBhxAgEr0tUVgRgYgCF4TC+4U4VgTXjQBBBZeZ0JgscQmYIcVcYCDAyEid1deJaK1YVYoUoQBBCC2mFsYGR6kAUozQlWjQkmUoaNuMiTRI0EAQHjicBedcKRuuCyZU5CGQVkRF1PmJsNNVraE5VBDHsTIE12u9kSYzz2pkRsHdllGBGyK6SZGXQSRpmor1GlncGUWFEJ+aQYBgp8sjemYlgkR0F6XEGCAaKJ3WtTEngqsOWmAgEJmEZd7ynDWpk52ehEOmA5BKqejPWZRDZiW/0HBqqW26ulCHDzapQe01jrbrQoNgCkOh/YK5InAIkSBkXuGYGxKNpzom0IBHJfmAs+mNIGAHyRr0AQspiletii5IdRofSrEAZpptvABuQgB4MEICoFwbmMGjJfQoHuW8SC8BwHAX0ISjGYCowLxgGqaELAAMEoUiFTYAeYl5AamSBSrUxhRBGLADUqGWUNjHnhbUBiEdlmDTgWw4AMiJDQgMwI4lCBZABQpgUEAZWVlwAl0LhQGpA44opMEX8is9NI/PAHYkm40AQRUBrCAMEESQNoDmImWsfTXSycwbYYWuPERUCZggUHQFa0AKY8sgZAAImDXLbOqYaKSRAk1gP9iTEZuT7nDrCpZ0AQCdif+g6QPF3REnCG24LBKAxChdMyJg41D4wZV2KIDYqfEhdeZl47AqJwLVALk+vVgM0cgBIB46bRXDFdoadkAAevINYxSGJIoQjvtJHAlF+poDdCDtdfJMAS9GinfAN3D0w536gRNwCxyZdjuYRoyP1D98JNjT9AIGBiwgwwy7PBzARoVIMHs49P+wAPlm29QBEmwnRELX8Bc/ewnCY3pryUYKAMJFjjA4T0AZwdsCQXeQL8GDg8GBowgRziwAgQI0IK0Q4CCNJiSI5AOhA5EAN5IyBE3FAGF4yvFyljIkSMkDYalI4EkbkDDlAQAh5kjAQL/DBCyHm4kAq0Aot0QEQTkGVEjTRCfEpV2P0D86IkpOeEUG+AD5WBRJWLYYgN+EISBfREllsMhCcQnBcadUSU7UKIPrvjGlbwBhyqEXx1ZUgIQCvEN+trjSkYQxgE+wHWC1IkGflC9BcLgBH9LpE6GUL0fDEGPktwJJTOHCCkEMpM7CQMg6oaHL/AQlEvpwglwAAME+EAST8DA2FBJFQ6MwGS0zKUud8nLXvryl8AMpjCHSUyWMOIGVSgDjpbJzGY685k4EoMUhuC9XEYgCH8QgTa3yc1uevOb34wBAvKHSi74AJzoTKc6RWCIHUwFlTVgAg3WSc96atMHRUwkAxBB/4N52vOf6dwBKMsA0IKmMwZ03GMNNmDQhnozBj6QpAEcSlFubuCUeyRoRTd6vToiYKMVhYNzBNkAkFY0DYmEgUkdCgdeCTINK22oIf61xzDEIKYF/QEm93hOnNoTBU2SZBiE4NN6IqILoExAUdepA+OBEgdEXWo3xyCCDIyQlhj4AVWlKoIYGOJLBMkBLT8AAQT8gQouSKta18rWtrKVCnAlgQ9wgNFi2vWueM2rXvfK17769a+AlSQXmuCDHiChB2GgaWAPwoUvzMAIVigGZFWAgjJwbbED+YAQjMDZznbWCjp4F2YFEobHeva0nFUBImYYWAzEALWwNQIpElEEwv/9FQKkiK1uZ1CFv3IhEbnVbWxVQIWr6rUMshWucFWAADfi9QdGUIFylTuDHji3mKyYrnatEAMc4PKXOjCCH7Q7XdVeN5gNIK96E4EA2wYTAeolrx/8oAccdECYN4ivfnWAoWD+Qb/6RURCeTkEPQA4vnoQw+t6mYZCHDi+FzCaL3uQiAfH9we/BIIOrGBh8lLhlyDAAQo6rF0EAFMDPXAwiXWrgs0B8wYukO6KYYsIGnLBrNpkQgIUexEDbHbGp03EgLFXAwQ4YQlmSPILXoAGHzj1IkUyMJA5a4X+6i8MeoBCkrfMZT286H8+qPCUJWy+ARSCy2jeMhokwZET/Hf/xmAgc+pCkIg029kMKqimRbpggBjI2MJgWGHqEACFJd+Zy1AgQQmlIOUDg0EFHW2cBqxw6DRDIQvG3cgK/lCI+erXDy54Z+rKUOk7m4IlCdABGD7d2yWFQYGGgKgIMVKEUts5BQloyRe2EFztbgCpGXIDEdAQiTkYew6RuMInXEoRBNjazmC4bEowQAQxK3cLzO5PCApx7G5bwhJzQEOrF+LsZ6P5BRHFSQhcIFzu5jpDIWhEt+d9bDoEotmDMDeaCfFkljSBCqf4LGf1AINPkucIiaC3wufAhkgbxAda1jeXN7ATCziiCExgBRUQAIh+96cMC1+4EBZyg0ZInMsp/xDoGc8AiZAr/BAQTEi5T57kGDixh02og8sV/oeFSAASNE/yIL5wRh/ofOfzFgFFah10PJuxhy44OtKPnQiK1ODMQYcChrEoBKlPfQ4qqEgaUtB0Jwiahl3/+rHDTpE7oKDpZsgA170+dbZTZAieaLonpPBEHah97ReZOc1n0Pe/G9vuFNl20wfRAyP63fCIp4gYmg6FQmQ6go//e+QXAoIZZN0M6WZh5tW++YVIgexB90S2MW94sGtEB3D/xNUaN/qvl15oXtD7uFkP+Y0I/uRVJ2Ht676RGmjhBU1nswaHj/TbU4TUTddCug7I/J07fyFHeHvQl2Bi3mseJSdA/f/JX0AI1pqv+i6/PkVgT3MtQ8D7pE+JBJxA8xdAAQbwt71KYFD/F7gg/8QnOoWAfBLnfwDYfCuRBkEXeufXeupXEQXgeRKXAkRHfQ44HWSgby/QCAvWgL3HEiSggRVogR+4EjUABlCQb6WWCOeVOugXcg94ET7gBCp4aE5wedjzggsXgxexA2BQaV4meheYEx7gAmiwBAQIBUvQCAggbST4fTsxATvgAlswA4hABM7SQzqocDw4TFtIb10oTBvQeoUQWAjQeoQHWEDQelv3VxaQBX9XB+8GWD7wd3qAWW6gB193BV8WWBPgBUh3CEgwWgIhAYTgcnTgYoQoADXQAJgaMG91oAozEHOLKBBR4AJMcAEzQAWAQIn6ExAAIfkEBQMAAAAsKQAQABYAXwAAAjGEj6mh7Q+jnLTai7PevPsPhuJIluaJpurKtu4Lx/JM1/aN5/rO9/4PDAqHxOJMsCkAACH5BAUDAAEALC4AAACNALwAAAf/gAGCg4SFhoeIiYg2AUccFoqRkpOUlZaXmIlPB5wGJzUCmaKjpKWmiganqqusra6vsLGys7S1tre4ubq7vL2+v4MdwMO8AMTHyMnKy8zNzs/Q0dLT1NXW19jZ2tvc3d7f4OHi3Mbj0OXm6err7O3u7/Dx8vP09fb32xz4vPr7uv3+AgocSLCgwYO6LCxAyLChtiQmHEqcSLEipiYWTx1RkrGjx48gQ4osSGIkppImU6pcybKly5cwY8aLglKmzUgKburcSSkIz59AgwodSrSo0aNIkypdyrSp06dQo0qdSrWq1atYs2rdyrWr169gw4odS7as2bNo06pdy7at27dwPePKnUu3rt27eAUxCYAir9+/AYwARQK4sOHDl6AEXYLY7wknjSNLnky5suXLmDNr3sy5s+fPoEOLbntBVyAAIfkEBQYAAgAsLQAAAJsAyAAACP8ABQgcSLCgwYMIEyZkMYCAwocQI0qcSLGixYsGDwDAyLGjx48gQ4ocSbKkyZMoU6pcybKly5cwY8qcSbOmzZs4X7rJybOnQBM+gwodSrSo0aNIBfK4U6IGhaRQPVJggQWAVQAfbtyJylWihQkmAAQLdtWA1Qlnuqo9OILF1bdwWShZS1dgCLh4DZi9UXctAbyArZpI0pdrl6qBAUuYWziphsSBBzdGegRy5AmTj961DNhG5qJ/OQNm8XnoCA+iAWMuHbRyarw1WPvskuM1XhCye2Kw/dbAitw8k4TlLVgN8JIWLCoZoJE4gAHHkVuk4Fxwl+gkk1O0IMG52dXYRWr/n1jCrPMT48ODTA+xAGLiT46oH8n+oY3qAH7PFz+RuncTBezHn0QnVGdACAIOCBED+OUQYIIu8fAebwdgAOFLNeCH3oUtFdAEfh1w2FIY5hGnn4gqERBAibZJhmJKIwxgoGcvptRBgw/WaNIZBVa3k44n+edcE/WBpAELJ0hQAm4cToAfAyR1UYMUYqyiwJVlNAElhE7yZgAQEpCEQRBXlmmmDIsl+JiXARAWUgdPtGDmnGWekFZdWFTUpW0GgOcRByfIoIAgdBZ6olqgGFNRCcR9wGRHPIRQhpyFVirDj+qpMZxoBhwQokcYvKEApZVW2oSAm4kGRBiMdETBAqXG/1pmGTmGR0FtogWw5UUWrFCGrMAqIN9+XKRWAkZnaLADocHKaqGAJQwBmQk2tGoRBo440GywzwpIQBObvoWFQxYd8QGz28oqiJ/7MXJECB+YYMIHIWBQ5EMcaPBrusA6QERsKHYBwnUX1UAmv8E6gAMHQFrEBRAQINysA2E0TJEaUewrcbA7MGwxRDxg8KugGwNbhgYfQ/RqydtWcGjKBzGwA8uytkBoEMPCjBAFM9McqyA4HKuzQmFE7HOhgsgQxqNDHwSCA0YffWYTxjWtEAsQRH10JwoEganVCZkgdZmT7DAAY2ArlMDRWUMgwwfkpv1QFT47YPcQXMgtURN1l//xtd4PfaCA1vxWMADBgEdEgCCEB+u2B08lPhEjCTQuKxGBxC35RG5oHCwOGqC9OUUDBNuCDAN4PPpFpcs6xK6rY6RBEKSaGcSnsXtkwQ1N7FCGFDhI4MYIuZPEAyPEF6/88sw37/zz0Ecv/fTUo6REDU0kEMT23Hfv/ffgb/+EBHlLDoIJPjSg/vrst+/+++8jIga7VjPQgyIPwK///vv/MATTQztC+vhHwAKyjwRSAGDKkgAIEhjwgQY0gNWqAMEKEhARQoMZFxBgwQ7CTxFlGNoJ8ufBErIPAQBLGQVNyEL10ShlEGhhC0+gsy/IkIWnglkFblhCEiAIZkPgoQf/ERG5lGkAEUKs4AN6ocCGlSGJEHxAmIZmgx9A0YCAuFfDPHBFAiKgW00bghVJ2IAHmPGMaEyjGtXoPvz5gDRyc0MvalFGMsrQjOpTRC2CUES9DSANPYABAgZJyEIa8pCIHCQMyjCEFFbvkZCMpCQnSclKWvKSmJwkAyTQgzckIA036KMlGYAEKogABTSgAQpi8IcEwG6SA5iCCGZJS1qi4AfQoSQLTFnLXtKyCOWDZAka4MtizpIVSKjV9HZgzGaKwAU5nB4DDOHMZsbgB3CMniNoUM1q9uBvzANEN7vpAq897wfjHGcDAsCD5qEzneMsAjhXVwR4plMIDqha7iBg/890jmEDBsjZ6GrQT3v+4GWS80FB7fkFRybuBDpYKDx1gAOBAm4IMZAoPJkQzcQFIaIaTScgRucBRKAgpONEwOi6EIA/oLSbPVhdCXCQ0ZcaMwZDiF0NEFBTm/byCynhQhlcoIMZ6MB/PSEAERCQgQwgoAmiJBAifNpLIWRwJG4AxBVEMYeuzmETdZhBTm3ihiLowQpGSKsRcpEIZPClIiBwBC+pioKKkYQFiViDV71ahzrMgQ4qpQkLRPAIP6j1sEYQwQ/1VAZq+hQFHQVJCCCx18p6dQ0+mMkNtpBWFSBWraTQQwgvwgKF2hSyJNGDZVfbVaDCRAMi+KxsjbCFef9GxAInIMFLUUBDkcCAEqxdbQocupIizHa2gcUIAxIwV4lm8yMSMENwWZtZl5RgBseVrQoWKzsf9NSeNEDAIkTyiemydgsvwQFas/vZDIDkA++05zB8IZId0MG8wlWmQm4QBAT84RNEkEQuJVIGMLD3syqILEdCkQF7IkB1H1Etfi17CDAm5AhSSEQKXmCGDqcAEriUyBcOLNsLRBUjbtiBEMaZAe56RAxcnXBlI4Gyh2jgAlDosI53nIgARAQQJJatGEaCAdM2cwoK7gghZGzZK5yYIBrQw46nrGM0JLkgxg0yYmfwVpGEgae+1EEZXukRHzDZsnp4CAFQQOU2m4H/EC42CATWq2W1IqIkPPgAEnwwSCLswMIfccMVzlzZ5CIEB252MxMeUgM91PmwhViAWmLQV0J31QxdPggjpJxoKmfBAw8Z8aPT6gcmuAkqCTiEXy09hx885ASD6HSbDX2QEDh61IYdLVRmwOquOiHTB+mFrNvsAoj0YNRq3YLmjNKDXs8hEtVVyA+GTWUUQIQLF0C2EUgBg6RMQAustsQcChGRP1B7yjOIyAI8i2w99NYoJOi1JeiQgIiQ4Nw7TjdEIuACbRuB1kKJwhKcrQOJ3BvfHdY3RDxQCG2r4A1GEYKz6QBohBwc4QqHiCQeoe2CE+UJkXC2AiZycXxn/CEY/8g2ssGwA6IkwtmNALZCSn7ukz9kB0Zg96MvMOCeIMHZc8ABRWhObZsrpAtU0LmW0Tpkn3AhC6u2tNFnjvCEV6QKSq9zInqOkwdMHAgVIfqwpz5zfyNAizE5ASYIbhGxy5rsCblBIrRdiLHiRAfOhsK7SV51M8A9IaJGtghyUoZD9HoNI2173/+OEC5gV9u6pgkB9BB1QnvhyQ9xe6cZj5A3+HsGz5WJDPTKalW0/CKaTzTnD0KBT/g78TSRMKsTwZHUu3n1tda2FWZgW5aE4b6sPoTdFV913B+kAdo+xell8oXKn9nVtV98R2yt7ZjOJAPOl7EnQB394nvk2MiGvv9MXJD9CXe7I7Zvs/EPsubw06QM5TcvuT2Sfiqv/yAByDqJiUCTARj+zJFgfegnfR4BAjpACnWmApEXEy93Ztb2EfWHbiBxAslQZzMQTMwXcjJGB2AHgQT4ET5QZwsoExfAZACHERGYbyHhBpxFYiLQey4RAo0wYegVEimoY/eXEGKgB4aVXXoQZzPRBIUwXZFwASNxg1YnEo7QgrJVDDEAhDRRABlABmBVWVawfDb4gSExAAhwVodlBXpQBGSGE0OAA0WlBzPABFVwVVnofSXhBgnwA1SgAz6ABDVWFKiACilhbm5YPXyIcDVYPYjQd0b4SJLQdx5XPU3Qd+dXPTxKoAL49gKDMHzUAwH4BgWDF0lHEAPnhgZQKD0lkAjD5glCR0kDoAcc5mZoUG+W5AY+QAg5tmOeoAMfkEkCIAE/IIdC0ABIUIsoEhAAIfkEBQMAAAAsagAcAFwAfgAAB8yAAIIAHIOGh4iJiouMjY6Pg4WQk5SVloySl5qbnImZnaChoqOkpaanqKmqq6ytrq+wsbKztLW2t7i5uru8vb6/wMHCw8TFxseLBk3Io27Mon3P0tPUgizVjDmKOUe6fNibE+CWO+Pm5+jp6uvs7e7v8PHy89Jl9C30gwn5gnv8/wADChxIsKDBgwgTKlzIsKHDhxAjSpxIsaLFixgZauAXIqPHjyBDihxJsqTJkyhTqlzJsqXLlzBjypxJs6bNmzhz6mRo4J8XVXqABQIAIfkEBQMAAgAsDAAbALwArQAACP8ABQgcSLCgwYMIEypcyLDhQQsOI0qcSLGixYsYMwqEqLGjx48gQ37kKLKkyZMoO5JMybKlS5crX8qcSbOmzZs4c+rcybOnz59AgwodSrSo0aNIkypdypQmiKZQo0qdSrWq1atYs2rdyrVrVC5uMExgENOr2YQ8CHwwAaAtABMsCpw12nZFyCMnDLjd+3bCnrlD30b4SCHME7589WJgBBioAZA8MJgwoBcx4hqNfy4QIDfjmRJNLItuayJJZp4AFpTQiLfyaNE2Tu/czPgiiAGvcwPAwkG21BETcrjWLdq0b6aMuHggTvzI8aVHwjBnzuU50iQahk9/TcB6UR5c2G7/Z87A+1AGeccTN+BhhHmgSQYAAaJdvegJ731yuBHaPvMT7uWn0xlHNEGZf8TlUJ2AOd1WH4KJAWDAEB0wmFMBEkD432AW3rTICZc8qKFbJ5TXIU41BDCiZQY8kcMEZZ0okwUBiDiiDb3JiJMbB64ooYQnUKCjTiH4uNcHNfw1ZE4ZGmmCDRwuyeSKeoUgpJQ7sbCiCVdiudMNNhKHRQ0xemmTGkD4h4UGT5nZkxLSqbeCGm4CxYB4xB3gARea1BlUDcyZUAMPfg7VwWsGwNVmoUNx0SRiEpjIaFEjcMGCBzl84AEGFNQ2aVJnKOHpp6SWauqpqKaq6qqsturqq7DG/0rQHkeEcMIHuOaq66689oqrBJzKKpEFA+CgwLHIJqvssswyK0MCzrmkwZAFLNBCJ81mq222k8iwQpnCCkDBDtuWa+6yJuQYLkFdBHHuu++GsW5BJ8Brb7kydDevuBVge++/zG62rw0AF7xsGfquW6/BDB+72rwJNNzwtPO6K7HBIexrwsUFt4DZvCFwDLAMna3rhgwi3/sGuK8akLK9FO/rRhkvnxtEgPsKcEPN5ZbhRs4EDYAyz8u2IMXHQA/EgMVEI/tByUkTNMEHT+BQwdVYZ6311lxLIUUQBgyQsEmERm322WinrfbabLft9ttwm3nEG4hkYAgJRAxhXgQ3vP/RRBRN1AC1VEcAQkgkcyRuyRyHGJHAcREsgAAiDUxR+Q8weBAlVGXoUUfioLexOON/yIYBIA00gMjqqbcOAQZQDSBEJJt8DvrtoBuSWQ0+tO6776tLIelRFPxgxxx1JI/78msgAtgRX/wuveqrIwDEokT5QMby3ON+COxnBTD9+K37IO9QTeiBePfsJ97AWRH8QP78iBCB308DMBHJ52us0T73dYDEWT4wvwKqLghjw8kEfMAG2/2vfXQ4X1d2YEAD+qAJCaQJBIyQPAc+sHuRqIJZiFDBAq7uCwCqiQdmEAn/ffCBddjBCEtYQURIIVouKcEG6PDCHh5CAmaRAg3/DVi9IGDvJEhoYA97mIKz4GCIJlwdIhAQqZMAIREdXOIH60CDs3ABijREBARi9pEmCGENHfSgFrtXBynMpQxgrOHqdrAgjWCgAZgAnRrXiLvFrUEIgLkBAuJIQwQMoUsW6QEa+NhDS6yhEY8BjATkR8ga+mAAF/nDIRi5xEac4DRNGGQlo4gIHFRECHvkZPcOIQSkZSYEJKTcKAsIgYn4QJUfPEQiBHYcC0gABrM04Bsi0gQe4rJ9XuhBfo4whB9IMZjSQwQQG8KEY7IPEw0An4C4UAbWQfN3MmQIFwhhTe4JIQAUIUAQEEECHZAABp/sSQRw0AMEIEAMEthcRFhA/8Jv+u4HdUxIGIxZzsQlwhEUOUIZIAGFF7zADGaAAhSE4AGdEEAKOkCBCDYqAhQIYQeudAgHPjA5bwaTBDdgCATWV84UKJMiGrjAICBKUzMM4qac+IIC/6BRjvpUBCTQpkS4kABnfpMEEkxID1jKRxcyzgUsqIgG9FDTqtYUEDapARN+ylUR6ECEFZlAGRQhy1kmFSEG2CQuI7GFJlxEBFCwqlwHUQaalIAEXe0qE3A4kRGw4AtljSPlUrqQI3gBl34w5UV6MIiHyrWqgzBCQFsihbzm9aUWiQBJK7m6kCJEB5Ro4RpTgICMsAAMj30sFIggEy64wLJdjYFQK9IBKf8YFYwOUJdCdnAI0fYwElSIJ0Z+4NjUWlUHMhlCT2H709JqJAQQACNSI7KB/n1wDZHQg3Ax8gQnGPexYOhCRCZgACLYUwplICND3rBc5nI0Bme9CBB8MAWTzs8BZWuIBhqRyuV5QbEdGcN3H5sFzx6EAVWIQSGMoIIGF2IGX1BvQpDgXr3q8yIEGMLkLHi/iAxAD//D5mQxsoMlDFiuKehwQkrggkcUosEqKISMXyyCijKkshXmKoA7MrMCAgKTFHEDE64wB0f2zxKWoIMQgPwRqp7YqpAwTkJqoAM/WNkIWM5ylhMxTYWUIcdcpYKBMYIBMThTitVbwIUlooEviAD/DZhIwRZ+0OWPEKG4T6ap7hRCgQzI+MpaDvQMZmsQHLQXzCLQaUgqMYAFlEEMPcBBAH7mEQocESRHgESeq/oCRSdkAVYOdaADXQjnJsQNVED0T22cHybEddM0fcSYB2KIUAN61FguRCKYjBAcq3qjPhjcc5rghZnC2gwv8MFCQqACW/sB11kuhB8EsRAN6ODXG0UBQt+jAzxvWg8qPogUFgztUVvZ1AkJArY3mgEpPwcHx6ZpCsTAEEmQu9xatnIGGMKAra67rtYpwQziDdEtNMQHKsB3oK28gYZ4YN1ejepzfPDqY6NBbwzxgcIX7oeGM2QRCIA4a48TBi0Q/AUk/3CIxjeeZYY7JAQxWHcM3OqbPxDcDGiYdUFWzvIsUyEiSDg0mH/gmyakgOBQcKPKe67lnzukBP7+NQrQeRoU3FwPhE4Iz5nudIcAAeJMkLBX0mDsY0PhCRLZes+73hAO/ADbGt2xWQiggrLDGrlpZ7rPJ9KEmGNbCGLfig+8nWc00Dwiamc52x0CA5HjrCsDaMTJS2dLvWN58Q2ZgBDWbYjtcoUEN7cCr5duecw3xNe/pnxXcHD0eKcA4JUvfUUY8Fq4B6ErDBDBzRPhbsRb3gimb0gTIO6CcF9lB4R/cgrASpHEbzz4DIlAyNcdTq2goOKwRsFFnK9w6DNEA+tGgf8LhmeVEHiB4F7wfN5lf5HGrxvtWekB9jcNA4xwH9/eZwgGro1tuVcFAfP3ZIUQX+und/nHEGmwbp52FYiQfMY1CFCAWRZxf+V2gAtxB1GHaFiVFfAGa4NwARpBgdBmgQtxAthWfVdxA+fngCiGghP4eySoEByQCTSgao9jfQ2VZy7QESKIazGoECGgauO3FWWwaYbHgzDoET2AaMynFS7AgjW1BAtof0nYEQSQATn2B3yVFVM1YFCAd0jIfh2BA/wHWzqQdVhxAhcQgBD1Aimwgx/Rg6P2gwzRBFiYVyiQTXOxCD8ABktQcQ81A00YhgYYEhpABBnlUyhABVKwZl2q4QGB8Ac6YAhCgAABsIWEyHUlQQBNAAj2VAYJ8DCs4gP3tnEuFzcHV4oKd4qouBAw8Gw9Z2Vw2Ipepor4ZmUpR4sKsQKwyHJWJoG6aBAjcAHOhm8Jp37BSBBSUIzlpgJMkIwK0W+2Bm1+oAJ6EHjQKBBHIAKiNmoxlghUl40JYW23hmVWZo2HJ44JcQQQMAN+MGMvlggNQIDqeBAsUARF8AOK4ANvYBfeERAAIfkEBQMAAAAsLQAwAHEAmAAAB/CAAIKDhIWGh4iJiouMjYVJjpGSk5SViweWmZqbnIMgnaChoqOkpaanqKmqq6ytrq+wsbKztLW2t7i5uru8vb6/wMHCw8TFxsfIycrLzM3Oz9DR0tPU1dbX2Nna29zd3t/g4eLj5OXm5+jp6uvs7e7v8PHy8/T19vf4+fr7/P3+/wADChxIsKDBbGoOKlzIsKHDhxAjSpxIsSKwNRattbHHhoQGekMyihxJsqTJkyhTqjypRIg9IytjypxJs6bNmzhz6uSEw56IeizQ1Cuzk5iZemnsffRZtKnTp1CjSp2a68wWqrooYI0K09AAdzCEBQIAIfkEBQMARQAsAAAuAMgAmgAACP8AiwgcSLCgwYMIEypcyLChw4cQI0o8aGCixYsYM2rcyLGjx48gQ4ocSbKkyZMoU6pcybKly5cwYwp8IrOmzZtAburcybOnz59AgwodSrSo0aNIkypdyrSp06dQo0qdSrWq1akHrmo1WXGr15AeKHwdS7as2bNo06pdy7atW4Jd38qdK1cA3bt48+rdy7ev35A1Gnb5O/UE4cOIEytezLix48eQI0ueTLmy5ct8GTX5oaOz58+gQ4v+zOTHgMOaIrjBoKG169ewY8tuPeEICIZvVNSpM4f3nN/AgwsfTrz3biM4+o6o8QEAAAPOo0ufTr16dOgmJKhByKWBKuC7i4v/Hx88/KENYvNyWDHdgPv38OPLl1/dxIQRBQmgEEW+v//heuQFggfWFWjggdKFwANBf/zn4IMI3GWBBAhWaOF0EwzkwSEPdtgfHU3QhcGFJFpoQAQCueDhiuNFKBcITZQoo4EGjCIQGizmOFwKe8jlBnQzBtleExHUwKGOSM6xBgRyjSjkk9IxwAJ/SeqojAhysQflllwMQGWVLOryhVwUbgllBxqAqaMoLsgVgplPGkDACWyoySIdSchVA5BwlugeB0XMYOeDlvyGpVwUDNGnjAacUEkRRAzqYKFzSEHXm4uSaAAXAyUiqYMz3MWACe5lWuEJZwzUxBKf9jfIDXj9/2gqgjmkN9ATXvjW6m/hzZFFTnl1QCqfsz7n3gcEHHQCCruCt5sQIe5VgCwBEGuqAQHcAGhCQ/wBhh10hCvuuOSWa664mGiRQXJ/EXDDCidgIe+89NZr771Y5HBCCDUU4BABbrAQwsAEF2zwwQgPXAJmDDfs8MMQRyzxxBRXbPHFGOtFARA+/MAEAmV40NYiJXgQgsCgbOsVA2XokQIUZsT8giczDJEWCBJU0AMEPEPQww4s3KZVECLAHPPRR6fgYllu4KDA01BHXYUbVrGQQQovIK11zFB8UtYRFUQtNtQymOBvVEn40IjRW7ftw1h3OD323AqUIYEFT/UABtttt//tycJerQAB3YRLgQFTJ4iAdd+MmwHF21uBIMPghBMexBFIsYCAGYOk0HjjAW4VggKUV063DB/kOZQbgDSyxOewoxHCVkOYbrsCUgyg+k9IzDDI77B/nkJcVlVx++04aMBIT2Ho4HnwwQ+SwFZBHH88ALvXdMQUaAwCPfSenKaVCdYf30MTeMuUhhZ8f/85GF41Uf7tEDhQxg1nt9TEBWS0737jbdoKBeZXvqmx5ARMiBnw/ge7QQThKwYgYPniYKuS1EBtWWPg95gwlhKUQYLWK8MK8ieSHSTCfxpk3Av0EK2vaEAGILTeDg4nEgR4IoMpDJ4exEeWAXwwhsdroUf/mIDDHH7OE0yg2llqUD0g3m56HiGCEYOXAhQI8SwjsMEOnGi7KHTkBGiYYuOWoIIdvIUCA+gBFwnXAxtwBAFFFKPMlkAIBARmLhR4AgzXOLY4bOQIepBj25jwAYlQIAA+8EEDfNADHtYEBEMIQhl6kIYbLGIiTOSj2GRQQYuwwAuCPBoULmCziDAgDXqwghFWaQQrgIEENopJBAKBgAbY0pYkQMAQMBcRHoTgh5psQQc0IoVQxgwMZpRIDVzAymauchmJKANM3ACDW1rzljBQoilPsMc1toCGGNlBKD2BCA1MZAIxcKY6SUEKJLiEC4q8pjwRcMWHcCGCfATnRZqQ/wUxpkAHErhIBlSpTmeyk10qOUI15clQH9zBImeogdycOMyMMKAQU5wBTS6yg1MUtKDL2EKyVBIIhpq0AW/ACAh+GUMIyICXGflDCqFgBUBkBAMz+KhOLZUSBsTzpNdEBOAuQgADdLN8DnDEgjSSgOe5LwWIcKRFJOEHnX6UBCqRAFBN2oONTOANgpifA8zJEUT8zxAr2EgT9KACqxZ0BipjiBs8sAMIECEBVRhqQ5qwVYYiAlYbkUBdreeIVHGkBoEMXiE2uhEmuPWjKuAUQ5LQBBKIAAUiyKwIqFCGOzIECH1tqNA0EoEwHLVwku0IC0QQR6S9gBA+gClTCfpYZ/+qQJsJ4QIC4DAGzGpWs3+Y3WdDy9BScoQBCTBdEDIEkiMgwAltQ8MfANsRQ9S2oHog4UG4gIjfelezQhCuQhxB3HmmliNuqEInxNaJMpxgtIApgwsK0Qg/6MAH4u0IEmh7XVZyUCEFQMB3BywCF+j1IAEorzx56hFGYEACl0hAApogAQakJAmDEQkD9NBfdUpTIR8gMIGZpBAG1FLB1pQqXxDQYWfOALcG2UMDRDzgGJA1IQZA8S1J0IMM9+UEbW3xKq3QVYVggMYEZjBCSnBiHZOgnnn5g5BZKQIYGyQBSB6wTRfCVx3b0gfaxcsTprxKFSA0IWXI8neXlpC0edn/llDUyxGEQGYjUKEhPVCzd3/QkBC8uQF23AsR+NvhRBiGIXnWs2bZnBAL9ODPZ6YLC3JKZsghWtGLdggGEPFmRIQhLwggdH/1YGWEJBrTjFZIIEjw5i3TRQJBnrIjHnJqRac6IQT4qY4PPRdmktkQnr00pkVw64Sc4M8+KLVaDEAKMlsBygmptZ6LjRAeEOHPxm0LBS5QZ6xCRNpqpjZCwsBpL//gwGoZNJkTEdBvD5vYEpECpA27lhtweMpgELep363vg7jhB52mrlp8UOcZCNwh4M5yvw+ygD/DgC1AiLWQHyiRhCN54QZx85uh/ZUkMKHZU0ZBmPHMb4uE4c8I/zhvWQJRZxVk293DxrhBQPDoNxOvLL6ecgYuYnEay9wgJUB59saCgUSsW8W0LvlFkPBnkZkFB2Agc5Et0nMR/9wgbmgyijl+FRiQ+QIHj0jVCXx1g3RZx8ksi9dbvIxlRLriSr9IAXRd3rSTBQhCXkYAMTL2AZfdICzwcgCWaPQOnyIQGun7mjViAUCgGBFcv0rOr8vnxMcdIxhAsQ9QdJY0FPrTlo85R96g4MhrBRG19cMjPhx6VHOEAnQ/KQw6WZYaWNetYGhARxTv3b8jZAgIeMBWEaBssoSACqJuJiI8wvvf+h4hA4j9jgFR/LJwAAZbELUOXt56W3+kBDhAAJWrd4yAJ8C3LQNogg/+wP4vnMDCH2l+pkFCgRVs8a4ekO3E5J/Z52cM5q73fyWRZqIngCRBNMNmaQYYEjfwbmmwgCSRAYpGAyiQXxD4EVimZzTgfxe4EBHgA3qmA8HWgR9BAUyQZTHgdCQoEiXQXSKmA6C3giNBATtABb6VWShgCD4QdjIYEhhQBkjwBTDQA0PAg2YREAAh+QQFAwACACwBABIAugCvAAAH/4ACgoOEhYaHiImKi4yNjoQWj5KTlJWWl5iZjpGanZ6foKGdnKKlpqeomaSprK2urKuvsrO0lbG1uLm6gre7vr+pvcDDxKPFx8jJysvMzc7P0NHS09TV1tfY2drb3N3e3+Dh4uPk5ebn6Onq6+zt7u/w8fLz9PX29+xc+OEMAwD73kYIAvAPILc4Bgz+WqDQG8NdORpKnEhxHYEVJipiK6ixo8ePIEOKHEmSHMeSzU6iXHaCwcqXMD3JibnMDc2bOHPq3Mmzp8+fQIOe6yJAJUUQQk9JSMq0qdOnUKNKnUq1qtWrWLNqhUllq9evYMOKHUu2rNmzppagXcu2rdu3cGLjyp1Lt67du3jz6t3Lt6/fv4ADCx5MuLDhw4gTK17MuLHjx5AjSwvwRi8JyZgzw1WgufMuKXpj7BXhubTp06hTq17NurXr17Bjy55Nu7bt27hz697Nu7fv38CDCx9OEg68QAAh+QQFAwABACyfADcAAQABAAACAkQBACH5BAUDAAIALAAAEgC8ALYAAAj/AAUIHEiwoMGDCBMqXMiwocOCHB5KnEixosWLGDNKjKixo8ePIEN+5CiypMmTKFOqXMmypcuXMGPKnEmzps2bOHPq3Mmzp8+fQIMKHUq0qNGjSJMqXcq0qdOnUKNKnUq1qtWrWLNq3cq1q9evYMOKHUu2rNmzaNOG/VAEAQIfXySorXoCBZ06deboPaRnx9yoCOjoHTy4DqUtYf42pUK48Ry8dej8CaE4KZG8jgnjnSPKC4TKRiVcyUx6MJgmoIf6KM16ziERLOY+GUoBUuvWdEhMQAuEaBPBt1s7gZGaJyLMwVnX0WOieM4Gm5IHp8NErvOaPShJT76kyJHrM2uM/96eHE0a8DJnkJceacYH9C9xrN8eSQdl+CyNIJ/fuo5n/CsFMAh/weG1iR5vAJhSGUsQKN0hGVCg4EknzLCfg6WJ0sCEKPmABobB+cDhSTe4cNeFIA5GhwYjniTBFpGkSBoTLaKUhhWQoeggGt/VaBIoRWSxmYxz0BGbjyfZQMUhRM4RCSBIpvTBBU1KEqVKRRCSYiRVXKmSGw2MR+AVLHqpkgY6MDlfHTOY2RIRhcynSw9utgRCEZyQ12adLmHwA3C3LYEany+FYEiMrKUwKKEwlaECoo0dMsMJYlGKlRpl6LBEJGsckoILXTJ6kxthBBAGAaKmquqqrLbq6quwxv8q66y0vqTECTCQoOsfJPzBa6+8+rprsMIKC2yvJPwAgw21EhTADFBAYca01FZr7bXYWvuCGTMkUOsRCGQh7bbZlmvutS9AkQUJEchKgQtLnCvvvNYuEYOsCEhL777zQgHlqyt4we/A8qJhXas/mEEuwQxrW8SriTQs8bVgaNKqG55MrDG1frGKgb4bS2yHC63eEG/IIpfR6gQoT7wEAq0OQMjCLfPrRQGuCgFyzftm8KoUJ/O8b6iuXhC00OYuIUSsEliB9LkvaFEmrE0UsgTNT08LhRGLxhqCC1Bs+8LYZJdt9tlol00tFJ8cTOsHCMxACBp012333XjnXTchMyD/EEizBVFwhAaEF2744YgnXjgXgDfu+OOQRy755JRXbvnlOkXwgQNtAZLGAGZZwIAGJbjRgRojQJUEDob4AYYVRvjxSCE6eCCWBRg0YcDuAABggAduWNBUABlY8YgRyMfux/Iq/OtVEif0Lr30u0sgYVJ+qpD89txbAXNXEeQw/fjTr9CFUQW4ogfs3LefPJ1bLRI9+fQbMMQEqQu1wwxguO8/8ipgnFZqYAL6GbB3WOiRTwaQAe3974FE0IoFTGCAA1rwBEngCQa+8MAOIk8EWnGD7yxoQQPY4Hw3OUIZ9ODBDvohEVOzSghISEMA5KAGKJwJDnTAvhY+EAzvwYoE/2pIQgNc4gRcUEJMWEACB/qwg2AYQlaGSMQasiCHK2GADxJBiid60A8qYBZWWFBFIgbgBvlLybO8+MQ9YcUGZazh7prABZKI5AQuYKMXf6AVEFQwjkS0nkhCgIDl6fGJAdhKCP4ISCuCwCNcIML6DtlCP3iPKwwYggkO0MgaYqEGdqxIAmjQP0q28BExSAxXuEDBThLxAwqkSBGcaEoPCkGMXamB+FwpR1xKBAE9rOUDE4GAWHaFABLgJC+LCDqJlEGYHlSBC1QpFkZwYX7LPKABYriQELAQmu57hBUu8LezgKAGAWBkNsknQIZwEJzts4IeiOCGuYBgBes04JEWQv+BGMCzfQig5kMKcIIe9AAGYkgDN2vCgTB84AkJaEIJQukQZKpznQYwARYRgoFE/HN5YHCB7SaShCHoAAUoEIFKVeqDhcIEBCcogyAUQFOaymAFGZzIGUqQg4tm83oKSYAf/qmCGZRzIlxAwEqXqlIaCCFBM2GAFCAAgZpaFQI4YEBFCqCBAuYTAMY8yBOGCs5CwKAGFXGDIpjKVhHQAKowocAOWmDVuioAAmW4D0UiMMN8htUgYSgENFWQB71SxAdwaCtbaSDFl6zOrpBVgBQeWRFGEACbrjwAqhaSBBR0kZJWEELXKLIAEYxBsUylQYRecgK6RrauDhipRXjghl3/NnJ3OV0IMA/5iBmoDCMlyABqFbsLlxRACq+FrAy0ihE1DOC2QAjDGRoyhEOqwAe+tAgSUjpcthKnJRpIbmRx0ZEjSMCnJATCXxHiAzYy4QYdCYMOuttWFwivoiwwQBB20IQmrBchA6iqeOsqgxJ4ZAIfQG/9TqBEh7ghBsH0Xy4uMFqMKJW+bI3BZhcCgjD4oAG6aoCIEZCAdi5EAgIesFV3QFGLdGECXiVhE4DqEAy4IMLbkycgaJyRJnAXw0uNwX8HwgAFzEIRIk5ykmGAgYagWMV2baZHCvDcC76iIgyAgR4MCTvZ6QEBTQZJA4DMVh0sYiEM+IKS15zkH4RZ/yEfgLJdpcBjjVCAiuPLAQbuaxE34OAHF9DDFhoAAZdmJAE/JjNLF7KIHrD50Q0o5kJWIGe7NhYkSjgCBgawghXYYAI480gEWuyRJFBB0UyFK4Ah/WgS4GAhmKq0VcWwm7RAANVLdcGQBSAJVkPawAqRgKxr6oBA8LkshsK1SlFwHoW44QG+ZvMDZqMQApRh2HclgmHJ4gNlq3QWu25CtB/dMYWEANs0lQKpvdIEb4sgBr1ZSALGzWb4KQQEyMU2BCw1FgZMwd18ZEgQ6L3mCDJkAujGq4nBIoVEkxkFQtg2QqpAcCU7oCE8eAK6FRDEsGDg1MpGgb0XQvGKi/jiDf/hggzQLYM3f0UM7hYCcxlScpOjvCEncAC6gxCWG8TA3RVOSM0rfnOGJCEUG8/uVi6s7AbsmiBDJ3jRGXKDFMt6BzPfigfcjQK30dzkJ5dIJaqQcIFmRQ2fcPd3HxJ1ek+dIRpY+bAh0IMNZ2UHDiezEPbpkLaP++0MCYDV5QyBJjBCKxMAOa5R8JmJ+D3agEdzD/TdA2BjBebedkGtJfJ4X0f+xETQuawhUG6reODn3r4058HegM/fGwmiH7aUqVIABOQdyEygrONZ73qFaCD2skZC1qWydW/HgN+7B3vvE8KBBGzc7IBxt4gs0nlWLz8hBNh4BXQflRIIwduGMHT/Q6oP6esnxABUxbbSnRIAd7/6IuR/tPkRwoAyDB7KK6AKErzNhM1XJP5sNn8Adn8qFnRNUQa4RgMoEG/wx3sZwQE7gG0GyBTFp2g08D0YAYBrJoAIUQPYln9T4Qbfp2gxEAUaoYEWpxEjEATDxnfRp2jOk4EOqBEqV2kVsFFQMQSKdksdgYJJxoEJEWdyJnFRUQQYNgZwQDQZ4YNh1xH4BmU7EGpVwQUkgGFW4hFM2HofMQDXJl5lMHxUoQEIQAPD9TAfkYVAqBATkG+uRVNUhVVgWBUWUAYZkHeIgHw9OIMfQQBNIFNtSARlcALrVhUaIAEH5QM+gAQhkFtnqIcgfVEAGDAECZAAHhACddYVtJASaIg5CTFwyseJCDFvnwiKBiFuYPdbpEgQNUACYKd6qSgAjPBhBMeK/veKAuABFUcCI2eLAgACjkZvP7BwvBgBsuhriECEvHgEgOBrCABfvIgQahAACMCKSZYsFYBWz+hsECUFZVAFEoCNWBEQACH5BAUDAAEALAwADQCwALQAAAX/YCCOZGmeaKqubHtabizPdG3feAvnfO//wNsuSCwaj7QhcslsEpXOqHSqo1qv2AA0y+0Gt96weEwum8/otHrNbrvf8Lh8Tq/b7/i8fs/v+/+AgYKDhIWGh4iJiouMjY6PkJGSk5SVlpeYmZqbnJ2en6ChoqOkpaanqKmqq6ytrq+wsbKztLW2t7i5uru8MgAAvcHCw8TFxsfIycrLzM3Oz9DR0tPU1dbXbw3Y29zd3t/g4eLj5OXm5+jp6uvs7e7v8PHy8/T19vfLA/j7/P3+ndr+CRxIsKDBgwgTKlQHDEjDYQ/BYTAoQRwDChfCRVjIseOdDB4LVQg5aiTJkyhTL6pcybKly5cwY8qc2cYBBHE2xS1QoCAcgQA9xQWlSbSo0aNIkypdyrQpigkPHoUAACH5BAUDAAIALAAADACbALwAAAj/AAUIHEiwoMGDCBMerBEER5kEECgonEixosWLGDNq3CgAR4wrdUSJrJNlygSOKFOqXMkSIZ5Dc2LKjFkHSpqWOHPq3ClgxsyfMiP14Em0qNGELoAqnXMIxtGnUHU2obNUqacSUbNq3eizqtIGW8OKTXiCqlegdCSMXbvWwdmlQtjK3YqgzlugdaTM3fsUwV2lKo7wHcwTxl+lTgkrblnmMFBMNRZLTjnhyhrHMS3N+TS580YdmDPPoYPDs2mLYcyGnqPntOuJVFbHjFTmtW2DGgbJrgPmtu+BRGTHTPzb9oREwqGEKX67ivA5f5jfRiH8UBPpr5tcEZ4I+2tEwiPp//Vumosn4WgYkDcN4bmP9Z4JaJFtacl1+JOfRFqtmQr+znrYtdohgfwnmXa7tWbgYgiIItx4Cw7mARrCOUFAhIS1J9x7GFYkQQ9fwABIDwPsZAFyss3Q4UQDUIEGFC+YYQYUWRjiiE5lqIbZFW6siJAkXsQo45AzDqIDCznpUMeSmEVygo8GNbAEkVSaMcggaCCgQUsa0MGkY5EUCOVASJghZJUyXiljIRCq9IOAjh0SwpgCDQAJmnjKCMUMT6rERSOhpSAYnYBAkeehWbiAgUqAhOYCnQKoocehlL7gBAJYoXRBnGJAeoIXlIYKRSJDcRSEjmddAKkAMAwS6quDGP/yAUc+3GWJJ8tB6sOUr77qBQJzZrQIAjB5lcIOqwqwQwq9vvrCEoT0IFFGZUCxiVKiXKBWsm440ey3iSygERc+GEFHJJEcsoQhNyU7kBDfNvtCCjpsm5EHPRCRQADuFpRAvPGm8MeW/bY0g6sA9zoImwWz9AEYCSs8yBI0GNCwSkFoYWjEznryQwEXozSAEDBy/OoSHIbMERGJ8GoypYCojBIGP7z48qFonCQzRyHokMXNeEKBwM4pBTDDElAMsjHQZuihHtEcUdCDEUsgzLQXBEPN0QSI/My0GSnUpnVKEmyQNNMQjL1SGZPenMIQaq90hA9OLJ0wJDrHrdIEf4D/GnFcejN2gd292oFs4C110UMihOf5AhSAI45TCTCg4Swh9kqOkwZMzCjjmUO+AEafmu8UxBYpgD6jJ0KUWDpRIATxhxbMpmAEIha//hQXIXwQwrS6By/88MQXb/zxyCev/PIXD9CDD9BHL/301FcvPQw95B28B1QYYYUf4Ksg/vjkl0++Eeinr773RmxwX+kUAKICGH6sb//9+OePvgo+gCx5AT+wgv4GSED8WSE6kgNEARfIQCOAT2x6Y0EiGkhBAuohWHHzgQAryMH7kaJUcRNBB0dovy3o7Qi2IKEK0UeKBMStBhtc4Qgb8YO4YSCGMuRgI9o1NjfkkIRakETc/zQwgx92MBEg0NsfjNjA+hmhhnp7Aw6ZqD8nwi1wLqAiA5kguRDMQAVa1J8VZpApxEkABVMMI/qssIXMIU4DAVSj+qyAACQFbxRFYIUeEqGHPvrxj4AMpCD3qAcdFOF9w4sAA2owgUY68pGQjKQkJ1CDQTHvkpjMpCY3yclOevKToOxkAQawAylAQApDsEEoFVKAADQgBiIYwxhQgAJD/ACDqxzICRCAgljKcgwiCGYs2xTKEgBCBL0UpjKVSYRVLgIHOkjmMqcZzNJ8EggZoKY2hRmDp20SAz6A5Ta3iYLDZdINSBinOoNJgkxSIAEuWOc6hdCBSw7hB/LMp+uSN/8BGOTzn24k3h16IARp/nOchojM8TzgAoMedJwZOB4LEPDQg36heBggQkUPigLS6Y4AO6DCRv9Jg2YKLwp/GOlBG3AD4VVAnCqV5xQUqjsxxDSfhoiI8J5w03XGoI7Dw4AOeqrNGKDgE4gMnhSISk0UUGEH3hReBBrA1GkSoaUZAQELEvAGJOBgCGXcCw8mYIMBDMAGDBhBUUoghKrKUgTA0ggIJIAAEpCgAXjFawXCOhYLYGAIAAisYHNQg0XwpAlVDWYGkmoRBkAgr5DN6w8YqxUQNMEABhCsZg3gAf/l5ANVjUEZLIkRBpQisqjFK2WhAoIPaPa1gTVADvi6khv/wHSkvYTBojgig1qkFrUkCOhTunAC2BoXAE3gQE4KwISbIiJXHPHAAxTxW9T2bysYOO5xs9YSm47UBS5Mydyq+1sPaIUDTdDucT3LEgncNp8x6AFNUZIA8v4WCVrhQmbVC9sV4OihPtAeSjSAAPum1gdqtUgSJiCBJjRhAL/DSAeewF/YmgB4LCEAVddJAyZAd20GTm0r7lARDmhgBwpogSAUAAEHlOEEGFYIBhZQYdh+IMEtcQMvybkBKUQAJwMI8W9jfJAI3KIFCkiykh3gAAjsoEcUwcB+a6zZ+bJEDRUYqjLHAAcdiAHKOJGEkFGLAOUqRA1BULKa1ywDLlBE/wNUhi0WkqgTAgQAEH+gAhNggAParsQDY0YtCBFigQQgec2IVkAFkjCRCcQZtrjUCQh4UJQCFDjQeH1AA1Y7kAkk+tMK4LRAOJCDR7/2Qr/ZwV0x3QAS+IDIBNEEDkD9aVQnJLumFuwAzuCbCfyA1XglgQkm4lhaJ1q4BClAqXMNAAOA+TVIADZeJQFrgrBgxcZes6gF0gFmB7YJOD5NkKXdAPNO5ATZRnR4FWKBZefaALs9TQQAIW0SmHQiH0j3mtetEAJM2dQm+PFpArBqVv8g3grxgL7VzO+EMGIF3gaAKk2jY3IHwSIKX3iSG56QJJjA2yYgrWTSQG4EkLgiGf/XOMdv/e9HI5svXCO3fzGu8Y1fZBFR8LYB3DwZMZAbENU+SMoXvvKEuKHlVD7AB9g7mBCQuwHcpcjQ9V10hDBCAjoX8F5A4ANy4xcjU0931RFyhI+/OwACH4wrpY0AK0u95goYO0JCEHEWKGEwXLg0sC9+L7jL/SAgMDuzoyqXN5DbBzwHu9834mhvm3suIUAEuV+e8MVrxAKu9bbbw6K4w1tgI2HP9t8RwoWIz1ku45a2HTUSemOP/iAjgDizD6D1rTxW2oPue81ffxA1ePsAWPj8WI7wa2Ajws80331K6P5uADx7KxIg9xWja3mOFEDwpt58VJ5Q8ED74Pm6V7n/Smrg7dWHpb6YtqtHQV99jvAg83E+gAHMvxWnpz/37Fe+SghwAFMboPZRwQDFF2j7hBKtR2u853AekGv1tBY+F2jmlBIHCGoJmBAU8GjAJ3xjEX1j9gPaF35ExyWPBn5hIQXd91u1MAvbdhET+GkVmBAWkF5IB1seoIFrQQBFEGLEJIHtN37Yd1wmoAZ84Qa3V10R+Gc9qBJHAH+btQCcxXRyUQkJ4AMFt2qAQH9IqH84UQA28INAMAQYQGmL4QY2EARlcIZPgAFQmIXitxMccAQssAISgAFuQGemQQtG0YKJ9oLFk29a6El6qG6hNABwxy+gdASHtnAF2ElKIAULTadiJLhJLLBwgsCHxsMBTwABEGBsLVAGQbdJXbADm0hrMvCBnUQBaQZqZRCJoNQFYVAGkzAJatYDBiByuTQQDHACJ2ACBvABGmCLaxEQACH5BAUDAAIALBEADQCpALoAAAb/QIFwSCwaj8ikcslsCjnOqHRKrVqvWCM0y+16v2DnNkwum8/LMXrNbrvf8Lh8Tq/b7/i8fs/v+/+AgYKDhIWGh4iJbhuKjY6PkJGSk5SVlpeYmZqbnJ2en6ChoqOkpaanqKmqq6ytrq+wsbKztLW2t7i5uru8vb6fHr/Cw8TFxsfIycrLzM3Oz9DR0tPU1dbX2Nna29zdoine4eLj5OXm5+jp6uvs7e6DKvHx7/T19vf4+fr7/P3+/wADChxIsKDBgwgTKlzIsKHDhxAjSpxIsaLFixgzatzIsaPHjyAbotA0QpCBkI4K5FOJD8SHWicIHUhowARKZwAY3CwiItaCNCoddgodSrSo0aNIkypdyrSp06cYQ+wjAbWq1atY7SjIyrWr14YavoodS7as2awl8AXYFAQAIfkEBQMAAgAsAAAAAJkAyAAACP8ABQgcSLCgwYMIEypcyLChQQ0LhMwocwODw4sYM2rcyLEjQUBG6MwZKYqSEwQ1PKpcybIlxxoz6lAaSZMmmjIuc+rcuZKLFZkza9aks4Cn0aNIDU7QU6ep0KdLmiSdStWlj5F1nmrdUrWr14xHyGDV+rROmq9o0x58QrbtnAZq46q96larCrl4vTLJWldoFgp5AycVwrcvzSspBSveGaOw4TlXJixG6ybAExxDdkTg2fjxYcmTqwb6hAYKJjt2Bqnw4UZnZ8+QQYdO6iPFCzO4c5uBYuVJzteeI89OqgOK7uO4U+xwCfyx8OFGES1BTj1Lj5bNDT+HrvOEF+rgC3H/YZm973buLoXcBo98iQ/yjrXLRs9yABr24NGEWFm+7nn6KklhHH7IvfAHf/GZNx+AHgEyIIHHDVKFSv259R+DHH2xHoTHbcGARxW2dSGGGimwIYe6XddRiGSNSCJGaUBxIopmQFLCign6t+CLGZXQCI3HQfEDjrDFxqNHJMxIIxqBcMSiVi4e2RAL9wGpWwxO5mjhjlJe1ICSKA6Cw0ZPPhVllwvVYIWVus1AppYicolmQ0iwmdsLKmJUplBnzplQCaaAySEYNmS0Z019+onQEIMMYucLCBgKZ4tyKrqQC47a6YkEek4KZaWWJnSCE3biJkKnRSYaqkE+CAphChM6/3ToZ6tmREAhpZqRCGANzTqSqrUSJEWuZkAga5FGBnsRAzPkakUYvSILrLICNZFCqVDAxVAM0oJKrUExPGhlFlItpAOymLT2rUMnQJKrEAxNgSwnia3bEAzTlZrAQl94WtMac+hxFAAkhqBHrrsqFIa/QhVxVLkYDpursQolAtshAzAYwg499CBFEBrwdMG7CyVwyGN1RGoUFi7dgIgehcRciB+J/DGETkF4UiokRyz0w2Mq1AtdD3r4YYQKSCNtxNENWORSA1A0amUKGStkQQN8RRKJVlYYQJ8PfsS89NhkG6EHIEJ7NAEaUgOZAsQKFQFFHVoLdYgLIaMXhAp+KP9dNtmFGIHCvizB0DaNWeTNkAZfEEJHJJQcQgYTAQCoAcwq/D22H5xzPvMG+6lEgB6Z0mjEhxcxEsgPJPTQBYZIhJ255kZ07nnMifxwo0dl5IviC1PYKxAIQhxNO+1+60FEzx1R8fsgWSwnPAuJHG/92HwbMiZHBlQJ4QsbCC+QDLNff3zYhajwB7QbQSAue4WwIL4APRht/vm2J/KF4hdxAIPO+PED4cRngMDdj3a245wRZpCGzWQEB1bwnW6g4AL54QVuSRmdAg94PxXEAIMNYQAEtoCGLKTAC1b4Q+XmR5AGbJCD15tZIRpgwYysYAdSaIIHWGiQJnQOhtdDmsz/fJA2HqqECukDovlsJ4I3GLElK9iCEpfIORUEjgk7fKJKFjCDpSXwh1PcIOcSUQQQaNEjGiBB7b5ovymSjXNgIMIZAzSGR3zRjWXznAqQMEePlKAIerAiGPHoxc7pYXd95IgGEDGzFxIygQ5LpEc8oIOjlQ+PtjNCDHglSY5EIA0X8BshyZYIRHaSI27wQfVGSTYVOPGUKmFBJixpQExKD5YqSYMQROnGQpwAlywRoR6OdscOzkBdwFxJKhNRTPOpgATJzEkVXGDHQV5PC76JpkssgAMRxKyNx0MaNLWpEy6UIZDOnEHoyKmTCSAgc30rG9L8sIWqsZMnAUDizMqW/4gH3OCeSOmCAXwwg8ypYAs++ABAq8IADAxAAw5cqEQnStGKWvSiGM2oRjfK0YXuQQNB6AEExEDSkpr0pChNqRh6UIYgIHOiA/iBCFAggpra9KY4zalOcUrTH3BqoRHYQQx2StSiGlUEMXDdPUEACJoe9alQnel72LkDp0b1qkVFQayiOQEhYPWrRdUB/3BZBquC9aw3fWUy/4DWtt40A6hIJgMM4da60gCEkuSCWesK1i0AIpkl2CtfsbqFmwHzCINt6wWkkMwabCCxZxUCB6LpA8FClqhjqOlfo9kEy15Wp5lFwS+1iQDPfhanNJiqNjHggtMaFQUuGA87WcAE1//uFAUZ+CdAa1AE0yYWBSgggtMkqgEp/IAKOkiucpfL3OY6V7kb+AES7FlRECSBC9jNrna3y93uZpeTHQ2veMdL3vKa97zoTa9617sQDmjABJcBggRMyV6DdEECpeBFLWoxiwc04AfCra9BWNCDBijiwAdugIEVgQivCVgAR9jBDxqACAVb+MIK3t56LTAEBFC4whjGMCIQYdj0esAHIA6xihWMiCSgtwQ9GHGKV6ziEo+XAAuw8IhpTOMvkLcAJ54xj2n8A+Z1dAUQkPGQl9y0jrpBClNgspQRoduMgiABHpaylH8gW4yyAMVa1rJqLToBCHw4zFK+JUXdgAMW7xj/zUuuoUST0GE4a7nCGpZoCCRBYTtrmQgdoOgTfqBkPy8ZEF1eaBAMvWQZ/yAIaqCoB4TMaBUjogfeSqYbslxpSzfAB+sUdKdp7IMARJSiTB21hRVh4R3QtyEWqMEJPDCEJgwAdUYkwIRVjQhgIEIMw+2fBsogCAUY+9gBIIARB0BpRvuAuhcpQAJkcOxqK0AMZQg1WszolRA0G80V/kECwHsRNQSB2tZOt5y/ksWu1GDXfq4wInbw0ow8YRLpTjcEHDDWqrS7K4uAQaWJ0G+M3EAB+M53tfeNhNd9hWBoSYOdHwCMhKrkDlJQuMbXvRgAQJwlLoMzHqpg5I6cQOMa/1+h+BIw5RGXIdEdcUMZUK7wHZzhIl0gwARsYIMadIDbFzmAATxO9KIb3eMmIHdHkvAFKcOgyisxAM0V3gOgK2QER/DA0IuOBQxYfSEGcHBajlBgHiMACF9XGwSmnu8eFIAhXVjB0YvuAaUjBABbn7veAVDEjoBgAQiQ8YiBUQsEBEHZOcEB2/NdBh60VwJ7J7oJXMwgCkhgBzBAgA+kEIeSt4QFi893URRyBrlHnug5SDt6ODCCo3ShAqFPt7YNcoTTF90AhYLlB2JvbSmoniAnsD3Rhx7pTh4B3bxXgCCgbRA15N32Qw92H4eQ/GPv4O0KcYPwjc5xLU6g+sfOvf9CMLD9oq9AkosIAvgVsFWFaKD8RP9pH8Ow/pc35P3wBwD75sgAJKxfofeXf/qXSLsHfmXwew8hgPunRWS3ftLnfgrYR7iwfkGAfQGYfwtoRDWAfMlXbwuBf/CXgSxkATuwfmLnECBYfiI4PwOwdtVXBp63OBH4RBQAe+D3byg4g0bkAeu3A5SHESm4fStoLxu4fgUngxhoRBYABOsnBY6nEUEofEP4Ld9XfWKgAK+Wg0nIQwmwftm0EVFoe1OoLEnAgbHXA4gHhjooPgcHfswHhGsoPCdXfTtgdxcRhqc3hsEyh7HnAPymEngYeXpYKzWQfA7QJIAYh/aiBmY4dQ7gkGlIGIJG9AS8h1dQqIj2ogGxB4MsEYh7N4jBMgQOwHaTMHuKhIlJMVpxEQGKN3Um4BKeqHegmBM5EBgMUAUumG8yEAc5EYtzN4vBcgYnUILV1gJiEARZiEaoOD8MUAIfEABhJwFcMFk64YtHB4wd8YBPZI1Gh40ZxY1F540YBY5EJ44X1QECaIrllQQC2HfltQcfAH8G8IPqpX3bdwDnV188sAJhZ3tYgIDmxQNad3omkIYCtgiQp3cGkAN2uF48UAM5EAsmgHdDZwIhcGoPNhAFgAEawAIhoAFcgJFqERAAOw==",
        "encoding": "base64",
        "path": [
         "value"
        ]
       }
      ],
      "model_module": "@jupyter-widgets/controls",
      "model_module_version": "2.0.0",
      "model_name": "ImageModel",
      "state": {
       "layout": "IPY_MODEL_e7734ee22407445b84600a1588ef97c1"
      }
     },
     "434a567beba14c379058eb36c2825f45": {
      "model_module": "@jupyter-widgets/controls",
      "model_module_version": "2.0.0",
      "model_name": "HBoxModel",
      "state": {
       "children": [
        "IPY_MODEL_c55c2625158b4797b6ce7d27560aec97",
        "IPY_MODEL_ce746af983614bcf867cf879112a6a6e",
        "IPY_MODEL_8acb235ff651417c8421bcde878426d7",
        "IPY_MODEL_820385f0f54842d08cdc0fd6cc275104"
       ],
       "layout": "IPY_MODEL_7af1f3c606d74ae99d5a62a6e395f6f2"
      }
     },
     "43a31fb07b4a4174ad381708b42f6997": {
      "model_module": "@jupyter-widgets/controls",
      "model_module_version": "2.0.0",
      "model_name": "CheckboxModel",
      "state": {
       "description": "SA-SDQ",
       "disabled": false,
       "layout": "IPY_MODEL_52a228443b2a41bcaff03a48a7cdc2c1",
       "style": "IPY_MODEL_22e3ec09cb4b4b4e8963cd4ccc721091",
       "value": false
      }
     },
     "476cfcb8766b4b258cf7bd822d232e09": {
      "model_module": "@jupyter-widgets/controls",
      "model_module_version": "2.0.0",
      "model_name": "CheckboxModel",
      "state": {
       "description": "Wisconsin Q",
       "disabled": false,
       "layout": "IPY_MODEL_23cd4183203b46dfadb32c2602ca320d",
       "style": "IPY_MODEL_56d8157198f84fceb01f9eaa7def6676",
       "value": false
      }
     },
     "48148f4887e34ea28c4e537be379f05b": {
      "model_module": "@jupyter-widgets/base",
      "model_module_version": "2.0.0",
      "model_name": "LayoutModel",
      "state": {}
     },
     "483afbee9c04484094b30e57ccca5e9a": {
      "model_module": "@jupyter-widgets/controls",
      "model_module_version": "2.0.0",
      "model_name": "HBoxModel",
      "state": {
       "children": [
        "IPY_MODEL_d606ff08fcb340c9892cb5631ceeed48",
        "IPY_MODEL_a7568811e4f24eb785a658b01a9599a4"
       ],
       "layout": "IPY_MODEL_29f8d2177b924c00b471b0c6b7491061"
      }
     },
     "4a98475e2c024065bfc0c84d37547b14": {
      "model_module": "@jupyter-widgets/controls",
      "model_module_version": "2.0.0",
      "model_name": "ToggleButtonsStyleModel",
      "state": {
       "button_width": "",
       "description_width": ""
      }
     },
     "4d84ef513723423ca0a69e0a0bab32dd": {
      "model_module": "@jupyter-widgets/base",
      "model_module_version": "2.0.0",
      "model_name": "LayoutModel",
      "state": {
       "grid_gap": "20px"
      }
     },
     "4dfaa24711944f288b4290eb7ba723cc": {
      "model_module": "@jupyter-widgets/output",
      "model_module_version": "1.0.0",
      "model_name": "OutputModel",
      "state": {
       "layout": "IPY_MODEL_67a70daa11774e79a639662cb4b8d748"
      }
     },
     "5059873c2701446685ab13eb80ff9c0f": {
      "model_module": "@jupyter-widgets/base",
      "model_module_version": "2.0.0",
      "model_name": "LayoutModel",
      "state": {}
     },
     "523f2a849de6400c80d55af3e537e097": {
      "model_module": "@jupyter-widgets/controls",
      "model_module_version": "2.0.0",
      "model_name": "CheckboxModel",
      "state": {
       "description": "NoSAS",
       "disabled": false,
       "layout": "IPY_MODEL_8e837b883a5d4a1ab8e8c79c55754ab0",
       "style": "IPY_MODEL_b7a44c9b69da431daf2a681910e14056",
       "value": false
      }
     },
     "52a228443b2a41bcaff03a48a7cdc2c1": {
      "model_module": "@jupyter-widgets/base",
      "model_module_version": "2.0.0",
      "model_name": "LayoutModel",
      "state": {}
     },
     "55847160a23f4925810d4f1776edc59e": {
      "model_module": "@jupyter-widgets/controls",
      "model_module_version": "2.0.0",
      "model_name": "CheckboxStyleModel",
      "state": {
       "description_width": ""
      }
     },
     "56d8157198f84fceb01f9eaa7def6676": {
      "model_module": "@jupyter-widgets/controls",
      "model_module_version": "2.0.0",
      "model_name": "CheckboxStyleModel",
      "state": {
       "description_width": ""
      }
     },
     "56ec762f941b418e872ab1ac496d8136": {
      "model_module": "@jupyter-widgets/controls",
      "model_module_version": "2.0.0",
      "model_name": "GridBoxModel",
      "state": {
       "children": [
        "IPY_MODEL_014525f9ec0148a3bd40692e7e4f3a9c",
        "IPY_MODEL_c90e3938618e4ca49c839cc9cce06ed2",
        "IPY_MODEL_6623c4c5b0894e47a6018ab39f927443",
        "IPY_MODEL_d52c146f35d64cf3a75791c91de93ef8",
        "IPY_MODEL_b7dcca33b5a44329b371e42ac30045e8",
        "IPY_MODEL_6fd4a3c7964640b786efc45d0da95a64",
        "IPY_MODEL_96c0bca4ea54411ab288ad5fb0da6b08"
       ],
       "layout": "IPY_MODEL_b6be9763f6da4c33ac83c0506a40b59c"
      }
     },
     "5aa78067164f47f2bc09c8a2e98ddf1a": {
      "model_module": "@jupyter-widgets/controls",
      "model_module_version": "2.0.0",
      "model_name": "ButtonStyleModel",
      "state": {
       "font_family": null,
       "font_size": null,
       "font_style": null,
       "font_variant": null,
       "font_weight": null,
       "text_color": null,
       "text_decoration": null
      }
     },
     "5dc34fb794684dc8b38ab6adcc082099": {
      "model_module": "@jupyter-widgets/base",
      "model_module_version": "2.0.0",
      "model_name": "LayoutModel",
      "state": {
       "align_items": "flex-start",
       "grid_gap": "10px",
       "overflow": "visible",
       "width": "max-content"
      }
     },
     "5deaef1f52c14c83b47f8d5f861ad99c": {
      "model_module": "@jupyter-widgets/base",
      "model_module_version": "2.0.0",
      "model_name": "LayoutModel",
      "state": {}
     },
     "5e07eb419f1a449ea127a61a6cc87f24": {
      "model_module": "@jupyter-widgets/base",
      "model_module_version": "2.0.0",
      "model_name": "LayoutModel",
      "state": {}
     },
     "5fc54f0a83e149d9af454537a1fa4b9a": {
      "model_module": "@jupyter-widgets/base",
      "model_module_version": "2.0.0",
      "model_name": "LayoutModel",
      "state": {}
     },
     "615a8a217f5e48c58860ccfe977b4b5e": {
      "model_module": "@jupyter-widgets/base",
      "model_module_version": "2.0.0",
      "model_name": "LayoutModel",
      "state": {
       "grid_gap": "10px",
       "width": "100%"
      }
     },
     "6623c4c5b0894e47a6018ab39f927443": {
      "model_module": "@jupyter-widgets/controls",
      "model_module_version": "2.0.0",
      "model_name": "CheckboxModel",
      "state": {
       "description": "BDI",
       "disabled": false,
       "layout": "IPY_MODEL_5059873c2701446685ab13eb80ff9c0f",
       "style": "IPY_MODEL_1d9a2df277a64c17b19e6a818e973f51",
       "value": false
      }
     },
     "66feb491f1e2474094381dd834a306b2": {
      "model_module": "@jupyter-widgets/controls",
      "model_module_version": "2.0.0",
      "model_name": "DescriptionStyleModel",
      "state": {
       "description_width": ""
      }
     },
     "679a6858c85f476b9b487479739e0c99": {
      "model_module": "@jupyter-widgets/output",
      "model_module_version": "1.0.0",
      "model_name": "OutputModel",
      "state": {
       "layout": "IPY_MODEL_ef5b327e1a574746bc4f2335cc9d4b0a"
      }
     },
     "67a70daa11774e79a639662cb4b8d748": {
      "model_module": "@jupyter-widgets/base",
      "model_module_version": "2.0.0",
      "model_name": "LayoutModel",
      "state": {}
     },
     "6975f4e453b84b93a59655d9bc5d9d9f": {
      "model_module": "@jupyter-widgets/base",
      "model_module_version": "2.0.0",
      "model_name": "LayoutModel",
      "state": {
       "align_items": "flex-start",
       "grid_gap": "10px",
       "overflow": "visible",
       "width": "max-content"
      }
     },
     "6fd4a3c7964640b786efc45d0da95a64": {
      "model_module": "@jupyter-widgets/controls",
      "model_module_version": "2.0.0",
      "model_name": "CheckboxModel",
      "state": {
       "description": "MADRS",
       "disabled": false,
       "layout": "IPY_MODEL_defbccda75db486897cf30f06aeca4f8",
       "style": "IPY_MODEL_d1ac60500eb54e6797e85d26734c1ecc",
       "value": false
      }
     },
     "772de200465e4e299a97606ba2528d86": {
      "model_module": "@jupyter-widgets/base",
      "model_module_version": "2.0.0",
      "model_name": "LayoutModel",
      "state": {
       "justify_content": "flex-start",
       "width": "100%"
      }
     },
     "77c87a546d4746898c37e1e31586d619": {
      "model_module": "@jupyter-widgets/base",
      "model_module_version": "2.0.0",
      "model_name": "LayoutModel",
      "state": {
       "height": "15px",
       "visibility": "hidden",
       "width": "15px"
      }
     },
     "798e0263f7054aa0910015492d4eaf8f": {
      "model_module": "@jupyter-widgets/base",
      "model_module_version": "2.0.0",
      "model_name": "LayoutModel",
      "state": {}
     },
     "7999ed79061a4d3f9458f69210e5a2e4": {
      "model_module": "@jupyter-widgets/base",
      "model_module_version": "2.0.0",
      "model_name": "LayoutModel",
      "state": {}
     },
     "7a800b1e66ba45748612b91b36e0f36c": {
      "model_module": "@jupyter-widgets/controls",
      "model_module_version": "2.0.0",
      "model_name": "CheckboxStyleModel",
      "state": {
       "description_width": ""
      }
     },
     "7ab0aba7a19541ce9f930599c9dbe1b2": {
      "model_module": "@jupyter-widgets/controls",
      "model_module_version": "2.0.0",
      "model_name": "CheckboxStyleModel",
      "state": {
       "description_width": ""
      }
     },
     "7af1f3c606d74ae99d5a62a6e395f6f2": {
      "model_module": "@jupyter-widgets/base",
      "model_module_version": "2.0.0",
      "model_name": "LayoutModel",
      "state": {
       "align_items": "center",
       "grid_gap": "10px",
       "justify_content": "flex-start",
       "width": "100%"
      }
     },
     "7af52de38eab4d27ad360cbd968764c1": {
      "model_module": "@jupyter-widgets/controls",
      "model_module_version": "2.0.0",
      "model_name": "CheckboxStyleModel",
      "state": {
       "description_width": ""
      }
     },
     "7b4247bff746457495a07f0e6db25dd6": {
      "model_module": "@jupyter-widgets/base",
      "model_module_version": "2.0.0",
      "model_name": "LayoutModel",
      "state": {}
     },
     "7ce748789f35447e9f9a30745d2c51db": {
      "model_module": "@jupyter-widgets/controls",
      "model_module_version": "2.0.0",
      "model_name": "CheckboxStyleModel",
      "state": {
       "description_width": ""
      }
     },
     "7e2b5fe9d679408789a05db01b53b0c9": {
      "model_module": "@jupyter-widgets/controls",
      "model_module_version": "2.0.0",
      "model_name": "FileUploadModel",
      "state": {
       "accept": ".xsl, .xlsx",
       "description_allow_html": false,
       "layout": "IPY_MODEL_c1fe351bc75944b98adec0a462a6e58a",
       "style": "IPY_MODEL_fc89d1f7244b4b30889898824665c577",
       "tooltip": "Upload your excel file"
      }
     },
     "7e692e24ecc74a9faac796143291586e": {
      "model_module": "@jupyter-widgets/controls",
      "model_module_version": "2.0.0",
      "model_name": "IntSliderModel",
      "state": {
       "behavior": "drag-tap",
       "description": "Max Radius :",
       "layout": "IPY_MODEL_3658b39506d54d1c8e372ab3fbae8397",
       "max": 50,
       "min": 6,
       "style": "IPY_MODEL_971e3b160c5d46b1b58951291219aae7",
       "value": 21
      }
     },
     "7f829a26b2774c28adad4634eca9340a": {
      "model_module": "@jupyter-widgets/output",
      "model_module_version": "1.0.0",
      "model_name": "OutputModel",
      "state": {
       "layout": "IPY_MODEL_8ff07ad67e4d4eabad2ee43c146dcad7",
       "outputs": [
        {
         "data": {
          "text/html": "<div>\n<style scoped>\n    .dataframe tbody tr th:only-of-type {\n        vertical-align: middle;\n    }\n\n    .dataframe tbody tr th {\n        vertical-align: top;\n    }\n\n    .dataframe thead th {\n        text-align: right;\n    }\n</style>\n<table border=\"1\" class=\"dataframe\">\n  <thead>\n    <tr style=\"text-align: right;\">\n      <th></th>\n      <th>Category</th>\n      <th>Subcategory</th>\n      <th>Ab</th>\n      <th>Symptom</th>\n      <th>IDS30</th>\n      <th>BDI</th>\n      <th>SDS</th>\n      <th>HRSD</th>\n      <th>CESD</th>\n      <th>QIDS16</th>\n      <th>MADRS</th>\n    </tr>\n  </thead>\n  <tbody>\n    <tr>\n      <th>0</th>\n      <td>NaN</td>\n      <td>NaN</td>\n      <td>S01</td>\n      <td>Early insomnia</td>\n      <td>2</td>\n      <td>1</td>\n      <td>1</td>\n      <td>2</td>\n      <td>1</td>\n      <td>1</td>\n      <td>1</td>\n    </tr>\n    <tr>\n      <th>1</th>\n      <td>NaN</td>\n      <td>NaN</td>\n      <td>S02</td>\n      <td>Middle insomnia</td>\n      <td>2</td>\n      <td>1</td>\n      <td>1</td>\n      <td>2</td>\n      <td>1</td>\n      <td>1</td>\n      <td>1</td>\n    </tr>\n    <tr>\n      <th>2</th>\n      <td>NaN</td>\n      <td>NaN</td>\n      <td>S03</td>\n      <td>Late insomnia</td>\n      <td>2</td>\n      <td>1</td>\n      <td>1</td>\n      <td>2</td>\n      <td>1</td>\n      <td>1</td>\n      <td>1</td>\n    </tr>\n    <tr>\n      <th>3</th>\n      <td>NaN</td>\n      <td>NaN</td>\n      <td>S04</td>\n      <td>Hypersomnia</td>\n      <td>2</td>\n      <td>1</td>\n      <td>0</td>\n      <td>0</td>\n      <td>0</td>\n      <td>1</td>\n      <td>0</td>\n    </tr>\n    <tr>\n      <th>4</th>\n      <td>NaN</td>\n      <td>NaN</td>\n      <td>S05</td>\n      <td>Sad mood</td>\n      <td>2</td>\n      <td>2</td>\n      <td>2</td>\n      <td>2</td>\n      <td>2</td>\n      <td>2</td>\n      <td>2</td>\n    </tr>\n  </tbody>\n</table>\n</div>",
          "text/plain": "   Category  Subcategory   Ab          Symptom  IDS30  BDI  SDS  HRSD  CESD  \\\n0       NaN          NaN  S01   Early insomnia      2    1    1     2     1   \n1       NaN          NaN  S02  Middle insomnia      2    1    1     2     1   \n2       NaN          NaN  S03    Late insomnia      2    1    1     2     1   \n3       NaN          NaN  S04      Hypersomnia      2    1    0     0     0   \n4       NaN          NaN  S05         Sad mood      2    2    2     2     2   \n\n   QIDS16  MADRS  \n0       1      1  \n1       1      1  \n2       1      1  \n3       1      0  \n4       2      2  "
         },
         "metadata": {},
         "output_type": "display_data"
        },
        {
         "data": {
          "text/html": "<div>\n<style scoped>\n    .dataframe tbody tr th:only-of-type {\n        vertical-align: middle;\n    }\n\n    .dataframe tbody tr th {\n        vertical-align: top;\n    }\n\n    .dataframe thead th {\n        text-align: right;\n    }\n</style>\n<table border=\"1\" class=\"dataframe\">\n  <thead>\n    <tr style=\"text-align: right;\">\n      <th></th>\n      <th>Category</th>\n      <th>Subcategory</th>\n      <th>Ab</th>\n      <th>Symptom</th>\n      <th>IDS30</th>\n      <th>BDI</th>\n      <th>SDS</th>\n      <th>HRSD</th>\n      <th>CESD</th>\n      <th>QIDS16</th>\n      <th>MADRS</th>\n      <th>sum_symptoms</th>\n    </tr>\n  </thead>\n  <tbody>\n    <tr>\n      <th>0</th>\n      <td>NaN</td>\n      <td>NaN</td>\n      <td>S01</td>\n      <td>Early insomnia</td>\n      <td>2</td>\n      <td>1</td>\n      <td>1</td>\n      <td>2</td>\n      <td>1</td>\n      <td>1</td>\n      <td>1</td>\n      <td>7</td>\n    </tr>\n    <tr>\n      <th>1</th>\n      <td>NaN</td>\n      <td>NaN</td>\n      <td>S02</td>\n      <td>Middle insomnia</td>\n      <td>2</td>\n      <td>1</td>\n      <td>1</td>\n      <td>2</td>\n      <td>1</td>\n      <td>1</td>\n      <td>1</td>\n      <td>7</td>\n    </tr>\n    <tr>\n      <th>2</th>\n      <td>NaN</td>\n      <td>NaN</td>\n      <td>S03</td>\n      <td>Late insomnia</td>\n      <td>2</td>\n      <td>1</td>\n      <td>1</td>\n      <td>2</td>\n      <td>1</td>\n      <td>1</td>\n      <td>1</td>\n      <td>7</td>\n    </tr>\n    <tr>\n      <th>4</th>\n      <td>NaN</td>\n      <td>NaN</td>\n      <td>S05</td>\n      <td>Sad mood</td>\n      <td>2</td>\n      <td>2</td>\n      <td>2</td>\n      <td>2</td>\n      <td>2</td>\n      <td>2</td>\n      <td>2</td>\n      <td>7</td>\n    </tr>\n    <tr>\n      <th>11</th>\n      <td>NaN</td>\n      <td>NaN</td>\n      <td>S12</td>\n      <td>Appetite decreas</td>\n      <td>1</td>\n      <td>1</td>\n      <td>1</td>\n      <td>2</td>\n      <td>2</td>\n      <td>1</td>\n      <td>2</td>\n      <td>7</td>\n    </tr>\n  </tbody>\n</table>\n</div>",
          "text/plain": "    Category  Subcategory   Ab           Symptom  IDS30  BDI  SDS  HRSD  CESD  \\\n0        NaN          NaN  S01    Early insomnia      2    1    1     2     1   \n1        NaN          NaN  S02   Middle insomnia      2    1    1     2     1   \n2        NaN          NaN  S03     Late insomnia      2    1    1     2     1   \n4        NaN          NaN  S05          Sad mood      2    2    2     2     2   \n11       NaN          NaN  S12  Appetite decreas      1    1    1     2     2   \n\n    QIDS16  MADRS  sum_symptoms  \n0        1      1             7  \n1        1      1             7  \n2        1      1             7  \n4        2      2             7  \n11       1      2             7  "
         },
         "metadata": {},
         "output_type": "display_data"
        }
       ]
      }
     },
     "80451ffbcb4440eaadbeaf6494c3b4d9": {
      "model_module": "@jupyter-widgets/controls",
      "model_module_version": "2.0.0",
      "model_name": "CheckboxStyleModel",
      "state": {
       "description_width": ""
      }
     },
     "81f38b3c187c4fe496eee867382c6987": {
      "model_module": "@jupyter-widgets/base",
      "model_module_version": "2.0.0",
      "model_name": "LayoutModel",
      "state": {}
     },
     "820385f0f54842d08cdc0fd6cc275104": {
      "model_module": "@jupyter-widgets/output",
      "model_module_version": "1.0.0",
      "model_name": "OutputModel",
      "state": {
       "layout": "IPY_MODEL_a170f36aec1d4922b0808cd93f0c2f7c"
      }
     },
     "85e17137d508474bb6e0a347067c6435": {
      "model_module": "jupyterlab-plotly",
      "model_module_version": "^5.13.0",
      "model_name": "FigureModel",
      "state": {
       "_config": {
        "editSelection": false,
        "plotlyServerURL": "https://plot.ly"
       },
       "_data": [
        {
         "alignmentgroup": "True",
         "hovertemplate": "Symptom=%{x}<br>Number of questionnaires=%{marker.color}<extra></extra>",
         "legendgroup": "",
         "marker": {
          "color": [
           7,
           7,
           7,
           7,
           7,
           7,
           6,
           6,
           6,
           6,
           5,
           5,
           4,
           4,
           4,
           4,
           4,
           4,
           4,
           3,
           3,
           3,
           3,
           3,
           3,
           3,
           2,
           2,
           2,
           2,
           2,
           1,
           1,
           1,
           1,
           1,
           1,
           1,
           1,
           1,
           1,
           1,
           1,
           1,
           1,
           1,
           1,
           1,
           1,
           1,
           1,
           1
          ],
          "coloraxis": "coloraxis",
          "pattern": {
           "shape": ""
          }
         },
         "name": "",
         "offsetgroup": "",
         "orientation": "v",
         "showlegend": false,
         "textposition": "auto",
         "type": "bar",
         "uid": "b294ea97-0ff2-4d3c-9c46-8c20b6e649c2",
         "x": [
          "Early insomnia",
          "Middle insomnia",
          "Late insomnia",
          "Sad mood",
          "Appetite decreas",
          "Tiredness, fatigue",
          "Concentration problems",
          "Suicidal ideation",
          "Loss of pleasure",
          "Loss of energy ",
          "Pessimism / hopeful about future",
          "Psychomotor agitation",
          "Irritable mood",
          "Appetite increase",
          "Weight decrease",
          "Indescisiveness",
          "Guilt",
          "Loss of interest",
          "Decreased libido",
          "Hypersomnia",
          "Anxious  / fearful mood",
          "Worthlessness",
          "Psychomotor retardation",
          "Sympathetic arousal (palpitations ,tremors, tinnitus, chest pain)",
          "Gastrointestinal problems (constipation, diarrhea)",
          "Crying",
          "Panic/phobic symptoms",
          "Diurnal variation",
          "Weight increase",
          "Past failure (I am a total failure as a person)",
          "Everything I do is an effort",
          "Mood reactivity ",
          "Grief",
          "Somatic complaints (pain, headaches, heaviness of limbs)",
          "Interpersonal sensitivity",
          "Leaden paralysis",
          "Punishment feelings",
          "Self-dislike",
          "Self-criticalness (blaming oneself for bad things that happen)",
          "Lonely",
          "Talked less than usual",
          "People were unfriendly",
          "People disliked me",
          "Bothered by things that usually don't bother me",
          "Feeling as good as other people+",
          "Feeling Happy+",
          "I am useful and needed",
          "My life is pretty full",
          "Inner tension",
          "Inability to feel",
          "Hypochondriasis",
          "Loss of insight"
         ],
         "xaxis": "x",
         "y": [
          7,
          7,
          7,
          7,
          7,
          7,
          6,
          6,
          6,
          6,
          5,
          5,
          4,
          4,
          4,
          4,
          4,
          4,
          4,
          3,
          3,
          3,
          3,
          3,
          3,
          3,
          2,
          2,
          2,
          2,
          2,
          1,
          1,
          1,
          1,
          1,
          1,
          1,
          1,
          1,
          1,
          1,
          1,
          1,
          1,
          1,
          1,
          1,
          1,
          1,
          1,
          1
         ],
         "yaxis": "y"
        }
       ],
       "_js2py_pointsCallback": {},
       "_js2py_restyle": {},
       "_js2py_update": {},
       "_last_layout_edit_id": 2,
       "_last_trace_edit_id": 2,
       "_layout": {
        "autosize": true,
        "barmode": "relative",
        "coloraxis": {
         "colorbar": {
          "title": {
           "text": "Number of questionnaires"
          }
         },
         "colorscale": [
          [
           0,
           "#0d0887"
          ],
          [
           0.1111111111111111,
           "#46039f"
          ],
          [
           0.2222222222222222,
           "#7201a8"
          ],
          [
           0.3333333333333333,
           "#9c179e"
          ],
          [
           0.4444444444444444,
           "#bd3786"
          ],
          [
           0.5555555555555556,
           "#d8576b"
          ],
          [
           0.6666666666666666,
           "#ed7953"
          ],
          [
           0.7777777777777778,
           "#fb9f3a"
          ],
          [
           0.8888888888888888,
           "#fdca26"
          ],
          [
           1,
           "#f0f921"
          ]
         ]
        },
        "height": 600,
        "legend": {
         "tracegroupgap": 0
        },
        "margin": {
         "t": 60
        },
        "template": {
         "data": {
          "bar": [
           {
            "error_x": {
             "color": "#2a3f5f"
            },
            "error_y": {
             "color": "#2a3f5f"
            },
            "marker": {
             "line": {
              "color": "#E5ECF6",
              "width": 0.5
             },
             "pattern": {
              "fillmode": "overlay",
              "size": 10,
              "solidity": 0.2
             }
            },
            "type": "bar"
           }
          ],
          "barpolar": [
           {
            "marker": {
             "line": {
              "color": "#E5ECF6",
              "width": 0.5
             },
             "pattern": {
              "fillmode": "overlay",
              "size": 10,
              "solidity": 0.2
             }
            },
            "type": "barpolar"
           }
          ],
          "carpet": [
           {
            "aaxis": {
             "endlinecolor": "#2a3f5f",
             "gridcolor": "white",
             "linecolor": "white",
             "minorgridcolor": "white",
             "startlinecolor": "#2a3f5f"
            },
            "baxis": {
             "endlinecolor": "#2a3f5f",
             "gridcolor": "white",
             "linecolor": "white",
             "minorgridcolor": "white",
             "startlinecolor": "#2a3f5f"
            },
            "type": "carpet"
           }
          ],
          "choropleth": [
           {
            "colorbar": {
             "outlinewidth": 0,
             "ticks": ""
            },
            "type": "choropleth"
           }
          ],
          "contour": [
           {
            "colorbar": {
             "outlinewidth": 0,
             "ticks": ""
            },
            "colorscale": [
             [
              0,
              "#0d0887"
             ],
             [
              0.1111111111111111,
              "#46039f"
             ],
             [
              0.2222222222222222,
              "#7201a8"
             ],
             [
              0.3333333333333333,
              "#9c179e"
             ],
             [
              0.4444444444444444,
              "#bd3786"
             ],
             [
              0.5555555555555556,
              "#d8576b"
             ],
             [
              0.6666666666666666,
              "#ed7953"
             ],
             [
              0.7777777777777778,
              "#fb9f3a"
             ],
             [
              0.8888888888888888,
              "#fdca26"
             ],
             [
              1,
              "#f0f921"
             ]
            ],
            "type": "contour"
           }
          ],
          "contourcarpet": [
           {
            "colorbar": {
             "outlinewidth": 0,
             "ticks": ""
            },
            "type": "contourcarpet"
           }
          ],
          "heatmap": [
           {
            "colorbar": {
             "outlinewidth": 0,
             "ticks": ""
            },
            "colorscale": [
             [
              0,
              "#0d0887"
             ],
             [
              0.1111111111111111,
              "#46039f"
             ],
             [
              0.2222222222222222,
              "#7201a8"
             ],
             [
              0.3333333333333333,
              "#9c179e"
             ],
             [
              0.4444444444444444,
              "#bd3786"
             ],
             [
              0.5555555555555556,
              "#d8576b"
             ],
             [
              0.6666666666666666,
              "#ed7953"
             ],
             [
              0.7777777777777778,
              "#fb9f3a"
             ],
             [
              0.8888888888888888,
              "#fdca26"
             ],
             [
              1,
              "#f0f921"
             ]
            ],
            "type": "heatmap"
           }
          ],
          "heatmapgl": [
           {
            "colorbar": {
             "outlinewidth": 0,
             "ticks": ""
            },
            "colorscale": [
             [
              0,
              "#0d0887"
             ],
             [
              0.1111111111111111,
              "#46039f"
             ],
             [
              0.2222222222222222,
              "#7201a8"
             ],
             [
              0.3333333333333333,
              "#9c179e"
             ],
             [
              0.4444444444444444,
              "#bd3786"
             ],
             [
              0.5555555555555556,
              "#d8576b"
             ],
             [
              0.6666666666666666,
              "#ed7953"
             ],
             [
              0.7777777777777778,
              "#fb9f3a"
             ],
             [
              0.8888888888888888,
              "#fdca26"
             ],
             [
              1,
              "#f0f921"
             ]
            ],
            "type": "heatmapgl"
           }
          ],
          "histogram": [
           {
            "marker": {
             "pattern": {
              "fillmode": "overlay",
              "size": 10,
              "solidity": 0.2
             }
            },
            "type": "histogram"
           }
          ],
          "histogram2d": [
           {
            "colorbar": {
             "outlinewidth": 0,
             "ticks": ""
            },
            "colorscale": [
             [
              0,
              "#0d0887"
             ],
             [
              0.1111111111111111,
              "#46039f"
             ],
             [
              0.2222222222222222,
              "#7201a8"
             ],
             [
              0.3333333333333333,
              "#9c179e"
             ],
             [
              0.4444444444444444,
              "#bd3786"
             ],
             [
              0.5555555555555556,
              "#d8576b"
             ],
             [
              0.6666666666666666,
              "#ed7953"
             ],
             [
              0.7777777777777778,
              "#fb9f3a"
             ],
             [
              0.8888888888888888,
              "#fdca26"
             ],
             [
              1,
              "#f0f921"
             ]
            ],
            "type": "histogram2d"
           }
          ],
          "histogram2dcontour": [
           {
            "colorbar": {
             "outlinewidth": 0,
             "ticks": ""
            },
            "colorscale": [
             [
              0,
              "#0d0887"
             ],
             [
              0.1111111111111111,
              "#46039f"
             ],
             [
              0.2222222222222222,
              "#7201a8"
             ],
             [
              0.3333333333333333,
              "#9c179e"
             ],
             [
              0.4444444444444444,
              "#bd3786"
             ],
             [
              0.5555555555555556,
              "#d8576b"
             ],
             [
              0.6666666666666666,
              "#ed7953"
             ],
             [
              0.7777777777777778,
              "#fb9f3a"
             ],
             [
              0.8888888888888888,
              "#fdca26"
             ],
             [
              1,
              "#f0f921"
             ]
            ],
            "type": "histogram2dcontour"
           }
          ],
          "mesh3d": [
           {
            "colorbar": {
             "outlinewidth": 0,
             "ticks": ""
            },
            "type": "mesh3d"
           }
          ],
          "parcoords": [
           {
            "line": {
             "colorbar": {
              "outlinewidth": 0,
              "ticks": ""
             }
            },
            "type": "parcoords"
           }
          ],
          "pie": [
           {
            "automargin": true,
            "type": "pie"
           }
          ],
          "scatter": [
           {
            "fillpattern": {
             "fillmode": "overlay",
             "size": 10,
             "solidity": 0.2
            },
            "type": "scatter"
           }
          ],
          "scatter3d": [
           {
            "line": {
             "colorbar": {
              "outlinewidth": 0,
              "ticks": ""
             }
            },
            "marker": {
             "colorbar": {
              "outlinewidth": 0,
              "ticks": ""
             }
            },
            "type": "scatter3d"
           }
          ],
          "scattercarpet": [
           {
            "marker": {
             "colorbar": {
              "outlinewidth": 0,
              "ticks": ""
             }
            },
            "type": "scattercarpet"
           }
          ],
          "scattergeo": [
           {
            "marker": {
             "colorbar": {
              "outlinewidth": 0,
              "ticks": ""
             }
            },
            "type": "scattergeo"
           }
          ],
          "scattergl": [
           {
            "marker": {
             "colorbar": {
              "outlinewidth": 0,
              "ticks": ""
             }
            },
            "type": "scattergl"
           }
          ],
          "scattermapbox": [
           {
            "marker": {
             "colorbar": {
              "outlinewidth": 0,
              "ticks": ""
             }
            },
            "type": "scattermapbox"
           }
          ],
          "scatterpolar": [
           {
            "marker": {
             "colorbar": {
              "outlinewidth": 0,
              "ticks": ""
             }
            },
            "type": "scatterpolar"
           }
          ],
          "scatterpolargl": [
           {
            "marker": {
             "colorbar": {
              "outlinewidth": 0,
              "ticks": ""
             }
            },
            "type": "scatterpolargl"
           }
          ],
          "scatterternary": [
           {
            "marker": {
             "colorbar": {
              "outlinewidth": 0,
              "ticks": ""
             }
            },
            "type": "scatterternary"
           }
          ],
          "surface": [
           {
            "colorbar": {
             "outlinewidth": 0,
             "ticks": ""
            },
            "colorscale": [
             [
              0,
              "#0d0887"
             ],
             [
              0.1111111111111111,
              "#46039f"
             ],
             [
              0.2222222222222222,
              "#7201a8"
             ],
             [
              0.3333333333333333,
              "#9c179e"
             ],
             [
              0.4444444444444444,
              "#bd3786"
             ],
             [
              0.5555555555555556,
              "#d8576b"
             ],
             [
              0.6666666666666666,
              "#ed7953"
             ],
             [
              0.7777777777777778,
              "#fb9f3a"
             ],
             [
              0.8888888888888888,
              "#fdca26"
             ],
             [
              1,
              "#f0f921"
             ]
            ],
            "type": "surface"
           }
          ],
          "table": [
           {
            "cells": {
             "fill": {
              "color": "#EBF0F8"
             },
             "line": {
              "color": "white"
             }
            },
            "header": {
             "fill": {
              "color": "#C8D4E3"
             },
             "line": {
              "color": "white"
             }
            },
            "type": "table"
           }
          ]
         },
         "layout": {
          "annotationdefaults": {
           "arrowcolor": "#2a3f5f",
           "arrowhead": 0,
           "arrowwidth": 1
          },
          "autotypenumbers": "strict",
          "coloraxis": {
           "colorbar": {
            "outlinewidth": 0,
            "ticks": ""
           }
          },
          "colorscale": {
           "diverging": [
            [
             0,
             "#8e0152"
            ],
            [
             0.1,
             "#c51b7d"
            ],
            [
             0.2,
             "#de77ae"
            ],
            [
             0.3,
             "#f1b6da"
            ],
            [
             0.4,
             "#fde0ef"
            ],
            [
             0.5,
             "#f7f7f7"
            ],
            [
             0.6,
             "#e6f5d0"
            ],
            [
             0.7,
             "#b8e186"
            ],
            [
             0.8,
             "#7fbc41"
            ],
            [
             0.9,
             "#4d9221"
            ],
            [
             1,
             "#276419"
            ]
           ],
           "sequential": [
            [
             0,
             "#0d0887"
            ],
            [
             0.1111111111111111,
             "#46039f"
            ],
            [
             0.2222222222222222,
             "#7201a8"
            ],
            [
             0.3333333333333333,
             "#9c179e"
            ],
            [
             0.4444444444444444,
             "#bd3786"
            ],
            [
             0.5555555555555556,
             "#d8576b"
            ],
            [
             0.6666666666666666,
             "#ed7953"
            ],
            [
             0.7777777777777778,
             "#fb9f3a"
            ],
            [
             0.8888888888888888,
             "#fdca26"
            ],
            [
             1,
             "#f0f921"
            ]
           ],
           "sequentialminus": [
            [
             0,
             "#0d0887"
            ],
            [
             0.1111111111111111,
             "#46039f"
            ],
            [
             0.2222222222222222,
             "#7201a8"
            ],
            [
             0.3333333333333333,
             "#9c179e"
            ],
            [
             0.4444444444444444,
             "#bd3786"
            ],
            [
             0.5555555555555556,
             "#d8576b"
            ],
            [
             0.6666666666666666,
             "#ed7953"
            ],
            [
             0.7777777777777778,
             "#fb9f3a"
            ],
            [
             0.8888888888888888,
             "#fdca26"
            ],
            [
             1,
             "#f0f921"
            ]
           ]
          },
          "colorway": [
           "#636efa",
           "#EF553B",
           "#00cc96",
           "#ab63fa",
           "#FFA15A",
           "#19d3f3",
           "#FF6692",
           "#B6E880",
           "#FF97FF",
           "#FECB52"
          ],
          "font": {
           "color": "#2a3f5f"
          },
          "geo": {
           "bgcolor": "white",
           "lakecolor": "white",
           "landcolor": "#E5ECF6",
           "showlakes": true,
           "showland": true,
           "subunitcolor": "white"
          },
          "hoverlabel": {
           "align": "left"
          },
          "hovermode": "closest",
          "mapbox": {
           "style": "light"
          },
          "paper_bgcolor": "white",
          "plot_bgcolor": "#E5ECF6",
          "polar": {
           "angularaxis": {
            "gridcolor": "white",
            "linecolor": "white",
            "ticks": ""
           },
           "bgcolor": "#E5ECF6",
           "radialaxis": {
            "gridcolor": "white",
            "linecolor": "white",
            "ticks": ""
           }
          },
          "scene": {
           "xaxis": {
            "backgroundcolor": "#E5ECF6",
            "gridcolor": "white",
            "gridwidth": 2,
            "linecolor": "white",
            "showbackground": true,
            "ticks": "",
            "zerolinecolor": "white"
           },
           "yaxis": {
            "backgroundcolor": "#E5ECF6",
            "gridcolor": "white",
            "gridwidth": 2,
            "linecolor": "white",
            "showbackground": true,
            "ticks": "",
            "zerolinecolor": "white"
           },
           "zaxis": {
            "backgroundcolor": "#E5ECF6",
            "gridcolor": "white",
            "gridwidth": 2,
            "linecolor": "white",
            "showbackground": true,
            "ticks": "",
            "zerolinecolor": "white"
           }
          },
          "shapedefaults": {
           "line": {
            "color": "#2a3f5f"
           }
          },
          "ternary": {
           "aaxis": {
            "gridcolor": "white",
            "linecolor": "white",
            "ticks": ""
           },
           "baxis": {
            "gridcolor": "white",
            "linecolor": "white",
            "ticks": ""
           },
           "bgcolor": "#E5ECF6",
           "caxis": {
            "gridcolor": "white",
            "linecolor": "white",
            "ticks": ""
           }
          },
          "title": {
           "x": 0.05
          },
          "xaxis": {
           "automargin": true,
           "gridcolor": "white",
           "linecolor": "white",
           "ticks": "",
           "title": {
            "standoff": 15
           },
           "zerolinecolor": "white",
           "zerolinewidth": 2
          },
          "yaxis": {
           "automargin": true,
           "gridcolor": "white",
           "linecolor": "white",
           "ticks": "",
           "title": {
            "standoff": 15
           },
           "zerolinecolor": "white",
           "zerolinewidth": 2
          }
         }
        },
        "xaxis": {
         "anchor": "y",
         "categoryarray": [
          "Early insomnia",
          "Middle insomnia",
          "Late insomnia",
          "Sad mood",
          "Appetite decreas",
          "Tiredness, fatigue",
          "Concentration problems",
          "Suicidal ideation",
          "Loss of pleasure",
          "Loss of energy ",
          "Pessimism / hopeful about future",
          "Psychomotor agitation",
          "Irritable mood",
          "Appetite increase",
          "Weight decrease",
          "Indescisiveness",
          "Guilt",
          "Loss of interest",
          "Decreased libido",
          "Hypersomnia",
          "Anxious  / fearful mood",
          "Worthlessness",
          "Psychomotor retardation",
          "Sympathetic arousal (palpitations ,tremors, tinnitus, chest pain)",
          "Gastrointestinal problems (constipation, diarrhea)",
          "Crying",
          "Panic/phobic symptoms",
          "Diurnal variation",
          "Weight increase",
          "Past failure (I am a total failure as a person)",
          "Everything I do is an effort",
          "Mood reactivity ",
          "Grief",
          "Somatic complaints (pain, headaches, heaviness of limbs)",
          "Interpersonal sensitivity",
          "Leaden paralysis",
          "Punishment feelings",
          "Self-dislike",
          "Self-criticalness (blaming oneself for bad things that happen)",
          "Lonely",
          "Talked less than usual",
          "People were unfriendly",
          "People disliked me",
          "Bothered by things that usually don't bother me",
          "Feeling as good as other people+",
          "Feeling Happy+",
          "I am useful and needed",
          "My life is pretty full",
          "Inner tension",
          "Inability to feel",
          "Hypochondriasis",
          "Loss of insight"
         ],
         "categoryorder": "array",
         "domain": [
          0,
          1
         ],
         "tickangle": -60,
         "title": {
          "text": "Symptom"
         }
        },
        "yaxis": {
         "anchor": "x",
         "domain": [
          0,
          1
         ],
         "title": {
          "text": "Number of questionnaires"
         }
        }
       },
       "_py2js_addTraces": {},
       "_py2js_animate": {},
       "_py2js_deleteTraces": {},
       "_py2js_moveTraces": {},
       "_py2js_relayout": {},
       "_py2js_removeLayoutProps": {},
       "_py2js_removeTraceProps": {},
       "_py2js_restyle": {},
       "_view_count": 0
      }
     },
     "8720ef0415f84e88ab5e76f898c40377": {
      "model_module": "@jupyter-widgets/controls",
      "model_module_version": "2.0.0",
      "model_name": "VBoxModel",
      "state": {
       "children": [
        "IPY_MODEL_0f8cb88ea3e84be5bcb660605e1d6471",
        "IPY_MODEL_2010b430ba8c4f3aaaa166fdb542c8c6",
        "IPY_MODEL_434a567beba14c379058eb36c2825f45"
       ],
       "layout": "IPY_MODEL_6975f4e453b84b93a59655d9bc5d9d9f"
      }
     },
     "8acb235ff651417c8421bcde878426d7": {
      "buffers": [
       {
        "data": "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",
        "encoding": "base64",
        "path": [
         "value"
        ]
       }
      ],
      "model_module": "@jupyter-widgets/controls",
      "model_module_version": "2.0.0",
      "model_name": "ImageModel",
      "state": {
       "layout": "IPY_MODEL_77c87a546d4746898c37e1e31586d619"
      }
     },
     "8ca049288b0d416d8fec33a49b7cfa5e": {
      "model_module": "@jupyter-widgets/controls",
      "model_module_version": "2.0.0",
      "model_name": "CheckboxModel",
      "state": {
       "description": "Berlin",
       "disabled": false,
       "layout": "IPY_MODEL_a570eee6a8d74d3a951ba0eccf9b0fe3",
       "style": "IPY_MODEL_3d71ad3fb5c440f9bbd5f330113d219b",
       "value": false
      }
     },
     "8de6e20f32a64b4fa7fd942f3ee51dd6": {
      "model_module": "@jupyter-widgets/controls",
      "model_module_version": "2.0.0",
      "model_name": "ButtonStyleModel",
      "state": {
       "font_family": null,
       "font_size": null,
       "font_style": null,
       "font_variant": null,
       "font_weight": null,
       "text_color": null,
       "text_decoration": null
      }
     },
     "8e42c2cecbf0475dba23d64da194738b": {
      "model_module": "@jupyter-widgets/controls",
      "model_module_version": "2.0.0",
      "model_name": "CheckboxModel",
      "state": {
       "description": "OSA 50",
       "disabled": false,
       "layout": "IPY_MODEL_906437b1f77d464396b9fa127802ca36",
       "style": "IPY_MODEL_7a800b1e66ba45748612b91b36e0f36c",
       "value": false
      }
     },
     "8e837b883a5d4a1ab8e8c79c55754ab0": {
      "model_module": "@jupyter-widgets/base",
      "model_module_version": "2.0.0",
      "model_name": "LayoutModel",
      "state": {}
     },
     "8ff07ad67e4d4eabad2ee43c146dcad7": {
      "model_module": "@jupyter-widgets/base",
      "model_module_version": "2.0.0",
      "model_name": "LayoutModel",
      "state": {}
     },
     "906437b1f77d464396b9fa127802ca36": {
      "model_module": "@jupyter-widgets/base",
      "model_module_version": "2.0.0",
      "model_name": "LayoutModel",
      "state": {}
     },
     "9079b01d17a24b05902bbcf4798313c3": {
      "model_module": "@jupyter-widgets/controls",
      "model_module_version": "2.0.0",
      "model_name": "CheckboxModel",
      "state": {
       "description": "Haraldsson",
       "disabled": false,
       "layout": "IPY_MODEL_f03c8935602c473eac9ae02c7f5d318d",
       "style": "IPY_MODEL_80451ffbcb4440eaadbeaf6494c3b4d9",
       "value": false
      }
     },
     "90ba2ffce9a34d76b2a6d8deacad7a3d": {
      "model_module": "@jupyter-widgets/base",
      "model_module_version": "2.0.0",
      "model_name": "LayoutModel",
      "state": {}
     },
     "92bcf119d9594d149ca0afabda39d70a": {
      "model_module": "@jupyter-widgets/base",
      "model_module_version": "2.0.0",
      "model_name": "LayoutModel",
      "state": {}
     },
     "96c0bca4ea54411ab288ad5fb0da6b08": {
      "model_module": "@jupyter-widgets/controls",
      "model_module_version": "2.0.0",
      "model_name": "CheckboxModel",
      "state": {
       "description": "HRSD",
       "disabled": false,
       "layout": "IPY_MODEL_e27c822c76f347c2830e7f7c9358ccc1",
       "style": "IPY_MODEL_2ce78b88a45647c391ba109e1d47e2b2",
       "value": false
      }
     },
     "971e3b160c5d46b1b58951291219aae7": {
      "model_module": "@jupyter-widgets/controls",
      "model_module_version": "2.0.0",
      "model_name": "SliderStyleModel",
      "state": {
       "description_width": ""
      }
     },
     "984e942412dc480f9aad14a43a790726": {
      "model_module": "@jupyter-widgets/controls",
      "model_module_version": "2.0.0",
      "model_name": "HBoxModel",
      "state": {
       "children": [
        "IPY_MODEL_ea39b0ef85d74393a774c5360a6b758b",
        "IPY_MODEL_7e2b5fe9d679408789a05db01b53b0c9"
       ],
       "layout": "IPY_MODEL_233b827e9c8046b4a36ac3bb3234d4e8"
      }
     },
     "9dd36e6c088e428abe8e444d3178c13f": {
      "model_module": "@jupyter-widgets/base",
      "model_module_version": "2.0.0",
      "model_name": "LayoutModel",
      "state": {
       "align_items": "center",
       "grid_gap": "10px",
       "justify_content": "flex-start",
       "width": "100%"
      }
     },
     "9e0c34184acb4fdc86e90b141cf5bf6e": {
      "model_module": "@jupyter-widgets/controls",
      "model_module_version": "2.0.0",
      "model_name": "HBoxModel",
      "state": {
       "children": [
        "IPY_MODEL_dd3ab3661273498d8be1d746c0531960"
       ],
       "layout": "IPY_MODEL_772de200465e4e299a97606ba2528d86"
      }
     },
     "9ee3aa6aed614b36b5ea58073b353f08": {
      "model_module": "@jupyter-widgets/output",
      "model_module_version": "1.0.0",
      "model_name": "OutputModel",
      "state": {
       "layout": "IPY_MODEL_a3fa453da99449efb99d150442014bd4"
      }
     },
     "a0d3958b56b94f5d9bffc309194353b5": {
      "model_module": "@jupyter-widgets/base",
      "model_module_version": "2.0.0",
      "model_name": "LayoutModel",
      "state": {}
     },
     "a170f36aec1d4922b0808cd93f0c2f7c": {
      "model_module": "@jupyter-widgets/base",
      "model_module_version": "2.0.0",
      "model_name": "LayoutModel",
      "state": {
       "width": "100%"
      }
     },
     "a1d1316a9404493e8b3d0bec1387b5a5": {
      "model_module": "@jupyter-widgets/controls",
      "model_module_version": "2.0.0",
      "model_name": "HBoxModel",
      "state": {
       "children": [
        "IPY_MODEL_e0c7e8ad77c24500937025358e45e8d1"
       ],
       "layout": "IPY_MODEL_0d5a151df5d34c8aa619e8102e106e72"
      }
     },
     "a3fa453da99449efb99d150442014bd4": {
      "model_module": "@jupyter-widgets/base",
      "model_module_version": "2.0.0",
      "model_name": "LayoutModel",
      "state": {}
     },
     "a46d878c2f06450cad7295889eca90d3": {
      "model_module": "@jupyter-widgets/base",
      "model_module_version": "2.0.0",
      "model_name": "LayoutModel",
      "state": {}
     },
     "a570eee6a8d74d3a951ba0eccf9b0fe3": {
      "model_module": "@jupyter-widgets/base",
      "model_module_version": "2.0.0",
      "model_name": "LayoutModel",
      "state": {}
     },
     "a7568811e4f24eb785a658b01a9599a4": {
      "model_module": "@jupyter-widgets/controls",
      "model_module_version": "2.0.0",
      "model_name": "DropdownModel",
      "state": {
       "_options_labels": [
        "Alphabet",
        "Antique",
        "Bold",
        "D3",
        "Dark2",
        "Dark24",
        "G10",
        "Light24",
        "Pastel",
        "Pastel1",
        "Pastel2",
        "Plotly",
        "Prism",
        "Safe",
        "Set1",
        "Set2",
        "Set3",
        "T10",
        "Vivid"
       ],
       "description": "Color Palette",
       "disabled": true,
       "index": 8,
       "layout": "IPY_MODEL_f985b9e9c74347a6adad885bfd91099d",
       "style": "IPY_MODEL_0a237382622e46ee802f12affcad369b"
      }
     },
     "a8e19fd22f63402ebcb7defd6bd54e93": {
      "model_module": "@jupyter-widgets/controls",
      "model_module_version": "2.0.0",
      "model_name": "CheckboxModel",
      "state": {
       "description": "ASA",
       "disabled": false,
       "layout": "IPY_MODEL_a46d878c2f06450cad7295889eca90d3",
       "style": "IPY_MODEL_b2b46fe54dbb4bba84f12033428bd4c5",
       "value": false
      }
     },
     "af6174f26459433dbc74bf1f08837916": {
      "model_module": "@jupyter-widgets/output",
      "model_module_version": "1.0.0",
      "model_name": "OutputModel",
      "state": {
       "layout": "IPY_MODEL_5fc54f0a83e149d9af454537a1fa4b9a",
       "outputs": [
        {
         "data": {
          "text/html": "<div>\n<style scoped>\n    .dataframe tbody tr th:only-of-type {\n        vertical-align: middle;\n    }\n\n    .dataframe tbody tr th {\n        vertical-align: top;\n    }\n\n    .dataframe thead th {\n        text-align: right;\n    }\n</style>\n<table border=\"1\" class=\"dataframe\">\n  <thead>\n    <tr style=\"text-align: right;\">\n      <th></th>\n      <th>Category</th>\n      <th>Subcategory</th>\n      <th>Ab</th>\n      <th>Symptom</th>\n      <th>IDS30</th>\n      <th>QIDS16</th>\n      <th>BDI</th>\n      <th>CESD</th>\n      <th>SDS</th>\n      <th>MADRS</th>\n      <th>HRSD</th>\n    </tr>\n  </thead>\n  <tbody>\n    <tr>\n      <th>0</th>\n      <td>NaN</td>\n      <td>NaN</td>\n      <td>S01</td>\n      <td>Early insomnia</td>\n      <td>2</td>\n      <td>1</td>\n      <td>1</td>\n      <td>1</td>\n      <td>1</td>\n      <td>1</td>\n      <td>2</td>\n    </tr>\n    <tr>\n      <th>1</th>\n      <td>NaN</td>\n      <td>NaN</td>\n      <td>S02</td>\n      <td>Middle insomnia</td>\n      <td>2</td>\n      <td>1</td>\n      <td>1</td>\n      <td>1</td>\n      <td>1</td>\n      <td>1</td>\n      <td>2</td>\n    </tr>\n    <tr>\n      <th>2</th>\n      <td>NaN</td>\n      <td>NaN</td>\n      <td>S03</td>\n      <td>Late insomnia</td>\n      <td>2</td>\n      <td>1</td>\n      <td>1</td>\n      <td>1</td>\n      <td>1</td>\n      <td>1</td>\n      <td>2</td>\n    </tr>\n    <tr>\n      <th>3</th>\n      <td>NaN</td>\n      <td>NaN</td>\n      <td>S04</td>\n      <td>Hypersomnia</td>\n      <td>2</td>\n      <td>1</td>\n      <td>1</td>\n      <td>0</td>\n      <td>0</td>\n      <td>0</td>\n      <td>0</td>\n    </tr>\n    <tr>\n      <th>4</th>\n      <td>NaN</td>\n      <td>NaN</td>\n      <td>S05</td>\n      <td>Sad mood</td>\n      <td>2</td>\n      <td>2</td>\n      <td>2</td>\n      <td>2</td>\n      <td>2</td>\n      <td>2</td>\n      <td>2</td>\n    </tr>\n  </tbody>\n</table>\n</div>",
          "text/plain": "   Category  Subcategory   Ab          Symptom  IDS30  QIDS16  BDI  CESD  SDS  \\\n0       NaN          NaN  S01   Early insomnia      2       1    1     1    1   \n1       NaN          NaN  S02  Middle insomnia      2       1    1     1    1   \n2       NaN          NaN  S03    Late insomnia      2       1    1     1    1   \n3       NaN          NaN  S04      Hypersomnia      2       1    1     0    0   \n4       NaN          NaN  S05         Sad mood      2       2    2     2    2   \n\n   MADRS  HRSD  \n0      1     2  \n1      1     2  \n2      1     2  \n3      0     0  \n4      2     2  "
         },
         "metadata": {},
         "output_type": "display_data"
        }
       ]
      }
     },
     "b2b46fe54dbb4bba84f12033428bd4c5": {
      "model_module": "@jupyter-widgets/controls",
      "model_module_version": "2.0.0",
      "model_name": "CheckboxStyleModel",
      "state": {
       "description_width": ""
      }
     },
     "b6be9763f6da4c33ac83c0506a40b59c": {
      "model_module": "@jupyter-widgets/base",
      "model_module_version": "2.0.0",
      "model_name": "LayoutModel",
      "state": {
       "grid_template_columns": "repeat(3, 33%)"
      }
     },
     "b710a3713b8449cd8a715afe8998373f": {
      "model_module": "@jupyter-widgets/base",
      "model_module_version": "2.0.0",
      "model_name": "LayoutModel",
      "state": {
       "grid_gap": "5px",
       "justify_content": "flex-start",
       "width": "100%"
      }
     },
     "b7a44c9b69da431daf2a681910e14056": {
      "model_module": "@jupyter-widgets/controls",
      "model_module_version": "2.0.0",
      "model_name": "CheckboxStyleModel",
      "state": {
       "description_width": ""
      }
     },
     "b7dcca33b5a44329b371e42ac30045e8": {
      "model_module": "@jupyter-widgets/controls",
      "model_module_version": "2.0.0",
      "model_name": "CheckboxModel",
      "state": {
       "description": "SDS",
       "disabled": false,
       "layout": "IPY_MODEL_a0d3958b56b94f5d9bffc309194353b5",
       "style": "IPY_MODEL_1315e3d4987549a88e6cb0d58434ab38",
       "value": false
      }
     },
     "b7fa997e2137456193e432f578f1f01a": {
      "model_module": "@jupyter-widgets/base",
      "model_module_version": "2.0.0",
      "model_name": "LayoutModel",
      "state": {
       "grid_gap": "5px",
       "justify_content": "flex-start",
       "width": "100%"
      }
     },
     "be920e0441d0472fae0bdf36eb7b715c": {
      "model_module": "@jupyter-widgets/controls",
      "model_module_version": "2.0.0",
      "model_name": "GridBoxModel",
      "state": {
       "children": [
        "IPY_MODEL_0678544ce1f840c6b2f1077b4d0098ec",
        "IPY_MODEL_523f2a849de6400c80d55af3e537e097",
        "IPY_MODEL_f99034d5a8d8464fab1f8b1fc142f294",
        "IPY_MODEL_d1c4a910a340400e994fa057c1f1acc3",
        "IPY_MODEL_8ca049288b0d416d8fec33a49b7cfa5e",
        "IPY_MODEL_8e42c2cecbf0475dba23d64da194738b",
        "IPY_MODEL_a8e19fd22f63402ebcb7defd6bd54e93",
        "IPY_MODEL_476cfcb8766b4b258cf7bd822d232e09",
        "IPY_MODEL_43a31fb07b4a4174ad381708b42f6997",
        "IPY_MODEL_9079b01d17a24b05902bbcf4798313c3",
        "IPY_MODEL_c7526301c0984413aba830869c8ed3a8"
       ],
       "layout": "IPY_MODEL_13ac02984dfa44c181b2b3de0c64346f"
      }
     },
     "bedd7f1e96c74e34829295da27a1d7ae": {
      "model_module": "@jupyter-widgets/base",
      "model_module_version": "2.0.0",
      "model_name": "LayoutModel",
      "state": {}
     },
     "bf4362481e59480a97912c2c13c6470e": {
      "model_module": "@jupyter-widgets/controls",
      "model_module_version": "2.0.0",
      "model_name": "HBoxModel",
      "state": {
       "children": [
        "IPY_MODEL_238433e6c69d4739a022c641048d38c5",
        "IPY_MODEL_06c0c9491ce84f02bba8215e263b9b22",
        "IPY_MODEL_42eb29b0410b4f03851d223cc3944912",
        "IPY_MODEL_00ddaa4407694bf7851653df6c928429"
       ],
       "layout": "IPY_MODEL_9dd36e6c088e428abe8e444d3178c13f"
      }
     },
     "bf92b0c8cdca4de8a65efb142875bcf6": {
      "model_module": "@jupyter-widgets/controls",
      "model_module_version": "2.0.0",
      "model_name": "VBoxModel",
      "state": {
       "children": [
        "IPY_MODEL_483afbee9c04484094b30e57ccca5e9a",
        "IPY_MODEL_85e17137d508474bb6e0a347067c6435",
        "IPY_MODEL_bf4362481e59480a97912c2c13c6470e"
       ],
       "layout": "IPY_MODEL_4d84ef513723423ca0a69e0a0bab32dd"
      }
     },
     "c1fe351bc75944b98adec0a462a6e58a": {
      "model_module": "@jupyter-widgets/base",
      "model_module_version": "2.0.0",
      "model_name": "LayoutModel",
      "state": {
       "display": "none"
      }
     },
     "c55c2625158b4797b6ce7d27560aec97": {
      "model_module": "@jupyter-widgets/controls",
      "model_module_version": "2.0.0",
      "model_name": "TextModel",
      "state": {
       "layout": "IPY_MODEL_bedd7f1e96c74e34829295da27a1d7ae",
       "placeholder": "File name (figure_example.pdf)",
       "style": "IPY_MODEL_33efafc47fab465b89db0ceac7a334cc",
       "tooltip": "Supported formats: ['png', 'jpg', 'jpeg', 'webp', 'svg', 'pdf', 'eps', 'json']"
      }
     },
     "c7526301c0984413aba830869c8ed3a8": {
      "model_module": "@jupyter-widgets/controls",
      "model_module_version": "2.0.0",
      "model_name": "CheckboxModel",
      "state": {
       "description": "AS",
       "disabled": false,
       "layout": "IPY_MODEL_071ad9705add4c89a0ad7910050a6155",
       "style": "IPY_MODEL_3625978c90ca4a3490f9cae7fffcd89e",
       "value": false
      }
     },
     "c90e3938618e4ca49c839cc9cce06ed2": {
      "model_module": "@jupyter-widgets/controls",
      "model_module_version": "2.0.0",
      "model_name": "CheckboxModel",
      "state": {
       "description": "QIDS16",
       "disabled": false,
       "layout": "IPY_MODEL_92bcf119d9594d149ca0afabda39d70a",
       "style": "IPY_MODEL_7ce748789f35447e9f9a30745d2c51db",
       "value": false
      }
     },
     "cafa31ae6b9b4a31bd08510bf9d5e371": {
      "model_module": "@jupyter-widgets/controls",
      "model_module_version": "2.0.0",
      "model_name": "TextStyleModel",
      "state": {
       "description_width": "",
       "font_size": null,
       "text_color": null
      }
     },
     "cd67bd6c49394508bfbdc8261f7ce7bf": {
      "model_module": "@jupyter-widgets/base",
      "model_module_version": "2.0.0",
      "model_name": "LayoutModel",
      "state": {
       "width": "100%"
      }
     },
     "ce746af983614bcf867cf879112a6a6e": {
      "model_module": "@jupyter-widgets/controls",
      "model_module_version": "2.0.0",
      "model_name": "ButtonModel",
      "state": {
       "description": "Save",
       "disabled": true,
       "icon": "save",
       "layout": "IPY_MODEL_7999ed79061a4d3f9458f69210e5a2e4",
       "style": "IPY_MODEL_095a0a5fa6f346d7ab05399f1f8d5ff3",
       "tooltip": "Click here to save the figure"
      }
     },
     "d073ef5a5f3242e6a7dcb501ced0261a": {
      "model_module": "@jupyter-widgets/base",
      "model_module_version": "2.0.0",
      "model_name": "LayoutModel",
      "state": {}
     },
     "d13d4c09ef6249f4b05813aaaff12f5c": {
      "model_module": "@jupyter-widgets/base",
      "model_module_version": "2.0.0",
      "model_name": "LayoutModel",
      "state": {}
     },
     "d1ac60500eb54e6797e85d26734c1ecc": {
      "model_module": "@jupyter-widgets/controls",
      "model_module_version": "2.0.0",
      "model_name": "CheckboxStyleModel",
      "state": {
       "description_width": ""
      }
     },
     "d1c4a910a340400e994fa057c1f1acc3": {
      "model_module": "@jupyter-widgets/controls",
      "model_module_version": "2.0.0",
      "model_name": "CheckboxModel",
      "state": {
       "description": "STOP-Bang",
       "disabled": false,
       "layout": "IPY_MODEL_5e07eb419f1a449ea127a61a6cc87f24",
       "style": "IPY_MODEL_55847160a23f4925810d4f1776edc59e",
       "value": false
      }
     },
     "d52c146f35d64cf3a75791c91de93ef8": {
      "model_module": "@jupyter-widgets/controls",
      "model_module_version": "2.0.0",
      "model_name": "CheckboxModel",
      "state": {
       "description": "CESD",
       "disabled": false,
       "layout": "IPY_MODEL_81f38b3c187c4fe496eee867382c6987",
       "style": "IPY_MODEL_079bd72d962940e0923f629cd0326741",
       "value": false
      }
     },
     "d606ff08fcb340c9892cb5631ceeed48": {
      "model_module": "@jupyter-widgets/controls",
      "model_module_version": "2.0.0",
      "model_name": "ToggleButtonsModel",
      "state": {
       "_options_labels": [
        "Occurences",
        "Category"
       ],
       "button_style": "",
       "description": "Sort by ",
       "disabled": true,
       "icons": [],
       "index": 0,
       "layout": "IPY_MODEL_e9fd1abf4b864d0088df2be574ce383f",
       "style": "IPY_MODEL_4a98475e2c024065bfc0c84d37547b14",
       "tooltips": [
        "Sort by number of occurences",
        "Sort by category and by occurences"
       ]
      }
     },
     "dd3ab3661273498d8be1d746c0531960": {
      "model_module": "@jupyter-widgets/controls",
      "model_module_version": "2.0.0",
      "model_name": "ButtonModel",
      "state": {
       "description": "Confirm",
       "icon": "check",
       "layout": "IPY_MODEL_90ba2ffce9a34d76b2a6d8deacad7a3d",
       "style": "IPY_MODEL_2cf90519ce1544e08c685ec3cfdaf33f",
       "tooltip": "Click here to confirm your selection"
      }
     },
     "dd82286354a2428d84d62889dcee249d": {
      "model_module": "@jupyter-widgets/base",
      "model_module_version": "2.0.0",
      "model_name": "LayoutModel",
      "state": {}
     },
     "defbccda75db486897cf30f06aeca4f8": {
      "model_module": "@jupyter-widgets/base",
      "model_module_version": "2.0.0",
      "model_name": "LayoutModel",
      "state": {}
     },
     "e0c7e8ad77c24500937025358e45e8d1": {
      "model_module": "@jupyter-widgets/controls",
      "model_module_version": "2.0.0",
      "model_name": "ButtonModel",
      "state": {
       "description": "Generate",
       "icon": "play-circle",
       "layout": "IPY_MODEL_d13d4c09ef6249f4b05813aaaff12f5c",
       "style": "IPY_MODEL_5aa78067164f47f2bc09c8a2e98ddf1a",
       "tooltip": "Generate with the above references"
      }
     },
     "e27c822c76f347c2830e7f7c9358ccc1": {
      "model_module": "@jupyter-widgets/base",
      "model_module_version": "2.0.0",
      "model_name": "LayoutModel",
      "state": {}
     },
     "e7734ee22407445b84600a1588ef97c1": {
      "model_module": "@jupyter-widgets/base",
      "model_module_version": "2.0.0",
      "model_name": "LayoutModel",
      "state": {
       "height": "15px",
       "visibility": "hidden",
       "width": "15px"
      }
     },
     "e9fd1abf4b864d0088df2be574ce383f": {
      "model_module": "@jupyter-widgets/base",
      "model_module_version": "2.0.0",
      "model_name": "LayoutModel",
      "state": {
       "display": "flex",
       "flex_flow": "row",
       "grid_gap": "5px"
      }
     },
     "ea39b0ef85d74393a774c5360a6b758b": {
      "model_module": "@jupyter-widgets/controls",
      "model_module_version": "2.0.0",
      "model_name": "DropdownModel",
      "state": {
       "_options_labels": [
        "Fried2017",
        "Gauld2023_OSAS_content_analysis",
        "Gauld2023_sleep_content_analysis",
        "Custom"
       ],
       "description": "Expérience",
       "index": 0,
       "layout": "IPY_MODEL_18006e09ec414c139123cd9cc124b32f",
       "style": "IPY_MODEL_66feb491f1e2474094381dd834a306b2"
      }
     },
     "ef5b327e1a574746bc4f2335cc9d4b0a": {
      "model_module": "@jupyter-widgets/base",
      "model_module_version": "2.0.0",
      "model_name": "LayoutModel",
      "state": {}
     },
     "f03c8935602c473eac9ae02c7f5d318d": {
      "model_module": "@jupyter-widgets/base",
      "model_module_version": "2.0.0",
      "model_name": "LayoutModel",
      "state": {}
     },
     "f25bdc05deb94a87b5299e162aeabfce": {
      "model_module": "@jupyter-widgets/controls",
      "model_module_version": "2.0.0",
      "model_name": "VBoxModel",
      "state": {
       "children": [
        "IPY_MODEL_56ec762f941b418e872ab1ac496d8136",
        "IPY_MODEL_a1d1316a9404493e8b3d0bec1387b5a5",
        "IPY_MODEL_7f829a26b2774c28adad4634eca9340a"
       ],
       "layout": "IPY_MODEL_5dc34fb794684dc8b38ab6adcc082099"
      }
     },
     "f985b9e9c74347a6adad885bfd91099d": {
      "model_module": "@jupyter-widgets/base",
      "model_module_version": "2.0.0",
      "model_name": "LayoutModel",
      "state": {}
     },
     "f99034d5a8d8464fab1f8b1fc142f294": {
      "model_module": "@jupyter-widgets/controls",
      "model_module_version": "2.0.0",
      "model_name": "CheckboxModel",
      "state": {
       "description": "STOP",
       "disabled": false,
       "layout": "IPY_MODEL_d073ef5a5f3242e6a7dcb501ced0261a",
       "style": "IPY_MODEL_7af52de38eab4d27ad360cbd968764c1",
       "value": false
      }
     },
     "fc89d1f7244b4b30889898824665c577": {
      "model_module": "@jupyter-widgets/controls",
      "model_module_version": "2.0.0",
      "model_name": "ButtonStyleModel",
      "state": {
       "font_family": null,
       "font_size": null,
       "font_style": null,
       "font_variant": null,
       "font_weight": null,
       "text_color": null,
       "text_decoration": null
      }
     }
    },
    "version_major": 2,
    "version_minor": 0
   }
  }
 },
 "nbformat": 4,
 "nbformat_minor": 4
}
