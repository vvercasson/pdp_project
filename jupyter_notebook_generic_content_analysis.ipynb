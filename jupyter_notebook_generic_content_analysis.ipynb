{
 "cells": [
  {
   "cell_type": "markdown",
   "metadata": {
    "tags": []
   },
   "source": [
    "# Generic Content Analysis"
   ]
  },
  {
   "cell_type": "markdown",
   "metadata": {
    "tags": []
   },
   "source": [
    "\n",
    "## ⚠️ PLEASE READ BEFORE DOING ANYTHING ⚠️\n",
    "\n",
    "Welcome to this online coding environment ! \n",
    "You are currently running a *Jupyter notebook* that we hope to be usefull for content analysis of questionnaires. \n",
    "\n",
    "At the end of the execution, you will have the opportunity to save all yours results in an HTML file, executing `\"File\" → \"Save and Export Notebook as\" → \"HTML\"` "
   ]
  },
  {
   "cell_type": "code",
   "execution_count": null,
   "metadata": {
    "id": "VzoMEEmaImQO",
    "init_cell": true,
    "tags": []
   },
   "outputs": [],
   "source": [
    "%%capture\n",
    "######### IMPORTS #########\n",
    "from IPython.display import display\n",
    "from analysis_gui.forms import *\n",
    "\n",
    "import io\n",
    "import asyncio\n",
    "\n",
    "import warnings\n",
    "warnings.filterwarnings('ignore')\n",
    "############################\n",
    "\n",
    "#Required package to download the image\n",
    "# !wget https://github.com/plotly/orca/releases/download/v1.2.1/orca-1.2.1-x86_64.AppImage -O /usr/local/bin/orca\n",
    "# !chmod +x /usr/local/bin/orca\n",
    "# !apt-get install xvfb libgtk2.0-0 libgconf-2-4"
   ]
  },
  {
   "cell_type": "markdown",
   "metadata": {
    "id": "MSKzbWLbPOtR",
    "tags": []
   },
   "source": [
    "---\n",
    "# Data import"
   ]
  },
  {
   "cell_type": "markdown",
   "metadata": {
    "id": "repZgtSNU7WC",
    "tags": []
   },
   "source": [
    "By default, this repository is configured to make you compute your own results (`experiment = \"Custom\"`), but we also configured it to reproduce some previous analyses:\n",
    "\n",
    "* option `experiment = \"Gauld2023_OSAS_content_analysis\"` : Gauld C, Baillieul S, Martin VP, Richaud A, Pelou M, Abi-Saab P,Coelho J, Philip P, Pépin JL, Micoulaud-Franchi JA. \n",
    "What evaluate obstructive sleep apnea patient-based screening questionnaires? A systematic and quantified item content analysis. *Under review* \n",
    "\n",
    "* option `experiment = \"Gauld2023_sleep_content_analysis\"`: \n",
    " Gauld C, Martin VP, Richaud A, Bailleul S, Lucie V, Perromat JL, Zreik I, Taillard J, Geoffroy PA, Lopez R, Micoulaud-Franchi JA. Systematic Item Content and Overlap Analysis of Self-reported Multiple Sleep Disorders Screening Questionnaires in Adults. *Journal of Clinical Medicine*. [https://doi.org/10.3390/jcm12030852](https://doi.org/10.3390/jcm12030852) \n",
    "\n",
    "* option `experiment = \"Fried2017\"` : Fried EI. The 52 symptoms of major depression: Lack of content overlap among seven common depression scales. *Journal of Affective Disorders*. 2017 Jan;208:191–7. \n"
   ]
  },
  {
   "cell_type": "markdown",
   "metadata": {
    "tags": []
   },
   "source": [
    "## Correct symptom file formatting\n",
    "\n",
    "For this notebook to work correcly, your symptom file should be formatted the following way : \n",
    "* the four first columns must be the category (named \"Category\" in our example), subcategory (named \"Subcategory\" in our example), the abbreviation for the symptom (as shown in the Figure, named \"Ab\" in our example) and the name of the symptom (\"Symptom\" in our example);\n",
    "* the other columns are the different questionnaires, while the line are the different symptoms.\n",
    "* For each questionnaire, the symptoms are coded the following way: \n",
    "    * 0: The symptom is absent from this questionnaire\n",
    "    * 1: The symptom is specific in this questionnaire (i.e. the symptom has bene identified in an item mentionning only one symptom)\n",
    "    * 2: The symptom is componed in this questionnaire (i.e. the symptom has bene identified in an item mentionning at least two symptom)\n",
    "\n",
    "⚠️ If you do not have categories or subcategories, just put empty columns as first or second columns ⚠️"
   ]
  },
  {
   "cell_type": "markdown",
   "metadata": {
    "tags": []
   },
   "source": [
    "## Importing data by uploading an excel file \n",
    "\n",
    "To import your own excel spreadsheet: \n",
    ">* Select \"Custom\" from the dropdown menu below \n",
    ">* Click on the \"Upload\" button ⭱\n",
    ">* Click the \"Confirm\" button ✓\n",
    "\n",
    "This program only accepts `.xsl` and `.xlsx` file formats (excel documents)"
   ]
  },
  {
   "cell_type": "code",
   "execution_count": null,
   "metadata": {
    "init_cell": true,
    "tags": []
   },
   "outputs": [],
   "source": [
    "file_selection = FileSelectionForm()\n",
    "display(file_selection)"
   ]
  },
  {
   "cell_type": "markdown",
   "metadata": {
    "id": "iK8hO_homX6E",
    "tags": []
   },
   "source": [
    "## Reference classifications\n",
    "In the `Gauld2023_sleep_content_analysis` paper, we compare the symptoms of the questionnaires with two references classification (ICSD and DSM). If you have reference columns that you want to compare with but you do not want to compute metrics on, please put them in this table. Otherwise, just let this list empty [ ].\n",
    "\n",
    "⚠️ the name of the references should match PERFECTLY the name of the columns they are in (including uppercases and lowercases, or spaces) ⚠️"
   ]
  },
  {
   "cell_type": "markdown",
   "metadata": {
    "id": "jLT3DLDxlaHg"
   },
   "source": [
    "# Ordering questionnaires and symptoms"
   ]
  },
  {
   "cell_type": "markdown",
   "metadata": {
    "id": "H_04et79Wp_4"
   },
   "source": [
    "First, the questionnaires are classified from having the higher number of symptoms to the lowest."
   ]
  },
  {
   "cell_type": "code",
   "execution_count": null,
   "metadata": {
    "init_cell": true,
    "tags": []
   },
   "outputs": [],
   "source": [
    "ref_selection = ReferenceSelectionForm()\n",
    "file_selection.chain(ref_selection)\n",
    "display(ref_selection)"
   ]
  },
  {
   "cell_type": "markdown",
   "metadata": {
    "id": "dgGMcg8IvzX6"
   },
   "source": [
    "---\n",
    "# 1. Analysis of the number and frequency of symptoms"
   ]
  },
  {
   "cell_type": "markdown",
   "metadata": {},
   "source": [
    "In a first step, we analyse the frequency of the symptoms."
   ]
  },
  {
   "cell_type": "markdown",
   "metadata": {
    "id": "mfyJzGAMqhTZ"
   },
   "source": [
    "## Histogram of number of symptoms"
   ]
  },
  {
   "cell_type": "markdown",
   "metadata": {},
   "source": [
    "### Sorted by number of occurences or category"
   ]
  },
  {
   "cell_type": "code",
   "execution_count": null,
   "metadata": {
    "init_cell": true,
    "tags": []
   },
   "outputs": [],
   "source": [
    "histo = HistogramUI()\n",
    "ref_selection.chain(histo)\n",
    "display(histo)"
   ]
  },
  {
   "cell_type": "markdown",
   "metadata": {
    "id": "3OISRmoSwTGX"
   },
   "source": [
    "## Number of symptoms by questionnaire"
   ]
  },
  {
   "cell_type": "code",
   "execution_count": null,
   "metadata": {
    "init_cell": true,
    "tags": []
   },
   "outputs": [],
   "source": [
    "num_symptoms = NumSymptomsUI()\n",
    "ref_selection.chain(num_symptoms)\n",
    "display(num_symptoms)"
   ]
  },
  {
   "cell_type": "markdown",
   "metadata": {
    "id": "dgGMcg8IvzX6"
   },
   "source": [
    "The table has been save in the online folder (📁 symbol on the left) under the name [table1_symptoms_per_questionnaire.xlsx](./table1_symptoms_per_questionnaire.xlsx). <br>You can change the name and the format of the file changing the name in the `sympt_per_questionnaire.to_excel()` function. \n",
    "<br>⚠️ If you need it, save the excel file on your local computer : these online file will be deleted as soon as you quit this page!"
   ]
  },
  {
   "cell_type": "markdown",
   "metadata": {
    "id": "OC5h01srm0Lo"
   },
   "source": [
    "## Symptoms that are in classifications but not in questionnaires"
   ]
  },
  {
   "cell_type": "code",
   "execution_count": null,
   "metadata": {
    "init_cell": true,
    "tags": []
   },
   "outputs": [],
   "source": [
    "ref_dis = RefDisplayUI()\n",
    "ref_selection.chain(ref_dis)\n",
    "display(ref_dis)"
   ]
  },
  {
   "cell_type": "markdown",
   "metadata": {
    "id": "qw9SetrFK_Sg"
   },
   "source": [
    "## Number of symptoms in each category for each questionnaire"
   ]
  },
  {
   "cell_type": "code",
   "execution_count": null,
   "metadata": {
    "init_cell": true,
    "tags": []
   },
   "outputs": [],
   "source": [
    "numSymCatForm = NumSymCat()\n",
    "ref_selection.chain(numSymCatForm)\n",
    "display(numSymCatForm)"
   ]
  },
  {
   "cell_type": "markdown",
   "metadata": {
    "id": "dgGMcg8IvzX6"
   },
   "source": [
    "The table has been save in the online folder (📁 symbol on the left) under the name [table2_categorie_per_questionnaire.xlsx](./table2_categorie_per_questionnaire.xlsx). <br>You can change the name and the format of the file changing the name in the `cat_per_questionnaire.T.to_excel()` function. \n",
    "<br>⚠️ If you need it, save the excel file on your local computer : these online file will be deleted as soon as you quit this page!"
   ]
  },
  {
   "cell_type": "markdown",
   "metadata": {
    "id": "qXcSGINHJ9Mt"
   },
   "source": [
    "## Distribution across the categories of the symptoms measured by each questionnaire\n",
    "(i.e. same thing as before, but normalized by questionnaire (sum across lines equals 1))."
   ]
  },
  {
   "cell_type": "code",
   "execution_count": null,
   "metadata": {
    "init_cell": true,
    "tags": []
   },
   "outputs": [],
   "source": [
    "distribution_form = DistributionUI()\n",
    "ref_selection.chain(distribution_form)\n",
    "display(distribution_form)"
   ]
  },
  {
   "cell_type": "markdown",
   "metadata": {
    "id": "M9ddyXYaTthc"
   },
   "source": [
    "---\n",
    "# 2. Analysis and data vizualisation of content analysis Figure"
   ]
  },
  {
   "cell_type": "markdown",
   "metadata": {
    "id": "lLJwmyUyYQa0"
   },
   "source": [
    "## Changing shape of data"
   ]
  },
  {
   "cell_type": "code",
   "execution_count": null,
   "metadata": {
    "colab": {
     "base_uri": "https://localhost:8080/",
     "height": 206
    },
    "id": "KqkwIGepYQKw",
    "init_cell": true,
    "outputId": "bb6ff268-639e-4a5f-9e19-f4395e925490",
    "tags": []
   },
   "outputs": [],
   "source": [
    "# changing the shape of data\n",
    "display(common.melt_output)"
   ]
  },
  {
   "cell_type": "markdown",
   "metadata": {
    "id": "yePX1cREmJzO"
   },
   "source": [
    "## Content Analysis Figure"
   ]
  },
  {
   "cell_type": "markdown",
   "metadata": {},
   "source": [
    "If you want to analyse custom data, you will have to set the variable `max_radius` so that the figure have the desired look !"
   ]
  },
  {
   "cell_type": "code",
   "execution_count": null,
   "metadata": {
    "init_cell": true,
    "tags": []
   },
   "outputs": [],
   "source": [
    "circle = CircleForm()\n",
    "ref_selection.chain(circle)\n",
    "display(circle)"
   ]
  },
  {
   "cell_type": "markdown",
   "metadata": {
    "id": "diFlIHLzPFRp"
   },
   "source": [
    "## Overlap between questionnaires - Jaccard Index"
   ]
  },
  {
   "cell_type": "markdown",
   "metadata": {
    "id": "YZ-EHm68I3aO"
   },
   "source": [
    "In order to estimate the overlap between the symptoms measured by the questionnes, calculate the Jaccard index, which is defined as the number of symmtoms that are measured by both questionnaires, divided by the number of unique symptoms measured both questionnaires."
   ]
  },
  {
   "cell_type": "markdown",
   "metadata": {
    "id": "zN-BHyPUw2dF"
   },
   "source": [
    "### Jaccard index of symptom for each pair of questionnaire\n",
    "First, we compute the Jaccard index for each pair of questionnaires and plot it using a heatmap."
   ]
  },
  {
   "cell_type": "code",
   "execution_count": null,
   "metadata": {
    "init_cell": true,
    "tags": []
   },
   "outputs": [],
   "source": [
    "jaccard_table = JaccardTable()\n",
    "ref_selection.chain(jaccard_table)\n",
    "display(jaccard_table)"
   ]
  },
  {
   "cell_type": "markdown",
   "metadata": {
    "id": "dgGMcg8IvzX6"
   },
   "source": [
    "Table 3 has been save in the online folder (📁 symbol on the left) under the name [table3_jaccard_pairs.xlsx](./table3_jaccard_pairs.xlsx). <br>You can change the name and the format of the file changing the name in the `jaccard_table.to_excel()` function. \n",
    "<br>⚠️ If you need it, save the excel file on your local computer : these online file will be deleted as soon as you quit this page!"
   ]
  },
  {
   "cell_type": "code",
   "execution_count": null,
   "metadata": {
    "init_cell": true,
    "tags": []
   },
   "outputs": [],
   "source": [
    "jaccard_heatmap = JaccardHeatmap()\n",
    "ref_selection.chain(jaccard_heatmap)\n",
    "display(jaccard_heatmap)"
   ]
  },
  {
   "cell_type": "markdown",
   "metadata": {
    "id": "dgGMcg8IvzX6"
   },
   "source": [
    "The figure has been save in the online folder (📁 symbol on the left) under the name [figure5_heatmap_jaccard.pdf](figure5_heatmap_jaccard.pdf). <br>You can change the name and the format of the file changing the name in the `#fig.write_image()` function. \n",
    "<br>⚠️ If you want it, save the figure on your local computer : these online file will be deleted as soon as you quit this page!"
   ]
  },
  {
   "cell_type": "markdown",
   "metadata": {
    "id": "F1UPcuVEIxr6"
   },
   "source": [
    "### Avg. Jaccard index\n",
    "Then, we compute the average of Jaccard index for each questionnaire with other questionnaires (excluding the references). "
   ]
  },
  {
   "cell_type": "code",
   "execution_count": null,
   "metadata": {
    "colab": {
     "base_uri": "https://localhost:8080/",
     "height": 443
    },
    "id": "kZWl2KxpIAu1",
    "init_cell": true,
    "outputId": "60844259-0542-47a3-8834-de586fd09b50",
    "tags": []
   },
   "outputs": [],
   "source": [
    "jaccard_idx = AverageJaccardIndex()\n",
    "ref_selection.chain(jaccard_idx)\n",
    "display(jaccard_idx)"
   ]
  },
  {
   "cell_type": "markdown",
   "metadata": {
    "id": "dgGMcg8IvzX6"
   },
   "source": [
    "Table 4 has been save in the online folder (📁 symbol on the left) under the name [table4_jaccard_average_questionnaires.xlsx](./table4_jaccard_average_questionnaires.xlsx). <br>You can change the name and the format of the file changing the name in the `jaccard.to_excel()` function. \n",
    "<br>⚠️ If you need it, save the excel file on your local computer : these online file will be deleted as soon as you quit this page!"
   ]
  },
  {
   "cell_type": "markdown",
   "metadata": {
    "id": "ZEl9cvZ1Gs6Y"
   },
   "source": [
    "### Correlation between the number of symptoms and the average Jacquart index for each questionnaire "
   ]
  },
  {
   "cell_type": "code",
   "execution_count": null,
   "metadata": {
    "init_cell": true,
    "tags": []
   },
   "outputs": [],
   "source": [
    "correlation = Correlation()\n",
    "ref_selection.chain(correlation)\n",
    "display(correlation)"
   ]
  },
  {
   "cell_type": "markdown",
   "metadata": {
    "id": "HU7E-SuOw7zi"
   },
   "source": [
    "### Jaccard index of symptoms for each pair of questionnaire for each category\n",
    "\n",
    "Computing the same metric (average of average) for each category of questionnaires."
   ]
  },
  {
   "cell_type": "code",
   "execution_count": null,
   "metadata": {
    "init_cell": true,
    "tags": []
   },
   "outputs": [],
   "source": [
    "jaccardPairIndex = JaccardPairIndex('Category')\n",
    "ref_selection.chain(jaccardPairIndex)\n",
    "display(jaccardPairIndex)"
   ]
  },
  {
   "cell_type": "markdown",
   "metadata": {
    "id": "dgGMcg8IvzX6"
   },
   "source": [
    "Table 5 has been save in the online folder (📁 symbol on the left) under the name [table5_jaccard_categories.xlsx](./table5_jaccard_categories.xlsx). <br>You can change the name and the format of the file changing the name in the `res.to_excel()` function. \n",
    "<br>⚠️ If you need it, save the excel file on your local computer : these online file will be deleted as soon as you quit this page!"
   ]
  },
  {
   "cell_type": "markdown",
   "metadata": {},
   "source": [
    "Computing the same metric (average of average) for each subcategory."
   ]
  },
  {
   "cell_type": "code",
   "execution_count": null,
   "metadata": {
    "init_cell": true,
    "tags": []
   },
   "outputs": [],
   "source": [
    "jaccardPairIndexSub = JaccardPairIndex('Subcategory')\n",
    "ref_selection.chain(jaccardPairIndexSub)\n",
    "display(jaccardPairIndexSub)"
   ]
  },
  {
   "cell_type": "markdown",
   "metadata": {},
   "source": [
    "# Sunburst Plot"
   ]
  },
  {
   "cell_type": "code",
   "execution_count": null,
   "metadata": {
    "init_cell": true,
    "tags": []
   },
   "outputs": [],
   "source": [
    "sunburst = SunburstForm()\n",
    "ref_selection.chain(sunburst)\n",
    "display(sunburst)"
   ]
  },
  {
   "cell_type": "markdown",
   "metadata": {},
   "source": [
    "---\n",
    "# Export to html\n",
    "You have reached the end of this notebook. \n",
    "If you want to save the whole page, you can download it to html with dynamic figures:\n",
    ">* \"File\" → \"Save and Export Notebook as\" → \"HTML\" "
   ]
  }
 ],
 "metadata": {
  "colab": {
   "collapsed_sections": [],
   "provenance": []
  },
  "kernelspec": {
   "display_name": "Python 3 (ipykernel)",
   "language": "python",
   "name": "python3"
  },
  "language_info": {
   "codemirror_mode": {
    "name": "ipython",
    "version": 3
   },
   "file_extension": ".py",
   "mimetype": "text/x-python",
   "name": "python",
   "nbconvert_exporter": "python",
   "pygments_lexer": "ipython3",
   "version": "3.10.10"
  },
  "vscode": {
   "interpreter": {
    "hash": "68522a6d5c06a8311fc2294da1fa0b58af198971039928249c933578fb2cb27d"
   }
  },
  "widgets": {
   "application/vnd.jupyter.widget-state+json": {
    "state": {},
    "version_major": 2,
    "version_minor": 0
   }
  }
 },
 "nbformat": 4,
 "nbformat_minor": 4
}
