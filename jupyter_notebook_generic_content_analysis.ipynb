{
 "cells": [
  {
   "cell_type": "markdown",
   "metadata": {
    "tags": []
   },
   "source": [
    "# Generic Content Analysis"
   ]
  },
  {
   "cell_type": "markdown",
   "metadata": {
    "tags": []
   },
   "source": [
    "\n",
    "## ⚠️ PLEASE READ BEFORE DOING ANYTHING ⚠️\n",
    "\n",
    "Welcome to this online coding environment ! \n",
    "You are currently running a *Jupyter notebook* that we hope to be usefull for content analysis of questionnaires. \n",
    "\n",
    ">Each cell can be ran individually (pressing the \"Play\" ▶ button or pressing CTRL+ENTER in the each cell). In order to make everything run smoothly, it is **strongly** recommended to run them in order. \n",
    "\n",
    ">***RECOMMANDED:*** You can also run all the cells at the same time : \"Run\" → \"Run All Cells\".<br>\n",
    "> ⚠️ If you choose this option and want to analyse your own data, we suggest that you configure correctly the `experiment`, `import_file` and `references` variables before running all the cells once, then adjust the `max_radius` variable of Figure 4. \n",
    "\n",
    "At the end of the execution, you will have the opportunity to save all yours results in an HTML file, executing `\"File\" → \"Save and Export Notebook as\" → \"HTML\"` \n",
    "\n",
    "If you have chosen to run every cell individually, please begin by running the following cell that imports all the required package for our code to work correctly ↓"
   ]
  },
  {
   "cell_type": "code",
   "execution_count": null,
   "metadata": {
    "id": "VzoMEEmaImQO",
    "init_cell": true,
    "tags": []
   },
   "outputs": [],
   "source": [
    "%%capture\n",
    "######### IMPORTS #########\n",
    "import pandas as pd\n",
    "import numpy as np \n",
    "from sklearn.metrics import jaccard_score\n",
    "from sklearn.preprocessing import normalize\n",
    "from scipy.stats import spearmanr\n",
    "\n",
    "import plotly.express as px\n",
    "import plotly.graph_objects as go\n",
    "\n",
    "from ipywidgets import Layout, FileUpload, Button, Box, VBox, HBox, Dropdown, Output, interactive_output, Checkbox, GridBox\n",
    "\n",
    "from IPython.display import display\n",
    "import asyncio\n",
    "import io\n",
    "from threading import Thread\n",
    "\n",
    "from analysis_gui.forms import *\n",
    "############################\n",
    "\n",
    "############## GLOBALS ##############\n",
    "# TYPE_XSL = \"application/vnd.ms-excel\"\n",
    "# TYPE_XLSX = \"application/vnd.openxmlformats-officedocument.spreadsheetml.sheet\"\n",
    "\n",
    "# df = None\n",
    "# experiment = \"\"\n",
    "#####################################\n",
    "\n",
    "#Required package to download the image\n",
    "!wget https://github.com/plotly/orca/releases/download/v1.2.1/orca-1.2.1-x86_64.AppImage -O /usr/local/bin/orca\n",
    "!chmod +x /usr/local/bin/orca\n",
    "!apt-get install xvfb libgtk2.0-0 libgconf-2-4"
   ]
  },
  {
   "cell_type": "markdown",
   "metadata": {
    "id": "MSKzbWLbPOtR",
    "tags": []
   },
   "source": [
    "---\n",
    "# Data import"
   ]
  },
  {
   "cell_type": "markdown",
   "metadata": {
    "id": "repZgtSNU7WC",
    "tags": []
   },
   "source": [
    "By default, this repository is configured to make you compute your own results (`experiment = \"Custom\"`), but we also configured it to reproduce some previous analyses:\n",
    "\n",
    "* option `experiment = \"Gauld2023_OSAS_content_analysis\"` : Gauld C, Baillieul S, Martin VP, Richaud A, Pelou M, Abi-Saab P,Coelho J, Philip P, Pépin JL, Micoulaud-Franchi JA. \n",
    "What evaluate obstructive sleep apnea patient-based screening questionnaires? A systematic and quantified item content analysis. *Under review* \n",
    "\n",
    "* option `experiment = \"Gauld2023_sleep_content_analysis\"`: \n",
    " Gauld C, Martin VP, Richaud A, Bailleul S, Lucie V, Perromat JL, Zreik I, Taillard J, Geoffroy PA, Lopez R, Micoulaud-Franchi JA. Systematic Item Content and Overlap Analysis of Self-reported Multiple Sleep Disorders Screening Questionnaires in Adults. *Journal of Clinical Medicine*. [https://doi.org/10.3390/jcm12030852](https://doi.org/10.3390/jcm12030852) \n",
    "\n",
    "* option `experiment = \"Fried2017\"` : Fried EI. The 52 symptoms of major depression: Lack of content overlap among seven common depression scales. *Journal of Affective Disorders*. 2017 Jan;208:191–7. \n"
   ]
  },
  {
   "cell_type": "markdown",
   "metadata": {
    "tags": []
   },
   "source": [
    "## Correct symptom file formatting\n",
    "\n",
    "For this notebook to work correcly, your symptom file should be formatted the following way : \n",
    "* the four first columns must be the category (named \"Category\" in our example), subcategory (named \"Subcategory\" in our example), the abbreviation for the symptom (as shown in the Figure, named \"Ab\" in our example) and the name of the symptom (\"Symptom\" in our example);\n",
    "* the other columns are the different questionnaires, while the line are the different symptoms.\n",
    "* For each questionnaire, the symptoms are coded the following way: \n",
    "    * 0: The symptom is absent from this questionnaire\n",
    "    * 1: The symptom is specific in this questionnaire (i.e. the symptom has bene identified in an item mentionning only one symptom)\n",
    "    * 2: The symptom is componed in this questionnaire (i.e. the symptom has bene identified in an item mentionning at least two symptom)\n",
    "\n",
    "⚠️ If you do not have categories or subcategories, just put empty columns as first or second columns ⚠️"
   ]
  },
  {
   "cell_type": "markdown",
   "metadata": {
    "tags": []
   },
   "source": [
    "## Importing data by uploading an excel file \n",
    "\n",
    "To import your own excel spreadsheet: \n",
    ">* Select \"Custom\" from the dropdown menu below \n",
    ">* Click on the \"Upload\" button ⭱\n",
    ">* Click the \"Confirm\" button ✓\n",
    "\n",
    "This program only accepts `.xsl` and `.xlsx` file formats (excel documents)"
   ]
  },
  {
   "cell_type": "code",
   "execution_count": null,
   "metadata": {
    "init_cell": true,
    "tags": []
   },
   "outputs": [],
   "source": [
    "file_selection = FileSelectionForm()\n",
    "display(file_selection)"
   ]
  },
  {
   "cell_type": "code",
   "execution_count": null,
   "metadata": {
    "init_cell": true,
    "tags": []
   },
   "outputs": [],
   "source": [
    "ref_selection = ReferenceSelectionForm()\n",
    "file_selection.chain(ref_selection)\n",
    "display(ref_selection)"
   ]
  },
  {
   "cell_type": "code",
   "execution_count": null,
   "metadata": {
    "colab": {
     "base_uri": "https://localhost:8080/",
     "height": 206
    },
    "id": "DdPN9UyEPRAp",
    "outputId": "f18fc141-ba72-4abe-a8f8-e06d9da95981",
    "tags": []
   },
   "outputs": [],
   "source": [
    "# uncomment the analysis you want to run\n",
    "#experiment = \"Fried2017\"\n",
    "#experiment = \"Gauld2023_sleep_content_analysis\"\n",
    "experiment = \"Gauld2023_OSAS_content_analysis\"\n",
    "#experiment = \"Custom\"\n",
    "\n",
    "if experiment == \"Fried2017\" : \n",
    "    df = pd.read_excel(\"./data/fried2017_reformatted.xlsx\") # reproduction of the seminal paper of Fried et al. https://doi.org/10.1016/j.jad.2016.10.019\n",
    "elif experiment==\"Gauld2023_sleep_content_analysis\" : \n",
    "    df = pd.read_excel(\"./data/gauld2023_sleep_content_analysis_processed.xlsx\")\n",
    "elif experiment==\"Gauld2023_OSAS_content_analysis\" : \n",
    "    df = pd.read_excel(\"./data/gauld2023_OSAS_data_processed.xlsx\")\n",
    "else :\n",
    "    import_file = \"./your_excel_file.xlsx\"\n",
    "    df = pd.read_excel(import_file)\n",
    "    \n",
    "df.rename(columns={df.columns[0]: \"Category\",df.columns[1]: \"Subcategory\", df.columns[2]: \"Ab\", df.columns[3]: \"Symptom\"}, inplace=True) #replacing the name of the three first columns !\n",
    "df.sort_values(by=\"Ab\",inplace = True) # sort the dataset by abbreviation\n",
    "df.head() # print the 5 first rows"
   ]
  },
  {
   "cell_type": "markdown",
   "metadata": {
    "id": "iK8hO_homX6E",
    "tags": []
   },
   "source": [
    "## Reference classifications\n",
    "In the `Gauld2023_sleep_content_analysis` paper, we compare the symptoms of the questionnaires with two references classification (ICSD and DSM). If you have reference columns that you want to compare with but you do not want to compute metrics on, please put them in this table. Otherwise, just let this list empty [ ].\n",
    "\n",
    "⚠️ the name of the references should match PERFECTLY the name of the columns they are in (including uppercases and lowercases, or spaces) ⚠️"
   ]
  },
  {
   "cell_type": "code",
   "execution_count": null,
   "metadata": {
    "id": "L0xFjA4qmXAT",
    "tags": []
   },
   "outputs": [],
   "source": [
    "if experiment == \"Fried2017\" or experiment == \"Gauld2023_OSAS_content_analysis\" :\n",
    "    references = []\n",
    "elif experiment == \"Gauld2023_sleep_content_analysis\": \n",
    "    references = ['ICSD', 'DSM']\n",
    "else : \n",
    "    references = [] #change here if you want to compare symmptoms of questionnaire with reference classifications\n",
    "\n",
    "header = ['Category','Subcategory', 'Ab', 'Symptom']+references"
   ]
  },
  {
   "cell_type": "markdown",
   "metadata": {
    "id": "jLT3DLDxlaHg"
   },
   "source": [
    "# Ordering questionnaires and symptoms"
   ]
  },
  {
   "cell_type": "markdown",
   "metadata": {
    "id": "H_04et79Wp_4"
   },
   "source": [
    "First, the questionnaires are classified from having the higher number of symptoms to the lowest."
   ]
  },
  {
   "cell_type": "code",
   "execution_count": null,
   "metadata": {
    "colab": {
     "base_uri": "https://localhost:8080/",
     "height": 206
    },
    "id": "FVKMzpWST5UP",
    "outputId": "e9ef71c3-a669-43ac-97cf-e893a7b4ae33",
    "tags": []
   },
   "outputs": [],
   "source": [
    "sums = (df.drop(header,axis = 1)>=1).sum(axis = 0) # sum of the number of symptom by questionnaire\n",
    "col = list(sums.sort_values(ascending=False).index.to_numpy()) #we create the list of columns\n",
    "col = header + col\n",
    "# we apply the order of columns to the dataset\n",
    "df = df.loc[:, col]\n",
    "df.head()"
   ]
  },
  {
   "cell_type": "code",
   "execution_count": null,
   "metadata": {
    "colab": {
     "base_uri": "https://localhost:8080/",
     "height": 1000
    },
    "id": "_2xRL-9HX5ep",
    "outputId": "4e60b5a5-6d86-4946-e860-7cd5dc4fb992",
    "tags": []
   },
   "outputs": [],
   "source": [
    "#order of symptoms: most common first (independtly from 'specific' or 'compound').\n",
    "df['sum_symptoms'] = (df.drop(header,axis = 1)>=1).sum(axis = 1)\n",
    "df.sort_values(by=['sum_symptoms','Ab'], ascending = [False,True], inplace = True)\n",
    "df.head()"
   ]
  },
  {
   "cell_type": "markdown",
   "metadata": {
    "id": "dgGMcg8IvzX6"
   },
   "source": [
    "---\n",
    "# 1. Analysis of the number and frequency of symptoms"
   ]
  },
  {
   "cell_type": "markdown",
   "metadata": {},
   "source": [
    "In a first step, we analyse the frequency of the symptoms."
   ]
  },
  {
   "cell_type": "markdown",
   "metadata": {
    "id": "mfyJzGAMqhTZ"
   },
   "source": [
    "## Histogram of number of symptoms"
   ]
  },
  {
   "cell_type": "markdown",
   "metadata": {},
   "source": [
    "### Sorted by number of occurences"
   ]
  },
  {
   "cell_type": "code",
   "execution_count": null,
   "metadata": {
    "init_cell": true,
    "tags": []
   },
   "outputs": [],
   "source": [
    "histo = HistogramUI()\n",
    "ref_selection.chain(histo)\n",
    "display(histo)"
   ]
  },
  {
   "cell_type": "code",
   "execution_count": null,
   "metadata": {
    "colab": {
     "base_uri": "https://localhost:8080/",
     "height": 537
    },
    "id": "wFHrczKHqTEt",
    "outputId": "9bf8dc8e-5134-4ebf-ab10-f2823fe294ad",
    "tags": []
   },
   "outputs": [],
   "source": [
    "df_questionnaires = df.drop(references, axis = 1)\n",
    "if df.shape[0] != df['Category'].isnull().sum() : \n",
    "    color = 'Category'\n",
    "else : \n",
    "    color = \"sum_symptoms\"\n",
    "fig = px.bar(df_questionnaires.sort_values(by=['sum_symptoms','Ab'],ascending = [False,True]),\n",
    "             x='Symptom',\n",
    "             y='sum_symptoms',\n",
    "             color=color,\n",
    "             labels={'sum_symptoms':'Number of questionnaires'},\n",
    "             color_discrete_sequence =  px.colors.qualitative.Pastel, ## more color palettes available here : https://plotly.com/python/builtin-colors\n",
    "             category_orders = {'Category':df_questionnaires.sort_values(by='Ab').Category.unique()}\n",
    "             )\n",
    "fig.update_layout(xaxis_tickangle=-60,autosize=False, width=1500, height=600, \n",
    "                  #xaxis={'categoryorder': 'total descending'}\n",
    "                  xaxis={'categoryorder':'array', 'categoryarray':df_questionnaires.Symptom.unique()},\n",
    "                  )\n",
    "#fig.write_image(\"figure1_histogram_1.pdf\")\n",
    "fig.show()"
   ]
  },
  {
   "cell_type": "markdown",
   "metadata": {
    "id": "dgGMcg8IvzX6"
   },
   "source": [
    "The figure has been save in the online folder (📁 symbol on the left) under the name [figure1_histogram_1.pdf](figure1_histogram_1.pdf). <br>You can change the name and the format of the file changing the name in the `#fig.write_image()` function. \n",
    "<br>⚠️ If you need it, save the figure on your local computer : these online file will be deleted as soon as you quit this page!"
   ]
  },
  {
   "cell_type": "markdown",
   "metadata": {},
   "source": [
    "### Sorted by category"
   ]
  },
  {
   "cell_type": "code",
   "execution_count": null,
   "metadata": {
    "colab": {
     "base_uri": "https://localhost:8080/",
     "height": 537
    },
    "id": "bciHxgdqtHgj",
    "outputId": "816439f1-57df-40b7-f8ab-cac6316765f7",
    "tags": []
   },
   "outputs": [],
   "source": [
    "if df.shape[0] != df['Category'].isnull().sum() : \n",
    "    color = 'Category'\n",
    "else : \n",
    "    color = \"sum_symptoms\"\n",
    "fig = px.bar(df_questionnaires.sort_values(by=['sum_symptoms','Ab'],ascending = [False,True]),\n",
    "             x='Symptom',\n",
    "             y='sum_symptoms',\n",
    "             color=color,\n",
    "             labels={'sum_symptoms':'Number of questionnaires'},\n",
    "             color_discrete_sequence =  px.colors.qualitative.Pastel, # more color palettes available here : https://plotly.com/python/builtin-colors\n",
    "             category_orders = {'Category':df_questionnaires.sort_values(by='Ab').Category.unique()}\n",
    "            )\n",
    "fig.update_layout(xaxis_tickangle=-60,autosize=False, width=1500, height=600)\n",
    "#fig.write_image(\"figure2_histogram_2.pdf\")\n",
    "fig.show()"
   ]
  },
  {
   "cell_type": "markdown",
   "metadata": {
    "id": "dgGMcg8IvzX6"
   },
   "source": [
    "The figure has been save in the online folder (📁 symbol on the left) under the name [figure2_histogram_2.pdf](figure2_histogram_2.pdf). <br>You can change the name and the format of the file changing the name in the `#fig.write_image()` function. \n",
    "<br>⚠️ If you need it, save the figure on your local computer : these online file will be deleted as soon as you quit this page!"
   ]
  },
  {
   "cell_type": "markdown",
   "metadata": {
    "id": "3OISRmoSwTGX"
   },
   "source": [
    "## Number of symptoms by questionnaire"
   ]
  },
  {
   "cell_type": "code",
   "execution_count": null,
   "metadata": {
    "colab": {
     "base_uri": "https://localhost:8080/",
     "height": 488
    },
    "id": "bTYZAecywQhN",
    "outputId": "3fe68fca-8c09-4394-9c40-689fec57deb7",
    "tags": []
   },
   "outputs": [],
   "source": [
    "sympt_per_questionnaire = pd.DataFrame(np.zeros((df.shape[1]-5,3)), index = df.iloc[:,4:-1].columns, columns = ['Specific symptoms', 'Compound symptoms', 'Total'])\n",
    "sympt_per_questionnaire['Specific symptoms'] = (df.iloc[:,4:-1]==1).sum(axis = 0)\n",
    "sympt_per_questionnaire['Compound symptoms'] = (df.iloc[:,4:-1]==2).sum(axis = 0)\n",
    "sympt_per_questionnaire['Total'] = (df.iloc[:,4:-1]>=1).sum(axis = 0)\n",
    "sympt_per_questionnaire.to_excel(\"table1_symptomes_per_questionnaire.xlsx\")\n",
    "\n",
    "display(sympt_per_questionnaire)"
   ]
  },
  {
   "cell_type": "markdown",
   "metadata": {
    "id": "dgGMcg8IvzX6"
   },
   "source": [
    "The table has been save in the online folder (📁 symbol on the left) under the name [table1_symptoms_per_questionnaire.xlsx](./table1_symptoms_per_questionnaire.xlsx). <br>You can change the name and the format of the file changing the name in the `sympt_per_questionnaire.to_excel()` function. \n",
    "<br>⚠️ If you need it, save the excel file on your local computer : these online file will be deleted as soon as you quit this page!"
   ]
  },
  {
   "cell_type": "markdown",
   "metadata": {
    "id": "OC5h01srm0Lo"
   },
   "source": [
    "## Symptoms that are in classifications but not in questionnaires"
   ]
  },
  {
   "cell_type": "code",
   "execution_count": null,
   "metadata": {
    "colab": {
     "base_uri": "https://localhost:8080/"
    },
    "id": "YlNkFjvBm6Ez",
    "outputId": "9202890b-a602-4afe-e112-a42e2a145912",
    "tags": []
   },
   "outputs": [],
   "source": [
    "if len(references) > 0 :\n",
    "  for ref in references: \n",
    "    print(\"---\", ref, \"---\")\n",
    "    for symptom in df.Symptom.unique() : \n",
    "      if (int(df.loc[df.Symptom == symptom,ref]) == 1 and int(df.loc[df.Symptom == symptom, 'sum_symptoms'])==0) : \n",
    "        print(symptom)\n",
    "else : \n",
    "    print(\"References list is empty\")"
   ]
  },
  {
   "cell_type": "markdown",
   "metadata": {
    "id": "qw9SetrFK_Sg"
   },
   "source": [
    "## Number of symptoms in each category for each questionnaire"
   ]
  },
  {
   "cell_type": "code",
   "execution_count": null,
   "metadata": {
    "colab": {
     "base_uri": "https://localhost:8080/",
     "height": 332
    },
    "id": "gFr5e2C5B_KN",
    "outputId": "59c485cf-60f3-4987-f24d-ff56de10fb16",
    "tags": []
   },
   "outputs": [],
   "source": [
    "# number of categories/questionnaire\n",
    "if df.shape[0] != df['Category'].isnull().sum() : \n",
    "  cat_per_questionnaire = pd.DataFrame(np.zeros((df.shape[1]-5,len(df.Category.unique()))), index = df.iloc[:,4:-1].columns, columns = df.sort_values(by=\"Ab\").Category.unique())\n",
    "  for category in df.Category.unique():\n",
    "    cat_per_questionnaire.loc[:,category] = (df[df.Category==category].iloc[:,4:-1]>=1).sum(axis = 0)\n",
    "  display(cat_per_questionnaire.T)\n",
    "  cat_per_questionnaire.T.to_excel(\"table2_categorie_per_questionnaire.xlsx\")\n",
    "else : \n",
    "  print('No category in this dataframe !')"
   ]
  },
  {
   "cell_type": "markdown",
   "metadata": {
    "id": "dgGMcg8IvzX6"
   },
   "source": [
    "The table has been save in the online folder (📁 symbol on the left) under the name [table2_categorie_per_questionnaire.xlsx](./table2_categorie_per_questionnaire.xlsx). <br>You can change the name and the format of the file changing the name in the `cat_per_questionnaire.T.to_excel()` function. \n",
    "<br>⚠️ If you need it, save the excel file on your local computer : these online file will be deleted as soon as you quit this page!"
   ]
  },
  {
   "cell_type": "markdown",
   "metadata": {
    "id": "qXcSGINHJ9Mt"
   },
   "source": [
    "## Distribution across the categories of the symptoms measured by each questionnaire\n",
    "(i.e. same thing as before, but normalized by questionnaire (sum across lines equals 1))."
   ]
  },
  {
   "cell_type": "code",
   "execution_count": null,
   "metadata": {
    "colab": {
     "base_uri": "https://localhost:8080/",
     "height": 542
    },
    "id": "3nwer2_9FXTg",
    "outputId": "58e9ab91-2767-4fc3-be02-a26160d832cc",
    "tags": []
   },
   "outputs": [],
   "source": [
    "if df.shape[0] != df['Category'].isnull().sum() : \n",
    "  fig = px.imshow(pd.DataFrame(np.round(normalize(cat_per_questionnaire,norm='l1').T*100,1), # for printing text, we round the percentages to 1 decimal\n",
    "                              columns = cat_per_questionnaire.index,\n",
    "                              index= cat_per_questionnaire.columns),\n",
    "                  text_auto=True, # add the text\n",
    "                  color_continuous_scale= 'Portland'# more color palettes available here : https://plotly.com/python/builtin-colorscales/\n",
    "  )\n",
    "  fig.update_xaxes(side=\"top\") # xaxis on top of the figure\n",
    "  fig.update_layout(\n",
    "    autosize=False,\n",
    "    width=800,\n",
    "    height=400\n",
    "    )\n",
    "  #fig.write_image(\"figure3_heatmap.pdf\") # writing the figure in a file\n",
    "  fig.show() # showing the figure\n",
    "else : \n",
    "  print('No category in this dataframe !')"
   ]
  },
  {
   "cell_type": "markdown",
   "metadata": {
    "id": "dgGMcg8IvzX6"
   },
   "source": [
    "Figure 3 has been save in the online folder (📁 symbol on the left) under the name [figure3_heatmap.pdf](figure3_heatmap.pdf). You can change the name and the format of the file changing the name in the `#fig.write_image()` function. \n",
    "<br>⚠️ If you need it, save the figure on your local computer : these online file will be deleted as soon as you quit this page!"
   ]
  },
  {
   "cell_type": "markdown",
   "metadata": {
    "id": "M9ddyXYaTthc"
   },
   "source": [
    "---\n",
    "# 2. Analysis and data vizualisation of content analysis Figure"
   ]
  },
  {
   "cell_type": "markdown",
   "metadata": {
    "id": "lLJwmyUyYQa0"
   },
   "source": [
    "## Changing shape of data"
   ]
  },
  {
   "cell_type": "code",
   "execution_count": null,
   "metadata": {
    "colab": {
     "base_uri": "https://localhost:8080/",
     "height": 206
    },
    "id": "KqkwIGepYQKw",
    "outputId": "bb6ff268-639e-4a5f-9e19-f4395e925490",
    "tags": []
   },
   "outputs": [],
   "source": [
    "# changing the shape of data\n",
    "df_col = df.melt(id_vars=['Category','Subcategory','Ab', 'Symptom'], value_vars=col).copy()\n",
    "df_col.head()"
   ]
  },
  {
   "cell_type": "markdown",
   "metadata": {
    "id": "yePX1cREmJzO"
   },
   "source": [
    "## Content Analysis Figure"
   ]
  },
  {
   "cell_type": "markdown",
   "metadata": {},
   "source": [
    "If you want to analyse custom data, you will have to set the variable `max_radius` so that the figure have the desired look !"
   ]
  },
  {
   "cell_type": "code",
   "execution_count": null,
   "metadata": {
    "init_cell": true,
    "tags": []
   },
   "outputs": [],
   "source": [
    "circle = CircleForm()\n",
    "ref_selection.chain(circle)\n",
    "display(circle)"
   ]
  },
  {
   "cell_type": "markdown",
   "metadata": {
    "id": "dgGMcg8IvzX6"
   },
   "source": [
    "The figure has been save in the online folder (📁 symbol on the left) under the name [figure4_radial.pdf](figure4_radial.pdf). You can change the name and the format of the file changing the name in the `#fig.write_image()` function. \n",
    "<br>⚠️ If you need it, save the figure on your local computer : these online file will be deleted as soon as you quit this page!"
   ]
  },
  {
   "cell_type": "markdown",
   "metadata": {
    "id": "diFlIHLzPFRp"
   },
   "source": [
    "## Overlap between questionnaires - Jaccard Index"
   ]
  },
  {
   "cell_type": "markdown",
   "metadata": {
    "id": "YZ-EHm68I3aO"
   },
   "source": [
    "In order to estimate the overlap between the symptoms measured by the questionnes, calculate the Jaccard index, which is defined as the number of symmtoms that are measured by both questionnaires, divided by the number of unique symptoms measured both questionnaires."
   ]
  },
  {
   "cell_type": "markdown",
   "metadata": {
    "id": "zN-BHyPUw2dF"
   },
   "source": [
    "### Jaccard index of symptom for each pair of questionnaire\n",
    "First, we compute the Jaccard index for each pair of questionnaires and plot it using a heatmap."
   ]
  },
  {
   "cell_type": "code",
   "execution_count": null,
   "metadata": {
    "colab": {
     "base_uri": "https://localhost:8080/",
     "height": 817
    },
    "id": "FwVQmC77NrTO",
    "outputId": "d1e4920c-d090-4b55-f3d9-a7615a208287"
   },
   "outputs": [],
   "source": [
    "###\n",
    "# Computing the table\n",
    "###\n",
    "jaccard_table = pd.DataFrame(np.zeros((df.shape[1]-5,df.shape[1]-5)), index = df.columns[4:-1], columns = df.columns[4:-1]) # df.columns[3:-1] : questionnaires without header\n",
    "for questionnaire1 in df.columns[4:-1] : \n",
    "  for questionnaire2 in df.columns[4:-1] : \n",
    "    jaccard_table.loc[questionnaire1, questionnaire2] = jaccard_score(df[questionnaire1]>=1, df[questionnaire2]>=1)\n",
    "    \n",
    "display(jaccard_table)\n",
    "jaccard_table.to_excel(\"table3_jaccard_pairs.xlsx\")"
   ]
  },
  {
   "cell_type": "markdown",
   "metadata": {
    "id": "dgGMcg8IvzX6"
   },
   "source": [
    "Table 3 has been save in the online folder (📁 symbol on the left) under the name [table3_jaccard_pairs.xlsx](./table3_jaccard_pairs.xlsx). <br>You can change the name and the format of the file changing the name in the `jaccard_table.to_excel()` function. \n",
    "<br>⚠️ If you need it, save the excel file on your local computer : these online file will be deleted as soon as you quit this page!"
   ]
  },
  {
   "cell_type": "code",
   "execution_count": null,
   "metadata": {},
   "outputs": [],
   "source": [
    "###\n",
    "# Plotting it as a heatmap\n",
    "###\n",
    "fig = px.imshow(pd.DataFrame(np.round(jaccard_table,3), # rounding values for the plot\n",
    "                             index = jaccard_table.index,\n",
    "                             columns= jaccard_table.columns),\n",
    "                text_auto=True, # annotating values in the plot\n",
    "                color_continuous_scale= 'Portland'# more color palettes available here : https://plotly.com/python/builtin-colorscales/\n",
    ")\n",
    "fig.update_xaxes(side=\"top\")\n",
    "fig.update_layout(\n",
    "    autosize=False,\n",
    "    width=600,\n",
    "    height=600\n",
    "    )\n",
    "#fig.write_image(\"figure5_heatmap_jaccard.pdf\") # writting the figure into a file\n",
    "fig.show() # showing figure"
   ]
  },
  {
   "cell_type": "markdown",
   "metadata": {
    "id": "dgGMcg8IvzX6"
   },
   "source": [
    "The figure has been save in the online folder (📁 symbol on the left) under the name [figure5_heatmap_jaccard.pdf](figure5_heatmap_jaccard.pdf). <br>You can change the name and the format of the file changing the name in the `#fig.write_image()` function. \n",
    "<br>⚠️ If you want it, save the figure on your local computer : these online file will be deleted as soon as you quit this page!"
   ]
  },
  {
   "cell_type": "markdown",
   "metadata": {
    "id": "F1UPcuVEIxr6"
   },
   "source": [
    "### Avg. Jaccard index\n",
    "Then, we compute the average of Jaccard index for each questionnaire with other questionnaires (excluding the references). "
   ]
  },
  {
   "cell_type": "code",
   "execution_count": null,
   "metadata": {
    "colab": {
     "base_uri": "https://localhost:8080/",
     "height": 443
    },
    "id": "kZWl2KxpIAu1",
    "outputId": "60844259-0542-47a3-8834-de586fd09b50"
   },
   "outputs": [],
   "source": [
    "jaccard = pd.DataFrame(np.zeros((len(df.drop(header+['sum_symptoms'],axis = 1).columns),1)), index = df.drop(header+['sum_symptoms'],axis = 1).columns, columns=['Avg. Jaccard Index'])\n",
    "for questionnaire in df.drop(header+['sum_symptoms'], axis=1).columns : \n",
    "  jaccard.loc[questionnaire, 'Avg. Jaccard Index'] = jaccard_table.drop(references+[questionnaire], axis = 1).loc[questionnaire, :].mean()\n",
    "display(jaccard)\n",
    "jaccard.to_excel(\"table4_jaccard_average_questionnaires.xlsx\")\n",
    "print(\"Average Jaccard index (wo references): \"+str(np.round(float(jaccard.mean()),5)) +\" (sd: \"+str(np.round(float(jaccard.std()),4))+ \")\" )\n"
   ]
  },
  {
   "cell_type": "markdown",
   "metadata": {
    "id": "dgGMcg8IvzX6"
   },
   "source": [
    "Table 4 has been save in the online folder (📁 symbol on the left) under the name [table4_jaccard_average_questionnaires.xlsx](./table4_jaccard_average_questionnaires.xlsx). <br>You can change the name and the format of the file changing the name in the `jaccard.to_excel()` function. \n",
    "<br>⚠️ If you need it, save the excel file on your local computer : these online file will be deleted as soon as you quit this page!"
   ]
  },
  {
   "cell_type": "markdown",
   "metadata": {
    "id": "ZEl9cvZ1Gs6Y"
   },
   "source": [
    "### Correlation between the number of symptoms and the average Jacquart index for each questionnaire "
   ]
  },
  {
   "cell_type": "code",
   "execution_count": null,
   "metadata": {
    "colab": {
     "base_uri": "https://localhost:8080/",
     "height": 478
    },
    "id": "vJuZ7q7oG0g3",
    "outputId": "af8e0f2b-413c-402b-c8cb-ff2de72e6c63"
   },
   "outputs": [],
   "source": [
    "correlations = jaccard.join(sympt_per_questionnaire)\n",
    "display(correlations)\n",
    "print(\"Correlation between Jaccard Index and number of specific symptoms: \",spearmanr(correlations['Avg. Jaccard Index'], correlations['Specific symptoms']))\n",
    "print(\"Correlation between Jaccard Index and number of compound symptoms: \",spearmanr(correlations['Avg. Jaccard Index'], correlations['Compound symptoms']))\n",
    "print(\"Correlation between Jaccard Index and total number of symptoms: \",spearmanr(correlations['Avg. Jaccard Index'], correlations['Total']))"
   ]
  },
  {
   "cell_type": "markdown",
   "metadata": {
    "id": "HU7E-SuOw7zi"
   },
   "source": [
    "### Jaccard index of symptoms for each pair of questionnaire for each category\n",
    "\n",
    "Computing the same metric (average of average) for each category of questionnaires."
   ]
  },
  {
   "cell_type": "code",
   "execution_count": null,
   "metadata": {
    "colab": {
     "base_uri": "https://localhost:8080/",
     "height": 332
    },
    "id": "G85VauUfOZWR",
    "outputId": "4d7af344-8d1b-4f82-a098-bedb60d8a23f"
   },
   "outputs": [],
   "source": [
    "if df.shape[0] != df['Category'].isnull().sum() : \n",
    "  res = pd.DataFrame(np.zeros((len(df.Category.unique()),1)), index = df.sort_values(by=\"Ab\").Category.unique(), columns=['Avg. Jaccard Index'])\n",
    "  for category in df.Category.unique() : \n",
    "      df_category = df.drop(header+['sum_symptoms'],axis = 1)[df.Category==category]\n",
    "      df_category = df_category.iloc[:,(df_category.sum(axis = 0)!=0.0).to_numpy()] # we keep only the questionnaire with at least 1 symptom\n",
    "      liste_avg = []\n",
    "      for questionnaire1 in df_category.columns : \n",
    "        liste = []\n",
    "        for questionnaire2 in df_category.columns : \n",
    "          if questionnaire1!= questionnaire2 :\n",
    "            liste.append(jaccard_score(df_category[questionnaire1]>=1, df_category[questionnaire2]>=1))\n",
    "        liste_avg.append(np.mean(liste))\n",
    "      res.loc[category, 'Avg. Jaccard Index'] = np.mean(liste_avg)\n",
    "  display(res)\n",
    "  res.to_excel(\"table5_jaccard_categories.xlsx\")\n",
    "\n",
    "else : \n",
    "  print(\"Category is empty\")"
   ]
  },
  {
   "cell_type": "markdown",
   "metadata": {
    "id": "dgGMcg8IvzX6"
   },
   "source": [
    "Table 5 has been save in the online folder (📁 symbol on the left) under the name [table5_jaccard_categories.xlsx](./table5_jaccard_categories.xlsx). <br>You can change the name and the format of the file changing the name in the `res.to_excel()` function. \n",
    "<br>⚠️ If you need it, save the excel file on your local computer : these online file will be deleted as soon as you quit this page!"
   ]
  },
  {
   "cell_type": "markdown",
   "metadata": {},
   "source": [
    "Computing the same metric (average of average) for each subcategory."
   ]
  },
  {
   "cell_type": "code",
   "execution_count": null,
   "metadata": {},
   "outputs": [],
   "source": [
    "if df.shape[0] != df['Subcategory'].isnull().sum() : \n",
    "  res = pd.DataFrame(np.zeros((len(df.Subcategory.unique()),1)), index = df.sort_values(by=\"Ab\").Subcategory.unique(), columns=['Avg. Jaccard Index'])\n",
    "  for subcategory in df.Subcategory.unique() : \n",
    "      df_subcategory = df.drop(header+['sum_symptoms'],axis = 1)[df.Subcategory==subcategory]\n",
    "      df_subcategory = df_subcategory.iloc[:,(df_subcategory.sum(axis = 0)!=0.0).to_numpy()] # we keep only the questionnaire with at least 1 symptom\n",
    "      liste_avg = []\n",
    "      for questionnaire1 in df_subcategory.columns : \n",
    "        liste = []\n",
    "        for questionnaire2 in df_subcategory.columns : \n",
    "          if questionnaire1!= questionnaire2 :\n",
    "            liste.append(jaccard_score(df_subcategory[questionnaire1]>=1, df_subcategory[questionnaire2]>=1))\n",
    "        liste_avg.append(np.mean(liste))\n",
    "      res.loc[subcategory, 'Avg. Jaccard Index'] = np.mean(liste_avg)\n",
    "  display(res)\n",
    "  res.to_excel(\"table5b_jaccard_subcategories.xlsx\")\n",
    "\n",
    "else : \n",
    "  print(\"Subcategory is empty\")"
   ]
  },
  {
   "cell_type": "markdown",
   "metadata": {},
   "source": [
    "# Sunburst Plot"
   ]
  },
  {
   "cell_type": "code",
   "execution_count": null,
   "metadata": {},
   "outputs": [],
   "source": [
    "#replacing some wordings\n",
    "if experiment == \"Gauld2023_OSAS_content_analysis\" : \n",
    "    df.replace(\"Stop breathing observations\",\"Stop breathing <br> observations\", inplace = True)\n",
    "    df.replace(\"Self-complaints of breath abnormalities\",\"Self-complaints of <br> breath abnormalities\", inplace = True)\n",
    "    df.replace(\"Breath abnormalities complaints reported by other\",\"Breath abnormalities <br> complaints reported <br> by other\", inplace = True)\n",
    "    df.replace(\"Sociodemographic\",\"Sociodem.\", inplace = True)\n",
    "    df.replace(\"Anthropometry\",\"Antropo.\", inplace = True)\n",
    "    df.replace(\"Sleep-related symptoms\",\"Sleep-related <br> symptoms\", inplace = True)\n",
    "    df.replace(\"Breath abnormalities complaints\",\"Breath abn. compl.\", inplace = True)\n",
    "    df.replace(\"OSA symptoms\",\"OSA <br> symptoms\", inplace = True)\n",
    "    df.replace(\"Clinical characteristics\",\"Clinical <br> characteristics\", inplace = True)\n",
    "    df.replace(\"Breath abnormalities observations\",\"Breath <br> abnormalities <br> observations\", inplace = True)\n",
    "    df.replace(\"Breath abnormalities-related complaints\",\"Breath <br> abnormalities-related <br> complaints\", inplace = True)"
   ]
  },
  {
   "cell_type": "code",
   "execution_count": null,
   "metadata": {},
   "outputs": [],
   "source": [
    "if np.sum(df.Subcategory.isna()) != df.shape[0] : # with category and subcategory\n",
    "    fig = px.sunburst(df, path=['Category', 'Subcategory', 'Symptom'], values='sum_symptoms',color_discrete_sequence = px.colors.qualitative.Pastel)\n",
    "    fig.update_layout(margin = dict(t=0, l=0, r=0, b=0), font_size=11, width =600, height = 600)\n",
    "    fig.update_traces(insidetextorientation='radial')\n",
    "    fig.update_traces(hovertemplate='sum_symptom: %{value}')\n",
    "    #fig.write_image(\"figure6_sunburst_plot.pdf\") # writting the figure into a file\n",
    "    fig.show()\n",
    "elif np.sum(df.Category.isna()) != df.shape[0] : # with category only\n",
    "    fig = px.sunburst(df, path=['Category', 'Symptom'], values='sum_symptoms',color_discrete_sequence = px.colors.qualitative.Pastel)\n",
    "    fig.update_layout(margin = dict(t=0, l=0, r=0, b=0), font_size=11, width =600, height = 600)\n",
    "    fig.update_traces(insidetextorientation='radial')\n",
    "    fig.update_traces(hovertemplate='sum_symptom: %{value}')\n",
    "    #fig.write_image(\"figure6_sunburst_plot.pdf\") # writting the figure into a file\n",
    "    fig.show()\n",
    "else : \n",
    "    print(\"No category -> no sunburst plot\")\n"
   ]
  },
  {
   "cell_type": "markdown",
   "metadata": {},
   "source": [
    "The figure has been save in the online folder (📁 symbol on the left) under the name [figure6_sunburst_plot.pdf](figure6_sunburst_plot.pdf). <br>You can change the name and the format of the file changing the name in the `#fig.write_image()` function. \n",
    "<br>⚠️ If you want it, save the figure on your local computer : these online file will be deleted as soon as you quit this page!"
   ]
  },
  {
   "cell_type": "markdown",
   "metadata": {},
   "source": [
    "---\n",
    "# Export to html\n",
    "You have reached the end of this notebook. \n",
    "If you want to save the whole page, you can download it to html with dynamic figures:\n",
    ">* \"File\" → \"Save and Export Notebook as\" → \"HTML\" "
   ]
  }
 ],
 "metadata": {
  "colab": {
   "collapsed_sections": [],
   "provenance": []
  },
  "kernelspec": {
   "display_name": "Python 3 (ipykernel)",
   "language": "python",
   "name": "python3"
  },
  "language_info": {
   "codemirror_mode": {
    "name": "ipython",
    "version": 3
   },
   "file_extension": ".py",
   "mimetype": "text/x-python",
   "name": "python",
   "nbconvert_exporter": "python",
   "pygments_lexer": "ipython3",
   "version": "3.7.12"
  },
  "vscode": {
   "interpreter": {
    "hash": "68522a6d5c06a8311fc2294da1fa0b58af198971039928249c933578fb2cb27d"
   }
  }
 },
 "nbformat": 4,
 "nbformat_minor": 4
}
