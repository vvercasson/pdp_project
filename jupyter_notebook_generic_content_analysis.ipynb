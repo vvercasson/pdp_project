{
 "cells": [
  {
   "cell_type": "markdown",
   "metadata": {
    "tags": []
   },
   "source": [
    "# Generic Content Analysis"
   ]
  },
  {
   "cell_type": "markdown",
   "metadata": {
    "tags": []
   },
   "source": [
    "\n",
    "## ⚠️ PLEASE READ BEFORE DOING ANYTHING ⚠️\n",
    "\n",
    "Welcome to this online coding environment ! \n",
    "You are currently running a *Jupyter notebook* that we hope to be usefull for content analysis of questionnaires. \n",
    "\n",
    ">Each cell can be ran individually (pressing the \"Play\" ▶ button or pressing CTRL+ENTER in the each cell). In order to make everything run smoothly, it is **strongly** recommended to run them in order. \n",
    "\n",
    ">***RECOMMANDED:*** You can also run all the cells at the same time : \"Run\" → \"Run All Cells\".<br>\n",
    "> ⚠️ If you choose this option and want to analyse your own data, we suggest that you configure correctly the `experiment`, `import_file` and `references` variables before running all the cells once, then adjust the `max_radius` variable of Figure 4. \n",
    "\n",
    "At the end of the execution, you will have the opportunity to save all yours results in an HTML file, executing `\"File\" → \"Save and Export Notebook as\" → \"HTML\"` \n",
    "\n",
    "If you have chosen to run every cell individually, please begin by running the following cell that imports all the required package for our code to work correctly ↓"
   ]
  },
  {
   "cell_type": "code",
   "execution_count": null,
   "metadata": {
    "id": "VzoMEEmaImQO",
    "init_cell": true,
    "tags": []
   },
   "outputs": [],
   "source": [
    "%%capture\n",
    "######### IMPORTS #########\n",
    "import pandas as pd\n",
    "import numpy as np \n",
    "from sklearn.metrics import jaccard_score\n",
    "from sklearn.preprocessing import normalize\n",
    "from scipy.stats import spearmanr\n",
    "\n",
    "import plotly.express as px\n",
    "import plotly.graph_objects as go\n",
    "from ipywidgets import Layout, FileUpload, Button, Box, VBox, HBox, Dropdown, Output, interactive_output, Checkbox, GridBox\n",
    "\n",
    "from IPython.display import display\n",
    "import asyncio\n",
    "import io\n",
    "from threading import Thread\n",
    "\n",
    "from analysis_gui.forms import *\n",
    "############################\n",
    "\n",
    "############## GLOBALS ##############\n",
    "# TYPE_XSL = \"application/vnd.ms-excel\"\n",
    "# TYPE_XLSX = \"application/vnd.openxmlformats-officedocument.spreadsheetml.sheet\"\n",
    "\n",
    "# df = None\n",
    "# experiment = \"\"\n",
    "#####################################\n",
    "\n",
    "#Required package to download the image\n",
    "# !wget https://github.com/plotly/orca/releases/download/v1.2.1/orca-1.2.1-x86_64.AppImage -O /usr/local/bin/orca\n",
    "# !chmod +x /usr/local/bin/orca\n",
    "# !apt-get install xvfb libgtk2.0-0 libgconf-2-4"
   ]
  },
  {
   "cell_type": "markdown",
   "metadata": {
    "id": "MSKzbWLbPOtR",
    "tags": []
   },
   "source": [
    "---\n",
    "# Data import"
   ]
  },
  {
   "cell_type": "markdown",
   "metadata": {
    "id": "repZgtSNU7WC",
    "tags": []
   },
   "source": [
    "By default, this repository is configured to make you compute your own results (`experiment = \"Custom\"`), but we also configured it to reproduce some previous analyses:\n",
    "\n",
    "* option `experiment = \"Gauld2023_OSAS_content_analysis\"` : Gauld C, Baillieul S, Martin VP, Richaud A, Pelou M, Abi-Saab P,Coelho J, Philip P, Pépin JL, Micoulaud-Franchi JA. \n",
    "What evaluate obstructive sleep apnea patient-based screening questionnaires? A systematic and quantified item content analysis. *Under review* \n",
    "\n",
    "* option `experiment = \"Gauld2023_sleep_content_analysis\"`: \n",
    " Gauld C, Martin VP, Richaud A, Bailleul S, Lucie V, Perromat JL, Zreik I, Taillard J, Geoffroy PA, Lopez R, Micoulaud-Franchi JA. Systematic Item Content and Overlap Analysis of Self-reported Multiple Sleep Disorders Screening Questionnaires in Adults. *Journal of Clinical Medicine*. [https://doi.org/10.3390/jcm12030852](https://doi.org/10.3390/jcm12030852) \n",
    "\n",
    "* option `experiment = \"Fried2017\"` : Fried EI. The 52 symptoms of major depression: Lack of content overlap among seven common depression scales. *Journal of Affective Disorders*. 2017 Jan;208:191–7. \n"
   ]
  },
  {
   "cell_type": "markdown",
   "metadata": {
    "tags": []
   },
   "source": [
    "## Correct symptom file formatting\n",
    "\n",
    "For this notebook to work correcly, your symptom file should be formatted the following way : \n",
    "* the four first columns must be the category (named \"Category\" in our example), subcategory (named \"Subcategory\" in our example), the abbreviation for the symptom (as shown in the Figure, named \"Ab\" in our example) and the name of the symptom (\"Symptom\" in our example);\n",
    "* the other columns are the different questionnaires, while the line are the different symptoms.\n",
    "* For each questionnaire, the symptoms are coded the following way: \n",
    "    * 0: The symptom is absent from this questionnaire\n",
    "    * 1: The symptom is specific in this questionnaire (i.e. the symptom has bene identified in an item mentionning only one symptom)\n",
    "    * 2: The symptom is componed in this questionnaire (i.e. the symptom has bene identified in an item mentionning at least two symptom)\n",
    "\n",
    "⚠️ If you do not have categories or subcategories, just put empty columns as first or second columns ⚠️"
   ]
  },
  {
   "cell_type": "markdown",
   "metadata": {
    "tags": []
   },
   "source": [
    "## Importing data by uploading an excel file \n",
    "\n",
    "To import your own excel spreadsheet: \n",
    ">* Select \"Custom\" from the dropdown menu below \n",
    ">* Click on the \"Upload\" button ⭱\n",
    ">* Click the \"Confirm\" button ✓\n",
    "\n",
    "This program only accepts `.xsl` and `.xlsx` file formats (excel documents)"
   ]
  },
  {
   "cell_type": "code",
   "execution_count": null,
   "metadata": {
    "init_cell": true,
    "tags": []
   },
   "outputs": [],
   "source": [
    "file_selection = FileSelectionForm()\n",
    "display(file_selection)"
   ]
  },
  {
   "cell_type": "markdown",
   "metadata": {
    "id": "iK8hO_homX6E",
    "tags": []
   },
   "source": [
    "## Reference classifications\n",
    "In the `Gauld2023_sleep_content_analysis` paper, we compare the symptoms of the questionnaires with two references classification (ICSD and DSM). If you have reference columns that you want to compare with but you do not want to compute metrics on, please put them in this table. Otherwise, just let this list empty [ ].\n",
    "\n",
    "⚠️ the name of the references should match PERFECTLY the name of the columns they are in (including uppercases and lowercases, or spaces) ⚠️"
   ]
  },
  {
   "cell_type": "markdown",
   "metadata": {
    "id": "jLT3DLDxlaHg"
   },
   "source": [
    "# Ordering questionnaires and symptoms"
   ]
  },
  {
   "cell_type": "markdown",
   "metadata": {
    "id": "H_04et79Wp_4"
   },
   "source": [
    "First, the questionnaires are classified from having the higher number of symptoms to the lowest."
   ]
  },
  {
   "cell_type": "code",
   "execution_count": null,
   "metadata": {
    "init_cell": true,
    "tags": []
   },
   "outputs": [],
   "source": [
    "ref_selection = ReferenceSelectionForm()\n",
    "file_selection.chain(ref_selection)\n",
    "display(ref_selection)"
   ]
  },
  {
   "cell_type": "markdown",
   "metadata": {
    "id": "dgGMcg8IvzX6"
   },
   "source": [
    "---\n",
    "# 1. Analysis of the number and frequency of symptoms"
   ]
  },
  {
   "cell_type": "markdown",
   "metadata": {},
   "source": [
    "In a first step, we analyse the frequency of the symptoms."
   ]
  },
  {
   "cell_type": "markdown",
   "metadata": {
    "id": "mfyJzGAMqhTZ"
   },
   "source": [
    "## Histogram of number of symptoms"
   ]
  },
  {
   "cell_type": "markdown",
   "metadata": {},
   "source": [
    "### Sorted by number of occurences or category"
   ]
  },
  {
   "cell_type": "code",
   "execution_count": null,
   "metadata": {
    "init_cell": true,
    "tags": []
   },
   "outputs": [],
   "source": [
    "histo = HistogramUI()\n",
    "ref_selection.chain(histo)\n",
    "display(histo)"
   ]
  },
  {
   "cell_type": "markdown",
   "metadata": {
    "id": "3OISRmoSwTGX"
   },
   "source": [
    "## Number of symptoms by questionnaire"
   ]
  },
  {
   "cell_type": "code",
   "execution_count": null,
   "metadata": {
    "init_cell": true,
    "tags": []
   },
   "outputs": [],
   "source": [
    "num_symptoms = NumSymptomsUI()\n",
    "ref_selection.chain(num_symptoms)\n",
    "display(num_symptoms)"
   ]
  },
  {
   "cell_type": "markdown",
   "metadata": {
    "id": "dgGMcg8IvzX6"
   },
   "source": [
    "The table has been save in the online folder (📁 symbol on the left) under the name [table1_symptoms_per_questionnaire.xlsx](./table1_symptoms_per_questionnaire.xlsx). <br>You can change the name and the format of the file changing the name in the `sympt_per_questionnaire.to_excel()` function. \n",
    "<br>⚠️ If you need it, save the excel file on your local computer : these online file will be deleted as soon as you quit this page!"
   ]
  },
  {
   "cell_type": "markdown",
   "metadata": {
    "id": "OC5h01srm0Lo"
   },
   "source": [
    "## Symptoms that are in classifications but not in questionnaires"
   ]
  },
  {
   "cell_type": "code",
   "execution_count": null,
   "metadata": {
    "colab": {
     "base_uri": "https://localhost:8080/"
    },
    "id": "YlNkFjvBm6Ez",
    "outputId": "9202890b-a602-4afe-e112-a42e2a145912",
    "tags": []
   },
   "outputs": [],
   "source": [
    "if len(common.references) > 0 :\n",
    "  for ref in common.references: \n",
    "    print(\"---\", ref, \"---\")\n",
    "    for symptom in common.df.Symptom.unique() : \n",
    "      if (int(common.df.loc[common.df.Symptom == symptom,ref]) == 1 and int(common.df.loc[common.df.Symptom == symptom, 'sum_symptoms'])==0) : \n",
    "        print(symptom)\n",
    "else : \n",
    "    print(\"References list is empty\")"
   ]
  },
  {
   "cell_type": "markdown",
   "metadata": {
    "id": "qw9SetrFK_Sg"
   },
   "source": [
    "## Number of symptoms in each category for each questionnaire"
   ]
  },
  {
   "cell_type": "code",
   "execution_count": null,
   "metadata": {
    "colab": {
     "base_uri": "https://localhost:8080/",
     "height": 332
    },
    "id": "gFr5e2C5B_KN",
    "outputId": "59c485cf-60f3-4987-f24d-ff56de10fb16",
    "tags": []
   },
   "outputs": [],
   "source": [
    "# number of categories/questionnaire\n",
    "if common.df.shape[0] != common.df['Category'].isnull().sum() : \n",
    "  cat_per_questionnaire = pd.DataFrame(np.zeros((common.df.shape[1]-5,len(common.df.Category.unique()))), index = common.df.iloc[:,4:-1].columns, columns = common.df.sort_values(by=\"Ab\").Category.unique())\n",
    "  for category in common.df.Category.unique():\n",
    "    cat_per_questionnaire.loc[:,category] = (common.df[common.df.Category==category].iloc[:,4:-1]>=1).sum(axis = 0)\n",
    "  display(cat_per_questionnaire.T)\n",
    "  cat_per_questionnaire.T.to_excel(\"table2_categorie_per_questionnaire.xlsx\")\n",
    "else : \n",
    "  print('No category in this dataframe !')"
   ]
  },
  {
   "cell_type": "markdown",
   "metadata": {
    "id": "dgGMcg8IvzX6"
   },
   "source": [
    "The table has been save in the online folder (📁 symbol on the left) under the name [table2_categorie_per_questionnaire.xlsx](./table2_categorie_per_questionnaire.xlsx). <br>You can change the name and the format of the file changing the name in the `cat_per_questionnaire.T.to_excel()` function. \n",
    "<br>⚠️ If you need it, save the excel file on your local computer : these online file will be deleted as soon as you quit this page!"
   ]
  },
  {
   "cell_type": "markdown",
   "metadata": {
    "id": "qXcSGINHJ9Mt"
   },
   "source": [
    "## Distribution across the categories of the symptoms measured by each questionnaire\n",
    "(i.e. same thing as before, but normalized by questionnaire (sum across lines equals 1))."
   ]
  },
  {
   "cell_type": "code",
   "execution_count": null,
   "metadata": {
    "colab": {
     "base_uri": "https://localhost:8080/",
     "height": 542
    },
    "id": "3nwer2_9FXTg",
    "outputId": "58e9ab91-2767-4fc3-be02-a26160d832cc",
    "tags": []
   },
   "outputs": [],
   "source": [
    "if common.df.shape[0] != common.df['Category'].isnull().sum() : \n",
    "  fig = px.imshow(pd.DataFrame(np.round(normalize(cat_per_questionnaire,norm='l1').T*100,1), # for printing text, we round the percentages to 1 decimal\n",
    "                              columns = cat_per_questionnaire.index,\n",
    "                              index= cat_per_questionnaire.columns),\n",
    "                  text_auto=True, # add the text\n",
    "                  color_continuous_scale= 'Portland'# more color palettes available here : https://plotly.com/python/builtin-colorscales/\n",
    "  )\n",
    "  fig.update_xaxes(side=\"top\") # xaxis on top of the figure\n",
    "  fig.update_layout(\n",
    "    autosize=False,\n",
    "    width=800,\n",
    "    height=400\n",
    "    )\n",
    "  #fig.write_image(\"figure3_heatmap.pdf\") # writing the figure in a file\n",
    "  fig.show() # showing the figure\n",
    "else : \n",
    "  print('No category in this dataframe !')"
   ]
  },
  {
   "cell_type": "markdown",
   "metadata": {
    "id": "dgGMcg8IvzX6"
   },
   "source": [
    "Figure 3 has been save in the online folder (📁 symbol on the left) under the name [figure3_heatmap.pdf](figure3_heatmap.pdf). You can change the name and the format of the file changing the name in the `#fig.write_image()` function. \n",
    "<br>⚠️ If you need it, save the figure on your local computer : these online file will be deleted as soon as you quit this page!"
   ]
  },
  {
   "cell_type": "markdown",
   "metadata": {
    "id": "M9ddyXYaTthc"
   },
   "source": [
    "---\n",
    "# 2. Analysis and data vizualisation of content analysis Figure"
   ]
  },
  {
   "cell_type": "markdown",
   "metadata": {
    "id": "lLJwmyUyYQa0"
   },
   "source": [
    "## Changing shape of data"
   ]
  },
  {
   "cell_type": "code",
   "execution_count": null,
   "metadata": {
    "colab": {
     "base_uri": "https://localhost:8080/",
     "height": 206
    },
    "id": "KqkwIGepYQKw",
    "outputId": "bb6ff268-639e-4a5f-9e19-f4395e925490",
    "tags": []
   },
   "outputs": [],
   "source": [
    "# changing the shape of data\n",
    "df_col = common.df.melt(id_vars=['Category','Subcategory','Ab', 'Symptom'], value_vars=common.col).copy()\n",
    "df_col.head()"
   ]
  },
  {
   "cell_type": "markdown",
   "metadata": {
    "id": "yePX1cREmJzO"
   },
   "source": [
    "## Content Analysis Figure"
   ]
  },
  {
   "cell_type": "markdown",
   "metadata": {},
   "source": [
    "If you want to analyse custom data, you will have to set the variable `max_radius` so that the figure have the desired look !"
   ]
  },
  {
   "cell_type": "code",
   "execution_count": null,
   "metadata": {
    "init_cell": true,
    "tags": []
   },
   "outputs": [],
   "source": [
    "circle = CircleForm()\n",
    "ref_selection.chain(circle)\n",
    "display(circle)"
   ]
  },
  {
   "cell_type": "markdown",
   "metadata": {
    "id": "dgGMcg8IvzX6"
   },
   "source": [
    "The figure has been save in the online folder (📁 symbol on the left) under the name [figure4_radial.pdf](figure4_radial.pdf). You can change the name and the format of the file changing the name in the `#fig.write_image()` function. \n",
    "<br>⚠️ If you need it, save the figure on your local computer : these online file will be deleted as soon as you quit this page!"
   ]
  },
  {
   "cell_type": "markdown",
   "metadata": {
    "id": "diFlIHLzPFRp"
   },
   "source": [
    "## Overlap between questionnaires - Jaccard Index"
   ]
  },
  {
   "cell_type": "markdown",
   "metadata": {
    "id": "YZ-EHm68I3aO"
   },
   "source": [
    "In order to estimate the overlap between the symptoms measured by the questionnes, calculate the Jaccard index, which is defined as the number of symmtoms that are measured by both questionnaires, divided by the number of unique symptoms measured both questionnaires."
   ]
  },
  {
   "cell_type": "markdown",
   "metadata": {
    "id": "zN-BHyPUw2dF"
   },
   "source": [
    "### Jaccard index of symptom for each pair of questionnaire\n",
    "First, we compute the Jaccard index for each pair of questionnaires and plot it using a heatmap."
   ]
  },
  {
   "cell_type": "code",
   "execution_count": null,
   "metadata": {
    "colab": {
     "base_uri": "https://localhost:8080/",
     "height": 817
    },
    "id": "FwVQmC77NrTO",
    "outputId": "d1e4920c-d090-4b55-f3d9-a7615a208287"
   },
   "outputs": [],
   "source": [
    "###\n",
    "# Computing the table\n",
    "###\n",
    "jaccard_table = pd.DataFrame(np.zeros((common.df.shape[1]-5,common.df.shape[1]-5)), index = common.df.columns[4:-1], columns = common.df.columns[4:-1]) # df.columns[3:-1] : questionnaires without header\n",
    "for questionnaire1 in common.df.columns[4:-1] : \n",
    "  for questionnaire2 in common.df.columns[4:-1] : \n",
    "    jaccard_table.loc[questionnaire1, questionnaire2] = jaccard_score(common.df[questionnaire1]>=1, common.df[questionnaire2]>=1)\n",
    "    \n",
    "display(jaccard_table)\n",
    "jaccard_table.to_excel(\"table3_jaccard_pairs.xlsx\")"
   ]
  },
  {
   "cell_type": "markdown",
   "metadata": {
    "id": "dgGMcg8IvzX6"
   },
   "source": [
    "Table 3 has been save in the online folder (📁 symbol on the left) under the name [table3_jaccard_pairs.xlsx](./table3_jaccard_pairs.xlsx). <br>You can change the name and the format of the file changing the name in the `jaccard_table.to_excel()` function. \n",
    "<br>⚠️ If you need it, save the excel file on your local computer : these online file will be deleted as soon as you quit this page!"
   ]
  },
  {
   "cell_type": "code",
   "execution_count": null,
   "metadata": {},
   "outputs": [],
   "source": [
    "###\n",
    "# Plotting it as a heatmap\n",
    "###\n",
    "fig = px.imshow(pd.DataFrame(np.round(jaccard_table,3), # rounding values for the plot\n",
    "                             index = jaccard_table.index,\n",
    "                             columns= jaccard_table.columns),\n",
    "                text_auto=True, # annotating values in the plot\n",
    "                color_continuous_scale= 'Portland'# more color palettes available here : https://plotly.com/python/builtin-colorscales/\n",
    ")\n",
    "fig.update_xaxes(side=\"top\")\n",
    "fig.update_layout(\n",
    "    autosize=False,\n",
    "    width=600,\n",
    "    height=600\n",
    "    )\n",
    "#fig.write_image(\"figure5_heatmap_jaccard.pdf\") # writting the figure into a file\n",
    "fig.show() # showing figure"
   ]
  },
  {
   "cell_type": "markdown",
   "metadata": {
    "id": "dgGMcg8IvzX6"
   },
   "source": [
    "The figure has been save in the online folder (📁 symbol on the left) under the name [figure5_heatmap_jaccard.pdf](figure5_heatmap_jaccard.pdf). <br>You can change the name and the format of the file changing the name in the `#fig.write_image()` function. \n",
    "<br>⚠️ If you want it, save the figure on your local computer : these online file will be deleted as soon as you quit this page!"
   ]
  },
  {
   "cell_type": "markdown",
   "metadata": {
    "id": "F1UPcuVEIxr6"
   },
   "source": [
    "### Avg. Jaccard index\n",
    "Then, we compute the average of Jaccard index for each questionnaire with other questionnaires (excluding the references). "
   ]
  },
  {
   "cell_type": "code",
   "execution_count": null,
   "metadata": {
    "colab": {
     "base_uri": "https://localhost:8080/",
     "height": 443
    },
    "id": "kZWl2KxpIAu1",
    "outputId": "60844259-0542-47a3-8834-de586fd09b50"
   },
   "outputs": [],
   "source": [
    "jaccard = pd.DataFrame(np.zeros((len(common.df.drop(common.header+['sum_symptoms'],axis = 1).columns),1)), index = common.df.drop(common.header+['sum_symptoms'],axis = 1).columns, columns=['Avg. Jaccard Index'])\n",
    "for questionnaire in common.df.drop(common.header+['sum_symptoms'], axis=1).columns : \n",
    "  jaccard.loc[questionnaire, 'Avg. Jaccard Index'] = jaccard_table.drop(common.references+[questionnaire], axis = 1).loc[questionnaire, :].mean()\n",
    "display(jaccard)\n",
    "jaccard.to_excel(\"table4_jaccard_average_questionnaires.xlsx\")\n",
    "print(\"Average Jaccard index (wo references): \"+str(np.round(float(jaccard.mean()),5)) +\" (sd: \"+str(np.round(float(jaccard.std()),4))+ \")\" )\n"
   ]
  },
  {
   "cell_type": "markdown",
   "metadata": {
    "id": "dgGMcg8IvzX6"
   },
   "source": [
    "Table 4 has been save in the online folder (📁 symbol on the left) under the name [table4_jaccard_average_questionnaires.xlsx](./table4_jaccard_average_questionnaires.xlsx). <br>You can change the name and the format of the file changing the name in the `jaccard.to_excel()` function. \n",
    "<br>⚠️ If you need it, save the excel file on your local computer : these online file will be deleted as soon as you quit this page!"
   ]
  },
  {
   "cell_type": "markdown",
   "metadata": {
    "id": "ZEl9cvZ1Gs6Y"
   },
   "source": [
    "### Correlation between the number of symptoms and the average Jacquart index for each questionnaire "
   ]
  },
  {
   "cell_type": "code",
   "execution_count": null,
   "metadata": {
    "colab": {
     "base_uri": "https://localhost:8080/",
     "height": 478
    },
    "id": "vJuZ7q7oG0g3",
    "outputId": "af8e0f2b-413c-402b-c8cb-ff2de72e6c63"
   },
   "outputs": [],
   "source": [
    "correlations = jaccard.join(sympt_per_questionnaire)\n",
    "display(correlations)\n",
    "print(\"Correlation between Jaccard Index and number of specific symptoms: \",spearmanr(correlations['Avg. Jaccard Index'], correlations['Specific symptoms']))\n",
    "print(\"Correlation between Jaccard Index and number of compound symptoms: \",spearmanr(correlations['Avg. Jaccard Index'], correlations['Compound symptoms']))\n",
    "print(\"Correlation between Jaccard Index and total number of symptoms: \",spearmanr(correlations['Avg. Jaccard Index'], correlations['Total']))"
   ]
  },
  {
   "cell_type": "markdown",
   "metadata": {
    "id": "HU7E-SuOw7zi"
   },
   "source": [
    "### Jaccard index of symptoms for each pair of questionnaire for each category\n",
    "\n",
    "Computing the same metric (average of average) for each category of questionnaires."
   ]
  },
  {
   "cell_type": "code",
   "execution_count": null,
   "metadata": {
    "colab": {
     "base_uri": "https://localhost:8080/",
     "height": 332
    },
    "id": "G85VauUfOZWR",
    "outputId": "4d7af344-8d1b-4f82-a098-bedb60d8a23f"
   },
   "outputs": [],
   "source": [
    "if common.df.shape[0] != common.df['Category'].isnull().sum() : \n",
    "  res = pd.DataFrame(np.zeros((len(common.df.Category.unique()),1)), index = common.df.sort_values(by=\"Ab\").Category.unique(), columns=['Avg. Jaccard Index'])\n",
    "  for category in common.df.Category.unique() : \n",
    "      df_category = common.df.drop(common.header+['sum_symptoms'],axis = 1)[common.df.Category==category]\n",
    "      df_category = df_category.iloc[:,(df_category.sum(axis = 0)!=0.0).to_numpy()] # we keep only the questionnaire with at least 1 symptom\n",
    "      liste_avg = []\n",
    "      for questionnaire1 in df_category.columns : \n",
    "        liste = []\n",
    "        for questionnaire2 in df_category.columns : \n",
    "          if questionnaire1!= questionnaire2 :\n",
    "            liste.append(jaccard_score(df_category[questionnaire1]>=1, df_category[questionnaire2]>=1))\n",
    "        liste_avg.append(np.mean(liste))\n",
    "      res.loc[category, 'Avg. Jaccard Index'] = np.mean(liste_avg)\n",
    "  display(res)\n",
    "  res.to_excel(\"table5_jaccard_categories.xlsx\")\n",
    "\n",
    "else : \n",
    "  print(\"Category is empty\")"
   ]
  },
  {
   "cell_type": "markdown",
   "metadata": {
    "id": "dgGMcg8IvzX6"
   },
   "source": [
    "Table 5 has been save in the online folder (📁 symbol on the left) under the name [table5_jaccard_categories.xlsx](./table5_jaccard_categories.xlsx). <br>You can change the name and the format of the file changing the name in the `res.to_excel()` function. \n",
    "<br>⚠️ If you need it, save the excel file on your local computer : these online file will be deleted as soon as you quit this page!"
   ]
  },
  {
   "cell_type": "markdown",
   "metadata": {},
   "source": [
    "Computing the same metric (average of average) for each subcategory."
   ]
  },
  {
   "cell_type": "code",
   "execution_count": null,
   "metadata": {},
   "outputs": [],
   "source": [
    "if common.df.shape[0] != common.df['Subcategory'].isnull().sum() : \n",
    "  res = pd.DataFrame(np.zeros((len(common.df.Subcategory.unique()),1)), index = common.df.sort_values(by=\"Ab\").Subcategory.unique(), columns=['Avg. Jaccard Index'])\n",
    "  for subcategory in common.df.Subcategory.unique() : \n",
    "      df_subcategory = common.df.drop(common.header+['sum_symptoms'],axis = 1)[common.df.Subcategory==subcategory]\n",
    "      df_subcategory = df_subcategory.iloc[:,(df_subcategory.sum(axis = 0)!=0.0).to_numpy()] # we keep only the questionnaire with at least 1 symptom\n",
    "      liste_avg = []\n",
    "      for questionnaire1 in df_subcategory.columns : \n",
    "        liste = []\n",
    "        for questionnaire2 in df_subcategory.columns : \n",
    "          if questionnaire1!= questionnaire2 :\n",
    "            liste.append(jaccard_score(df_subcategory[questionnaire1]>=1, df_subcategory[questionnaire2]>=1))\n",
    "        liste_avg.append(np.mean(liste))\n",
    "      res.loc[subcategory, 'Avg. Jaccard Index'] = np.mean(liste_avg)\n",
    "  display(res)\n",
    "  res.to_excel(\"table5b_jaccard_subcategories.xlsx\")\n",
    "\n",
    "else : \n",
    "  print(\"Subcategory is empty\")"
   ]
  },
  {
   "cell_type": "markdown",
   "metadata": {},
   "source": [
    "# Sunburst Plot"
   ]
  },
  {
   "cell_type": "code",
   "execution_count": null,
   "metadata": {},
   "outputs": [],
   "source": [
    "#replacing some wordings\n",
    "if common.experiment == \"Gauld2023_OSAS_content_analysis\" : \n",
    "    common.df.replace(\"Stop breathing observations\",\"Stop breathing <br> observations\", inplace = True)\n",
    "    common.df.replace(\"Self-complaints of breath abnormalities\",\"Self-complaints of <br> breath abnormalities\", inplace = True)\n",
    "    common.df.replace(\"Breath abnormalities complaints reported by other\",\"Breath abnormalities <br> complaints reported <br> by other\", inplace = True)\n",
    "    common.df.replace(\"Sociodemographic\",\"Sociodem.\", inplace = True)\n",
    "    common.df.replace(\"Anthropometry\",\"Antropo.\", inplace = True)\n",
    "    common.df.replace(\"Sleep-related symptoms\",\"Sleep-related <br> symptoms\", inplace = True)\n",
    "    common.df.replace(\"Breath abnormalities complaints\",\"Breath abn. compl.\", inplace = True)\n",
    "    common.df.replace(\"OSA symptoms\",\"OSA <br> symptoms\", inplace = True)\n",
    "    common.df.replace(\"Clinical characteristics\",\"Clinical <br> characteristics\", inplace = True)\n",
    "    common.df.replace(\"Breath abnormalities observations\",\"Breath <br> abnormalities <br> observations\", inplace = True)\n",
    "    common.df.replace(\"Breath abnormalities-related complaints\",\"Breath <br> abnormalities-related <br> complaints\", inplace = True)"
   ]
  },
  {
   "cell_type": "code",
   "execution_count": null,
   "metadata": {},
   "outputs": [],
   "source": [
    "if np.sum(common.df.Subcategory.isna()) != common.df.shape[0] : # with category and subcategory\n",
    "    fig = px.sunburst(common.df, path=['Category', 'Subcategory', 'Symptom'], values='sum_symptoms',color_discrete_sequence = px.colors.qualitative.Pastel)\n",
    "    fig.update_layout(margin = dict(t=0, l=0, r=0, b=0), font_size=11, width =600, height = 600)\n",
    "    fig.update_traces(insidetextorientation='radial')\n",
    "    fig.update_traces(hovertemplate='sum_symptom: %{value}')\n",
    "    #fig.write_image(\"figure6_sunburst_plot.pdf\") # writting the figure into a file\n",
    "    fig.show()\n",
    "elif np.sum(common.df.Category.isna()) != common.df.shape[0] : # with category only\n",
    "    fig = px.sunburst(common.df, path=['Category', 'Symptom'], values='sum_symptoms',color_discrete_sequence = px.colors.qualitative.Pastel)\n",
    "    fig.update_layout(margin = dict(t=0, l=0, r=0, b=0), font_size=11, width =600, height = 600)\n",
    "    fig.update_traces(insidetextorientation='radial')\n",
    "    fig.update_traces(hovertemplate='sum_symptom: %{value}')\n",
    "    #fig.write_image(\"figure6_sunburst_plot.pdf\") # writting the figure into a file\n",
    "    fig.show()\n",
    "else : \n",
    "    print(\"No category -> no sunburst plot\")\n"
   ]
  },
  {
   "cell_type": "markdown",
   "metadata": {},
   "source": [
    "The figure has been save in the online folder (📁 symbol on the left) under the name [figure6_sunburst_plot.pdf](figure6_sunburst_plot.pdf). <br>You can change the name and the format of the file changing the name in the `#fig.write_image()` function. \n",
    "<br>⚠️ If you want it, save the figure on your local computer : these online file will be deleted as soon as you quit this page!"
   ]
  },
  {
   "cell_type": "markdown",
   "metadata": {},
   "source": [
    "---\n",
    "# Export to html\n",
    "You have reached the end of this notebook. \n",
    "If you want to save the whole page, you can download it to html with dynamic figures:\n",
    ">* \"File\" → \"Save and Export Notebook as\" → \"HTML\" "
   ]
  }
 ],
 "metadata": {
  "colab": {
   "collapsed_sections": [],
   "provenance": []
  },
  "kernelspec": {
   "display_name": "Python 3 (ipykernel)",
   "language": "python",
   "name": "python3"
  },
  "language_info": {
   "codemirror_mode": {
    "name": "ipython",
    "version": 3
   },
   "file_extension": ".py",
   "mimetype": "text/x-python",
   "name": "python",
   "nbconvert_exporter": "python",
   "pygments_lexer": "ipython3",
   "version": "3.7.12"
  },
  "vscode": {
   "interpreter": {
    "hash": "68522a6d5c06a8311fc2294da1fa0b58af198971039928249c933578fb2cb27d"
   }
  },
  "widgets": {
   "application/vnd.jupyter.widget-state+json": {
    "state": {
     "003d00ac09944e5780c3bfa66e19f0d2": {
      "model_module": "@jupyter-widgets/controls",
      "model_module_version": "2.0.0",
      "model_name": "CheckboxModel",
      "state": {
       "description": "Wisconsin Q",
       "disabled": false,
       "layout": "IPY_MODEL_8194bf71b6bd44f0aabb27cb58e38be5",
       "style": "IPY_MODEL_2aac59b43bc649f99f300086d30db6c2",
       "value": false
      }
     },
     "02f921de65ad414a90af9d5c003ab2dc": {
      "model_module": "@jupyter-widgets/base",
      "model_module_version": "2.0.0",
      "model_name": "LayoutModel",
      "state": {}
     },
     "053f7ef2ca8c433e8eafa18fff337f8f": {
      "model_module": "@jupyter-widgets/controls",
      "model_module_version": "2.0.0",
      "model_name": "CheckboxModel",
      "state": {
       "description": "NoSAS",
       "disabled": false,
       "layout": "IPY_MODEL_08fa45f59dfb416cb64ec6e06a300c20",
       "style": "IPY_MODEL_8f49dfedea314a4c8ecd65171c3e256b",
       "value": false
      }
     },
     "061476ff36494dbda6479440780bd3d9": {
      "model_module": "@jupyter-widgets/base",
      "model_module_version": "2.0.0",
      "model_name": "LayoutModel",
      "state": {
       "grid_template_columns": "repeat(3, 33%)"
      }
     },
     "08fa45f59dfb416cb64ec6e06a300c20": {
      "model_module": "@jupyter-widgets/base",
      "model_module_version": "2.0.0",
      "model_name": "LayoutModel",
      "state": {}
     },
     "12173f78c2f443dab36cd78cf20663c0": {
      "model_module": "@jupyter-widgets/base",
      "model_module_version": "2.0.0",
      "model_name": "LayoutModel",
      "state": {}
     },
     "17d3f26ef1104f6485229dfe05d9c44c": {
      "model_module": "@jupyter-widgets/controls",
      "model_module_version": "2.0.0",
      "model_name": "TextStyleModel",
      "state": {
       "description_width": "",
       "font_size": null,
       "text_color": null
      }
     },
     "1acebaf87703497696b8d0a71fb89248": {
      "model_module": "@jupyter-widgets/controls",
      "model_module_version": "2.0.0",
      "model_name": "VBoxModel",
      "state": {
       "children": [
        "IPY_MODEL_611970cbe10b4b83a5d0abcbd3d8ed0d",
        "IPY_MODEL_5fa592b63cab47fd97dc5eee623e8566",
        "IPY_MODEL_305dd9307487435aa4c0d063706a76aa",
        "IPY_MODEL_351b950b25354dd2ac20262be3fdf6b3"
       ],
       "layout": "IPY_MODEL_6c2ba2363a814c4fb71a56053e9c4459"
      }
     },
     "1e32e2b1c6fb481281f48d51a802c457": {
      "model_module": "@jupyter-widgets/base",
      "model_module_version": "2.0.0",
      "model_name": "LayoutModel",
      "state": {
       "grid_gap": "5px",
       "justify_content": "flex-start",
       "width": "100%"
      }
     },
     "21d507fb8a6b4a8b927a6be2c736386b": {
      "model_module": "@jupyter-widgets/controls",
      "model_module_version": "2.0.0",
      "model_name": "SliderStyleModel",
      "state": {
       "description_width": ""
      }
     },
     "292255ba29394d4cb3b5b6c30a0048d6": {
      "model_module": "@jupyter-widgets/base",
      "model_module_version": "2.0.0",
      "model_name": "LayoutModel",
      "state": {}
     },
     "29683e2c70e14c818653def350a58cd0": {
      "model_module": "@jupyter-widgets/controls",
      "model_module_version": "2.0.0",
      "model_name": "CheckboxStyleModel",
      "state": {
       "description_width": ""
      }
     },
     "2aac59b43bc649f99f300086d30db6c2": {
      "model_module": "@jupyter-widgets/controls",
      "model_module_version": "2.0.0",
      "model_name": "CheckboxStyleModel",
      "state": {
       "description_width": ""
      }
     },
     "2e029cc0164540b080b080b6b5735426": {
      "model_module": "@jupyter-widgets/output",
      "model_module_version": "1.0.0",
      "model_name": "OutputModel",
      "state": {
       "layout": "IPY_MODEL_6df351c2db414194a5db7be934381347"
      }
     },
     "2e16c56ff61647d38142c38f528bf00c": {
      "model_module": "@jupyter-widgets/controls",
      "model_module_version": "2.0.0",
      "model_name": "CheckboxModel",
      "state": {
       "description": "ASA",
       "disabled": false,
       "layout": "IPY_MODEL_ed5cbf2e81014b0c9271f287344cf435",
       "style": "IPY_MODEL_3d24fba0c559417f882ea8e887ec0f0c",
       "value": false
      }
     },
     "305dd9307487435aa4c0d063706a76aa": {
      "model_module": "jupyterlab-plotly",
      "model_module_version": "^5.13.0",
      "model_name": "FigureModel",
      "state": {
       "_config": {
        "editSelection": false,
        "plotlyServerURL": "https://plot.ly"
       },
       "_data": [
        {
         "mode": "markers",
         "opacity": 0,
         "r": [
          0,
          0,
          0,
          0,
          0,
          0,
          0,
          0,
          0,
          0,
          0,
          0,
          0,
          0,
          0,
          0,
          0,
          0,
          0,
          0,
          0,
          0,
          0,
          0,
          0
         ],
         "showlegend": false,
         "theta": [
          "S006",
          "S002",
          "S001",
          "S020",
          "S010",
          "S016",
          "S009",
          "S021",
          "S013",
          "S017",
          "S018",
          "S003",
          "S004",
          "S011",
          "S024",
          "S005",
          "S007",
          "S008",
          "S012",
          "S014",
          "S015",
          "S019",
          "S022",
          "S023",
          "S025"
         ],
         "type": "scatterpolar",
         "uid": "b6c7e76d-d832-44d9-af1e-3f7b259e3186"
        },
        {
         "hoverinfo": "text",
         "hovertext": [
          "Scale: ASA<br>Sympt.:Stop breathing observations<br>Specific<br>Category: OSA symptoms",
          "Scale: ASA<br>Sympt.:Loud Snoring<br>Specific<br>Category: OSA symptoms",
          "Scale: ASA<br>Sympt.:Snoring<br>Specific<br>Category: OSA symptoms",
          "Scale: ASA<br>Sympt.:BMI<br>Specific<br>Category: Clinical characteristics",
          "Scale: ASA<br>Sympt.:Awakening during sleep<br>Specific<br>Category: Sleep-related symptoms",
          "Scale: ASA<br>Sympt.:Neck circumference<br>Specific<br>Category: Clinical characteristics",
          "Scale: ASA<br>Sympt.:Amygdala/Toncil anatomical factor<br>Specific<br>Category: Clinical characteristics",
          "Scale: ASA<br>Sympt.:Nose anatomical factor<br>Specific<br>Category: Clinical characteristics",
          "Scale: ASA<br>Sympt.:Craniofacial anatomical factor<br>Specific<br>Category: Clinical characteristics"
         ],
         "marker": {
          "color": "rgb(102, 197, 204)",
          "line": {
           "width": 0
          },
          "symbol": "circle"
         },
         "mode": "markers",
         "name": "ASA",
         "opacity": 1,
         "r": [
          20,
          20,
          20,
          20,
          20,
          20,
          20,
          20,
          20
         ],
         "theta": [
          "S006",
          "S002",
          "S001",
          "S020",
          "S013",
          "S018",
          "S024",
          "S023",
          "S025"
         ],
         "type": "scatterpolar",
         "uid": "0a5777e4-4cd4-49ef-b8ec-0e9963f90736"
        },
        {
         "hoverinfo": "text",
         "hovertext": [
          "Scale: SA-SDQ<br>Sympt.:Stop breathing observations<br>Specific<br>Category: OSA symptoms",
          "Scale: SA-SDQ<br>Sympt.:Loud Snoring<br>Specific<br>Category: OSA symptoms",
          "Scale: SA-SDQ<br>Sympt.:BMI<br>Specific<br>Category: Clinical characteristics",
          "Scale: SA-SDQ<br>Sympt.:Age<br>Specific<br>Category: Clinical characteristics",
          "Scale: SA-SDQ<br>Sympt.:HBP<br>Specific<br>Category: Clinical characteristics",
          "Scale: SA-SDQ<br>Sympt.:Self-complaints of breath abnormalities <br>Specific<br>Category: OSA symptoms",
          "Scale: SA-SDQ<br>Sympt.:Sweating<br>Specific<br>Category: OSA symptoms",
          "Scale: SA-SDQ<br>Sympt.:Positional promoting factor<br>Specific<br>Category: OSA symptoms",
          "Scale: SA-SDQ<br>Sympt.:Alcohol promoting factor<br>Specific<br>Category: OSA symptoms",
          "Scale: SA-SDQ<br>Sympt.:Tobacco<br>Specific<br>Category: Clinical characteristics"
         ],
         "marker": {
          "color": "rgb(246, 207, 113)",
          "line": {
           "width": 0
          },
          "symbol": "circle"
         },
         "mode": "markers",
         "name": "SA-SDQ",
         "opacity": 1,
         "r": [
          19,
          19,
          19,
          19,
          19,
          19,
          19,
          19,
          19,
          19
         ],
         "theta": [
          "S006",
          "S002",
          "S020",
          "S016",
          "S021",
          "S003",
          "S005",
          "S007",
          "S008",
          "S022"
         ],
         "type": "scatterpolar",
         "uid": "ce26eacc-2bfa-4ef8-883b-69fc48775bcf"
        },
        {
         "hoverinfo": "text",
         "hovertext": [
          "Scale: STOP-Bang<br>Sympt.:Stop breathing observations<br>Specific<br>Category: OSA symptoms",
          "Scale: STOP-Bang<br>Sympt.:Loud Snoring<br>Specific<br>Category: OSA symptoms",
          "Scale: STOP-Bang<br>Sympt.:BMI<br>Specific<br>Category: Clinical characteristics",
          "Scale: STOP-Bang<br>Sympt.:Age<br>Specific<br>Category: Clinical characteristics",
          "Scale: STOP-Bang<br>Sympt.:HBP<br>Specific<br>Category: Clinical characteristics",
          "Scale: STOP-Bang<br>Sympt.:Sex<br>Specific<br>Category: Clinical characteristics",
          "Scale: STOP-Bang<br>Sympt.:Neck circumference<br>Specific<br>Category: Clinical characteristics"
         ],
         "marker": {
          "color": "rgb(248, 156, 116)",
          "line": {
           "width": 0
          },
          "symbol": "circle"
         },
         "mode": "markers",
         "name": "STOP-Bang",
         "opacity": 1,
         "r": [
          18,
          18,
          18,
          18,
          18,
          18,
          18
         ],
         "theta": [
          "S006",
          "S002",
          "S020",
          "S016",
          "S021",
          "S017",
          "S018"
         ],
         "type": "scatterpolar",
         "uid": "17e7abbb-5054-4a90-9967-e9abab55b47a"
        },
        {
         "hoverinfo": "text",
         "hovertext": [
          "Scale: Berlin<br>Sympt.:Stop breathing observations<br>Specific<br>Category: OSA symptoms",
          "Scale: Berlin<br>Sympt.:Loud Snoring<br>Specific<br>Category: OSA symptoms",
          "Scale: Berlin<br>Sympt.:Snoring<br>Specific<br>Category: OSA symptoms",
          "Scale: Berlin<br>Sympt.:BMI<br>Specific<br>Category: Clinical characteristics",
          "Scale: Berlin<br>Sympt.:Fatigue<br>Specific<br>Category: Sleep-related symptoms",
          "Scale: Berlin<br>Sympt.:HBP<br>Specific<br>Category: Clinical characteristics",
          "Scale: Berlin<br>Sympt.:Breath abnormalities complaints reported by other<br>Specific<br>Category: OSA symptoms",
          "Scale: Berlin<br>Sympt.:Sleepiness at the wheel<br>Specific<br>Category: Sleep-related symptoms"
         ],
         "marker": {
          "color": "rgb(220, 176, 242)",
          "line": {
           "width": 0
          },
          "symbol": "circle"
         },
         "mode": "markers",
         "name": "Berlin",
         "opacity": 1,
         "r": [
          17,
          17,
          17,
          17,
          17,
          17,
          17,
          17
         ],
         "theta": [
          "S006",
          "S002",
          "S001",
          "S020",
          "S010",
          "S021",
          "S004",
          "S011"
         ],
         "type": "scatterpolar",
         "uid": "9298761a-42b7-4875-b75d-9e28be1124d3"
        },
        {
         "hoverinfo": "text",
         "hovertext": [
          "Scale: Haraldsson<br>Sympt.:Stop breathing observations<br>Specific<br>Category: OSA symptoms",
          "Scale: Haraldsson<br>Sympt.:Snoring<br>Specific<br>Category: OSA symptoms",
          "Scale: Haraldsson<br>Sympt.:Awakening during sleep<br>Specific<br>Category: Sleep-related symptoms"
         ],
         "marker": {
          "color": "rgb(135, 197, 95)",
          "line": {
           "width": 0
          },
          "symbol": "circle"
         },
         "mode": "markers",
         "name": "Haraldsson",
         "opacity": 1,
         "r": [
          16,
          16,
          16
         ],
         "theta": [
          "S006",
          "S001",
          "S013"
         ],
         "type": "scatterpolar",
         "uid": "b38bd1ab-ee94-4c0b-8a91-2399348a4527"
        },
        {
         "hoverinfo": "text",
         "hovertext": [
          "Scale: NoSAS<br>Sympt.:Snoring<br>Specific<br>Category: OSA symptoms",
          "Scale: NoSAS<br>Sympt.:BMI<br>Specific<br>Category: Clinical characteristics",
          "Scale: NoSAS<br>Sympt.:Age<br>Specific<br>Category: Clinical characteristics",
          "Scale: NoSAS<br>Sympt.:Sex<br>Specific<br>Category: Clinical characteristics",
          "Scale: NoSAS<br>Sympt.:Neck circumference<br>Specific<br>Category: Clinical characteristics"
         ],
         "marker": {
          "color": "rgb(158, 185, 243)",
          "line": {
           "width": 0
          },
          "symbol": "circle"
         },
         "mode": "markers",
         "name": "NoSAS",
         "opacity": 1,
         "r": [
          15,
          15,
          15,
          15,
          15
         ],
         "theta": [
          "S001",
          "S020",
          "S016",
          "S017",
          "S018"
         ],
         "type": "scatterpolar",
         "uid": "57399b06-fd7e-48f3-86df-3d94d7070c3b"
        },
        {
         "hoverinfo": "text",
         "hovertext": [
          "Scale: STOP<br>Sympt.:Stop breathing observations<br>Specific<br>Category: OSA symptoms",
          "Scale: STOP<br>Sympt.:Loud Snoring<br>Specific<br>Category: OSA symptoms",
          "Scale: STOP<br>Sympt.:HBP<br>Specific<br>Category: Clinical characteristics"
         ],
         "marker": {
          "color": "rgb(254, 136, 177)",
          "line": {
           "width": 0
          },
          "symbol": "circle"
         },
         "mode": "markers",
         "name": "STOP",
         "opacity": 1,
         "r": [
          14,
          14,
          14
         ],
         "theta": [
          "S006",
          "S002",
          "S021"
         ],
         "type": "scatterpolar",
         "uid": "acc021cf-a818-4e6d-a6ce-d89aaad48a60"
        },
        {
         "hoverinfo": "text",
         "hovertext": [
          "Scale: GOAL<br>Sympt.:Loud Snoring<br>Specific<br>Category: OSA symptoms",
          "Scale: GOAL<br>Sympt.:BMI<br>Specific<br>Category: Clinical characteristics",
          "Scale: GOAL<br>Sympt.:Age<br>Specific<br>Category: Clinical characteristics",
          "Scale: GOAL<br>Sympt.:Sex<br>Specific<br>Category: Clinical characteristics"
         ],
         "marker": {
          "color": "rgb(201, 219, 116)",
          "line": {
           "width": 0
          },
          "symbol": "circle"
         },
         "mode": "markers",
         "name": "GOAL",
         "opacity": 1,
         "r": [
          13,
          13,
          13,
          13
         ],
         "theta": [
          "S002",
          "S020",
          "S016",
          "S017"
         ],
         "type": "scatterpolar",
         "uid": "b9da584c-464f-4922-9f42-8de041b58cc9"
        },
        {
         "hoverinfo": "text",
         "hovertext": [
          "Scale: OSA 50<br>Sympt.:Stop breathing observations<br>Specific<br>Category: OSA symptoms",
          "Scale: OSA 50<br>Sympt.:Age<br>Specific<br>Category: Clinical characteristics",
          "Scale: OSA 50<br>Sympt.:Breath abnormalities complaints reported by other<br>Specific<br>Category: OSA symptoms",
          "Scale: OSA 50<br>Sympt.:Waist circumference <br>Specific<br>Category: Clinical characteristics"
         ],
         "marker": {
          "color": "rgb(139, 224, 164)",
          "line": {
           "width": 0
          },
          "symbol": "circle"
         },
         "mode": "markers",
         "name": "OSA 50",
         "opacity": 1,
         "r": [
          12,
          12,
          12,
          12
         ],
         "theta": [
          "S006",
          "S016",
          "S004",
          "S019"
         ],
         "type": "scatterpolar",
         "uid": "d71803ec-3bb8-4686-90ae-336b60b1c693"
        },
        {
         "hoverinfo": "text",
         "hovertext": [
          "Scale: AS<br>Sympt.:Stop breathing observations<br>Specific<br>Category: OSA symptoms",
          "Scale: AS<br>Sympt.:Amygdala/Toncil anatomical factor<br>Specific<br>Category: Clinical characteristics"
         ],
         "marker": {
          "color": "rgb(180, 151, 231)",
          "line": {
           "width": 0
          },
          "symbol": "circle"
         },
         "mode": "markers",
         "name": "AS",
         "opacity": 1,
         "r": [
          11,
          11
         ],
         "theta": [
          "S006",
          "S024"
         ],
         "type": "scatterpolar",
         "uid": "dd26ac72-7c2d-4271-9648-ea9c26220547"
        },
        {
         "hoverinfo": "text",
         "hovertext": [
          "Scale: Wisconsin Q<br>Sympt.:Stop breathing observations<br>Specific<br>Category: OSA symptoms",
          "Scale: Wisconsin Q<br>Sympt.:Loud Snoring<br>Specific<br>Category: OSA symptoms",
          "Scale: Wisconsin Q<br>Sympt.:Snoring<br>Specific<br>Category: OSA symptoms"
         ],
         "marker": {
          "color": "rgb(179, 179, 179)",
          "line": {
           "width": 0
          },
          "symbol": "circle"
         },
         "mode": "markers",
         "name": "Wisconsin Q",
         "opacity": 1,
         "r": [
          10,
          10,
          10
         ],
         "theta": [
          "S006",
          "S002",
          "S001"
         ],
         "type": "scatterpolar",
         "uid": "bf8c12fe-bfb1-48cb-a76a-27217835f2d3"
        },
        {
         "hoverinfo": "text",
         "hovertext": [
          "Scale: ASA<br>Sympt.:Fatigue<br>Compound<br>Category: Sleep-related symptoms",
          "Scale: ASA<br>Sympt.:Daytime sleepiness<br>Compound<br>Category: Sleep-related symptoms",
          "Scale: ASA<br>Sympt.:Self-complaints of breath abnormalities <br>Compound<br>Category: OSA symptoms",
          "Scale: ASA<br>Sympt.:Sleepiness at the wheel<br>Compound<br>Category: Sleep-related symptoms"
         ],
         "marker": {
          "color": "white",
          "line": {
           "color": "rgb(102, 197, 204)",
           "width": 1
          },
          "symbol": "circle"
         },
         "mode": "markers",
         "r": [
          20,
          20,
          20,
          20
         ],
         "showlegend": false,
         "theta": [
          "S010",
          "S009",
          "S003",
          "S011"
         ],
         "type": "scatterpolar",
         "uid": "a3940f1f-ae52-4807-bce7-440346ea5cbf"
        },
        {
         "hoverinfo": "text",
         "hovertext": [
          "Scale: SA-SDQ<br>Sympt.:Awakening during sleep<br>Compound<br>Category: Sleep-related symptoms"
         ],
         "marker": {
          "color": "white",
          "line": {
           "color": "rgb(246, 207, 113)",
           "width": 1
          },
          "symbol": "circle"
         },
         "mode": "markers",
         "r": [
          19
         ],
         "showlegend": false,
         "theta": [
          "S013"
         ],
         "type": "scatterpolar",
         "uid": "74f510ae-27eb-4ff9-be31-8c18feeed9c4"
        },
        {
         "hoverinfo": "text",
         "hovertext": [
          "Scale: STOP-Bang<br>Sympt.:Fatigue<br>Compound<br>Category: Sleep-related symptoms",
          "Scale: STOP-Bang<br>Sympt.:Daytime sleepiness<br>Compound<br>Category: Sleep-related symptoms"
         ],
         "marker": {
          "color": "white",
          "line": {
           "color": "rgb(248, 156, 116)",
           "width": 1
          },
          "symbol": "circle"
         },
         "mode": "markers",
         "r": [
          18,
          18
         ],
         "showlegend": false,
         "theta": [
          "S010",
          "S009"
         ],
         "type": "scatterpolar",
         "uid": "c8185514-fb9b-4d68-a6d2-eee3014de36e"
        },
        {
         "hoverinfo": "text",
         "hovertext": [
          "Scale: Berlin<br>Sympt.:Functionning complaints<br>Compound<br>Category: Sleep-related symptoms"
         ],
         "marker": {
          "color": "white",
          "line": {
           "color": "rgb(220, 176, 242)",
           "width": 1
          },
          "symbol": "circle"
         },
         "mode": "markers",
         "r": [
          17
         ],
         "showlegend": false,
         "theta": [
          "S012"
         ],
         "type": "scatterpolar",
         "uid": "7501538c-3ed8-4b65-b7e8-d7b7a2175021"
        },
        {
         "hoverinfo": "text",
         "hovertext": [
          "Scale: Haraldsson<br>Sympt.:Fatigue<br>Compound<br>Category: Sleep-related symptoms",
          "Scale: Haraldsson<br>Sympt.:Daytime sleepiness<br>Compound<br>Category: Sleep-related symptoms",
          "Scale: Haraldsson<br>Sympt.:Insomnia maintaining<br>Compound<br>Category: Sleep-related symptoms",
          "Scale: Haraldsson<br>Sympt.:Insomnia initiating<br>Compound<br>Category: Sleep-related symptoms"
         ],
         "marker": {
          "color": "white",
          "line": {
           "color": "rgb(135, 197, 95)",
           "width": 1
          },
          "symbol": "circle"
         },
         "mode": "markers",
         "r": [
          16,
          16,
          16,
          16
         ],
         "showlegend": false,
         "theta": [
          "S010",
          "S009",
          "S014",
          "S015"
         ],
         "type": "scatterpolar",
         "uid": "c9b84821-3417-4b55-ba9a-300110d7001f"
        },
        {
         "hoverinfo": "text",
         "hovertext": [
          "Scale: STOP<br>Sympt.:Fatigue<br>Compound<br>Category: Sleep-related symptoms",
          "Scale: STOP<br>Sympt.:Daytime sleepiness<br>Compound<br>Category: Sleep-related symptoms"
         ],
         "marker": {
          "color": "white",
          "line": {
           "color": "rgb(254, 136, 177)",
           "width": 1
          },
          "symbol": "circle"
         },
         "mode": "markers",
         "r": [
          14,
          14
         ],
         "showlegend": false,
         "theta": [
          "S010",
          "S009"
         ],
         "type": "scatterpolar",
         "uid": "2a6915d7-72ce-44b6-be08-e494909a5b43"
        },
        {
         "hoverinfo": "text",
         "hovertext": [
          "Scale: AS<br>Sympt.:Loud Snoring<br>Compound<br>Category: OSA symptoms",
          "Scale: AS<br>Sympt.:Snoring<br>Compound<br>Category: OSA symptoms"
         ],
         "marker": {
          "color": "white",
          "line": {
           "color": "rgb(180, 151, 231)",
           "width": 1
          },
          "symbol": "circle"
         },
         "mode": "markers",
         "r": [
          11,
          11
         ],
         "showlegend": false,
         "theta": [
          "S002",
          "S001"
         ],
         "type": "scatterpolar",
         "uid": "0bcf49fa-c346-40c1-87ae-f964a4a3f2e3"
        },
        {
         "fill": "toself",
         "fillcolor": "white",
         "line": {
          "color": "white",
          "width": 0
         },
         "r": [
          6,
          6,
          6,
          6,
          6,
          6,
          6,
          6,
          6,
          6,
          6,
          6,
          6,
          6,
          6,
          6,
          6,
          6,
          6,
          6,
          6,
          6,
          6,
          6,
          6
         ],
         "showlegend": false,
         "theta": [
          "S006",
          "S002",
          "S001",
          "S020",
          "S010",
          "S016",
          "S009",
          "S021",
          "S013",
          "S017",
          "S018",
          "S003",
          "S004",
          "S011",
          "S024",
          "S005",
          "S007",
          "S008",
          "S012",
          "S014",
          "S015",
          "S019",
          "S022",
          "S023",
          "S025"
         ],
         "type": "scatterpolar",
         "uid": "8a2b80e0-039f-481a-baf4-dffb69c68271"
        }
       ],
       "_js2py_pointsCallback": {},
       "_js2py_relayout": {},
       "_js2py_restyle": {},
       "_js2py_update": {},
       "_last_layout_edit_id": 23,
       "_last_trace_edit_id": 23,
       "_layout": {
        "autosize": true,
        "height": 500,
        "legend": {
         "font": {
          "color": "black",
          "size": 10
         }
        },
        "polar": {
         "angularaxis": {
          "direction": "counterclockwise",
          "gridcolor": "lightgrey",
          "rotation": 90,
          "tickfont": {
           "size": 7
          }
         },
         "bgcolor": "white",
         "radialaxis": {
          "color": "lightgrey",
          "dtick": 1,
          "gridcolor": "lightgrey",
          "gridwidth": 1,
          "layer": "below traces",
          "linecolor": "lightgrey",
          "range": [
           0,
           21
          ],
          "showgrid": true,
          "visible": true
         }
        },
        "template": {
         "data": {
          "bar": [
           {
            "error_x": {
             "color": "#2a3f5f"
            },
            "error_y": {
             "color": "#2a3f5f"
            },
            "marker": {
             "line": {
              "color": "#E5ECF6",
              "width": 0.5
             },
             "pattern": {
              "fillmode": "overlay",
              "size": 10,
              "solidity": 0.2
             }
            },
            "type": "bar"
           }
          ],
          "barpolar": [
           {
            "marker": {
             "line": {
              "color": "#E5ECF6",
              "width": 0.5
             },
             "pattern": {
              "fillmode": "overlay",
              "size": 10,
              "solidity": 0.2
             }
            },
            "type": "barpolar"
           }
          ],
          "carpet": [
           {
            "aaxis": {
             "endlinecolor": "#2a3f5f",
             "gridcolor": "white",
             "linecolor": "white",
             "minorgridcolor": "white",
             "startlinecolor": "#2a3f5f"
            },
            "baxis": {
             "endlinecolor": "#2a3f5f",
             "gridcolor": "white",
             "linecolor": "white",
             "minorgridcolor": "white",
             "startlinecolor": "#2a3f5f"
            },
            "type": "carpet"
           }
          ],
          "choropleth": [
           {
            "colorbar": {
             "outlinewidth": 0,
             "ticks": ""
            },
            "type": "choropleth"
           }
          ],
          "contour": [
           {
            "colorbar": {
             "outlinewidth": 0,
             "ticks": ""
            },
            "colorscale": [
             [
              0,
              "#0d0887"
             ],
             [
              0.1111111111111111,
              "#46039f"
             ],
             [
              0.2222222222222222,
              "#7201a8"
             ],
             [
              0.3333333333333333,
              "#9c179e"
             ],
             [
              0.4444444444444444,
              "#bd3786"
             ],
             [
              0.5555555555555556,
              "#d8576b"
             ],
             [
              0.6666666666666666,
              "#ed7953"
             ],
             [
              0.7777777777777778,
              "#fb9f3a"
             ],
             [
              0.8888888888888888,
              "#fdca26"
             ],
             [
              1,
              "#f0f921"
             ]
            ],
            "type": "contour"
           }
          ],
          "contourcarpet": [
           {
            "colorbar": {
             "outlinewidth": 0,
             "ticks": ""
            },
            "type": "contourcarpet"
           }
          ],
          "heatmap": [
           {
            "colorbar": {
             "outlinewidth": 0,
             "ticks": ""
            },
            "colorscale": [
             [
              0,
              "#0d0887"
             ],
             [
              0.1111111111111111,
              "#46039f"
             ],
             [
              0.2222222222222222,
              "#7201a8"
             ],
             [
              0.3333333333333333,
              "#9c179e"
             ],
             [
              0.4444444444444444,
              "#bd3786"
             ],
             [
              0.5555555555555556,
              "#d8576b"
             ],
             [
              0.6666666666666666,
              "#ed7953"
             ],
             [
              0.7777777777777778,
              "#fb9f3a"
             ],
             [
              0.8888888888888888,
              "#fdca26"
             ],
             [
              1,
              "#f0f921"
             ]
            ],
            "type": "heatmap"
           }
          ],
          "heatmapgl": [
           {
            "colorbar": {
             "outlinewidth": 0,
             "ticks": ""
            },
            "colorscale": [
             [
              0,
              "#0d0887"
             ],
             [
              0.1111111111111111,
              "#46039f"
             ],
             [
              0.2222222222222222,
              "#7201a8"
             ],
             [
              0.3333333333333333,
              "#9c179e"
             ],
             [
              0.4444444444444444,
              "#bd3786"
             ],
             [
              0.5555555555555556,
              "#d8576b"
             ],
             [
              0.6666666666666666,
              "#ed7953"
             ],
             [
              0.7777777777777778,
              "#fb9f3a"
             ],
             [
              0.8888888888888888,
              "#fdca26"
             ],
             [
              1,
              "#f0f921"
             ]
            ],
            "type": "heatmapgl"
           }
          ],
          "histogram": [
           {
            "marker": {
             "pattern": {
              "fillmode": "overlay",
              "size": 10,
              "solidity": 0.2
             }
            },
            "type": "histogram"
           }
          ],
          "histogram2d": [
           {
            "colorbar": {
             "outlinewidth": 0,
             "ticks": ""
            },
            "colorscale": [
             [
              0,
              "#0d0887"
             ],
             [
              0.1111111111111111,
              "#46039f"
             ],
             [
              0.2222222222222222,
              "#7201a8"
             ],
             [
              0.3333333333333333,
              "#9c179e"
             ],
             [
              0.4444444444444444,
              "#bd3786"
             ],
             [
              0.5555555555555556,
              "#d8576b"
             ],
             [
              0.6666666666666666,
              "#ed7953"
             ],
             [
              0.7777777777777778,
              "#fb9f3a"
             ],
             [
              0.8888888888888888,
              "#fdca26"
             ],
             [
              1,
              "#f0f921"
             ]
            ],
            "type": "histogram2d"
           }
          ],
          "histogram2dcontour": [
           {
            "colorbar": {
             "outlinewidth": 0,
             "ticks": ""
            },
            "colorscale": [
             [
              0,
              "#0d0887"
             ],
             [
              0.1111111111111111,
              "#46039f"
             ],
             [
              0.2222222222222222,
              "#7201a8"
             ],
             [
              0.3333333333333333,
              "#9c179e"
             ],
             [
              0.4444444444444444,
              "#bd3786"
             ],
             [
              0.5555555555555556,
              "#d8576b"
             ],
             [
              0.6666666666666666,
              "#ed7953"
             ],
             [
              0.7777777777777778,
              "#fb9f3a"
             ],
             [
              0.8888888888888888,
              "#fdca26"
             ],
             [
              1,
              "#f0f921"
             ]
            ],
            "type": "histogram2dcontour"
           }
          ],
          "mesh3d": [
           {
            "colorbar": {
             "outlinewidth": 0,
             "ticks": ""
            },
            "type": "mesh3d"
           }
          ],
          "parcoords": [
           {
            "line": {
             "colorbar": {
              "outlinewidth": 0,
              "ticks": ""
             }
            },
            "type": "parcoords"
           }
          ],
          "pie": [
           {
            "automargin": true,
            "type": "pie"
           }
          ],
          "scatter": [
           {
            "fillpattern": {
             "fillmode": "overlay",
             "size": 10,
             "solidity": 0.2
            },
            "type": "scatter"
           }
          ],
          "scatter3d": [
           {
            "line": {
             "colorbar": {
              "outlinewidth": 0,
              "ticks": ""
             }
            },
            "marker": {
             "colorbar": {
              "outlinewidth": 0,
              "ticks": ""
             }
            },
            "type": "scatter3d"
           }
          ],
          "scattercarpet": [
           {
            "marker": {
             "colorbar": {
              "outlinewidth": 0,
              "ticks": ""
             }
            },
            "type": "scattercarpet"
           }
          ],
          "scattergeo": [
           {
            "marker": {
             "colorbar": {
              "outlinewidth": 0,
              "ticks": ""
             }
            },
            "type": "scattergeo"
           }
          ],
          "scattergl": [
           {
            "marker": {
             "colorbar": {
              "outlinewidth": 0,
              "ticks": ""
             }
            },
            "type": "scattergl"
           }
          ],
          "scattermapbox": [
           {
            "marker": {
             "colorbar": {
              "outlinewidth": 0,
              "ticks": ""
             }
            },
            "type": "scattermapbox"
           }
          ],
          "scatterpolar": [
           {
            "marker": {
             "colorbar": {
              "outlinewidth": 0,
              "ticks": ""
             }
            },
            "type": "scatterpolar"
           }
          ],
          "scatterpolargl": [
           {
            "marker": {
             "colorbar": {
              "outlinewidth": 0,
              "ticks": ""
             }
            },
            "type": "scatterpolargl"
           }
          ],
          "scatterternary": [
           {
            "marker": {
             "colorbar": {
              "outlinewidth": 0,
              "ticks": ""
             }
            },
            "type": "scatterternary"
           }
          ],
          "surface": [
           {
            "colorbar": {
             "outlinewidth": 0,
             "ticks": ""
            },
            "colorscale": [
             [
              0,
              "#0d0887"
             ],
             [
              0.1111111111111111,
              "#46039f"
             ],
             [
              0.2222222222222222,
              "#7201a8"
             ],
             [
              0.3333333333333333,
              "#9c179e"
             ],
             [
              0.4444444444444444,
              "#bd3786"
             ],
             [
              0.5555555555555556,
              "#d8576b"
             ],
             [
              0.6666666666666666,
              "#ed7953"
             ],
             [
              0.7777777777777778,
              "#fb9f3a"
             ],
             [
              0.8888888888888888,
              "#fdca26"
             ],
             [
              1,
              "#f0f921"
             ]
            ],
            "type": "surface"
           }
          ],
          "table": [
           {
            "cells": {
             "fill": {
              "color": "#EBF0F8"
             },
             "line": {
              "color": "white"
             }
            },
            "header": {
             "fill": {
              "color": "#C8D4E3"
             },
             "line": {
              "color": "white"
             }
            },
            "type": "table"
           }
          ]
         },
         "layout": {
          "annotationdefaults": {
           "arrowcolor": "#2a3f5f",
           "arrowhead": 0,
           "arrowwidth": 1
          },
          "autotypenumbers": "strict",
          "coloraxis": {
           "colorbar": {
            "outlinewidth": 0,
            "ticks": ""
           }
          },
          "colorscale": {
           "diverging": [
            [
             0,
             "#8e0152"
            ],
            [
             0.1,
             "#c51b7d"
            ],
            [
             0.2,
             "#de77ae"
            ],
            [
             0.3,
             "#f1b6da"
            ],
            [
             0.4,
             "#fde0ef"
            ],
            [
             0.5,
             "#f7f7f7"
            ],
            [
             0.6,
             "#e6f5d0"
            ],
            [
             0.7,
             "#b8e186"
            ],
            [
             0.8,
             "#7fbc41"
            ],
            [
             0.9,
             "#4d9221"
            ],
            [
             1,
             "#276419"
            ]
           ],
           "sequential": [
            [
             0,
             "#0d0887"
            ],
            [
             0.1111111111111111,
             "#46039f"
            ],
            [
             0.2222222222222222,
             "#7201a8"
            ],
            [
             0.3333333333333333,
             "#9c179e"
            ],
            [
             0.4444444444444444,
             "#bd3786"
            ],
            [
             0.5555555555555556,
             "#d8576b"
            ],
            [
             0.6666666666666666,
             "#ed7953"
            ],
            [
             0.7777777777777778,
             "#fb9f3a"
            ],
            [
             0.8888888888888888,
             "#fdca26"
            ],
            [
             1,
             "#f0f921"
            ]
           ],
           "sequentialminus": [
            [
             0,
             "#0d0887"
            ],
            [
             0.1111111111111111,
             "#46039f"
            ],
            [
             0.2222222222222222,
             "#7201a8"
            ],
            [
             0.3333333333333333,
             "#9c179e"
            ],
            [
             0.4444444444444444,
             "#bd3786"
            ],
            [
             0.5555555555555556,
             "#d8576b"
            ],
            [
             0.6666666666666666,
             "#ed7953"
            ],
            [
             0.7777777777777778,
             "#fb9f3a"
            ],
            [
             0.8888888888888888,
             "#fdca26"
            ],
            [
             1,
             "#f0f921"
            ]
           ]
          },
          "colorway": [
           "#636efa",
           "#EF553B",
           "#00cc96",
           "#ab63fa",
           "#FFA15A",
           "#19d3f3",
           "#FF6692",
           "#B6E880",
           "#FF97FF",
           "#FECB52"
          ],
          "font": {
           "color": "#2a3f5f"
          },
          "geo": {
           "bgcolor": "white",
           "lakecolor": "white",
           "landcolor": "#E5ECF6",
           "showlakes": true,
           "showland": true,
           "subunitcolor": "white"
          },
          "hoverlabel": {
           "align": "left"
          },
          "hovermode": "closest",
          "mapbox": {
           "style": "light"
          },
          "paper_bgcolor": "white",
          "plot_bgcolor": "#E5ECF6",
          "polar": {
           "angularaxis": {
            "gridcolor": "white",
            "linecolor": "white",
            "ticks": ""
           },
           "bgcolor": "#E5ECF6",
           "radialaxis": {
            "gridcolor": "white",
            "linecolor": "white",
            "ticks": ""
           }
          },
          "scene": {
           "xaxis": {
            "backgroundcolor": "#E5ECF6",
            "gridcolor": "white",
            "gridwidth": 2,
            "linecolor": "white",
            "showbackground": true,
            "ticks": "",
            "zerolinecolor": "white"
           },
           "yaxis": {
            "backgroundcolor": "#E5ECF6",
            "gridcolor": "white",
            "gridwidth": 2,
            "linecolor": "white",
            "showbackground": true,
            "ticks": "",
            "zerolinecolor": "white"
           },
           "zaxis": {
            "backgroundcolor": "#E5ECF6",
            "gridcolor": "white",
            "gridwidth": 2,
            "linecolor": "white",
            "showbackground": true,
            "ticks": "",
            "zerolinecolor": "white"
           }
          },
          "shapedefaults": {
           "line": {
            "color": "#2a3f5f"
           }
          },
          "ternary": {
           "aaxis": {
            "gridcolor": "white",
            "linecolor": "white",
            "ticks": ""
           },
           "baxis": {
            "gridcolor": "white",
            "linecolor": "white",
            "ticks": ""
           },
           "bgcolor": "#E5ECF6",
           "caxis": {
            "gridcolor": "white",
            "linecolor": "white",
            "ticks": ""
           }
          },
          "title": {
           "x": 0.05
          },
          "xaxis": {
           "automargin": true,
           "gridcolor": "white",
           "linecolor": "white",
           "ticks": "",
           "title": {
            "standoff": 15
           },
           "zerolinecolor": "white",
           "zerolinewidth": 2
          },
          "yaxis": {
           "automargin": true,
           "gridcolor": "white",
           "linecolor": "white",
           "ticks": "",
           "title": {
            "standoff": 15
           },
           "zerolinecolor": "white",
           "zerolinewidth": 2
          }
         }
        },
        "width": 600
       },
       "_py2js_animate": {},
       "_py2js_deleteTraces": {},
       "_py2js_moveTraces": {},
       "_py2js_removeTraceProps": {},
       "_py2js_restyle": {},
       "_view_count": 1
      }
     },
     "30b5d8bb5dfa4965b62e603693de81ba": {
      "model_module": "@jupyter-widgets/base",
      "model_module_version": "2.0.0",
      "model_name": "LayoutModel",
      "state": {}
     },
     "31b477c6c9cd4e94818956e0866168fa": {
      "model_module": "@jupyter-widgets/base",
      "model_module_version": "2.0.0",
      "model_name": "LayoutModel",
      "state": {
       "grid_gap": "10px",
       "justify_content": "flex-start",
       "width": "100%"
      }
     },
     "349df3aac07e41419cd1a74697b7aac8": {
      "model_module": "@jupyter-widgets/controls",
      "model_module_version": "2.0.0",
      "model_name": "ButtonStyleModel",
      "state": {
       "font_family": null,
       "font_size": null,
       "font_style": null,
       "font_variant": null,
       "font_weight": null,
       "text_color": null,
       "text_decoration": null
      }
     },
     "351b950b25354dd2ac20262be3fdf6b3": {
      "model_module": "@jupyter-widgets/controls",
      "model_module_version": "2.0.0",
      "model_name": "HBoxModel",
      "state": {
       "children": [
        "IPY_MODEL_7cab1ffb3f884abb8311b2d263c36889",
        "IPY_MODEL_f69361a3e92b41659a3e42df97ce270e",
        "IPY_MODEL_d088ea66f6244ef08702fc00e1481c3e",
        "IPY_MODEL_aba053ab0ff74fe6a37f21037deedfb0"
       ],
       "layout": "IPY_MODEL_52c22c67f44a4a0cb22ce0196c15e72b"
      }
     },
     "3a9d4554671a48e0b446ccfd778a7a10": {
      "model_module": "@jupyter-widgets/base",
      "model_module_version": "2.0.0",
      "model_name": "LayoutModel",
      "state": {
       "grid_gap": "10px",
       "width": "100%"
      }
     },
     "3d24fba0c559417f882ea8e887ec0f0c": {
      "model_module": "@jupyter-widgets/controls",
      "model_module_version": "2.0.0",
      "model_name": "CheckboxStyleModel",
      "state": {
       "description_width": ""
      }
     },
     "3dd39fb2c7344b96bb6aa8d2bf206985": {
      "model_module": "@jupyter-widgets/controls",
      "model_module_version": "2.0.0",
      "model_name": "CheckboxStyleModel",
      "state": {
       "description_width": ""
      }
     },
     "4160b9d0385542529bc7561d3fd4baf1": {
      "model_module": "@jupyter-widgets/controls",
      "model_module_version": "2.0.0",
      "model_name": "CheckboxModel",
      "state": {
       "description": "AS",
       "disabled": false,
       "layout": "IPY_MODEL_ba6eb3d5ce9b46caaa2140d7c84df37d",
       "style": "IPY_MODEL_cb1e054bc61c4feb9a31be2258d05695",
       "value": false
      }
     },
     "41a26d664e0648c399c69561e5c9253c": {
      "model_module": "@jupyter-widgets/base",
      "model_module_version": "2.0.0",
      "model_name": "LayoutModel",
      "state": {
       "align_items": "flex-start",
       "grid_gap": "10px",
       "overflow": "visible",
       "width": "max-content"
      }
     },
     "429d8183a62e4a90a6a1e6bf31ecef88": {
      "model_module": "@jupyter-widgets/base",
      "model_module_version": "2.0.0",
      "model_name": "LayoutModel",
      "state": {
       "justify_content": "flex-start",
       "width": "100%"
      }
     },
     "4581810c36564df7965d4ca929be5220": {
      "model_module": "@jupyter-widgets/base",
      "model_module_version": "2.0.0",
      "model_name": "LayoutModel",
      "state": {}
     },
     "46cd5e77f2894693b0c9c5388a1ad673": {
      "model_module": "@jupyter-widgets/controls",
      "model_module_version": "2.0.0",
      "model_name": "ToggleButtonsStyleModel",
      "state": {
       "button_width": "",
       "description_width": ""
      }
     },
     "4c1004678a6342ac854da31e6ac83a49": {
      "model_module": "@jupyter-widgets/controls",
      "model_module_version": "2.0.0",
      "model_name": "HBoxModel",
      "state": {
       "children": [
        "IPY_MODEL_bc016b44316d44a4acf58e7ad4d19385",
        "IPY_MODEL_e2fd14e271ba4337b362437dc4eb177c",
        "IPY_MODEL_fc9c86f6621344aaa20c7134ed9ca0f5",
        "IPY_MODEL_7ce6b76735aa401ba577a6801dbeef4e"
       ],
       "layout": "IPY_MODEL_c065fa9c0a164cbba6a70e40a70311ac"
      }
     },
     "4ceffe3578234658a33fceb109719133": {
      "model_module": "@jupyter-widgets/base",
      "model_module_version": "2.0.0",
      "model_name": "LayoutModel",
      "state": {}
     },
     "4db4f17d4000473e96af76bef923e4b3": {
      "model_module": "@jupyter-widgets/controls",
      "model_module_version": "2.0.0",
      "model_name": "CheckboxStyleModel",
      "state": {
       "description_width": ""
      }
     },
     "4df7751e40854f9d80047c39b2805f92": {
      "model_module": "@jupyter-widgets/base",
      "model_module_version": "2.0.0",
      "model_name": "LayoutModel",
      "state": {
       "display": "flex",
       "flex_flow": "row",
       "grid_gap": "5px"
      }
     },
     "4f481aaa214049aaa2af6b6382e18d21": {
      "model_module": "@jupyter-widgets/controls",
      "model_module_version": "2.0.0",
      "model_name": "VBoxModel",
      "state": {
       "children": [
        "IPY_MODEL_955ba4a2bee646c88fcf0a894f934e0c",
        "IPY_MODEL_e1eaf1bfcc11495ea78523a342b9bfc9",
        "IPY_MODEL_a8159e24aa87407fa1ce3e904275ca65"
       ],
       "layout": "IPY_MODEL_ea6dec3c07ec4c719a9c1b03a1a35725"
      }
     },
     "51ba7d3d2c8f4ca584d0a1aa15bbca3a": {
      "model_module": "@jupyter-widgets/controls",
      "model_module_version": "2.0.0",
      "model_name": "ButtonModel",
      "state": {
       "description": "Generate",
       "icon": "play-circle",
       "layout": "IPY_MODEL_d558ba669aaa42e797229e49c9a99c52",
       "style": "IPY_MODEL_d6d96eaf07d24f9793a457d66e4b9f89",
       "tooltip": "Generate with the above references"
      }
     },
     "523cd6d78b3c4f26844d1be819643393": {
      "model_module": "@jupyter-widgets/controls",
      "model_module_version": "2.0.0",
      "model_name": "HBoxModel",
      "state": {
       "children": [
        "IPY_MODEL_deeb3839c67b4b13b45c5ea6a3aeed9c",
        "IPY_MODEL_5b022fa1ef824980aaa67327e3729c02"
       ],
       "layout": "IPY_MODEL_a6c379009e654e9ca39239e029d36493"
      }
     },
     "52c22c67f44a4a0cb22ce0196c15e72b": {
      "model_module": "@jupyter-widgets/base",
      "model_module_version": "2.0.0",
      "model_name": "LayoutModel",
      "state": {
       "align_items": "center",
       "grid_gap": "10px",
       "justify_content": "flex-start",
       "width": "100%"
      }
     },
     "58d797709cc844e09cf4f8d12d725856": {
      "model_module": "@jupyter-widgets/controls",
      "model_module_version": "2.0.0",
      "model_name": "SliderStyleModel",
      "state": {
       "description_width": ""
      }
     },
     "5b022fa1ef824980aaa67327e3729c02": {
      "model_module": "@jupyter-widgets/controls",
      "model_module_version": "2.0.0",
      "model_name": "FileUploadModel",
      "state": {
       "accept": ".xsl, .xlsx",
       "description_allow_html": false,
       "layout": "IPY_MODEL_8a8ea3b9650c419d887b291a1f81c8d7",
       "style": "IPY_MODEL_9824caf725a84e49b08a5f8b698a9d26",
       "tooltip": "Upload your excel file"
      }
     },
     "5da98a280b4f4fd0aae4ed6b2efb7129": {
      "model_module": "@jupyter-widgets/base",
      "model_module_version": "2.0.0",
      "model_name": "LayoutModel",
      "state": {}
     },
     "5fa592b63cab47fd97dc5eee623e8566": {
      "model_module": "@jupyter-widgets/controls",
      "model_module_version": "2.0.0",
      "model_name": "HBoxModel",
      "state": {
       "children": [
        "IPY_MODEL_a6467ba6951546efb73333c460f8649a",
        "IPY_MODEL_839e89ece6ac4dd089831c9f89ad35f0"
       ],
       "layout": "IPY_MODEL_d57a96e041c5460e93da9c47af6d83b9"
      }
     },
     "611970cbe10b4b83a5d0abcbd3d8ed0d": {
      "model_module": "@jupyter-widgets/controls",
      "model_module_version": "2.0.0",
      "model_name": "HBoxModel",
      "state": {
       "children": [
        "IPY_MODEL_88232f24c42b436faac3f8afb5667397"
       ],
       "layout": "IPY_MODEL_1e32e2b1c6fb481281f48d51a802c457"
      }
     },
     "66971d85e3734096a057f2fcf58db3e6": {
      "model_module": "@jupyter-widgets/base",
      "model_module_version": "2.0.0",
      "model_name": "LayoutModel",
      "state": {}
     },
     "6b8ee28581354cbcb6accfe76e8ff534": {
      "model_module": "@jupyter-widgets/controls",
      "model_module_version": "2.0.0",
      "model_name": "SliderStyleModel",
      "state": {
       "description_width": ""
      }
     },
     "6c2ba2363a814c4fb71a56053e9c4459": {
      "model_module": "@jupyter-widgets/base",
      "model_module_version": "2.0.0",
      "model_name": "LayoutModel",
      "state": {
       "align_items": "flex-start",
       "grid_gap": "10px",
       "overflow": "visible",
       "width": "max-content"
      }
     },
     "6df351c2db414194a5db7be934381347": {
      "model_module": "@jupyter-widgets/base",
      "model_module_version": "2.0.0",
      "model_name": "LayoutModel",
      "state": {}
     },
     "6e43de3f9a1a48d2a2a340c10839a1f5": {
      "model_module": "@jupyter-widgets/controls",
      "model_module_version": "2.0.0",
      "model_name": "ButtonStyleModel",
      "state": {
       "font_family": null,
       "font_size": null,
       "font_style": null,
       "font_variant": null,
       "font_weight": null,
       "text_color": null,
       "text_decoration": null
      }
     },
     "72d84c4c312f495d9387dd74bf540f05": {
      "model_module": "@jupyter-widgets/base",
      "model_module_version": "2.0.0",
      "model_name": "LayoutModel",
      "state": {}
     },
     "736542da826d4d7f8ad36698aa885ba7": {
      "model_module": "@jupyter-widgets/output",
      "model_module_version": "1.0.0",
      "model_name": "OutputModel",
      "state": {
       "layout": "IPY_MODEL_90bdb7ed52ee48ceab697b93bc0c8bec"
      }
     },
     "737aeb59d71f49eba3e8eedaec6bb97e": {
      "model_module": "@jupyter-widgets/output",
      "model_module_version": "1.0.0",
      "model_name": "OutputModel",
      "state": {
       "layout": "IPY_MODEL_a03423092645422885b97eb1b8a36984",
       "outputs": [
        {
         "data": {
          "text/html": "<div>\n<style scoped>\n    .dataframe tbody tr th:only-of-type {\n        vertical-align: middle;\n    }\n\n    .dataframe tbody tr th {\n        vertical-align: top;\n    }\n\n    .dataframe thead th {\n        text-align: right;\n    }\n</style>\n<table border=\"1\" class=\"dataframe\">\n  <thead>\n    <tr style=\"text-align: right;\">\n      <th></th>\n      <th>Category</th>\n      <th>Subcategory</th>\n      <th>Ab</th>\n      <th>Symptom</th>\n      <th>GOAL</th>\n      <th>NoSAS</th>\n      <th>STOP</th>\n      <th>STOP-Bang</th>\n      <th>Berlin</th>\n      <th>OSA 50</th>\n      <th>ASA</th>\n      <th>Wisconsin Q</th>\n      <th>SA-SDQ</th>\n      <th>Haraldsson</th>\n      <th>AS</th>\n    </tr>\n  </thead>\n  <tbody>\n    <tr>\n      <th>0</th>\n      <td>OSA symptoms</td>\n      <td>Snoring</td>\n      <td>S001</td>\n      <td>Snoring</td>\n      <td>0</td>\n      <td>1</td>\n      <td>0</td>\n      <td>0</td>\n      <td>1</td>\n      <td>0</td>\n      <td>1</td>\n      <td>1</td>\n      <td>0</td>\n      <td>1</td>\n      <td>2</td>\n    </tr>\n    <tr>\n      <th>1</th>\n      <td>OSA symptoms</td>\n      <td>Snoring</td>\n      <td>S002</td>\n      <td>Loud Snoring</td>\n      <td>1</td>\n      <td>0</td>\n      <td>1</td>\n      <td>1</td>\n      <td>1</td>\n      <td>0</td>\n      <td>1</td>\n      <td>1</td>\n      <td>1</td>\n      <td>0</td>\n      <td>2</td>\n    </tr>\n    <tr>\n      <th>2</th>\n      <td>OSA symptoms</td>\n      <td>Breath abnormalities-related complaints</td>\n      <td>S003</td>\n      <td>Self-complaints of breath abnormalities</td>\n      <td>0</td>\n      <td>0</td>\n      <td>0</td>\n      <td>0</td>\n      <td>0</td>\n      <td>0</td>\n      <td>2</td>\n      <td>0</td>\n      <td>1</td>\n      <td>0</td>\n      <td>0</td>\n    </tr>\n    <tr>\n      <th>3</th>\n      <td>OSA symptoms</td>\n      <td>Breath abnormalities-related complaints</td>\n      <td>S004</td>\n      <td>Breath abnormalities complaints reported by other</td>\n      <td>0</td>\n      <td>0</td>\n      <td>0</td>\n      <td>0</td>\n      <td>1</td>\n      <td>1</td>\n      <td>0</td>\n      <td>0</td>\n      <td>0</td>\n      <td>0</td>\n      <td>0</td>\n    </tr>\n    <tr>\n      <th>4</th>\n      <td>OSA symptoms</td>\n      <td>Breath abnormalities-related complaints</td>\n      <td>S005</td>\n      <td>Sweating</td>\n      <td>0</td>\n      <td>0</td>\n      <td>0</td>\n      <td>0</td>\n      <td>0</td>\n      <td>0</td>\n      <td>0</td>\n      <td>0</td>\n      <td>1</td>\n      <td>0</td>\n      <td>0</td>\n    </tr>\n  </tbody>\n</table>\n</div>",
          "text/plain": "       Category                              Subcategory    Ab  \\\n0  OSA symptoms                                  Snoring  S001   \n1  OSA symptoms                                  Snoring  S002   \n2  OSA symptoms  Breath abnormalities-related complaints  S003   \n3  OSA symptoms  Breath abnormalities-related complaints  S004   \n4  OSA symptoms  Breath abnormalities-related complaints  S005   \n\n                                             Symptom  GOAL  NoSAS  STOP  \\\n0                                            Snoring     0      1     0   \n1                                       Loud Snoring     1      0     1   \n2           Self-complaints of breath abnormalities      0      0     0   \n3  Breath abnormalities complaints reported by other     0      0     0   \n4                                           Sweating     0      0     0   \n\n   STOP-Bang  Berlin  OSA 50  ASA  Wisconsin Q  SA-SDQ  Haraldsson  AS  \n0          0       1       0    1            1       0           1   2  \n1          1       1       0    1            1       1           0   2  \n2          0       0       0    2            0       1           0   0  \n3          0       1       1    0            0       0           0   0  \n4          0       0       0    0            0       1           0   0  "
         },
         "metadata": {},
         "output_type": "display_data"
        }
       ]
      }
     },
     "73b50be7139c4a2280fa6f417eee8015": {
      "model_module": "@jupyter-widgets/base",
      "model_module_version": "2.0.0",
      "model_name": "LayoutModel",
      "state": {}
     },
     "759acc2a466d41a6bb5607e8a4e6e4a2": {
      "model_module": "@jupyter-widgets/controls",
      "model_module_version": "2.0.0",
      "model_name": "CheckboxModel",
      "state": {
       "description": "STOP",
       "disabled": false,
       "layout": "IPY_MODEL_5da98a280b4f4fd0aae4ed6b2efb7129",
       "style": "IPY_MODEL_7d2acc40b91b4411b25e9b3501c8d6c3",
       "value": false
      }
     },
     "7cab1ffb3f884abb8311b2d263c36889": {
      "model_module": "@jupyter-widgets/controls",
      "model_module_version": "2.0.0",
      "model_name": "TextModel",
      "state": {
       "layout": "IPY_MODEL_4ceffe3578234658a33fceb109719133",
       "placeholder": "File name (figure_example.pdf)",
       "style": "IPY_MODEL_f7662cfe56874010a10c7efd18a51e15",
       "tooltip": "Supported formats: ['png', 'jpg', 'jpeg', 'webp', 'svg', 'pdf', 'eps', 'json']"
      }
     },
     "7ce6b76735aa401ba577a6801dbeef4e": {
      "model_module": "@jupyter-widgets/output",
      "model_module_version": "1.0.0",
      "model_name": "OutputModel",
      "state": {
       "layout": "IPY_MODEL_caad3ab24c8745dfba10524a07c2d8b4"
      }
     },
     "7d2acc40b91b4411b25e9b3501c8d6c3": {
      "model_module": "@jupyter-widgets/controls",
      "model_module_version": "2.0.0",
      "model_name": "CheckboxStyleModel",
      "state": {
       "description_width": ""
      }
     },
     "7d61b056e2a74729911e3af03c3e4558": {
      "model_module": "@jupyter-widgets/controls",
      "model_module_version": "2.0.0",
      "model_name": "DropdownModel",
      "state": {
       "_options_labels": [
        "Alphabet",
        "Antique",
        "Bold",
        "D3",
        "Dark2",
        "Dark24",
        "G10",
        "Light24",
        "Pastel",
        "Pastel1",
        "Pastel2",
        "Plotly",
        "Prism",
        "Safe",
        "Set1",
        "Set2",
        "Set3",
        "T10",
        "Vivid"
       ],
       "description": "Color Palette",
       "index": 8,
       "layout": "IPY_MODEL_8131843c582246c8855d9a2d93257fb1",
       "style": "IPY_MODEL_ded1d544796d4a18b113d239b485fc49"
      }
     },
     "7f6f889ebda342d59b2356e273ff1012": {
      "model_module": "@jupyter-widgets/controls",
      "model_module_version": "2.0.0",
      "model_name": "IntSliderModel",
      "state": {
       "behavior": "drag-tap",
       "description": "Width :",
       "layout": "IPY_MODEL_911a1e1e16584d4e83fe50fc79947818",
       "max": 1280,
       "min": 300,
       "style": "IPY_MODEL_6b8ee28581354cbcb6accfe76e8ff534",
       "value": 411
      }
     },
     "80d7e571b61145c19b4e45c007ea8ff1": {
      "model_module": "@jupyter-widgets/controls",
      "model_module_version": "2.0.0",
      "model_name": "ToggleButtonsModel",
      "state": {
       "_options_labels": [
        "Occurences",
        "Category"
       ],
       "button_style": "",
       "description": "Sort by ",
       "icons": [],
       "index": 0,
       "layout": "IPY_MODEL_4df7751e40854f9d80047c39b2805f92",
       "style": "IPY_MODEL_46cd5e77f2894693b0c9c5388a1ad673",
       "tooltips": [
        "Sort by number of occurences",
        "Sort by category and by occurences"
       ]
      }
     },
     "80e35ddebf9e400db951e29cd99415de": {
      "model_module": "@jupyter-widgets/base",
      "model_module_version": "2.0.0",
      "model_name": "LayoutModel",
      "state": {}
     },
     "8131843c582246c8855d9a2d93257fb1": {
      "model_module": "@jupyter-widgets/base",
      "model_module_version": "2.0.0",
      "model_name": "LayoutModel",
      "state": {}
     },
     "8194bf71b6bd44f0aabb27cb58e38be5": {
      "model_module": "@jupyter-widgets/base",
      "model_module_version": "2.0.0",
      "model_name": "LayoutModel",
      "state": {}
     },
     "839e89ece6ac4dd089831c9f89ad35f0": {
      "model_module": "@jupyter-widgets/controls",
      "model_module_version": "2.0.0",
      "model_name": "IntSliderModel",
      "state": {
       "behavior": "drag-tap",
       "description": "Width :",
       "layout": "IPY_MODEL_72d84c4c312f495d9387dd74bf540f05",
       "max": 1280,
       "min": 300,
       "style": "IPY_MODEL_58d797709cc844e09cf4f8d12d725856",
       "value": 600
      }
     },
     "88232f24c42b436faac3f8afb5667397": {
      "model_module": "@jupyter-widgets/controls",
      "model_module_version": "2.0.0",
      "model_name": "IntSliderModel",
      "state": {
       "behavior": "drag-tap",
       "description": "Max Radius :",
       "layout": "IPY_MODEL_66971d85e3734096a057f2fcf58db3e6",
       "max": 50,
       "min": 6,
       "style": "IPY_MODEL_21d507fb8a6b4a8b927a6be2c736386b",
       "value": 20
      }
     },
     "8a8ea3b9650c419d887b291a1f81c8d7": {
      "model_module": "@jupyter-widgets/base",
      "model_module_version": "2.0.0",
      "model_name": "LayoutModel",
      "state": {
       "display": "none"
      }
     },
     "8f49dfedea314a4c8ecd65171c3e256b": {
      "model_module": "@jupyter-widgets/controls",
      "model_module_version": "2.0.0",
      "model_name": "CheckboxStyleModel",
      "state": {
       "description_width": ""
      }
     },
     "90bdb7ed52ee48ceab697b93bc0c8bec": {
      "model_module": "@jupyter-widgets/base",
      "model_module_version": "2.0.0",
      "model_name": "LayoutModel",
      "state": {}
     },
     "910772f3302b4ad39cbd83bf84d2c537": {
      "model_module": "@jupyter-widgets/controls",
      "model_module_version": "2.0.0",
      "model_name": "SliderStyleModel",
      "state": {
       "description_width": ""
      }
     },
     "911a1e1e16584d4e83fe50fc79947818": {
      "model_module": "@jupyter-widgets/base",
      "model_module_version": "2.0.0",
      "model_name": "LayoutModel",
      "state": {}
     },
     "9389deec26b84c0eb5775ad1c636b6c7": {
      "model_module": "@jupyter-widgets/base",
      "model_module_version": "2.0.0",
      "model_name": "LayoutModel",
      "state": {
       "align_items": "flex-start",
       "grid_gap": "20px",
       "overflow": "visible",
       "width": "max-content"
      }
     },
     "955ba4a2bee646c88fcf0a894f934e0c": {
      "model_module": "@jupyter-widgets/controls",
      "model_module_version": "2.0.0",
      "model_name": "GridBoxModel",
      "state": {
       "children": [
        "IPY_MODEL_faa4b421d9384b3294469861bdf8a75e",
        "IPY_MODEL_053f7ef2ca8c433e8eafa18fff337f8f",
        "IPY_MODEL_759acc2a466d41a6bb5607e8a4e6e4a2",
        "IPY_MODEL_e8a778238c31459daee16337f0cb186b",
        "IPY_MODEL_d8dcfd4af0064724b3d8172d858930cd",
        "IPY_MODEL_cd1d143c2ce249e8a9e896b7fca24b0d",
        "IPY_MODEL_2e16c56ff61647d38142c38f528bf00c",
        "IPY_MODEL_003d00ac09944e5780c3bfa66e19f0d2",
        "IPY_MODEL_fe5ed4c3ff2e4955ad35c21531f6f51b",
        "IPY_MODEL_a5b7dbe920d246778f427c998419d686",
        "IPY_MODEL_4160b9d0385542529bc7561d3fd4baf1"
       ],
       "layout": "IPY_MODEL_061476ff36494dbda6479440780bd3d9"
      }
     },
     "96989c73292c4e618591679013c23aec": {
      "model_module": "@jupyter-widgets/output",
      "model_module_version": "1.0.0",
      "model_name": "OutputModel",
      "state": {
       "layout": "IPY_MODEL_a70259b9c11b414fbb8ed6f9c46ddd35"
      }
     },
     "9824caf725a84e49b08a5f8b698a9d26": {
      "model_module": "@jupyter-widgets/controls",
      "model_module_version": "2.0.0",
      "model_name": "ButtonStyleModel",
      "state": {
       "font_family": null,
       "font_size": null,
       "font_style": null,
       "font_variant": null,
       "font_weight": null,
       "text_color": null,
       "text_decoration": null
      }
     },
     "98d241721fc549699dc2bc9460063010": {
      "model_module": "@jupyter-widgets/base",
      "model_module_version": "2.0.0",
      "model_name": "LayoutModel",
      "state": {}
     },
     "9c9d722b8d5348beaa45fa052c128568": {
      "model_module": "@jupyter-widgets/controls",
      "model_module_version": "2.0.0",
      "model_name": "DescriptionStyleModel",
      "state": {
       "description_width": ""
      }
     },
     "9e920ff1331e42d88b068c081d6aa4a6": {
      "model_module": "jupyterlab-plotly",
      "model_module_version": "^5.13.0",
      "model_name": "FigureModel",
      "state": {
       "_config": {
        "editSelection": false,
        "plotlyServerURL": "https://plot.ly"
       },
       "_data": [
        {
         "alignmentgroup": "True",
         "hovertemplate": "Category=OSA symptoms<br>Symptom=%{x}<br>Number of questionnaires=%{y}<extra></extra>",
         "legendgroup": "OSA symptoms",
         "marker": {
          "color": "rgb(102, 197, 204)",
          "pattern": {
           "shape": ""
          }
         },
         "name": "OSA symptoms",
         "offsetgroup": "OSA symptoms",
         "orientation": "v",
         "showlegend": true,
         "textposition": "auto",
         "type": "bar",
         "uid": "977e091b-60c6-4dd3-bcbf-2890e1e8d315",
         "x": [
          "Stop breathing observations",
          "Loud Snoring",
          "Snoring",
          "Self-complaints of breath abnormalities ",
          "Breath abnormalities complaints reported by other",
          "Sweating",
          "Positional promoting factor",
          "Alcohol promoting factor"
         ],
         "xaxis": "x",
         "y": [
          9,
          8,
          6,
          2,
          2,
          1,
          1,
          1
         ],
         "yaxis": "y"
        },
        {
         "alignmentgroup": "True",
         "hovertemplate": "Category=Sleep-related symptoms<br>Symptom=%{x}<br>Number of questionnaires=%{y}<extra></extra>",
         "legendgroup": "Sleep-related symptoms",
         "marker": {
          "color": "rgb(246, 207, 113)",
          "pattern": {
           "shape": ""
          }
         },
         "name": "Sleep-related symptoms",
         "offsetgroup": "Sleep-related symptoms",
         "orientation": "v",
         "showlegend": true,
         "textposition": "auto",
         "type": "bar",
         "uid": "551c59b2-44ea-472d-a5ec-a1c16681ac8a",
         "x": [
          "Fatigue",
          "Daytime sleepiness",
          "Awakening during sleep",
          "Sleepiness at the wheel",
          "Functionning complaints",
          "Insomnia maintaining",
          "Insomnia initiating"
         ],
         "xaxis": "x",
         "y": [
          5,
          4,
          3,
          2,
          1,
          1,
          1
         ],
         "yaxis": "y"
        },
        {
         "alignmentgroup": "True",
         "hovertemplate": "Category=Clinical characteristics<br>Symptom=%{x}<br>Number of questionnaires=%{y}<extra></extra>",
         "legendgroup": "Clinical characteristics",
         "marker": {
          "color": "rgb(248, 156, 116)",
          "pattern": {
           "shape": ""
          }
         },
         "name": "Clinical characteristics",
         "offsetgroup": "Clinical characteristics",
         "orientation": "v",
         "showlegend": true,
         "textposition": "auto",
         "type": "bar",
         "uid": "ef84b962-2575-49c3-969b-c0b69e04710c",
         "x": [
          "BMI",
          "Age",
          "HBP",
          "Sex",
          "Neck circumference",
          "Amygdala/Toncil anatomical factor",
          "Waist circumference ",
          "Tobacco",
          "Nose anatomical factor",
          "Craniofacial anatomical factor"
         ],
         "xaxis": "x",
         "y": [
          6,
          5,
          4,
          3,
          3,
          2,
          1,
          1,
          1,
          1
         ],
         "yaxis": "y"
        }
       ],
       "_js2py_pointsCallback": {},
       "_js2py_relayout": {},
       "_js2py_restyle": {},
       "_js2py_update": {},
       "_last_layout_edit_id": 63,
       "_last_trace_edit_id": 63,
       "_layout": {
        "barmode": "relative",
        "height": 600,
        "legend": {
         "title": {
          "text": "Category"
         },
         "tracegroupgap": 0
        },
        "margin": {
         "t": 60
        },
        "template": {
         "data": {
          "bar": [
           {
            "error_x": {
             "color": "#2a3f5f"
            },
            "error_y": {
             "color": "#2a3f5f"
            },
            "marker": {
             "line": {
              "color": "#E5ECF6",
              "width": 0.5
             },
             "pattern": {
              "fillmode": "overlay",
              "size": 10,
              "solidity": 0.2
             }
            },
            "type": "bar"
           }
          ],
          "barpolar": [
           {
            "marker": {
             "line": {
              "color": "#E5ECF6",
              "width": 0.5
             },
             "pattern": {
              "fillmode": "overlay",
              "size": 10,
              "solidity": 0.2
             }
            },
            "type": "barpolar"
           }
          ],
          "carpet": [
           {
            "aaxis": {
             "endlinecolor": "#2a3f5f",
             "gridcolor": "white",
             "linecolor": "white",
             "minorgridcolor": "white",
             "startlinecolor": "#2a3f5f"
            },
            "baxis": {
             "endlinecolor": "#2a3f5f",
             "gridcolor": "white",
             "linecolor": "white",
             "minorgridcolor": "white",
             "startlinecolor": "#2a3f5f"
            },
            "type": "carpet"
           }
          ],
          "choropleth": [
           {
            "colorbar": {
             "outlinewidth": 0,
             "ticks": ""
            },
            "type": "choropleth"
           }
          ],
          "contour": [
           {
            "colorbar": {
             "outlinewidth": 0,
             "ticks": ""
            },
            "colorscale": [
             [
              0,
              "#0d0887"
             ],
             [
              0.1111111111111111,
              "#46039f"
             ],
             [
              0.2222222222222222,
              "#7201a8"
             ],
             [
              0.3333333333333333,
              "#9c179e"
             ],
             [
              0.4444444444444444,
              "#bd3786"
             ],
             [
              0.5555555555555556,
              "#d8576b"
             ],
             [
              0.6666666666666666,
              "#ed7953"
             ],
             [
              0.7777777777777778,
              "#fb9f3a"
             ],
             [
              0.8888888888888888,
              "#fdca26"
             ],
             [
              1,
              "#f0f921"
             ]
            ],
            "type": "contour"
           }
          ],
          "contourcarpet": [
           {
            "colorbar": {
             "outlinewidth": 0,
             "ticks": ""
            },
            "type": "contourcarpet"
           }
          ],
          "heatmap": [
           {
            "colorbar": {
             "outlinewidth": 0,
             "ticks": ""
            },
            "colorscale": [
             [
              0,
              "#0d0887"
             ],
             [
              0.1111111111111111,
              "#46039f"
             ],
             [
              0.2222222222222222,
              "#7201a8"
             ],
             [
              0.3333333333333333,
              "#9c179e"
             ],
             [
              0.4444444444444444,
              "#bd3786"
             ],
             [
              0.5555555555555556,
              "#d8576b"
             ],
             [
              0.6666666666666666,
              "#ed7953"
             ],
             [
              0.7777777777777778,
              "#fb9f3a"
             ],
             [
              0.8888888888888888,
              "#fdca26"
             ],
             [
              1,
              "#f0f921"
             ]
            ],
            "type": "heatmap"
           }
          ],
          "heatmapgl": [
           {
            "colorbar": {
             "outlinewidth": 0,
             "ticks": ""
            },
            "colorscale": [
             [
              0,
              "#0d0887"
             ],
             [
              0.1111111111111111,
              "#46039f"
             ],
             [
              0.2222222222222222,
              "#7201a8"
             ],
             [
              0.3333333333333333,
              "#9c179e"
             ],
             [
              0.4444444444444444,
              "#bd3786"
             ],
             [
              0.5555555555555556,
              "#d8576b"
             ],
             [
              0.6666666666666666,
              "#ed7953"
             ],
             [
              0.7777777777777778,
              "#fb9f3a"
             ],
             [
              0.8888888888888888,
              "#fdca26"
             ],
             [
              1,
              "#f0f921"
             ]
            ],
            "type": "heatmapgl"
           }
          ],
          "histogram": [
           {
            "marker": {
             "pattern": {
              "fillmode": "overlay",
              "size": 10,
              "solidity": 0.2
             }
            },
            "type": "histogram"
           }
          ],
          "histogram2d": [
           {
            "colorbar": {
             "outlinewidth": 0,
             "ticks": ""
            },
            "colorscale": [
             [
              0,
              "#0d0887"
             ],
             [
              0.1111111111111111,
              "#46039f"
             ],
             [
              0.2222222222222222,
              "#7201a8"
             ],
             [
              0.3333333333333333,
              "#9c179e"
             ],
             [
              0.4444444444444444,
              "#bd3786"
             ],
             [
              0.5555555555555556,
              "#d8576b"
             ],
             [
              0.6666666666666666,
              "#ed7953"
             ],
             [
              0.7777777777777778,
              "#fb9f3a"
             ],
             [
              0.8888888888888888,
              "#fdca26"
             ],
             [
              1,
              "#f0f921"
             ]
            ],
            "type": "histogram2d"
           }
          ],
          "histogram2dcontour": [
           {
            "colorbar": {
             "outlinewidth": 0,
             "ticks": ""
            },
            "colorscale": [
             [
              0,
              "#0d0887"
             ],
             [
              0.1111111111111111,
              "#46039f"
             ],
             [
              0.2222222222222222,
              "#7201a8"
             ],
             [
              0.3333333333333333,
              "#9c179e"
             ],
             [
              0.4444444444444444,
              "#bd3786"
             ],
             [
              0.5555555555555556,
              "#d8576b"
             ],
             [
              0.6666666666666666,
              "#ed7953"
             ],
             [
              0.7777777777777778,
              "#fb9f3a"
             ],
             [
              0.8888888888888888,
              "#fdca26"
             ],
             [
              1,
              "#f0f921"
             ]
            ],
            "type": "histogram2dcontour"
           }
          ],
          "mesh3d": [
           {
            "colorbar": {
             "outlinewidth": 0,
             "ticks": ""
            },
            "type": "mesh3d"
           }
          ],
          "parcoords": [
           {
            "line": {
             "colorbar": {
              "outlinewidth": 0,
              "ticks": ""
             }
            },
            "type": "parcoords"
           }
          ],
          "pie": [
           {
            "automargin": true,
            "type": "pie"
           }
          ],
          "scatter": [
           {
            "fillpattern": {
             "fillmode": "overlay",
             "size": 10,
             "solidity": 0.2
            },
            "type": "scatter"
           }
          ],
          "scatter3d": [
           {
            "line": {
             "colorbar": {
              "outlinewidth": 0,
              "ticks": ""
             }
            },
            "marker": {
             "colorbar": {
              "outlinewidth": 0,
              "ticks": ""
             }
            },
            "type": "scatter3d"
           }
          ],
          "scattercarpet": [
           {
            "marker": {
             "colorbar": {
              "outlinewidth": 0,
              "ticks": ""
             }
            },
            "type": "scattercarpet"
           }
          ],
          "scattergeo": [
           {
            "marker": {
             "colorbar": {
              "outlinewidth": 0,
              "ticks": ""
             }
            },
            "type": "scattergeo"
           }
          ],
          "scattergl": [
           {
            "marker": {
             "colorbar": {
              "outlinewidth": 0,
              "ticks": ""
             }
            },
            "type": "scattergl"
           }
          ],
          "scattermapbox": [
           {
            "marker": {
             "colorbar": {
              "outlinewidth": 0,
              "ticks": ""
             }
            },
            "type": "scattermapbox"
           }
          ],
          "scatterpolar": [
           {
            "marker": {
             "colorbar": {
              "outlinewidth": 0,
              "ticks": ""
             }
            },
            "type": "scatterpolar"
           }
          ],
          "scatterpolargl": [
           {
            "marker": {
             "colorbar": {
              "outlinewidth": 0,
              "ticks": ""
             }
            },
            "type": "scatterpolargl"
           }
          ],
          "scatterternary": [
           {
            "marker": {
             "colorbar": {
              "outlinewidth": 0,
              "ticks": ""
             }
            },
            "type": "scatterternary"
           }
          ],
          "surface": [
           {
            "colorbar": {
             "outlinewidth": 0,
             "ticks": ""
            },
            "colorscale": [
             [
              0,
              "#0d0887"
             ],
             [
              0.1111111111111111,
              "#46039f"
             ],
             [
              0.2222222222222222,
              "#7201a8"
             ],
             [
              0.3333333333333333,
              "#9c179e"
             ],
             [
              0.4444444444444444,
              "#bd3786"
             ],
             [
              0.5555555555555556,
              "#d8576b"
             ],
             [
              0.6666666666666666,
              "#ed7953"
             ],
             [
              0.7777777777777778,
              "#fb9f3a"
             ],
             [
              0.8888888888888888,
              "#fdca26"
             ],
             [
              1,
              "#f0f921"
             ]
            ],
            "type": "surface"
           }
          ],
          "table": [
           {
            "cells": {
             "fill": {
              "color": "#EBF0F8"
             },
             "line": {
              "color": "white"
             }
            },
            "header": {
             "fill": {
              "color": "#C8D4E3"
             },
             "line": {
              "color": "white"
             }
            },
            "type": "table"
           }
          ]
         },
         "layout": {
          "annotationdefaults": {
           "arrowcolor": "#2a3f5f",
           "arrowhead": 0,
           "arrowwidth": 1
          },
          "autotypenumbers": "strict",
          "coloraxis": {
           "colorbar": {
            "outlinewidth": 0,
            "ticks": ""
           }
          },
          "colorscale": {
           "diverging": [
            [
             0,
             "#8e0152"
            ],
            [
             0.1,
             "#c51b7d"
            ],
            [
             0.2,
             "#de77ae"
            ],
            [
             0.3,
             "#f1b6da"
            ],
            [
             0.4,
             "#fde0ef"
            ],
            [
             0.5,
             "#f7f7f7"
            ],
            [
             0.6,
             "#e6f5d0"
            ],
            [
             0.7,
             "#b8e186"
            ],
            [
             0.8,
             "#7fbc41"
            ],
            [
             0.9,
             "#4d9221"
            ],
            [
             1,
             "#276419"
            ]
           ],
           "sequential": [
            [
             0,
             "#0d0887"
            ],
            [
             0.1111111111111111,
             "#46039f"
            ],
            [
             0.2222222222222222,
             "#7201a8"
            ],
            [
             0.3333333333333333,
             "#9c179e"
            ],
            [
             0.4444444444444444,
             "#bd3786"
            ],
            [
             0.5555555555555556,
             "#d8576b"
            ],
            [
             0.6666666666666666,
             "#ed7953"
            ],
            [
             0.7777777777777778,
             "#fb9f3a"
            ],
            [
             0.8888888888888888,
             "#fdca26"
            ],
            [
             1,
             "#f0f921"
            ]
           ],
           "sequentialminus": [
            [
             0,
             "#0d0887"
            ],
            [
             0.1111111111111111,
             "#46039f"
            ],
            [
             0.2222222222222222,
             "#7201a8"
            ],
            [
             0.3333333333333333,
             "#9c179e"
            ],
            [
             0.4444444444444444,
             "#bd3786"
            ],
            [
             0.5555555555555556,
             "#d8576b"
            ],
            [
             0.6666666666666666,
             "#ed7953"
            ],
            [
             0.7777777777777778,
             "#fb9f3a"
            ],
            [
             0.8888888888888888,
             "#fdca26"
            ],
            [
             1,
             "#f0f921"
            ]
           ]
          },
          "colorway": [
           "#636efa",
           "#EF553B",
           "#00cc96",
           "#ab63fa",
           "#FFA15A",
           "#19d3f3",
           "#FF6692",
           "#B6E880",
           "#FF97FF",
           "#FECB52"
          ],
          "font": {
           "color": "#2a3f5f"
          },
          "geo": {
           "bgcolor": "white",
           "lakecolor": "white",
           "landcolor": "#E5ECF6",
           "showlakes": true,
           "showland": true,
           "subunitcolor": "white"
          },
          "hoverlabel": {
           "align": "left"
          },
          "hovermode": "closest",
          "mapbox": {
           "style": "light"
          },
          "paper_bgcolor": "white",
          "plot_bgcolor": "#E5ECF6",
          "polar": {
           "angularaxis": {
            "gridcolor": "white",
            "linecolor": "white",
            "ticks": ""
           },
           "bgcolor": "#E5ECF6",
           "radialaxis": {
            "gridcolor": "white",
            "linecolor": "white",
            "ticks": ""
           }
          },
          "scene": {
           "xaxis": {
            "backgroundcolor": "#E5ECF6",
            "gridcolor": "white",
            "gridwidth": 2,
            "linecolor": "white",
            "showbackground": true,
            "ticks": "",
            "zerolinecolor": "white"
           },
           "yaxis": {
            "backgroundcolor": "#E5ECF6",
            "gridcolor": "white",
            "gridwidth": 2,
            "linecolor": "white",
            "showbackground": true,
            "ticks": "",
            "zerolinecolor": "white"
           },
           "zaxis": {
            "backgroundcolor": "#E5ECF6",
            "gridcolor": "white",
            "gridwidth": 2,
            "linecolor": "white",
            "showbackground": true,
            "ticks": "",
            "zerolinecolor": "white"
           }
          },
          "shapedefaults": {
           "line": {
            "color": "#2a3f5f"
           }
          },
          "ternary": {
           "aaxis": {
            "gridcolor": "white",
            "linecolor": "white",
            "ticks": ""
           },
           "baxis": {
            "gridcolor": "white",
            "linecolor": "white",
            "ticks": ""
           },
           "bgcolor": "#E5ECF6",
           "caxis": {
            "gridcolor": "white",
            "linecolor": "white",
            "ticks": ""
           }
          },
          "title": {
           "x": 0.05
          },
          "xaxis": {
           "automargin": true,
           "gridcolor": "white",
           "linecolor": "white",
           "ticks": "",
           "title": {
            "standoff": 15
           },
           "zerolinecolor": "white",
           "zerolinewidth": 2
          },
          "yaxis": {
           "automargin": true,
           "gridcolor": "white",
           "linecolor": "white",
           "ticks": "",
           "title": {
            "standoff": 15
           },
           "zerolinecolor": "white",
           "zerolinewidth": 2
          }
         }
        },
        "width": 411,
        "xaxis": {
         "anchor": "y",
         "categoryarray": [
          "Stop breathing observations",
          "Loud Snoring",
          "Snoring",
          "BMI",
          "Fatigue",
          "Age",
          "Daytime sleepiness",
          "HBP",
          "Awakening during sleep",
          "Sex",
          "Neck circumference",
          "Self-complaints of breath abnormalities ",
          "Breath abnormalities complaints reported by other",
          "Sleepiness at the wheel",
          "Amygdala/Toncil anatomical factor",
          "Sweating",
          "Positional promoting factor",
          "Alcohol promoting factor",
          "Functionning complaints",
          "Insomnia maintaining",
          "Insomnia initiating",
          "Waist circumference ",
          "Tobacco",
          "Nose anatomical factor",
          "Craniofacial anatomical factor"
         ],
         "categoryorder": "array",
         "domain": [
          0,
          1
         ],
         "tickangle": -60,
         "title": {
          "text": "Symptom"
         }
        },
        "yaxis": {
         "anchor": "x",
         "domain": [
          0,
          1
         ],
         "title": {
          "text": "Number of questionnaires"
         }
        }
       },
       "_py2js_addTraces": {},
       "_py2js_animate": {},
       "_py2js_deleteTraces": {},
       "_py2js_moveTraces": {},
       "_py2js_relayout": {},
       "_py2js_removeTraceProps": {},
       "_py2js_restyle": {},
       "_view_count": 1
      }
     },
     "a03423092645422885b97eb1b8a36984": {
      "model_module": "@jupyter-widgets/base",
      "model_module_version": "2.0.0",
      "model_name": "LayoutModel",
      "state": {}
     },
     "a3cac882587749c6b06e4fde8bd9886d": {
      "model_module": "@jupyter-widgets/controls",
      "model_module_version": "2.0.0",
      "model_name": "SliderStyleModel",
      "state": {
       "description_width": ""
      }
     },
     "a4aef81aae9043e0be87717fb8175049": {
      "model_module": "@jupyter-widgets/base",
      "model_module_version": "2.0.0",
      "model_name": "LayoutModel",
      "state": {}
     },
     "a5b7dbe920d246778f427c998419d686": {
      "model_module": "@jupyter-widgets/controls",
      "model_module_version": "2.0.0",
      "model_name": "CheckboxModel",
      "state": {
       "description": "Haraldsson",
       "disabled": false,
       "layout": "IPY_MODEL_fd8d78b7afc14e6db10505cb35f23521",
       "style": "IPY_MODEL_4db4f17d4000473e96af76bef923e4b3",
       "value": false
      }
     },
     "a6467ba6951546efb73333c460f8649a": {
      "model_module": "@jupyter-widgets/controls",
      "model_module_version": "2.0.0",
      "model_name": "IntSliderModel",
      "state": {
       "behavior": "drag-tap",
       "description": "Height :",
       "layout": "IPY_MODEL_30b5d8bb5dfa4965b62e603693de81ba",
       "max": 1280,
       "min": 300,
       "style": "IPY_MODEL_a3cac882587749c6b06e4fde8bd9886d",
       "value": 500
      }
     },
     "a6c379009e654e9ca39239e029d36493": {
      "model_module": "@jupyter-widgets/base",
      "model_module_version": "2.0.0",
      "model_name": "LayoutModel",
      "state": {
       "grid_gap": "5px",
       "justify_content": "flex-start",
       "width": "100%"
      }
     },
     "a70259b9c11b414fbb8ed6f9c46ddd35": {
      "model_module": "@jupyter-widgets/base",
      "model_module_version": "2.0.0",
      "model_name": "LayoutModel",
      "state": {}
     },
     "a8159e24aa87407fa1ce3e904275ca65": {
      "model_module": "@jupyter-widgets/output",
      "model_module_version": "1.0.0",
      "model_name": "OutputModel",
      "state": {
       "layout": "IPY_MODEL_4581810c36564df7965d4ca929be5220",
       "outputs": [
        {
         "data": {
          "text/html": "<div>\n<style scoped>\n    .dataframe tbody tr th:only-of-type {\n        vertical-align: middle;\n    }\n\n    .dataframe tbody tr th {\n        vertical-align: top;\n    }\n\n    .dataframe thead th {\n        text-align: right;\n    }\n</style>\n<table border=\"1\" class=\"dataframe\">\n  <thead>\n    <tr style=\"text-align: right;\">\n      <th></th>\n      <th>Category</th>\n      <th>Subcategory</th>\n      <th>Ab</th>\n      <th>Symptom</th>\n      <th>ASA</th>\n      <th>SA-SDQ</th>\n      <th>STOP-Bang</th>\n      <th>Berlin</th>\n      <th>Haraldsson</th>\n      <th>NoSAS</th>\n      <th>STOP</th>\n      <th>GOAL</th>\n      <th>OSA 50</th>\n      <th>AS</th>\n      <th>Wisconsin Q</th>\n    </tr>\n  </thead>\n  <tbody>\n    <tr>\n      <th>0</th>\n      <td>OSA symptoms</td>\n      <td>Snoring</td>\n      <td>S001</td>\n      <td>Snoring</td>\n      <td>1</td>\n      <td>0</td>\n      <td>0</td>\n      <td>1</td>\n      <td>1</td>\n      <td>1</td>\n      <td>0</td>\n      <td>0</td>\n      <td>0</td>\n      <td>2</td>\n      <td>1</td>\n    </tr>\n    <tr>\n      <th>1</th>\n      <td>OSA symptoms</td>\n      <td>Snoring</td>\n      <td>S002</td>\n      <td>Loud Snoring</td>\n      <td>1</td>\n      <td>1</td>\n      <td>1</td>\n      <td>1</td>\n      <td>0</td>\n      <td>0</td>\n      <td>1</td>\n      <td>1</td>\n      <td>0</td>\n      <td>2</td>\n      <td>1</td>\n    </tr>\n    <tr>\n      <th>2</th>\n      <td>OSA symptoms</td>\n      <td>Breath abnormalities-related complaints</td>\n      <td>S003</td>\n      <td>Self-complaints of breath abnormalities</td>\n      <td>2</td>\n      <td>1</td>\n      <td>0</td>\n      <td>0</td>\n      <td>0</td>\n      <td>0</td>\n      <td>0</td>\n      <td>0</td>\n      <td>0</td>\n      <td>0</td>\n      <td>0</td>\n    </tr>\n    <tr>\n      <th>3</th>\n      <td>OSA symptoms</td>\n      <td>Breath abnormalities-related complaints</td>\n      <td>S004</td>\n      <td>Breath abnormalities complaints reported by other</td>\n      <td>0</td>\n      <td>0</td>\n      <td>0</td>\n      <td>1</td>\n      <td>0</td>\n      <td>0</td>\n      <td>0</td>\n      <td>0</td>\n      <td>1</td>\n      <td>0</td>\n      <td>0</td>\n    </tr>\n    <tr>\n      <th>4</th>\n      <td>OSA symptoms</td>\n      <td>Breath abnormalities-related complaints</td>\n      <td>S005</td>\n      <td>Sweating</td>\n      <td>0</td>\n      <td>1</td>\n      <td>0</td>\n      <td>0</td>\n      <td>0</td>\n      <td>0</td>\n      <td>0</td>\n      <td>0</td>\n      <td>0</td>\n      <td>0</td>\n      <td>0</td>\n    </tr>\n  </tbody>\n</table>\n</div>",
          "text/plain": "       Category                              Subcategory    Ab  \\\n0  OSA symptoms                                  Snoring  S001   \n1  OSA symptoms                                  Snoring  S002   \n2  OSA symptoms  Breath abnormalities-related complaints  S003   \n3  OSA symptoms  Breath abnormalities-related complaints  S004   \n4  OSA symptoms  Breath abnormalities-related complaints  S005   \n\n                                             Symptom  ASA  SA-SDQ  STOP-Bang  \\\n0                                            Snoring    1       0          0   \n1                                       Loud Snoring    1       1          1   \n2           Self-complaints of breath abnormalities     2       1          0   \n3  Breath abnormalities complaints reported by other    0       0          0   \n4                                           Sweating    0       1          0   \n\n   Berlin  Haraldsson  NoSAS  STOP  GOAL  OSA 50  AS  Wisconsin Q  \n0       1           1      1     0     0       0   2            1  \n1       1           0      0     1     1       0   2            1  \n2       0           0      0     0     0       0   0            0  \n3       1           0      0     0     0       1   0            0  \n4       0           0      0     0     0       0   0            0  "
         },
         "metadata": {},
         "output_type": "display_data"
        },
        {
         "data": {
          "text/html": "<div>\n<style scoped>\n    .dataframe tbody tr th:only-of-type {\n        vertical-align: middle;\n    }\n\n    .dataframe tbody tr th {\n        vertical-align: top;\n    }\n\n    .dataframe thead th {\n        text-align: right;\n    }\n</style>\n<table border=\"1\" class=\"dataframe\">\n  <thead>\n    <tr style=\"text-align: right;\">\n      <th></th>\n      <th>Category</th>\n      <th>Subcategory</th>\n      <th>Ab</th>\n      <th>Symptom</th>\n      <th>ASA</th>\n      <th>SA-SDQ</th>\n      <th>STOP-Bang</th>\n      <th>Berlin</th>\n      <th>Haraldsson</th>\n      <th>NoSAS</th>\n      <th>STOP</th>\n      <th>GOAL</th>\n      <th>OSA 50</th>\n      <th>AS</th>\n      <th>Wisconsin Q</th>\n      <th>sum_symptoms</th>\n    </tr>\n  </thead>\n  <tbody>\n    <tr>\n      <th>5</th>\n      <td>OSA symptoms</td>\n      <td>Breath abnormalities observations</td>\n      <td>S006</td>\n      <td>Stop breathing observations</td>\n      <td>1</td>\n      <td>1</td>\n      <td>1</td>\n      <td>1</td>\n      <td>1</td>\n      <td>0</td>\n      <td>1</td>\n      <td>0</td>\n      <td>1</td>\n      <td>1</td>\n      <td>1</td>\n      <td>9</td>\n    </tr>\n    <tr>\n      <th>1</th>\n      <td>OSA symptoms</td>\n      <td>Snoring</td>\n      <td>S002</td>\n      <td>Loud Snoring</td>\n      <td>1</td>\n      <td>1</td>\n      <td>1</td>\n      <td>1</td>\n      <td>0</td>\n      <td>0</td>\n      <td>1</td>\n      <td>1</td>\n      <td>0</td>\n      <td>2</td>\n      <td>1</td>\n      <td>8</td>\n    </tr>\n    <tr>\n      <th>0</th>\n      <td>OSA symptoms</td>\n      <td>Snoring</td>\n      <td>S001</td>\n      <td>Snoring</td>\n      <td>1</td>\n      <td>0</td>\n      <td>0</td>\n      <td>1</td>\n      <td>1</td>\n      <td>1</td>\n      <td>0</td>\n      <td>0</td>\n      <td>0</td>\n      <td>2</td>\n      <td>1</td>\n      <td>6</td>\n    </tr>\n    <tr>\n      <th>19</th>\n      <td>Clinical characteristics</td>\n      <td>Anthropometric</td>\n      <td>S020</td>\n      <td>BMI</td>\n      <td>1</td>\n      <td>1</td>\n      <td>1</td>\n      <td>1</td>\n      <td>0</td>\n      <td>1</td>\n      <td>0</td>\n      <td>1</td>\n      <td>0</td>\n      <td>0</td>\n      <td>0</td>\n      <td>6</td>\n    </tr>\n    <tr>\n      <th>9</th>\n      <td>Sleep-related symptoms</td>\n      <td>Sleepiness</td>\n      <td>S010</td>\n      <td>Fatigue</td>\n      <td>2</td>\n      <td>0</td>\n      <td>2</td>\n      <td>1</td>\n      <td>2</td>\n      <td>0</td>\n      <td>2</td>\n      <td>0</td>\n      <td>0</td>\n      <td>0</td>\n      <td>0</td>\n      <td>5</td>\n    </tr>\n  </tbody>\n</table>\n</div>",
          "text/plain": "                    Category                        Subcategory    Ab  \\\n5               OSA symptoms  Breath abnormalities observations  S006   \n1               OSA symptoms                            Snoring  S002   \n0               OSA symptoms                            Snoring  S001   \n19  Clinical characteristics                     Anthropometric  S020   \n9     Sleep-related symptoms                         Sleepiness  S010   \n\n                        Symptom  ASA  SA-SDQ  STOP-Bang  Berlin  Haraldsson  \\\n5   Stop breathing observations    1       1          1       1           1   \n1                  Loud Snoring    1       1          1       1           0   \n0                       Snoring    1       0          0       1           1   \n19                          BMI    1       1          1       1           0   \n9                       Fatigue    2       0          2       1           2   \n\n    NoSAS  STOP  GOAL  OSA 50  AS  Wisconsin Q  sum_symptoms  \n5       0     1     0       1   1            1             9  \n1       0     1     1       0   2            1             8  \n0       1     0     0       0   2            1             6  \n19      1     0     1       0   0            0             6  \n9       0     2     0       0   0            0             5  "
         },
         "metadata": {},
         "output_type": "display_data"
        }
       ]
      }
     },
     "a8c924d6461e41fd87debaa41b70648f": {
      "model_module": "@jupyter-widgets/controls",
      "model_module_version": "2.0.0",
      "model_name": "ButtonStyleModel",
      "state": {
       "font_family": null,
       "font_size": null,
       "font_style": null,
       "font_variant": null,
       "font_weight": null,
       "text_color": null,
       "text_decoration": null
      }
     },
     "a8da562d7db146e3ae43c1afc12bf83e": {
      "model_module": "@jupyter-widgets/controls",
      "model_module_version": "2.0.0",
      "model_name": "CheckboxStyleModel",
      "state": {
       "description_width": ""
      }
     },
     "ab84fdc41bd24ca5821f4a21da49441f": {
      "model_module": "@jupyter-widgets/base",
      "model_module_version": "2.0.0",
      "model_name": "LayoutModel",
      "state": {
       "height": "15px",
       "visibility": "hidden",
       "width": "15px"
      }
     },
     "aba053ab0ff74fe6a37f21037deedfb0": {
      "model_module": "@jupyter-widgets/output",
      "model_module_version": "1.0.0",
      "model_name": "OutputModel",
      "state": {
       "layout": "IPY_MODEL_e72472c054934331b470e3f4caade3a8"
      }
     },
     "acc268127b384abeb3125eef3359c11d": {
      "model_module": "@jupyter-widgets/base",
      "model_module_version": "2.0.0",
      "model_name": "LayoutModel",
      "state": {}
     },
     "b5edd3ac93164a5f967605cec1bb1c0c": {
      "model_module": "@jupyter-widgets/base",
      "model_module_version": "2.0.0",
      "model_name": "LayoutModel",
      "state": {}
     },
     "ba6eb3d5ce9b46caaa2140d7c84df37d": {
      "model_module": "@jupyter-widgets/base",
      "model_module_version": "2.0.0",
      "model_name": "LayoutModel",
      "state": {}
     },
     "bc016b44316d44a4acf58e7ad4d19385": {
      "model_module": "@jupyter-widgets/controls",
      "model_module_version": "2.0.0",
      "model_name": "TextModel",
      "state": {
       "layout": "IPY_MODEL_c00d378ba418415b83021c046f278641",
       "placeholder": "File name (figure_example.pdf)",
       "style": "IPY_MODEL_17d3f26ef1104f6485229dfe05d9c44c",
       "tooltip": "Supported formats: ['png', 'jpg', 'jpeg', 'webp', 'svg', 'pdf', 'eps', 'json']"
      }
     },
     "c00d378ba418415b83021c046f278641": {
      "model_module": "@jupyter-widgets/base",
      "model_module_version": "2.0.0",
      "model_name": "LayoutModel",
      "state": {}
     },
     "c030ebb518d54693bcf07c7ba75d3892": {
      "model_module": "@jupyter-widgets/controls",
      "model_module_version": "2.0.0",
      "model_name": "ButtonModel",
      "state": {
       "description": "Confirm",
       "icon": "check",
       "layout": "IPY_MODEL_98d241721fc549699dc2bc9460063010",
       "style": "IPY_MODEL_349df3aac07e41419cd1a74697b7aac8",
       "tooltip": "Click here to confirm your selection"
      }
     },
     "c065fa9c0a164cbba6a70e40a70311ac": {
      "model_module": "@jupyter-widgets/base",
      "model_module_version": "2.0.0",
      "model_name": "LayoutModel",
      "state": {
       "align_items": "center",
       "grid_gap": "10px",
       "justify_content": "flex-start",
       "width": "100%"
      }
     },
     "c6e89144b374416f8a719ae720254d5e": {
      "model_module": "@jupyter-widgets/controls",
      "model_module_version": "2.0.0",
      "model_name": "HBoxModel",
      "state": {
       "children": [
        "IPY_MODEL_80d7e571b61145c19b4e45c007ea8ff1",
        "IPY_MODEL_7d61b056e2a74729911e3af03c3e4558"
       ],
       "layout": "IPY_MODEL_fd6d5a39616c464fa428657bcfee60c1"
      }
     },
     "c84a3b175db44b758fa7db5b9180116e": {
      "model_module": "@jupyter-widgets/output",
      "model_module_version": "1.0.0",
      "model_name": "OutputModel",
      "state": {
       "layout": "IPY_MODEL_e9f0da4e908d4aaab5695cdec75ffe3a",
       "outputs": [
        {
         "data": {
          "text/html": "<div>\n<style scoped>\n    .dataframe tbody tr th:only-of-type {\n        vertical-align: middle;\n    }\n\n    .dataframe tbody tr th {\n        vertical-align: top;\n    }\n\n    .dataframe thead th {\n        text-align: right;\n    }\n</style>\n<table border=\"1\" class=\"dataframe\">\n  <thead>\n    <tr style=\"text-align: right;\">\n      <th></th>\n      <th>Specific symptoms</th>\n      <th>Compound symptoms</th>\n      <th>Total</th>\n    </tr>\n  </thead>\n  <tbody>\n    <tr>\n      <th>ASA</th>\n      <td>9</td>\n      <td>4</td>\n      <td>13</td>\n    </tr>\n    <tr>\n      <th>SA-SDQ</th>\n      <td>10</td>\n      <td>1</td>\n      <td>11</td>\n    </tr>\n    <tr>\n      <th>STOP-Bang</th>\n      <td>7</td>\n      <td>2</td>\n      <td>9</td>\n    </tr>\n    <tr>\n      <th>Berlin</th>\n      <td>8</td>\n      <td>1</td>\n      <td>9</td>\n    </tr>\n    <tr>\n      <th>Haraldsson</th>\n      <td>3</td>\n      <td>4</td>\n      <td>7</td>\n    </tr>\n    <tr>\n      <th>NoSAS</th>\n      <td>5</td>\n      <td>0</td>\n      <td>5</td>\n    </tr>\n    <tr>\n      <th>STOP</th>\n      <td>3</td>\n      <td>2</td>\n      <td>5</td>\n    </tr>\n    <tr>\n      <th>GOAL</th>\n      <td>4</td>\n      <td>0</td>\n      <td>4</td>\n    </tr>\n    <tr>\n      <th>OSA 50</th>\n      <td>4</td>\n      <td>0</td>\n      <td>4</td>\n    </tr>\n    <tr>\n      <th>AS</th>\n      <td>2</td>\n      <td>2</td>\n      <td>4</td>\n    </tr>\n    <tr>\n      <th>Wisconsin Q</th>\n      <td>3</td>\n      <td>0</td>\n      <td>3</td>\n    </tr>\n  </tbody>\n</table>\n</div>",
          "text/plain": "             Specific symptoms  Compound symptoms  Total\nASA                          9                  4     13\nSA-SDQ                      10                  1     11\nSTOP-Bang                    7                  2      9\nBerlin                       8                  1      9\nHaraldsson                   3                  4      7\nNoSAS                        5                  0      5\nSTOP                         3                  2      5\nGOAL                         4                  0      4\nOSA 50                       4                  0      4\nAS                           2                  2      4\nWisconsin Q                  3                  0      3"
         },
         "metadata": {},
         "output_type": "display_data"
        }
       ]
      }
     },
     "c8c7b5fa9af04329b6deb0e66d711aae": {
      "model_module": "@jupyter-widgets/controls",
      "model_module_version": "2.0.0",
      "model_name": "VBoxModel",
      "state": {
       "children": [
        "IPY_MODEL_523cd6d78b3c4f26844d1be819643393",
        "IPY_MODEL_e5838013b4f94917a51437b377e2b130",
        "IPY_MODEL_737aeb59d71f49eba3e8eedaec6bb97e"
       ],
       "layout": "IPY_MODEL_3a9d4554671a48e0b446ccfd778a7a10"
      }
     },
     "caad3ab24c8745dfba10524a07c2d8b4": {
      "model_module": "@jupyter-widgets/base",
      "model_module_version": "2.0.0",
      "model_name": "LayoutModel",
      "state": {
       "width": "100%"
      }
     },
     "cb1e054bc61c4feb9a31be2258d05695": {
      "model_module": "@jupyter-widgets/controls",
      "model_module_version": "2.0.0",
      "model_name": "CheckboxStyleModel",
      "state": {
       "description_width": ""
      }
     },
     "cd1d143c2ce249e8a9e896b7fca24b0d": {
      "model_module": "@jupyter-widgets/controls",
      "model_module_version": "2.0.0",
      "model_name": "CheckboxModel",
      "state": {
       "description": "OSA 50",
       "disabled": false,
       "layout": "IPY_MODEL_292255ba29394d4cb3b5b6c30a0048d6",
       "style": "IPY_MODEL_fbe32f6f88a043208e5c17dc5f35c61a",
       "value": false
      }
     },
     "d088ea66f6244ef08702fc00e1481c3e": {
      "buffers": [
       {
        "data": "R0lGODlhyADIAPdjANfX2tjY2PX29uDg4ezs7fHx8dfX2dbW2cLCw9XV1svKzdfW2O3t7b6+wMvLy769wMvKzPDw8N7e3+bm5+7u78/O0fX19bCwsuXl5rq6u+Tk5be3uvT09Ojn6dzc3dzb3fLy8uHh4rKytPf39729v+jo6NjY293d3rGxs5uanqamqODf4eLi48rKzbm5u5mZnsfHx7OztczLzq6usLGys+fn6OPj5ePj49LS09rZ3La2uNHR0vb29szMzcXFx8DAwtfX19PT1bW1ttnZ2crKy8jIyKWlp+vr7M/Pz+/v8Pr6+piYnLu7vdra26CgotbW2JmZnNzc28/P0b++wLe4udTU1qSkppaVmdna3JybnqOjpa+vserq6/Pz9J2dn8jIyqWkp9/f38vMzbKytpqanM7Oz5qZnvj4+J+eotPT0/Dw8Y2NkpiXmo6Mkunp6tTU1LGxttrY29bX2Y2MkZOSlo2NkJeWm+/v7r++wb6/wKuqrfv7+8rJzfn5+KWlqby8vsnJytbW1srJzJqZnKOipaemqrSztpCPk7+/waioqr6+wfPz8vn5+aKipNXV1aSkqKGho46OksjHysvKz46OkPf3+I2MktfW2ZeXmsDAwPz8/IuLjp+foMzKzpyboLu6vezs69DQz4uKj+Dg36WlpsjIy7CwtKWmp/39/fT085CQksrLzbe3t7+/v8zMy+zr7aSkpdbW2t7f3r28wf7+/r69wqioqNTU2NXV2KSlp4qKj9XW1sC/w8nJzNna2by8u7+/xNfY26WkprOzstbX2KSlpvn6+vP09MrLy6ampYmIjKWlpQAAAAAAAAAAAAAAAAAAAAAAAAAAAAAAAAAAAAAAAAAAAAAAAAAAAAAAAAAAAAAAAAAAAAAAAAAAAAAAAAAAAAAAAAAAAAAAAAAAAAAAAAAAAAAAAAAAAAAAAAAAAAAAAAAAAAAAAAAAAAAAAAAAAAAAAAAAAAAAAAAAAAAAAAAAAAAAAAAAAAAAAAAAAAAAAAAAAAAAAAAAAAAAACH/C05FVFNDQVBFMi4wAwEAAAAh+QQFAwBjACwAAAAAyADIAAAI/wDHCBxIsKDBgwgTKlzIsKFBDQuE6ClzQ4PDixgzatzIsaPHjwYBqaAjas4cUZE4IZgAsqXLlzBjwqwxw6TNm3PQlJHJs6fPny25WMFJdA6dBUCTKl2qdIKeojgtzVnShKnVq1g5+oAKdUvWr2DDDjwy6KZUrnPqvBHLtm1SA2ihNnBLt+5LH3XiEvVjt69fjUz0Es2S5K/hwwgNCcZ5pQbix49jLL55hSXkyxndBHiCY4iUwjIlTzZZmSePJDVq3MFstUoGNFCWyH7hx0eJmKJHl4aZhAUWAABMAPCgATRrnz7MvDDDvPkLKFaQvsw9eXdLHhOEA98O3MCEM8d5Cv95Qb65eeYpdkwfTdoyyBEsuMvfbkNJeJiIlpzfz9xTD5fULWbdR/HNZ6AN97n0gRf87bdcIVy0FKBgA3ZEgIEYBmNcgh0Z0mCDUPggIXtzVLhRFx9gaGAwEtjHIUcDoPFhg5wMANKEepmoEQYGqGigCRu+iJEUy8243xJM3EiijhgdoZ2P82Eg5EZfFGnkeVBU8RGOcTF5UYFQzofglBl9cWWDWxDgEZdoednQhWEayAKZGUEAxZn8KbDmku5pNMIJcRrYJ50MpXEnnuc1chtHbHLl5kJOBjrfoIQq5AYkiGL5Q0eNQvVoQl08KSlwJnRR6UUkPJdpc2gkwCifHGH/MKp8K5x6UQgMrsrcCzG8yt6nByUh6qgBRGArqvrpakZ6G3VaFLAFKTHArNzZeKxDNVihLHMzNAtrRhQMK2kOpl7rEBKH6vrCfxk5SxS0A/EgAbXbOWauQyVcoJyyYMyJkbuMUbqQG/QCd4IF914UQLq6bvrvtw6p8Ru9BhyRMEZUbLvsCQ//KnBCNhQMQK0XX3SCjMpCgULHun0crMgmFFAyRj5YmSkUKWjpEMCUuWwQoAX7O7NDBPihcSIU7AzxQgyIjIXMQ18kxSDbQgGB0h43xEMOIksZ9UUU6KHxIxI0xLNNwHYQHL0Hf41RExpDQUJDIiyNEAhcF+yG2xmJ/6BxFkMwpAOJmOy9UAgik8y3yZimbAhDiJDohc9jwEkvkItnVESyui6xlkJF5DWaHgvxMG3BFmWO0QBiq7sE0gqFIfpkkgzcI705QK261BoPQsRCiYxGh7UInTEvxYaTeQMOZfSABA43yGSBvtsKsVACh0zmcELhFowFwjId4QYGEzAA/k83IJLII48YYcQjhfzhS0xBoKyrExEq9ENJeoFB+QQiY0BMeMCAD4gqBzfQnUx6kIhcuO+BD1QBCbzmEhIwDFEpUBxCOEACvWjBAAwBIL002JIjAO1HGNiDTHwgDAi68IGJAIS9QDIB+2UqBYFjSBGgAJVDUCF1C5EVtf9MYCyXUGAUQLgdhuSAAUbA5A0vjKIRSAGLC3wOJMnRlSeAuBANwKARdIhEJA4BhU8E4CI1oNcMPzKC7CgRSmv8iAb0IEUpPsIKGwgBSAjQukw9QoAXYUQCMvEHB5QLjdT6AAhAcoYSNGFWmGtJGcBQxyj64ZKJ+EEcNVKGCxrpBYiwihrEpaIeJa8jR5DAGyU1po+AwBCVjKUR9AAIi3VkA578kCekcBUwxWkFTuwICE5XsBxwACQhSIQsK6kCMMRAPRxZgA1nBIUNYIUBpPwRIDcyghrkTWQACNJGeqCCZdbxkn6wwh9IeBEiJMtm+/GD0KziBgOs0kCnxIgSTAj/Tu6o6SM9sII5l5mIInDRIRyAQQr2xZ8XPEJnWanBPQFwOxPYIJgZIcAKskkvW3rkCeUcqCytMAMciJMhOyAE58zzgjyKhQDflE8O/pmRCNxgoiIzwDYtREeRmhMFVckoBGaAhhSkwBPqBGFbGHGEARjQBB4YAAbOdxEecIGj4NxpR0jg04GqoAF61EgYdiCFJkThL11YxDE3woAT9nM+JxhBS5rQwq6aUwU+2GTmkhACnL4VAHrliA7sKlIRQDRzHNAAVnPao7i+JAwzIAVhzQmLDHhgcX04wsT82s8c5O8lQJiBFfwwWYLCYJFR6wIx/zofezYhsHL8AyVLK0st//xuaAVwK2vhqoafSEEEAqVtJUmxk5ItQre73c4JkpaUEsAgEcEVbhT1kM9r1WCx4MTCBKiaFA1MIaTSfWERLmaB5MrHomvFygd00L7wQjAGJ60UwcxL0eWKJQI4uMBs3ZsI2NKpr+b1QAdU2JYS+ECZ4SVtGhJ2PNaaQAMKdAsLEBFB4ULTXA1+awji6xYcCEG6KrjsvXwpshwwFzEMUIAeomtX6iZMA52tAQ9Y44YDk9auf7hYAQ5QsAejNjxVcIFdtRCIiykhDNQywAp6+yIL4IAGIlXnzLonqRNwQRN04kIPehpLK+iBeBfrAGe3YwIZ22oCCHDfJaU4AzCXTP+ifjUAC358LANQQQWjhaAVbEGC6LmNC8gFjgS0eq0uBAABMyinCmbgAxEvbgRcYIEHcvABD0yAAhidGQE0sILi7K4gZ1ACeD5N6lKb+tSoTrWqV83qVrv61bCOtaxnnbA9aCANPYCAA3bN6177+te8hkAPeO28IFS31ZqIQAkwoIFmO/vZ0I62tJs9AS7QGSEDQIAIUIACEXj72+AOt7jHLe4flM3V3UzRmHMKgDAU0SAR2EEMuk3uetvb3jHowSFTzYHV0ve8NZArQUDwBXrf++AI/zYKRKRqEHjg31AKwYwH8tuEW9zihy21BTIM8R+5BwNCuLjID64DCpYaxh3/h5IJmFwGg4/85eFGwYJNDYJHphxKYRDIH2DOc3FnAMuldgOPb+6jJkSAAYboudK/7ehPC5HoPmKAG1y+9Jdf4GqlXgHUocSFElC96iK/QA5JzfGtc8cAHTgC2HuOggt/msRm384BGFADKqwd5kJI76fTGHcDHdMHd385IE5NgXWnXAJybcLXA3/vc5sacX3nzme1zXiELzzV2Iy8oEc9Bg24oPIHd4FHTz3fvpu4ICz4w+JBL4IM+FnV1437B2hKkBoUgfUxJ4LJVV0AVd7cnjbQu0FsIIUfUEEHyE++8pfP/OYnnwo/KIObW73pFZwAC9jPvva3z/3uY/8EIahB/4QTAoIkcOH86E+/+tfPfvQTmtbwj7/850//+tv//vjPv/73z//++z9BiRUACYADCyABi6I6AsAAGtABbtABETBxF7MIElAEDVCBDUACJNAAgHBQQyMAE9AEq/QBbsBdthICPYCBFpiCFQgEbpMEJ/BGSsQiJ3YqR7ADiKCCOFiBOBA1SRBTGGICA5AKlcIBQ4AAGZiDOEgCY5cwx0VRcTIEEyBwQuIBPoCEVtgAiPBu98J3o4IFoxceJdADVziGZ5QwFoBdGHICHGYYBBAIY/iG45UwJWB4KqIB+3YYEdAECPCGb/gDX2gr/oY7NbAIiCEBRMCHfDgFu2crZVcwEv/ABS5iF25QBohYia93LY0oMiFwh2IBAkHwA5WIiD/wWdcCd/00BDcghWHBAkYYiojIcPdiA/ZkXp4lfFYxAYfoioj4AG53LSBAh9QiATO4FCWAAxX4ALqIiPNkLpBnXrczZ0uRBIeWjIhIArw4ZTYHcTlQA7YYEwMAA0dIjW9IApJAOZVyVTf3AX/4Ek+ABxUYjuKIhCRQBKRYMh1gAsBIMZf4EkEAj/FohYiAA1o4NAQgAZdwc+z0ER/wj3wIAeZ4L4wAaB3XIxzYEW6whwyZgxjoA9O3OCAQe05IX/XYEW6YkUmIAEAwkJ82TB23jBwBAhRokilIAjjgXwhhATX/4AEfAARNMAC0xxZtZAMDMAAawACVsBEF+W8mcG0bcQQ3KJMXqHsakVgywAcKcJUK0AK9EAA/mRUWgAE+aABlxpQMcQZukI27NYwbMQBQ2QAcuRFqUAUQgJV0qQAO0AMdyRQFgJbyYQAeMH4NAQIYgIaSso4ZwZYmiQhVoJYNgV9X2QJ1iZUQIAhhhRUOFyY50AEcwVcAEAxvdQCGiRET8JTxiAhScGwOkQCRuZpZWZFAAQKBZiBN0I0NwQgEEJujcgBdqREgUIXiSAJEsI8ZcQOsyZoVwIlAMQF0aACu6RAC4AY+SC0quRHGmIwP4ANB1REUIAXFuZot4JI/wQEp/yIpS/kRahAChDkfK8B5HsECupiBVTCSGnEC3cmaZbgUXDArStYSGtVRL1EFD6AIlVgG8qkRk1ifqykF7LkQXUAAE2ADNlADHUCWCdEBQzcq77cREzCecXIAEpBpH0EBPiCgV4gI1ymcHfEECLqaYkChBWFVHrBKOYABLloQyplIqugRXeBNcfIBa9iUYmiFD4AAC1CjGaEBc7midQkBgFkQXaBKszgfH8CYBiFC1GKTGVEAgSgfJ7CbIAECgfADyGiB1vgDOOClHbEDShqZZQCBG/SCKvejY3AD3mOkGkEBZWcAObBdP0EBJyAFPoAAPiAFAVCgHhECgrCmdVlkCv8xAloXJzlgpFxILZX5EvuEASGwAitgAxNgpy/BATkKExxQBopal3k5FpJyAOBJEF0QnZKCpqrWBKVKl1JQo5qAm/MhByu3EFaqnwNwlLCmZbN6lRBwqgKhBvkIAItYEAXgqoGCmqlmAMOqABCwA9NJEKUnKatKEGpTME0Qqqk2AdN6lds6EE8nKQlZEBbgrGFiAMt6aosQBNMqCEHQECg3Ko6nEASQrNsxBNdaamEAmcPaA4ZKEOcaKDnHEIywpYHSSphHqtP6AQ5xsHGSsAyRBDATmrsjq9NaBp46BhQbJhbLEDziiKp2BDIwrS3QnAYRsjh3EV3wcBRTsIujmtP/igNNehAu6yMjyxD5WTAfkLN8gwGJOqwQcIANsbMq0rMLwQiZGCcPOTMWEArjqlQXobQYwrSQAjNCGzUrILCzKgMaq7PUorWHIzL18WkUUAHzKrEZgbUGYrYKAQLpeV4ZGjUfMK5SQKUKAbfzIbcK0auz4raZMwFiMK7vGkRluxEWMDH0grRfYwGBkKSzKgVuerWL25Qi0wQfe2bjqgBYihB+Kx+A26hIRi+xELrHUgXjigsdMbrcUboKUQAFEwzf4zYUkLLDKgOwqrizIrsK8aizEgsAAK3mcgNgW6rGSrKZyxFqwK5w5DYnULSlKgV3m7TNyxGTOirlei0eMKsO/7CBHwG72wG8CsEDHBooPNa9xzIBybuiDuAq45u9HNE0V+o2EdADpeoAiYu5vwsSjICr80G8muk2NrumS/i69LuZdXu7bqMBuruiMvAKLUG+wGG+DHGvcWK8CTMEDoCgura8/jsqGLwQFpC+PuIBJDg08QbC9wkSFtxuL8GjUJIDTJY5DCCXlIuVkAkBJgATMVzCDEEAKMylXTszZ/CndSkIEFCTMRHEMVEANhCWTRCFp0YAJfAB9mQAJ+AGtOkRUCwTHHAELLACEoABbkCIq0YLtPATYfx/baHBCAvHbiHHFUvHbdGtoyLCeJwUGDsrqtvHPrEHRewjByCnggwU2T4aJvmayFkxAgx7dgDAuY4sFjwQBXHWI2NbyUoBmz5iAtfLyUzhgU1wAG9kAhsmynRRABhgAyFAlEdww5kTEAAh+QQFAwAAACwGABYAaACZAAAG00CAcEgsGo/IpLI4Wzqf0Kh0Sq1ar9isdpt9cb9g6yNMLpvP6LR6zW673/C4fE6v2+/4vH7P7/v/gIFlMYKFhloNh4qLjI2Oj5CRkpOUlZaXmJmam5ydnlgKn6KjpKWmp6ipqqusra6vsLGys7S1treKMLi7vL2+v8DBwsNCDg7EyMnKy8zNzs/Q0dLT1GguhzSzGkLXZBvV4OHi4+Tl5ufQLLOJ6O3u7/Dx8vP09fb3Uyv4+/z9/v8AlckISLDglgIGEypcyLChw4cQI5JpMYtioSAAIfkEBQMAUQAsAAAAAJsAvAAACP8AowgcSLCgwYMIEypcyLChwQlN/hjCgWGCw4sYM2rcyLGjwR4z0CxZ8mJJikRF3HhcybKlS49udCwxQ7MmTSiJgrzcybOnSwIzbAqtiaaJz6NIkyLsEAPK0KeETiidSpUnEadPh77QUbWr140MtGTNuiTA17NoEzaZOfapj7Rw4xJ50fbplrh4zyKo+1SFmryAqTLhOxSSysCIj34iLNRJicRpj3hosuBEggI+FzOu6dhnjSAkGuyAXLAJAj0q/PgxouJCjyM8NW8203lnAhRXIs2ZE8kLlSqkZRRSrTo18RkfdsreXLvlhD+HdkuXfogEBcQNhhPfTrzQk5fLGTf/X8lFxJrp6OesEYI5Lww/hbRz355odMvwhMd7RDHHUvr0huQ1QCKFGGHggQgaqNoFBNw3G036cSSFbv+ld0ggeJEQX4IcGqHaIxA4+GCEGoWxRIUVqtAFXDagpkKHCRKnhwYs4ccXiRlRUQeK/x3yBlwJrAZjjMS9tZKNdeF4UQ/R8fifC3CVIeSQB3anglEeIdmWkg7N4OR/a3CVFhIvUtmhClRc15GWY3HJUA8UfjldJCjAtYOZVNrHEZtZuakQF43ImV4kf8BlAJ4wqjADbHs+SNtjHBERp6DSFZoWF3ogyqFqMKzpqJ8IhUEHpdOtQccAcfkAhqYIwqcHlhrx//kUqAcxQSp6ieCFgR7yaUocE42OCGlGCYx6626qDJGXD8ZNaWZ3C2wk61C0EtSFl8fupgdgXGxBnK/EbSDtp8NehMOkpF6BKmBvxFcmnts9oudF0zZWbkMTaJGtJWtMgdgRGQwHLnFb0IhRvTZVK5AP2fbXCAaJeaDCu6x6CEhGCHN270JD2HFsJJGs0QNpP1BccSIhHEwuRoZkC/K2pIWQacVVfqKysBclgK6gpsIKGQRW0KxgIco6lDGEGydkRMNz3EWaQBRsIbQR8YkQgdErNzRhw1ck97RAVTRLsx/zKnT0ow3VwEa252Xw9UAR6PBtxYXMkDJDZ4P6Q8NrQP9i8NtRSKDd2H4YuVDeSRd0whUN14EA4AT9IbDQKki1EAmONsKoQvw1DDPkAoUwg7MVk8CQD44mclhCTDZMRwKgE1TG1Kz5UTTrWBH2wgsBKuRGIo2LGbtAN4hAux+GJKEQC4NsVlIZCyHA9BW3Dx9FFawJrZoUC23hvBc2KESACnwb/hIGQKQRRAIB1NDTCC4USLjpCg3hCWNLdKpQEDsLSsbfzvmCDuAABxGIAA6G8IEEeBKARGjPD3pgwEJ8wJa2QGEGq0MIAnb0MSTsJA1CMKAIRygCGGSQJT6Aj8nwVAgAHkQAexnLCy7oNYU04Dy3WkOuXtIDFJDwhyIQQij/uOASN/BKfqwqxALfZIXc0WSGXmiA+xjCBBxSag2HAMJLmgBEINKABkzwmUd6MDGaJcIiaeuBHryQAjN4wgoIqCFD9nbFNdSBfi2pgQ662MUxoOAHEFsJBYSwQjNtQXkXUUITfICAHXAgI3QUFMiyYLmWOMKHfATiGMZgCEBsjiNvEJr5phIAY8kJZI9zSRcakMlWikAHO5BgR37AHSoVIhGw8wq2BJUINbUEA4ZwpStJEC2OfIBXczuTCn5wlh2Y0kl04N5LgiDMVm4SBT64gYTENqQLuLAqX+ifdCxBzlGyJAiYrGYrhSCFKWLEAj0gEOkMNLEtiNErCBgVukCG/0URIPIlHlBnNVFAhQC0ByOBmMGqOAQGRHzzKz1YG3oiUQdMQK8nFNijQKv5hzBohAI7oMIREzEDBHggMEkgwgy8QIdDZEEPGWABUmCwUXXGAAZozMgNnlAFCawrZmH4KVIkUFOBxqAHRLQeyYoqUCZUT6mAuYEL0snUVqIAAUKFKl48QAWqVjWThihDKrQKmBr44KsDLRtZ4RIIEngVrT9EQS7XipcjlCGEcOUjFRpE17yUAAYxyCsQUSDNvgroB2/NKwkOati4gCAATBDsCIWQ1Mbm5Qg9CKZkRfBUy8ZlAl/YrBY9i5gAICKvMbgbaVGKAx0kVp0b+ORqAcMAGf9otqjmnC1gTPPaTF5AjrpFDA8C8AeBYjO4b2NAEPBqVSo8FLmIcQMRRLDJMQzWBc+FbsR+YF0SoiAGPsipdgFngRMowAUGjEEGypDV8YIuCSW4QQlA4N762ve++M2vfvfL3/76978ADrCAB3wWNzShCghOsIIXzOAGK/gJTeArgR2iATE0oAGIyLCGN8zhDnf4wiDWMAS0OWGFgMAAiMCwh1fM4g2DOMQpRsQbLFDig1hgB6F5sY53zOMe+7gBJLhojQmygB8b+chGRsQ9J+yGH6QYyVCOcgMQcMIJJwDDUs6ykR+w5AHDAMtaDjOPfYCKIUfgyWJOs47bK2AG5Fj/zXAmAQ6GDIo3wznNJPBojRlw5z53VsBcQECG+yzmH/BgyFEow6AJreU5I3oAYGZ0lElAYkT3QNJZFjKiS+ADTEPZB7JEtEAm0OkLK6LFqP6wjtEcXlEX5Ag7UHGqZz1oEtg6NIPGQZVdHYUSPIEICAi2sIdN7GIb+wfI/gECIPCE7PI6ChwoAAOmTe1qW/va2Kb2X57N7W57+9vgDre4x03ucpv73F/jgRtWIIEmSEADEkY3RyygARwo4N74lkEaKitvjNTgCfgOeMD13O+GJGEIMhC4wu/d5YIPhAcDKIMCerBwgSeczQ6Pgg2kUPGOK0AGi8g4QQhQBY+bnOAO/0+CBEzOckcXvAss4DjLTS6Df6IbAwmY+cxlwO9yM8AECdc5y8WQuG9zwAMSF/rOfTnuGiBBEErXeWHFzYWSR13oDec1A5pw9agXXdQgiDgEuj7zFiggDuGegL3JLvQgyPbZJwg622ceBKZz+wNjnzvLZdCEkH+bBavQO8sT0HNuMyDpghc4BBwAgR2I99vmTbzCIYCEMNBX3BxYu+QD3oS3M2QEBNCADULAghpse79JkLvkIVCFwjOEB1zIAQBmP/sDAGAAV9PvBMSweQU4fiMcWAHthz97IAzh68idwOZlcILTY4QDEiA+8Q1A/Q7k9wiqJ7sMTBBqjQxA+uCf/f+uoXtjvVdh/A7hQvjDn4ND35frSje7AlogBdVyBASyXz/40R/cEmR/5x5gdxuBAfoXfvZXX+b1fx1nAAK4ERRgAgUIfk3ACPgFAppncjuAfBjxfREofUDwSPiVBE8gfxVXAWFAYy5xBJfQgR64IgyxAqsFfWVAgvn2Abn3Eh/AgtLXBGfQEACgWyBgA3GwAxWwAyYwAA24Em6gg9KHcfjFAxR4FDyQg0w4e9SngeVmA1U4fB+Agi/hfACWBAawhbN3Ce70Eo/3XyFAhrPnASAockcwhmzIf+ZmAdFHhgZQSSI3AbbHhjbncAUwBGwIAOEjcgKhhWw4BF6YcUlgAnLUuIWu12/Cx4YnsIgOdwSDeADd53AjQIVk6IToVgN9uIUmcIMZVwD5R4bOdm6ISIZYcHkiRwCPCImGGAWVEAazyIRYEIWxOIgAsIkOd4dkCIO1CAKDaAKMlXHqh4dnKHIYkIss+AHJmHEEWIVAEACRWHAEMIosGAgoV4tdAIFMCATxVotRMIk6KFPmSBCYqIM5YIrrGAUhAAQRaABAgIUFd3T1eIDxKBAFIAFPkIvUR33q2I8GwQga0ASjaI8BcALAaJAEUQAUoAEhEAIDgAF34H79FRAAIfkEBQMAAAAsBAAAAGgAlQAAB/+AAIKDhIWGh4iJiouMjYVCQRg1jpSVlpeUUltehGQAX5ihoqOkpaanqKmqq4UirK+whhAvsbWwYLa5uru8vb6/wMHCw8TFxsfIycrLzM3Oz9DRwBrS1daXSNfa29zd3t/g4eLj5OXm1xPnpaDq7e7v8PHy8/T19vf4+fI1JkH6iGPGFApjjtY/RCcOKlzI8N2UhhAjSpxIsaLFi81OuMDIsaPHjyBDihxJsqTJk/S4oFzJsqXLlzBjypxJkxQGCBAD1NzJs6fPn0CDCh1KtKjRo0iTKl3KtKnTp1CZ3oDIIEHDCADERN3KVVcJKTi7ih1L9tCHLhCPlF3Ltu3WFhIEWXwLBAAh+QQFAwACACwAAAAAvACcAAAI/wAFCBxIsKDBgwgTKlzIsKFBNycQ/HlSgovDixgzatzIsaPHjGmoJLJC0ooKEWWOfFzJsqXLlx4JNLBipKbNmlZQGIDJs6fPnxopCLlJ1GYiCUCTKl0Kk0uGolCNzAjBtKrVqwx30IxK1EoDrGDDWk0y46Yfrjg/iF3LlqeErWiJEmlLt27HMnGhUrHLty/DInmLbgHht7BhgQgCE9VD4LBjvokV29Sj8rHlhBQGhPEwoMminpElG6Hc040BBD4CXXZLRAeK1yhoZMDBAGZoyaRfDnFByIzvFIUe7Fy9ckcMEciTI0fhIszL24pzsyyBwJPv69c9IUhCvCMM5eCVR/9xCT2w9I9HXLzAzt5MCiaEu2csQyO8/RhAWpbPe97jhvYAmsGEfBjZIIR9CP5BAUv7xdUfR0GkEGB7ngxBoEM+IKjhDgyKVtODGrGgxYQAzsDBhQt1oIOGCOpQw0oNogViRg0MQiKFAaCoUBMsIohCDzB6OFplHUnhxY3tvfCDjgk50qOGSHkUI1czXiSEjUiyRwKTCFXxJII/FCClkFU2tIOEWbK3AZcHLfAlgvl1NGVUZS5EgB5ptocAmwZ58KZ9rNTG0ZxQ1amQFHmy98KefBLEABV/godCGXKSSWRGN6CRKHZosNBoQWVEqhwNQkSpEaFFGYoQAptiZ8qnBdX/cKCoyTF6qqUbDWFdq2Z44gGsoNKq3K+3eqhqQRYYwqtvIgBbEAEuCCsCDUsWK9qxBD2BZqtO2OBsQTxKK8IC1uJ2aUNuzLCsGT58WxADCIjrQgkZobrYuQwRscSyerzoLkED0FCfsFLUi+tFHvTG6wsc/ltQEQPTGgMGGNl7E7YC/LFusw4XpAEr4trakMWT4ZvQENtu6sUJHRuEAwrSxsCyQyR/aDJC6i6rQ8sGqcGEuH/Ex1DNQzr0RsqJQjIzzwSFKywKCdB88EJuNLIuIkwbVMAP8lI89NQKwbCuHhNkbVAIx0kLJEM/gI3QAJCs+4XZB2UYM1ULEa2HoAr9/7csx3QXhMEG4ra7EBFC0gDKQmcui4aFgRv0BszSmoqQVh4OqNARMSw7yJaRG4TBH+JOIfRBGHhoRcMJAQLFso0QGzq44orwxEJUSEZKImUnxEDOvEJAHERDNPGBBDd7VEm80hqe0AmJKAaLKwsFgnSeYPQO0xc+ZPDHDhqsxMUOvNTyQAMNPIBIGTfAdMKstLLCnUJiwMWVFTokL5DrvKaQBkxukAIaDjGHAq7hCoZoQkea8AP0KQJ9DXhgA6ZQhsa4xAGUo5W/EsIDxKHFCqViiA+WdQGYQKARBUyhCunwiS5opAokgKAMZ/gDIPDtI6BYkbDwthAczMB+OLGFD//cMDJeeUKBLdnBDFTIRBUyQQ0YCUMMZ0jFBsTQB85hSRAi9qcYEBFdOxBCIlRghETM4AtZbMgIW+W8j5SACXSoQx2aSMc8XOQICKiiHtFHAiLQ6yMFaAUXv5QBMWHkBGUggiMskBEYrCdRfhjASiiAgCsUUI50bOIhotaQJuzxkw34wQ5umKsMvmltTPmAphIFiJX0wAgqnGMmm2iIhljgC6AEJQIMEAGPfOFPNIgBEquig0RdoJcdgZ4sZ8lMOniKag3MJSglsTSNDECHT6JBEbDiiFUiCQ1V6MgRpnAFTDLznLdbSA6kyc4ybDAjTxgkgn7xx6v0IEsvaOVGCgD/CDTMQY7LPGcmUZkQT7JTmj8IhEUywoM3pE1DGbDcVYpwpAl5wgVQ1EgP9BCJNQj0o3OYy0JCcFB2kgABJ/hMRj7gAlMmBwVFqGdYdqAw9iyhETjYiAGEEAmQ+rRgCylAHkvKziJ4KyMRSAACdGCIGBjCBRBYQV0KIAUhFMILnlBBDH7gNYyUABCW9OlHLTEHoC4ECUQ9KCKk8MWMTOADTWBB+AqjARa0byNSgIRYfWoJNLRVITdIa0kREQRSzk4AVVjiXsX6FYcQQbAlxeJhBXIDHdBhsWJ1wl8XUgMfQPagJOjBXAPHgB5gIqCYPScd5oYRFgz1s9JERAIYabYT/+ghtWK9AtY0woUKwNakOcpaE/yJW5BCYjgc8YAPpvjbT46HZxKAhEeLe04nsM4jDEhANJurRwQsqGWIoC4z60AHEnSVJUeQAnf3qJqOYYCA4qXjIYTAQ5hoABDMXS/6YKDSf/kgvnTUwv+AwoETeFa/6PuBYYE1g54CuIBeQABtlUKBKmx3vWl0VyIePAc6CAFyVnHDDhBczW+B4cFbeMNaJIDL5iLivN8SQXy9EAS6gGAIr4WsdzumA+pi4gfvbEsSgnBholKqY0PALR10IFG7hAEC+TWpJDtWABVgNhHDNEwlTgADIzMNB5c9J0Dn4IQv8GA1SWhCjj+JAJl27P8HApUjHX7g5sswYAeI2CMJSOCDOncMEahNoSUsEQkUPBdFIXgsFUkwBSQslG6AQKEmtXBdHfEgBEEYKiJ8UIXRRu4IkoiBF64ABTQwoQrI/FQBjlCDI7hwsgShAAjmB+ta2/rWuM61rnfN6177+tfADrawh90oTRBgAB/wgLKXzexmO/vZyz7BAFJNbKC4oQoKyLa2t83tbnu72xBwgAPS4Odqs4QDYegBBL7N7nZ7GwLwhvcHzmxul/BgCIJwt773zW0IxKneLJGAA/hN8H2Hu74A5wgFejDwgju83WVYcMIvcgJxP/zi30b4xDGCA3hj/OPbrvTGHQICGYD85Nn/FoT2Ru6QCKwb5SDvhVpYfpEk5BvmHy+Fp2m+EJfj/OMtaDLPEUKBCvwc4z2oxNAdAoSjXzzLS1cIBl7udIIHOepNanjV3d0CTmKdIQQow9b1LQVqf31zO6D62LldAf2d/V2+UPvaFdAEC779IgQ4QRDKwPe++/3vgA+83ytQhRNs9u4XsQAHCsD4xjv+8ZCPfONfjfjKW/7ymM+85jfP+c57/vOgZ9oZKFCDCdhgAlwwe+hfUgkueAAAsI89ADzw3dW7hAEDkL3sDcD7ldu+IyAYgAF0T3zYP/P3GzlDB5ow/OIT3wAdQL5G3PAB51sfACaYsPQXooYTGMAE13f+/wJ8v32DdAEDw+d988Ove9mVvyA8oD772W+C/r5fIEcIw/rnb30D1P79IBACJrB//Fd8BhAAErd6PKAB4FeA7HeAp4N8BMB8AECADvh8UGd7SSABF1iABnB8tlcANwB7FtiBBpiAm2cBNZADcmCCBahxnncEJ+CCDngCtAZ6GGACB0CD82cAJxCBnmcDPMh/JmAD9BZ6bjCE8xcGNwh6BdCASqh7BwgEHmB3tod+UYiBE6B9qzcCM5iFuscCGYURZ1B5IACFSmgAl+CD/+cQI3B5RwCGFZgDbocQiyB0XwcKJWiCJqABJ6IRXVBidxcBaGiCwxcChrQRUoV5I1B9NGd4ABLQhhmRhMhleSPogDsIAAfwAdF3f5hRiPynAUDoiR7jgAYwAIlIignBAa83fx+AgqpIEIuwAtdnADkwAW8Yi26IAcy3fwYwBBpAebqYeG7AAh6ABR8QAjUwisN4EWegBM1IEAEBACH5BAUDAAEALAEAFgCsAJAAAAf/gAGCg4SFhoeIiYqKCIuOj5CRkpOUlZaXmJmam5ydnp+goaKjpKWmp5U9qKusra6vsLGys7S1tre4ubq7vL2+v8DBwsPExcbHyMnKy8zNzs/Q0dLT1NXW17Ai2Nvc3d7f4OHiuCvj5ufo6err7O3u7/Dx8vP0tT4alUA/9fz9/v8AAwocSLCgwYMIEypcyDCXjoYQI0qcSLGixYvFcGDcyLGjx48gQ4ocSbKkyZMoU6rE6GGly5cwY67aIbOmTVQQbipSoLOnz59AgwodSrSo0aNIkypdyrSp06dQo0qdKjSCBKoqBXQgKgHAUABesa4MK7as2bNo06pdy/aQjQiUPUaQBEt2Eg+TAD5Y4lCuLcG6lgYUNQDYImEABvyCBBAChGKiBx5L9peD6I3JmOsVzjyxxuaelTmLVshBXSAAIfkEBQMAAQAsHwA5ACUAXgAABE8wyEmrvTchzLv/YCiOZGmeaKqubOu+cCzPdG3feK7vfO//wKBwSCwaj8ikcslsOp/QqHRKrVqv2Kw2Bth6v+CweOw93AjkpTmwvhoGhVoEACH5BAUDAAIALAAAAADIAJkAAAj/AAUIHEiwoMGDCBMqXMiwoUECISD48MAFlMOLGDNq3Mixo8ePBgP8EIKiJAoRf6owAMmypcuXMF9SgHFShM2bNv94iMmzp8+fLCMgwkn0phAWQJMqXaqUgY+aRYm6wMC0qtWrHANBjYoTBQysYMOKHajGBdezA8aqXZuUxdazOHewnUvXZQK4XH/U3ctXIxK8UTN06Uu4MEIigIuyomC4cWNAiYmyWum4csYIGm4M0DCKA0/IkW9O5nkkCiAiTSxXZbHjB4nXr30YiAATdGgRo196+KHHiBErRi5MVA10SAMSDZIrP45Aw0vboXOz5PKlkB/f2H2rAKSGOE8ky8Mr/yeRtiX0yNI/Mvjhp3329wgseH9ZBbl48SR2sjyfOL1HRO259152CMzXUg0/3KegDwXsd5tN/nEUgAoDVmhEIfoZ6FEZCnYYgIMPRqgRBjNYaKEO8mnIERcIdKggAlyAxB9gImbkg4kWqvCBihytoIiL95EQhIwP4kZZRwkkch2OA37Fo0ZN/AjkfTd8NCNeNV5EghFLMkngk1A+MOV9RIDg0ZVwZdlQAhR6OSAiYGZ0gphjipfhRmiepeZCFBjiZoVfxIlRCHXeh0ASHeXJ1Z4KvdHmn9kBIuhFEbRYaHgJJFokowhh0Buk2PmRiHOTOvTGpeEhUCWemx6ZURGgZv/3CBWlXnREgqgqJwZHikbFqUEeJBIrdoWUV2tDp+aqXAishuiqQzwwAdywRmRw7EUUWKosEc3e9itBTTwaqx4TXHtRGMoqd4JGvSr2LENHCEEtl9ya61AEPaTbgA9HZNSuZO8uhMS0wxoSo70OaWBfriRkitG/OH0rQBglUmuFwwg7JIW+P5TwcKsYITBvtRlj5Ia2ufbwsbMXeTByIsyWfFEA+iKClEMQixYwQjrM+0gDMmMEgg/6wuBZQzlDuLNBQ4gLqh4xB+0QuvreqVDSIuiwNEEEVBzrdU5K7dAiX+jrg8cMYU3F1gP1MLIIboiN0QSIpCtkQ4g9uDZDN3z/OqwfZcidUb4LX4pIuQv1UCQViC6EyCPUguGC4BmVgDKqgS+0Q5F/MKYQm5APm8i6lGM0ROGXknBzQkC8BZgPCzGQAcGQQg576SbDoK8kgyVUwoMofKhQGbBQ64ceYeCeEdXKkrCjQgiERoMQByMUQc/zSiEoAzaEMUAIN3j+EiMQ6Jt5QiEYEhkKOCz0gdOQzhB3TGUQ8QMCgdSQFAVDyNCCAgDkQwsWgDaXhABXuUJAgxSCA9cVBQWIEB9CyjAvFQABJkcIQiI8YYYlQCEFaGAC6XgyABkA8IQoVMACGteSNKQLEdVDSCU2dxPXoaABq0sIEf42K5ggQQ8vMIMQ/4coRDTEJyYf+B8EUpjCHkiANiyhAAJTRxWGGMAsrjNED/rFEBhQqxAjBIkjhEDEMhIRAWZyiQb+x0QmQgACUiAVSJqgrEywbSAECAAihGCTGLhACqtqiCuoVS+Q3MoLUAiiGc14O5YwoAwtYGMbmSgIlYBkEUXIlQ9655A9sMARofjACAZHOzdtIZAdiUARnBDEQQxikWb0xBBaEgJJTnKSMjBBdzwiAdRN6Q1VCYOwQIUEkEhhBkR8JSzNyASWjAAHt4wmAFtQBgmkkSMbqxMJWmGspWzpT4/YwDU3MgARLPOcQ0RDFT1CABNK8504QGVGNDBFF/1Be1YZwjC9lP+IWXLEKU5wJTrRmZqPrMCW77wlBIDwCo54oE4+iCFTduAmMJwvIyAoAxDNINCBwnIJcjGoIBKa0BbI4AQSdEglhlC3Dj3ABzm0Shn2WaFC/GCcF9lBDFKQAo96FJ8emQBJSQoBIiBBAykaFAJ8eRwpcDEsT5gBGAZkBT0EYiNNYEIKXgAFnw70BVUASRfKMNSEvlEBOJif0DxABATUDRE+wIEN2AKCKvzhAolIxAX+AIMCXoQLZXCCV70KhbCCBAhlTawBCLARNwwgDBjQH18moAHEaaQKeujqYH2aiKd6pAaJTawMPLBL5QkEAEJQ5GZ92kiQQDO0Zd2BHEuHARL/oGG1g+2sS44gBdiWlQiBUKvYkrCDRqgWtwN1gspeMgGy+pakgjgpD8SWPuQO1gmtdQkDDPDcoRJBFlI7QSKs61U9PK8nrFlid6PpACJEDWED2Ch50ZkIjP0kAidw53pvWYYFIswH80WnExAg2aXwb78KDeO1SpCFAMPSE3+YbVXckAYiIJiJOEjqtSCgWQcP8QV6MMBYeHCD3l74hDKAorl04OEPFyJQbCmAB/R7YQnXCgUtfgEa8rMXBpgAod2VZ62QOd8XcFUHwuuLBoKAYBkI91guOC5uX+AHETeGA2GonwPUG9oK+PdafzCDlL8qxBc0AgZPNgwImtADLid2/wEZ80CHN7vjbqpGA44A8jsFsU5zdeECq4UCChTsnTPcYAdlHaDMnnBbn0JBD2UYJZhAMADnvrMMjJWZD8a8SDTAQKJgUkMTxDDJN8Ix00HzgTJhmQIXJM9cNQiC/1IIgR4EIKUy06iYifiCFMzAvuaqRA2aUIETSsEDaZYaAXrwiUI44RGJQIABvlwyDlDgCBTQsGkFwIHSbvvb4A63uMdN7nKb+9zoTre6183udrubOGqogQY0YIN62/ve+M63vuutgRpwUt0jCAACqGCIghv84AhPuMINIQQmAMJqB2GABABA8Ypb/OIYzzjGDRCIAHjgjqblwg+8MIeSm/zkKP9PucpVfohEXPAgPJiAAQ6g8ZrbPOMGyPkCDGCDM5ibBXpYudCHTvQ5HAKGBTkDC2h+86Y73eIGsDO4PeCFOhT96lifgyVmUGAByPzpYHe6AYDg129jQAt1sHrW175yS6yBBAMBgQnCTvem54DapqUC2/c+9EMUVANyqLvgNW6AsivPA1fgu+JVPgOBeGDwkMf4ebcNg8Vb/uRXAIIFIs95i6PatC64vOjnkAYOGKDznD+AjUtnhNFbXhSbPD3qIR8LUJfOCa63fCYWIfvZC/4AXVfeDHKveFGUAQRY8P3gDeDzb/+A+Hw/RJVWoHzBx1R5bzgE9NlOiBgdgenVB/v/57cd9O1nXVICCUPvw39zCYx7B3Qw/9UJcSRRs9/u/wa3D+RPdDoAkyBJ4AHrd38Wp0vm9gPxx38nZwlzkAIVcBAgwAI5N4DhdwAsgHfi9gFgoIAmdwgbIGQEoQYaIAE5YAImeIIomIIquIIniAUSoAEg9209YAiJgAZXcIM4mIM6uIM8eINOMAM/YGUMcQY80AVGeIRImIRKuIRHqG3v9oRQGIVSOIVUWIVWeIVYmIVauIVc2IVe+IVgGIZiOIZkWIZmeIZomIYN4YRq2IZu+IZwyCNCGId0WId2eId4mId6uId82Id++IeAWBlzGIg+gQWeRYg9kX+IuIiM2IiOC/iIkBiJx3IJaBgQACH5BAUDAAEALB8AFQCnAIYAAAf/gAGCg4SFhoeHNoiLjI2Oj5CRkpOUlYQQlpmam5ydnp+goaKjpKWmp6ipqqusk0GtsLGys7S1tre4ubq7vL2+v8DBwsPExcbHyIdUycyjy83Qns/R1JnT1djZ2tvc3d7f4NBG4eBW5Kse5+rr7O3uglM37/P09fb3+Pn6+/z9/v8AAwocSLCgwYMIEypcyLChw4cQI0qcSLGixYsYM2rcyLGjx48gQ4ocSbKkyZMoU6pcydIUhpYwY8qcSbOmzZs4c46coLOnz58/tQC9UuVnFilAkypdyrSp06dQo0qdSrWq1atYs2pNGYITlq1gw7IDAECs2bNo06pdy7at27dwF+PeKhsAwFe5F8uC+EkBr19vJpIWkBQIACH5BAUDAAAALCAAHQBOAHoAAAedgACCg4SFhoeIiYqLi1SMj5CRkoeOk5aXmIKVmZydiZueoaGgoqWmp6ipqqusra6vsLGys7S1tre4ubq7vL2+qXm/wsPExcbHyMnKy8zNzs/Q0dLT1NXW19jZ2tvc3d7f4OHi4+Tl5ufo6err7O3u7/Dx8vP09fb3+Pn6+/z9/v8AAwocSLCgwYMIEypcyLChw4cQI0qcSDFTiGyBAAAh+QQFAwBKACwMAAAAvACbAAAI/wCVCBxIsKDBgwgTKlzI8CCFCWnKhGCQpKHFixgzatzIsaNHghIA/SDRgMSfBjCaVPzIsqXLlzA7qpFCsoHNmzZhhIjJs6fPnxpBAHqAs6jNHxOAKl3KNKaaHjWNFkXgpqnVq1gZfpDKlQSSrGDDXl2EAKcirjdJaBDLti3PGkTRSg3gtq7djh/iyi0K4a7fvwyB7JXqwwLgw4gF7hhsFEGExJD9LmaM03HkywpBuHEzgQsGHj0nU7ZpmSeFATt2hMHMs8SQHg6ICCICYccoEDFFjy79MgQgKiKCx/jTYydrlhIgQFCgQPlyBUSklICpmzJvlgykGArOnXsMKbiPc/8MwLy8efMYXlZnfN1jkiLd43MnAlp8Rg9Ezutv7uCGy/WDtddRESjIZyAR9mF0hAz7NShFFy0BuJeAG3lg4IWGGJcgQwY02CAfq7EkoVwUZuSGCxde+EN9GybEAIMe7tcDBSKOdlOJGPWQIoYDtKiQBjF6+EGNNjaAo0VNGDLGjgaW4WNCYQTpYQ0fjYjWkQ3BIMKSTMbXw5MIhTCJlPtVYVhHVnKF5UIfxNClgV+AedANZDboH5pFGvkYRxE08KaBUshp0AR17ldGeBulKdWaCTXxp4E7CFpQF2UUel4LEuBZJKMHuSHEo92hIMR0khLkgaXnlUGqRoo2tqdGSID/Gh8CpRZEAYyoMlcFR61O9SpGIWwna3CGrFWrqbmW50B6rObJKUEj+DAsdz4cW1ABUiTb3BuJOvurRSu4OS0VVVlLEJDatsBCs5t+yxAFiEwbHA7mFrRIAtoqUMFKF/VambsLBVLgtA0wUG9BbjjwXK4nZOTvjQAndANw09LQxMEGBbAwqjIY3K+3GEEgrwi0YlwQAZVq+wRGD5MW8UEhjCwEsyYTNEAL+VJpUct6XhSvvEXUbBAHO+S7gwA7g9zQCeIOSwXNQg+kgQPaCrJuQzgovRAFFE/rZNQFWZBGvhUQgLXWCuEwMglHgG0QF81tXOiQDGXdLkMT6DByAm4f/wSEwsnKwAVDaTiLaEIwDDxsyX0XxEAZctcJARAMBZAnDC8L9IHMGjZuc37JQqBzQh5ENdgDD3ypUATSyqu6544Xre0OZyIEiumMNaxQAorLSoWxsBekAW3JqrsQBDYi4jFCIPww8sqsaTZBDR1wcfhLb1CdLF0/IkLZH9wntMLIGSwPU0QwADJEuR6BwIIJAMQfvwkDmN9SDT1oWwYHCw1B2ReZU8Ib5BUD3b2EAQEQQSGMYIRHqEAPCOgRRzoAP/lZMH4ruN5HoqAtB9BIIWcAAglGKJURAmJ0CdlBxRjnkioYwgoMjGEME1EEFl1EAxfMYfwCgAEItaQAuLIUEf8Gx5ATIAB3JEEEDu7QkFgNKwZXa0kT/iDDKsqwCD60yBF0qEMgAOEDbWvJzXLVA34t5A4e+MIPptAARPjgCShciNpkRYNItYQCMEiEFffIwL5YpAAV5CIXJaAGlnAAB7mSQu0sMoEoBGAAZ8hIEIbFhDhupABl0IMVrOAHP/CxioXwgEVKYIADCFKQJmBBFjliA5xZSpRWsYHeQMW3jyRgA5/MpRFYmJAznOCUwASACSawSI0MQXIO6EFSrtK6N8EBAfzryA0yoEtdJmJVCSlADoIZzBMQcSNuCKKHIOCAIWRFAp96kyEMqBEKEEEP1dQlGDK1kBoYgJvBNMAAApj/EBZETj8QCMUHsZLAN+1qIxxIgwgeEU9dWiEQDLEnPrlpAgxokCGMGECQWiAdsbwhnReKQSmimZFAZOAUKmhoNbm1EFBMlJsGAEIT3DACjUxACq48jyBMMNCweKBroaJCFDYiAQSkVKXVtII5F2KBJrwUnwf4gP0awoEbBKEMMsiqFJrQAbtwoAk++IMhDMEEHyAhjBgBRRrgidSGhk8hA3jqRE0QggJshAEY0AAX0PoXN5SAfRkJgCFI0daGimCqB2GAXJ+qAZIGbyClg2Fh4wkGBFnEA4t9qQe+Gbwa+ICtk40nDRCLkCQ4NbP4NEAYeuo2NVRBD4QNbTz1QC+M/xAgB6ZEbT4BoAFG9E0DVJStQxmoh9dhBARx1S03gbDMqMVMuA01RIg44gYP3FO5gnwCELCJMQ28ELqf9AMYRLDUj3RBA4HErg5N4NiDQcCT4N3jI/QACM6yBAQhSK96LQi1enFBBfCNbwxVUAgEWNIlFDhBbvcrvxPUFGNSYKiAjdBJPwiBbj85Axc+AIDr7tcEqzQXCSbMQD+YogwPXgoHMMDg+BmAr+ZyAYkT4QMJXqUALNivAQwAWHPpIL5gsAIJMAwWLpzAw6g1AGut9YP4buFibuFBDZoAhB1nFgvttZYPACzb4sK4LRa4wRCQPFEDrKBmA+AkUo9KY+D9hf8LK1jsAb5sLQ64IMAqzYCNEcMILkThqZ3DWBP02FBS1DGSmLEABfFpAn6WqgeStWYPzGYfDrCAzPIzwAIW0IRCug0C4XXgD6K4oSNIoIuPvGjN0iAEUsR2wEIo75MYQQAbbDN+H7jBkt1GARwgAAV6mIEIAOEBVftoBCBIAggQ/ViCFMACxm62tKdN7Wpb+9rYzra2t83tbnv72+AOt7jZJIkGZODc6E63utfN7gx84gdl2PO4fXIEHxTiBS8wg773ze9++/vf/IZCFlAA5XnzBAMxALjCF85wM3jBB5Q2uEtWoIJBNPziGNe3EOwrcY6UQA+DsHjGR75wXnZ8Iw3/yDfJVw5wT7Dz5BkZACRYTvN/6wDmHOlBzXfOb0gUHOcX+QHPh76EBQA9IzMY+s5fsAQ/Ht0ielB6zZfwgmo93SI6ULnUSb4EKKTh6haBgda3nvEXpKC5YFfIAjxB9pXPgLRpL4gh2k7yr8V9IQlAA90xrgcz3j0hENh7w9Fggr9bxAdeGLvg9+2HIBj+IhJI+gugIPh8Z6EB/X08Q3bwBxQkghCgD73oR0/60oM+EULwAZE1z/rWu/71sI+97GdP+9rb/va4NxcGdkAFBPgAAQE4cO5bggEmLCESopiD8g+BBgMPHyZBaITyp0/9ORjhoM//iAHsUP3uzyESKCB1//YzIgEneP/8dGACx8fPkAac//1zaDr7L4KBQ8D//ZEoBETnvxAE3P/+kaAD8sZ/BCEC//d/UPAD00WAA6ECB3iAkFAE0fZ8VrAGD/h/kXABA8h+W3CBD0gHhrB+zxcDHniBV/AF4vd8HlCCHvgIjjd/esCCF5iBL5d7UkAHMmiCU3Anz/cF9peDB1gHWeB0w/cDOAiEDygC41cGYFAHdYCE/+cH45cEX+AFUPh/Nzd+HvADP3iF3hcJccJ+HpAIlPCEXlh9F0CASCB9Z0h9h1CDz0cACHAFbTh9tUWAH+ACXeiFREiAT6AHFuiFYsCAzoYE5neFgUKIBIEBc4iEa1NgdIpYEAYwA5GQg4kAd4QIaTJoWT2xgXHHBClghgeYCH4XiQYxACRwhPeXAo5gig0xaPdHCArgiheRBipQidVHBxmQebSYGT3wCXpAYMPxcxYREAAh+QQFAwAAACwQAAcAlwCOAAAH/4AAgoOEhYaHiImKi4yNggaOkZKTlJWWl4pEmJucnZ6foKGio6SlpqeoqaqrrK2ur7CxsrO0tba3uLm6u7y9vr/AwcLDxMXGx5sJyMvMzc7P0NGLH9LV1tfY2drb3N3e3+Dh4uPk5ebn6Onq671B7LZD79kI8vX29/jHJEX5rx39AAMKHEiwoMGDCBM+q6BwkQcKDSNKnEixokVHBS52KqFxE4eOIEOKHEmypMmTKFOqXMmypcuXMGPKnEmzps2bOHPq3Mmzp8+fQIMKHUq0qNGjSJMqXcq0qdOnUKNKnUq1qtWrWLNiFaK1q9evYMOKHUu2rFl5Nc6qXat1gs0AgwICAQAh+QQFAwACACwtAAAAmwC8AAAI/wAFCBxIsKDBgwgTHizApUmAGmpAKJxIsaLFixgzatwoQEMQGYIUCOrVYkcIiRxTqlzJsqXBLgYUyJxJE8cElzhz6tzJAQfNnzNlcNlJtKhRiiAStADKFAmBo1CjFmWxlClQB0Ckat2qkkMFmpOsynRAxA3Xs2gpcgkplqmEtHDjDgxRte3PKnLzoj1hl6kUHnoDS23SF2gZlIITEyVcmOZhxXAtUGBAgMKRM4sbO0acU42GAEM0QC5IgMUQAwcOPAHyYYIFnYw1K3icE8MOBA1yN/DxBsPoCQYMAAAQXDiAJ00Y5IytmXbLJE/wKNJNHdECDokHHBjOvftwA0dwMv9v7HwliB0kqKvPjQOzXg1AjHvvbiCA2ZbjC5dXKeXB9PXq4aBXEibIN593H7zGUn597ccRCwBGiIhvcoVw4IXDUbgSg3Y5qBEBPkQIIAlEVBIXCCZgeKEJnHHEYVseZlSFiBKKBhcXKmJow4KyyRTjRQMgQmOECcSFQY4HovaUSi+K9aNFUgwZYRBxdYDkhRKMwGSPs7WY0QBTSAngDnG5ceWBB9znIpdPTgRCEWICuEBcBJx5oAkKbtSkVW0qFEaYceo2nQFxWTCEnd4doKFGezLVJ0IE4BaooAiEF5cGiHInnAnK6cmmlxYlMCl1ivSQF4qZdnfCmj0+ahAGQo7/mhsiNbyXKndALJlRo4aBOtEZZaQnawOm6mVBE7cS9xajn2qkwbC5IdCpXkckO5yaF/H6k6sDRUAEtCQQKpgFK1j7QRe7NovRB8LK+kUSilEQ360G2JituhaVIKmsJIQxWggL0GtABBhpuxlGOEBL7GgCRHDorQesUDC+FGGg8A/YKjaBtQDoSpHBM3H7BbhSMCwQDx9Y24SWFYHso68GQQgtAhlDxoWBiAZSgkUud1lRAfvKWqTJAo1wQrJANFFAyxQn1AS0D8BAAdEDJZHsAgvYq1DPfXIR9KhNUE1QuTjbOfVEHrCJ7kRStDvpA8WKLVABOSRrwCgUDcDlDotM/zTAxYvKXUPZZx7g8UE3QNDjnAqB0IPCachdUAEe2P2BiQklwVZjLdwwURNuT4rAzpITdERw9JKeUBWyyQBvQhwAorAHpRekRBhAJDvARFz00Jgg/ir0LLQ+vK7TEAmUIYUEoBAFSgDJDgGYQits3hYOMAs0ROhxIsKCTkmc8IchIpQ/hg4QBN7SDdulakD2AjAiAQQOKE7TUoIQkYalCgUwLAlxc8nTUFC+AhZQCEhgmUsskCL3GU8hNpCCA4DSAjEorSKBGFYrbuKSMPjAgCA0IBKwg5Ma3CoAa0PKDXAgAwVAQAZSOAH/KDKEYQXAJREogxBCyMPyCQgnI6hcpv8+oMCKaIILA5DABBixK1n5YCgr6cIbdEDAHvLQECHIiRsIpyKtRUVfo/rAghBgxTKKAAI6CQEXvWMAIARghlIpQ6AeIIM8baQGHzRjGYUARZdQoIE5amMWz3KDH8SJF9/jiBpwoAM96jGROHHDJZBkgCjArygnkJIiFCHGjfBge1V0pBVRELacKMGEGBJOcuLShEyI6AF42IEdL/KBPIrSjKQkyhFy0D7uPAE1J8nLAL6mGwTsTiM3EMMtRYmCVRGFByU4wWmG0wQbnM1YYSiDD37wAx+U4QnTusgdhtDIZTqymVApwBGOkIQHKoYy4cTICVoRSnOWcQx/IFjtIBP/Ah/QYBj2FCWZ9pkYLjignAF15B/cSVC4LKIJVBABCuqZ0B7qQFwNlQseK6rHKurghxk1Egk4KkpEeC6kcSnBSElaRhT0C6V52cEYWGpFHUghnjA9CwNiEAOahtAQEOhjTuGSABr4FISIOOZQ5WLLo/6hCu5ZqlzIeFQh9MCLUoXLD3xKgyIoNat5AQRNPxE8sAamByKYaUKpkIZrmvU9plCrOXXQg1q9NTE8oOoyUYAArN5VL2HYoShpQIIAMPGvo0nDOYWAA4YiNjE4oGgBxzCGGHyBg48l2hAQEUIUxOAHy8qs2AoQACL8QQcuIAESBkBC0dYOBDxorWtnS9va/9r2trjNrW53y9ve+va3wA0uSs+QTR8g4LjITa5yl8vc434hCDsSrkUogFYjWPe62M2udre7XRW4ILTSRUgJmAAG7pr3vOhNBATcGt6B3AAFpECvfOebXRIcLrxcEAIp4kvf/soXEO0liA/8S2D5FuKr0rWBHgrMYO6qgAQBFsAOHtHgCmPXD3ooq3R94AcLe9gPjyhleFnRYQ9XGMQDDW8MSmxiBoM4gMIlAYtbTOBHPCIr7e3BjGncXz+ooGbAjYIKeFxgP+iAvcJlApELDNL2NiERS+6vEJYWYQFIIcrz1QPtqiyQHkCZwljW7hZuyOW56IDCVgizEXzsA9WVef8ggUBABkSghzrb+c54zrOe6xwDAErszYAOtKAHTehCG/rQiE60ohfN6BKKCgaAgMEHhNrojOhLC2aAgqahkIVEfMHNla4IMfTwgheY4dRmMHWqZ0DmUH+sEaiOtaxTsAG/unouiZC1rmONBgTc99YC8MGuh41qQpQM2AMpgSeIzewUXEDEty4Cs6dthhT8AZKhdgG1qa0FH2Cb0TPYNrVfoIcepHDR4Rb3tF8AhQ2cdNFUULW6iV1qLzDh14T+xLzVDYkyqG/QKyj1vredghlg1NCGgMLAxU1rBAu6CmiQ98KnDQkf/PvNPVj2xLc9CBUcm9AwQMPG1Z0BQ+NgBkv/GPm6X7AFQ0fAyyqn9h8OPQAfaDzmu04BjAcdBhSkAOe6fgEVduuGPwhBD4kwxA4obZEgpBvoqPaEw12rASZcQRRzyHrW6YAIZ2KEAV9ohMRj/oIn3NYDkNC62i1hiTU4oZMZCQMiPDH2ibP747M9gRfWoPa+bx0BLooBzl+wBLyLVgJO8Lvi5+CFd2cEBEHItcqhgBfafmLxiq+DDlRSAkBAotR1H7cZ4C7aECwB84o/BLT1ZIgUhH7dF3DsX7/Ad9T7PREt2cEMFD7vFxg+swiwveIjkeKVIEAFP9/2Cy5A5dkyQfiKTwGQN3IDH4ic2n5otfOhr3hE5EQCImA2/7mL7/w6cL/vS/C6SxYwA9cL/NRo+AGoZ9sA859f7SjgyW1iMIMLMAEB4GVbA4AJ96d2kbBzofZ8Bah1egBHodYEV7CAWgd4yCYAwSeBc5AFdgVsGJAFGDgHJVeBZVB7C0gHgVCBDJAIHxgDFSgAVXAIGHgIaFSBCiiBRtCCEuAFGFgHMNCCPvCBWbB6oRYBYPCB3leBRBAJGEgHQ9CCM7CCfYNsHkAHMfh7ofYH9reATtCCGHB6GEiByEYEH7gEWwZsXKCCGAhhFdgESiiBS3BxjbYFGLgGPtCCTUAHliCBP9CCAvADGCgCfFgCOriAgMiHUrCAddAAfCgASVCE91K3BmDYggnQhtBnCW+4iAJBBfcXiXyoASmQhaiHBo63iD9wBaCoeFcghIsoBmSAepBAepg4EHEwBlSodqJgB58wfbHYET2AAirgBy7gAwEoFwEBACH5BAUDAAAALEAAAABxAJ4AAAf7gACCg4SFhoeFIIIGE4iOj5CRkpOUlYItlpmam5ydnp+goaKjpKWmp6ipqqusra6vsLGys7S1tre4ubq7vL2+v8DBwsPExcbHvUPItgY3y7QHBwzP1NXW19jZ2tvc3d7f4OHi4+Tl5ufo6err7O3u7/Dx8vBuMvPFePf67UH7kEchAGDwR7CgQUceDhL6cEehw4cQI0qcSLGixYvyYkBsgLGjx48gQ4ocSbKkyZMoU6pcybKly5cwY8qcSbOmzZs4c+rcybOnz59AgwodSrSo0aNIkyqFx2SpU3c6nkqdSrWq1aulSEScM6dOHaxgw4odS3abnbJoq9HpFQgAIfkEBQMAAgAsKQAAAJ8AyAAACP8ABQgcSLCgwYMIEyoUwCEJiwEEjnFYSLGixYsYM2rceJHLCRMHABwI6WHCRI4oU6pcyVKhhRAhAcicKfPEkZY4c+rcSZDHCQAGDNCcKdTEHZ5IkyqlaGHF0Kczm6hZSrVqUjdQswIZYLWrV5WVmmSFCgQIg69o01ZMMnbsBLVw4xLE2haqBLl41WIwUffphzN5A3e90fdpEx6CEy8lXJhmEwuKI/Nk3Fhmk5M6u7gZsMKN5ItRJleOirkllxwVFKhWsCMKl89pKVe+jBOEBBmrcyuQIQEx7MGjLZdOyWFIC93ImzD6rRAITtmNabMcoqAT8uTMq0IvLF3lhOvgZbz/zo7w7crtfbujTJIa/PUqy8kjRV9XPUcPgtyD9yy/IAAb5wUHgH0aYYCbfted0F9BBhxAgEr0tUVgRgYgCF4TC+4U4VgTXjQBBBZeZ0JgscQmYIcVcYCDAyEid1deJaK1YVYoUoQBBCC2mFsYGR6kAUozQlWjQkmUoaNuMiTRI0EAQHjicBedcKRuuCyZU5CGQVkRF1PmJsNNVraE5VBDHsTIE12u9kSYzz2pkRsHdllGBGyK6SZGXQSRpmor1GlncGUWFEJ+aQYBgp8sjemYlgkR0F6XEGCAaKJ3WtTEngqsOWmAgEJmEZd7ynDWpk52ehEOmA5BKqejPWZRDZiW/0HBqqW26ulCHDzapQe01jrbrQoNgCkOh/YK5InAIkSBkXuGYGxKNpzom0IBHJfmAs+mNIGAHyRr0AQspiletii5IdRofSrEAZpptvABuQgB4MEICoFwbmMGjJfQoHuW8SC8BwHAX0ISjGYCowLxgGqaELAAMEoUiFTYAeYl5AamSBSrUxhRBGLADUqGWUNjHnhbUBiEdlmDTgWw4AMiJDQgMwI4lCBZABQpgUEAZWVlwAl0LhQGpA44opMEX8is9NI/PAHYkm40AQRUBrCAMEESQNoDmImWsfTXSycwbYYWuPERUCZggUHQFa0AKY8sgZAAImDXLbOqYaKSRAk1gP9iTEZuT7nDrCpZ0AQCdif+g6QPF3REnCG24LBKAxChdMyJg41D4wZV2KIDYqfEhdeZl47AqJwLVALk+vVgM0cgBIB46bRXDFdoadkAAevINYxSGJIoQjvtJHAlF+poDdCDtdfJMAS9GinfAN3D0w536gRNwCxyZdjuYRoyP1D98JNjT9AIGBiwgwwy7PBzARoVIMHs49P+wAPlm29QBEmwnRELX8Bc/ewnCY3pryUYKAMJFjjA4T0AZwdsCQXeQL8GDg8GBowgRziwAgQI0IK0Q4CCNJiSI5AOhA5EAN5IyBE3FAGF4yvFyljIkSMkDYalI4EkbkDDlAQAh5kjAQL/DBCyHm4kAq0Aot0QEQTkGVEjTRCfEpV2P0D86IkpOeEUG+AD5WBRJWLYYgN+EISBfREllsMhCcQnBcadUSU7UKIPrvjGlbwBhyqEXx1ZUgIQCvEN+trjSkYQxgE+wHWC1IkGflC9BcLgBH9LpE6GUL0fDEGPktwJJTOHCCkEMpM7CQMg6oaHL/AQlEvpwglwAAME+EAST8DA2FBJFQ6MwGS0zKUud8nLXvryl8AMpjCHSUyWMOIGVSgDjpbJzGY685k4EoMUhuC9XEYgCH8QgTa3yc1uevOb34wBAvKHSi74AJzoTKc6RWCIHUwFlTVgAg3WSc96atMHRUwkAxBB/4N52vOf6dwBKMsA0IKmMwZ03GMNNmDQhnozBj6QpAEcSlFubuCUeyRoRTd6vToiYKMVhYNzBNkAkFY0DYmEgUkdCgdeCTINK22oIf61xzDEIKYF/QEm93hOnNoTBU2SZBiE4NN6IqILoExAUdepA+OBEgdEXWo3xyCCDIyQlhj4AVWlKoIYGOJLBMkBLT8AAQT8gQouSKta18rWtrKVCnAlgQ9wgNFi2vWueM2rXvfK17769a+AlSQXmuCDHiChB2GgaWAPwoUvzMAIVigGZFWAgjJwbbED+YAQjMDZznbWCjp4F2YFEobHeva0nFUBImYYWAzEALWwNQIpElEEwv/9FQKkiK1uZ1CFv3IhEbnVbWxVQIWr6rUMshWucFWAADfi9QdGUIFylTuDHji3mKyYrnatEAMc4PKXOjCCH7Q7XdVeN5gNIK96E4EA2wYTAeolrx/8oAccdECYN4ivfnWAoWD+Qb/6RURCeTkEPQA4vnoQw+t6mYZCHDi+FzCaL3uQiAfH9we/BIIOrGBh8lLhlyDAAQo6rF0EAFMDPXAwiXWrgs0B8wYukO6KYYsIGnLBrNpkQgIUexEDbHbGp03EgLFXAwQ4YQlmSPILXoAGHzj1IkUyMJA5a4X+6i8MeoBCkrfMZT286H8+qPCUJWy+ARSCy2jeMhokwZET/Hf/xmAgc+pCkIg029kMKqimRbpggBjI2MJgWGHqEACFJd+Zy1AgQQmlIOUDg0EFHW2cBqxw6DRDIQvG3cgK/lCI+erXDy54Z+rKUOk7m4IlCdABGD7d2yWFQYGGgKgIMVKEUts5BQloyRe2EFztbgCpGXIDEdAQiTkYew6RuMInXEoRBNjazmC4bEowQAQxK3cLzO5PCApx7G5bwhJzQEOrF+LsZ6P5BRHFSQhcIFzu5jpDIWhEt+d9bDoEotmDMDeaCfFkljSBCqf4LGf1AINPkucIiaC3wufAhkgbxAda1jeXN7ATCziiCExgBRUQAIh+96cMC1+4EBZyg0ZInMsp/xDoGc8AiZAr/BAQTEi5T57kGDixh02og8sV/oeFSAASNE/yIL5wRh/ofOfzFgFFah10PJuxhy44OtKPnQiK1ODMQYcChrEoBKlPfQ4qqEgaUtB0Jwiahl3/+rHDTpE7oKDpZsgA170+dbZTZAieaLonpPBEHah97ReZOc1n0Pe/G9vuFNl20wfRAyP63fCIp4gYmg6FQmQ6go//e+QXAoIZZN0M6WZh5tW++YVIgexB90S2MW94sGtEB3D/xNUaN/qvl15oXtD7uFkP+Y0I/uRVJ2Ht676RGmjhBU1nswaHj/TbU4TUTddCug7I/J07fyFHeHvQl2Bi3mseJSdA/f/JX0AI1pqv+i6/PkVgT3MtQ8D7pE+JBJxA8xdAAQbwt71KYFD/F7gg/8QnOoWAfBLnfwDYfCuRBkEXeufXeupXEQXgeRKXAkRHfQ44HWSgby/QCAvWgL3HEiSggRVogR+4EjUABlCQb6WWCOeVOugXcg94ET7gBCp4aE5wedjzggsXgxexA2BQaV4meheYEx7gAmiwBAQIBUvQCAggbST4fTsxATvgAlswA4hABM7SQzqocDw4TFtIb10oTBvQeoUQWAjQeoQHWEDQelv3VxaQBX9XB+8GWD7wd3qAWW6gB193BV8WWBPgBUh3CEgwWgIhAYTgcnTgYoQoADXQAJgaMG91oAozEHOLKBBR4AJMcAEzQAWAQIn6ExAAIfkEBQMAAAAsKQAQABYAXwAAAjGEj6mh7Q+jnLTai7PevPsPhuJIluaJpurKtu4Lx/JM1/aN5/rO9/4PDAqHxOJMsCkAACH5BAUDAAEALC4AAACNALwAAAf/gAGCg4SFhoeIiYg2AUccFoqRkpOUlZaXmIlPB5wGJzUCmaKjpKWmiganqqusra6vsLGys7S1tre4ubq7vL2+v4MdwMO8AMTHyMnKy8zNzs/Q0dLT1NXW19jZ2tvc3d7f4OHi3Mbj0OXm6err7O3u7/Dx8vP09fb32xz4vPr7uv3+AgocSLCgwYO6LCxAyLChtiQmHEqcSLEipiYWTx1RkrGjx48gQ4osSGIkppImU6pcybKly5cwY8aLglKmzUgKburcSSkIz59AgwodSrSo0aNIkypdyrSp06dQo0qdSrWq1atYs2rdyrWr169gw4odS7as2bNo06pdy7at27dwPePKnUu3rt27eAUxCYAir9+/AYwARQK4sOHDl6AEXYLY7wknjSNLnky5suXLmDNr3sy5s+fPoEOLbntBVyAAIfkEBQYAAgAsLQAAAJsAyAAACP8ABQgcSLCgwYMIEyZkMYCAwocQI0qcSLGixYsGDwDAyLGjx48gQ4ocSbKkyZMoU6pcybKly5cwY8qcSbOmzZs4X7rJybOnQBM+gwodSrSo0aNIBfK4U6IGhaRQPVJggQWAVQAfbtyJylWihQkmAAQLdtWA1Qlnuqo9OILF1bdwWShZS1dgCLh4DZi9UXctAbyArZpI0pdrl6qBAUuYWziphsSBBzdGegRy5AmTj961DNhG5qJ/OQNm8XnoCA+iAWMuHbRyarw1WPvskuM1XhCye2Kw/dbAitw8k4TlLVgN8JIWLCoZoJE4gAHHkVuk4Fxwl+gkk1O0IMG52dXYRWr/n1jCrPMT48ODTA+xAGLiT46oH8n+oY3qAH7PFz+RuncTBezHn0QnVGdACAIOCBED+OUQYIIu8fAebwdgAOFLNeCH3oUtFdAEfh1w2FIY5hGnn4gqERBAibZJhmJKIwxgoGcvptRBgw/WaNIZBVa3k44n+edcE/WBpAELJ0hQAm4cToAfAyR1UYMUYqyiwJVlNAElhE7yZgAQEpCEQRBXlmmmDIsl+JiXARAWUgdPtGDmnGWekFZdWFTUpW0GgOcRByfIoIAgdBZ6olqgGFNRCcR9wGRHPIRQhpyFVirDj+qpMZxoBhwQokcYvKEApZVW2oSAm4kGRBiMdETBAqXG/1pmGTmGR0FtogWw5UUWrFCGrMAqIN9+XKRWAkZnaLADocHKaqGAJQwBmQk2tGoRBo440GywzwpIQBObvoWFQxYd8QGz28oqiJ/7MXJECB+YYMIHIWBQ5EMcaPBrusA6QERsKHYBwnUX1UAmv8E6gAMHQFrEBRAQINysA2E0TJEaUewrcbA7MGwxRDxg8KugGwNbhgYfQ/RqydtWcGjKBzGwA8uytkBoEMPCjBAFM9McqyA4HKuzQmFE7HOhgsgQxqNDHwSCA0YffWYTxjWtEAsQRH10JwoEganVCZkgdZmT7DAAY2ArlMDRWUMgwwfkpv1QFT47YPcQXMgtURN1l//xtd4PfaCA1vxWMADBgEdEgCCEB+u2B08lPhEjCTQuKxGBxC35RG5oHCwOGqC9OUUDBNuCDAN4PPpFpcs6xK6rY6RBEKSaGcSnsXtkwQ1N7FCGFDhI4MYIuZPEAyPEF6/88sw37/zz0Ecv/fTUo6REDU0kEMT23Hfv/ffgb/+EBHlLDoIJPjSg/vrst+/+++8jIga7VjPQgyIPwK///vv/MATTQztC+vhHwAKyjwRSAGDKkgAIEhjwgQY0gNWqAMEKEhARQoMZFxBgwQ7CTxFlGNoJ8ufBErIPAQBLGQVNyEL10ShlEGhhC0+gsy/IkIWnglkFblhCEiAIZkPgoQf/ERG5lGkAEUKs4AN6ocCGlSGJEHxAmIZmgx9A0YCAuFfDPHBFAiKgW00bghVJ2IAHmPGMaEyjGtXoPvz5gDRyc0MvalFGMsrQjOpTRC2CUES9DSANPYABAgZJyEIa8pCIHCQMyjCEFFbvkZCMpCQnSclKWvKSmJwkAyTQgzckIA036KMlGYAEKogABTSgAQpi8IcEwG6SA5iCCGZJS1qi4AfQoSQLTFnLXtKyCOWDZAka4MtizpIVSKjV9HZgzGaKwAU5nB4DDOHMZsbgB3CMniNoUM1q9uBvzANEN7vpAq897wfjHGcDAsCD5qEzneMsAjhXVwR4plMIDqha7iBg/890jmEDBsjZ6GrQT3v+4GWS80FB7fkFRybuBDpYKDx1gAOBAm4IMZAoPJkQzcQFIaIaTScgRucBRKAgpONEwOi6EIA/oLSbPVhdCXCQ0ZcaMwZDiF0NEFBTm/byCynhQhlcoIMZ6MB/PSEAERCQgQwgoAmiJBAifNpLIWRwJG4AxBVEMYeuzmETdZhBTm3ihiLowQpGSKsRcpEIZPClIiBwBC+pioKKkYQFiViDV71ahzrMgQ4qpQkLRPAIP6j1sEYQwQ/1VAZq+hQFHQVJCCCx18p6dQ0+mMkNtpBWFSBWraTQQwgvwgKF2hSyJNGDZVfbVaDCRAMi+KxsjbCFef9GxAInIMFLUUBDkcCAEqxdbQocupIizHa2gcUIAxIwV4lm8yMSMENwWZtZl5RgBseVrQoWKzsf9NSeNEDAIkTyiemydgsvwQFas/vZDIDkA++05zB8IZId0MG8wlWmQm4QBAT84RNEkEQuJVIGMLD3syqILEdCkQF7IkB1H1Etfi17CDAm5AhSSEQKXmCGDqcAEriUyBcOLNsLRBUjbtiBEMaZAe56RAxcnXBlI4Gyh2jgAlDosI53nIgARAQQJJatGEaCAdM2cwoK7gghZGzZK5yYIBrQw46nrGM0JLkgxg0yYmfwVpGEgae+1EEZXukRHzDZsnp4CAFQQOU2m4H/EC42CATWq2W1IqIkPPgAEnwwSCLswMIfccMVzlzZ5CIEB252MxMeUgM91PmwhViAWmLQV0J31QxdPggjpJxoKmfBAw8Z8aPT6gcmuAkqCTiEXy09hx885ASD6HSbDX2QEDh61IYdLVRmwOquOiHTB+mFrNvsAoj0YNRq3YLmjNKDXs8hEtVVyA+GTWUUQIQLF0C2EUgBg6RMQAustsQcChGRP1B7yjOIyAI8i2w99NYoJOi1JeiQgIiQ4Nw7TjdEIuACbRuB1kKJwhKcrQOJ3BvfHdY3RDxQCG2r4A1GEYKz6QBohBwc4QqHiCQeoe2CE+UJkXC2AiZycXxn/CEY/8g2ssGwA6IkwtmNALZCSn7ukz9kB0Zg96MvMOCeIMHZc8ABRWhObZsrpAtU0LmW0Tpkn3AhC6u2tNFnjvCEV6QKSq9zInqOkwdMHAgVIfqwpz5zfyNAizE5ASYIbhGxy5rsCblBIrRdiLHiRAfOhsK7SV51M8A9IaJGtghyUoZD9HoNI2173/+OEC5gV9u6pgkB9BB1QnvhyQ9xe6cZj5A3+HsGz5WJDPTKalW0/CKaTzTnD0KBT/g78TSRMKsTwZHUu3n1tda2FWZgW5aE4b6sPoTdFV913B+kAdo+xell8oXKn9nVtV98R2yt7ZjOJAPOl7EnQB394nvk2MiGvv9MXJD9CXe7I7Zvs/EPsubw06QM5TcvuT2Sfiqv/yAByDqJiUCTARj+zJFgfegnfR4BAjpACnWmApEXEy93Ztb2EfWHbiBxAslQZzMQTMwXcjJGB2AHgQT4ET5QZwsoExfAZACHERGYbyHhBpxFYiLQey4RAo0wYegVEimoY/eXEGKgB4aVXXoQZzPRBIUwXZFwASNxg1YnEo7QgrJVDDEAhDRRABlABmBVWVawfDb4gSExAAhwVodlBXpQBGSGE0OAA0WlBzPABFVwVVnofSXhBgnwA1SgAz6ABDVWFKiACilhbm5YPXyIcDVYPYjQd0b4SJLQdx5XPU3Qd+dXPTxKoAL49gKDMHzUAwH4BgWDF0lHEAPnhgZQKD0lkAjD5glCR0kDoAcc5mZoUG+W5AY+QAg5tmOeoAMfkEkCIAE/IIdC0ABIUIsoEhAAIfkEBQMAAAAsagAcAFwAfgAAB8yAAIIAHIOGh4iJiouMjY6Pg4WQk5SVloySl5qbnImZnaChoqOkpaanqKmqq6ytrq+wsbKztLW2t7i5uru8vb6/wMHCw8TFxseLBk3Io27Mon3P0tPUgizVjDmKOUe6fNibE+CWO+Pm5+jp6uvs7e7v8PHy89Jl9C30gwn5gnv8/wADChxIsKDBgwgTKlzIsKHDhxAjSpxIsaLFixgZauAXIqPHjyBDihxJsqTJkyhTqlzJsqXLlzBjypxJs6bNmzhz6mRo4J8XVXqABQIAIfkEBQMAAgAsDAAbALwArQAACP8ABQgcSLCgwYMIEypcyLDhQQsOI0qcSLGixYsYMwqEqLGjx48gQ37kKLKkyZMoO5JMybKlS5crX8qcSbOmzZs4c+rcybOnz59AgwodSrSo0aNIkypdypQmiKZQo0qdSrWq1atYs2rdyrVrVC5uMExgENOr2YQ8CHwwAaAtABMsCpw12nZFyCMnDLjd+3bCnrlD30b4SCHME7589WJgBBioAZA8MJgwoBcx4hqNfy4QIDfjmRJNLItuayJJZp4AFpTQiLfyaNE2Tu/czPgiiAGvcwPAwkG21BETcrjWLdq0b6aMuHggTvzI8aVHwjBnzuU50iQahk9/TcB6UR5c2G7/Z87A+1AGeccTN+BhhHmgSQYAAaJdvegJ731yuBHaPvMT7uWn0xlHNEGZf8TlUJ2AOd1WH4KJAWDAEB0wmFMBEkD432AW3rTICZc8qKFbJ5TXIU41BDCiZQY8kcMEZZ0okwUBiDiiDb3JiJMbB64ooYQnUKCjTiH4uNcHNfw1ZE4ZGmmCDRwuyeSKeoUgpJQ7sbCiCVdiudMNNhKHRQ0xemmTGkD4h4UGT5nZkxLSqbeCGm4CxYB4xB3gARea1BlUDcyZUAMPfg7VwWsGwNVmoUNx0SRiEpjIaFEjcMGCBzl84AEGFNQ2aVJnKOHpp6SWauqpqKaq6qqsturqq7DG/0rQHkeEcMIHuOaq66689oqrBJzKKpEFA+CgwLHIJqvssswyK0MCzrmkwZAFLNBCJ81mq222k8iwQpnCCkDBDtuWa+6yJuQYLkFdBHHuu++GsW5BJ8Brb7kydDevuBVge++/zG62rw0AF7xsGfquW6/BDB+72rwJNNzwtPO6K7HBIexrwsUFt4DZvCFwDLAMna3rhgwi3/sGuK8akLK9FO/rRhkvnxtEgPsKcEPN5ZbhRs4EDYAyz8u2IMXHQA/EgMVEI/tByUkTNMEHT+BQwdVYZ6311lxLIUUQBgyQsEmERm322WinrfbabLft9ttwm3nEG4hkYAgJRAxhXgQ3vP/RRBRN1AC1VEcAQkgkcyRuyRyHGJHAcREsgAAiDUxR+Q8weBAlVGXoUUfioLexOON/yIYBIA00gMjqqbcOAQZQDSBEJJt8DvrtoBuSWQ0+tO6776tLIelRFPxgxxx1JI/78msgAtgRX/wuveqrIwDEokT5QMby3ON+COxnBTD9+K37IO9QTeiBePfsJ97AWRH8QP78iBCB308DMBHJ52us0T73dYDEWT4wvwKqLghjw8kEfMAG2/2vfXQ4X1d2YEAD+qAJCaQJBIyQPAc+sHuRqIJZiFDBAq7uCwCqiQdmEAn/ffCBddjBCEtYQURIIVouKcEG6PDCHh5CAmaRAg3/DVi9IGDvJEhoYA97mIKz4GCIJlwdIhAQqZMAIREdXOIH60CDs3ABijREBARi9pEmCGENHfSgFrtXBynMpQxgrOHqdrAgjWCgAZgAnRrXiLvFrUEIgLkBAuJIQwQMoUsW6QEa+NhDS6yhEY8BjATkR8ga+mAAF/nDIRi5xEac4DRNGGQlo4gIHFRECHvkZPcOIQSkZSYEJKTcKAsIgYn4QJUfPEQiBHYcC0gABrM04Bsi0gQe4rJ9XuhBfo4whB9IMZjSQwQQG8KEY7IPEw0An4C4UAbWQfN3MmQIFwhhTe4JIQAUIUAQEEECHZAABp/sSQRw0AMEIEAMEthcRFhA/8Jv+u4HdUxIGIxZzsQlwhEUOUIZIAGFF7zADGaAAhSE4AGdEEAKOkCBCDYqAhQIYQeudAgHPjA5bwaTBDdgCATWV84UKJMiGrjAICBKUzMM4qac+IIC/6BRjvpUBCTQpkS4kABnfpMEEkxID1jKRxcyzgUsqIgG9FDTqtYUEDapARN+ylUR6ECEFZlAGRQhy1kmFSEG2CQuI7GFJlxEBFCwqlwHUQaalIAEXe0qE3A4kRGw4AtljSPlUrqQI3gBl34w5UV6MIiHyrWqgzBCQFsihbzm9aUWiQBJK7m6kCJEB5Ro4RpTgICMsAAMj30sFIggEy64wLJdjYFQK9IBKf8YFYwOUJdCdnAI0fYwElSIJ0Z+4NjUWlUHMhlCT2H709JqJAQQACNSI7KB/n1wDZHQg3Ax8gQnGPexYOhCRCZgACLYUwplICND3rBc5nI0Bme9CBB8MAWTzs8BZWuIBhqRyuV5QbEdGcN3H5sFzx6EAVWIQSGMoIIGF2IGX1BvQpDgXr3q8yIEGMLkLHi/iAxAD//D5mQxsoMlDFiuKehwQkrggkcUosEqKISMXyyCijKkshXmKoA7MrMCAgKTFHEDE64wB0f2zxKWoIMQgPwRqp7YqpAwTkJqoAM/WNkIWM5ylhMxTYWUIcdcpYKBMYIBMThTitVbwIUlooEviAD/DZhIwRZ+0OWPEKG4T6ap7hRCgQzI+MpaDvQMZmsQHLQXzCLQaUgqMYAFlEEMPcBBAH7mEQocESRHgESeq/oCRSdkAVYOdaADXQjnJsQNVED0T22cHybEddM0fcSYB2KIUAN61FguRCKYjBAcq3qjPhjcc5rghZnC2gwv8MFCQqACW/sB11kuhB8EsRAN6ODXG0UBQt+jAzxvWg8qPogUFgztUVvZ1AkJArY3mgEpPwcHx6ZpCsTAEEmQu9xatnIGGMKAra67rtYpwQziDdEtNMQHKsB3oK28gYZ4YN1ejepzfPDqY6NBbwzxgcIX7oeGM2QRCIA4a48TBi0Q/AUk/3CIxjeeZYY7JAQxWHcM3OqbPxDcDGiYdUFWzvIsUyEiSDg0mH/gmyakgOBQcKPKe67lnzukBP7+NQrQeRoU3FwPhE4Iz5nudIcAAeJMkLBX0mDsY0PhCRLZes+73hAO/ADbGt2xWQiggrLDGrlpZ7rPJ9KEmGNbCGLfig+8nWc00Dwiamc52x0CA5HjrCsDaMTJS2dLvWN58Q2ZgBDWbYjtcoUEN7cCr5duecw3xNe/pnxXcHD0eKcA4JUvfUUY8Fq4B6ErDBDBzRPhbsRb3gimb0gTIO6CcF9lB4R/cgrASpHEbzz4DIlAyNcdTq2goOKwRsFFnK9w6DNEA+tGgf8LhmeVEHiB4F7wfN5lf5HGrxvtWekB9jcNA4xwH9/eZwgGro1tuVcFAfP3ZIUQX+und/nHEGmwbp52FYiQfMY1CFCAWRZxf+V2gAtxB1GHaFiVFfAGa4NwARpBgdBmgQtxAthWfVdxA+fngCiGghP4eySoEByQCTSgao9jfQ2VZy7QESKIazGoECGgauO3FWWwaYbHgzDoET2AaMynFS7AgjW1BAtof0nYEQSQATn2B3yVFVM1YFCAd0jIfh2BA/wHWzqQdVhxAhcQgBD1Aimwgx/Rg6P2gwzRBFiYVyiQTXOxCD8ABktQcQ81A00YhgYYEhpABBnlUyhABVKwZl2q4QGB8Ac6YAhCgAABsIWEyHUlQQBNAAj2VAYJ8DCs4gP3tnEuFzcHV4oKd4qouBAw8Gw9Z2Vw2Ipepor4ZmUpR4sKsQKwyHJWJoG6aBAjcAHOhm8Jp37BSBBSUIzlpgJMkIwK0W+2Bm1+oAJ6EHjQKBBHIAKiNmoxlghUl40JYW23hmVWZo2HJ44JcQQQMAN+MGMvlggNQIDqeBAsUARF8AOK4ANvYBfeERAAIfkEBQMAAAAsLQAwAHEAmAAAB/CAAIKDhIWGh4iJiouMjYVJjpGSk5SViweWmZqbnIMgnaChoqOkpaanqKmqq6ytrq+wsbKztLW2t7i5uru8vb6/wMHCw8TFxsfIycrLzM3Oz9DR0tPU1dbX2Nna29zd3t/g4eLj5OXm5+jp6uvs7e7v8PHy8/T19vf4+fr7/P3+/wADChxIsKDBbGoOKlzIsKHDhxAjSpxIsSKwNRattbHHhoQGekMyihxJsqTJkyhTqjypRIg9IytjypxJs6bNmzhz6uSEw56IeizQ1Cuzk5iZemnsffRZtKnTp1CjSp2a68wWqrooYI0K09AAdzCEBQIAIfkEBQMARQAsAAAuAMgAmgAACP8AiwgcSLCgwYMIEypcyLChw4cQI0o8aGCixYsYM2rcyLGjx48gQ4ocSbKkyZMoU6pcybKly5cwYwp8IrOmzZtAburcybOnz59AgwodSrSo0aNIkypdyrSp06dQo0qdSrWq1akHrmo1WXGr15AeKHwdS7as2bNo06pdy7atW4Jd38qdK1cA3bt48+rdy7ev35A1Gnb5O/UE4cOIEytezLix48eQI0ueTLmy5ct8GTX5oaOz58+gQ4v+zOTHgMOaIrjBoKG169ewY8tuPeEICIZvVNSpM4f3nN/AgwsfTrz3biM4+o6o8QEAAAPOo0ufTr16dOgmJKhByKWBKuC7i4v/Hx88/KENYvNyWDHdgPv38OPLl1/dxIQRBQmgEEW+v//heuQFggfWFWjggdKFwANBf/zn4IMI3GWBBAhWaOF0EwzkwSEPdtgfHU3QhcGFJFpoQAQCueDhiuNFKBcITZQoo4EGjCIQGizmOFwKe8jlBnQzBtleExHUwKGOSM6xBgRyjSjkk9IxwAJ/SeqojAhysQflllwMQGWVLOryhVwUbgllBxqAqaMoLsgVgplPGkDACWyoySIdSchVA5BwlugeB0XMYOeDlvyGpVwUDNGnjAacUEkRRAzqYKFzSEHXm4uSaAAXAyUiqYMz3MWACe5lWuEJZwzUxBKf9jfIDXj9/2gqgjmkN9ATXvjW6m/hzZFFTnl1QCqfsz7n3gcEHHQCCruCt5sQIe5VgCwBEGuqAQHcAGhCQ/wBhh10hCvuuOSWa664mGiRQXJ/EXDDCidgIe+89NZr771Y5HBCCDUU4BABbrAQwsAEF2zwwQgPXAJmDDfs8MMQRyzxxBRXbPHFGOtFARA+/MAEAmV40NYiJXgQgsCgbOsVA2XokQIUZsT8giczDJEWCBJU0AMEPEPQww4s3KZVECLAHPPRR6fgYllu4KDA01BHXYUbVrGQQQovIK11zFB8UtYRFUQtNtQymOBvVEn40IjRW7ftw1h3OD323AqUIYEFT/UABtttt//tycJerQAB3YRLgQFTJ4iAdd+MmwHF21uBIMPghBMexBFIsYCAGYOk0HjjAW4VggKUV063DB/kOZQbgDSyxOewoxHCVkOYbrsCUgyg+k9IzDDI77B/nkJcVlVx++04aMBIT2Ho4HnwwQ+SwFZBHH88ALvXdMQUaAwCPfSenKaVCdYf30MTeMuUhhZ8f/85GF41Uf7tEDhQxg1nt9TEBWS0737jbdoKBeZXvqmx5ARMiBnw/ge7QQThKwYgYPniYKuS1EBtWWPg95gwlhKUQYLWK8MK8ieSHSTCfxpk3Av0EK2vaEAGILTeDg4nEgR4IoMpDJ4exEeWAXwwhsdroUf/mIDDHH7OE0yg2llqUD0g3m56HiGCEYOXAhQI8SwjsMEOnGi7KHTkBGiYYuOWoIIdvIUCA+gBFwnXAxtwBAFFFKPMlkAIBARmLhR4AgzXOLY4bOQIepBj25jwAYlQIAA+8EEDfNADHtYEBEMIQhl6kIYbLGIiTOSj2GRQQYuwwAuCPBoULmCziDAgDXqwghFWaQQrgIEENopJBAKBgAbY0pYkQMAQMBcRHoTgh5psQQc0IoVQxgwMZpRIDVzAymauchmJKANM3ACDW1rzljBQoilPsMc1toCGGNlBKD2BCA1MZAIxcKY6SUEKJLiEC4q8pjwRcMWHcCGCfATnRZqQ/wUxpkAHErhIBlSpTmeyk10qOUI15clQH9zBImeogdycOMyMMKAQU5wBTS6yg1MUtKDL2EKyVBIIhpq0AW/ACAh+GUMIyICXGflDCqFgBUBkBAMz+KhOLZUSBsTzpNdEBOAuQgADdLN8DnDEgjSSgOe5LwWIcKRFJOEHnX6UBCqRAFBN2oONTOANgpifA8zJEUT8zxAr2EgT9KACqxZ0BipjiBs8sAMIECEBVRhqQ5qwVYYiAlYbkUBdreeIVHGkBoEMXiE2uhEmuPWjKuAUQ5LQBBKIAAUiyKwIqFCGOzIECH1tqNA0EoEwHLVwku0IC0QQR6S9gBA+gClTCfpYZ/+qQJsJ4QIC4DAGzGpWs3+Y3WdDy9BScoQBCTBdEDIEkiMgwAltQ8MfANsRQ9S2oHog4UG4gIjfelezQhCuQhxB3HmmliNuqEInxNaJMpxgtIApgwsK0Qg/6MAH4u0IEmh7XVZyUCEFQMB3BywCF+j1IAEorzx56hFGYEACl0hAApogAQakJAmDEQkD9NBfdUpTIR8gMIGZpBAG1FLB1pQqXxDQYWfOALcG2UMDRDzgGJA1IQZA8S1J0IMM9+UEbW3xKq3QVYVggMYEZjBCSnBiHZOgnnn5g5BZKQIYGyQBSB6wTRfCVx3b0gfaxcsTprxKFSA0IWXI8neXlpC0edn/llDUyxGEQGYjUKEhPVCzd3/QkBC8uQF23AsR+NvhRBiGIXnWs2bZnBAL9ODPZ6YLC3JKZsghWtGLdggGEPFmRIQhLwggdH/1YGWEJBrTjFZIIEjw5i3TRQJBnrIjHnJqRac6IQT4qY4PPRdmktkQnr00pkVw64Sc4M8+KLVaDEAKMlsBygmptZ6LjRAeEOHPxm0LBS5QZ6xCRNpqpjZCwsBpL//gwGoZNJkTEdBvD5vYEpECpA27lhtweMpgELep363vg7jhB52mrlp8UOcZCNwh4M5yvw+ygD/DgC1AiLWQHyiRhCN54QZx85uh/ZUkMKHZU0ZBmPHMb4uE4c8I/zhvWQJRZxVk293DxrhBQPDoNxOvLL6ecgYuYnEay9wgJUB59saCgUSsW8W0LvlFkPBnkZkFB2Agc5Et0nMR/9wgbmgyijl+FRiQ+QIHj0jVCXx1g3RZx8ksi9dbvIxlRLriSr9IAXRd3rSTBQhCXkYAMTL2AZfdICzwcgCWaPQOnyIQGun7mjViAUCgGBFcv0rOr8vnxMcdIxhAsQ9QdJY0FPrTlo85R96g4MhrBRG19cMjPhx6VHOEAnQ/KQw6WZYaWNetYGhARxTv3b8jZAgIeMBWEaBssoSACqJuJiI8wvvf+h4hA4j9jgFR/LJwAAZbELUOXt56W3+kBDhAAJWrd4yAJ8C3LQNogg/+wP4vnMDCH2l+pkFCgRVs8a4ekO3E5J/Z52cM5q73fyWRZqIngCRBNMNmaQYYEjfwbmmwgCSRAYpGAyiQXxD4EVimZzTgfxe4EBHgA3qmA8HWgR9BAUyQZTHgdCQoEiXQXSKmA6C3giNBATtABb6VWShgCD4QdjIYEhhQBkjwBTDQA0PAg2YREAAh+QQFAwACACwBABIAugCvAAAH/4ACgoOEhYaHiImKi4yNjoQWj5KTlJWWl5iZjpGanZ6foKGdnKKlpqeomaSprK2urKuvsrO0lbG1uLm6gre7vr+pvcDDxKPFx8jJysvMzc7P0NHS09TV1tfY2drb3N3e3+Dh4uPk5ebn6Onq6+zt7u/w8fLz9PX29+xc+OEMAwD73kYIAvAPILc4Bgz+WqDQG8NdORpKnEhxHYEVJipiK6ixo8ePIEOKHEmSHMeSzU6iXHaCwcqXMD3JibnMDc2bOHPq3Mmzp8+fQIOe6yJAJUUQQk9JSMq0qdOnUKNKnUq1qtWrWLNqhUllq9evYMOKHUu2rNmzppagXcu2rdu3cGLjyp1Lt67du3jz6t3Lt6/fv4ADCx5MuLDhw4gTK17MuLHjx5AjSwvwRi8JyZgzw1WgufMuKXpj7BXhubTp06hTq17NurXr17Bjy55Nu7bt27hz697Nu7fv38CDCx9OEg68QAAh+QQFAwABACyfADcAAQABAAACAkQBACH5BAUDAAIALAAAEgC8ALYAAAj/AAUIHEiwoMGDCBMqXMiwocOCHB5KnEixosWLGDNKjKixo8ePIEN+5CiypMmTKFOqXMmypcuXMGPKnEmzps2bOHPq3Mmzp8+fQIMKHUq0qNGjSJMqXcq0qdOnUKNKnUq1qtWrWLNq3cq1q9evYMOKHUu2rNmzaNOG/VAEAQIfXySorXoCBZ06deboPaRnx9yoCOjoHTy4DqUtYf42pUK48Ry8dej8CaE4KZG8jgnjnSPKC4TKRiVcyUx6MJgmoIf6KM16ziERLOY+GUoBUuvWdEhMQAuEaBPBt1s7gZGaJyLMwVnX0WOieM4Gm5IHp8NErvOaPShJT76kyJHrM2uM/96eHE0a8DJnkJceacYH9C9xrN8eSQdl+CyNIJ/fuo5n/CsFMAh/weG1iR5vAJhSGUsQKN0hGVCg4EknzLCfg6WJ0sCEKPmABobB+cDhSTe4cNeFIA5GhwYjniTBFpGkSBoTLaKUhhWQoeggGt/VaBIoRWSxmYxz0BGbjyfZQMUhRM4RCSBIpvTBBU1KEqVKRRCSYiRVXKmSGw2MR+AVLHqpkgY6MDlfHTOY2RIRhcynSw9utgRCEZyQ12adLmHwA3C3LYEany+FYEiMrKUwKKEwlaECoo0dMsMJYlGKlRpl6LBEJGsckoILXTJ6kxthBBAGAaKmquqqrLbq6quwxv8q66y0vqTECTCQoOsfJPzBa6+8+rprsMIKC2yvJPwAgw21EhTADFBAYca01FZr7bXYWvuCGTMkUOsRCGQh7bbZlmvutS9AkQUJEchKgQtLnCvvvNYuEYOsCEhL777zQgHlqyt4we/A8qJhXas/mEEuwQxrW8SriTQs8bVgaNKqG55MrDG1frGKgb4bS2yHC63eEG/IIpfR6gQoT7wEAq0OQMjCLfPrRQGuCgFyzftm8KoUJ/O8b6iuXhC00OYuIUSsEliB9LkvaFEmrE0UsgTNT08LhRGLxhqCC1Bs+8LYZJdt9tlol00tFJ8cTOsHCMxACBp012333XjnXTchMyD/EEizBVFwhAaEF2744YgnXjgXgDfu+OOQRy755JRXbvnlOkXwgQNtAZLGAGZZwIAGJbjRgRojQJUEDob4AYYVRvjxSCE6eCCWBRg0YcDuAABggAduWNBUABlY8YgRyMfux/Iq/OtVEif0Lr30u0sgYVJ+qpD89txbAXNXEeQw/fjTr9CFUQW4ogfs3LefPJ1bLRI9+fQbMMQEqQu1wwxguO8/8ipgnFZqYAL6GbB3WOiRTwaQAe3974FE0IoFTGCAA1rwBEngCQa+8MAOIk8EWnGD7yxoQQPY4Hw3OUIZ9ODBDvohEVOzSghISEMA5KAGKJwJDnTAvhY+EAzvwYoE/2pIQgNc4gRcUEJMWEACB/qwg2AYQlaGSMQasiCHK2GADxJBiid60A8qYBZWWFBFIgbgBvlLybO8+MQ9YcUGZazh7prABZKI5AQuYKMXf6AVEFQwjkS0nkhCgIDl6fGJAdhKCP4ISCuCwCNcIML6DtlCP3iPKwwYggkO0MgaYqEGdqxIAmjQP0q28BExSAxXuEDBThLxAwqkSBGcaEoPCkGMXamB+FwpR1xKBAE9rOUDE4GAWHaFABLgJC+LCDqJlEGYHlSBC1QpFkZwYX7LPKABYriQELAQmu57hBUu8LezgKAGAWBkNsknQIZwEJzts4IeiOCGuYBgBes04JEWQv+BGMCzfQig5kMKcIIe9AAGYkgDN2vCgTB84AkJaEIJQukQZKpznQYwARYRgoFE/HN5YHCB7SaShCHoAAUoEIFKVeqDhcIEBCcogyAUQFOaymAFGZzIGUqQg4tm83oKSYAf/qmCGZRzIlxAwEqXqlIaCCFBM2GAFCAAgZpaFQI4YEBFCqCBAuYTAMY8yBOGCs5CwKAGFXGDIpjKVhHQAKowocAOWmDVuioAAmW4D0UiMMN8htUgYSgENFWQB71SxAdwaCtbaSDFl6zOrpBVgBQeWRFGEACbrjwAqhaSBBR0kZJWEELXKLIAEYxBsUylQYRecgK6RrauDhipRXjghl3/NnJ3OV0IMA/5iBmoDCMlyABqFbsLlxRACq+FrAy0ihE1DOC2QAjDGRoyhEOqwAe+tAgSUjpcthKnJRpIbmRx0ZEjSMCnJATCXxHiAzYy4QYdCYMOuttWFwivoiwwQBB20IQmrBchA6iqeOsqgxJ4ZAIfQG/9TqBEh7ghBsH0Xy4uMFqMKJW+bI3BZhcCgjD4oAG6aoCIEZCAdi5EAgIesFV3QFGLdGECXiVhE4DqEAy4IMLbkycgaJyRJnAXw0uNwX8HwgAFzEIRIk5ykmGAgYagWMV2baZHCvDcC76iIgyAgR4MCTvZ6QEBTQZJA4DMVh0sYiEM+IKS15zkH4RZ/yEfgLJdpcBjjVCAiuPLAQbuaxE34OAHF9DDFhoAAZdmJAE/JjNLF7KIHrD50Q0o5kJWIGe7NhYkSjgCBgawghXYYAI480gEWuyRJFBB0UyFK4Ah/WgS4GAhmKq0VcWwm7RAANVLdcGQBSAJVkPawAqRgKxr6oBA8LkshsK1SlFwHoW44QG+ZvMDZqMQApRh2HclgmHJ4gNlq3QWu25CtB/dMYWEANs0lQKpvdIEb4sgBr1ZSALGzWb4KQQEyMU2BCw1FgZMwd18ZEgQ6L3mCDJkAujGq4nBIoVEkxkFQtg2QqpAcCU7oCE8eAK6FRDEsGDg1MpGgb0XQvGKi/jiDf/hggzQLYM3f0UM7hYCcxlScpOjvCEncAC6gxCWG8TA3RVOSM0rfnOGJCEUG8/uVi6s7AbsmiBDJ3jRGXKDFMt6BzPfigfcjQK30dzkJ5dIJaqQcIFmRQ2fcPd3HxJ1ek+dIRpY+bAh0IMNZ2UHDiezEPbpkLaP++0MCYDV5QyBJjBCKxMAOa5R8JmJ+D3agEdzD/TdA2BjBebedkGtJfJ4X0f+xETQuawhUG6reODn3r4058HegM/fGwmiH7aUqVIABOQdyEygrONZ73qFaCD2skZC1qWydW/HgN+7B3vvE8KBBGzc7IBxt4gs0nlWLz8hBNh4BXQflRIIwduGMHT/Q6oP6esnxABUxbbSnRIAd7/6IuR/tPkRwoAyDB7KK6AKErzNhM1XJP5sNn8Adn8qFnRNUQa4RgMoEG/wx3sZwQE7gG0GyBTFp2g08D0YAYBrJoAIUQPYln9T4Qbfp2gxEAUaoYEWpxEjEATDxnfRp2jOk4EOqBEqV2kVsFFQMQSKdksdgYJJxoEJEWdyJnFRUQQYNgZwQDQZ4YNh1xH4BmU7EGpVwQUkgGFW4hFM2HofMQDXJl5lMHxUoQEIQAPD9TAfkYVAqBATkG+uRVNUhVVgWBUWUAYZkHeIgHw9OIMfQQBNIFNtSARlcALrVhUaIAEH5QM+gAQhkFtnqIcgfVEAGDAECZAAHhACddYVtJASaIg5CTFwyseJCDFvnwiKBiFuYPdbpEgQNUACYKd6qSgAjPBhBMeK/veKAuABFUcCI2eLAgACjkZvP7BwvBgBsuhriECEvHgEgOBrCABfvIgQahAACMCKSZYsFYBWz+hsECUFZVAFEoCNWBEQACH5BAUDAAEALAwADQCwALQAAAX/YCCOZGmeaKqubHtabizPdG3feAvnfO//wNsuSCwaj7QhcslsEpXOqHSqo1qv2AA0y+0Gt96weEwum8/otHrNbrvf8Lh8Tq/b7/i8fs/v+/+AgYKDhIWGh4iJiouMjY6PkJGSk5SVlpeYmZqbnJ2en6ChoqOkpaanqKmqq6ytrq+wsbKztLW2t7i5uru8MgAAvcHCw8TFxsfIycrLzM3Oz9DR0tPU1dbXbw3Y29zd3t/g4eLj5OXm5+jp6uvs7e7v8PHy8/T19vfLA/j7/P3+ndr+CRxIsKDBgwgTKlQHDEjDYQ/BYTAoQRwDChfCRVjIseOdDB4LVQg5aiTJkyhTL6pcybKly5cwY8qc2cYBBHE2xS1QoCAcgQA9xQWlSbSo0aNIkypdyrQpigkPHoUAACH5BAUDAAIALAAADACbALwAAAj/AAUIHEiwoMGDCBMerBEER5kEECgonEixosWLGDNq3CgAR4wrdUSJrJNlygSOKFOqXMkSIZ5Dc2LKjFkHSpqWOHPq3ClgxsyfMiP14Em0qNGELoAqnXMIxtGnUHU2obNUqacSUbNq3eizqtIGW8OKTXiCqlegdCSMXbvWwdmlQtjK3YqgzlugdaTM3fsUwV2lKo7wHcwTxl+lTgkrblnmMFBMNRZLTjnhyhrHMS3N+TS580YdmDPPoYPDs2mLYcyGnqPntOuJVFbHjFTmtW2DGgbJrgPmtu+BRGTHTPzb9oREwqGEKX67ivA5f5jfRiH8UBPpr5tcEZ4I+2tEwiPp//Vumosn4WgYkDcN4bmP9Z4JaJFtacl1+JOfRFqtmQr+znrYtdohgfwnmXa7tWbgYgiIItx4Cw7mARrCOUFAhIS1J9x7GFYkQQ9fwABIDwPsZAFyss3Q4UQDUIEGFC+YYQYUWRjiiE5lqIbZFW6siJAkXsQo45AzDqIDCznpUMeSmEVygo8GNbAEkVSaMcggaCCgQUsa0MGkY5EUCOVASJghZJUyXiljIRCq9IOAjh0SwpgCDQAJmnjKCMUMT6rERSOhpSAYnYBAkeehWbiAgUqAhOYCnQKoocehlL7gBAJYoXRBnGJAeoIXlIYKRSJDcRSEjmddAKkAMAwS6quDGP/yAUc+3GWJJ8tB6sOUr77qBQJzZrQIAjB5lcIOqwqwQwq9vvrCEoT0IFFGZUCxiVKiXKBWsm440ey3iSygERc+GEFHJJEcsoQhNyU7kBDfNvtCCjpsm5EHPRCRQADuFpRAvPGm8MeW/bY0g6sA9zoImwWz9AEYCSs8yBI0GNCwSkFoYWjEznryQwEXozSAEDBy/OoSHIbMERGJ8GoypYCojBIGP7z48qFonCQzRyHokMXNeEKBwM4pBTDDElAMsjHQZuihHtEcUdCDEUsgzLQXBEPN0QSI/My0GSnUpnVKEmyQNNMQjL1SGZPenMIQaq90hA9OLJ0wJDrHrdIEf4D/GnFcejN2gd292oFs4C110UMihOf5AhSAI45TCTCg4Swh9kqOkwZMzCjjmUO+AEafmu8UxBYpgD6jJ0KUWDpRIATxhxbMpmAEIha//hQXIXwQwrS6By/88MQXb/zxyCev/PIXD9CDD9BHL/301FcvPQw95B28B1QYYYUf4Ksg/vjkl0++Eeinr773RmxwX+kUAKICGH6sb//9+OePvgo+gCx5AT+wgv4GSED8WSE6kgNEARfIQCOAT2x6Y0EiGkhBAuohWHHzgQAryMH7kaJUcRNBB0dovy3o7Qi2IKEK0UeKBMStBhtc4Qgb8YO4YSCGMuRgI9o1NjfkkIRakETc/zQwgx92MBEg0NsfjNjA+hmhhnp7Aw6ZqD8nwi1wLqAiA5kguRDMQAVa1J8VZpApxEkABVMMI/qssIXMIU4DAVSj+qyAACQFbxRFYIUeEqGHPvrxj4AMpCD3qAcdFOF9w4sAA2owgUY68pGQjKQkJ1CDQTHvkpjMpCY3yclOevKToOxkAQawAylAQApDsEEoFVKAADQgBiIYwxhQgAJD/ACDqxzICRCAgljKcgwiCGYs2xTKEgBCBL0UpjKVSYRVLgIHOkjmMqcZzNJ8EggZoKY2hRmDp20SAz6A5Ta3iYLDZdINSBinOoNJgkxSIAEuWOc6hdCBSw7hB/LMp+uSN/8BGOTzn24k3h16IARp/nOchojM8TzgAoMedJwZOB4LEPDQg36heBggQkUPigLS6Y4AO6DCRv9Jg2YKLwp/GOlBG3AD4VVAnCqV5xQUqjsxxDSfhoiI8J5w03XGoI7Dw4AOeqrNGKDgE4gMnhSISk0UUGEH3hReBBrA1GkSoaUZAQELEvAGJOBgCGXcCw8mYIMBDMAGDBhBUUoghKrKUgTA0ggIJIAAEpCgAXjFawXCOhYLYGAIAAisYHNQg0XwpAlVDWYGkmoRBkAgr5DN6w8YqxUQNMEABhCsZg3gAf/l5ANVjUEZLIkRBpQisqjFK2WhAoIPaPa1gTVADvi6khv/wHSkvYTBojgig1qkFrUkCOhTunAC2BoXAE3gQE4KwISbIiJXHPHAAxTxW9T2bysYOO5xs9YSm47UBS5Mydyq+1sPaIUDTdDucT3LEgncNp8x6AFNUZIA8v4WCVrhQmbVC9sV4OihPtAeSjSAAPum1gdqtUgSJiCBJjRhAL/DSAeewF/YmgB4LCEAVddJAyZAd20GTm0r7lARDmhgBwpogSAUAAEHlOEEGFYIBhZQYdh+IMEtcQMvybkBKUQAJwMI8W9jfJAI3KIFCkiykh3gAAjsoEcUwcB+a6zZ+bJEDRUYqjLHAAcdiAHKOJGEkFGLAOUqRA1BULKa1ywDLlBE/wNUhi0WkqgTAgQAEH+gAhNggAParsQDY0YtCBFigQQgec2IVkAFkjCRCcQZtrjUCQh4UJQCFDjQeH1AA1Y7kAkk+tMK4LRAOJCDR7/2Qr/ZwV0x3QAS+IDIBNEEDkD9aVQnJLumFuwAzuCbCfyA1XglgQkm4lhaJ1q4BClAqXMNAAOA+TVIADZeJQFrgrBgxcZes6gF0gFmB7YJOD5NkKXdAPNO5ATZRnR4FWKBZefaALs9TQQAIW0SmHQiH0j3mtetEAJM2dQm+PFpArBqVv8g3grxgL7VzO+EMGIF3gaAKk2jY3IHwSIKX3iSG56QJJjA2yYgrWTSQG4EkLgiGf/XOMdv/e9HI5svXCO3fzGu8Y1fZBFR8LYB3DwZMZAbENU+SMoXvvKEuKHlVD7AB9g7mBCQuwHcpcjQ9V10hDBCAjoX8F5A4ANy4xcjU0931RFyhI+/OwACH4wrpY0AK0u95goYO0JCEHEWKGEwXLg0sC9+L7jL/SAgMDuzoyqXN5DbBzwHu9834mhvm3suIUAEuV+e8MVrxAKu9bbbw6K4w1tgI2HP9t8RwoWIz1ku45a2HTUSemOP/iAjgDizD6D1rTxW2oPue81ffxA1ePsAWPj8WI7wa2Ajws80331K6P5uADx7KxIg9xWja3mOFEDwpt58VJ5Q8ED74Pm6V7n/Smrg7dWHpb6YtqtHQV99jvAg83E+gAHMvxWnpz/37Fe+SghwAFMboPZRwQDFF2j7hBKtR2u853AekGv1tBY+F2jmlBIHCGoJmBAU8GjAJ3xjEX1j9gPaF35ExyWPBn5hIQXd91u1MAvbdhET+GkVmBAWkF5IB1seoIFrQQBFEGLEJIHtN37Yd1wmoAZ84Qa3V10R+Gc9qBJHAH+btQCcxXRyUQkJ4AMFt2qAQH9IqH84UQA28INAMAQYQGmL4QY2EARlcIZPgAFQmIXitxMccAQssAISgAFuQGemQQtG0YKJ9oLFk29a6El6qG6hNABwxy+gdASHtnAF2ElKIAULTadiJLhJLLBwgsCHxsMBTwABEGBsLVAGQbdJXbADm0hrMvCBnUQBaQZqZRCJoNQFYVAGkzAJatYDBiByuTQQDHACJ2ACBvABGmCLaxEQACH5BAUDAAIALBEADQCpALoAAAb/QIFwSCwaj8ikcslsCjnOqHRKrVqvWCM0y+16v2DnNkwum8/LMXrNbrvf8Lh8Tq/b7/i8fs/v+/+AgYKDhIWGh4iJbhuKjY6PkJGSk5SVlpeYmZqbnJ2en6ChoqOkpaanqKmqq6ytrq+wsbKztLW2t7i5uru8vb6fHr/Cw8TFxsfIycrLzM3Oz9DR0tPU1dbX2Nna29zdoine4eLj5OXm5+jp6uvs7e6DKvHx7/T19vf4+fr7/P3+/wADChxIsKDBgwgTKlzIsKHDhxAjSpxIsaLFixgzatzIsaPHjyAbotA0QpCBkI4K5FOJD8SHWicIHUhowARKZwAY3CwiItaCNCoddgodSrSo0aNIkypdyrSp06cYQ+wjAbWq1atY7SjIyrWr14YavoodS7as2awl8AXYFAQAIfkEBQMAAgAsAAAAAJkAyAAACP8ABQgcSLCgwYMIEypcyLChQQ0LhMwocwODw4sYM2rcyLEjQUBG6MwZKYqSEwQ1PKpcybIlxxoz6lAaSZMmmjIuc+rcuZKLFZkza9aks4Cn0aNIDU7QU6ep0KdLmiSdStWlj5F1nmrdUrWr14xHyGDV+rROmq9o0x58QrbtnAZq46q96larCrl4vTLJWldoFgp5AycVwrcvzSspBSveGaOw4TlXJixG6ybAExxDdkTg2fjxYcmTqwb6hAYKJjt2Bqnw4UZnZ8+QQYdO6iPFCzO4c5uBYuVJzteeI89OqgOK7uO4U+xwCfyx8OFGES1BTj1Lj5bNDT+HrvOEF+rgC3H/YZm973buLoXcBo98iQ/yjrXLRs9yABr24NGEWFm+7nn6KklhHH7IvfAHf/GZNx+AHgEyIIHHDVKFSv259R+DHH2xHoTHbcGARxW2dSGGGimwIYe6XddRiGSNSCJGaUBxIopmQFLCign6t+CLGZXQCI3HQfEDjrDFxqNHJMxIIxqBcMSiVi4e2RAL9wGpWwxO5mjhjlJe1ICSKA6Cw0ZPPhVllwvVYIWVus1AppYicolmQ0iwmdsLKmJUplBnzplQCaaAySEYNmS0Z019+onQEIMMYucLCBgKZ4tyKrqQC47a6YkEek4KZaWWJnSCE3biJkKnRSYaqkE+CAphChM6/3ToZ6tmREAhpZqRCGANzTqSqrUSJEWuZkAga5FGBnsRAzPkakUYvSILrLICNZFCqVDAxVAM0oJKrUExPGhlFlItpAOymLT2rUMnQJKrEAxNgSwnia3bEAzTlZrAQl94WtMac+hxFAAkhqBHrrsqFIa/QhVxVLkYDpursQolAtshAzAYwg499CBFEBrwdMG7CyVwyGN1RGoUFi7dgIgehcRciB+J/DGETkF4UiokRyz0w2Mq1AtdD3r4YYQKSCNtxNENWORSA1A0amUKGStkQQN8RRKJVlYYQJ8PfsS89NhkG6EHIEJ7NAEaUgOZAsQKFQFFHVoLdYgLIaMXhAp+KP9dNtmFGIHCvizB0DaNWeTNkAZfEEJHJJQcQgYTAQCoAcwq/D22H5xzPvMG+6lEgB6Z0mjEhxcxEsgPJPTQBYZIhJ255kZ07nnMifxwo0dl5IviC1PYKxAIQhxNO+1+60FEzx1R8fsgWSwnPAuJHG/92HwbMiZHBlQJ4QsbCC+QDLNff3zYhajwB7QbQSAue4WwIL4APRht/vm2J/KF4hdxAIPO+PED4cRngMDdj3a245wRZpCGzWQEB1bwnW6g4AL54QVuSRmdAg94PxXEAIMNYQAEtoCGLKTAC1b4Q+XmR5AGbJCD15tZIRpgwYysYAdSaIIHWGiQJnQOhtdDmsz/fJA2HqqECukDovlsJ4I3GLElK9iCEpfIORUEjgk7fKJKFjCDpSXwh1PcIOcSUQQQaNEjGiBB7b5ovymSjXNgIMIZAzSGR3zRjWXznAqQMEePlKAIerAiGPHoxc7pYXd95IgGEDGzFxIygQ5LpEc8oIOjlQ+PtjNCDHglSY5EIA0X8BshyZYIRHaSI27wQfVGSTYVOPGUKmFBJixpQExKD5YqSYMQROnGQpwAlywRoR6OdscOzkBdwFxJKhNRTPOpgATJzEkVXGDHQV5PC76JpkssgAMRxKyNx0MaNLWpEy6UIZDOnEHoyKmTCSAgc30rG9L8sIWqsZMnAUDizMqW/4gH3OCeSOmCAXwwg8ypYAs++ABAq8IADAxAAw5cqEQnStGKWvSiGM2oRjfK0YXuQQNB6AEExEDSkpr0pChNqRh6UIYgIHOiA/iBCFAggpra9KY4zalOcUrTH3BqoRHYQQx2StSiGlUEMXDdPUEACJoe9alQnel72LkDp0b1qkVFQayiOQEhYPWrRdUB/3BZBquC9aw3fWUy/4DWtt40A6hIJgMM4da60gCEkuSCWesK1i0AIpkl2CtfsbqFmwHzCINt6wWkkMwabCCxZxUCB6LpA8FClqhjqOlfo9kEy15Wp5lFwS+1iQDPfhanNJiqNjHggtMaFQUuGA87WcAE1//uFAUZ+CdAa1AE0yYWBSgggtMkqgEp/IAKOkiucpfL3OY6V7kb+AES7FlRECSBC9jNrna3y93uZpeTHQ2veMdL3vKa97zoTa9617sQDmjABJcBggRMyV6DdEECpeBFLWoxiwc04AfCra9BWNCDBijiwAdugIEVgQivCVgAR9jBDxqACAVb+MIK3t56LTAEBFC4whjGMCIQYdj0esAHIA6xihWMiCSgtwQ9GHGKV6ziEo+XAAuw8IhpTOMvkLcAJ54xj2n8A+Z1dAUQkPGQl9y0jrpBClNgspQRoduMgiABHpaylH8gW4yyAMVa1rJqLToBCHw4zFK+JUXdgAMW7xj/zUuuoUST0GE4a7nCGpZoCCRBYTtrmQgdoOgTfqBkPy8ZEF1eaBAMvWQZ/yAIaqCoB4TMaBUjogfeSqYbslxpSzfAB+sUdKdp7IMARJSiTB21hRVh4R3QtyEWqMEJPDCEJgwAdUYkwIRVjQhgIEIMw+2fBsogCAUY+9gBIIARB0BpRvuAuhcpQAJkcOxqK0AMZQg1WszolRA0G80V/kECwHsRNQSB2tZOt5y/ksWu1GDXfq4wInbw0ow8YRLpTjcEHDDWqrS7K4uAQaWJ0G+M3EAB+M53tfeNhNd9hWBoSYOdHwCMhKrkDlJQuMbXvRgAQJwlLoMzHqpg5I6cQOMa/1+h+BIw5RGXIdEdcUMZUK7wHZzhIl0gwARsYIMadIDbFzmAATxO9KIb3eMmIHdHkvAFKcOgyisxAM0V3gOgK2QER/DA0IuOBQxYfSEGcHBajlBgHiMACF9XGwSmnu8eFIAhXVjB0YvuAaUjBABbn7veAVDEjoBgAQiQ8YiBUQsEBEHZOcEB2/NdBh60VwJ7J7oJXMwgCkhgBzBAgA+kEIeSt4QFi893URRyBrlHnug5SDt6ODCCo3ShAqFPt7YNcoTTF90AhYLlB2JvbSmoniAnsD3Rhx7pTh4B3bxXgCCgbRA15N32Qw92H4eQ/GPv4O0KcYPwjc5xLU6g+sfOvf9CMLD9oq9AkosIAvgVsFWFaKD8RP9pH8Ow/pc35P3wBwD75sgAJKxfofeXf/qXSLsHfmXwew8hgPunRWS3ftLnfgrYR7iwfkGAfQGYfwtoRDWAfMlXbwuBf/CXgSxkATuwfmLnECBYfiI4PwOwdtVXBp63OBH4RBQAe+D3byg4g0bkAeu3A5SHESm4fStoLxu4fgUngxhoRBYABOsnBY6nEUEofEP4Ld9XfWKgAK+Wg0nIQwmwftm0EVFoe1OoLEnAgbHXA4gHhjooPgcHfswHhGsoPCdXfTtgdxcRhqc3hsEyh7HnAPymEngYeXpYKzWQfA7QJIAYh/aiBmY4dQ7gkGlIGIJG9AS8h1dQqIj2ogGxB4MsEYh7N4jBMgQOwHaTMHuKhIlJMVpxEQGKN3Um4BKeqHegmBM5EBgMUAUumG8yEAc5EYtzN4vBcgYnUILV1gJiEARZiEaoOD8MUAIfEABhJwFcMFk64YtHB4wd8YBPZI1Gh40ZxY1F540YBY5EJ44X1QECaIrllQQC2HfltQcfAH8G8IPqpX3bdwDnV188sAJhZ3tYgIDmxQNad3omkIYCtgiQp3cGkAN2uF48UAM5EAsmgHdDZwIhcGoPNhAFgAEawAIhoAFcgJFqERAAOw==",
        "encoding": "base64",
        "path": [
         "value"
        ]
       }
      ],
      "model_module": "@jupyter-widgets/controls",
      "model_module_version": "2.0.0",
      "model_name": "ImageModel",
      "state": {
       "layout": "IPY_MODEL_ab84fdc41bd24ca5821f4a21da49441f"
      }
     },
     "d24d8d84c4734890bfd8eeb60f42fc4c": {
      "model_module": "@jupyter-widgets/controls",
      "model_module_version": "2.0.0",
      "model_name": "IntSliderModel",
      "state": {
       "behavior": "drag-tap",
       "description": "Height :",
       "layout": "IPY_MODEL_b5edd3ac93164a5f967605cec1bb1c0c",
       "max": 1280,
       "min": 300,
       "style": "IPY_MODEL_910772f3302b4ad39cbd83bf84d2c537",
       "value": 600
      }
     },
     "d558ba669aaa42e797229e49c9a99c52": {
      "model_module": "@jupyter-widgets/base",
      "model_module_version": "2.0.0",
      "model_name": "LayoutModel",
      "state": {}
     },
     "d57a96e041c5460e93da9c47af6d83b9": {
      "model_module": "@jupyter-widgets/base",
      "model_module_version": "2.0.0",
      "model_name": "LayoutModel",
      "state": {
       "grid_gap": "10px",
       "justify_content": "flex-start",
       "width": "100%"
      }
     },
     "d6d96eaf07d24f9793a457d66e4b9f89": {
      "model_module": "@jupyter-widgets/controls",
      "model_module_version": "2.0.0",
      "model_name": "ButtonStyleModel",
      "state": {
       "font_family": null,
       "font_size": null,
       "font_style": null,
       "font_variant": null,
       "font_weight": null,
       "text_color": null,
       "text_decoration": null
      }
     },
     "d757eaae949c40929093641e3ed7d216": {
      "model_module": "@jupyter-widgets/controls",
      "model_module_version": "2.0.0",
      "model_name": "VBoxModel",
      "state": {
       "children": [
        "IPY_MODEL_c6e89144b374416f8a719ae720254d5e",
        "IPY_MODEL_deb4c9e78d61413faa802abe925d01e7",
        "IPY_MODEL_9e920ff1331e42d88b068c081d6aa4a6",
        "IPY_MODEL_4c1004678a6342ac854da31e6ac83a49"
       ],
       "layout": "IPY_MODEL_9389deec26b84c0eb5775ad1c636b6c7"
      }
     },
     "d80cb01da6f74132aca64e4aa7caba13": {
      "model_module": "@jupyter-widgets/base",
      "model_module_version": "2.0.0",
      "model_name": "LayoutModel",
      "state": {
       "grid_gap": "5px",
       "justify_content": "flex-start",
       "width": "100%"
      }
     },
     "d8dcfd4af0064724b3d8172d858930cd": {
      "model_module": "@jupyter-widgets/controls",
      "model_module_version": "2.0.0",
      "model_name": "CheckboxModel",
      "state": {
       "description": "Berlin",
       "disabled": false,
       "layout": "IPY_MODEL_a4aef81aae9043e0be87717fb8175049",
       "style": "IPY_MODEL_d9d7aacbf79246fabd2bdf6c8762c2cb",
       "value": false
      }
     },
     "d9d7aacbf79246fabd2bdf6c8762c2cb": {
      "model_module": "@jupyter-widgets/controls",
      "model_module_version": "2.0.0",
      "model_name": "CheckboxStyleModel",
      "state": {
       "description_width": ""
      }
     },
     "dd2059d550d74265988ccd903608600c": {
      "model_module": "@jupyter-widgets/base",
      "model_module_version": "2.0.0",
      "model_name": "LayoutModel",
      "state": {
       "height": "15px",
       "visibility": "hidden",
       "width": "15px"
      }
     },
     "deb4c9e78d61413faa802abe925d01e7": {
      "model_module": "@jupyter-widgets/controls",
      "model_module_version": "2.0.0",
      "model_name": "HBoxModel",
      "state": {
       "children": [
        "IPY_MODEL_d24d8d84c4734890bfd8eeb60f42fc4c",
        "IPY_MODEL_7f6f889ebda342d59b2356e273ff1012"
       ],
       "layout": "IPY_MODEL_31b477c6c9cd4e94818956e0866168fa"
      }
     },
     "ded1d544796d4a18b113d239b485fc49": {
      "model_module": "@jupyter-widgets/controls",
      "model_module_version": "2.0.0",
      "model_name": "DescriptionStyleModel",
      "state": {
       "description_width": ""
      }
     },
     "deeb3839c67b4b13b45c5ea6a3aeed9c": {
      "model_module": "@jupyter-widgets/controls",
      "model_module_version": "2.0.0",
      "model_name": "DropdownModel",
      "state": {
       "_options_labels": [
        "Fried2017",
        "Gauld2023_OSAS_content_analysis",
        "Gauld2023_sleep_content_analysis",
        "Custom"
       ],
       "description": "Expérience",
       "index": 1,
       "layout": "IPY_MODEL_acc268127b384abeb3125eef3359c11d",
       "style": "IPY_MODEL_9c9d722b8d5348beaa45fa052c128568"
      }
     },
     "e1eaf1bfcc11495ea78523a342b9bfc9": {
      "model_module": "@jupyter-widgets/controls",
      "model_module_version": "2.0.0",
      "model_name": "HBoxModel",
      "state": {
       "children": [
        "IPY_MODEL_51ba7d3d2c8f4ca584d0a1aa15bbca3a"
       ],
       "layout": "IPY_MODEL_d80cb01da6f74132aca64e4aa7caba13"
      }
     },
     "e23cc61928a14d63b4170aeef157f790": {
      "model_module": "@jupyter-widgets/base",
      "model_module_version": "2.0.0",
      "model_name": "LayoutModel",
      "state": {}
     },
     "e2e453cd8fb1451f9eb63062834733de": {
      "model_module": "@jupyter-widgets/base",
      "model_module_version": "2.0.0",
      "model_name": "LayoutModel",
      "state": {}
     },
     "e2fd14e271ba4337b362437dc4eb177c": {
      "model_module": "@jupyter-widgets/controls",
      "model_module_version": "2.0.0",
      "model_name": "ButtonModel",
      "state": {
       "description": "Save",
       "disabled": true,
       "icon": "save",
       "layout": "IPY_MODEL_e23cc61928a14d63b4170aeef157f790",
       "style": "IPY_MODEL_6e43de3f9a1a48d2a2a340c10839a1f5",
       "tooltip": "Click here to save the figure"
      }
     },
     "e4d02fa236b747dc80da3ae072315632": {
      "model_module": "@jupyter-widgets/controls",
      "model_module_version": "2.0.0",
      "model_name": "VBoxModel",
      "state": {
       "children": [
        "IPY_MODEL_c84a3b175db44b758fa7db5b9180116e"
       ],
       "layout": "IPY_MODEL_41a26d664e0648c399c69561e5c9253c"
      }
     },
     "e5838013b4f94917a51437b377e2b130": {
      "model_module": "@jupyter-widgets/controls",
      "model_module_version": "2.0.0",
      "model_name": "HBoxModel",
      "state": {
       "children": [
        "IPY_MODEL_c030ebb518d54693bcf07c7ba75d3892"
       ],
       "layout": "IPY_MODEL_429d8183a62e4a90a6a1e6bf31ecef88"
      }
     },
     "e72472c054934331b470e3f4caade3a8": {
      "model_module": "@jupyter-widgets/base",
      "model_module_version": "2.0.0",
      "model_name": "LayoutModel",
      "state": {
       "width": "100%"
      }
     },
     "e8a778238c31459daee16337f0cb186b": {
      "model_module": "@jupyter-widgets/controls",
      "model_module_version": "2.0.0",
      "model_name": "CheckboxModel",
      "state": {
       "description": "STOP-Bang",
       "disabled": false,
       "layout": "IPY_MODEL_12173f78c2f443dab36cd78cf20663c0",
       "style": "IPY_MODEL_a8da562d7db146e3ae43c1afc12bf83e",
       "value": false
      }
     },
     "e9f0da4e908d4aaab5695cdec75ffe3a": {
      "model_module": "@jupyter-widgets/base",
      "model_module_version": "2.0.0",
      "model_name": "LayoutModel",
      "state": {}
     },
     "ea6dec3c07ec4c719a9c1b03a1a35725": {
      "model_module": "@jupyter-widgets/base",
      "model_module_version": "2.0.0",
      "model_name": "LayoutModel",
      "state": {
       "align_items": "flex-start",
       "grid_gap": "10px",
       "overflow": "visible",
       "width": "max-content"
      }
     },
     "ed5cbf2e81014b0c9271f287344cf435": {
      "model_module": "@jupyter-widgets/base",
      "model_module_version": "2.0.0",
      "model_name": "LayoutModel",
      "state": {}
     },
     "f69361a3e92b41659a3e42df97ce270e": {
      "model_module": "@jupyter-widgets/controls",
      "model_module_version": "2.0.0",
      "model_name": "ButtonModel",
      "state": {
       "description": "Save",
       "disabled": true,
       "icon": "save",
       "layout": "IPY_MODEL_02f921de65ad414a90af9d5c003ab2dc",
       "style": "IPY_MODEL_a8c924d6461e41fd87debaa41b70648f",
       "tooltip": "Click here to save the figure"
      }
     },
     "f7662cfe56874010a10c7efd18a51e15": {
      "model_module": "@jupyter-widgets/controls",
      "model_module_version": "2.0.0",
      "model_name": "TextStyleModel",
      "state": {
       "description_width": "",
       "font_size": null,
       "text_color": null
      }
     },
     "faa4b421d9384b3294469861bdf8a75e": {
      "model_module": "@jupyter-widgets/controls",
      "model_module_version": "2.0.0",
      "model_name": "CheckboxModel",
      "state": {
       "description": "GOAL",
       "disabled": false,
       "layout": "IPY_MODEL_e2e453cd8fb1451f9eb63062834733de",
       "style": "IPY_MODEL_29683e2c70e14c818653def350a58cd0",
       "value": false
      }
     },
     "fbe32f6f88a043208e5c17dc5f35c61a": {
      "model_module": "@jupyter-widgets/controls",
      "model_module_version": "2.0.0",
      "model_name": "CheckboxStyleModel",
      "state": {
       "description_width": ""
      }
     },
     "fc9c86f6621344aaa20c7134ed9ca0f5": {
      "buffers": [
       {
        "data": "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",
        "encoding": "base64",
        "path": [
         "value"
        ]
       }
      ],
      "model_module": "@jupyter-widgets/controls",
      "model_module_version": "2.0.0",
      "model_name": "ImageModel",
      "state": {
       "layout": "IPY_MODEL_dd2059d550d74265988ccd903608600c"
      }
     },
     "fd6d5a39616c464fa428657bcfee60c1": {
      "model_module": "@jupyter-widgets/base",
      "model_module_version": "2.0.0",
      "model_name": "LayoutModel",
      "state": {
       "grid_gap": "10px",
       "width": "100%"
      }
     },
     "fd8d78b7afc14e6db10505cb35f23521": {
      "model_module": "@jupyter-widgets/base",
      "model_module_version": "2.0.0",
      "model_name": "LayoutModel",
      "state": {}
     },
     "fe5ed4c3ff2e4955ad35c21531f6f51b": {
      "model_module": "@jupyter-widgets/controls",
      "model_module_version": "2.0.0",
      "model_name": "CheckboxModel",
      "state": {
       "description": "SA-SDQ",
       "disabled": false,
       "layout": "IPY_MODEL_80e35ddebf9e400db951e29cd99415de",
       "style": "IPY_MODEL_3dd39fb2c7344b96bb6aa8d2bf206985",
       "value": false
      }
     }
    },
    "version_major": 2,
    "version_minor": 0
   }
  }
 },
 "nbformat": 4,
 "nbformat_minor": 4
}
